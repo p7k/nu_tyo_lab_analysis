{
 "cells": [
  {
   "cell_type": "code",
   "id": "initial_id",
   "metadata": {
    "collapsed": true,
    "ExecuteTime": {
     "end_time": "2024-10-09T16:07:55.725388Z",
     "start_time": "2024-10-09T16:07:54.763951Z"
    }
   },
   "source": [
    "from fontTools.ttLib import TTFont\n",
    "from PIL import Image, ImageDraw, ImageFont"
   ],
   "outputs": [],
   "execution_count": 19
  },
  {
   "metadata": {
    "ExecuteTime": {
     "end_time": "2024-10-10T17:33:25.882535Z",
     "start_time": "2024-10-10T17:33:25.870556Z"
    }
   },
   "cell_type": "code",
   "source": [
    "font_path = '/Users/pasha/Library/Fonts/JetBrainsMonoNerdFont-Regular.ttf'\n",
    "# font_path = '/Users/pasha/Library/Fonts/Font Awesome 6 Free-Regular-400.otf'\n",
    "font = TTFont(font_path)\n",
    "font_pil = ImageFont.truetype(font_path, size=100)"
   ],
   "id": "7a2f88638378fcf1",
   "outputs": [],
   "execution_count": 82
  },
  {
   "metadata": {
    "ExecuteTime": {
     "end_time": "2024-10-10T17:33:26.119014Z",
     "start_time": "2024-10-10T17:33:26.114713Z"
    }
   },
   "cell_type": "code",
   "source": [
    "def search_character(char_name, font: TTFont = font):\n",
    "    seen = set()\n",
    "    for record in font['cmap'].tables:\n",
    "        for codepoint, name in record.cmap.items():\n",
    "            if char_name.lower() in name.lower():\n",
    "                codepoint_int = int(codepoint, 16) if isinstance(codepoint, str) else codepoint\n",
    "                if codepoint_int not in seen:\n",
    "                    print(f\"{chr(codepoint_int)}  Character '{name}' found at U+{codepoint:X}\")\n",
    "                seen.add(codepoint_int)"
   ],
   "id": "d5ad965b745e684c",
   "outputs": [],
   "execution_count": 83
  },
  {
   "metadata": {
    "ExecuteTime": {
     "end_time": "2024-10-10T17:33:26.962230Z",
     "start_time": "2024-10-10T17:33:26.941042Z"
    }
   },
   "cell_type": "code",
   "source": "search_character('lab')",
   "id": "9919227ca1459a0c",
   "outputs": [
    {
     "name": "stdout",
     "output_type": "stream",
     "text": [
      "  Character 'i_seti_gitlab' found at U+E65C\n",
      "  Character 'gitlab' found at U+F296\n",
      "  Character 'ArchLabs' found at U+F31E\n",
      "󰌕  Character 'label' found at U+F0315\n",
      "󰌖  Character 'label-outline' found at U+F0316\n",
      "󰫋  Character 'label-off' found at U+F0ACB\n",
      "󰫌  Character 'label-off-outline' found at U+F0ACC\n",
      "󰫍  Character 'label-variant' found at U+F0ACD\n",
      "󰫎  Character 'label-variant-outline' found at U+F0ACE\n",
      "󰮠  Character 'gitlab#1' found at U+F0BA0\n",
      "󱋪  Character 'label-percent' found at U+F12EA\n",
      "󱋫  Character 'label-percent-outline' found at U+F12EB\n",
      "󱌳  Character 'syllabary-hangul' found at U+F1333\n",
      "󱌴  Character 'syllabary-hiragana' found at U+F1334\n",
      "󱌵  Character 'syllabary-katakana' found at U+F1335\n",
      "󱌶  Character 'syllabary-katakana-halfwidth' found at U+F1336\n",
      "󱍵  Character 'label-multiple' found at U+F1375\n",
      "󱍶  Character 'label-multiple-outline' found at U+F1376\n",
      "󱟒  Character 'candelabra' found at U+F17D2\n",
      "󱟓  Character 'candelabra-fire' found at U+F17D3\n"
     ]
    }
   ],
   "execution_count": 84
  },
  {
   "metadata": {},
   "cell_type": "code",
   "outputs": [],
   "execution_count": null,
   "source": "",
   "id": "9f8d89a9ed38216"
  }
 ],
 "metadata": {
  "kernelspec": {
   "display_name": "Python 3",
   "language": "python",
   "name": "python3"
  },
  "language_info": {
   "codemirror_mode": {
    "name": "ipython",
    "version": 2
   },
   "file_extension": ".py",
   "mimetype": "text/x-python",
   "name": "python",
   "nbconvert_exporter": "python",
   "pygments_lexer": "ipython2",
   "version": "2.7.6"
  }
 },
 "nbformat": 4,
 "nbformat_minor": 5
}

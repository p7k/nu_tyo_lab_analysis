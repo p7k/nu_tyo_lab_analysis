{
 "cells": [
  {
   "cell_type": "code",
   "id": "initial_id",
   "metadata": {
    "collapsed": true,
    "ExecuteTime": {
     "end_time": "2024-10-05T04:16:56.982543Z",
     "start_time": "2024-10-05T04:16:34.746673Z"
    }
   },
   "source": [
    "from pdf2image import convert_from_path\n",
    "from pptx import Presentation\n",
    "from pptx.util import Inches\n",
    "import os\n",
    "\n",
    "size = (4535.433, 2551.184)\n",
    "# Convert PDF pages to images\n",
    "pdf_path = '/Users/pasha/src/auriga/release/mbp_symp_presentation_pavel_katsev_v001.pdf'\n",
    "images = convert_from_path(pdf_path, dpi=600, size=size)\n",
    "\n",
    "# Save images to directory\n",
    "images_dir = './pdf_images'\n",
    "os.makedirs(images_dir, exist_ok=True)\n",
    "image_paths = []\n",
    "for i, image in enumerate(images):\n",
    "    image_path = f\"{images_dir}/page_{i + 1}.png\"\n",
    "    image.save(image_path, 'PNG')\n",
    "    image_paths.append(image_path)\n",
    "\n",
    "# Create a PowerPoint presentation and add scaled images\n",
    "prs = Presentation()\n",
    "prs.slide_width, prs.slide_height = Inches(16), Inches(9) \n",
    "\n",
    "for image_path in image_paths:\n",
    "    slide = prs.slides.add_slide(prs.slide_layouts[5])  # Blank layout\n",
    "    slide.shapes.add_picture(image_path, 0, 0, width=Inches(16), height=Inches(9))\n",
    "\n",
    "# Save the presentation\n",
    "pptx_path = './mbp_symp_presentation_pavel_katsev_v001.pptx'\n",
    "prs.save(pptx_path)"
   ],
   "outputs": [],
   "execution_count": 33
  },
  {
   "metadata": {},
   "cell_type": "code",
   "outputs": [],
   "execution_count": null,
   "source": "",
   "id": "5beb571125e20031"
  }
 ],
 "metadata": {
  "kernelspec": {
   "display_name": "Python 3",
   "language": "python",
   "name": "python3"
  },
  "language_info": {
   "codemirror_mode": {
    "name": "ipython",
    "version": 2
   },
   "file_extension": ".py",
   "mimetype": "text/x-python",
   "name": "python",
   "nbconvert_exporter": "python",
   "pygments_lexer": "ipython2",
   "version": "2.7.6"
  }
 },
 "nbformat": 4,
 "nbformat_minor": 5
}

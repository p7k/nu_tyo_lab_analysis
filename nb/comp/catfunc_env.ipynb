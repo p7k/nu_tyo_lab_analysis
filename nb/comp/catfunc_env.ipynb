{
 "cells": [
  {
   "metadata": {},
   "cell_type": "code",
   "outputs": [],
   "execution_count": null,
   "source": "",
   "id": "4fa1c3f7a0e52e6c"
  },
  {
   "cell_type": "code",
   "id": "initial_id",
   "metadata": {
    "collapsed": true,
    "ExecuteTime": {
     "end_time": "2024-08-05T22:09:20.620516Z",
     "start_time": "2024-08-05T22:09:20.618073Z"
    }
   },
   "source": "import sys",
   "outputs": [],
   "execution_count": 1
  },
  {
   "metadata": {
    "ExecuteTime": {
     "end_time": "2024-08-05T22:12:02.233527Z",
     "start_time": "2024-08-05T22:12:01.414812Z"
    }
   },
   "cell_type": "code",
   "source": [
    "imported_modules = !rg -PI '((?<=^from\\s).+(?=\\s+import))|((?<=^import\\s)\\w+)' /Users/pasha/src/nu/catalytic-function | sort | uniq\n",
    "imported_modules = frozenset(imported_modules)\n",
    "imported_modules"
   ],
   "id": "4c1f67e09560beff",
   "outputs": [
    {
     "data": {
      "text/plain": [
       "frozenset({'from __future__ import annotations',\n",
       "           'from abc import ABC, abstractmethod',\n",
       "           'from argparse import ArgumentParser',\n",
       "           'from catalytic_function.cross_validation import BatchGridSearch, BatchScript, HyperHyperParams',\n",
       "           'from catalytic_function.cross_validation import load_single_experiment, HyperHyperParams, BatchGridSearch',\n",
       "           'from catalytic_function.data import RxnRCDatapoint, RxnRCDataset',\n",
       "           'from catalytic_function.data import RxnRCDatapoint, RxnRCDataset, MFPDataset, mfp_build_dataloader',\n",
       "           'from catalytic_function.featurizer import RCVNReactionMolGraphFeaturizer, MultiHotAtomFeaturizer, MultiHotBondFeaturizer',\n",
       "           'from catalytic_function.featurizer import SimpleReactionMolGraphFeaturizer, RCVNReactionMolGraphFeaturizer, MultiHotAtomFeaturizer, MultiHotBondFeaturizer, ReactionMorganFeaturizer',\n",
       "           'from catalytic_function.model import MPNNDimRed, TwoChannelFFN, TwoChannelLinear',\n",
       "           'from catalytic_function.nn import LastAggregation',\n",
       "           'from catalytic_function.nn import LastAggregation, DotSig, LinDimRed, AttentionAggregation, BondMessagePassingDict',\n",
       "           'from catalytic_function.utils import construct_sparse_adj_mat, load_embed',\n",
       "           'from catalytic_function.utils import ensure_dirs, retrive_esm1b_embedding',\n",
       "           'from catalytic_function.utils import load_design_matrix',\n",
       "           'from catalytic_function.utils import load_json, save_json',\n",
       "           'from catalytic_function.utils import load_known_rxns, construct_sparse_adj_mat, ensure_dirs',\n",
       "           'from chemprop import models, nn',\n",
       "           'from chemprop.data import BatchMolGraph',\n",
       "           'from chemprop.data import build_dataloader',\n",
       "           'from chemprop.data.datapoints import _DatapointMixin',\n",
       "           'from chemprop.data.datasets import ReactionDataset',\n",
       "           'from chemprop.data.molgraph import MolGraph',\n",
       "           'from chemprop.featurizers import Featurizer',\n",
       "           'from chemprop.featurizers.base import VectorFeaturizer, GraphFeaturizer',\n",
       "           'from chemprop.featurizers.molgraph.mixins import _MolGraphFeaturizerMixin',\n",
       "           'from chemprop.models import MPNN',\n",
       "           'from chemprop.nn import Aggregation, Predictor',\n",
       "           'from chemprop.nn import MeanAggregation, BinaryClassificationFFN, BondMessagePassing',\n",
       "           'from chemprop.nn import MessagePassing, Aggregation, Predictor, LossFunction',\n",
       "           'from chemprop.nn.ffn import MLP',\n",
       "           'from chemprop.nn.hparams import HasHParams',\n",
       "           'from chemprop.nn.loss import BCELoss',\n",
       "           'from chemprop.nn.message_passing.base import _MessagePassingBase, BondMessagePassing',\n",
       "           'from chemprop.nn.metrics import BinaryAUROCMetric',\n",
       "           'from chemprop.schedulers import NoamLR',\n",
       "           'from chemprop.utils import make_mol',\n",
       "           'from collections import defaultdict',\n",
       "           'from collections import namedtuple',\n",
       "           'from copy import deepcopy',\n",
       "           'from dataclasses import dataclass',\n",
       "           'from dataclasses import dataclass, asdict, fields',\n",
       "           'from dataclasses import fields',\n",
       "           'from itertools import chain',\n",
       "           'from itertools import product, chain',\n",
       "           'from itertools import product, chain, permutations',\n",
       "           'from lightning import pytorch as pl',\n",
       "           'from lightning.pytorch.core.mixins import HyperparametersMixin',\n",
       "           'from lightning.pytorch.loggers import CSVLogger',\n",
       "           'from math import isnan',\n",
       "           'from rdkit import Chem',\n",
       "           'from rdkit.Chem import AllChem',\n",
       "           'from rdkit.Chem import AllChem, CanonSmiles',\n",
       "           'from rdkit.Chem.rdchem import Atom, HybridizationType, Mol, Bond, BondType',\n",
       "           'from rdkit.Chem.rdchem import Mol',\n",
       "           'from sklearn.metrics import f1_score, precision_score, recall_score, accuracy_score',\n",
       "           'from sklearn.model_selection import KFold',\n",
       "           'from torch import Tensor',\n",
       "           'from torch.nn import Module',\n",
       "           'from torch.optim import Adam',\n",
       "           'from torch.utils.data import Dataset, DataLoader',\n",
       "           'from typing import Iterable',\n",
       "           'from typing import List, Tuple',\n",
       "           'from typing import Sequence, Union, List, Tuple',\n",
       "           'import json',\n",
       "           'import lightning as L',\n",
       "           'import numpy as np',\n",
       "           'import os',\n",
       "           'import pandas as pd',\n",
       "           'import re',\n",
       "           'import scipy as sp',\n",
       "           'import subprocess',\n",
       "           'import torch',\n",
       "           'import yaml'})"
      ]
     },
     "execution_count": 7,
     "metadata": {},
     "output_type": "execute_result"
    }
   ],
   "execution_count": 7
  },
  {
   "metadata": {
    "ExecuteTime": {
     "end_time": "2024-08-05T22:12:06.554266Z",
     "start_time": "2024-08-05T22:12:06.550753Z"
    }
   },
   "cell_type": "code",
   "source": "imported_modules - sys.stdlib_module_names",
   "id": "fc9fe2e4b376e49d",
   "outputs": [
    {
     "data": {
      "text/plain": [
       "frozenset({'from __future__ import annotations',\n",
       "           'from abc import ABC, abstractmethod',\n",
       "           'from argparse import ArgumentParser',\n",
       "           'from catalytic_function.cross_validation import BatchGridSearch, BatchScript, HyperHyperParams',\n",
       "           'from catalytic_function.cross_validation import load_single_experiment, HyperHyperParams, BatchGridSearch',\n",
       "           'from catalytic_function.data import RxnRCDatapoint, RxnRCDataset',\n",
       "           'from catalytic_function.data import RxnRCDatapoint, RxnRCDataset, MFPDataset, mfp_build_dataloader',\n",
       "           'from catalytic_function.featurizer import RCVNReactionMolGraphFeaturizer, MultiHotAtomFeaturizer, MultiHotBondFeaturizer',\n",
       "           'from catalytic_function.featurizer import SimpleReactionMolGraphFeaturizer, RCVNReactionMolGraphFeaturizer, MultiHotAtomFeaturizer, MultiHotBondFeaturizer, ReactionMorganFeaturizer',\n",
       "           'from catalytic_function.model import MPNNDimRed, TwoChannelFFN, TwoChannelLinear',\n",
       "           'from catalytic_function.nn import LastAggregation',\n",
       "           'from catalytic_function.nn import LastAggregation, DotSig, LinDimRed, AttentionAggregation, BondMessagePassingDict',\n",
       "           'from catalytic_function.utils import construct_sparse_adj_mat, load_embed',\n",
       "           'from catalytic_function.utils import ensure_dirs, retrive_esm1b_embedding',\n",
       "           'from catalytic_function.utils import load_design_matrix',\n",
       "           'from catalytic_function.utils import load_json, save_json',\n",
       "           'from catalytic_function.utils import load_known_rxns, construct_sparse_adj_mat, ensure_dirs',\n",
       "           'from chemprop import models, nn',\n",
       "           'from chemprop.data import BatchMolGraph',\n",
       "           'from chemprop.data import build_dataloader',\n",
       "           'from chemprop.data.datapoints import _DatapointMixin',\n",
       "           'from chemprop.data.datasets import ReactionDataset',\n",
       "           'from chemprop.data.molgraph import MolGraph',\n",
       "           'from chemprop.featurizers import Featurizer',\n",
       "           'from chemprop.featurizers.base import VectorFeaturizer, GraphFeaturizer',\n",
       "           'from chemprop.featurizers.molgraph.mixins import _MolGraphFeaturizerMixin',\n",
       "           'from chemprop.models import MPNN',\n",
       "           'from chemprop.nn import Aggregation, Predictor',\n",
       "           'from chemprop.nn import MeanAggregation, BinaryClassificationFFN, BondMessagePassing',\n",
       "           'from chemprop.nn import MessagePassing, Aggregation, Predictor, LossFunction',\n",
       "           'from chemprop.nn.ffn import MLP',\n",
       "           'from chemprop.nn.hparams import HasHParams',\n",
       "           'from chemprop.nn.loss import BCELoss',\n",
       "           'from chemprop.nn.message_passing.base import _MessagePassingBase, BondMessagePassing',\n",
       "           'from chemprop.nn.metrics import BinaryAUROCMetric',\n",
       "           'from chemprop.schedulers import NoamLR',\n",
       "           'from chemprop.utils import make_mol',\n",
       "           'from collections import defaultdict',\n",
       "           'from collections import namedtuple',\n",
       "           'from copy import deepcopy',\n",
       "           'from dataclasses import dataclass',\n",
       "           'from dataclasses import dataclass, asdict, fields',\n",
       "           'from dataclasses import fields',\n",
       "           'from itertools import chain',\n",
       "           'from itertools import product, chain',\n",
       "           'from itertools import product, chain, permutations',\n",
       "           'from lightning import pytorch as pl',\n",
       "           'from lightning.pytorch.core.mixins import HyperparametersMixin',\n",
       "           'from lightning.pytorch.loggers import CSVLogger',\n",
       "           'from math import isnan',\n",
       "           'from rdkit import Chem',\n",
       "           'from rdkit.Chem import AllChem',\n",
       "           'from rdkit.Chem import AllChem, CanonSmiles',\n",
       "           'from rdkit.Chem.rdchem import Atom, HybridizationType, Mol, Bond, BondType',\n",
       "           'from rdkit.Chem.rdchem import Mol',\n",
       "           'from sklearn.metrics import f1_score, precision_score, recall_score, accuracy_score',\n",
       "           'from sklearn.model_selection import KFold',\n",
       "           'from torch import Tensor',\n",
       "           'from torch.nn import Module',\n",
       "           'from torch.optim import Adam',\n",
       "           'from torch.utils.data import Dataset, DataLoader',\n",
       "           'from typing import Iterable',\n",
       "           'from typing import List, Tuple',\n",
       "           'from typing import Sequence, Union, List, Tuple',\n",
       "           'import json',\n",
       "           'import lightning as L',\n",
       "           'import numpy as np',\n",
       "           'import os',\n",
       "           'import pandas as pd',\n",
       "           'import re',\n",
       "           'import scipy as sp',\n",
       "           'import subprocess',\n",
       "           'import torch',\n",
       "           'import yaml'})"
      ]
     },
     "execution_count": 8,
     "metadata": {},
     "output_type": "execute_result"
    }
   ],
   "execution_count": 8
  },
  {
   "metadata": {},
   "cell_type": "code",
   "outputs": [],
   "execution_count": null,
   "source": "",
   "id": "58b21d42c1790091"
  }
 ],
 "metadata": {
  "kernelspec": {
   "display_name": "Python 3",
   "language": "python",
   "name": "python3"
  },
  "language_info": {
   "codemirror_mode": {
    "name": "ipython",
    "version": 2
   },
   "file_extension": ".py",
   "mimetype": "text/x-python",
   "name": "python",
   "nbconvert_exporter": "python",
   "pygments_lexer": "ipython2",
   "version": "2.7.6"
  }
 },
 "nbformat": 4,
 "nbformat_minor": 5
}

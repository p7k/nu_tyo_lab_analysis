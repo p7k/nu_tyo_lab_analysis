{
 "cells": [
  {
   "cell_type": "code",
   "id": "initial_id",
   "metadata": {
    "collapsed": true,
    "ExecuteTime": {
     "end_time": "2024-09-20T20:29:50.827098Z",
     "start_time": "2024-09-20T20:29:50.780460Z"
    }
   },
   "source": [
    "import json\n",
    "import numpy as np\n",
    "import pandas as pd\n",
    "import urllib.request as ur\n",
    "import ipywidgets as widgets\n",
    "from ipyaggrid import Grid"
   ],
   "outputs": [],
   "execution_count": 29
  },
  {
   "metadata": {
    "ExecuteTime": {
     "end_time": "2024-09-20T20:29:51.482765Z",
     "start_time": "2024-09-20T20:29:51.028398Z"
    }
   },
   "cell_type": "code",
   "source": [
    "df = (\n",
    "    pd.read_json('/Users/pasha/src/nu/bottle/artifacts/processed_expansions/known_reactions.json')\n",
    "    .loc[ 'enzymes'].str.get(0).apply(pd.Series)\n",
    "    .head(10)\n",
    "    .loc[:, ['uniprot_id', 'sequence', 'organism']]\n",
    "    .pipe(lambda df: df.set_index(pd.Index(range(1, len(df) + 1), name='idx')))\n",
    ")\n",
    "df"
   ],
   "id": "adf47c660b20a225",
   "outputs": [
    {
     "data": {
      "text/plain": [
       "    uniprot_id                                           sequence  \\\n",
       "idx                                                                 \n",
       "1       F6IBC7  MAANNLSYTIAPLEHTPLDEIAAKVDLVRKTFRSGRTKDMEFRMKQ...   \n",
       "2       Q81FP4  MKEIKVIIAGPRGRMGHEAVLLMERTEHFNLVAAVDYKHGGEKISD...   \n",
       "3       Q8K4D8  MATANGAVENGQPDGKPPALPRPIRNLEVKFTKIFINNDWHEPKSG...   \n",
       "4       Q1BQE2  MTTREYDYIICGAGSAGNVLATRLTEDPDVTVLLLEAGGPDYRFDF...   \n",
       "5       Q5QVX3  MTNSIQFIDGCWEAGEGQLFKSIDPARNEVIWSGEAASETQVEKAI...   \n",
       "6       Q81FP4  MKEIKVIIAGPRGRMGHEAVLLMERTEHFNLVAAVDYKHGGEKISD...   \n",
       "7       Q8MI17  MADLPTPLTNLKIQYTKIFINNEWHDSVSGKKFPVLNPATEEQICL...   \n",
       "8       P0A9B7  MTVRVAINGFGRIGRNVVRALYESGRRAEITVVAINELADAAGMAH...   \n",
       "9       G5DDC2  MMASQAMVPLRQLFVDGEWRPPAQGRRLPVVNPTTEAHIGEIPAGT...   \n",
       "10      P62028  MVVAYKHEPFTDFSVEANKLAFEEGLKKVESYLGQDYPLIIGGEKI...   \n",
       "\n",
       "                                              organism  \n",
       "idx                                                     \n",
       "1    Gibberella fujikuroi (strain CBS 195.34 / IMI ...  \n",
       "2    Bacillus cereus (strain ATCC 14579 / DSM 31 / ...  \n",
       "3                              Rattus norvegicus (Rat)  \n",
       "4               Burkholderia orbicola (strain AU 1054)  \n",
       "5    Idiomarina loihiensis (strain ATCC BAA-735 / D...  \n",
       "6    Bacillus cereus (strain ATCC 14579 / DSM 31 / ...  \n",
       "7                       Oryctolagus cuniculus (Rabbit)  \n",
       "8    Escherichia coli O6:H1 (strain CFT073 / ATCC 7...  \n",
       "9                                     Zea mays (Maize)  \n",
       "10       Bacillus cereus (strain ATCC 10987 / NRS 248)  "
      ],
      "text/html": [
       "<div>\n",
       "<style scoped>\n",
       "    .dataframe tbody tr th:only-of-type {\n",
       "        vertical-align: middle;\n",
       "    }\n",
       "\n",
       "    .dataframe tbody tr th {\n",
       "        vertical-align: top;\n",
       "    }\n",
       "\n",
       "    .dataframe thead th {\n",
       "        text-align: right;\n",
       "    }\n",
       "</style>\n",
       "<table border=\"1\" class=\"dataframe\">\n",
       "  <thead>\n",
       "    <tr style=\"text-align: right;\">\n",
       "      <th></th>\n",
       "      <th>uniprot_id</th>\n",
       "      <th>sequence</th>\n",
       "      <th>organism</th>\n",
       "    </tr>\n",
       "    <tr>\n",
       "      <th>idx</th>\n",
       "      <th></th>\n",
       "      <th></th>\n",
       "      <th></th>\n",
       "    </tr>\n",
       "  </thead>\n",
       "  <tbody>\n",
       "    <tr>\n",
       "      <th>1</th>\n",
       "      <td>F6IBC7</td>\n",
       "      <td>MAANNLSYTIAPLEHTPLDEIAAKVDLVRKTFRSGRTKDMEFRMKQ...</td>\n",
       "      <td>Gibberella fujikuroi (strain CBS 195.34 / IMI ...</td>\n",
       "    </tr>\n",
       "    <tr>\n",
       "      <th>2</th>\n",
       "      <td>Q81FP4</td>\n",
       "      <td>MKEIKVIIAGPRGRMGHEAVLLMERTEHFNLVAAVDYKHGGEKISD...</td>\n",
       "      <td>Bacillus cereus (strain ATCC 14579 / DSM 31 / ...</td>\n",
       "    </tr>\n",
       "    <tr>\n",
       "      <th>3</th>\n",
       "      <td>Q8K4D8</td>\n",
       "      <td>MATANGAVENGQPDGKPPALPRPIRNLEVKFTKIFINNDWHEPKSG...</td>\n",
       "      <td>Rattus norvegicus (Rat)</td>\n",
       "    </tr>\n",
       "    <tr>\n",
       "      <th>4</th>\n",
       "      <td>Q1BQE2</td>\n",
       "      <td>MTTREYDYIICGAGSAGNVLATRLTEDPDVTVLLLEAGGPDYRFDF...</td>\n",
       "      <td>Burkholderia orbicola (strain AU 1054)</td>\n",
       "    </tr>\n",
       "    <tr>\n",
       "      <th>5</th>\n",
       "      <td>Q5QVX3</td>\n",
       "      <td>MTNSIQFIDGCWEAGEGQLFKSIDPARNEVIWSGEAASETQVEKAI...</td>\n",
       "      <td>Idiomarina loihiensis (strain ATCC BAA-735 / D...</td>\n",
       "    </tr>\n",
       "    <tr>\n",
       "      <th>6</th>\n",
       "      <td>Q81FP4</td>\n",
       "      <td>MKEIKVIIAGPRGRMGHEAVLLMERTEHFNLVAAVDYKHGGEKISD...</td>\n",
       "      <td>Bacillus cereus (strain ATCC 14579 / DSM 31 / ...</td>\n",
       "    </tr>\n",
       "    <tr>\n",
       "      <th>7</th>\n",
       "      <td>Q8MI17</td>\n",
       "      <td>MADLPTPLTNLKIQYTKIFINNEWHDSVSGKKFPVLNPATEEQICL...</td>\n",
       "      <td>Oryctolagus cuniculus (Rabbit)</td>\n",
       "    </tr>\n",
       "    <tr>\n",
       "      <th>8</th>\n",
       "      <td>P0A9B7</td>\n",
       "      <td>MTVRVAINGFGRIGRNVVRALYESGRRAEITVVAINELADAAGMAH...</td>\n",
       "      <td>Escherichia coli O6:H1 (strain CFT073 / ATCC 7...</td>\n",
       "    </tr>\n",
       "    <tr>\n",
       "      <th>9</th>\n",
       "      <td>G5DDC2</td>\n",
       "      <td>MMASQAMVPLRQLFVDGEWRPPAQGRRLPVVNPTTEAHIGEIPAGT...</td>\n",
       "      <td>Zea mays (Maize)</td>\n",
       "    </tr>\n",
       "    <tr>\n",
       "      <th>10</th>\n",
       "      <td>P62028</td>\n",
       "      <td>MVVAYKHEPFTDFSVEANKLAFEEGLKKVESYLGQDYPLIIGGEKI...</td>\n",
       "      <td>Bacillus cereus (strain ATCC 10987 / NRS 248)</td>\n",
       "    </tr>\n",
       "  </tbody>\n",
       "</table>\n",
       "</div>"
      ]
     },
     "execution_count": 30,
     "metadata": {},
     "output_type": "execute_result"
    }
   ],
   "execution_count": 30
  },
  {
   "metadata": {
    "ExecuteTime": {
     "end_time": "2024-09-19T06:11:30.878365Z",
     "start_time": "2024-09-19T06:11:30.866481Z"
    }
   },
   "cell_type": "code",
   "source": [
    "js_uniprot_id_renderer = '''\n",
    "    function(params){\n",
    "        if (params.value !== undefined && params.value !== null){\n",
    "            return `<a href=\"https://www.uniprot.org/uniprotkb/${params.value}/entry\" target=\"_blank\" rel=\"noopener noreferrer\">${params.value}</a>`;\n",
    "        }\n",
    "        return \"\"\n",
    "    }\n",
    "'''\n",
    "\n",
    "Grid(\n",
    "    grid_data=df,\n",
    "    grid_options={\n",
    "        'columnDefs': [\n",
    "            {'headerName': '', 'field': df.index.name},\n",
    "            {'headerName': 'UniProt ID', 'field': 'uniprot_id', 'cellRenderer': js_uniprot_id_renderer},\n",
    "            {'headerName': 'Sequence', 'field': 'sequence'},\n",
    "            {'headerName': 'Organism', 'field': 'organism'},\n",
    "        ],\n",
    "        'enableSorting': True,\n",
    "        'enableFilter': True,\n",
    "        'enableColResize': True,\n",
    "        'enableRangeSelection': True,\n",
    "    },\n",
    "    index=True,\n",
    "    columns_fit='auto',\n",
    "    theme='ag-theme-balham',\n",
    "    quick_filter=True,\n",
    ")"
   ],
   "id": "1cc14a4f96cff35",
   "outputs": [
    {
     "data": {
      "text/plain": [
       "Grid(columns_fit='auto', compress_data=True, export_mode='disabled', height='350px', menu={'buttons': [], 'inp…"
      ],
      "application/vnd.jupyter.widget-view+json": {
       "version_major": 2,
       "version_minor": 0,
       "model_id": "d9518b60e9e84616b89cc4a5b4e73b87"
      }
     },
     "execution_count": 28,
     "metadata": {},
     "output_type": "execute_result"
    }
   ],
   "execution_count": 28
  },
  {
   "metadata": {},
   "cell_type": "code",
   "outputs": [],
   "execution_count": null,
   "source": "",
   "id": "454c376ed7ad0c39"
  }
 ],
 "metadata": {
  "kernelspec": {
   "display_name": "Python 3",
   "language": "python",
   "name": "python3"
  },
  "language_info": {
   "codemirror_mode": {
    "name": "ipython",
    "version": 2
   },
   "file_extension": ".py",
   "mimetype": "text/x-python",
   "name": "python",
   "nbconvert_exporter": "python",
   "pygments_lexer": "ipython2",
   "version": "2.7.6"
  }
 },
 "nbformat": 4,
 "nbformat_minor": 5
}

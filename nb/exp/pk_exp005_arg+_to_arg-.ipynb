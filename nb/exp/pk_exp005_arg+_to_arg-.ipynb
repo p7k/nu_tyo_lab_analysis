{
 "cells": [
  {
   "metadata": {
    "ExecuteTime": {
     "end_time": "2024-09-03T03:33:06.512794Z",
     "start_time": "2024-09-03T03:33:06.463177Z"
    }
   },
   "cell_type": "code",
   "source": [
    "import pandas as pd\n",
    "import plotly.express as px"
   ],
   "id": "ae147dc6f28479ae",
   "outputs": [],
   "execution_count": 1
  },
  {
   "metadata": {
    "ExecuteTime": {
     "end_time": "2024-09-03T03:33:06.610095Z",
     "start_time": "2024-09-03T03:33:06.518104Z"
    }
   },
   "cell_type": "code",
   "source": [
    "# noinspection PyTypeChecker\n",
    "df_od = pd.read_excel(\n",
    "    '/Users/pasha/onedrive/nu/Katsev Pavel/04 Raw Data/EXP_0005_PK_20240826_∆ArgB_Arg+_to_Arg-.xlsx',\n",
    "    sheet_name='Day 4-6 - Arg- OD tracking',\n",
    "    usecols='A:J',\n",
    "    skiprows=3,\n",
    ").dropna(how='any')\n",
    "df_od"
   ],
   "id": "d9851c8e4d00f8a3",
   "outputs": [
    {
     "data": {
      "text/plain": [
       "             timestamp  elapsed_time_hr  sample_id strain_id condition  \\\n",
       "0  2024-08-29 20:00:00              0.0        1.1    KSF001      Arg-   \n",
       "1  2024-08-29 20:00:00              0.0        1.2    KSF001      Arg-   \n",
       "2  2024-08-29 20:00:00              0.0        1.3    KSF001      Arg-   \n",
       "3  2024-08-29 20:00:00              0.0        2.1    KSF087      Arg-   \n",
       "4  2024-08-29 20:00:00              0.0        2.3    KSF087      Arg-   \n",
       "..                 ...              ...        ...       ...       ...   \n",
       "93 2024-09-02 17:00:00             93.0        4.1    KSF231      Arg-   \n",
       "94 2024-09-02 17:00:00             93.0        4.2    KSF231      Arg-   \n",
       "95 2024-09-02 17:00:00             93.0        4.3    KSF231      Arg-   \n",
       "96 2024-09-02 17:00:00             93.0        5.0    KSF230      Arg+   \n",
       "97 2024-09-02 17:00:00             93.0        6.0    KSF231      Arg+   \n",
       "\n",
       "      blank_src  conc_factor  od_blank_diluted  od_sample_diluted  od_sample  \n",
       "0   Arg- SubMix            4             0.039              0.194      0.620  \n",
       "1   Arg- SubMix            4             0.039              0.242      0.812  \n",
       "2   Arg- SubMix            4             0.039              0.193      0.616  \n",
       "3   Arg- SubMix            4             0.039              0.235      0.784  \n",
       "4   Arg- SubMix            4             0.039              0.238      0.796  \n",
       "..          ...          ...               ...                ...        ...  \n",
       "93  Arg- SubMix            4             0.050              0.831      3.124  \n",
       "94  Arg- SubMix            4             0.050              0.412      1.448  \n",
       "95  Arg- SubMix            4             0.050              0.501      1.804  \n",
       "96  Arg+ SubMix            4             0.042              1.650      6.432  \n",
       "97  Arg+ SubMix            4             0.042              1.655      6.452  \n",
       "\n",
       "[98 rows x 10 columns]"
      ],
      "text/html": [
       "<div>\n",
       "<style scoped>\n",
       "    .dataframe tbody tr th:only-of-type {\n",
       "        vertical-align: middle;\n",
       "    }\n",
       "\n",
       "    .dataframe tbody tr th {\n",
       "        vertical-align: top;\n",
       "    }\n",
       "\n",
       "    .dataframe thead th {\n",
       "        text-align: right;\n",
       "    }\n",
       "</style>\n",
       "<table border=\"1\" class=\"dataframe\">\n",
       "  <thead>\n",
       "    <tr style=\"text-align: right;\">\n",
       "      <th></th>\n",
       "      <th>timestamp</th>\n",
       "      <th>elapsed_time_hr</th>\n",
       "      <th>sample_id</th>\n",
       "      <th>strain_id</th>\n",
       "      <th>condition</th>\n",
       "      <th>blank_src</th>\n",
       "      <th>conc_factor</th>\n",
       "      <th>od_blank_diluted</th>\n",
       "      <th>od_sample_diluted</th>\n",
       "      <th>od_sample</th>\n",
       "    </tr>\n",
       "  </thead>\n",
       "  <tbody>\n",
       "    <tr>\n",
       "      <th>0</th>\n",
       "      <td>2024-08-29 20:00:00</td>\n",
       "      <td>0.0</td>\n",
       "      <td>1.1</td>\n",
       "      <td>KSF001</td>\n",
       "      <td>Arg-</td>\n",
       "      <td>Arg- SubMix</td>\n",
       "      <td>4</td>\n",
       "      <td>0.039</td>\n",
       "      <td>0.194</td>\n",
       "      <td>0.620</td>\n",
       "    </tr>\n",
       "    <tr>\n",
       "      <th>1</th>\n",
       "      <td>2024-08-29 20:00:00</td>\n",
       "      <td>0.0</td>\n",
       "      <td>1.2</td>\n",
       "      <td>KSF001</td>\n",
       "      <td>Arg-</td>\n",
       "      <td>Arg- SubMix</td>\n",
       "      <td>4</td>\n",
       "      <td>0.039</td>\n",
       "      <td>0.242</td>\n",
       "      <td>0.812</td>\n",
       "    </tr>\n",
       "    <tr>\n",
       "      <th>2</th>\n",
       "      <td>2024-08-29 20:00:00</td>\n",
       "      <td>0.0</td>\n",
       "      <td>1.3</td>\n",
       "      <td>KSF001</td>\n",
       "      <td>Arg-</td>\n",
       "      <td>Arg- SubMix</td>\n",
       "      <td>4</td>\n",
       "      <td>0.039</td>\n",
       "      <td>0.193</td>\n",
       "      <td>0.616</td>\n",
       "    </tr>\n",
       "    <tr>\n",
       "      <th>3</th>\n",
       "      <td>2024-08-29 20:00:00</td>\n",
       "      <td>0.0</td>\n",
       "      <td>2.1</td>\n",
       "      <td>KSF087</td>\n",
       "      <td>Arg-</td>\n",
       "      <td>Arg- SubMix</td>\n",
       "      <td>4</td>\n",
       "      <td>0.039</td>\n",
       "      <td>0.235</td>\n",
       "      <td>0.784</td>\n",
       "    </tr>\n",
       "    <tr>\n",
       "      <th>4</th>\n",
       "      <td>2024-08-29 20:00:00</td>\n",
       "      <td>0.0</td>\n",
       "      <td>2.3</td>\n",
       "      <td>KSF087</td>\n",
       "      <td>Arg-</td>\n",
       "      <td>Arg- SubMix</td>\n",
       "      <td>4</td>\n",
       "      <td>0.039</td>\n",
       "      <td>0.238</td>\n",
       "      <td>0.796</td>\n",
       "    </tr>\n",
       "    <tr>\n",
       "      <th>...</th>\n",
       "      <td>...</td>\n",
       "      <td>...</td>\n",
       "      <td>...</td>\n",
       "      <td>...</td>\n",
       "      <td>...</td>\n",
       "      <td>...</td>\n",
       "      <td>...</td>\n",
       "      <td>...</td>\n",
       "      <td>...</td>\n",
       "      <td>...</td>\n",
       "    </tr>\n",
       "    <tr>\n",
       "      <th>93</th>\n",
       "      <td>2024-09-02 17:00:00</td>\n",
       "      <td>93.0</td>\n",
       "      <td>4.1</td>\n",
       "      <td>KSF231</td>\n",
       "      <td>Arg-</td>\n",
       "      <td>Arg- SubMix</td>\n",
       "      <td>4</td>\n",
       "      <td>0.050</td>\n",
       "      <td>0.831</td>\n",
       "      <td>3.124</td>\n",
       "    </tr>\n",
       "    <tr>\n",
       "      <th>94</th>\n",
       "      <td>2024-09-02 17:00:00</td>\n",
       "      <td>93.0</td>\n",
       "      <td>4.2</td>\n",
       "      <td>KSF231</td>\n",
       "      <td>Arg-</td>\n",
       "      <td>Arg- SubMix</td>\n",
       "      <td>4</td>\n",
       "      <td>0.050</td>\n",
       "      <td>0.412</td>\n",
       "      <td>1.448</td>\n",
       "    </tr>\n",
       "    <tr>\n",
       "      <th>95</th>\n",
       "      <td>2024-09-02 17:00:00</td>\n",
       "      <td>93.0</td>\n",
       "      <td>4.3</td>\n",
       "      <td>KSF231</td>\n",
       "      <td>Arg-</td>\n",
       "      <td>Arg- SubMix</td>\n",
       "      <td>4</td>\n",
       "      <td>0.050</td>\n",
       "      <td>0.501</td>\n",
       "      <td>1.804</td>\n",
       "    </tr>\n",
       "    <tr>\n",
       "      <th>96</th>\n",
       "      <td>2024-09-02 17:00:00</td>\n",
       "      <td>93.0</td>\n",
       "      <td>5.0</td>\n",
       "      <td>KSF230</td>\n",
       "      <td>Arg+</td>\n",
       "      <td>Arg+ SubMix</td>\n",
       "      <td>4</td>\n",
       "      <td>0.042</td>\n",
       "      <td>1.650</td>\n",
       "      <td>6.432</td>\n",
       "    </tr>\n",
       "    <tr>\n",
       "      <th>97</th>\n",
       "      <td>2024-09-02 17:00:00</td>\n",
       "      <td>93.0</td>\n",
       "      <td>6.0</td>\n",
       "      <td>KSF231</td>\n",
       "      <td>Arg+</td>\n",
       "      <td>Arg+ SubMix</td>\n",
       "      <td>4</td>\n",
       "      <td>0.042</td>\n",
       "      <td>1.655</td>\n",
       "      <td>6.452</td>\n",
       "    </tr>\n",
       "  </tbody>\n",
       "</table>\n",
       "<p>98 rows × 10 columns</p>\n",
       "</div>"
      ]
     },
     "execution_count": 2,
     "metadata": {},
     "output_type": "execute_result"
    }
   ],
   "execution_count": 2
  },
  {
   "metadata": {
    "ExecuteTime": {
     "end_time": "2024-09-03T21:51:25.305234Z",
     "start_time": "2024-09-03T21:51:25.091506Z"
    }
   },
   "cell_type": "code",
   "source": [
    "# Create the boxplot for the triplicates\n",
    "box_fig = px.box(\n",
    "    df_od,\n",
    "    x='elapsed_time_hr',\n",
    "    y='od_sample',\n",
    "    color='strain_id',\n",
    "    facet_col='condition',\n",
    "    facet_col_wrap=2,\n",
    "    points='all',  # Show all points\n",
    "    title='OD ADP1 Strains and Conditions',\n",
    "    labels={\n",
    "        'elapsed_time_hr': 'Elapsed Time (hr)',\n",
    "        'od_sample': 'OD',\n",
    "        'strain_id': 'Strain ID'\n",
    "    },\n",
    ")\n",
    "\n",
    "# Create the line plot for the means\n",
    "line_fig = px.line(\n",
    "    # od means\n",
    "    df_od.groupby(['elapsed_time_hr', 'strain_id', 'condition']).od_sample.median().reset_index(),\n",
    "    x='elapsed_time_hr',\n",
    "    y='od_sample',\n",
    "    color='strain_id',\n",
    "    facet_col='condition',\n",
    "    markers=True\n",
    ")\n",
    "box_fig.add_traces(line_fig['data'])\n",
    "\n",
    "# Adjust the layout to make the box plots narrower\n",
    "box_fig.update_layout(\n",
    "    title_x=0.5,\n",
    "    showlegend=True,\n",
    "    legend_title_text='Strain ID',\n",
    "    boxmode='group',\n",
    "    boxgap=.8,  # Gap between boxes in the same group (0.5 makes them narrower)\n",
    "    boxgroupgap=0,  # Gap between different groups of boxes,\n",
    "    height=600,\n",
    ")"
   ],
   "id": "2c4b88eea3f9cc94",
   "outputs": [
    {
     "data": {
      "application/vnd.plotly.v1+json": {
       "data": [
        {
         "alignmentgroup": "True",
         "boxpoints": "all",
         "hovertemplate": "Strain ID=KSF001<br>condition=Arg-<br>Elapsed Time (hr)=%{x}<br>OD=%{y}<extra></extra>",
         "legendgroup": "KSF001",
         "marker": {
          "color": "#636efa"
         },
         "name": "KSF001",
         "notched": false,
         "offsetgroup": "KSF001",
         "orientation": "v",
         "showlegend": true,
         "x": [
          0.0,
          0.0,
          0.0,
          13.999999999883585,
          13.999999999883585,
          13.999999999883585,
          21.999999999941792,
          21.999999999941792,
          21.999999999941792,
          39.99999999994179,
          39.99999999994179,
          39.99999999994179,
          48.99999999994179,
          48.99999999994179,
          48.99999999994179,
          64.99999999988358,
          64.99999999988358,
          64.99999999988358,
          93.0,
          93.0,
          93.0
         ],
         "x0": " ",
         "xaxis": "x",
         "y": [
          0.62,
          0.8119999999999999,
          0.616,
          2.2439999999999998,
          2.044,
          2.1719999999999997,
          3.368,
          2.776,
          3.284,
          4.572,
          4.556,
          4.5600000000000005,
          4.36,
          4.348,
          4.476,
          4.292000000000001,
          4.16,
          4.228000000000001,
          3.7279999999999998,
          3.5839999999999996,
          3.6199999999999997
         ],
         "y0": " ",
         "yaxis": "y",
         "type": "box"
        },
        {
         "alignmentgroup": "True",
         "boxpoints": "all",
         "hovertemplate": "Strain ID=KSF087<br>condition=Arg-<br>Elapsed Time (hr)=%{x}<br>OD=%{y}<extra></extra>",
         "legendgroup": "KSF087",
         "marker": {
          "color": "#EF553B"
         },
         "name": "KSF087",
         "notched": false,
         "offsetgroup": "KSF087",
         "orientation": "v",
         "showlegend": true,
         "x": [
          0.0,
          0.0,
          0.0,
          13.999999999883585,
          13.999999999883585,
          13.999999999883585,
          21.999999999941792,
          21.999999999941792,
          21.999999999941792,
          39.99999999994179,
          39.99999999994179,
          39.99999999994179,
          48.99999999994179,
          48.99999999994179,
          48.99999999994179,
          64.99999999988358,
          64.99999999988358,
          64.99999999988358,
          93.0,
          93.0,
          93.0
         ],
         "x0": " ",
         "xaxis": "x",
         "y": [
          0.7839999999999999,
          0.7959999999999999,
          0.768,
          2.2119999999999997,
          2.6719999999999997,
          2.548,
          3.564,
          4.268000000000001,
          4.032,
          4.66,
          4.5920000000000005,
          4.88,
          4.404,
          4.5760000000000005,
          4.496,
          4.232,
          5.204000000000001,
          4.260000000000001,
          3.6159999999999997,
          3.5919999999999996,
          3.7479999999999998
         ],
         "y0": " ",
         "yaxis": "y",
         "type": "box"
        },
        {
         "alignmentgroup": "True",
         "boxpoints": "all",
         "hovertemplate": "Strain ID=KSF230<br>condition=Arg-<br>Elapsed Time (hr)=%{x}<br>OD=%{y}<extra></extra>",
         "legendgroup": "KSF230",
         "marker": {
          "color": "#00cc96"
         },
         "name": "KSF230",
         "notched": false,
         "offsetgroup": "KSF230",
         "orientation": "v",
         "showlegend": true,
         "x": [
          0.0,
          0.0,
          0.0,
          13.999999999883585,
          13.999999999883585,
          13.999999999883585,
          21.999999999941792,
          21.999999999941792,
          21.999999999941792,
          39.99999999994179,
          39.99999999994179,
          39.99999999994179,
          48.99999999994179,
          48.99999999994179,
          48.99999999994179,
          64.99999999988358,
          64.99999999988358,
          64.99999999988358,
          93.0,
          93.0,
          93.0
         ],
         "x0": " ",
         "xaxis": "x",
         "y": [
          0.7959999999999999,
          0.8119999999999999,
          0.78,
          0.84,
          0.88,
          0.8079999999999999,
          0.7999999999999999,
          0.7959999999999999,
          0.744,
          1.124,
          1.1440000000000001,
          1.1280000000000001,
          1.284,
          1.24,
          1.1880000000000002,
          1.34,
          1.3800000000000001,
          1.528,
          4.052,
          3.976,
          1.344
         ],
         "y0": " ",
         "yaxis": "y",
         "type": "box"
        },
        {
         "alignmentgroup": "True",
         "boxpoints": "all",
         "hovertemplate": "Strain ID=KSF230<br>condition=Arg+<br>Elapsed Time (hr)=%{x}<br>OD=%{y}<extra></extra>",
         "legendgroup": "KSF230",
         "marker": {
          "color": "#00cc96"
         },
         "name": "KSF230",
         "notched": false,
         "offsetgroup": "KSF230",
         "orientation": "v",
         "showlegend": false,
         "x": [
          0.0,
          13.999999999883585,
          21.999999999941792,
          39.99999999994179,
          48.99999999994179,
          64.99999999988358,
          93.0
         ],
         "x0": " ",
         "xaxis": "x2",
         "y": [
          0.7999999999999999,
          4.312,
          4.804,
          6.936,
          6.644,
          6.408,
          6.4319999999999995
         ],
         "y0": " ",
         "yaxis": "y2",
         "type": "box"
        },
        {
         "alignmentgroup": "True",
         "boxpoints": "all",
         "hovertemplate": "Strain ID=KSF231<br>condition=Arg-<br>Elapsed Time (hr)=%{x}<br>OD=%{y}<extra></extra>",
         "legendgroup": "KSF231",
         "marker": {
          "color": "#ab63fa"
         },
         "name": "KSF231",
         "notched": false,
         "offsetgroup": "KSF231",
         "orientation": "v",
         "showlegend": true,
         "x": [
          0.0,
          0.0,
          0.0,
          13.999999999883585,
          13.999999999883585,
          13.999999999883585,
          21.999999999941792,
          21.999999999941792,
          21.999999999941792,
          39.99999999994179,
          39.99999999994179,
          39.99999999994179,
          48.99999999994179,
          48.99999999994179,
          48.99999999994179,
          64.99999999988358,
          64.99999999988358,
          64.99999999988358,
          93.0,
          93.0,
          93.0
         ],
         "x0": " ",
         "xaxis": "x",
         "y": [
          0.528,
          0.62,
          0.596,
          0.524,
          0.624,
          0.592,
          0.44399999999999995,
          0.5319999999999999,
          0.48,
          0.64,
          0.708,
          0.688,
          0.64,
          0.696,
          0.6719999999999999,
          0.62,
          0.7919999999999999,
          0.692,
          3.1239999999999997,
          1.448,
          1.804
         ],
         "y0": " ",
         "yaxis": "y",
         "type": "box"
        },
        {
         "alignmentgroup": "True",
         "boxpoints": "all",
         "hovertemplate": "Strain ID=KSF231<br>condition=Arg+<br>Elapsed Time (hr)=%{x}<br>OD=%{y}<extra></extra>",
         "legendgroup": "KSF231",
         "marker": {
          "color": "#ab63fa"
         },
         "name": "KSF231",
         "notched": false,
         "offsetgroup": "KSF231",
         "orientation": "v",
         "showlegend": false,
         "x": [
          0.0,
          13.999999999883585,
          21.999999999941792,
          39.99999999994179,
          48.99999999994179,
          64.99999999988358,
          93.0
         ],
         "x0": " ",
         "xaxis": "x2",
         "y": [
          0.612,
          4.912,
          5.992,
          6.736000000000001,
          6.564,
          6.408,
          6.452
         ],
         "y0": " ",
         "yaxis": "y2",
         "type": "box"
        },
        {
         "hovertemplate": "strain_id=KSF001<br>condition=Arg-<br>elapsed_time_hr=%{x}<br>od_sample=%{y}<extra></extra>",
         "legendgroup": "KSF001",
         "line": {
          "color": "#636efa",
          "dash": "solid"
         },
         "marker": {
          "symbol": "circle"
         },
         "mode": "lines+markers",
         "name": "KSF001",
         "orientation": "v",
         "showlegend": true,
         "x": [
          0.0,
          13.999999999883585,
          21.999999999941792,
          39.99999999994179,
          48.99999999994179,
          64.99999999988358,
          93.0
         ],
         "xaxis": "x",
         "y": [
          0.62,
          2.1719999999999997,
          3.284,
          4.5600000000000005,
          4.36,
          4.228000000000001,
          3.6199999999999997
         ],
         "yaxis": "y",
         "type": "scatter"
        },
        {
         "hovertemplate": "strain_id=KSF087<br>condition=Arg-<br>elapsed_time_hr=%{x}<br>od_sample=%{y}<extra></extra>",
         "legendgroup": "KSF087",
         "line": {
          "color": "#EF553B",
          "dash": "solid"
         },
         "marker": {
          "symbol": "circle"
         },
         "mode": "lines+markers",
         "name": "KSF087",
         "orientation": "v",
         "showlegend": true,
         "x": [
          0.0,
          13.999999999883585,
          21.999999999941792,
          39.99999999994179,
          48.99999999994179,
          64.99999999988358,
          93.0
         ],
         "xaxis": "x",
         "y": [
          0.7839999999999999,
          2.548,
          4.032,
          4.66,
          4.496,
          4.260000000000001,
          3.6159999999999997
         ],
         "yaxis": "y",
         "type": "scatter"
        },
        {
         "hovertemplate": "strain_id=KSF230<br>condition=Arg-<br>elapsed_time_hr=%{x}<br>od_sample=%{y}<extra></extra>",
         "legendgroup": "KSF230",
         "line": {
          "color": "#00cc96",
          "dash": "solid"
         },
         "marker": {
          "symbol": "circle"
         },
         "mode": "lines+markers",
         "name": "KSF230",
         "orientation": "v",
         "showlegend": true,
         "x": [
          0.0,
          13.999999999883585,
          21.999999999941792,
          39.99999999994179,
          48.99999999994179,
          64.99999999988358,
          93.0
         ],
         "xaxis": "x",
         "y": [
          0.7959999999999999,
          0.84,
          0.7959999999999999,
          1.1280000000000001,
          1.24,
          1.3800000000000001,
          3.976
         ],
         "yaxis": "y",
         "type": "scatter"
        },
        {
         "hovertemplate": "strain_id=KSF230<br>condition=Arg+<br>elapsed_time_hr=%{x}<br>od_sample=%{y}<extra></extra>",
         "legendgroup": "KSF230",
         "line": {
          "color": "#00cc96",
          "dash": "solid"
         },
         "marker": {
          "symbol": "circle"
         },
         "mode": "lines+markers",
         "name": "KSF230",
         "orientation": "v",
         "showlegend": false,
         "x": [
          0.0,
          13.999999999883585,
          21.999999999941792,
          39.99999999994179,
          48.99999999994179,
          64.99999999988358,
          93.0
         ],
         "xaxis": "x2",
         "y": [
          0.7999999999999999,
          4.312,
          4.804,
          6.936,
          6.644,
          6.408,
          6.4319999999999995
         ],
         "yaxis": "y2",
         "type": "scatter"
        },
        {
         "hovertemplate": "strain_id=KSF231<br>condition=Arg-<br>elapsed_time_hr=%{x}<br>od_sample=%{y}<extra></extra>",
         "legendgroup": "KSF231",
         "line": {
          "color": "#ab63fa",
          "dash": "solid"
         },
         "marker": {
          "symbol": "circle"
         },
         "mode": "lines+markers",
         "name": "KSF231",
         "orientation": "v",
         "showlegend": true,
         "x": [
          0.0,
          13.999999999883585,
          21.999999999941792,
          39.99999999994179,
          48.99999999994179,
          64.99999999988358,
          93.0
         ],
         "xaxis": "x",
         "y": [
          0.596,
          0.592,
          0.48,
          0.688,
          0.6719999999999999,
          0.692,
          1.804
         ],
         "yaxis": "y",
         "type": "scatter"
        },
        {
         "hovertemplate": "strain_id=KSF231<br>condition=Arg+<br>elapsed_time_hr=%{x}<br>od_sample=%{y}<extra></extra>",
         "legendgroup": "KSF231",
         "line": {
          "color": "#ab63fa",
          "dash": "solid"
         },
         "marker": {
          "symbol": "circle"
         },
         "mode": "lines+markers",
         "name": "KSF231",
         "orientation": "v",
         "showlegend": false,
         "x": [
          0.0,
          13.999999999883585,
          21.999999999941792,
          39.99999999994179,
          48.99999999994179,
          64.99999999988358,
          93.0
         ],
         "xaxis": "x2",
         "y": [
          0.612,
          4.912,
          5.992,
          6.736000000000001,
          6.564,
          6.408,
          6.452
         ],
         "yaxis": "y2",
         "type": "scatter"
        }
       ],
       "layout": {
        "template": {
         "data": {
          "histogram2dcontour": [
           {
            "type": "histogram2dcontour",
            "colorbar": {
             "outlinewidth": 0,
             "ticks": ""
            },
            "colorscale": [
             [
              0.0,
              "#0d0887"
             ],
             [
              0.1111111111111111,
              "#46039f"
             ],
             [
              0.2222222222222222,
              "#7201a8"
             ],
             [
              0.3333333333333333,
              "#9c179e"
             ],
             [
              0.4444444444444444,
              "#bd3786"
             ],
             [
              0.5555555555555556,
              "#d8576b"
             ],
             [
              0.6666666666666666,
              "#ed7953"
             ],
             [
              0.7777777777777778,
              "#fb9f3a"
             ],
             [
              0.8888888888888888,
              "#fdca26"
             ],
             [
              1.0,
              "#f0f921"
             ]
            ]
           }
          ],
          "choropleth": [
           {
            "type": "choropleth",
            "colorbar": {
             "outlinewidth": 0,
             "ticks": ""
            }
           }
          ],
          "histogram2d": [
           {
            "type": "histogram2d",
            "colorbar": {
             "outlinewidth": 0,
             "ticks": ""
            },
            "colorscale": [
             [
              0.0,
              "#0d0887"
             ],
             [
              0.1111111111111111,
              "#46039f"
             ],
             [
              0.2222222222222222,
              "#7201a8"
             ],
             [
              0.3333333333333333,
              "#9c179e"
             ],
             [
              0.4444444444444444,
              "#bd3786"
             ],
             [
              0.5555555555555556,
              "#d8576b"
             ],
             [
              0.6666666666666666,
              "#ed7953"
             ],
             [
              0.7777777777777778,
              "#fb9f3a"
             ],
             [
              0.8888888888888888,
              "#fdca26"
             ],
             [
              1.0,
              "#f0f921"
             ]
            ]
           }
          ],
          "heatmap": [
           {
            "type": "heatmap",
            "colorbar": {
             "outlinewidth": 0,
             "ticks": ""
            },
            "colorscale": [
             [
              0.0,
              "#0d0887"
             ],
             [
              0.1111111111111111,
              "#46039f"
             ],
             [
              0.2222222222222222,
              "#7201a8"
             ],
             [
              0.3333333333333333,
              "#9c179e"
             ],
             [
              0.4444444444444444,
              "#bd3786"
             ],
             [
              0.5555555555555556,
              "#d8576b"
             ],
             [
              0.6666666666666666,
              "#ed7953"
             ],
             [
              0.7777777777777778,
              "#fb9f3a"
             ],
             [
              0.8888888888888888,
              "#fdca26"
             ],
             [
              1.0,
              "#f0f921"
             ]
            ]
           }
          ],
          "heatmapgl": [
           {
            "type": "heatmapgl",
            "colorbar": {
             "outlinewidth": 0,
             "ticks": ""
            },
            "colorscale": [
             [
              0.0,
              "#0d0887"
             ],
             [
              0.1111111111111111,
              "#46039f"
             ],
             [
              0.2222222222222222,
              "#7201a8"
             ],
             [
              0.3333333333333333,
              "#9c179e"
             ],
             [
              0.4444444444444444,
              "#bd3786"
             ],
             [
              0.5555555555555556,
              "#d8576b"
             ],
             [
              0.6666666666666666,
              "#ed7953"
             ],
             [
              0.7777777777777778,
              "#fb9f3a"
             ],
             [
              0.8888888888888888,
              "#fdca26"
             ],
             [
              1.0,
              "#f0f921"
             ]
            ]
           }
          ],
          "contourcarpet": [
           {
            "type": "contourcarpet",
            "colorbar": {
             "outlinewidth": 0,
             "ticks": ""
            }
           }
          ],
          "contour": [
           {
            "type": "contour",
            "colorbar": {
             "outlinewidth": 0,
             "ticks": ""
            },
            "colorscale": [
             [
              0.0,
              "#0d0887"
             ],
             [
              0.1111111111111111,
              "#46039f"
             ],
             [
              0.2222222222222222,
              "#7201a8"
             ],
             [
              0.3333333333333333,
              "#9c179e"
             ],
             [
              0.4444444444444444,
              "#bd3786"
             ],
             [
              0.5555555555555556,
              "#d8576b"
             ],
             [
              0.6666666666666666,
              "#ed7953"
             ],
             [
              0.7777777777777778,
              "#fb9f3a"
             ],
             [
              0.8888888888888888,
              "#fdca26"
             ],
             [
              1.0,
              "#f0f921"
             ]
            ]
           }
          ],
          "surface": [
           {
            "type": "surface",
            "colorbar": {
             "outlinewidth": 0,
             "ticks": ""
            },
            "colorscale": [
             [
              0.0,
              "#0d0887"
             ],
             [
              0.1111111111111111,
              "#46039f"
             ],
             [
              0.2222222222222222,
              "#7201a8"
             ],
             [
              0.3333333333333333,
              "#9c179e"
             ],
             [
              0.4444444444444444,
              "#bd3786"
             ],
             [
              0.5555555555555556,
              "#d8576b"
             ],
             [
              0.6666666666666666,
              "#ed7953"
             ],
             [
              0.7777777777777778,
              "#fb9f3a"
             ],
             [
              0.8888888888888888,
              "#fdca26"
             ],
             [
              1.0,
              "#f0f921"
             ]
            ]
           }
          ],
          "mesh3d": [
           {
            "type": "mesh3d",
            "colorbar": {
             "outlinewidth": 0,
             "ticks": ""
            }
           }
          ],
          "scatter": [
           {
            "fillpattern": {
             "fillmode": "overlay",
             "size": 10,
             "solidity": 0.2
            },
            "type": "scatter"
           }
          ],
          "parcoords": [
           {
            "type": "parcoords",
            "line": {
             "colorbar": {
              "outlinewidth": 0,
              "ticks": ""
             }
            }
           }
          ],
          "scatterpolargl": [
           {
            "type": "scatterpolargl",
            "marker": {
             "colorbar": {
              "outlinewidth": 0,
              "ticks": ""
             }
            }
           }
          ],
          "bar": [
           {
            "error_x": {
             "color": "#2a3f5f"
            },
            "error_y": {
             "color": "#2a3f5f"
            },
            "marker": {
             "line": {
              "color": "#E5ECF6",
              "width": 0.5
             },
             "pattern": {
              "fillmode": "overlay",
              "size": 10,
              "solidity": 0.2
             }
            },
            "type": "bar"
           }
          ],
          "scattergeo": [
           {
            "type": "scattergeo",
            "marker": {
             "colorbar": {
              "outlinewidth": 0,
              "ticks": ""
             }
            }
           }
          ],
          "scatterpolar": [
           {
            "type": "scatterpolar",
            "marker": {
             "colorbar": {
              "outlinewidth": 0,
              "ticks": ""
             }
            }
           }
          ],
          "histogram": [
           {
            "marker": {
             "pattern": {
              "fillmode": "overlay",
              "size": 10,
              "solidity": 0.2
             }
            },
            "type": "histogram"
           }
          ],
          "scattergl": [
           {
            "type": "scattergl",
            "marker": {
             "colorbar": {
              "outlinewidth": 0,
              "ticks": ""
             }
            }
           }
          ],
          "scatter3d": [
           {
            "type": "scatter3d",
            "line": {
             "colorbar": {
              "outlinewidth": 0,
              "ticks": ""
             }
            },
            "marker": {
             "colorbar": {
              "outlinewidth": 0,
              "ticks": ""
             }
            }
           }
          ],
          "scattermapbox": [
           {
            "type": "scattermapbox",
            "marker": {
             "colorbar": {
              "outlinewidth": 0,
              "ticks": ""
             }
            }
           }
          ],
          "scatterternary": [
           {
            "type": "scatterternary",
            "marker": {
             "colorbar": {
              "outlinewidth": 0,
              "ticks": ""
             }
            }
           }
          ],
          "scattercarpet": [
           {
            "type": "scattercarpet",
            "marker": {
             "colorbar": {
              "outlinewidth": 0,
              "ticks": ""
             }
            }
           }
          ],
          "carpet": [
           {
            "aaxis": {
             "endlinecolor": "#2a3f5f",
             "gridcolor": "white",
             "linecolor": "white",
             "minorgridcolor": "white",
             "startlinecolor": "#2a3f5f"
            },
            "baxis": {
             "endlinecolor": "#2a3f5f",
             "gridcolor": "white",
             "linecolor": "white",
             "minorgridcolor": "white",
             "startlinecolor": "#2a3f5f"
            },
            "type": "carpet"
           }
          ],
          "table": [
           {
            "cells": {
             "fill": {
              "color": "#EBF0F8"
             },
             "line": {
              "color": "white"
             }
            },
            "header": {
             "fill": {
              "color": "#C8D4E3"
             },
             "line": {
              "color": "white"
             }
            },
            "type": "table"
           }
          ],
          "barpolar": [
           {
            "marker": {
             "line": {
              "color": "#E5ECF6",
              "width": 0.5
             },
             "pattern": {
              "fillmode": "overlay",
              "size": 10,
              "solidity": 0.2
             }
            },
            "type": "barpolar"
           }
          ],
          "pie": [
           {
            "automargin": true,
            "type": "pie"
           }
          ]
         },
         "layout": {
          "autotypenumbers": "strict",
          "colorway": [
           "#636efa",
           "#EF553B",
           "#00cc96",
           "#ab63fa",
           "#FFA15A",
           "#19d3f3",
           "#FF6692",
           "#B6E880",
           "#FF97FF",
           "#FECB52"
          ],
          "font": {
           "color": "#2a3f5f"
          },
          "hovermode": "closest",
          "hoverlabel": {
           "align": "left"
          },
          "paper_bgcolor": "white",
          "plot_bgcolor": "#E5ECF6",
          "polar": {
           "bgcolor": "#E5ECF6",
           "angularaxis": {
            "gridcolor": "white",
            "linecolor": "white",
            "ticks": ""
           },
           "radialaxis": {
            "gridcolor": "white",
            "linecolor": "white",
            "ticks": ""
           }
          },
          "ternary": {
           "bgcolor": "#E5ECF6",
           "aaxis": {
            "gridcolor": "white",
            "linecolor": "white",
            "ticks": ""
           },
           "baxis": {
            "gridcolor": "white",
            "linecolor": "white",
            "ticks": ""
           },
           "caxis": {
            "gridcolor": "white",
            "linecolor": "white",
            "ticks": ""
           }
          },
          "coloraxis": {
           "colorbar": {
            "outlinewidth": 0,
            "ticks": ""
           }
          },
          "colorscale": {
           "sequential": [
            [
             0.0,
             "#0d0887"
            ],
            [
             0.1111111111111111,
             "#46039f"
            ],
            [
             0.2222222222222222,
             "#7201a8"
            ],
            [
             0.3333333333333333,
             "#9c179e"
            ],
            [
             0.4444444444444444,
             "#bd3786"
            ],
            [
             0.5555555555555556,
             "#d8576b"
            ],
            [
             0.6666666666666666,
             "#ed7953"
            ],
            [
             0.7777777777777778,
             "#fb9f3a"
            ],
            [
             0.8888888888888888,
             "#fdca26"
            ],
            [
             1.0,
             "#f0f921"
            ]
           ],
           "sequentialminus": [
            [
             0.0,
             "#0d0887"
            ],
            [
             0.1111111111111111,
             "#46039f"
            ],
            [
             0.2222222222222222,
             "#7201a8"
            ],
            [
             0.3333333333333333,
             "#9c179e"
            ],
            [
             0.4444444444444444,
             "#bd3786"
            ],
            [
             0.5555555555555556,
             "#d8576b"
            ],
            [
             0.6666666666666666,
             "#ed7953"
            ],
            [
             0.7777777777777778,
             "#fb9f3a"
            ],
            [
             0.8888888888888888,
             "#fdca26"
            ],
            [
             1.0,
             "#f0f921"
            ]
           ],
           "diverging": [
            [
             0,
             "#8e0152"
            ],
            [
             0.1,
             "#c51b7d"
            ],
            [
             0.2,
             "#de77ae"
            ],
            [
             0.3,
             "#f1b6da"
            ],
            [
             0.4,
             "#fde0ef"
            ],
            [
             0.5,
             "#f7f7f7"
            ],
            [
             0.6,
             "#e6f5d0"
            ],
            [
             0.7,
             "#b8e186"
            ],
            [
             0.8,
             "#7fbc41"
            ],
            [
             0.9,
             "#4d9221"
            ],
            [
             1,
             "#276419"
            ]
           ]
          },
          "xaxis": {
           "gridcolor": "white",
           "linecolor": "white",
           "ticks": "",
           "title": {
            "standoff": 15
           },
           "zerolinecolor": "white",
           "automargin": true,
           "zerolinewidth": 2
          },
          "yaxis": {
           "gridcolor": "white",
           "linecolor": "white",
           "ticks": "",
           "title": {
            "standoff": 15
           },
           "zerolinecolor": "white",
           "automargin": true,
           "zerolinewidth": 2
          },
          "scene": {
           "xaxis": {
            "backgroundcolor": "#E5ECF6",
            "gridcolor": "white",
            "linecolor": "white",
            "showbackground": true,
            "ticks": "",
            "zerolinecolor": "white",
            "gridwidth": 2
           },
           "yaxis": {
            "backgroundcolor": "#E5ECF6",
            "gridcolor": "white",
            "linecolor": "white",
            "showbackground": true,
            "ticks": "",
            "zerolinecolor": "white",
            "gridwidth": 2
           },
           "zaxis": {
            "backgroundcolor": "#E5ECF6",
            "gridcolor": "white",
            "linecolor": "white",
            "showbackground": true,
            "ticks": "",
            "zerolinecolor": "white",
            "gridwidth": 2
           }
          },
          "shapedefaults": {
           "line": {
            "color": "#2a3f5f"
           }
          },
          "annotationdefaults": {
           "arrowcolor": "#2a3f5f",
           "arrowhead": 0,
           "arrowwidth": 1
          },
          "geo": {
           "bgcolor": "white",
           "landcolor": "#E5ECF6",
           "subunitcolor": "white",
           "showland": true,
           "showlakes": true,
           "lakecolor": "white"
          },
          "title": {
           "x": 0.05
          },
          "mapbox": {
           "style": "light"
          }
         }
        },
        "xaxis": {
         "anchor": "y",
         "domain": [
          0.0,
          0.49
         ],
         "title": {
          "text": "Elapsed Time (hr)"
         }
        },
        "yaxis": {
         "anchor": "x",
         "domain": [
          0.0,
          1.0
         ],
         "title": {
          "text": "OD"
         }
        },
        "xaxis2": {
         "anchor": "y2",
         "domain": [
          0.51,
          1.0
         ],
         "matches": "x",
         "title": {
          "text": "Elapsed Time (hr)"
         }
        },
        "yaxis2": {
         "anchor": "x2",
         "domain": [
          0.0,
          1.0
         ],
         "matches": "y",
         "showticklabels": false
        },
        "annotations": [
         {
          "font": {},
          "showarrow": false,
          "text": "condition=Arg-",
          "x": 0.245,
          "xanchor": "center",
          "xref": "paper",
          "y": 1.0,
          "yanchor": "bottom",
          "yref": "paper"
         },
         {
          "font": {},
          "showarrow": false,
          "text": "condition=Arg+",
          "x": 0.755,
          "xanchor": "center",
          "xref": "paper",
          "y": 1.0,
          "yanchor": "bottom",
          "yref": "paper"
         }
        ],
        "legend": {
         "title": {
          "text": "Strain ID"
         },
         "tracegroupgap": 0
        },
        "title": {
         "text": "OD ADP1 Strains and Conditions",
         "x": 0.5
        },
        "boxmode": "group",
        "showlegend": true,
        "boxgap": 0.8,
        "boxgroupgap": 0,
        "height": 600
       },
       "config": {
        "plotlyServerURL": "https://plot.ly"
       }
      },
      "text/html": [
       "<div>                            <div id=\"9811ae97-537b-4885-bfb2-d9b271c180e6\" class=\"plotly-graph-div\" style=\"height:600px; width:100%;\"></div>            <script type=\"text/javascript\">                require([\"plotly\"], function(Plotly) {                    window.PLOTLYENV=window.PLOTLYENV || {};                                    if (document.getElementById(\"9811ae97-537b-4885-bfb2-d9b271c180e6\")) {                    Plotly.newPlot(                        \"9811ae97-537b-4885-bfb2-d9b271c180e6\",                        [{\"alignmentgroup\":\"True\",\"boxpoints\":\"all\",\"hovertemplate\":\"Strain ID=KSF001\\u003cbr\\u003econdition=Arg-\\u003cbr\\u003eElapsed Time (hr)=%{x}\\u003cbr\\u003eOD=%{y}\\u003cextra\\u003e\\u003c\\u002fextra\\u003e\",\"legendgroup\":\"KSF001\",\"marker\":{\"color\":\"#636efa\"},\"name\":\"KSF001\",\"notched\":false,\"offsetgroup\":\"KSF001\",\"orientation\":\"v\",\"showlegend\":true,\"x\":[0.0,0.0,0.0,13.999999999883585,13.999999999883585,13.999999999883585,21.999999999941792,21.999999999941792,21.999999999941792,39.99999999994179,39.99999999994179,39.99999999994179,48.99999999994179,48.99999999994179,48.99999999994179,64.99999999988358,64.99999999988358,64.99999999988358,93.0,93.0,93.0],\"x0\":\" \",\"xaxis\":\"x\",\"y\":[0.62,0.8119999999999999,0.616,2.2439999999999998,2.044,2.1719999999999997,3.368,2.776,3.284,4.572,4.556,4.5600000000000005,4.36,4.348,4.476,4.292000000000001,4.16,4.228000000000001,3.7279999999999998,3.5839999999999996,3.6199999999999997],\"y0\":\" \",\"yaxis\":\"y\",\"type\":\"box\"},{\"alignmentgroup\":\"True\",\"boxpoints\":\"all\",\"hovertemplate\":\"Strain ID=KSF087\\u003cbr\\u003econdition=Arg-\\u003cbr\\u003eElapsed Time (hr)=%{x}\\u003cbr\\u003eOD=%{y}\\u003cextra\\u003e\\u003c\\u002fextra\\u003e\",\"legendgroup\":\"KSF087\",\"marker\":{\"color\":\"#EF553B\"},\"name\":\"KSF087\",\"notched\":false,\"offsetgroup\":\"KSF087\",\"orientation\":\"v\",\"showlegend\":true,\"x\":[0.0,0.0,0.0,13.999999999883585,13.999999999883585,13.999999999883585,21.999999999941792,21.999999999941792,21.999999999941792,39.99999999994179,39.99999999994179,39.99999999994179,48.99999999994179,48.99999999994179,48.99999999994179,64.99999999988358,64.99999999988358,64.99999999988358,93.0,93.0,93.0],\"x0\":\" \",\"xaxis\":\"x\",\"y\":[0.7839999999999999,0.7959999999999999,0.768,2.2119999999999997,2.6719999999999997,2.548,3.564,4.268000000000001,4.032,4.66,4.5920000000000005,4.88,4.404,4.5760000000000005,4.496,4.232,5.204000000000001,4.260000000000001,3.6159999999999997,3.5919999999999996,3.7479999999999998],\"y0\":\" \",\"yaxis\":\"y\",\"type\":\"box\"},{\"alignmentgroup\":\"True\",\"boxpoints\":\"all\",\"hovertemplate\":\"Strain ID=KSF230\\u003cbr\\u003econdition=Arg-\\u003cbr\\u003eElapsed Time (hr)=%{x}\\u003cbr\\u003eOD=%{y}\\u003cextra\\u003e\\u003c\\u002fextra\\u003e\",\"legendgroup\":\"KSF230\",\"marker\":{\"color\":\"#00cc96\"},\"name\":\"KSF230\",\"notched\":false,\"offsetgroup\":\"KSF230\",\"orientation\":\"v\",\"showlegend\":true,\"x\":[0.0,0.0,0.0,13.999999999883585,13.999999999883585,13.999999999883585,21.999999999941792,21.999999999941792,21.999999999941792,39.99999999994179,39.99999999994179,39.99999999994179,48.99999999994179,48.99999999994179,48.99999999994179,64.99999999988358,64.99999999988358,64.99999999988358,93.0,93.0,93.0],\"x0\":\" \",\"xaxis\":\"x\",\"y\":[0.7959999999999999,0.8119999999999999,0.78,0.84,0.88,0.8079999999999999,0.7999999999999999,0.7959999999999999,0.744,1.124,1.1440000000000001,1.1280000000000001,1.284,1.24,1.1880000000000002,1.34,1.3800000000000001,1.528,4.052,3.976,1.344],\"y0\":\" \",\"yaxis\":\"y\",\"type\":\"box\"},{\"alignmentgroup\":\"True\",\"boxpoints\":\"all\",\"hovertemplate\":\"Strain ID=KSF230\\u003cbr\\u003econdition=Arg+\\u003cbr\\u003eElapsed Time (hr)=%{x}\\u003cbr\\u003eOD=%{y}\\u003cextra\\u003e\\u003c\\u002fextra\\u003e\",\"legendgroup\":\"KSF230\",\"marker\":{\"color\":\"#00cc96\"},\"name\":\"KSF230\",\"notched\":false,\"offsetgroup\":\"KSF230\",\"orientation\":\"v\",\"showlegend\":false,\"x\":[0.0,13.999999999883585,21.999999999941792,39.99999999994179,48.99999999994179,64.99999999988358,93.0],\"x0\":\" \",\"xaxis\":\"x2\",\"y\":[0.7999999999999999,4.312,4.804,6.936,6.644,6.408,6.4319999999999995],\"y0\":\" \",\"yaxis\":\"y2\",\"type\":\"box\"},{\"alignmentgroup\":\"True\",\"boxpoints\":\"all\",\"hovertemplate\":\"Strain ID=KSF231\\u003cbr\\u003econdition=Arg-\\u003cbr\\u003eElapsed Time (hr)=%{x}\\u003cbr\\u003eOD=%{y}\\u003cextra\\u003e\\u003c\\u002fextra\\u003e\",\"legendgroup\":\"KSF231\",\"marker\":{\"color\":\"#ab63fa\"},\"name\":\"KSF231\",\"notched\":false,\"offsetgroup\":\"KSF231\",\"orientation\":\"v\",\"showlegend\":true,\"x\":[0.0,0.0,0.0,13.999999999883585,13.999999999883585,13.999999999883585,21.999999999941792,21.999999999941792,21.999999999941792,39.99999999994179,39.99999999994179,39.99999999994179,48.99999999994179,48.99999999994179,48.99999999994179,64.99999999988358,64.99999999988358,64.99999999988358,93.0,93.0,93.0],\"x0\":\" \",\"xaxis\":\"x\",\"y\":[0.528,0.62,0.596,0.524,0.624,0.592,0.44399999999999995,0.5319999999999999,0.48,0.64,0.708,0.688,0.64,0.696,0.6719999999999999,0.62,0.7919999999999999,0.692,3.1239999999999997,1.448,1.804],\"y0\":\" \",\"yaxis\":\"y\",\"type\":\"box\"},{\"alignmentgroup\":\"True\",\"boxpoints\":\"all\",\"hovertemplate\":\"Strain ID=KSF231\\u003cbr\\u003econdition=Arg+\\u003cbr\\u003eElapsed Time (hr)=%{x}\\u003cbr\\u003eOD=%{y}\\u003cextra\\u003e\\u003c\\u002fextra\\u003e\",\"legendgroup\":\"KSF231\",\"marker\":{\"color\":\"#ab63fa\"},\"name\":\"KSF231\",\"notched\":false,\"offsetgroup\":\"KSF231\",\"orientation\":\"v\",\"showlegend\":false,\"x\":[0.0,13.999999999883585,21.999999999941792,39.99999999994179,48.99999999994179,64.99999999988358,93.0],\"x0\":\" \",\"xaxis\":\"x2\",\"y\":[0.612,4.912,5.992,6.736000000000001,6.564,6.408,6.452],\"y0\":\" \",\"yaxis\":\"y2\",\"type\":\"box\"},{\"hovertemplate\":\"strain_id=KSF001\\u003cbr\\u003econdition=Arg-\\u003cbr\\u003eelapsed_time_hr=%{x}\\u003cbr\\u003eod_sample=%{y}\\u003cextra\\u003e\\u003c\\u002fextra\\u003e\",\"legendgroup\":\"KSF001\",\"line\":{\"color\":\"#636efa\",\"dash\":\"solid\"},\"marker\":{\"symbol\":\"circle\"},\"mode\":\"lines+markers\",\"name\":\"KSF001\",\"orientation\":\"v\",\"showlegend\":true,\"x\":[0.0,13.999999999883585,21.999999999941792,39.99999999994179,48.99999999994179,64.99999999988358,93.0],\"xaxis\":\"x\",\"y\":[0.62,2.1719999999999997,3.284,4.5600000000000005,4.36,4.228000000000001,3.6199999999999997],\"yaxis\":\"y\",\"type\":\"scatter\"},{\"hovertemplate\":\"strain_id=KSF087\\u003cbr\\u003econdition=Arg-\\u003cbr\\u003eelapsed_time_hr=%{x}\\u003cbr\\u003eod_sample=%{y}\\u003cextra\\u003e\\u003c\\u002fextra\\u003e\",\"legendgroup\":\"KSF087\",\"line\":{\"color\":\"#EF553B\",\"dash\":\"solid\"},\"marker\":{\"symbol\":\"circle\"},\"mode\":\"lines+markers\",\"name\":\"KSF087\",\"orientation\":\"v\",\"showlegend\":true,\"x\":[0.0,13.999999999883585,21.999999999941792,39.99999999994179,48.99999999994179,64.99999999988358,93.0],\"xaxis\":\"x\",\"y\":[0.7839999999999999,2.548,4.032,4.66,4.496,4.260000000000001,3.6159999999999997],\"yaxis\":\"y\",\"type\":\"scatter\"},{\"hovertemplate\":\"strain_id=KSF230\\u003cbr\\u003econdition=Arg-\\u003cbr\\u003eelapsed_time_hr=%{x}\\u003cbr\\u003eod_sample=%{y}\\u003cextra\\u003e\\u003c\\u002fextra\\u003e\",\"legendgroup\":\"KSF230\",\"line\":{\"color\":\"#00cc96\",\"dash\":\"solid\"},\"marker\":{\"symbol\":\"circle\"},\"mode\":\"lines+markers\",\"name\":\"KSF230\",\"orientation\":\"v\",\"showlegend\":true,\"x\":[0.0,13.999999999883585,21.999999999941792,39.99999999994179,48.99999999994179,64.99999999988358,93.0],\"xaxis\":\"x\",\"y\":[0.7959999999999999,0.84,0.7959999999999999,1.1280000000000001,1.24,1.3800000000000001,3.976],\"yaxis\":\"y\",\"type\":\"scatter\"},{\"hovertemplate\":\"strain_id=KSF230\\u003cbr\\u003econdition=Arg+\\u003cbr\\u003eelapsed_time_hr=%{x}\\u003cbr\\u003eod_sample=%{y}\\u003cextra\\u003e\\u003c\\u002fextra\\u003e\",\"legendgroup\":\"KSF230\",\"line\":{\"color\":\"#00cc96\",\"dash\":\"solid\"},\"marker\":{\"symbol\":\"circle\"},\"mode\":\"lines+markers\",\"name\":\"KSF230\",\"orientation\":\"v\",\"showlegend\":false,\"x\":[0.0,13.999999999883585,21.999999999941792,39.99999999994179,48.99999999994179,64.99999999988358,93.0],\"xaxis\":\"x2\",\"y\":[0.7999999999999999,4.312,4.804,6.936,6.644,6.408,6.4319999999999995],\"yaxis\":\"y2\",\"type\":\"scatter\"},{\"hovertemplate\":\"strain_id=KSF231\\u003cbr\\u003econdition=Arg-\\u003cbr\\u003eelapsed_time_hr=%{x}\\u003cbr\\u003eod_sample=%{y}\\u003cextra\\u003e\\u003c\\u002fextra\\u003e\",\"legendgroup\":\"KSF231\",\"line\":{\"color\":\"#ab63fa\",\"dash\":\"solid\"},\"marker\":{\"symbol\":\"circle\"},\"mode\":\"lines+markers\",\"name\":\"KSF231\",\"orientation\":\"v\",\"showlegend\":true,\"x\":[0.0,13.999999999883585,21.999999999941792,39.99999999994179,48.99999999994179,64.99999999988358,93.0],\"xaxis\":\"x\",\"y\":[0.596,0.592,0.48,0.688,0.6719999999999999,0.692,1.804],\"yaxis\":\"y\",\"type\":\"scatter\"},{\"hovertemplate\":\"strain_id=KSF231\\u003cbr\\u003econdition=Arg+\\u003cbr\\u003eelapsed_time_hr=%{x}\\u003cbr\\u003eod_sample=%{y}\\u003cextra\\u003e\\u003c\\u002fextra\\u003e\",\"legendgroup\":\"KSF231\",\"line\":{\"color\":\"#ab63fa\",\"dash\":\"solid\"},\"marker\":{\"symbol\":\"circle\"},\"mode\":\"lines+markers\",\"name\":\"KSF231\",\"orientation\":\"v\",\"showlegend\":false,\"x\":[0.0,13.999999999883585,21.999999999941792,39.99999999994179,48.99999999994179,64.99999999988358,93.0],\"xaxis\":\"x2\",\"y\":[0.612,4.912,5.992,6.736000000000001,6.564,6.408,6.452],\"yaxis\":\"y2\",\"type\":\"scatter\"}],                        {\"template\":{\"data\":{\"histogram2dcontour\":[{\"type\":\"histogram2dcontour\",\"colorbar\":{\"outlinewidth\":0,\"ticks\":\"\"},\"colorscale\":[[0.0,\"#0d0887\"],[0.1111111111111111,\"#46039f\"],[0.2222222222222222,\"#7201a8\"],[0.3333333333333333,\"#9c179e\"],[0.4444444444444444,\"#bd3786\"],[0.5555555555555556,\"#d8576b\"],[0.6666666666666666,\"#ed7953\"],[0.7777777777777778,\"#fb9f3a\"],[0.8888888888888888,\"#fdca26\"],[1.0,\"#f0f921\"]]}],\"choropleth\":[{\"type\":\"choropleth\",\"colorbar\":{\"outlinewidth\":0,\"ticks\":\"\"}}],\"histogram2d\":[{\"type\":\"histogram2d\",\"colorbar\":{\"outlinewidth\":0,\"ticks\":\"\"},\"colorscale\":[[0.0,\"#0d0887\"],[0.1111111111111111,\"#46039f\"],[0.2222222222222222,\"#7201a8\"],[0.3333333333333333,\"#9c179e\"],[0.4444444444444444,\"#bd3786\"],[0.5555555555555556,\"#d8576b\"],[0.6666666666666666,\"#ed7953\"],[0.7777777777777778,\"#fb9f3a\"],[0.8888888888888888,\"#fdca26\"],[1.0,\"#f0f921\"]]}],\"heatmap\":[{\"type\":\"heatmap\",\"colorbar\":{\"outlinewidth\":0,\"ticks\":\"\"},\"colorscale\":[[0.0,\"#0d0887\"],[0.1111111111111111,\"#46039f\"],[0.2222222222222222,\"#7201a8\"],[0.3333333333333333,\"#9c179e\"],[0.4444444444444444,\"#bd3786\"],[0.5555555555555556,\"#d8576b\"],[0.6666666666666666,\"#ed7953\"],[0.7777777777777778,\"#fb9f3a\"],[0.8888888888888888,\"#fdca26\"],[1.0,\"#f0f921\"]]}],\"heatmapgl\":[{\"type\":\"heatmapgl\",\"colorbar\":{\"outlinewidth\":0,\"ticks\":\"\"},\"colorscale\":[[0.0,\"#0d0887\"],[0.1111111111111111,\"#46039f\"],[0.2222222222222222,\"#7201a8\"],[0.3333333333333333,\"#9c179e\"],[0.4444444444444444,\"#bd3786\"],[0.5555555555555556,\"#d8576b\"],[0.6666666666666666,\"#ed7953\"],[0.7777777777777778,\"#fb9f3a\"],[0.8888888888888888,\"#fdca26\"],[1.0,\"#f0f921\"]]}],\"contourcarpet\":[{\"type\":\"contourcarpet\",\"colorbar\":{\"outlinewidth\":0,\"ticks\":\"\"}}],\"contour\":[{\"type\":\"contour\",\"colorbar\":{\"outlinewidth\":0,\"ticks\":\"\"},\"colorscale\":[[0.0,\"#0d0887\"],[0.1111111111111111,\"#46039f\"],[0.2222222222222222,\"#7201a8\"],[0.3333333333333333,\"#9c179e\"],[0.4444444444444444,\"#bd3786\"],[0.5555555555555556,\"#d8576b\"],[0.6666666666666666,\"#ed7953\"],[0.7777777777777778,\"#fb9f3a\"],[0.8888888888888888,\"#fdca26\"],[1.0,\"#f0f921\"]]}],\"surface\":[{\"type\":\"surface\",\"colorbar\":{\"outlinewidth\":0,\"ticks\":\"\"},\"colorscale\":[[0.0,\"#0d0887\"],[0.1111111111111111,\"#46039f\"],[0.2222222222222222,\"#7201a8\"],[0.3333333333333333,\"#9c179e\"],[0.4444444444444444,\"#bd3786\"],[0.5555555555555556,\"#d8576b\"],[0.6666666666666666,\"#ed7953\"],[0.7777777777777778,\"#fb9f3a\"],[0.8888888888888888,\"#fdca26\"],[1.0,\"#f0f921\"]]}],\"mesh3d\":[{\"type\":\"mesh3d\",\"colorbar\":{\"outlinewidth\":0,\"ticks\":\"\"}}],\"scatter\":[{\"fillpattern\":{\"fillmode\":\"overlay\",\"size\":10,\"solidity\":0.2},\"type\":\"scatter\"}],\"parcoords\":[{\"type\":\"parcoords\",\"line\":{\"colorbar\":{\"outlinewidth\":0,\"ticks\":\"\"}}}],\"scatterpolargl\":[{\"type\":\"scatterpolargl\",\"marker\":{\"colorbar\":{\"outlinewidth\":0,\"ticks\":\"\"}}}],\"bar\":[{\"error_x\":{\"color\":\"#2a3f5f\"},\"error_y\":{\"color\":\"#2a3f5f\"},\"marker\":{\"line\":{\"color\":\"#E5ECF6\",\"width\":0.5},\"pattern\":{\"fillmode\":\"overlay\",\"size\":10,\"solidity\":0.2}},\"type\":\"bar\"}],\"scattergeo\":[{\"type\":\"scattergeo\",\"marker\":{\"colorbar\":{\"outlinewidth\":0,\"ticks\":\"\"}}}],\"scatterpolar\":[{\"type\":\"scatterpolar\",\"marker\":{\"colorbar\":{\"outlinewidth\":0,\"ticks\":\"\"}}}],\"histogram\":[{\"marker\":{\"pattern\":{\"fillmode\":\"overlay\",\"size\":10,\"solidity\":0.2}},\"type\":\"histogram\"}],\"scattergl\":[{\"type\":\"scattergl\",\"marker\":{\"colorbar\":{\"outlinewidth\":0,\"ticks\":\"\"}}}],\"scatter3d\":[{\"type\":\"scatter3d\",\"line\":{\"colorbar\":{\"outlinewidth\":0,\"ticks\":\"\"}},\"marker\":{\"colorbar\":{\"outlinewidth\":0,\"ticks\":\"\"}}}],\"scattermapbox\":[{\"type\":\"scattermapbox\",\"marker\":{\"colorbar\":{\"outlinewidth\":0,\"ticks\":\"\"}}}],\"scatterternary\":[{\"type\":\"scatterternary\",\"marker\":{\"colorbar\":{\"outlinewidth\":0,\"ticks\":\"\"}}}],\"scattercarpet\":[{\"type\":\"scattercarpet\",\"marker\":{\"colorbar\":{\"outlinewidth\":0,\"ticks\":\"\"}}}],\"carpet\":[{\"aaxis\":{\"endlinecolor\":\"#2a3f5f\",\"gridcolor\":\"white\",\"linecolor\":\"white\",\"minorgridcolor\":\"white\",\"startlinecolor\":\"#2a3f5f\"},\"baxis\":{\"endlinecolor\":\"#2a3f5f\",\"gridcolor\":\"white\",\"linecolor\":\"white\",\"minorgridcolor\":\"white\",\"startlinecolor\":\"#2a3f5f\"},\"type\":\"carpet\"}],\"table\":[{\"cells\":{\"fill\":{\"color\":\"#EBF0F8\"},\"line\":{\"color\":\"white\"}},\"header\":{\"fill\":{\"color\":\"#C8D4E3\"},\"line\":{\"color\":\"white\"}},\"type\":\"table\"}],\"barpolar\":[{\"marker\":{\"line\":{\"color\":\"#E5ECF6\",\"width\":0.5},\"pattern\":{\"fillmode\":\"overlay\",\"size\":10,\"solidity\":0.2}},\"type\":\"barpolar\"}],\"pie\":[{\"automargin\":true,\"type\":\"pie\"}]},\"layout\":{\"autotypenumbers\":\"strict\",\"colorway\":[\"#636efa\",\"#EF553B\",\"#00cc96\",\"#ab63fa\",\"#FFA15A\",\"#19d3f3\",\"#FF6692\",\"#B6E880\",\"#FF97FF\",\"#FECB52\"],\"font\":{\"color\":\"#2a3f5f\"},\"hovermode\":\"closest\",\"hoverlabel\":{\"align\":\"left\"},\"paper_bgcolor\":\"white\",\"plot_bgcolor\":\"#E5ECF6\",\"polar\":{\"bgcolor\":\"#E5ECF6\",\"angularaxis\":{\"gridcolor\":\"white\",\"linecolor\":\"white\",\"ticks\":\"\"},\"radialaxis\":{\"gridcolor\":\"white\",\"linecolor\":\"white\",\"ticks\":\"\"}},\"ternary\":{\"bgcolor\":\"#E5ECF6\",\"aaxis\":{\"gridcolor\":\"white\",\"linecolor\":\"white\",\"ticks\":\"\"},\"baxis\":{\"gridcolor\":\"white\",\"linecolor\":\"white\",\"ticks\":\"\"},\"caxis\":{\"gridcolor\":\"white\",\"linecolor\":\"white\",\"ticks\":\"\"}},\"coloraxis\":{\"colorbar\":{\"outlinewidth\":0,\"ticks\":\"\"}},\"colorscale\":{\"sequential\":[[0.0,\"#0d0887\"],[0.1111111111111111,\"#46039f\"],[0.2222222222222222,\"#7201a8\"],[0.3333333333333333,\"#9c179e\"],[0.4444444444444444,\"#bd3786\"],[0.5555555555555556,\"#d8576b\"],[0.6666666666666666,\"#ed7953\"],[0.7777777777777778,\"#fb9f3a\"],[0.8888888888888888,\"#fdca26\"],[1.0,\"#f0f921\"]],\"sequentialminus\":[[0.0,\"#0d0887\"],[0.1111111111111111,\"#46039f\"],[0.2222222222222222,\"#7201a8\"],[0.3333333333333333,\"#9c179e\"],[0.4444444444444444,\"#bd3786\"],[0.5555555555555556,\"#d8576b\"],[0.6666666666666666,\"#ed7953\"],[0.7777777777777778,\"#fb9f3a\"],[0.8888888888888888,\"#fdca26\"],[1.0,\"#f0f921\"]],\"diverging\":[[0,\"#8e0152\"],[0.1,\"#c51b7d\"],[0.2,\"#de77ae\"],[0.3,\"#f1b6da\"],[0.4,\"#fde0ef\"],[0.5,\"#f7f7f7\"],[0.6,\"#e6f5d0\"],[0.7,\"#b8e186\"],[0.8,\"#7fbc41\"],[0.9,\"#4d9221\"],[1,\"#276419\"]]},\"xaxis\":{\"gridcolor\":\"white\",\"linecolor\":\"white\",\"ticks\":\"\",\"title\":{\"standoff\":15},\"zerolinecolor\":\"white\",\"automargin\":true,\"zerolinewidth\":2},\"yaxis\":{\"gridcolor\":\"white\",\"linecolor\":\"white\",\"ticks\":\"\",\"title\":{\"standoff\":15},\"zerolinecolor\":\"white\",\"automargin\":true,\"zerolinewidth\":2},\"scene\":{\"xaxis\":{\"backgroundcolor\":\"#E5ECF6\",\"gridcolor\":\"white\",\"linecolor\":\"white\",\"showbackground\":true,\"ticks\":\"\",\"zerolinecolor\":\"white\",\"gridwidth\":2},\"yaxis\":{\"backgroundcolor\":\"#E5ECF6\",\"gridcolor\":\"white\",\"linecolor\":\"white\",\"showbackground\":true,\"ticks\":\"\",\"zerolinecolor\":\"white\",\"gridwidth\":2},\"zaxis\":{\"backgroundcolor\":\"#E5ECF6\",\"gridcolor\":\"white\",\"linecolor\":\"white\",\"showbackground\":true,\"ticks\":\"\",\"zerolinecolor\":\"white\",\"gridwidth\":2}},\"shapedefaults\":{\"line\":{\"color\":\"#2a3f5f\"}},\"annotationdefaults\":{\"arrowcolor\":\"#2a3f5f\",\"arrowhead\":0,\"arrowwidth\":1},\"geo\":{\"bgcolor\":\"white\",\"landcolor\":\"#E5ECF6\",\"subunitcolor\":\"white\",\"showland\":true,\"showlakes\":true,\"lakecolor\":\"white\"},\"title\":{\"x\":0.05},\"mapbox\":{\"style\":\"light\"}}},\"xaxis\":{\"anchor\":\"y\",\"domain\":[0.0,0.49],\"title\":{\"text\":\"Elapsed Time (hr)\"}},\"yaxis\":{\"anchor\":\"x\",\"domain\":[0.0,1.0],\"title\":{\"text\":\"OD\"}},\"xaxis2\":{\"anchor\":\"y2\",\"domain\":[0.51,1.0],\"matches\":\"x\",\"title\":{\"text\":\"Elapsed Time (hr)\"}},\"yaxis2\":{\"anchor\":\"x2\",\"domain\":[0.0,1.0],\"matches\":\"y\",\"showticklabels\":false},\"annotations\":[{\"font\":{},\"showarrow\":false,\"text\":\"condition=Arg-\",\"x\":0.245,\"xanchor\":\"center\",\"xref\":\"paper\",\"y\":1.0,\"yanchor\":\"bottom\",\"yref\":\"paper\"},{\"font\":{},\"showarrow\":false,\"text\":\"condition=Arg+\",\"x\":0.755,\"xanchor\":\"center\",\"xref\":\"paper\",\"y\":1.0,\"yanchor\":\"bottom\",\"yref\":\"paper\"}],\"legend\":{\"title\":{\"text\":\"Strain ID\"},\"tracegroupgap\":0},\"title\":{\"text\":\"OD ADP1 Strains and Conditions\",\"x\":0.5},\"boxmode\":\"group\",\"showlegend\":true,\"boxgap\":0.8,\"boxgroupgap\":0,\"height\":600},                        {\"responsive\": true}                    ).then(function(){\n",
       "                            \n",
       "var gd = document.getElementById('9811ae97-537b-4885-bfb2-d9b271c180e6');\n",
       "var x = new MutationObserver(function (mutations, observer) {{\n",
       "        var display = window.getComputedStyle(gd).display;\n",
       "        if (!display || display === 'none') {{\n",
       "            console.log([gd, 'removed!']);\n",
       "            Plotly.purge(gd);\n",
       "            observer.disconnect();\n",
       "        }}\n",
       "}});\n",
       "\n",
       "// Listen for the removal of the full notebook cells\n",
       "var notebookContainer = gd.closest('#notebook-container');\n",
       "if (notebookContainer) {{\n",
       "    x.observe(notebookContainer, {childList: true});\n",
       "}}\n",
       "\n",
       "// Listen for the clearing of the current output cell\n",
       "var outputEl = gd.closest('.output');\n",
       "if (outputEl) {{\n",
       "    x.observe(outputEl, {childList: true});\n",
       "}}\n",
       "\n",
       "                        })                };                });            </script>        </div>"
      ]
     },
     "metadata": {},
     "output_type": "display_data"
    }
   ],
   "execution_count": 4
  },
  {
   "metadata": {},
   "cell_type": "code",
   "outputs": [],
   "execution_count": null,
   "source": "",
   "id": "b339b14bf7bbff2a"
  }
 ],
 "metadata": {
  "kernelspec": {
   "display_name": "Python 3",
   "language": "python",
   "name": "python3"
  },
  "language_info": {
   "codemirror_mode": {
    "name": "ipython",
    "version": 2
   },
   "file_extension": ".py",
   "mimetype": "text/x-python",
   "name": "python",
   "nbconvert_exporter": "python",
   "pygments_lexer": "ipython2",
   "version": "2.7.6"
  }
 },
 "nbformat": 4,
 "nbformat_minor": 5
}

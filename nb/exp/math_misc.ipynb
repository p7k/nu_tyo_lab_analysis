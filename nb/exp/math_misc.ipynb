{
 "cells": [
  {
   "cell_type": "code",
   "id": "initial_id",
   "metadata": {
    "collapsed": true,
    "ExecuteTime": {
     "end_time": "2024-10-13T17:00:23.370254Z",
     "start_time": "2024-10-13T17:00:23.363723Z"
    }
   },
   "source": [
    "import sympy\n",
    "\n",
    "from sympy.physics.units.systems.si import SI\n",
    "from sympy.physics.units import gram, liter, milliliter, mol, convert_to"
   ],
   "outputs": [],
   "execution_count": 60
  },
  {
   "metadata": {
    "ExecuteTime": {
     "end_time": "2024-10-13T17:02:41.115891Z",
     "start_time": "2024-10-13T17:02:41.108949Z"
    }
   },
   "cell_type": "code",
   "source": [
    "# additional units\n",
    "mmol = mol / 1000\n",
    "umol = mmol / 1000\n",
    "molar = mol / liter\n",
    "wv_perc = gram / (100 * milliliter)"
   ],
   "id": "5526a5c837e092bc",
   "outputs": [],
   "execution_count": 64
  },
  {
   "metadata": {
    "ExecuteTime": {
     "end_time": "2024-10-13T16:44:21.767309Z",
     "start_time": "2024-10-13T16:44:21.763596Z"
    }
   },
   "cell_type": "code",
   "source": [
    "# symbols\n",
    "Arg, BM, gluc = sympy.symbols('Arg, BM, gluc')\n",
    "x, y = sympy.symbols('x, y')"
   ],
   "id": "acf0f4f474eb8976",
   "outputs": [],
   "execution_count": 43
  },
  {
   "metadata": {
    "ExecuteTime": {
     "end_time": "2024-10-13T16:44:21.908333Z",
     "start_time": "2024-10-13T16:44:21.903117Z"
    }
   },
   "cell_type": "code",
   "source": [
    "# consts\n",
    "mw_arg = 174.2 * gram * Arg / (mol * Arg)\n",
    "mw_glucose = 180.156 * gram * gluc / (mol * gluc)\n",
    "od600 = .33 * gram * BM / liter"
   ],
   "id": "4ff63344322594c1",
   "outputs": [],
   "execution_count": 44
  },
  {
   "metadata": {
    "ExecuteTime": {
     "end_time": "2024-10-11T16:45:03.471136Z",
     "start_time": "2024-10-11T16:45:03.468240Z"
    }
   },
   "cell_type": "code",
   "source": [
    "# example concentration of Arg and Biomass (KSF230) from exp 007\n",
    "[\n",
    "    # [Arg]\n",
    "    10 * mmol * Arg / liter * mw_arg,\n",
    "    # [biomass]\n",
    "    4.22 * od600,\n",
    "]"
   ],
   "id": "37bac3fc3c521f81",
   "outputs": [
    {
     "data": {
      "text/plain": [
       "[1.742*gram*Arg/liter, 1.3926*gram*BM/liter]"
      ]
     },
     "execution_count": 13,
     "metadata": {},
     "output_type": "execute_result"
    }
   ],
   "execution_count": 13
  },
  {
   "metadata": {
    "ExecuteTime": {
     "end_time": "2024-10-13T15:55:04.018840Z",
     "start_time": "2024-10-13T15:55:03.991929Z"
    }
   },
   "cell_type": "code",
   "source": [
    "c_ini, v_ini, c_fin, v_fin, v_res = sympy.symbols('c_ini, v_ini, c_fin, v_fin, v_res')\n",
    "eq_conc = sympy.Eq(c_ini * v_ini, c_fin * v_fin)\n",
    "eq_vol_decomp = sympy.Eq(v_fin, v_ini + v_res)\n",
    "eq_conc"
   ],
   "id": "730e8afe0e3854b7",
   "outputs": [
    {
     "data": {
      "text/plain": [
       "Eq(c_ini*v_ini, c_fin*v_fin)"
      ],
      "text/latex": "$\\displaystyle c_{ini} v_{ini} = c_{fin} v_{fin}$"
     },
     "execution_count": 32,
     "metadata": {},
     "output_type": "execute_result"
    }
   ],
   "execution_count": 32
  },
  {
   "metadata": {
    "ExecuteTime": {
     "end_time": "2024-10-13T15:48:40.559496Z",
     "start_time": "2024-10-13T15:48:40.534993Z"
    }
   },
   "cell_type": "code",
   "source": "sympy.solve([eq_conc], [v_ini])[v_ini].subs({c_ini: 1000, c_fin: 1, v_fin: 25})",
   "id": "53c8c50a39a2f49d",
   "outputs": [
    {
     "data": {
      "text/plain": [
       "1/40"
      ],
      "text/latex": "$\\displaystyle \\frac{1}{40}$"
     },
     "execution_count": 31,
     "metadata": {},
     "output_type": "execute_result"
    }
   ],
   "execution_count": 31
  },
  {
   "metadata": {
    "ExecuteTime": {
     "end_time": "2024-10-13T15:58:28.704068Z",
     "start_time": "2024-10-13T15:58:28.697811Z"
    }
   },
   "cell_type": "code",
   "source": "sympy.solve([eq_conc, eq_vol_decomp], [v_ini, v_fin])[v_ini]",
   "id": "e95b77b2cbaa721c",
   "outputs": [
    {
     "data": {
      "text/plain": [
       "-c_fin*v_res/(c_fin - c_ini)"
      ],
      "text/latex": "$\\displaystyle - \\frac{c_{fin} v_{res}}{c_{fin} - c_{ini}}$"
     },
     "execution_count": 40,
     "metadata": {},
     "output_type": "execute_result"
    }
   ],
   "execution_count": 40
  },
  {
   "metadata": {
    "ExecuteTime": {
     "end_time": "2024-10-13T17:13:34.766954Z",
     "start_time": "2024-10-13T17:13:34.761736Z"
    }
   },
   "cell_type": "code",
   "source": [
    "# \n",
    "# EXP008 ADP1 ∆argB(R) ∆astA  Arg - titration response\n",
    "#"
   ],
   "id": "11bbabf1408a3b6",
   "outputs": [],
   "execution_count": 67
  },
  {
   "metadata": {
    "ExecuteTime": {
     "end_time": "2024-10-13T17:13:34.941869Z",
     "start_time": "2024-10-13T17:13:34.928831Z"
    }
   },
   "cell_type": "code",
   "source": [
    "# molarity of KF stock 40% w/v glucose  ( w / v convention means g / 100mL )\n",
    "convert_to(40 * wv_perc * gluc / mw_glucose, molar * gluc) "
   ],
   "id": "b6785ec24021ce1f",
   "outputs": [
    {
     "data": {
      "text/plain": [
       "2.22029796398677*mole*gluc/liter"
      ],
      "text/latex": "$\\displaystyle \\frac{2.22029796398677 gluc \\text{mol}}{\\text{l}}$"
     },
     "execution_count": 68,
     "metadata": {},
     "output_type": "execute_result"
    }
   ],
   "execution_count": 68
  },
  {
   "metadata": {
    "ExecuteTime": {
     "end_time": "2024-10-13T17:17:01.688725Z",
     "start_time": "2024-10-13T17:17:01.677014Z"
    }
   },
   "cell_type": "code",
   "source": "sympy.solve([eq_conc, eq_vol_decomp], [c_fin])[c_fin].subs({c_ini: 1.1, v_fin: 3 + v_ini, v_ini: 1.38})",
   "id": "9d32003ab76516c3",
   "outputs": [
    {
     "data": {
      "text/plain": [
       "0.346575342465753"
      ],
      "text/latex": "$\\displaystyle 0.346575342465753$"
     },
     "execution_count": 71,
     "metadata": {},
     "output_type": "execute_result"
    }
   ],
   "execution_count": 71
  },
  {
   "metadata": {},
   "cell_type": "code",
   "outputs": [],
   "execution_count": null,
   "source": "",
   "id": "60e02c3c9c0c83da"
  }
 ],
 "metadata": {
  "kernelspec": {
   "display_name": "Python 3",
   "language": "python",
   "name": "python3"
  },
  "language_info": {
   "codemirror_mode": {
    "name": "ipython",
    "version": 2
   },
   "file_extension": ".py",
   "mimetype": "text/x-python",
   "name": "python",
   "nbconvert_exporter": "python",
   "pygments_lexer": "ipython2",
   "version": "2.7.6"
  }
 },
 "nbformat": 4,
 "nbformat_minor": 5
}

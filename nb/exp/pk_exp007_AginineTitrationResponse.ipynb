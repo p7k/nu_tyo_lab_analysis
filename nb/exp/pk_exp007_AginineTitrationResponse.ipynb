{
 "cells": [
  {
   "metadata": {
    "jupyter": {
     "is_executing": true
    }
   },
   "cell_type": "code",
   "source": [
    "import pandas as pd\n",
    "import plotly.express as px\n",
    "import plotly.graph_objects as go\n",
    "from pint import UnitRegistry\n",
    "from scipy.stats.mstats import hmean\n",
    "\n",
    "from analysis.util import dedup_trace_legends"
   ],
   "id": "ae147dc6f28479ae",
   "outputs": [],
   "execution_count": null
  },
  {
   "metadata": {},
   "cell_type": "code",
   "source": [
    "units = UnitRegistry()\n",
    "\n",
    "# noinspection PyTypeChecker\n",
    "df_od = (\n",
    "    pd.read_excel(\n",
    "        '~/tyo_lab_pk/04 Raw Data//EXP_0007_PK_20240909_ArgConcentrationResponse.xlsx',\n",
    "        sheet_name='Day 3 - 5 OD tracking',\n",
    "        usecols='A:L',\n",
    "        skiprows=3,\n",
    "    )\n",
    "    .assign(arg_conc=lambda df: df.condition.str.split('•').str.get(0).apply(units.parse_expression))\n",
    "    .assign(arg_conc_µM=lambda df: df.arg_conc.apply(lambda qty: qty.to('micromolar').magnitude))\n",
    ")\n",
    "df_od"
   ],
   "id": "d9851c8e4d00f8a3",
   "outputs": [],
   "execution_count": null
  },
  {
   "metadata": {},
   "cell_type": "code",
   "source": [
    "px.box(\n",
    "    df_od,\n",
    "    x='elapsed_time_hr',\n",
    "    y='od_sample',\n",
    "    color='strain_id',\n",
    "    facet_col='condition',\n",
    "    points='all',  # Show all points\n",
    "    title='OD ADP1 Strains and Conditions',\n",
    "    labels={\n",
    "        'od_sample': 'OD',\n",
    "        'strain_id': 'ADP1 Strain',\n",
    "        'elapsed_time_hr': 'Elapsed Time (hr)',\n",
    "    },\n",
    ").add_traces(\n",
    "    px.line(\n",
    "        # od means\n",
    "        df_od.groupby(['elapsed_time_hr', 'strain_id', 'condition'], sort=False).od_sample.mean().reset_index(),\n",
    "        x='elapsed_time_hr',\n",
    "        y='od_sample',\n",
    "        color='strain_id',\n",
    "        facet_col='condition',\n",
    "        markers=False,\n",
    "    )['data']\n",
    ").update_layout(\n",
    "    title='OD ADP1 {KSF230 ∆argB, KSF? ∆argB ∆argR, KSF001 wt} | growth in dosed Arg after preculture and wash (harmonic means)',\n",
    "    title_x=0.5,\n",
    "    showlegend=True,\n",
    "    boxmode='group',\n",
    "    boxgap=.8,  # Gap between boxes in the same group (0.5 makes them narrower)\n",
    "    boxgroupgap=0,  # Gap between different groups of boxes,\n",
    "    height=600,\n",
    ").for_each_trace(dedup_trace_legends())"
   ],
   "id": "2c4b88eea3f9cc94",
   "outputs": [],
   "execution_count": null
  },
  {
   "metadata": {},
   "cell_type": "code",
   "source": [
    "def max_ods(df_od: pd.DataFrame, strains: list[str]) -> pd.DataFrame:\n",
    "    return (\n",
    "        df_od\n",
    "        .loc[lambda df: df.strain_id.isin(strains)]\n",
    "        # filter down to max OD points (based on hmeans)\n",
    "        .pipe(lambda df: df.merge(\n",
    "            df.groupby(['strain_id', 'condition', 'elapsed_time_hr']).od_sample.apply(hmean).reset_index()\n",
    "            .sort_values(by=['strain_id', 'condition', 'od_sample'], ascending=False)\n",
    "            .drop_duplicates(subset=['strain_id', 'condition']),\n",
    "            on=['strain_id', 'condition', 'elapsed_time_hr'],\n",
    "            sort=False,\n",
    "        ))\n",
    "        .sort_values(by='arg_conc')\n",
    "    )"
   ],
   "id": "51a4daadb5765d02",
   "outputs": [],
   "execution_count": null
  },
  {
   "metadata": {},
   "cell_type": "code",
   "source": [
    "def od_by_arg_conc(\n",
    "        arg_conc,\n",
    "        od600_to_cdw=.33 * units.g / units.L,\n",
    "        perc_cgp_of_cdw=.44,\n",
    "        perc_arg_of_cgp=.3,\n",
    "        mw_arg=174.2 * units.g / units.mol\n",
    ") -> float:\n",
    "    od = arg_conc / (od600_to_cdw * perc_cgp_of_cdw * perc_arg_of_cgp / mw_arg)\n",
    "    return od.to_base_units()\n",
    "\n",
    "\n",
    "df_cgp_arg = pd.DataFrame(data=dict(arg_conc_µM=[0, 5000])).assign(\n",
    "    od=lambda df: df.arg_conc_µM.apply(lambda c: od_by_arg_conc(c * units.uM).magnitude)\n",
    ")\n",
    "# df_cgp_arg"
   ],
   "id": "3ae1773bd1b430c7",
   "outputs": [],
   "execution_count": null
  },
  {
   "metadata": {},
   "cell_type": "code",
   "source": [
    "def max_od_by_arg_conc(\n",
    "        arg_conc,\n",
    "        od600_to_cdw=.33 * units.g / units.L,\n",
    "        perc_arg_of_cdw=.025, # (1prot/2cdw)(1arg/20prot) = 1/40\n",
    "        mw_arg=174.2 * units.g / units.mol\n",
    ") -> float:\n",
    "    od = arg_conc / (od600_to_cdw * perc_arg_of_cdw / mw_arg)\n",
    "    return od.to_base_units()\n",
    "\n",
    "\n",
    "df_arg_cdw = pd.DataFrame(data=dict(arg_conc_µM=[0, 250, 1000])).assign(\n",
    "    od=lambda df: df.arg_conc_µM.apply(lambda c: max_od_by_arg_conc(c * units.uM).magnitude)\n",
    ")\n",
    "df_arg_cdw"
   ],
   "id": "d53f553e1bdba70b",
   "outputs": [],
   "execution_count": null
  },
  {
   "metadata": {},
   "cell_type": "code",
   "source": [
    "df_max_ods_sans_0uM = (\n",
    "    max_ods(df_od, [\n",
    "        'KSF230',\n",
    "        '∆argR',\n",
    "    ])\n",
    "    # .loc[lambda df: (0 < df.arg_conc_µM) & (df.arg_conc_µM <= 500)]\n",
    "    # .loc[lambda df: (0 < df.arg_conc_µM) & (df.arg_conc_µM <= 500)]\n",
    ")\n",
    "fig_yield = px.scatter(\n",
    "    df_max_ods_sans_0uM,\n",
    "    x='arg_conc_μM',\n",
    "    y='od_sample_x',\n",
    "    color='strain_id',\n",
    "    labels={\n",
    "        'strain_id': 'ADP1 Strain',\n",
    "        'od_sample_x': 'OD',\n",
    "        'arg_conc_μM': '[Arginine] (µM)'\n",
    "    },\n",
    "    trendline='ols',\n",
    ").update_layout(\n",
    "    title='ADP1 {KSF230 ∆argB, KSF? ∆argB ∆argR} Biomass Yield Curves',\n",
    "    title_x=0.5,\n",
    ")\n",
    "fig_yield.add_traces([\n",
    "    # constraint: \n",
    "    go.Scatter(\n",
    "        x=df_cgp_arg.arg_conc_μM, y=df_cgp_arg.od,\n",
    "        name='[Arg] from BM w/CGP',\n",
    "        mode='lines', line=dict(dash='dot', color='darkgray'),\n",
    "        # fill='tonexty',\n",
    "    ),\n",
    "    # constraint: \n",
    "    go.Scatter(\n",
    "        x=df_arg_cdw.arg_conc_μM, y=df_arg_cdw.od,\n",
    "        name='ODmax by 2.5% Arg',\n",
    "        mode='lines', line=dict(dash='dash'),\n",
    "        # fill='tonexty',\n",
    "    ),\n",
    "])\n",
    "yield_fits = px.get_trendline_results(fig_yield).set_index('ADP1 Strain').px_fit_results\n",
    "\n",
    "fig_yield.write_image('../../figures/pk_exp007_AginineTitrationResponse.eps')\n",
    "fig_yield"
   ],
   "id": "afa0cb797b7c9a8",
   "outputs": [],
   "execution_count": null
  },
  {
   "metadata": {},
   "cell_type": "code",
   "source": "yield_fits['KSF230'].summary()",
   "id": "ff6cbcb889e5bf5b",
   "outputs": [],
   "execution_count": null
  },
  {
   "metadata": {},
   "cell_type": "code",
   "source": [
    "def yield_in_g_g(x):\n",
    "    return x * .33 / (1.742 * 10 ** -4)\n",
    "\n",
    "yield_in_g_g(0.0004)\n",
    "dir(yield_fits['KSF230'].summary())"
   ],
   "id": "a651ab291f3e4531",
   "outputs": [],
   "execution_count": null
  },
  {
   "metadata": {},
   "cell_type": "code",
   "source": [
    "import pandera as pa\n",
    "import pandera.typing as pat\n",
    "from analysis.schemas import SakaguchiODSchema\n",
    "\n",
    "@pa.check_types()\n",
    "def sakaguchi_analysis(df: pat.DataFrame[SakaguchiODSchema]):\n",
    "    return df"
   ],
   "id": "fa9e1408ff6fceb0",
   "outputs": [],
   "execution_count": null
  },
  {
   "metadata": {},
   "cell_type": "code",
   "source": [
    "# noinspection PyTypeChecker\n",
    "df_sakaguchi = pd.read_excel(\n",
    "    '~/tyo_lab_pk/04 Raw Data/EXP_0007_PK_20240909_ArgConcentrationResponse.xlsx',\n",
    "    sheet_name='Sakaguchi for residual arg',\n",
    "    usecols='B:E',\n",
    "    skiprows=45,\n",
    ")\n",
    "\n",
    "sakaguchi_analysis(df_sakaguchi)"
   ],
   "id": "b175819e32b78afa",
   "outputs": [],
   "execution_count": null
  },
  {
   "metadata": {},
   "cell_type": "code",
   "source": "",
   "id": "9e8564a91894ee22",
   "outputs": [],
   "execution_count": null
  }
 ],
 "metadata": {
  "kernelspec": {
   "display_name": "Python 3",
   "language": "python",
   "name": "python3"
  },
  "language_info": {
   "codemirror_mode": {
    "name": "ipython",
    "version": 2
   },
   "file_extension": ".py",
   "mimetype": "text/x-python",
   "name": "python",
   "nbconvert_exporter": "python",
   "pygments_lexer": "ipython2",
   "version": "2.7.6"
  }
 },
 "nbformat": 4,
 "nbformat_minor": 5
}

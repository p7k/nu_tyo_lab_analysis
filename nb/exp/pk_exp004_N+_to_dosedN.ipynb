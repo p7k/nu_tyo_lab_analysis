{
 "cells": [
  {
   "metadata": {
    "ExecuteTime": {
     "end_time": "2024-10-04T20:31:41.610515Z",
     "start_time": "2024-10-04T20:31:41.195981Z"
    }
   },
   "cell_type": "code",
   "source": [
    "import pandas as pd\n",
    "import plotly.express as px"
   ],
   "id": "ae147dc6f28479ae",
   "outputs": [],
   "execution_count": 3
  },
  {
   "metadata": {
    "ExecuteTime": {
     "end_time": "2024-10-04T20:31:41.728105Z",
     "start_time": "2024-10-04T20:31:41.624090Z"
    }
   },
   "cell_type": "code",
   "source": [
    "(df_n_deplete_od := pd.read_excel(\n",
    "    '~/tyo_lab_pk/04 Raw Data/EXP_0004_PK_20240716 N+ to dosedN.xlsx',\n",
    "    sheet_name='Day 4-6 - N- OD',\n",
    "    usecols='A:I',\n",
    "    skiprows=3,\n",
    "    # nrows=100\n",
    "))"
   ],
   "id": "d9851c8e4d00f8a3",
   "outputs": [
    {
     "data": {
      "text/plain": [
       "             timestamp  elapsed_time_hr  sample_id strain_id      condition  \\\n",
       "0  2024-07-31 17:00:00              0.0          1    KSF001  1. AMS 10.0mM   \n",
       "1  2024-07-31 17:00:00              0.0          2    KSF087  1. AMS 10.0mM   \n",
       "2  2024-07-31 17:00:00              0.0          3    KSF001   2. AMS 5.0mM   \n",
       "3  2024-07-31 17:00:00              0.0          4    KSF087   2. AMS 5.0mM   \n",
       "4  2024-07-31 17:00:00              0.0          5    KSF001   3. AMS 3.5mM   \n",
       "5  2024-07-31 17:00:00              0.0          6    KSF087   3. AMS 3.5mM   \n",
       "6  2024-07-31 17:00:00              0.0          7    KSF001   4. AMS 2.0mM   \n",
       "7  2024-07-31 17:00:00              0.0          8    KSF087   4. AMS 2.0mM   \n",
       "8  2024-07-31 17:00:00              0.0          9    KSF001   1. AMS 0.0mM   \n",
       "9  2024-07-31 17:00:00              0.0         10    KSF087   1. AMS 0.0mM   \n",
       "10 2024-08-01 10:00:00             17.0          1    KSF001  1. AMS 10.0mM   \n",
       "11 2024-08-01 10:00:00             17.0          2    KSF087  1. AMS 10.0mM   \n",
       "12 2024-08-01 10:00:00             17.0          3    KSF001   2. AMS 5.0mM   \n",
       "13 2024-08-01 10:00:00             17.0          4    KSF087   2. AMS 5.0mM   \n",
       "14 2024-08-01 10:00:00             17.0          5    KSF001   3. AMS 3.5mM   \n",
       "15 2024-08-01 10:00:00             17.0          6    KSF087   3. AMS 3.5mM   \n",
       "16 2024-08-01 10:00:00             17.0          7    KSF001   4. AMS 2.0mM   \n",
       "17 2024-08-01 10:00:00             17.0          8    KSF087   4. AMS 2.0mM   \n",
       "18 2024-08-01 10:00:00             17.0          9    KSF001   1. AMS 0.0mM   \n",
       "19 2024-08-01 10:00:00             17.0         10    KSF087   1. AMS 0.0mM   \n",
       "20 2024-08-01 18:00:00             25.0          1    KSF001  1. AMS 10.0mM   \n",
       "21 2024-08-01 18:00:00             25.0          2    KSF087  1. AMS 10.0mM   \n",
       "22 2024-08-01 18:00:00             25.0          3    KSF001   2. AMS 5.0mM   \n",
       "23 2024-08-01 18:00:00             25.0          4    KSF087   2. AMS 5.0mM   \n",
       "24 2024-08-01 18:00:00             25.0          5    KSF001   3. AMS 3.5mM   \n",
       "25 2024-08-01 18:00:00             25.0          6    KSF087   3. AMS 3.5mM   \n",
       "26 2024-08-01 18:00:00             25.0          7    KSF001   4. AMS 2.0mM   \n",
       "27 2024-08-01 18:00:00             25.0          8    KSF087   4. AMS 2.0mM   \n",
       "28 2024-08-01 18:00:00             25.0          9    KSF001   1. AMS 0.0mM   \n",
       "29 2024-08-01 18:00:00             25.0         10    KSF087   1. AMS 0.0mM   \n",
       "30 2024-08-02 09:30:00             40.5          1    KSF001  1. AMS 10.0mM   \n",
       "31 2024-08-02 09:30:00             40.5          2    KSF087  1. AMS 10.0mM   \n",
       "32 2024-08-02 09:30:00             40.5          3    KSF001   2. AMS 5.0mM   \n",
       "33 2024-08-02 09:30:00             40.5          4    KSF087   2. AMS 5.0mM   \n",
       "34 2024-08-02 09:30:00             40.5          5    KSF001   3. AMS 3.5mM   \n",
       "35 2024-08-02 09:30:00             40.5          6    KSF087   3. AMS 3.5mM   \n",
       "36 2024-08-02 09:30:00             40.5          7    KSF001   4. AMS 2.0mM   \n",
       "37 2024-08-02 09:30:00             40.5          8    KSF087   4. AMS 2.0mM   \n",
       "38 2024-08-02 09:30:00             40.5          9    KSF001   1. AMS 0.0mM   \n",
       "39 2024-08-02 09:30:00             40.5         10    KSF087   1. AMS 0.0mM   \n",
       "40 2024-08-02 15:00:00             46.0          1    KSF001  1. AMS 10.0mM   \n",
       "41 2024-08-02 15:00:00             46.0          2    KSF087  1. AMS 10.0mM   \n",
       "42 2024-08-02 15:00:00             46.0          3    KSF001   2. AMS 5.0mM   \n",
       "43 2024-08-02 15:00:00             46.0          4    KSF087   2. AMS 5.0mM   \n",
       "44 2024-08-02 15:00:00             46.0          5    KSF001   3. AMS 3.5mM   \n",
       "45 2024-08-02 15:00:00             46.0          6    KSF087   3. AMS 3.5mM   \n",
       "46 2024-08-02 15:00:00             46.0          7    KSF001   4. AMS 2.0mM   \n",
       "47 2024-08-02 15:00:00             46.0          8    KSF087   4. AMS 2.0mM   \n",
       "48 2024-08-02 15:00:00             46.0          9    KSF001   1. AMS 0.0mM   \n",
       "49 2024-08-02 15:00:00             46.0         10    KSF087   1. AMS 0.0mM   \n",
       "\n",
       "    conc_factor  od_blank_diluted  od_sample_diluted  od_sample  \n",
       "0             4             0.039              0.208      0.676  \n",
       "1             4             0.039              0.145      0.424  \n",
       "2             4             0.042              0.206      0.656  \n",
       "3             4             0.042              0.144      0.408  \n",
       "4             4             0.040              0.213      0.692  \n",
       "5             4             0.040              0.148      0.432  \n",
       "6             4             0.053              0.209      0.624  \n",
       "7             4             0.053              0.147      0.376  \n",
       "8             4             0.038              0.204      0.664  \n",
       "9             4             0.038              0.123      0.340  \n",
       "10            4             0.041              0.128      0.348  \n",
       "11            4             0.041              0.158      0.468  \n",
       "12            4             0.038              0.119      0.324  \n",
       "13            4             0.038              0.131      0.372  \n",
       "14            4             0.057              0.663      2.424  \n",
       "15            4             0.057              0.626      2.276  \n",
       "16            4             0.039              0.480      1.764  \n",
       "17            4             0.039              0.456      1.668  \n",
       "18            4             0.038              0.121      0.332  \n",
       "19            4             0.038              0.112      0.296  \n",
       "20            4             0.039              0.150      0.444  \n",
       "21            4             0.039              0.152      0.452  \n",
       "22            4             0.038              0.128      0.360  \n",
       "23            4             0.038              0.140      0.408  \n",
       "24            4             0.051              0.704      2.612  \n",
       "25            4             0.051              0.645      2.376  \n",
       "26            4             0.039              0.513      1.896  \n",
       "27            4             0.039              0.466      1.708  \n",
       "28            4             0.039              0.137      0.392  \n",
       "29            4             0.039              0.132      0.372  \n",
       "30            4             0.037              0.157      0.480  \n",
       "31            4             0.037              0.169      0.528  \n",
       "32            4             0.038              0.135      0.388  \n",
       "33            4             0.038              0.123      0.340  \n",
       "34            4             0.041              0.636      2.380  \n",
       "35            4             0.041              0.695      2.616  \n",
       "36            4             0.039              0.509      1.880  \n",
       "37            4             0.039              0.455      1.664  \n",
       "38            4             0.038              0.133      0.380  \n",
       "39            4             0.038              0.140      0.408  \n",
       "40            4             0.038              0.163      0.500  \n",
       "41            4             0.038              0.172      0.536  \n",
       "42            4             0.038              0.133      0.380  \n",
       "43            4             0.038              0.149      0.444  \n",
       "44            4             0.039              0.603      2.256  \n",
       "45            4             0.039              0.646      2.428  \n",
       "46            4             0.041              0.488      1.788  \n",
       "47            4             0.041              0.440      1.596  \n",
       "48            4             0.038              0.130      0.368  \n",
       "49            4             0.038              0.137      0.396  "
      ],
      "text/html": [
       "<div>\n",
       "<style scoped>\n",
       "    .dataframe tbody tr th:only-of-type {\n",
       "        vertical-align: middle;\n",
       "    }\n",
       "\n",
       "    .dataframe tbody tr th {\n",
       "        vertical-align: top;\n",
       "    }\n",
       "\n",
       "    .dataframe thead th {\n",
       "        text-align: right;\n",
       "    }\n",
       "</style>\n",
       "<table border=\"1\" class=\"dataframe\">\n",
       "  <thead>\n",
       "    <tr style=\"text-align: right;\">\n",
       "      <th></th>\n",
       "      <th>timestamp</th>\n",
       "      <th>elapsed_time_hr</th>\n",
       "      <th>sample_id</th>\n",
       "      <th>strain_id</th>\n",
       "      <th>condition</th>\n",
       "      <th>conc_factor</th>\n",
       "      <th>od_blank_diluted</th>\n",
       "      <th>od_sample_diluted</th>\n",
       "      <th>od_sample</th>\n",
       "    </tr>\n",
       "  </thead>\n",
       "  <tbody>\n",
       "    <tr>\n",
       "      <th>0</th>\n",
       "      <td>2024-07-31 17:00:00</td>\n",
       "      <td>0.0</td>\n",
       "      <td>1</td>\n",
       "      <td>KSF001</td>\n",
       "      <td>1. AMS 10.0mM</td>\n",
       "      <td>4</td>\n",
       "      <td>0.039</td>\n",
       "      <td>0.208</td>\n",
       "      <td>0.676</td>\n",
       "    </tr>\n",
       "    <tr>\n",
       "      <th>1</th>\n",
       "      <td>2024-07-31 17:00:00</td>\n",
       "      <td>0.0</td>\n",
       "      <td>2</td>\n",
       "      <td>KSF087</td>\n",
       "      <td>1. AMS 10.0mM</td>\n",
       "      <td>4</td>\n",
       "      <td>0.039</td>\n",
       "      <td>0.145</td>\n",
       "      <td>0.424</td>\n",
       "    </tr>\n",
       "    <tr>\n",
       "      <th>2</th>\n",
       "      <td>2024-07-31 17:00:00</td>\n",
       "      <td>0.0</td>\n",
       "      <td>3</td>\n",
       "      <td>KSF001</td>\n",
       "      <td>2. AMS 5.0mM</td>\n",
       "      <td>4</td>\n",
       "      <td>0.042</td>\n",
       "      <td>0.206</td>\n",
       "      <td>0.656</td>\n",
       "    </tr>\n",
       "    <tr>\n",
       "      <th>3</th>\n",
       "      <td>2024-07-31 17:00:00</td>\n",
       "      <td>0.0</td>\n",
       "      <td>4</td>\n",
       "      <td>KSF087</td>\n",
       "      <td>2. AMS 5.0mM</td>\n",
       "      <td>4</td>\n",
       "      <td>0.042</td>\n",
       "      <td>0.144</td>\n",
       "      <td>0.408</td>\n",
       "    </tr>\n",
       "    <tr>\n",
       "      <th>4</th>\n",
       "      <td>2024-07-31 17:00:00</td>\n",
       "      <td>0.0</td>\n",
       "      <td>5</td>\n",
       "      <td>KSF001</td>\n",
       "      <td>3. AMS 3.5mM</td>\n",
       "      <td>4</td>\n",
       "      <td>0.040</td>\n",
       "      <td>0.213</td>\n",
       "      <td>0.692</td>\n",
       "    </tr>\n",
       "    <tr>\n",
       "      <th>5</th>\n",
       "      <td>2024-07-31 17:00:00</td>\n",
       "      <td>0.0</td>\n",
       "      <td>6</td>\n",
       "      <td>KSF087</td>\n",
       "      <td>3. AMS 3.5mM</td>\n",
       "      <td>4</td>\n",
       "      <td>0.040</td>\n",
       "      <td>0.148</td>\n",
       "      <td>0.432</td>\n",
       "    </tr>\n",
       "    <tr>\n",
       "      <th>6</th>\n",
       "      <td>2024-07-31 17:00:00</td>\n",
       "      <td>0.0</td>\n",
       "      <td>7</td>\n",
       "      <td>KSF001</td>\n",
       "      <td>4. AMS 2.0mM</td>\n",
       "      <td>4</td>\n",
       "      <td>0.053</td>\n",
       "      <td>0.209</td>\n",
       "      <td>0.624</td>\n",
       "    </tr>\n",
       "    <tr>\n",
       "      <th>7</th>\n",
       "      <td>2024-07-31 17:00:00</td>\n",
       "      <td>0.0</td>\n",
       "      <td>8</td>\n",
       "      <td>KSF087</td>\n",
       "      <td>4. AMS 2.0mM</td>\n",
       "      <td>4</td>\n",
       "      <td>0.053</td>\n",
       "      <td>0.147</td>\n",
       "      <td>0.376</td>\n",
       "    </tr>\n",
       "    <tr>\n",
       "      <th>8</th>\n",
       "      <td>2024-07-31 17:00:00</td>\n",
       "      <td>0.0</td>\n",
       "      <td>9</td>\n",
       "      <td>KSF001</td>\n",
       "      <td>1. AMS 0.0mM</td>\n",
       "      <td>4</td>\n",
       "      <td>0.038</td>\n",
       "      <td>0.204</td>\n",
       "      <td>0.664</td>\n",
       "    </tr>\n",
       "    <tr>\n",
       "      <th>9</th>\n",
       "      <td>2024-07-31 17:00:00</td>\n",
       "      <td>0.0</td>\n",
       "      <td>10</td>\n",
       "      <td>KSF087</td>\n",
       "      <td>1. AMS 0.0mM</td>\n",
       "      <td>4</td>\n",
       "      <td>0.038</td>\n",
       "      <td>0.123</td>\n",
       "      <td>0.340</td>\n",
       "    </tr>\n",
       "    <tr>\n",
       "      <th>10</th>\n",
       "      <td>2024-08-01 10:00:00</td>\n",
       "      <td>17.0</td>\n",
       "      <td>1</td>\n",
       "      <td>KSF001</td>\n",
       "      <td>1. AMS 10.0mM</td>\n",
       "      <td>4</td>\n",
       "      <td>0.041</td>\n",
       "      <td>0.128</td>\n",
       "      <td>0.348</td>\n",
       "    </tr>\n",
       "    <tr>\n",
       "      <th>11</th>\n",
       "      <td>2024-08-01 10:00:00</td>\n",
       "      <td>17.0</td>\n",
       "      <td>2</td>\n",
       "      <td>KSF087</td>\n",
       "      <td>1. AMS 10.0mM</td>\n",
       "      <td>4</td>\n",
       "      <td>0.041</td>\n",
       "      <td>0.158</td>\n",
       "      <td>0.468</td>\n",
       "    </tr>\n",
       "    <tr>\n",
       "      <th>12</th>\n",
       "      <td>2024-08-01 10:00:00</td>\n",
       "      <td>17.0</td>\n",
       "      <td>3</td>\n",
       "      <td>KSF001</td>\n",
       "      <td>2. AMS 5.0mM</td>\n",
       "      <td>4</td>\n",
       "      <td>0.038</td>\n",
       "      <td>0.119</td>\n",
       "      <td>0.324</td>\n",
       "    </tr>\n",
       "    <tr>\n",
       "      <th>13</th>\n",
       "      <td>2024-08-01 10:00:00</td>\n",
       "      <td>17.0</td>\n",
       "      <td>4</td>\n",
       "      <td>KSF087</td>\n",
       "      <td>2. AMS 5.0mM</td>\n",
       "      <td>4</td>\n",
       "      <td>0.038</td>\n",
       "      <td>0.131</td>\n",
       "      <td>0.372</td>\n",
       "    </tr>\n",
       "    <tr>\n",
       "      <th>14</th>\n",
       "      <td>2024-08-01 10:00:00</td>\n",
       "      <td>17.0</td>\n",
       "      <td>5</td>\n",
       "      <td>KSF001</td>\n",
       "      <td>3. AMS 3.5mM</td>\n",
       "      <td>4</td>\n",
       "      <td>0.057</td>\n",
       "      <td>0.663</td>\n",
       "      <td>2.424</td>\n",
       "    </tr>\n",
       "    <tr>\n",
       "      <th>15</th>\n",
       "      <td>2024-08-01 10:00:00</td>\n",
       "      <td>17.0</td>\n",
       "      <td>6</td>\n",
       "      <td>KSF087</td>\n",
       "      <td>3. AMS 3.5mM</td>\n",
       "      <td>4</td>\n",
       "      <td>0.057</td>\n",
       "      <td>0.626</td>\n",
       "      <td>2.276</td>\n",
       "    </tr>\n",
       "    <tr>\n",
       "      <th>16</th>\n",
       "      <td>2024-08-01 10:00:00</td>\n",
       "      <td>17.0</td>\n",
       "      <td>7</td>\n",
       "      <td>KSF001</td>\n",
       "      <td>4. AMS 2.0mM</td>\n",
       "      <td>4</td>\n",
       "      <td>0.039</td>\n",
       "      <td>0.480</td>\n",
       "      <td>1.764</td>\n",
       "    </tr>\n",
       "    <tr>\n",
       "      <th>17</th>\n",
       "      <td>2024-08-01 10:00:00</td>\n",
       "      <td>17.0</td>\n",
       "      <td>8</td>\n",
       "      <td>KSF087</td>\n",
       "      <td>4. AMS 2.0mM</td>\n",
       "      <td>4</td>\n",
       "      <td>0.039</td>\n",
       "      <td>0.456</td>\n",
       "      <td>1.668</td>\n",
       "    </tr>\n",
       "    <tr>\n",
       "      <th>18</th>\n",
       "      <td>2024-08-01 10:00:00</td>\n",
       "      <td>17.0</td>\n",
       "      <td>9</td>\n",
       "      <td>KSF001</td>\n",
       "      <td>1. AMS 0.0mM</td>\n",
       "      <td>4</td>\n",
       "      <td>0.038</td>\n",
       "      <td>0.121</td>\n",
       "      <td>0.332</td>\n",
       "    </tr>\n",
       "    <tr>\n",
       "      <th>19</th>\n",
       "      <td>2024-08-01 10:00:00</td>\n",
       "      <td>17.0</td>\n",
       "      <td>10</td>\n",
       "      <td>KSF087</td>\n",
       "      <td>1. AMS 0.0mM</td>\n",
       "      <td>4</td>\n",
       "      <td>0.038</td>\n",
       "      <td>0.112</td>\n",
       "      <td>0.296</td>\n",
       "    </tr>\n",
       "    <tr>\n",
       "      <th>20</th>\n",
       "      <td>2024-08-01 18:00:00</td>\n",
       "      <td>25.0</td>\n",
       "      <td>1</td>\n",
       "      <td>KSF001</td>\n",
       "      <td>1. AMS 10.0mM</td>\n",
       "      <td>4</td>\n",
       "      <td>0.039</td>\n",
       "      <td>0.150</td>\n",
       "      <td>0.444</td>\n",
       "    </tr>\n",
       "    <tr>\n",
       "      <th>21</th>\n",
       "      <td>2024-08-01 18:00:00</td>\n",
       "      <td>25.0</td>\n",
       "      <td>2</td>\n",
       "      <td>KSF087</td>\n",
       "      <td>1. AMS 10.0mM</td>\n",
       "      <td>4</td>\n",
       "      <td>0.039</td>\n",
       "      <td>0.152</td>\n",
       "      <td>0.452</td>\n",
       "    </tr>\n",
       "    <tr>\n",
       "      <th>22</th>\n",
       "      <td>2024-08-01 18:00:00</td>\n",
       "      <td>25.0</td>\n",
       "      <td>3</td>\n",
       "      <td>KSF001</td>\n",
       "      <td>2. AMS 5.0mM</td>\n",
       "      <td>4</td>\n",
       "      <td>0.038</td>\n",
       "      <td>0.128</td>\n",
       "      <td>0.360</td>\n",
       "    </tr>\n",
       "    <tr>\n",
       "      <th>23</th>\n",
       "      <td>2024-08-01 18:00:00</td>\n",
       "      <td>25.0</td>\n",
       "      <td>4</td>\n",
       "      <td>KSF087</td>\n",
       "      <td>2. AMS 5.0mM</td>\n",
       "      <td>4</td>\n",
       "      <td>0.038</td>\n",
       "      <td>0.140</td>\n",
       "      <td>0.408</td>\n",
       "    </tr>\n",
       "    <tr>\n",
       "      <th>24</th>\n",
       "      <td>2024-08-01 18:00:00</td>\n",
       "      <td>25.0</td>\n",
       "      <td>5</td>\n",
       "      <td>KSF001</td>\n",
       "      <td>3. AMS 3.5mM</td>\n",
       "      <td>4</td>\n",
       "      <td>0.051</td>\n",
       "      <td>0.704</td>\n",
       "      <td>2.612</td>\n",
       "    </tr>\n",
       "    <tr>\n",
       "      <th>25</th>\n",
       "      <td>2024-08-01 18:00:00</td>\n",
       "      <td>25.0</td>\n",
       "      <td>6</td>\n",
       "      <td>KSF087</td>\n",
       "      <td>3. AMS 3.5mM</td>\n",
       "      <td>4</td>\n",
       "      <td>0.051</td>\n",
       "      <td>0.645</td>\n",
       "      <td>2.376</td>\n",
       "    </tr>\n",
       "    <tr>\n",
       "      <th>26</th>\n",
       "      <td>2024-08-01 18:00:00</td>\n",
       "      <td>25.0</td>\n",
       "      <td>7</td>\n",
       "      <td>KSF001</td>\n",
       "      <td>4. AMS 2.0mM</td>\n",
       "      <td>4</td>\n",
       "      <td>0.039</td>\n",
       "      <td>0.513</td>\n",
       "      <td>1.896</td>\n",
       "    </tr>\n",
       "    <tr>\n",
       "      <th>27</th>\n",
       "      <td>2024-08-01 18:00:00</td>\n",
       "      <td>25.0</td>\n",
       "      <td>8</td>\n",
       "      <td>KSF087</td>\n",
       "      <td>4. AMS 2.0mM</td>\n",
       "      <td>4</td>\n",
       "      <td>0.039</td>\n",
       "      <td>0.466</td>\n",
       "      <td>1.708</td>\n",
       "    </tr>\n",
       "    <tr>\n",
       "      <th>28</th>\n",
       "      <td>2024-08-01 18:00:00</td>\n",
       "      <td>25.0</td>\n",
       "      <td>9</td>\n",
       "      <td>KSF001</td>\n",
       "      <td>1. AMS 0.0mM</td>\n",
       "      <td>4</td>\n",
       "      <td>0.039</td>\n",
       "      <td>0.137</td>\n",
       "      <td>0.392</td>\n",
       "    </tr>\n",
       "    <tr>\n",
       "      <th>29</th>\n",
       "      <td>2024-08-01 18:00:00</td>\n",
       "      <td>25.0</td>\n",
       "      <td>10</td>\n",
       "      <td>KSF087</td>\n",
       "      <td>1. AMS 0.0mM</td>\n",
       "      <td>4</td>\n",
       "      <td>0.039</td>\n",
       "      <td>0.132</td>\n",
       "      <td>0.372</td>\n",
       "    </tr>\n",
       "    <tr>\n",
       "      <th>30</th>\n",
       "      <td>2024-08-02 09:30:00</td>\n",
       "      <td>40.5</td>\n",
       "      <td>1</td>\n",
       "      <td>KSF001</td>\n",
       "      <td>1. AMS 10.0mM</td>\n",
       "      <td>4</td>\n",
       "      <td>0.037</td>\n",
       "      <td>0.157</td>\n",
       "      <td>0.480</td>\n",
       "    </tr>\n",
       "    <tr>\n",
       "      <th>31</th>\n",
       "      <td>2024-08-02 09:30:00</td>\n",
       "      <td>40.5</td>\n",
       "      <td>2</td>\n",
       "      <td>KSF087</td>\n",
       "      <td>1. AMS 10.0mM</td>\n",
       "      <td>4</td>\n",
       "      <td>0.037</td>\n",
       "      <td>0.169</td>\n",
       "      <td>0.528</td>\n",
       "    </tr>\n",
       "    <tr>\n",
       "      <th>32</th>\n",
       "      <td>2024-08-02 09:30:00</td>\n",
       "      <td>40.5</td>\n",
       "      <td>3</td>\n",
       "      <td>KSF001</td>\n",
       "      <td>2. AMS 5.0mM</td>\n",
       "      <td>4</td>\n",
       "      <td>0.038</td>\n",
       "      <td>0.135</td>\n",
       "      <td>0.388</td>\n",
       "    </tr>\n",
       "    <tr>\n",
       "      <th>33</th>\n",
       "      <td>2024-08-02 09:30:00</td>\n",
       "      <td>40.5</td>\n",
       "      <td>4</td>\n",
       "      <td>KSF087</td>\n",
       "      <td>2. AMS 5.0mM</td>\n",
       "      <td>4</td>\n",
       "      <td>0.038</td>\n",
       "      <td>0.123</td>\n",
       "      <td>0.340</td>\n",
       "    </tr>\n",
       "    <tr>\n",
       "      <th>34</th>\n",
       "      <td>2024-08-02 09:30:00</td>\n",
       "      <td>40.5</td>\n",
       "      <td>5</td>\n",
       "      <td>KSF001</td>\n",
       "      <td>3. AMS 3.5mM</td>\n",
       "      <td>4</td>\n",
       "      <td>0.041</td>\n",
       "      <td>0.636</td>\n",
       "      <td>2.380</td>\n",
       "    </tr>\n",
       "    <tr>\n",
       "      <th>35</th>\n",
       "      <td>2024-08-02 09:30:00</td>\n",
       "      <td>40.5</td>\n",
       "      <td>6</td>\n",
       "      <td>KSF087</td>\n",
       "      <td>3. AMS 3.5mM</td>\n",
       "      <td>4</td>\n",
       "      <td>0.041</td>\n",
       "      <td>0.695</td>\n",
       "      <td>2.616</td>\n",
       "    </tr>\n",
       "    <tr>\n",
       "      <th>36</th>\n",
       "      <td>2024-08-02 09:30:00</td>\n",
       "      <td>40.5</td>\n",
       "      <td>7</td>\n",
       "      <td>KSF001</td>\n",
       "      <td>4. AMS 2.0mM</td>\n",
       "      <td>4</td>\n",
       "      <td>0.039</td>\n",
       "      <td>0.509</td>\n",
       "      <td>1.880</td>\n",
       "    </tr>\n",
       "    <tr>\n",
       "      <th>37</th>\n",
       "      <td>2024-08-02 09:30:00</td>\n",
       "      <td>40.5</td>\n",
       "      <td>8</td>\n",
       "      <td>KSF087</td>\n",
       "      <td>4. AMS 2.0mM</td>\n",
       "      <td>4</td>\n",
       "      <td>0.039</td>\n",
       "      <td>0.455</td>\n",
       "      <td>1.664</td>\n",
       "    </tr>\n",
       "    <tr>\n",
       "      <th>38</th>\n",
       "      <td>2024-08-02 09:30:00</td>\n",
       "      <td>40.5</td>\n",
       "      <td>9</td>\n",
       "      <td>KSF001</td>\n",
       "      <td>1. AMS 0.0mM</td>\n",
       "      <td>4</td>\n",
       "      <td>0.038</td>\n",
       "      <td>0.133</td>\n",
       "      <td>0.380</td>\n",
       "    </tr>\n",
       "    <tr>\n",
       "      <th>39</th>\n",
       "      <td>2024-08-02 09:30:00</td>\n",
       "      <td>40.5</td>\n",
       "      <td>10</td>\n",
       "      <td>KSF087</td>\n",
       "      <td>1. AMS 0.0mM</td>\n",
       "      <td>4</td>\n",
       "      <td>0.038</td>\n",
       "      <td>0.140</td>\n",
       "      <td>0.408</td>\n",
       "    </tr>\n",
       "    <tr>\n",
       "      <th>40</th>\n",
       "      <td>2024-08-02 15:00:00</td>\n",
       "      <td>46.0</td>\n",
       "      <td>1</td>\n",
       "      <td>KSF001</td>\n",
       "      <td>1. AMS 10.0mM</td>\n",
       "      <td>4</td>\n",
       "      <td>0.038</td>\n",
       "      <td>0.163</td>\n",
       "      <td>0.500</td>\n",
       "    </tr>\n",
       "    <tr>\n",
       "      <th>41</th>\n",
       "      <td>2024-08-02 15:00:00</td>\n",
       "      <td>46.0</td>\n",
       "      <td>2</td>\n",
       "      <td>KSF087</td>\n",
       "      <td>1. AMS 10.0mM</td>\n",
       "      <td>4</td>\n",
       "      <td>0.038</td>\n",
       "      <td>0.172</td>\n",
       "      <td>0.536</td>\n",
       "    </tr>\n",
       "    <tr>\n",
       "      <th>42</th>\n",
       "      <td>2024-08-02 15:00:00</td>\n",
       "      <td>46.0</td>\n",
       "      <td>3</td>\n",
       "      <td>KSF001</td>\n",
       "      <td>2. AMS 5.0mM</td>\n",
       "      <td>4</td>\n",
       "      <td>0.038</td>\n",
       "      <td>0.133</td>\n",
       "      <td>0.380</td>\n",
       "    </tr>\n",
       "    <tr>\n",
       "      <th>43</th>\n",
       "      <td>2024-08-02 15:00:00</td>\n",
       "      <td>46.0</td>\n",
       "      <td>4</td>\n",
       "      <td>KSF087</td>\n",
       "      <td>2. AMS 5.0mM</td>\n",
       "      <td>4</td>\n",
       "      <td>0.038</td>\n",
       "      <td>0.149</td>\n",
       "      <td>0.444</td>\n",
       "    </tr>\n",
       "    <tr>\n",
       "      <th>44</th>\n",
       "      <td>2024-08-02 15:00:00</td>\n",
       "      <td>46.0</td>\n",
       "      <td>5</td>\n",
       "      <td>KSF001</td>\n",
       "      <td>3. AMS 3.5mM</td>\n",
       "      <td>4</td>\n",
       "      <td>0.039</td>\n",
       "      <td>0.603</td>\n",
       "      <td>2.256</td>\n",
       "    </tr>\n",
       "    <tr>\n",
       "      <th>45</th>\n",
       "      <td>2024-08-02 15:00:00</td>\n",
       "      <td>46.0</td>\n",
       "      <td>6</td>\n",
       "      <td>KSF087</td>\n",
       "      <td>3. AMS 3.5mM</td>\n",
       "      <td>4</td>\n",
       "      <td>0.039</td>\n",
       "      <td>0.646</td>\n",
       "      <td>2.428</td>\n",
       "    </tr>\n",
       "    <tr>\n",
       "      <th>46</th>\n",
       "      <td>2024-08-02 15:00:00</td>\n",
       "      <td>46.0</td>\n",
       "      <td>7</td>\n",
       "      <td>KSF001</td>\n",
       "      <td>4. AMS 2.0mM</td>\n",
       "      <td>4</td>\n",
       "      <td>0.041</td>\n",
       "      <td>0.488</td>\n",
       "      <td>1.788</td>\n",
       "    </tr>\n",
       "    <tr>\n",
       "      <th>47</th>\n",
       "      <td>2024-08-02 15:00:00</td>\n",
       "      <td>46.0</td>\n",
       "      <td>8</td>\n",
       "      <td>KSF087</td>\n",
       "      <td>4. AMS 2.0mM</td>\n",
       "      <td>4</td>\n",
       "      <td>0.041</td>\n",
       "      <td>0.440</td>\n",
       "      <td>1.596</td>\n",
       "    </tr>\n",
       "    <tr>\n",
       "      <th>48</th>\n",
       "      <td>2024-08-02 15:00:00</td>\n",
       "      <td>46.0</td>\n",
       "      <td>9</td>\n",
       "      <td>KSF001</td>\n",
       "      <td>1. AMS 0.0mM</td>\n",
       "      <td>4</td>\n",
       "      <td>0.038</td>\n",
       "      <td>0.130</td>\n",
       "      <td>0.368</td>\n",
       "    </tr>\n",
       "    <tr>\n",
       "      <th>49</th>\n",
       "      <td>2024-08-02 15:00:00</td>\n",
       "      <td>46.0</td>\n",
       "      <td>10</td>\n",
       "      <td>KSF087</td>\n",
       "      <td>1. AMS 0.0mM</td>\n",
       "      <td>4</td>\n",
       "      <td>0.038</td>\n",
       "      <td>0.137</td>\n",
       "      <td>0.396</td>\n",
       "    </tr>\n",
       "  </tbody>\n",
       "</table>\n",
       "</div>"
      ]
     },
     "execution_count": 4,
     "metadata": {},
     "output_type": "execute_result"
    }
   ],
   "execution_count": 4
  },
  {
   "metadata": {
    "ExecuteTime": {
     "end_time": "2024-10-04T20:33:56.931030Z",
     "start_time": "2024-10-04T20:33:56.828304Z"
    }
   },
   "cell_type": "code",
   "source": [
    "fig_n_response = px.line(\n",
    "    df_n_deplete_od,\n",
    "    x='elapsed_time_hr',\n",
    "    y='od_sample',\n",
    "    color='strain_id',\n",
    "    facet_col='condition',\n",
    "    facet_col_wrap=5,\n",
    "    markers=True,\n",
    "    title='OD Curves for Different Strains and Conditions (post N+/PO4- culturing, washing, and resuspension)',\n",
    "    labels={\n",
    "        'elapsed_time_hr': 'Elapsed Time (hr)',\n",
    "        'od_sample': 'OD',\n",
    "        'strain_id': 'Strain ID'\n",
    "    }\n",
    ").update_layout(\n",
    "    title_x=0.5,\n",
    "    showlegend=True,\n",
    "    legend_title_text='Strain ID'\n",
    ")\n",
    "fig_n_response.write_image('../../figures/pk_exp004_n_response_raw.pdf')\n",
    "fig_n_response"
   ],
   "id": "3589c750f977f9ef",
   "outputs": [
    {
     "data": {
      "application/vnd.plotly.v1+json": {
       "data": [
        {
         "hovertemplate": "Strain ID=KSF001<br>condition=1. AMS 10.0mM<br>Elapsed Time (hr)=%{x}<br>OD=%{y}<extra></extra>",
         "legendgroup": "KSF001",
         "line": {
          "color": "#636efa",
          "dash": "solid"
         },
         "marker": {
          "symbol": "circle"
         },
         "mode": "lines+markers",
         "name": "KSF001",
         "orientation": "v",
         "showlegend": true,
         "x": [
          0.0,
          16.999999999883585,
          24.999999999941792,
          40.5,
          45.99999999994179
         ],
         "xaxis": "x",
         "y": [
          0.6759999999999999,
          0.348,
          0.44399999999999995,
          0.48,
          0.5
         ],
         "yaxis": "y",
         "type": "scatter"
        },
        {
         "hovertemplate": "Strain ID=KSF001<br>condition=2. AMS 5.0mM<br>Elapsed Time (hr)=%{x}<br>OD=%{y}<extra></extra>",
         "legendgroup": "KSF001",
         "line": {
          "color": "#636efa",
          "dash": "solid"
         },
         "marker": {
          "symbol": "circle"
         },
         "mode": "lines+markers",
         "name": "KSF001",
         "orientation": "v",
         "showlegend": false,
         "x": [
          0.0,
          16.999999999883585,
          24.999999999941792,
          40.5,
          45.99999999994179
         ],
         "xaxis": "x2",
         "y": [
          0.6559999999999999,
          0.32399999999999995,
          0.36,
          0.388,
          0.38
         ],
         "yaxis": "y2",
         "type": "scatter"
        },
        {
         "hovertemplate": "Strain ID=KSF001<br>condition=3. AMS 3.5mM<br>Elapsed Time (hr)=%{x}<br>OD=%{y}<extra></extra>",
         "legendgroup": "KSF001",
         "line": {
          "color": "#636efa",
          "dash": "solid"
         },
         "marker": {
          "symbol": "circle"
         },
         "mode": "lines+markers",
         "name": "KSF001",
         "orientation": "v",
         "showlegend": false,
         "x": [
          0.0,
          16.999999999883585,
          24.999999999941792,
          40.5,
          45.99999999994179
         ],
         "xaxis": "x3",
         "y": [
          0.692,
          2.424,
          2.6119999999999997,
          2.38,
          2.256
         ],
         "yaxis": "y3",
         "type": "scatter"
        },
        {
         "hovertemplate": "Strain ID=KSF001<br>condition=4. AMS 2.0mM<br>Elapsed Time (hr)=%{x}<br>OD=%{y}<extra></extra>",
         "legendgroup": "KSF001",
         "line": {
          "color": "#636efa",
          "dash": "solid"
         },
         "marker": {
          "symbol": "circle"
         },
         "mode": "lines+markers",
         "name": "KSF001",
         "orientation": "v",
         "showlegend": false,
         "x": [
          0.0,
          16.999999999883585,
          24.999999999941792,
          40.5,
          45.99999999994179
         ],
         "xaxis": "x4",
         "y": [
          0.624,
          1.764,
          1.8960000000000001,
          1.8800000000000001,
          1.788
         ],
         "yaxis": "y4",
         "type": "scatter"
        },
        {
         "hovertemplate": "Strain ID=KSF001<br>condition=1. AMS 0.0mM<br>Elapsed Time (hr)=%{x}<br>OD=%{y}<extra></extra>",
         "legendgroup": "KSF001",
         "line": {
          "color": "#636efa",
          "dash": "solid"
         },
         "marker": {
          "symbol": "circle"
         },
         "mode": "lines+markers",
         "name": "KSF001",
         "orientation": "v",
         "showlegend": false,
         "x": [
          0.0,
          16.999999999883585,
          24.999999999941792,
          40.5,
          45.99999999994179
         ],
         "xaxis": "x5",
         "y": [
          0.6639999999999999,
          0.33199999999999996,
          0.392,
          0.38,
          0.368
         ],
         "yaxis": "y5",
         "type": "scatter"
        },
        {
         "hovertemplate": "Strain ID=KSF087<br>condition=1. AMS 10.0mM<br>Elapsed Time (hr)=%{x}<br>OD=%{y}<extra></extra>",
         "legendgroup": "KSF087",
         "line": {
          "color": "#EF553B",
          "dash": "solid"
         },
         "marker": {
          "symbol": "circle"
         },
         "mode": "lines+markers",
         "name": "KSF087",
         "orientation": "v",
         "showlegend": true,
         "x": [
          0.0,
          16.999999999883585,
          24.999999999941792,
          40.5,
          45.99999999994179
         ],
         "xaxis": "x",
         "y": [
          0.42399999999999993,
          0.46799999999999997,
          0.45199999999999996,
          0.528,
          0.5359999999999999
         ],
         "yaxis": "y",
         "type": "scatter"
        },
        {
         "hovertemplate": "Strain ID=KSF087<br>condition=2. AMS 5.0mM<br>Elapsed Time (hr)=%{x}<br>OD=%{y}<extra></extra>",
         "legendgroup": "KSF087",
         "line": {
          "color": "#EF553B",
          "dash": "solid"
         },
         "marker": {
          "symbol": "circle"
         },
         "mode": "lines+markers",
         "name": "KSF087",
         "orientation": "v",
         "showlegend": false,
         "x": [
          0.0,
          16.999999999883585,
          24.999999999941792,
          40.5,
          45.99999999994179
         ],
         "xaxis": "x2",
         "y": [
          0.4079999999999999,
          0.372,
          0.40800000000000003,
          0.33999999999999997,
          0.44399999999999995
         ],
         "yaxis": "y2",
         "type": "scatter"
        },
        {
         "hovertemplate": "Strain ID=KSF087<br>condition=3. AMS 3.5mM<br>Elapsed Time (hr)=%{x}<br>OD=%{y}<extra></extra>",
         "legendgroup": "KSF087",
         "line": {
          "color": "#EF553B",
          "dash": "solid"
         },
         "marker": {
          "symbol": "circle"
         },
         "mode": "lines+markers",
         "name": "KSF087",
         "orientation": "v",
         "showlegend": false,
         "x": [
          0.0,
          16.999999999883585,
          24.999999999941792,
          40.5,
          45.99999999994179
         ],
         "xaxis": "x3",
         "y": [
          0.43199999999999994,
          2.276,
          2.376,
          2.6159999999999997,
          2.428
         ],
         "yaxis": "y3",
         "type": "scatter"
        },
        {
         "hovertemplate": "Strain ID=KSF087<br>condition=4. AMS 2.0mM<br>Elapsed Time (hr)=%{x}<br>OD=%{y}<extra></extra>",
         "legendgroup": "KSF087",
         "line": {
          "color": "#EF553B",
          "dash": "solid"
         },
         "marker": {
          "symbol": "circle"
         },
         "mode": "lines+markers",
         "name": "KSF087",
         "orientation": "v",
         "showlegend": false,
         "x": [
          0.0,
          16.999999999883585,
          24.999999999941792,
          40.5,
          45.99999999994179
         ],
         "xaxis": "x4",
         "y": [
          0.376,
          1.6680000000000001,
          1.7080000000000002,
          1.6640000000000001,
          1.596
         ],
         "yaxis": "y4",
         "type": "scatter"
        },
        {
         "hovertemplate": "Strain ID=KSF087<br>condition=1. AMS 0.0mM<br>Elapsed Time (hr)=%{x}<br>OD=%{y}<extra></extra>",
         "legendgroup": "KSF087",
         "line": {
          "color": "#EF553B",
          "dash": "solid"
         },
         "marker": {
          "symbol": "circle"
         },
         "mode": "lines+markers",
         "name": "KSF087",
         "orientation": "v",
         "showlegend": false,
         "x": [
          0.0,
          16.999999999883585,
          24.999999999941792,
          40.5,
          45.99999999994179
         ],
         "xaxis": "x5",
         "y": [
          0.33999999999999997,
          0.29600000000000004,
          0.372,
          0.40800000000000003,
          0.396
         ],
         "yaxis": "y5",
         "type": "scatter"
        }
       ],
       "layout": {
        "template": {
         "data": {
          "histogram2dcontour": [
           {
            "type": "histogram2dcontour",
            "colorbar": {
             "outlinewidth": 0,
             "ticks": ""
            },
            "colorscale": [
             [
              0.0,
              "#0d0887"
             ],
             [
              0.1111111111111111,
              "#46039f"
             ],
             [
              0.2222222222222222,
              "#7201a8"
             ],
             [
              0.3333333333333333,
              "#9c179e"
             ],
             [
              0.4444444444444444,
              "#bd3786"
             ],
             [
              0.5555555555555556,
              "#d8576b"
             ],
             [
              0.6666666666666666,
              "#ed7953"
             ],
             [
              0.7777777777777778,
              "#fb9f3a"
             ],
             [
              0.8888888888888888,
              "#fdca26"
             ],
             [
              1.0,
              "#f0f921"
             ]
            ]
           }
          ],
          "choropleth": [
           {
            "type": "choropleth",
            "colorbar": {
             "outlinewidth": 0,
             "ticks": ""
            }
           }
          ],
          "histogram2d": [
           {
            "type": "histogram2d",
            "colorbar": {
             "outlinewidth": 0,
             "ticks": ""
            },
            "colorscale": [
             [
              0.0,
              "#0d0887"
             ],
             [
              0.1111111111111111,
              "#46039f"
             ],
             [
              0.2222222222222222,
              "#7201a8"
             ],
             [
              0.3333333333333333,
              "#9c179e"
             ],
             [
              0.4444444444444444,
              "#bd3786"
             ],
             [
              0.5555555555555556,
              "#d8576b"
             ],
             [
              0.6666666666666666,
              "#ed7953"
             ],
             [
              0.7777777777777778,
              "#fb9f3a"
             ],
             [
              0.8888888888888888,
              "#fdca26"
             ],
             [
              1.0,
              "#f0f921"
             ]
            ]
           }
          ],
          "heatmap": [
           {
            "type": "heatmap",
            "colorbar": {
             "outlinewidth": 0,
             "ticks": ""
            },
            "colorscale": [
             [
              0.0,
              "#0d0887"
             ],
             [
              0.1111111111111111,
              "#46039f"
             ],
             [
              0.2222222222222222,
              "#7201a8"
             ],
             [
              0.3333333333333333,
              "#9c179e"
             ],
             [
              0.4444444444444444,
              "#bd3786"
             ],
             [
              0.5555555555555556,
              "#d8576b"
             ],
             [
              0.6666666666666666,
              "#ed7953"
             ],
             [
              0.7777777777777778,
              "#fb9f3a"
             ],
             [
              0.8888888888888888,
              "#fdca26"
             ],
             [
              1.0,
              "#f0f921"
             ]
            ]
           }
          ],
          "heatmapgl": [
           {
            "type": "heatmapgl",
            "colorbar": {
             "outlinewidth": 0,
             "ticks": ""
            },
            "colorscale": [
             [
              0.0,
              "#0d0887"
             ],
             [
              0.1111111111111111,
              "#46039f"
             ],
             [
              0.2222222222222222,
              "#7201a8"
             ],
             [
              0.3333333333333333,
              "#9c179e"
             ],
             [
              0.4444444444444444,
              "#bd3786"
             ],
             [
              0.5555555555555556,
              "#d8576b"
             ],
             [
              0.6666666666666666,
              "#ed7953"
             ],
             [
              0.7777777777777778,
              "#fb9f3a"
             ],
             [
              0.8888888888888888,
              "#fdca26"
             ],
             [
              1.0,
              "#f0f921"
             ]
            ]
           }
          ],
          "contourcarpet": [
           {
            "type": "contourcarpet",
            "colorbar": {
             "outlinewidth": 0,
             "ticks": ""
            }
           }
          ],
          "contour": [
           {
            "type": "contour",
            "colorbar": {
             "outlinewidth": 0,
             "ticks": ""
            },
            "colorscale": [
             [
              0.0,
              "#0d0887"
             ],
             [
              0.1111111111111111,
              "#46039f"
             ],
             [
              0.2222222222222222,
              "#7201a8"
             ],
             [
              0.3333333333333333,
              "#9c179e"
             ],
             [
              0.4444444444444444,
              "#bd3786"
             ],
             [
              0.5555555555555556,
              "#d8576b"
             ],
             [
              0.6666666666666666,
              "#ed7953"
             ],
             [
              0.7777777777777778,
              "#fb9f3a"
             ],
             [
              0.8888888888888888,
              "#fdca26"
             ],
             [
              1.0,
              "#f0f921"
             ]
            ]
           }
          ],
          "surface": [
           {
            "type": "surface",
            "colorbar": {
             "outlinewidth": 0,
             "ticks": ""
            },
            "colorscale": [
             [
              0.0,
              "#0d0887"
             ],
             [
              0.1111111111111111,
              "#46039f"
             ],
             [
              0.2222222222222222,
              "#7201a8"
             ],
             [
              0.3333333333333333,
              "#9c179e"
             ],
             [
              0.4444444444444444,
              "#bd3786"
             ],
             [
              0.5555555555555556,
              "#d8576b"
             ],
             [
              0.6666666666666666,
              "#ed7953"
             ],
             [
              0.7777777777777778,
              "#fb9f3a"
             ],
             [
              0.8888888888888888,
              "#fdca26"
             ],
             [
              1.0,
              "#f0f921"
             ]
            ]
           }
          ],
          "mesh3d": [
           {
            "type": "mesh3d",
            "colorbar": {
             "outlinewidth": 0,
             "ticks": ""
            }
           }
          ],
          "scatter": [
           {
            "fillpattern": {
             "fillmode": "overlay",
             "size": 10,
             "solidity": 0.2
            },
            "type": "scatter"
           }
          ],
          "parcoords": [
           {
            "type": "parcoords",
            "line": {
             "colorbar": {
              "outlinewidth": 0,
              "ticks": ""
             }
            }
           }
          ],
          "scatterpolargl": [
           {
            "type": "scatterpolargl",
            "marker": {
             "colorbar": {
              "outlinewidth": 0,
              "ticks": ""
             }
            }
           }
          ],
          "bar": [
           {
            "error_x": {
             "color": "#2a3f5f"
            },
            "error_y": {
             "color": "#2a3f5f"
            },
            "marker": {
             "line": {
              "color": "#E5ECF6",
              "width": 0.5
             },
             "pattern": {
              "fillmode": "overlay",
              "size": 10,
              "solidity": 0.2
             }
            },
            "type": "bar"
           }
          ],
          "scattergeo": [
           {
            "type": "scattergeo",
            "marker": {
             "colorbar": {
              "outlinewidth": 0,
              "ticks": ""
             }
            }
           }
          ],
          "scatterpolar": [
           {
            "type": "scatterpolar",
            "marker": {
             "colorbar": {
              "outlinewidth": 0,
              "ticks": ""
             }
            }
           }
          ],
          "histogram": [
           {
            "marker": {
             "pattern": {
              "fillmode": "overlay",
              "size": 10,
              "solidity": 0.2
             }
            },
            "type": "histogram"
           }
          ],
          "scattergl": [
           {
            "type": "scattergl",
            "marker": {
             "colorbar": {
              "outlinewidth": 0,
              "ticks": ""
             }
            }
           }
          ],
          "scatter3d": [
           {
            "type": "scatter3d",
            "line": {
             "colorbar": {
              "outlinewidth": 0,
              "ticks": ""
             }
            },
            "marker": {
             "colorbar": {
              "outlinewidth": 0,
              "ticks": ""
             }
            }
           }
          ],
          "scattermapbox": [
           {
            "type": "scattermapbox",
            "marker": {
             "colorbar": {
              "outlinewidth": 0,
              "ticks": ""
             }
            }
           }
          ],
          "scatterternary": [
           {
            "type": "scatterternary",
            "marker": {
             "colorbar": {
              "outlinewidth": 0,
              "ticks": ""
             }
            }
           }
          ],
          "scattercarpet": [
           {
            "type": "scattercarpet",
            "marker": {
             "colorbar": {
              "outlinewidth": 0,
              "ticks": ""
             }
            }
           }
          ],
          "carpet": [
           {
            "aaxis": {
             "endlinecolor": "#2a3f5f",
             "gridcolor": "white",
             "linecolor": "white",
             "minorgridcolor": "white",
             "startlinecolor": "#2a3f5f"
            },
            "baxis": {
             "endlinecolor": "#2a3f5f",
             "gridcolor": "white",
             "linecolor": "white",
             "minorgridcolor": "white",
             "startlinecolor": "#2a3f5f"
            },
            "type": "carpet"
           }
          ],
          "table": [
           {
            "cells": {
             "fill": {
              "color": "#EBF0F8"
             },
             "line": {
              "color": "white"
             }
            },
            "header": {
             "fill": {
              "color": "#C8D4E3"
             },
             "line": {
              "color": "white"
             }
            },
            "type": "table"
           }
          ],
          "barpolar": [
           {
            "marker": {
             "line": {
              "color": "#E5ECF6",
              "width": 0.5
             },
             "pattern": {
              "fillmode": "overlay",
              "size": 10,
              "solidity": 0.2
             }
            },
            "type": "barpolar"
           }
          ],
          "pie": [
           {
            "automargin": true,
            "type": "pie"
           }
          ]
         },
         "layout": {
          "autotypenumbers": "strict",
          "colorway": [
           "#636efa",
           "#EF553B",
           "#00cc96",
           "#ab63fa",
           "#FFA15A",
           "#19d3f3",
           "#FF6692",
           "#B6E880",
           "#FF97FF",
           "#FECB52"
          ],
          "font": {
           "color": "#2a3f5f"
          },
          "hovermode": "closest",
          "hoverlabel": {
           "align": "left"
          },
          "paper_bgcolor": "white",
          "plot_bgcolor": "#E5ECF6",
          "polar": {
           "bgcolor": "#E5ECF6",
           "angularaxis": {
            "gridcolor": "white",
            "linecolor": "white",
            "ticks": ""
           },
           "radialaxis": {
            "gridcolor": "white",
            "linecolor": "white",
            "ticks": ""
           }
          },
          "ternary": {
           "bgcolor": "#E5ECF6",
           "aaxis": {
            "gridcolor": "white",
            "linecolor": "white",
            "ticks": ""
           },
           "baxis": {
            "gridcolor": "white",
            "linecolor": "white",
            "ticks": ""
           },
           "caxis": {
            "gridcolor": "white",
            "linecolor": "white",
            "ticks": ""
           }
          },
          "coloraxis": {
           "colorbar": {
            "outlinewidth": 0,
            "ticks": ""
           }
          },
          "colorscale": {
           "sequential": [
            [
             0.0,
             "#0d0887"
            ],
            [
             0.1111111111111111,
             "#46039f"
            ],
            [
             0.2222222222222222,
             "#7201a8"
            ],
            [
             0.3333333333333333,
             "#9c179e"
            ],
            [
             0.4444444444444444,
             "#bd3786"
            ],
            [
             0.5555555555555556,
             "#d8576b"
            ],
            [
             0.6666666666666666,
             "#ed7953"
            ],
            [
             0.7777777777777778,
             "#fb9f3a"
            ],
            [
             0.8888888888888888,
             "#fdca26"
            ],
            [
             1.0,
             "#f0f921"
            ]
           ],
           "sequentialminus": [
            [
             0.0,
             "#0d0887"
            ],
            [
             0.1111111111111111,
             "#46039f"
            ],
            [
             0.2222222222222222,
             "#7201a8"
            ],
            [
             0.3333333333333333,
             "#9c179e"
            ],
            [
             0.4444444444444444,
             "#bd3786"
            ],
            [
             0.5555555555555556,
             "#d8576b"
            ],
            [
             0.6666666666666666,
             "#ed7953"
            ],
            [
             0.7777777777777778,
             "#fb9f3a"
            ],
            [
             0.8888888888888888,
             "#fdca26"
            ],
            [
             1.0,
             "#f0f921"
            ]
           ],
           "diverging": [
            [
             0,
             "#8e0152"
            ],
            [
             0.1,
             "#c51b7d"
            ],
            [
             0.2,
             "#de77ae"
            ],
            [
             0.3,
             "#f1b6da"
            ],
            [
             0.4,
             "#fde0ef"
            ],
            [
             0.5,
             "#f7f7f7"
            ],
            [
             0.6,
             "#e6f5d0"
            ],
            [
             0.7,
             "#b8e186"
            ],
            [
             0.8,
             "#7fbc41"
            ],
            [
             0.9,
             "#4d9221"
            ],
            [
             1,
             "#276419"
            ]
           ]
          },
          "xaxis": {
           "gridcolor": "white",
           "linecolor": "white",
           "ticks": "",
           "title": {
            "standoff": 15
           },
           "zerolinecolor": "white",
           "automargin": true,
           "zerolinewidth": 2
          },
          "yaxis": {
           "gridcolor": "white",
           "linecolor": "white",
           "ticks": "",
           "title": {
            "standoff": 15
           },
           "zerolinecolor": "white",
           "automargin": true,
           "zerolinewidth": 2
          },
          "scene": {
           "xaxis": {
            "backgroundcolor": "#E5ECF6",
            "gridcolor": "white",
            "linecolor": "white",
            "showbackground": true,
            "ticks": "",
            "zerolinecolor": "white",
            "gridwidth": 2
           },
           "yaxis": {
            "backgroundcolor": "#E5ECF6",
            "gridcolor": "white",
            "linecolor": "white",
            "showbackground": true,
            "ticks": "",
            "zerolinecolor": "white",
            "gridwidth": 2
           },
           "zaxis": {
            "backgroundcolor": "#E5ECF6",
            "gridcolor": "white",
            "linecolor": "white",
            "showbackground": true,
            "ticks": "",
            "zerolinecolor": "white",
            "gridwidth": 2
           }
          },
          "shapedefaults": {
           "line": {
            "color": "#2a3f5f"
           }
          },
          "annotationdefaults": {
           "arrowcolor": "#2a3f5f",
           "arrowhead": 0,
           "arrowwidth": 1
          },
          "geo": {
           "bgcolor": "white",
           "landcolor": "#E5ECF6",
           "subunitcolor": "white",
           "showland": true,
           "showlakes": true,
           "lakecolor": "white"
          },
          "title": {
           "x": 0.05
          },
          "mapbox": {
           "style": "light"
          }
         }
        },
        "xaxis": {
         "anchor": "y",
         "domain": [
          0.0,
          0.18400000000000002
         ],
         "title": {
          "text": "Elapsed Time (hr)"
         }
        },
        "yaxis": {
         "anchor": "x",
         "domain": [
          0.0,
          1.0
         ],
         "title": {
          "text": "OD"
         }
        },
        "xaxis2": {
         "anchor": "y2",
         "domain": [
          0.20400000000000001,
          0.388
         ],
         "matches": "x",
         "title": {
          "text": "Elapsed Time (hr)"
         }
        },
        "yaxis2": {
         "anchor": "x2",
         "domain": [
          0.0,
          1.0
         ],
         "matches": "y",
         "showticklabels": false
        },
        "xaxis3": {
         "anchor": "y3",
         "domain": [
          0.40800000000000003,
          0.5920000000000001
         ],
         "matches": "x",
         "title": {
          "text": "Elapsed Time (hr)"
         }
        },
        "yaxis3": {
         "anchor": "x3",
         "domain": [
          0.0,
          1.0
         ],
         "matches": "y",
         "showticklabels": false
        },
        "xaxis4": {
         "anchor": "y4",
         "domain": [
          0.6120000000000001,
          0.7960000000000002
         ],
         "matches": "x",
         "title": {
          "text": "Elapsed Time (hr)"
         }
        },
        "yaxis4": {
         "anchor": "x4",
         "domain": [
          0.0,
          1.0
         ],
         "matches": "y",
         "showticklabels": false
        },
        "xaxis5": {
         "anchor": "y5",
         "domain": [
          0.8160000000000001,
          1.0
         ],
         "matches": "x",
         "title": {
          "text": "Elapsed Time (hr)"
         }
        },
        "yaxis5": {
         "anchor": "x5",
         "domain": [
          0.0,
          1.0
         ],
         "matches": "y",
         "showticklabels": false
        },
        "annotations": [
         {
          "font": {},
          "showarrow": false,
          "text": "condition=1. AMS 10.0mM",
          "x": 0.09200000000000001,
          "xanchor": "center",
          "xref": "paper",
          "y": 1.0,
          "yanchor": "bottom",
          "yref": "paper"
         },
         {
          "font": {},
          "showarrow": false,
          "text": "condition=2. AMS 5.0mM",
          "x": 0.29600000000000004,
          "xanchor": "center",
          "xref": "paper",
          "y": 1.0,
          "yanchor": "bottom",
          "yref": "paper"
         },
         {
          "font": {},
          "showarrow": false,
          "text": "condition=3. AMS 3.5mM",
          "x": 0.5,
          "xanchor": "center",
          "xref": "paper",
          "y": 1.0,
          "yanchor": "bottom",
          "yref": "paper"
         },
         {
          "font": {},
          "showarrow": false,
          "text": "condition=4. AMS 2.0mM",
          "x": 0.7040000000000002,
          "xanchor": "center",
          "xref": "paper",
          "y": 1.0,
          "yanchor": "bottom",
          "yref": "paper"
         },
         {
          "font": {},
          "showarrow": false,
          "text": "condition=1. AMS 0.0mM",
          "x": 0.908,
          "xanchor": "center",
          "xref": "paper",
          "y": 1.0,
          "yanchor": "bottom",
          "yref": "paper"
         }
        ],
        "legend": {
         "title": {
          "text": "Strain ID"
         },
         "tracegroupgap": 0
        },
        "title": {
         "text": "OD Curves for Different Strains and Conditions (post N+/PO4- culturing, washing, and resuspension)",
         "x": 0.5
        },
        "showlegend": true
       },
       "config": {
        "plotlyServerURL": "https://plot.ly"
       }
      },
      "text/html": [
       "<div>                            <div id=\"ca49b3e3-60c6-478b-9bdd-bed14bb76388\" class=\"plotly-graph-div\" style=\"height:525px; width:100%;\"></div>            <script type=\"text/javascript\">                require([\"plotly\"], function(Plotly) {                    window.PLOTLYENV=window.PLOTLYENV || {};                                    if (document.getElementById(\"ca49b3e3-60c6-478b-9bdd-bed14bb76388\")) {                    Plotly.newPlot(                        \"ca49b3e3-60c6-478b-9bdd-bed14bb76388\",                        [{\"hovertemplate\":\"Strain ID=KSF001\\u003cbr\\u003econdition=1. AMS 10.0mM\\u003cbr\\u003eElapsed Time (hr)=%{x}\\u003cbr\\u003eOD=%{y}\\u003cextra\\u003e\\u003c\\u002fextra\\u003e\",\"legendgroup\":\"KSF001\",\"line\":{\"color\":\"#636efa\",\"dash\":\"solid\"},\"marker\":{\"symbol\":\"circle\"},\"mode\":\"lines+markers\",\"name\":\"KSF001\",\"orientation\":\"v\",\"showlegend\":true,\"x\":[0.0,16.999999999883585,24.999999999941792,40.5,45.99999999994179],\"xaxis\":\"x\",\"y\":[0.6759999999999999,0.348,0.44399999999999995,0.48,0.5],\"yaxis\":\"y\",\"type\":\"scatter\"},{\"hovertemplate\":\"Strain ID=KSF001\\u003cbr\\u003econdition=2. AMS 5.0mM\\u003cbr\\u003eElapsed Time (hr)=%{x}\\u003cbr\\u003eOD=%{y}\\u003cextra\\u003e\\u003c\\u002fextra\\u003e\",\"legendgroup\":\"KSF001\",\"line\":{\"color\":\"#636efa\",\"dash\":\"solid\"},\"marker\":{\"symbol\":\"circle\"},\"mode\":\"lines+markers\",\"name\":\"KSF001\",\"orientation\":\"v\",\"showlegend\":false,\"x\":[0.0,16.999999999883585,24.999999999941792,40.5,45.99999999994179],\"xaxis\":\"x2\",\"y\":[0.6559999999999999,0.32399999999999995,0.36,0.388,0.38],\"yaxis\":\"y2\",\"type\":\"scatter\"},{\"hovertemplate\":\"Strain ID=KSF001\\u003cbr\\u003econdition=3. AMS 3.5mM\\u003cbr\\u003eElapsed Time (hr)=%{x}\\u003cbr\\u003eOD=%{y}\\u003cextra\\u003e\\u003c\\u002fextra\\u003e\",\"legendgroup\":\"KSF001\",\"line\":{\"color\":\"#636efa\",\"dash\":\"solid\"},\"marker\":{\"symbol\":\"circle\"},\"mode\":\"lines+markers\",\"name\":\"KSF001\",\"orientation\":\"v\",\"showlegend\":false,\"x\":[0.0,16.999999999883585,24.999999999941792,40.5,45.99999999994179],\"xaxis\":\"x3\",\"y\":[0.692,2.424,2.6119999999999997,2.38,2.256],\"yaxis\":\"y3\",\"type\":\"scatter\"},{\"hovertemplate\":\"Strain ID=KSF001\\u003cbr\\u003econdition=4. AMS 2.0mM\\u003cbr\\u003eElapsed Time (hr)=%{x}\\u003cbr\\u003eOD=%{y}\\u003cextra\\u003e\\u003c\\u002fextra\\u003e\",\"legendgroup\":\"KSF001\",\"line\":{\"color\":\"#636efa\",\"dash\":\"solid\"},\"marker\":{\"symbol\":\"circle\"},\"mode\":\"lines+markers\",\"name\":\"KSF001\",\"orientation\":\"v\",\"showlegend\":false,\"x\":[0.0,16.999999999883585,24.999999999941792,40.5,45.99999999994179],\"xaxis\":\"x4\",\"y\":[0.624,1.764,1.8960000000000001,1.8800000000000001,1.788],\"yaxis\":\"y4\",\"type\":\"scatter\"},{\"hovertemplate\":\"Strain ID=KSF001\\u003cbr\\u003econdition=1. AMS 0.0mM\\u003cbr\\u003eElapsed Time (hr)=%{x}\\u003cbr\\u003eOD=%{y}\\u003cextra\\u003e\\u003c\\u002fextra\\u003e\",\"legendgroup\":\"KSF001\",\"line\":{\"color\":\"#636efa\",\"dash\":\"solid\"},\"marker\":{\"symbol\":\"circle\"},\"mode\":\"lines+markers\",\"name\":\"KSF001\",\"orientation\":\"v\",\"showlegend\":false,\"x\":[0.0,16.999999999883585,24.999999999941792,40.5,45.99999999994179],\"xaxis\":\"x5\",\"y\":[0.6639999999999999,0.33199999999999996,0.392,0.38,0.368],\"yaxis\":\"y5\",\"type\":\"scatter\"},{\"hovertemplate\":\"Strain ID=KSF087\\u003cbr\\u003econdition=1. AMS 10.0mM\\u003cbr\\u003eElapsed Time (hr)=%{x}\\u003cbr\\u003eOD=%{y}\\u003cextra\\u003e\\u003c\\u002fextra\\u003e\",\"legendgroup\":\"KSF087\",\"line\":{\"color\":\"#EF553B\",\"dash\":\"solid\"},\"marker\":{\"symbol\":\"circle\"},\"mode\":\"lines+markers\",\"name\":\"KSF087\",\"orientation\":\"v\",\"showlegend\":true,\"x\":[0.0,16.999999999883585,24.999999999941792,40.5,45.99999999994179],\"xaxis\":\"x\",\"y\":[0.42399999999999993,0.46799999999999997,0.45199999999999996,0.528,0.5359999999999999],\"yaxis\":\"y\",\"type\":\"scatter\"},{\"hovertemplate\":\"Strain ID=KSF087\\u003cbr\\u003econdition=2. AMS 5.0mM\\u003cbr\\u003eElapsed Time (hr)=%{x}\\u003cbr\\u003eOD=%{y}\\u003cextra\\u003e\\u003c\\u002fextra\\u003e\",\"legendgroup\":\"KSF087\",\"line\":{\"color\":\"#EF553B\",\"dash\":\"solid\"},\"marker\":{\"symbol\":\"circle\"},\"mode\":\"lines+markers\",\"name\":\"KSF087\",\"orientation\":\"v\",\"showlegend\":false,\"x\":[0.0,16.999999999883585,24.999999999941792,40.5,45.99999999994179],\"xaxis\":\"x2\",\"y\":[0.4079999999999999,0.372,0.40800000000000003,0.33999999999999997,0.44399999999999995],\"yaxis\":\"y2\",\"type\":\"scatter\"},{\"hovertemplate\":\"Strain ID=KSF087\\u003cbr\\u003econdition=3. AMS 3.5mM\\u003cbr\\u003eElapsed Time (hr)=%{x}\\u003cbr\\u003eOD=%{y}\\u003cextra\\u003e\\u003c\\u002fextra\\u003e\",\"legendgroup\":\"KSF087\",\"line\":{\"color\":\"#EF553B\",\"dash\":\"solid\"},\"marker\":{\"symbol\":\"circle\"},\"mode\":\"lines+markers\",\"name\":\"KSF087\",\"orientation\":\"v\",\"showlegend\":false,\"x\":[0.0,16.999999999883585,24.999999999941792,40.5,45.99999999994179],\"xaxis\":\"x3\",\"y\":[0.43199999999999994,2.276,2.376,2.6159999999999997,2.428],\"yaxis\":\"y3\",\"type\":\"scatter\"},{\"hovertemplate\":\"Strain ID=KSF087\\u003cbr\\u003econdition=4. AMS 2.0mM\\u003cbr\\u003eElapsed Time (hr)=%{x}\\u003cbr\\u003eOD=%{y}\\u003cextra\\u003e\\u003c\\u002fextra\\u003e\",\"legendgroup\":\"KSF087\",\"line\":{\"color\":\"#EF553B\",\"dash\":\"solid\"},\"marker\":{\"symbol\":\"circle\"},\"mode\":\"lines+markers\",\"name\":\"KSF087\",\"orientation\":\"v\",\"showlegend\":false,\"x\":[0.0,16.999999999883585,24.999999999941792,40.5,45.99999999994179],\"xaxis\":\"x4\",\"y\":[0.376,1.6680000000000001,1.7080000000000002,1.6640000000000001,1.596],\"yaxis\":\"y4\",\"type\":\"scatter\"},{\"hovertemplate\":\"Strain ID=KSF087\\u003cbr\\u003econdition=1. AMS 0.0mM\\u003cbr\\u003eElapsed Time (hr)=%{x}\\u003cbr\\u003eOD=%{y}\\u003cextra\\u003e\\u003c\\u002fextra\\u003e\",\"legendgroup\":\"KSF087\",\"line\":{\"color\":\"#EF553B\",\"dash\":\"solid\"},\"marker\":{\"symbol\":\"circle\"},\"mode\":\"lines+markers\",\"name\":\"KSF087\",\"orientation\":\"v\",\"showlegend\":false,\"x\":[0.0,16.999999999883585,24.999999999941792,40.5,45.99999999994179],\"xaxis\":\"x5\",\"y\":[0.33999999999999997,0.29600000000000004,0.372,0.40800000000000003,0.396],\"yaxis\":\"y5\",\"type\":\"scatter\"}],                        {\"template\":{\"data\":{\"histogram2dcontour\":[{\"type\":\"histogram2dcontour\",\"colorbar\":{\"outlinewidth\":0,\"ticks\":\"\"},\"colorscale\":[[0.0,\"#0d0887\"],[0.1111111111111111,\"#46039f\"],[0.2222222222222222,\"#7201a8\"],[0.3333333333333333,\"#9c179e\"],[0.4444444444444444,\"#bd3786\"],[0.5555555555555556,\"#d8576b\"],[0.6666666666666666,\"#ed7953\"],[0.7777777777777778,\"#fb9f3a\"],[0.8888888888888888,\"#fdca26\"],[1.0,\"#f0f921\"]]}],\"choropleth\":[{\"type\":\"choropleth\",\"colorbar\":{\"outlinewidth\":0,\"ticks\":\"\"}}],\"histogram2d\":[{\"type\":\"histogram2d\",\"colorbar\":{\"outlinewidth\":0,\"ticks\":\"\"},\"colorscale\":[[0.0,\"#0d0887\"],[0.1111111111111111,\"#46039f\"],[0.2222222222222222,\"#7201a8\"],[0.3333333333333333,\"#9c179e\"],[0.4444444444444444,\"#bd3786\"],[0.5555555555555556,\"#d8576b\"],[0.6666666666666666,\"#ed7953\"],[0.7777777777777778,\"#fb9f3a\"],[0.8888888888888888,\"#fdca26\"],[1.0,\"#f0f921\"]]}],\"heatmap\":[{\"type\":\"heatmap\",\"colorbar\":{\"outlinewidth\":0,\"ticks\":\"\"},\"colorscale\":[[0.0,\"#0d0887\"],[0.1111111111111111,\"#46039f\"],[0.2222222222222222,\"#7201a8\"],[0.3333333333333333,\"#9c179e\"],[0.4444444444444444,\"#bd3786\"],[0.5555555555555556,\"#d8576b\"],[0.6666666666666666,\"#ed7953\"],[0.7777777777777778,\"#fb9f3a\"],[0.8888888888888888,\"#fdca26\"],[1.0,\"#f0f921\"]]}],\"heatmapgl\":[{\"type\":\"heatmapgl\",\"colorbar\":{\"outlinewidth\":0,\"ticks\":\"\"},\"colorscale\":[[0.0,\"#0d0887\"],[0.1111111111111111,\"#46039f\"],[0.2222222222222222,\"#7201a8\"],[0.3333333333333333,\"#9c179e\"],[0.4444444444444444,\"#bd3786\"],[0.5555555555555556,\"#d8576b\"],[0.6666666666666666,\"#ed7953\"],[0.7777777777777778,\"#fb9f3a\"],[0.8888888888888888,\"#fdca26\"],[1.0,\"#f0f921\"]]}],\"contourcarpet\":[{\"type\":\"contourcarpet\",\"colorbar\":{\"outlinewidth\":0,\"ticks\":\"\"}}],\"contour\":[{\"type\":\"contour\",\"colorbar\":{\"outlinewidth\":0,\"ticks\":\"\"},\"colorscale\":[[0.0,\"#0d0887\"],[0.1111111111111111,\"#46039f\"],[0.2222222222222222,\"#7201a8\"],[0.3333333333333333,\"#9c179e\"],[0.4444444444444444,\"#bd3786\"],[0.5555555555555556,\"#d8576b\"],[0.6666666666666666,\"#ed7953\"],[0.7777777777777778,\"#fb9f3a\"],[0.8888888888888888,\"#fdca26\"],[1.0,\"#f0f921\"]]}],\"surface\":[{\"type\":\"surface\",\"colorbar\":{\"outlinewidth\":0,\"ticks\":\"\"},\"colorscale\":[[0.0,\"#0d0887\"],[0.1111111111111111,\"#46039f\"],[0.2222222222222222,\"#7201a8\"],[0.3333333333333333,\"#9c179e\"],[0.4444444444444444,\"#bd3786\"],[0.5555555555555556,\"#d8576b\"],[0.6666666666666666,\"#ed7953\"],[0.7777777777777778,\"#fb9f3a\"],[0.8888888888888888,\"#fdca26\"],[1.0,\"#f0f921\"]]}],\"mesh3d\":[{\"type\":\"mesh3d\",\"colorbar\":{\"outlinewidth\":0,\"ticks\":\"\"}}],\"scatter\":[{\"fillpattern\":{\"fillmode\":\"overlay\",\"size\":10,\"solidity\":0.2},\"type\":\"scatter\"}],\"parcoords\":[{\"type\":\"parcoords\",\"line\":{\"colorbar\":{\"outlinewidth\":0,\"ticks\":\"\"}}}],\"scatterpolargl\":[{\"type\":\"scatterpolargl\",\"marker\":{\"colorbar\":{\"outlinewidth\":0,\"ticks\":\"\"}}}],\"bar\":[{\"error_x\":{\"color\":\"#2a3f5f\"},\"error_y\":{\"color\":\"#2a3f5f\"},\"marker\":{\"line\":{\"color\":\"#E5ECF6\",\"width\":0.5},\"pattern\":{\"fillmode\":\"overlay\",\"size\":10,\"solidity\":0.2}},\"type\":\"bar\"}],\"scattergeo\":[{\"type\":\"scattergeo\",\"marker\":{\"colorbar\":{\"outlinewidth\":0,\"ticks\":\"\"}}}],\"scatterpolar\":[{\"type\":\"scatterpolar\",\"marker\":{\"colorbar\":{\"outlinewidth\":0,\"ticks\":\"\"}}}],\"histogram\":[{\"marker\":{\"pattern\":{\"fillmode\":\"overlay\",\"size\":10,\"solidity\":0.2}},\"type\":\"histogram\"}],\"scattergl\":[{\"type\":\"scattergl\",\"marker\":{\"colorbar\":{\"outlinewidth\":0,\"ticks\":\"\"}}}],\"scatter3d\":[{\"type\":\"scatter3d\",\"line\":{\"colorbar\":{\"outlinewidth\":0,\"ticks\":\"\"}},\"marker\":{\"colorbar\":{\"outlinewidth\":0,\"ticks\":\"\"}}}],\"scattermapbox\":[{\"type\":\"scattermapbox\",\"marker\":{\"colorbar\":{\"outlinewidth\":0,\"ticks\":\"\"}}}],\"scatterternary\":[{\"type\":\"scatterternary\",\"marker\":{\"colorbar\":{\"outlinewidth\":0,\"ticks\":\"\"}}}],\"scattercarpet\":[{\"type\":\"scattercarpet\",\"marker\":{\"colorbar\":{\"outlinewidth\":0,\"ticks\":\"\"}}}],\"carpet\":[{\"aaxis\":{\"endlinecolor\":\"#2a3f5f\",\"gridcolor\":\"white\",\"linecolor\":\"white\",\"minorgridcolor\":\"white\",\"startlinecolor\":\"#2a3f5f\"},\"baxis\":{\"endlinecolor\":\"#2a3f5f\",\"gridcolor\":\"white\",\"linecolor\":\"white\",\"minorgridcolor\":\"white\",\"startlinecolor\":\"#2a3f5f\"},\"type\":\"carpet\"}],\"table\":[{\"cells\":{\"fill\":{\"color\":\"#EBF0F8\"},\"line\":{\"color\":\"white\"}},\"header\":{\"fill\":{\"color\":\"#C8D4E3\"},\"line\":{\"color\":\"white\"}},\"type\":\"table\"}],\"barpolar\":[{\"marker\":{\"line\":{\"color\":\"#E5ECF6\",\"width\":0.5},\"pattern\":{\"fillmode\":\"overlay\",\"size\":10,\"solidity\":0.2}},\"type\":\"barpolar\"}],\"pie\":[{\"automargin\":true,\"type\":\"pie\"}]},\"layout\":{\"autotypenumbers\":\"strict\",\"colorway\":[\"#636efa\",\"#EF553B\",\"#00cc96\",\"#ab63fa\",\"#FFA15A\",\"#19d3f3\",\"#FF6692\",\"#B6E880\",\"#FF97FF\",\"#FECB52\"],\"font\":{\"color\":\"#2a3f5f\"},\"hovermode\":\"closest\",\"hoverlabel\":{\"align\":\"left\"},\"paper_bgcolor\":\"white\",\"plot_bgcolor\":\"#E5ECF6\",\"polar\":{\"bgcolor\":\"#E5ECF6\",\"angularaxis\":{\"gridcolor\":\"white\",\"linecolor\":\"white\",\"ticks\":\"\"},\"radialaxis\":{\"gridcolor\":\"white\",\"linecolor\":\"white\",\"ticks\":\"\"}},\"ternary\":{\"bgcolor\":\"#E5ECF6\",\"aaxis\":{\"gridcolor\":\"white\",\"linecolor\":\"white\",\"ticks\":\"\"},\"baxis\":{\"gridcolor\":\"white\",\"linecolor\":\"white\",\"ticks\":\"\"},\"caxis\":{\"gridcolor\":\"white\",\"linecolor\":\"white\",\"ticks\":\"\"}},\"coloraxis\":{\"colorbar\":{\"outlinewidth\":0,\"ticks\":\"\"}},\"colorscale\":{\"sequential\":[[0.0,\"#0d0887\"],[0.1111111111111111,\"#46039f\"],[0.2222222222222222,\"#7201a8\"],[0.3333333333333333,\"#9c179e\"],[0.4444444444444444,\"#bd3786\"],[0.5555555555555556,\"#d8576b\"],[0.6666666666666666,\"#ed7953\"],[0.7777777777777778,\"#fb9f3a\"],[0.8888888888888888,\"#fdca26\"],[1.0,\"#f0f921\"]],\"sequentialminus\":[[0.0,\"#0d0887\"],[0.1111111111111111,\"#46039f\"],[0.2222222222222222,\"#7201a8\"],[0.3333333333333333,\"#9c179e\"],[0.4444444444444444,\"#bd3786\"],[0.5555555555555556,\"#d8576b\"],[0.6666666666666666,\"#ed7953\"],[0.7777777777777778,\"#fb9f3a\"],[0.8888888888888888,\"#fdca26\"],[1.0,\"#f0f921\"]],\"diverging\":[[0,\"#8e0152\"],[0.1,\"#c51b7d\"],[0.2,\"#de77ae\"],[0.3,\"#f1b6da\"],[0.4,\"#fde0ef\"],[0.5,\"#f7f7f7\"],[0.6,\"#e6f5d0\"],[0.7,\"#b8e186\"],[0.8,\"#7fbc41\"],[0.9,\"#4d9221\"],[1,\"#276419\"]]},\"xaxis\":{\"gridcolor\":\"white\",\"linecolor\":\"white\",\"ticks\":\"\",\"title\":{\"standoff\":15},\"zerolinecolor\":\"white\",\"automargin\":true,\"zerolinewidth\":2},\"yaxis\":{\"gridcolor\":\"white\",\"linecolor\":\"white\",\"ticks\":\"\",\"title\":{\"standoff\":15},\"zerolinecolor\":\"white\",\"automargin\":true,\"zerolinewidth\":2},\"scene\":{\"xaxis\":{\"backgroundcolor\":\"#E5ECF6\",\"gridcolor\":\"white\",\"linecolor\":\"white\",\"showbackground\":true,\"ticks\":\"\",\"zerolinecolor\":\"white\",\"gridwidth\":2},\"yaxis\":{\"backgroundcolor\":\"#E5ECF6\",\"gridcolor\":\"white\",\"linecolor\":\"white\",\"showbackground\":true,\"ticks\":\"\",\"zerolinecolor\":\"white\",\"gridwidth\":2},\"zaxis\":{\"backgroundcolor\":\"#E5ECF6\",\"gridcolor\":\"white\",\"linecolor\":\"white\",\"showbackground\":true,\"ticks\":\"\",\"zerolinecolor\":\"white\",\"gridwidth\":2}},\"shapedefaults\":{\"line\":{\"color\":\"#2a3f5f\"}},\"annotationdefaults\":{\"arrowcolor\":\"#2a3f5f\",\"arrowhead\":0,\"arrowwidth\":1},\"geo\":{\"bgcolor\":\"white\",\"landcolor\":\"#E5ECF6\",\"subunitcolor\":\"white\",\"showland\":true,\"showlakes\":true,\"lakecolor\":\"white\"},\"title\":{\"x\":0.05},\"mapbox\":{\"style\":\"light\"}}},\"xaxis\":{\"anchor\":\"y\",\"domain\":[0.0,0.18400000000000002],\"title\":{\"text\":\"Elapsed Time (hr)\"}},\"yaxis\":{\"anchor\":\"x\",\"domain\":[0.0,1.0],\"title\":{\"text\":\"OD\"}},\"xaxis2\":{\"anchor\":\"y2\",\"domain\":[0.20400000000000001,0.388],\"matches\":\"x\",\"title\":{\"text\":\"Elapsed Time (hr)\"}},\"yaxis2\":{\"anchor\":\"x2\",\"domain\":[0.0,1.0],\"matches\":\"y\",\"showticklabels\":false},\"xaxis3\":{\"anchor\":\"y3\",\"domain\":[0.40800000000000003,0.5920000000000001],\"matches\":\"x\",\"title\":{\"text\":\"Elapsed Time (hr)\"}},\"yaxis3\":{\"anchor\":\"x3\",\"domain\":[0.0,1.0],\"matches\":\"y\",\"showticklabels\":false},\"xaxis4\":{\"anchor\":\"y4\",\"domain\":[0.6120000000000001,0.7960000000000002],\"matches\":\"x\",\"title\":{\"text\":\"Elapsed Time (hr)\"}},\"yaxis4\":{\"anchor\":\"x4\",\"domain\":[0.0,1.0],\"matches\":\"y\",\"showticklabels\":false},\"xaxis5\":{\"anchor\":\"y5\",\"domain\":[0.8160000000000001,1.0],\"matches\":\"x\",\"title\":{\"text\":\"Elapsed Time (hr)\"}},\"yaxis5\":{\"anchor\":\"x5\",\"domain\":[0.0,1.0],\"matches\":\"y\",\"showticklabels\":false},\"annotations\":[{\"font\":{},\"showarrow\":false,\"text\":\"condition=1. AMS 10.0mM\",\"x\":0.09200000000000001,\"xanchor\":\"center\",\"xref\":\"paper\",\"y\":1.0,\"yanchor\":\"bottom\",\"yref\":\"paper\"},{\"font\":{},\"showarrow\":false,\"text\":\"condition=2. AMS 5.0mM\",\"x\":0.29600000000000004,\"xanchor\":\"center\",\"xref\":\"paper\",\"y\":1.0,\"yanchor\":\"bottom\",\"yref\":\"paper\"},{\"font\":{},\"showarrow\":false,\"text\":\"condition=3. AMS 3.5mM\",\"x\":0.5,\"xanchor\":\"center\",\"xref\":\"paper\",\"y\":1.0,\"yanchor\":\"bottom\",\"yref\":\"paper\"},{\"font\":{},\"showarrow\":false,\"text\":\"condition=4. AMS 2.0mM\",\"x\":0.7040000000000002,\"xanchor\":\"center\",\"xref\":\"paper\",\"y\":1.0,\"yanchor\":\"bottom\",\"yref\":\"paper\"},{\"font\":{},\"showarrow\":false,\"text\":\"condition=1. AMS 0.0mM\",\"x\":0.908,\"xanchor\":\"center\",\"xref\":\"paper\",\"y\":1.0,\"yanchor\":\"bottom\",\"yref\":\"paper\"}],\"legend\":{\"title\":{\"text\":\"Strain ID\"},\"tracegroupgap\":0},\"title\":{\"text\":\"OD Curves for Different Strains and Conditions (post N+\\u002fPO4- culturing, washing, and resuspension)\",\"x\":0.5},\"showlegend\":true},                        {\"responsive\": true}                    ).then(function(){\n",
       "                            \n",
       "var gd = document.getElementById('ca49b3e3-60c6-478b-9bdd-bed14bb76388');\n",
       "var x = new MutationObserver(function (mutations, observer) {{\n",
       "        var display = window.getComputedStyle(gd).display;\n",
       "        if (!display || display === 'none') {{\n",
       "            console.log([gd, 'removed!']);\n",
       "            Plotly.purge(gd);\n",
       "            observer.disconnect();\n",
       "        }}\n",
       "}});\n",
       "\n",
       "// Listen for the removal of the full notebook cells\n",
       "var notebookContainer = gd.closest('#notebook-container');\n",
       "if (notebookContainer) {{\n",
       "    x.observe(notebookContainer, {childList: true});\n",
       "}}\n",
       "\n",
       "// Listen for the clearing of the current output cell\n",
       "var outputEl = gd.closest('.output');\n",
       "if (outputEl) {{\n",
       "    x.observe(outputEl, {childList: true});\n",
       "}}\n",
       "\n",
       "                        })                };                });            </script>        </div>"
      ]
     },
     "metadata": {},
     "output_type": "display_data"
    }
   ],
   "execution_count": 12
  },
  {
   "metadata": {
    "ExecuteTime": {
     "end_time": "2024-10-04T20:33:57.477816Z",
     "start_time": "2024-10-04T20:33:57.473172Z"
    }
   },
   "cell_type": "code",
   "source": [
    "od600_maxes = pd.DataFrame(data=dict(x_ams_mM=[0,2,3.5,  0,1], od600=[0,1.896,2.612,  0,0.685], strain_id=['wt', 'wt', 'wt', 'theor', 'theor']))\n",
    "od600_maxes"
   ],
   "id": "2c4b88eea3f9cc94",
   "outputs": [
    {
     "data": {
      "text/plain": [
       "   x_ams_mM  od600 strain_id\n",
       "0       0.0  0.000        wt\n",
       "1       2.0  1.896        wt\n",
       "2       3.5  2.612        wt\n",
       "3       0.0  0.000     theor\n",
       "4       1.0  0.685     theor"
      ],
      "text/html": [
       "<div>\n",
       "<style scoped>\n",
       "    .dataframe tbody tr th:only-of-type {\n",
       "        vertical-align: middle;\n",
       "    }\n",
       "\n",
       "    .dataframe tbody tr th {\n",
       "        vertical-align: top;\n",
       "    }\n",
       "\n",
       "    .dataframe thead th {\n",
       "        text-align: right;\n",
       "    }\n",
       "</style>\n",
       "<table border=\"1\" class=\"dataframe\">\n",
       "  <thead>\n",
       "    <tr style=\"text-align: right;\">\n",
       "      <th></th>\n",
       "      <th>x_ams_mM</th>\n",
       "      <th>od600</th>\n",
       "      <th>strain_id</th>\n",
       "    </tr>\n",
       "  </thead>\n",
       "  <tbody>\n",
       "    <tr>\n",
       "      <th>0</th>\n",
       "      <td>0.0</td>\n",
       "      <td>0.000</td>\n",
       "      <td>wt</td>\n",
       "    </tr>\n",
       "    <tr>\n",
       "      <th>1</th>\n",
       "      <td>2.0</td>\n",
       "      <td>1.896</td>\n",
       "      <td>wt</td>\n",
       "    </tr>\n",
       "    <tr>\n",
       "      <th>2</th>\n",
       "      <td>3.5</td>\n",
       "      <td>2.612</td>\n",
       "      <td>wt</td>\n",
       "    </tr>\n",
       "    <tr>\n",
       "      <th>3</th>\n",
       "      <td>0.0</td>\n",
       "      <td>0.000</td>\n",
       "      <td>theor</td>\n",
       "    </tr>\n",
       "    <tr>\n",
       "      <th>4</th>\n",
       "      <td>1.0</td>\n",
       "      <td>0.685</td>\n",
       "      <td>theor</td>\n",
       "    </tr>\n",
       "  </tbody>\n",
       "</table>\n",
       "</div>"
      ]
     },
     "execution_count": 13,
     "metadata": {},
     "output_type": "execute_result"
    }
   ],
   "execution_count": 13
  },
  {
   "metadata": {
    "ExecuteTime": {
     "end_time": "2024-10-04T20:50:55.106162Z",
     "start_time": "2024-10-04T20:50:55.026185Z"
    }
   },
   "cell_type": "code",
   "source": [
    "fig_yield = px.scatter(\n",
    "    od600_maxes,\n",
    "    x='x_ams_mM',\n",
    "    y='od600',\n",
    "    color='strain_id',\n",
    "    trendline='ols',\n",
    ").update_layout(\n",
    "    title='ADP1 {KSF001 WT} Biomass Yield Curves from AMS (source of N)',\n",
    "    title_x=0.5,\n",
    ")\n",
    "# fig_yield.add_traces([\n",
    "#     # constraint: \n",
    "#     go.Scatter(\n",
    "#         x=df_cgp_arg.arg_conc_μM, y=df_cgp_arg.od,\n",
    "#         name='[Arg] from BM w/CGP',\n",
    "#         mode='lines', line=dict(dash='dot', color='darkgray'),\n",
    "#         # fill='tonexty',\n",
    "#     ),\n",
    "#     # constraint: \n",
    "#     go.Scatter(\n",
    "#         x=df_arg_cdw.arg_conc_μM, y=df_arg_cdw.od,\n",
    "#         name='ODmax by 2.5% Arg',\n",
    "#         mode='lines', line=dict(dash='dash'),\n",
    "#         # fill='tonexty',\n",
    "#     ),\n",
    "# ])\n",
    "# yield_fits = px.get_trendline_results(fig_yield).set_index('ADP1 Strain').px_fit_results\n",
    "\n",
    "fig_yield.write_image('../../figures/pk_exp004_n_reponse_yield.pdf')\n",
    "fig_yield\n"
   ],
   "id": "cdb85a901b3e0891",
   "outputs": [
    {
     "data": {
      "application/vnd.plotly.v1+json": {
       "data": [
        {
         "hovertemplate": "strain_id=wt<br>x_ams_mM=%{x}<br>od600=%{y}<extra></extra>",
         "legendgroup": "wt",
         "marker": {
          "color": "#636efa",
          "symbol": "circle"
         },
         "mode": "markers",
         "name": "wt",
         "orientation": "v",
         "showlegend": true,
         "x": [
          0.0,
          2.0,
          3.5
         ],
         "xaxis": "x",
         "y": [
          0.0,
          1.896,
          2.612
         ],
         "yaxis": "y",
         "type": "scatter"
        },
        {
         "hovertemplate": "<b>OLS trendline</b><br>od600 = 0.757189 * x_ams_mM + 0.114486<br>R<sup>2</sup>=0.970420<br><br>strain_id=wt<br>x_ams_mM=%{x}<br>od600=%{y} <b>(trend)</b><extra></extra>",
         "legendgroup": "wt",
         "marker": {
          "color": "#636efa",
          "symbol": "circle"
         },
         "mode": "lines",
         "name": "wt",
         "showlegend": false,
         "x": [
          0.0,
          2.0,
          3.5
         ],
         "xaxis": "x",
         "y": [
          0.11448648648648713,
          1.6288648648648656,
          2.7646486486486492
         ],
         "yaxis": "y",
         "type": "scatter"
        },
        {
         "hovertemplate": "strain_id=theor<br>x_ams_mM=%{x}<br>od600=%{y}<extra></extra>",
         "legendgroup": "theor",
         "marker": {
          "color": "#EF553B",
          "symbol": "circle"
         },
         "mode": "markers",
         "name": "theor",
         "orientation": "v",
         "showlegend": true,
         "x": [
          0.0,
          1.0
         ],
         "xaxis": "x",
         "y": [
          0.0,
          0.685
         ],
         "yaxis": "y",
         "type": "scatter"
        },
        {
         "hovertemplate": "<b>OLS trendline</b><br>od600 = 0.685 * x_ams_mM + -1.64031e-17<br>R<sup>2</sup>=1.000000<br><br>strain_id=theor<br>x_ams_mM=%{x}<br>od600=%{y} <b>(trend)</b><extra></extra>",
         "legendgroup": "theor",
         "marker": {
          "color": "#EF553B",
          "symbol": "circle"
         },
         "mode": "lines",
         "name": "theor",
         "showlegend": false,
         "x": [
          0.0,
          1.0
         ],
         "xaxis": "x",
         "y": [
          -1.64030859086855E-17,
          0.6849999999999999
         ],
         "yaxis": "y",
         "type": "scatter"
        }
       ],
       "layout": {
        "template": {
         "data": {
          "histogram2dcontour": [
           {
            "type": "histogram2dcontour",
            "colorbar": {
             "outlinewidth": 0,
             "ticks": ""
            },
            "colorscale": [
             [
              0.0,
              "#0d0887"
             ],
             [
              0.1111111111111111,
              "#46039f"
             ],
             [
              0.2222222222222222,
              "#7201a8"
             ],
             [
              0.3333333333333333,
              "#9c179e"
             ],
             [
              0.4444444444444444,
              "#bd3786"
             ],
             [
              0.5555555555555556,
              "#d8576b"
             ],
             [
              0.6666666666666666,
              "#ed7953"
             ],
             [
              0.7777777777777778,
              "#fb9f3a"
             ],
             [
              0.8888888888888888,
              "#fdca26"
             ],
             [
              1.0,
              "#f0f921"
             ]
            ]
           }
          ],
          "choropleth": [
           {
            "type": "choropleth",
            "colorbar": {
             "outlinewidth": 0,
             "ticks": ""
            }
           }
          ],
          "histogram2d": [
           {
            "type": "histogram2d",
            "colorbar": {
             "outlinewidth": 0,
             "ticks": ""
            },
            "colorscale": [
             [
              0.0,
              "#0d0887"
             ],
             [
              0.1111111111111111,
              "#46039f"
             ],
             [
              0.2222222222222222,
              "#7201a8"
             ],
             [
              0.3333333333333333,
              "#9c179e"
             ],
             [
              0.4444444444444444,
              "#bd3786"
             ],
             [
              0.5555555555555556,
              "#d8576b"
             ],
             [
              0.6666666666666666,
              "#ed7953"
             ],
             [
              0.7777777777777778,
              "#fb9f3a"
             ],
             [
              0.8888888888888888,
              "#fdca26"
             ],
             [
              1.0,
              "#f0f921"
             ]
            ]
           }
          ],
          "heatmap": [
           {
            "type": "heatmap",
            "colorbar": {
             "outlinewidth": 0,
             "ticks": ""
            },
            "colorscale": [
             [
              0.0,
              "#0d0887"
             ],
             [
              0.1111111111111111,
              "#46039f"
             ],
             [
              0.2222222222222222,
              "#7201a8"
             ],
             [
              0.3333333333333333,
              "#9c179e"
             ],
             [
              0.4444444444444444,
              "#bd3786"
             ],
             [
              0.5555555555555556,
              "#d8576b"
             ],
             [
              0.6666666666666666,
              "#ed7953"
             ],
             [
              0.7777777777777778,
              "#fb9f3a"
             ],
             [
              0.8888888888888888,
              "#fdca26"
             ],
             [
              1.0,
              "#f0f921"
             ]
            ]
           }
          ],
          "heatmapgl": [
           {
            "type": "heatmapgl",
            "colorbar": {
             "outlinewidth": 0,
             "ticks": ""
            },
            "colorscale": [
             [
              0.0,
              "#0d0887"
             ],
             [
              0.1111111111111111,
              "#46039f"
             ],
             [
              0.2222222222222222,
              "#7201a8"
             ],
             [
              0.3333333333333333,
              "#9c179e"
             ],
             [
              0.4444444444444444,
              "#bd3786"
             ],
             [
              0.5555555555555556,
              "#d8576b"
             ],
             [
              0.6666666666666666,
              "#ed7953"
             ],
             [
              0.7777777777777778,
              "#fb9f3a"
             ],
             [
              0.8888888888888888,
              "#fdca26"
             ],
             [
              1.0,
              "#f0f921"
             ]
            ]
           }
          ],
          "contourcarpet": [
           {
            "type": "contourcarpet",
            "colorbar": {
             "outlinewidth": 0,
             "ticks": ""
            }
           }
          ],
          "contour": [
           {
            "type": "contour",
            "colorbar": {
             "outlinewidth": 0,
             "ticks": ""
            },
            "colorscale": [
             [
              0.0,
              "#0d0887"
             ],
             [
              0.1111111111111111,
              "#46039f"
             ],
             [
              0.2222222222222222,
              "#7201a8"
             ],
             [
              0.3333333333333333,
              "#9c179e"
             ],
             [
              0.4444444444444444,
              "#bd3786"
             ],
             [
              0.5555555555555556,
              "#d8576b"
             ],
             [
              0.6666666666666666,
              "#ed7953"
             ],
             [
              0.7777777777777778,
              "#fb9f3a"
             ],
             [
              0.8888888888888888,
              "#fdca26"
             ],
             [
              1.0,
              "#f0f921"
             ]
            ]
           }
          ],
          "surface": [
           {
            "type": "surface",
            "colorbar": {
             "outlinewidth": 0,
             "ticks": ""
            },
            "colorscale": [
             [
              0.0,
              "#0d0887"
             ],
             [
              0.1111111111111111,
              "#46039f"
             ],
             [
              0.2222222222222222,
              "#7201a8"
             ],
             [
              0.3333333333333333,
              "#9c179e"
             ],
             [
              0.4444444444444444,
              "#bd3786"
             ],
             [
              0.5555555555555556,
              "#d8576b"
             ],
             [
              0.6666666666666666,
              "#ed7953"
             ],
             [
              0.7777777777777778,
              "#fb9f3a"
             ],
             [
              0.8888888888888888,
              "#fdca26"
             ],
             [
              1.0,
              "#f0f921"
             ]
            ]
           }
          ],
          "mesh3d": [
           {
            "type": "mesh3d",
            "colorbar": {
             "outlinewidth": 0,
             "ticks": ""
            }
           }
          ],
          "scatter": [
           {
            "fillpattern": {
             "fillmode": "overlay",
             "size": 10,
             "solidity": 0.2
            },
            "type": "scatter"
           }
          ],
          "parcoords": [
           {
            "type": "parcoords",
            "line": {
             "colorbar": {
              "outlinewidth": 0,
              "ticks": ""
             }
            }
           }
          ],
          "scatterpolargl": [
           {
            "type": "scatterpolargl",
            "marker": {
             "colorbar": {
              "outlinewidth": 0,
              "ticks": ""
             }
            }
           }
          ],
          "bar": [
           {
            "error_x": {
             "color": "#2a3f5f"
            },
            "error_y": {
             "color": "#2a3f5f"
            },
            "marker": {
             "line": {
              "color": "#E5ECF6",
              "width": 0.5
             },
             "pattern": {
              "fillmode": "overlay",
              "size": 10,
              "solidity": 0.2
             }
            },
            "type": "bar"
           }
          ],
          "scattergeo": [
           {
            "type": "scattergeo",
            "marker": {
             "colorbar": {
              "outlinewidth": 0,
              "ticks": ""
             }
            }
           }
          ],
          "scatterpolar": [
           {
            "type": "scatterpolar",
            "marker": {
             "colorbar": {
              "outlinewidth": 0,
              "ticks": ""
             }
            }
           }
          ],
          "histogram": [
           {
            "marker": {
             "pattern": {
              "fillmode": "overlay",
              "size": 10,
              "solidity": 0.2
             }
            },
            "type": "histogram"
           }
          ],
          "scattergl": [
           {
            "type": "scattergl",
            "marker": {
             "colorbar": {
              "outlinewidth": 0,
              "ticks": ""
             }
            }
           }
          ],
          "scatter3d": [
           {
            "type": "scatter3d",
            "line": {
             "colorbar": {
              "outlinewidth": 0,
              "ticks": ""
             }
            },
            "marker": {
             "colorbar": {
              "outlinewidth": 0,
              "ticks": ""
             }
            }
           }
          ],
          "scattermapbox": [
           {
            "type": "scattermapbox",
            "marker": {
             "colorbar": {
              "outlinewidth": 0,
              "ticks": ""
             }
            }
           }
          ],
          "scatterternary": [
           {
            "type": "scatterternary",
            "marker": {
             "colorbar": {
              "outlinewidth": 0,
              "ticks": ""
             }
            }
           }
          ],
          "scattercarpet": [
           {
            "type": "scattercarpet",
            "marker": {
             "colorbar": {
              "outlinewidth": 0,
              "ticks": ""
             }
            }
           }
          ],
          "carpet": [
           {
            "aaxis": {
             "endlinecolor": "#2a3f5f",
             "gridcolor": "white",
             "linecolor": "white",
             "minorgridcolor": "white",
             "startlinecolor": "#2a3f5f"
            },
            "baxis": {
             "endlinecolor": "#2a3f5f",
             "gridcolor": "white",
             "linecolor": "white",
             "minorgridcolor": "white",
             "startlinecolor": "#2a3f5f"
            },
            "type": "carpet"
           }
          ],
          "table": [
           {
            "cells": {
             "fill": {
              "color": "#EBF0F8"
             },
             "line": {
              "color": "white"
             }
            },
            "header": {
             "fill": {
              "color": "#C8D4E3"
             },
             "line": {
              "color": "white"
             }
            },
            "type": "table"
           }
          ],
          "barpolar": [
           {
            "marker": {
             "line": {
              "color": "#E5ECF6",
              "width": 0.5
             },
             "pattern": {
              "fillmode": "overlay",
              "size": 10,
              "solidity": 0.2
             }
            },
            "type": "barpolar"
           }
          ],
          "pie": [
           {
            "automargin": true,
            "type": "pie"
           }
          ]
         },
         "layout": {
          "autotypenumbers": "strict",
          "colorway": [
           "#636efa",
           "#EF553B",
           "#00cc96",
           "#ab63fa",
           "#FFA15A",
           "#19d3f3",
           "#FF6692",
           "#B6E880",
           "#FF97FF",
           "#FECB52"
          ],
          "font": {
           "color": "#2a3f5f"
          },
          "hovermode": "closest",
          "hoverlabel": {
           "align": "left"
          },
          "paper_bgcolor": "white",
          "plot_bgcolor": "#E5ECF6",
          "polar": {
           "bgcolor": "#E5ECF6",
           "angularaxis": {
            "gridcolor": "white",
            "linecolor": "white",
            "ticks": ""
           },
           "radialaxis": {
            "gridcolor": "white",
            "linecolor": "white",
            "ticks": ""
           }
          },
          "ternary": {
           "bgcolor": "#E5ECF6",
           "aaxis": {
            "gridcolor": "white",
            "linecolor": "white",
            "ticks": ""
           },
           "baxis": {
            "gridcolor": "white",
            "linecolor": "white",
            "ticks": ""
           },
           "caxis": {
            "gridcolor": "white",
            "linecolor": "white",
            "ticks": ""
           }
          },
          "coloraxis": {
           "colorbar": {
            "outlinewidth": 0,
            "ticks": ""
           }
          },
          "colorscale": {
           "sequential": [
            [
             0.0,
             "#0d0887"
            ],
            [
             0.1111111111111111,
             "#46039f"
            ],
            [
             0.2222222222222222,
             "#7201a8"
            ],
            [
             0.3333333333333333,
             "#9c179e"
            ],
            [
             0.4444444444444444,
             "#bd3786"
            ],
            [
             0.5555555555555556,
             "#d8576b"
            ],
            [
             0.6666666666666666,
             "#ed7953"
            ],
            [
             0.7777777777777778,
             "#fb9f3a"
            ],
            [
             0.8888888888888888,
             "#fdca26"
            ],
            [
             1.0,
             "#f0f921"
            ]
           ],
           "sequentialminus": [
            [
             0.0,
             "#0d0887"
            ],
            [
             0.1111111111111111,
             "#46039f"
            ],
            [
             0.2222222222222222,
             "#7201a8"
            ],
            [
             0.3333333333333333,
             "#9c179e"
            ],
            [
             0.4444444444444444,
             "#bd3786"
            ],
            [
             0.5555555555555556,
             "#d8576b"
            ],
            [
             0.6666666666666666,
             "#ed7953"
            ],
            [
             0.7777777777777778,
             "#fb9f3a"
            ],
            [
             0.8888888888888888,
             "#fdca26"
            ],
            [
             1.0,
             "#f0f921"
            ]
           ],
           "diverging": [
            [
             0,
             "#8e0152"
            ],
            [
             0.1,
             "#c51b7d"
            ],
            [
             0.2,
             "#de77ae"
            ],
            [
             0.3,
             "#f1b6da"
            ],
            [
             0.4,
             "#fde0ef"
            ],
            [
             0.5,
             "#f7f7f7"
            ],
            [
             0.6,
             "#e6f5d0"
            ],
            [
             0.7,
             "#b8e186"
            ],
            [
             0.8,
             "#7fbc41"
            ],
            [
             0.9,
             "#4d9221"
            ],
            [
             1,
             "#276419"
            ]
           ]
          },
          "xaxis": {
           "gridcolor": "white",
           "linecolor": "white",
           "ticks": "",
           "title": {
            "standoff": 15
           },
           "zerolinecolor": "white",
           "automargin": true,
           "zerolinewidth": 2
          },
          "yaxis": {
           "gridcolor": "white",
           "linecolor": "white",
           "ticks": "",
           "title": {
            "standoff": 15
           },
           "zerolinecolor": "white",
           "automargin": true,
           "zerolinewidth": 2
          },
          "scene": {
           "xaxis": {
            "backgroundcolor": "#E5ECF6",
            "gridcolor": "white",
            "linecolor": "white",
            "showbackground": true,
            "ticks": "",
            "zerolinecolor": "white",
            "gridwidth": 2
           },
           "yaxis": {
            "backgroundcolor": "#E5ECF6",
            "gridcolor": "white",
            "linecolor": "white",
            "showbackground": true,
            "ticks": "",
            "zerolinecolor": "white",
            "gridwidth": 2
           },
           "zaxis": {
            "backgroundcolor": "#E5ECF6",
            "gridcolor": "white",
            "linecolor": "white",
            "showbackground": true,
            "ticks": "",
            "zerolinecolor": "white",
            "gridwidth": 2
           }
          },
          "shapedefaults": {
           "line": {
            "color": "#2a3f5f"
           }
          },
          "annotationdefaults": {
           "arrowcolor": "#2a3f5f",
           "arrowhead": 0,
           "arrowwidth": 1
          },
          "geo": {
           "bgcolor": "white",
           "landcolor": "#E5ECF6",
           "subunitcolor": "white",
           "showland": true,
           "showlakes": true,
           "lakecolor": "white"
          },
          "title": {
           "x": 0.05
          },
          "mapbox": {
           "style": "light"
          }
         }
        },
        "xaxis": {
         "anchor": "y",
         "domain": [
          0.0,
          1.0
         ],
         "title": {
          "text": "x_ams_mM"
         }
        },
        "yaxis": {
         "anchor": "x",
         "domain": [
          0.0,
          1.0
         ],
         "title": {
          "text": "od600"
         }
        },
        "legend": {
         "title": {
          "text": "strain_id"
         },
         "tracegroupgap": 0
        },
        "margin": {
         "t": 60
        },
        "title": {
         "text": "ADP1 {KSF001 WT} Biomass Yield Curves from AMS (source of N)",
         "x": 0.5
        }
       },
       "config": {
        "plotlyServerURL": "https://plot.ly"
       }
      },
      "text/html": [
       "<div>                            <div id=\"efa6c90a-7385-4a45-9df3-39c4544bec42\" class=\"plotly-graph-div\" style=\"height:525px; width:100%;\"></div>            <script type=\"text/javascript\">                require([\"plotly\"], function(Plotly) {                    window.PLOTLYENV=window.PLOTLYENV || {};                                    if (document.getElementById(\"efa6c90a-7385-4a45-9df3-39c4544bec42\")) {                    Plotly.newPlot(                        \"efa6c90a-7385-4a45-9df3-39c4544bec42\",                        [{\"hovertemplate\":\"strain_id=wt\\u003cbr\\u003ex_ams_mM=%{x}\\u003cbr\\u003eod600=%{y}\\u003cextra\\u003e\\u003c\\u002fextra\\u003e\",\"legendgroup\":\"wt\",\"marker\":{\"color\":\"#636efa\",\"symbol\":\"circle\"},\"mode\":\"markers\",\"name\":\"wt\",\"orientation\":\"v\",\"showlegend\":true,\"x\":[0.0,2.0,3.5],\"xaxis\":\"x\",\"y\":[0.0,1.896,2.612],\"yaxis\":\"y\",\"type\":\"scatter\"},{\"hovertemplate\":\"\\u003cb\\u003eOLS trendline\\u003c\\u002fb\\u003e\\u003cbr\\u003eod600 = 0.757189 * x_ams_mM + 0.114486\\u003cbr\\u003eR\\u003csup\\u003e2\\u003c\\u002fsup\\u003e=0.970420\\u003cbr\\u003e\\u003cbr\\u003estrain_id=wt\\u003cbr\\u003ex_ams_mM=%{x}\\u003cbr\\u003eod600=%{y} \\u003cb\\u003e(trend)\\u003c\\u002fb\\u003e\\u003cextra\\u003e\\u003c\\u002fextra\\u003e\",\"legendgroup\":\"wt\",\"marker\":{\"color\":\"#636efa\",\"symbol\":\"circle\"},\"mode\":\"lines\",\"name\":\"wt\",\"showlegend\":false,\"x\":[0.0,2.0,3.5],\"xaxis\":\"x\",\"y\":[0.11448648648648713,1.6288648648648656,2.7646486486486492],\"yaxis\":\"y\",\"type\":\"scatter\"},{\"hovertemplate\":\"strain_id=theor\\u003cbr\\u003ex_ams_mM=%{x}\\u003cbr\\u003eod600=%{y}\\u003cextra\\u003e\\u003c\\u002fextra\\u003e\",\"legendgroup\":\"theor\",\"marker\":{\"color\":\"#EF553B\",\"symbol\":\"circle\"},\"mode\":\"markers\",\"name\":\"theor\",\"orientation\":\"v\",\"showlegend\":true,\"x\":[0.0,1.0],\"xaxis\":\"x\",\"y\":[0.0,0.685],\"yaxis\":\"y\",\"type\":\"scatter\"},{\"hovertemplate\":\"\\u003cb\\u003eOLS trendline\\u003c\\u002fb\\u003e\\u003cbr\\u003eod600 = 0.685 * x_ams_mM + -1.64031e-17\\u003cbr\\u003eR\\u003csup\\u003e2\\u003c\\u002fsup\\u003e=1.000000\\u003cbr\\u003e\\u003cbr\\u003estrain_id=theor\\u003cbr\\u003ex_ams_mM=%{x}\\u003cbr\\u003eod600=%{y} \\u003cb\\u003e(trend)\\u003c\\u002fb\\u003e\\u003cextra\\u003e\\u003c\\u002fextra\\u003e\",\"legendgroup\":\"theor\",\"marker\":{\"color\":\"#EF553B\",\"symbol\":\"circle\"},\"mode\":\"lines\",\"name\":\"theor\",\"showlegend\":false,\"x\":[0.0,1.0],\"xaxis\":\"x\",\"y\":[-1.64030859086855e-17,0.6849999999999999],\"yaxis\":\"y\",\"type\":\"scatter\"}],                        {\"template\":{\"data\":{\"histogram2dcontour\":[{\"type\":\"histogram2dcontour\",\"colorbar\":{\"outlinewidth\":0,\"ticks\":\"\"},\"colorscale\":[[0.0,\"#0d0887\"],[0.1111111111111111,\"#46039f\"],[0.2222222222222222,\"#7201a8\"],[0.3333333333333333,\"#9c179e\"],[0.4444444444444444,\"#bd3786\"],[0.5555555555555556,\"#d8576b\"],[0.6666666666666666,\"#ed7953\"],[0.7777777777777778,\"#fb9f3a\"],[0.8888888888888888,\"#fdca26\"],[1.0,\"#f0f921\"]]}],\"choropleth\":[{\"type\":\"choropleth\",\"colorbar\":{\"outlinewidth\":0,\"ticks\":\"\"}}],\"histogram2d\":[{\"type\":\"histogram2d\",\"colorbar\":{\"outlinewidth\":0,\"ticks\":\"\"},\"colorscale\":[[0.0,\"#0d0887\"],[0.1111111111111111,\"#46039f\"],[0.2222222222222222,\"#7201a8\"],[0.3333333333333333,\"#9c179e\"],[0.4444444444444444,\"#bd3786\"],[0.5555555555555556,\"#d8576b\"],[0.6666666666666666,\"#ed7953\"],[0.7777777777777778,\"#fb9f3a\"],[0.8888888888888888,\"#fdca26\"],[1.0,\"#f0f921\"]]}],\"heatmap\":[{\"type\":\"heatmap\",\"colorbar\":{\"outlinewidth\":0,\"ticks\":\"\"},\"colorscale\":[[0.0,\"#0d0887\"],[0.1111111111111111,\"#46039f\"],[0.2222222222222222,\"#7201a8\"],[0.3333333333333333,\"#9c179e\"],[0.4444444444444444,\"#bd3786\"],[0.5555555555555556,\"#d8576b\"],[0.6666666666666666,\"#ed7953\"],[0.7777777777777778,\"#fb9f3a\"],[0.8888888888888888,\"#fdca26\"],[1.0,\"#f0f921\"]]}],\"heatmapgl\":[{\"type\":\"heatmapgl\",\"colorbar\":{\"outlinewidth\":0,\"ticks\":\"\"},\"colorscale\":[[0.0,\"#0d0887\"],[0.1111111111111111,\"#46039f\"],[0.2222222222222222,\"#7201a8\"],[0.3333333333333333,\"#9c179e\"],[0.4444444444444444,\"#bd3786\"],[0.5555555555555556,\"#d8576b\"],[0.6666666666666666,\"#ed7953\"],[0.7777777777777778,\"#fb9f3a\"],[0.8888888888888888,\"#fdca26\"],[1.0,\"#f0f921\"]]}],\"contourcarpet\":[{\"type\":\"contourcarpet\",\"colorbar\":{\"outlinewidth\":0,\"ticks\":\"\"}}],\"contour\":[{\"type\":\"contour\",\"colorbar\":{\"outlinewidth\":0,\"ticks\":\"\"},\"colorscale\":[[0.0,\"#0d0887\"],[0.1111111111111111,\"#46039f\"],[0.2222222222222222,\"#7201a8\"],[0.3333333333333333,\"#9c179e\"],[0.4444444444444444,\"#bd3786\"],[0.5555555555555556,\"#d8576b\"],[0.6666666666666666,\"#ed7953\"],[0.7777777777777778,\"#fb9f3a\"],[0.8888888888888888,\"#fdca26\"],[1.0,\"#f0f921\"]]}],\"surface\":[{\"type\":\"surface\",\"colorbar\":{\"outlinewidth\":0,\"ticks\":\"\"},\"colorscale\":[[0.0,\"#0d0887\"],[0.1111111111111111,\"#46039f\"],[0.2222222222222222,\"#7201a8\"],[0.3333333333333333,\"#9c179e\"],[0.4444444444444444,\"#bd3786\"],[0.5555555555555556,\"#d8576b\"],[0.6666666666666666,\"#ed7953\"],[0.7777777777777778,\"#fb9f3a\"],[0.8888888888888888,\"#fdca26\"],[1.0,\"#f0f921\"]]}],\"mesh3d\":[{\"type\":\"mesh3d\",\"colorbar\":{\"outlinewidth\":0,\"ticks\":\"\"}}],\"scatter\":[{\"fillpattern\":{\"fillmode\":\"overlay\",\"size\":10,\"solidity\":0.2},\"type\":\"scatter\"}],\"parcoords\":[{\"type\":\"parcoords\",\"line\":{\"colorbar\":{\"outlinewidth\":0,\"ticks\":\"\"}}}],\"scatterpolargl\":[{\"type\":\"scatterpolargl\",\"marker\":{\"colorbar\":{\"outlinewidth\":0,\"ticks\":\"\"}}}],\"bar\":[{\"error_x\":{\"color\":\"#2a3f5f\"},\"error_y\":{\"color\":\"#2a3f5f\"},\"marker\":{\"line\":{\"color\":\"#E5ECF6\",\"width\":0.5},\"pattern\":{\"fillmode\":\"overlay\",\"size\":10,\"solidity\":0.2}},\"type\":\"bar\"}],\"scattergeo\":[{\"type\":\"scattergeo\",\"marker\":{\"colorbar\":{\"outlinewidth\":0,\"ticks\":\"\"}}}],\"scatterpolar\":[{\"type\":\"scatterpolar\",\"marker\":{\"colorbar\":{\"outlinewidth\":0,\"ticks\":\"\"}}}],\"histogram\":[{\"marker\":{\"pattern\":{\"fillmode\":\"overlay\",\"size\":10,\"solidity\":0.2}},\"type\":\"histogram\"}],\"scattergl\":[{\"type\":\"scattergl\",\"marker\":{\"colorbar\":{\"outlinewidth\":0,\"ticks\":\"\"}}}],\"scatter3d\":[{\"type\":\"scatter3d\",\"line\":{\"colorbar\":{\"outlinewidth\":0,\"ticks\":\"\"}},\"marker\":{\"colorbar\":{\"outlinewidth\":0,\"ticks\":\"\"}}}],\"scattermapbox\":[{\"type\":\"scattermapbox\",\"marker\":{\"colorbar\":{\"outlinewidth\":0,\"ticks\":\"\"}}}],\"scatterternary\":[{\"type\":\"scatterternary\",\"marker\":{\"colorbar\":{\"outlinewidth\":0,\"ticks\":\"\"}}}],\"scattercarpet\":[{\"type\":\"scattercarpet\",\"marker\":{\"colorbar\":{\"outlinewidth\":0,\"ticks\":\"\"}}}],\"carpet\":[{\"aaxis\":{\"endlinecolor\":\"#2a3f5f\",\"gridcolor\":\"white\",\"linecolor\":\"white\",\"minorgridcolor\":\"white\",\"startlinecolor\":\"#2a3f5f\"},\"baxis\":{\"endlinecolor\":\"#2a3f5f\",\"gridcolor\":\"white\",\"linecolor\":\"white\",\"minorgridcolor\":\"white\",\"startlinecolor\":\"#2a3f5f\"},\"type\":\"carpet\"}],\"table\":[{\"cells\":{\"fill\":{\"color\":\"#EBF0F8\"},\"line\":{\"color\":\"white\"}},\"header\":{\"fill\":{\"color\":\"#C8D4E3\"},\"line\":{\"color\":\"white\"}},\"type\":\"table\"}],\"barpolar\":[{\"marker\":{\"line\":{\"color\":\"#E5ECF6\",\"width\":0.5},\"pattern\":{\"fillmode\":\"overlay\",\"size\":10,\"solidity\":0.2}},\"type\":\"barpolar\"}],\"pie\":[{\"automargin\":true,\"type\":\"pie\"}]},\"layout\":{\"autotypenumbers\":\"strict\",\"colorway\":[\"#636efa\",\"#EF553B\",\"#00cc96\",\"#ab63fa\",\"#FFA15A\",\"#19d3f3\",\"#FF6692\",\"#B6E880\",\"#FF97FF\",\"#FECB52\"],\"font\":{\"color\":\"#2a3f5f\"},\"hovermode\":\"closest\",\"hoverlabel\":{\"align\":\"left\"},\"paper_bgcolor\":\"white\",\"plot_bgcolor\":\"#E5ECF6\",\"polar\":{\"bgcolor\":\"#E5ECF6\",\"angularaxis\":{\"gridcolor\":\"white\",\"linecolor\":\"white\",\"ticks\":\"\"},\"radialaxis\":{\"gridcolor\":\"white\",\"linecolor\":\"white\",\"ticks\":\"\"}},\"ternary\":{\"bgcolor\":\"#E5ECF6\",\"aaxis\":{\"gridcolor\":\"white\",\"linecolor\":\"white\",\"ticks\":\"\"},\"baxis\":{\"gridcolor\":\"white\",\"linecolor\":\"white\",\"ticks\":\"\"},\"caxis\":{\"gridcolor\":\"white\",\"linecolor\":\"white\",\"ticks\":\"\"}},\"coloraxis\":{\"colorbar\":{\"outlinewidth\":0,\"ticks\":\"\"}},\"colorscale\":{\"sequential\":[[0.0,\"#0d0887\"],[0.1111111111111111,\"#46039f\"],[0.2222222222222222,\"#7201a8\"],[0.3333333333333333,\"#9c179e\"],[0.4444444444444444,\"#bd3786\"],[0.5555555555555556,\"#d8576b\"],[0.6666666666666666,\"#ed7953\"],[0.7777777777777778,\"#fb9f3a\"],[0.8888888888888888,\"#fdca26\"],[1.0,\"#f0f921\"]],\"sequentialminus\":[[0.0,\"#0d0887\"],[0.1111111111111111,\"#46039f\"],[0.2222222222222222,\"#7201a8\"],[0.3333333333333333,\"#9c179e\"],[0.4444444444444444,\"#bd3786\"],[0.5555555555555556,\"#d8576b\"],[0.6666666666666666,\"#ed7953\"],[0.7777777777777778,\"#fb9f3a\"],[0.8888888888888888,\"#fdca26\"],[1.0,\"#f0f921\"]],\"diverging\":[[0,\"#8e0152\"],[0.1,\"#c51b7d\"],[0.2,\"#de77ae\"],[0.3,\"#f1b6da\"],[0.4,\"#fde0ef\"],[0.5,\"#f7f7f7\"],[0.6,\"#e6f5d0\"],[0.7,\"#b8e186\"],[0.8,\"#7fbc41\"],[0.9,\"#4d9221\"],[1,\"#276419\"]]},\"xaxis\":{\"gridcolor\":\"white\",\"linecolor\":\"white\",\"ticks\":\"\",\"title\":{\"standoff\":15},\"zerolinecolor\":\"white\",\"automargin\":true,\"zerolinewidth\":2},\"yaxis\":{\"gridcolor\":\"white\",\"linecolor\":\"white\",\"ticks\":\"\",\"title\":{\"standoff\":15},\"zerolinecolor\":\"white\",\"automargin\":true,\"zerolinewidth\":2},\"scene\":{\"xaxis\":{\"backgroundcolor\":\"#E5ECF6\",\"gridcolor\":\"white\",\"linecolor\":\"white\",\"showbackground\":true,\"ticks\":\"\",\"zerolinecolor\":\"white\",\"gridwidth\":2},\"yaxis\":{\"backgroundcolor\":\"#E5ECF6\",\"gridcolor\":\"white\",\"linecolor\":\"white\",\"showbackground\":true,\"ticks\":\"\",\"zerolinecolor\":\"white\",\"gridwidth\":2},\"zaxis\":{\"backgroundcolor\":\"#E5ECF6\",\"gridcolor\":\"white\",\"linecolor\":\"white\",\"showbackground\":true,\"ticks\":\"\",\"zerolinecolor\":\"white\",\"gridwidth\":2}},\"shapedefaults\":{\"line\":{\"color\":\"#2a3f5f\"}},\"annotationdefaults\":{\"arrowcolor\":\"#2a3f5f\",\"arrowhead\":0,\"arrowwidth\":1},\"geo\":{\"bgcolor\":\"white\",\"landcolor\":\"#E5ECF6\",\"subunitcolor\":\"white\",\"showland\":true,\"showlakes\":true,\"lakecolor\":\"white\"},\"title\":{\"x\":0.05},\"mapbox\":{\"style\":\"light\"}}},\"xaxis\":{\"anchor\":\"y\",\"domain\":[0.0,1.0],\"title\":{\"text\":\"x_ams_mM\"}},\"yaxis\":{\"anchor\":\"x\",\"domain\":[0.0,1.0],\"title\":{\"text\":\"od600\"}},\"legend\":{\"title\":{\"text\":\"strain_id\"},\"tracegroupgap\":0},\"margin\":{\"t\":60},\"title\":{\"text\":\"ADP1 {KSF001 WT} Biomass Yield Curves from AMS (source of N)\",\"x\":0.5}},                        {\"responsive\": true}                    ).then(function(){\n",
       "                            \n",
       "var gd = document.getElementById('efa6c90a-7385-4a45-9df3-39c4544bec42');\n",
       "var x = new MutationObserver(function (mutations, observer) {{\n",
       "        var display = window.getComputedStyle(gd).display;\n",
       "        if (!display || display === 'none') {{\n",
       "            console.log([gd, 'removed!']);\n",
       "            Plotly.purge(gd);\n",
       "            observer.disconnect();\n",
       "        }}\n",
       "}});\n",
       "\n",
       "// Listen for the removal of the full notebook cells\n",
       "var notebookContainer = gd.closest('#notebook-container');\n",
       "if (notebookContainer) {{\n",
       "    x.observe(notebookContainer, {childList: true});\n",
       "}}\n",
       "\n",
       "// Listen for the clearing of the current output cell\n",
       "var outputEl = gd.closest('.output');\n",
       "if (outputEl) {{\n",
       "    x.observe(outputEl, {childList: true});\n",
       "}}\n",
       "\n",
       "                        })                };                });            </script>        </div>"
      ]
     },
     "metadata": {},
     "output_type": "display_data"
    }
   ],
   "execution_count": 25
  },
  {
   "metadata": {
    "ExecuteTime": {
     "end_time": "2024-10-04T20:33:59.364641Z",
     "start_time": "2024-10-04T20:33:59.362681Z"
    }
   },
   "cell_type": "code",
   "source": [
    "def od600_cgp_to_get_x_mM_AMS(x: float) -> float:\n",
    "    return x*28.02*100/24*100/25*1/1000*100/33"
   ],
   "id": "9e27a36a29b08832",
   "outputs": [],
   "execution_count": 15
  },
  {
   "metadata": {
    "ExecuteTime": {
     "end_time": "2024-09-30T23:56:41.887911Z",
     "start_time": "2024-09-30T23:56:41.883039Z"
    }
   },
   "cell_type": "code",
   "source": "od600_cgp_to_get_x_mM_AMS(2.5)",
   "id": "53f0a73093555701",
   "outputs": [
    {
     "data": {
      "text/plain": [
       "3.537878787878788"
      ]
     },
     "execution_count": 30,
     "metadata": {},
     "output_type": "execute_result"
    }
   ],
   "execution_count": 30
  },
  {
   "metadata": {
    "ExecuteTime": {
     "end_time": "2024-10-01T00:42:21.164343Z",
     "start_time": "2024-10-01T00:42:21.109625Z"
    }
   },
   "cell_type": "code",
   "source": [
    "pd.DataFrame.from_records([\n",
    "    dict(od_cgp=0, od=0, label='1:1 no doubling'),\n",
    "    dict(od_cgp=1, od=1, label='1:1 no doubling'),\n",
    "\n",
    "    dict(od_cgp=0, od=0, label='1:2 one doubling'),\n",
    "    dict(od_cgp=1, od=2, label='1:2 one doubling'),\n",
    "\n",
    "\n",
    "    dict(od_cgp=0, od=0, label='1:4 two doublings'),\n",
    "    dict(od_cgp=1, od=4, label='1:4 two doublings'),\n",
    "])"
   ],
   "id": "8c5a8ba0b40ea51a",
   "outputs": [
    {
     "data": {
      "text/plain": [
       "   od_cgp  od              label\n",
       "0       0   0    1:1 no doubling\n",
       "1       1   1    1:1 no doubling\n",
       "2       0   0   1:2 one doubling\n",
       "3       1   2   1:2 one doubling\n",
       "4       0   0  1:4 two doublings\n",
       "5       1   4  1:4 two doublings"
      ],
      "text/html": [
       "<div>\n",
       "<style scoped>\n",
       "    .dataframe tbody tr th:only-of-type {\n",
       "        vertical-align: middle;\n",
       "    }\n",
       "\n",
       "    .dataframe tbody tr th {\n",
       "        vertical-align: top;\n",
       "    }\n",
       "\n",
       "    .dataframe thead th {\n",
       "        text-align: right;\n",
       "    }\n",
       "</style>\n",
       "<table border=\"1\" class=\"dataframe\">\n",
       "  <thead>\n",
       "    <tr style=\"text-align: right;\">\n",
       "      <th></th>\n",
       "      <th>od_cgp</th>\n",
       "      <th>od</th>\n",
       "      <th>label</th>\n",
       "    </tr>\n",
       "  </thead>\n",
       "  <tbody>\n",
       "    <tr>\n",
       "      <th>0</th>\n",
       "      <td>0</td>\n",
       "      <td>0</td>\n",
       "      <td>1:1 no doubling</td>\n",
       "    </tr>\n",
       "    <tr>\n",
       "      <th>1</th>\n",
       "      <td>1</td>\n",
       "      <td>1</td>\n",
       "      <td>1:1 no doubling</td>\n",
       "    </tr>\n",
       "    <tr>\n",
       "      <th>2</th>\n",
       "      <td>0</td>\n",
       "      <td>0</td>\n",
       "      <td>1:2 one doubling</td>\n",
       "    </tr>\n",
       "    <tr>\n",
       "      <th>3</th>\n",
       "      <td>1</td>\n",
       "      <td>2</td>\n",
       "      <td>1:2 one doubling</td>\n",
       "    </tr>\n",
       "    <tr>\n",
       "      <th>4</th>\n",
       "      <td>0</td>\n",
       "      <td>0</td>\n",
       "      <td>1:4 two doublings</td>\n",
       "    </tr>\n",
       "    <tr>\n",
       "      <th>5</th>\n",
       "      <td>1</td>\n",
       "      <td>4</td>\n",
       "      <td>1:4 two doublings</td>\n",
       "    </tr>\n",
       "  </tbody>\n",
       "</table>\n",
       "</div>"
      ]
     },
     "execution_count": 31,
     "metadata": {},
     "output_type": "execute_result"
    }
   ],
   "execution_count": 31
  },
  {
   "metadata": {
    "ExecuteTime": {
     "end_time": "2024-10-04T20:51:12.117567Z",
     "start_time": "2024-10-04T20:51:12.030426Z"
    }
   },
   "cell_type": "code",
   "source": [
    "import plotly.graph_objects as go\n",
    "import numpy as np\n",
    "\n",
    "plotly_colors = {\n",
    "    \"SP_Brights_Green\": \"rgb(81, 255, 0)\",\n",
    "    \"SP_Brights_Light_Blue\": \"rgb(132, 255, 199)\",\n",
    "    \"SP_Brights_Blue\": \"rgb(81, 168, 255)\",\n",
    "    \"SP_Brights_Yellow\": \"rgb(229, 255, 28)\",\n",
    "    \"SP_Brights_Orange\": \"rgb(255, 196, 13)\",\n",
    "    \"SP_Brights_Orange_Red\": \"rgb(252, 45, 51)\",\n",
    "    \"SP_Dark_Green\": \"rgb(27, 168, 36)\",\n",
    "    \"SP_Dark_Light_Blue\": \"rgb(35, 150, 197)\",\n",
    "    \"SP_Dark_Blue\": \"rgb(58, 38, 147)\",\n",
    "    \"SP_Dark_Yellow\": \"rgb(209, 219, 0)\",\n",
    "    \"SP_Dark_Orange\": \"rgb(201, 126, 19)\",\n",
    "    \"SP_Dark_Orange_Red\": \"rgb(229, 57, 0)\"\n",
    "}\n",
    "\n",
    "# Create figure\n",
    "fig = go.Figure()\n",
    "\n",
    "black = 'rgba(255,255,255,0)'\n",
    "\n",
    "# create linear space\n",
    "x_vals = np.linspace(0, 10, 100)\n",
    "\n",
    "# doubling references\n",
    "y_vals_1_1 = x_vals\n",
    "y_vals_1_2 = 2 * x_vals\n",
    "y_vals_1_4 = 4 * x_vals\n",
    "\n",
    "fig.add_trace(go.Scatter(x=x_vals, y=y_vals_1_1, mode='lines', line=dict(dash='dash', color='black', width=1), name='1:1'))\n",
    "fig.add_trace(go.Scatter(x=x_vals, y=y_vals_1_2, mode='lines', line=dict(dash='dash', color='black', width=1), name='1:2'))\n",
    "fig.add_trace(go.Scatter(x=x_vals, y=y_vals_1_4, mode='lines', line=dict(dash='dash', color='black', width=1), name='1:4'))\n",
    "\n",
    "# x -> 1:1   real bad like\n",
    "fig.add_trace(go.Scatter(x=np.concatenate([x_vals, x_vals[::-1]]),\n",
    "                         y=np.concatenate([y_vals_1_1, np.zeros_like(x_vals)]),\n",
    "                         fill='toself',\n",
    "                         fillcolor=plotly_colors['SP_Brights_Orange_Red'],\n",
    "                         opacity=0.2,\n",
    "                         line=dict(color=black),\n",
    "                         showlegend=True))\n",
    "# 1:1 -> 1:2  meh\n",
    "fig.add_trace(go.Scatter(x=np.concatenate([x_vals, x_vals[::-1]]),\n",
    "                         y=np.concatenate([y_vals_1_1, y_vals_1_2[::-1]]),\n",
    "                         fill='toself',\n",
    "                         fillcolor=plotly_colors['SP_Dark_Orange_Red'],\n",
    "                         opacity=0.2,\n",
    "                         line=dict(color=black),\n",
    "                         showlegend=False))\n",
    "# 1:2 -> 1:4  ok\n",
    "fig.add_trace(go.Scatter(x=np.concatenate([x_vals, x_vals[::-1]]),\n",
    "                         y=np.concatenate([y_vals_1_2, y_vals_1_4[::-1]]),\n",
    "                         fill='toself',\n",
    "                         fillcolor=plotly_colors['SP_Dark_Green'],\n",
    "                         opacity=0.2,\n",
    "                         line=dict(color=black),\n",
    "                         showlegend=False))\n",
    "# y -> 1:4  cookin\n",
    "fig.add_trace(go.Scatter(x=np.concatenate([x_vals, np.zeros_like(x_vals)]),\n",
    "                         y=np.concatenate([y_vals_1_4, y_vals_1_4[::-1]]),\n",
    "                         fill='toself',\n",
    "                         fillcolor=plotly_colors['SP_Brights_Green'],\n",
    "                         line=dict(color=black),\n",
    "                         opacity=0.2,\n",
    "                         showlegend=False))\n",
    "\n",
    "fig.add_annotation(x=.9, y=.8, text=\"death\", showarrow=False, font=dict(size=20))\n",
    "fig.add_annotation(x=.8, y=.95, text=\"no doubling\", showarrow=False, font=dict(size=20))\n",
    "fig.add_annotation(x=.35, y=.95, text=\"1-2 doublings\", showarrow=False, font=dict(size=20))\n",
    "fig.add_annotation(x=.11, y=.95, text=\"≥2 doublings\", showarrow=False, font=dict(size=20))\n",
    "\n",
    "# theoretical and experimental curves\n",
    "\n",
    "fig.add_trace(go.Scatter(x=x_vals, y=.57 * x_vals, mode='lines', line=dict(color='black'), name='WT best'))\n",
    "fig.add_trace(go.Scatter(x=x_vals, y=.71 * x_vals, mode='lines', line=dict(color='purple'), name='theoretical'))\n",
    "\n",
    "fig.add_annotation(x=.6, y=.3, text=\"Y theoretical = .71\", showarrow=False, font=dict(size=16))\n",
    "fig.add_annotation(x=.4, y=.1, text=\"Y WT (best of) = .57\", showarrow=False, font=dict(size=16))\n",
    "\n",
    "# Update axes and layout for the plot\n",
    "fig.update_layout(\n",
    "    xaxis_title='ADP1 with CGP from Phase 1 (OD600)',\n",
    "    yaxis_title='ADP1 in Phase 2 (OD600)',\n",
    "    xaxis=dict(range=[0, 1]),\n",
    "    yaxis=dict(range=[0, 1]),\n",
    "    showlegend=False,\n",
    "    width=700,\n",
    "    height=700,\n",
    "    plot_bgcolor='rgba(0,0,0,0)'\n",
    ")\n",
    "\n",
    "fig.write_image('../../figures/pk_exp004_bm_bm_yield.pdf')\n",
    "fig\n",
    "\n"
   ],
   "id": "bec93809a6098170",
   "outputs": [
    {
     "data": {
      "application/vnd.plotly.v1+json": {
       "data": [
        {
         "line": {
          "color": "black",
          "dash": "dash",
          "width": 1
         },
         "mode": "lines",
         "name": "1:1",
         "x": [
          0.0,
          0.10101010101010101,
          0.20202020202020202,
          0.30303030303030304,
          0.40404040404040403,
          0.5050505050505051,
          0.6060606060606061,
          0.7070707070707071,
          0.8080808080808081,
          0.9090909090909091,
          1.0101010101010102,
          1.1111111111111112,
          1.2121212121212122,
          1.3131313131313131,
          1.4141414141414141,
          1.5151515151515151,
          1.6161616161616161,
          1.7171717171717171,
          1.8181818181818181,
          1.9191919191919191,
          2.0202020202020203,
          2.121212121212121,
          2.2222222222222223,
          2.323232323232323,
          2.4242424242424243,
          2.525252525252525,
          2.6262626262626263,
          2.727272727272727,
          2.8282828282828283,
          2.929292929292929,
          3.0303030303030303,
          3.131313131313131,
          3.2323232323232323,
          3.3333333333333335,
          3.4343434343434343,
          3.5353535353535355,
          3.6363636363636362,
          3.7373737373737375,
          3.8383838383838382,
          3.9393939393939394,
          4.040404040404041,
          4.141414141414141,
          4.242424242424242,
          4.343434343434343,
          4.444444444444445,
          4.545454545454545,
          4.646464646464646,
          4.747474747474747,
          4.848484848484849,
          4.94949494949495,
          5.05050505050505,
          5.151515151515151,
          5.252525252525253,
          5.353535353535354,
          5.454545454545454,
          5.555555555555555,
          5.656565656565657,
          5.757575757575758,
          5.858585858585858,
          5.959595959595959,
          6.0606060606060606,
          6.161616161616162,
          6.262626262626262,
          6.363636363636363,
          6.4646464646464645,
          6.565656565656566,
          6.666666666666667,
          6.767676767676767,
          6.8686868686868685,
          6.96969696969697,
          7.070707070707071,
          7.171717171717171,
          7.2727272727272725,
          7.373737373737374,
          7.474747474747475,
          7.575757575757575,
          7.6767676767676765,
          7.777777777777778,
          7.878787878787879,
          7.979797979797979,
          8.080808080808081,
          8.181818181818182,
          8.282828282828282,
          8.383838383838384,
          8.484848484848484,
          8.585858585858587,
          8.686868686868687,
          8.787878787878787,
          8.88888888888889,
          8.98989898989899,
          9.09090909090909,
          9.191919191919192,
          9.292929292929292,
          9.393939393939394,
          9.494949494949495,
          9.595959595959595,
          9.696969696969697,
          9.797979797979798,
          9.8989898989899,
          10.0
         ],
         "y": [
          0.0,
          0.10101010101010101,
          0.20202020202020202,
          0.30303030303030304,
          0.40404040404040403,
          0.5050505050505051,
          0.6060606060606061,
          0.7070707070707071,
          0.8080808080808081,
          0.9090909090909091,
          1.0101010101010102,
          1.1111111111111112,
          1.2121212121212122,
          1.3131313131313131,
          1.4141414141414141,
          1.5151515151515151,
          1.6161616161616161,
          1.7171717171717171,
          1.8181818181818181,
          1.9191919191919191,
          2.0202020202020203,
          2.121212121212121,
          2.2222222222222223,
          2.323232323232323,
          2.4242424242424243,
          2.525252525252525,
          2.6262626262626263,
          2.727272727272727,
          2.8282828282828283,
          2.929292929292929,
          3.0303030303030303,
          3.131313131313131,
          3.2323232323232323,
          3.3333333333333335,
          3.4343434343434343,
          3.5353535353535355,
          3.6363636363636362,
          3.7373737373737375,
          3.8383838383838382,
          3.9393939393939394,
          4.040404040404041,
          4.141414141414141,
          4.242424242424242,
          4.343434343434343,
          4.444444444444445,
          4.545454545454545,
          4.646464646464646,
          4.747474747474747,
          4.848484848484849,
          4.94949494949495,
          5.05050505050505,
          5.151515151515151,
          5.252525252525253,
          5.353535353535354,
          5.454545454545454,
          5.555555555555555,
          5.656565656565657,
          5.757575757575758,
          5.858585858585858,
          5.959595959595959,
          6.0606060606060606,
          6.161616161616162,
          6.262626262626262,
          6.363636363636363,
          6.4646464646464645,
          6.565656565656566,
          6.666666666666667,
          6.767676767676767,
          6.8686868686868685,
          6.96969696969697,
          7.070707070707071,
          7.171717171717171,
          7.2727272727272725,
          7.373737373737374,
          7.474747474747475,
          7.575757575757575,
          7.6767676767676765,
          7.777777777777778,
          7.878787878787879,
          7.979797979797979,
          8.080808080808081,
          8.181818181818182,
          8.282828282828282,
          8.383838383838384,
          8.484848484848484,
          8.585858585858587,
          8.686868686868687,
          8.787878787878787,
          8.88888888888889,
          8.98989898989899,
          9.09090909090909,
          9.191919191919192,
          9.292929292929292,
          9.393939393939394,
          9.494949494949495,
          9.595959595959595,
          9.696969696969697,
          9.797979797979798,
          9.8989898989899,
          10.0
         ],
         "type": "scatter"
        },
        {
         "line": {
          "color": "black",
          "dash": "dash",
          "width": 1
         },
         "mode": "lines",
         "name": "1:2",
         "x": [
          0.0,
          0.10101010101010101,
          0.20202020202020202,
          0.30303030303030304,
          0.40404040404040403,
          0.5050505050505051,
          0.6060606060606061,
          0.7070707070707071,
          0.8080808080808081,
          0.9090909090909091,
          1.0101010101010102,
          1.1111111111111112,
          1.2121212121212122,
          1.3131313131313131,
          1.4141414141414141,
          1.5151515151515151,
          1.6161616161616161,
          1.7171717171717171,
          1.8181818181818181,
          1.9191919191919191,
          2.0202020202020203,
          2.121212121212121,
          2.2222222222222223,
          2.323232323232323,
          2.4242424242424243,
          2.525252525252525,
          2.6262626262626263,
          2.727272727272727,
          2.8282828282828283,
          2.929292929292929,
          3.0303030303030303,
          3.131313131313131,
          3.2323232323232323,
          3.3333333333333335,
          3.4343434343434343,
          3.5353535353535355,
          3.6363636363636362,
          3.7373737373737375,
          3.8383838383838382,
          3.9393939393939394,
          4.040404040404041,
          4.141414141414141,
          4.242424242424242,
          4.343434343434343,
          4.444444444444445,
          4.545454545454545,
          4.646464646464646,
          4.747474747474747,
          4.848484848484849,
          4.94949494949495,
          5.05050505050505,
          5.151515151515151,
          5.252525252525253,
          5.353535353535354,
          5.454545454545454,
          5.555555555555555,
          5.656565656565657,
          5.757575757575758,
          5.858585858585858,
          5.959595959595959,
          6.0606060606060606,
          6.161616161616162,
          6.262626262626262,
          6.363636363636363,
          6.4646464646464645,
          6.565656565656566,
          6.666666666666667,
          6.767676767676767,
          6.8686868686868685,
          6.96969696969697,
          7.070707070707071,
          7.171717171717171,
          7.2727272727272725,
          7.373737373737374,
          7.474747474747475,
          7.575757575757575,
          7.6767676767676765,
          7.777777777777778,
          7.878787878787879,
          7.979797979797979,
          8.080808080808081,
          8.181818181818182,
          8.282828282828282,
          8.383838383838384,
          8.484848484848484,
          8.585858585858587,
          8.686868686868687,
          8.787878787878787,
          8.88888888888889,
          8.98989898989899,
          9.09090909090909,
          9.191919191919192,
          9.292929292929292,
          9.393939393939394,
          9.494949494949495,
          9.595959595959595,
          9.696969696969697,
          9.797979797979798,
          9.8989898989899,
          10.0
         ],
         "y": [
          0.0,
          0.20202020202020202,
          0.40404040404040403,
          0.6060606060606061,
          0.8080808080808081,
          1.0101010101010102,
          1.2121212121212122,
          1.4141414141414141,
          1.6161616161616161,
          1.8181818181818181,
          2.0202020202020203,
          2.2222222222222223,
          2.4242424242424243,
          2.6262626262626263,
          2.8282828282828283,
          3.0303030303030303,
          3.2323232323232323,
          3.4343434343434343,
          3.6363636363636362,
          3.8383838383838382,
          4.040404040404041,
          4.242424242424242,
          4.444444444444445,
          4.646464646464646,
          4.848484848484849,
          5.05050505050505,
          5.252525252525253,
          5.454545454545454,
          5.656565656565657,
          5.858585858585858,
          6.0606060606060606,
          6.262626262626262,
          6.4646464646464645,
          6.666666666666667,
          6.8686868686868685,
          7.070707070707071,
          7.2727272727272725,
          7.474747474747475,
          7.6767676767676765,
          7.878787878787879,
          8.080808080808081,
          8.282828282828282,
          8.484848484848484,
          8.686868686868687,
          8.88888888888889,
          9.09090909090909,
          9.292929292929292,
          9.494949494949495,
          9.696969696969697,
          9.8989898989899,
          10.1010101010101,
          10.303030303030303,
          10.505050505050505,
          10.707070707070708,
          10.909090909090908,
          11.11111111111111,
          11.313131313131313,
          11.515151515151516,
          11.717171717171716,
          11.919191919191919,
          12.121212121212121,
          12.323232323232324,
          12.525252525252524,
          12.727272727272727,
          12.929292929292929,
          13.131313131313131,
          13.333333333333334,
          13.535353535353535,
          13.737373737373737,
          13.93939393939394,
          14.141414141414142,
          14.343434343434343,
          14.545454545454545,
          14.747474747474747,
          14.94949494949495,
          15.15151515151515,
          15.353535353535353,
          15.555555555555555,
          15.757575757575758,
          15.959595959595958,
          16.161616161616163,
          16.363636363636363,
          16.565656565656564,
          16.767676767676768,
          16.96969696969697,
          17.171717171717173,
          17.373737373737374,
          17.575757575757574,
          17.77777777777778,
          17.97979797979798,
          18.18181818181818,
          18.383838383838384,
          18.585858585858585,
          18.78787878787879,
          18.98989898989899,
          19.19191919191919,
          19.393939393939394,
          19.595959595959595,
          19.7979797979798,
          20.0
         ],
         "type": "scatter"
        },
        {
         "line": {
          "color": "black",
          "dash": "dash",
          "width": 1
         },
         "mode": "lines",
         "name": "1:4",
         "x": [
          0.0,
          0.10101010101010101,
          0.20202020202020202,
          0.30303030303030304,
          0.40404040404040403,
          0.5050505050505051,
          0.6060606060606061,
          0.7070707070707071,
          0.8080808080808081,
          0.9090909090909091,
          1.0101010101010102,
          1.1111111111111112,
          1.2121212121212122,
          1.3131313131313131,
          1.4141414141414141,
          1.5151515151515151,
          1.6161616161616161,
          1.7171717171717171,
          1.8181818181818181,
          1.9191919191919191,
          2.0202020202020203,
          2.121212121212121,
          2.2222222222222223,
          2.323232323232323,
          2.4242424242424243,
          2.525252525252525,
          2.6262626262626263,
          2.727272727272727,
          2.8282828282828283,
          2.929292929292929,
          3.0303030303030303,
          3.131313131313131,
          3.2323232323232323,
          3.3333333333333335,
          3.4343434343434343,
          3.5353535353535355,
          3.6363636363636362,
          3.7373737373737375,
          3.8383838383838382,
          3.9393939393939394,
          4.040404040404041,
          4.141414141414141,
          4.242424242424242,
          4.343434343434343,
          4.444444444444445,
          4.545454545454545,
          4.646464646464646,
          4.747474747474747,
          4.848484848484849,
          4.94949494949495,
          5.05050505050505,
          5.151515151515151,
          5.252525252525253,
          5.353535353535354,
          5.454545454545454,
          5.555555555555555,
          5.656565656565657,
          5.757575757575758,
          5.858585858585858,
          5.959595959595959,
          6.0606060606060606,
          6.161616161616162,
          6.262626262626262,
          6.363636363636363,
          6.4646464646464645,
          6.565656565656566,
          6.666666666666667,
          6.767676767676767,
          6.8686868686868685,
          6.96969696969697,
          7.070707070707071,
          7.171717171717171,
          7.2727272727272725,
          7.373737373737374,
          7.474747474747475,
          7.575757575757575,
          7.6767676767676765,
          7.777777777777778,
          7.878787878787879,
          7.979797979797979,
          8.080808080808081,
          8.181818181818182,
          8.282828282828282,
          8.383838383838384,
          8.484848484848484,
          8.585858585858587,
          8.686868686868687,
          8.787878787878787,
          8.88888888888889,
          8.98989898989899,
          9.09090909090909,
          9.191919191919192,
          9.292929292929292,
          9.393939393939394,
          9.494949494949495,
          9.595959595959595,
          9.696969696969697,
          9.797979797979798,
          9.8989898989899,
          10.0
         ],
         "y": [
          0.0,
          0.40404040404040403,
          0.8080808080808081,
          1.2121212121212122,
          1.6161616161616161,
          2.0202020202020203,
          2.4242424242424243,
          2.8282828282828283,
          3.2323232323232323,
          3.6363636363636362,
          4.040404040404041,
          4.444444444444445,
          4.848484848484849,
          5.252525252525253,
          5.656565656565657,
          6.0606060606060606,
          6.4646464646464645,
          6.8686868686868685,
          7.2727272727272725,
          7.6767676767676765,
          8.080808080808081,
          8.484848484848484,
          8.88888888888889,
          9.292929292929292,
          9.696969696969697,
          10.1010101010101,
          10.505050505050505,
          10.909090909090908,
          11.313131313131313,
          11.717171717171716,
          12.121212121212121,
          12.525252525252524,
          12.929292929292929,
          13.333333333333334,
          13.737373737373737,
          14.141414141414142,
          14.545454545454545,
          14.94949494949495,
          15.353535353535353,
          15.757575757575758,
          16.161616161616163,
          16.565656565656564,
          16.96969696969697,
          17.373737373737374,
          17.77777777777778,
          18.18181818181818,
          18.585858585858585,
          18.98989898989899,
          19.393939393939394,
          19.7979797979798,
          20.2020202020202,
          20.606060606060606,
          21.01010101010101,
          21.414141414141415,
          21.818181818181817,
          22.22222222222222,
          22.626262626262626,
          23.03030303030303,
          23.434343434343432,
          23.838383838383837,
          24.242424242424242,
          24.646464646464647,
          25.05050505050505,
          25.454545454545453,
          25.858585858585858,
          26.262626262626263,
          26.666666666666668,
          27.07070707070707,
          27.474747474747474,
          27.87878787878788,
          28.282828282828284,
          28.686868686868685,
          29.09090909090909,
          29.494949494949495,
          29.8989898989899,
          30.3030303030303,
          30.707070707070706,
          31.11111111111111,
          31.515151515151516,
          31.919191919191917,
          32.323232323232325,
          32.72727272727273,
          33.13131313131313,
          33.535353535353536,
          33.93939393939394,
          34.343434343434346,
          34.74747474747475,
          35.15151515151515,
          35.55555555555556,
          35.95959595959596,
          36.36363636363636,
          36.76767676767677,
          37.17171717171717,
          37.57575757575758,
          37.97979797979798,
          38.38383838383838,
          38.78787878787879,
          39.19191919191919,
          39.5959595959596,
          40.0
         ],
         "type": "scatter"
        },
        {
         "fill": "toself",
         "fillcolor": "rgb(252, 45, 51)",
         "line": {
          "color": "rgba(255,255,255,0)"
         },
         "opacity": 0.2,
         "showlegend": true,
         "x": [
          0.0,
          0.10101010101010101,
          0.20202020202020202,
          0.30303030303030304,
          0.40404040404040403,
          0.5050505050505051,
          0.6060606060606061,
          0.7070707070707071,
          0.8080808080808081,
          0.9090909090909091,
          1.0101010101010102,
          1.1111111111111112,
          1.2121212121212122,
          1.3131313131313131,
          1.4141414141414141,
          1.5151515151515151,
          1.6161616161616161,
          1.7171717171717171,
          1.8181818181818181,
          1.9191919191919191,
          2.0202020202020203,
          2.121212121212121,
          2.2222222222222223,
          2.323232323232323,
          2.4242424242424243,
          2.525252525252525,
          2.6262626262626263,
          2.727272727272727,
          2.8282828282828283,
          2.929292929292929,
          3.0303030303030303,
          3.131313131313131,
          3.2323232323232323,
          3.3333333333333335,
          3.4343434343434343,
          3.5353535353535355,
          3.6363636363636362,
          3.7373737373737375,
          3.8383838383838382,
          3.9393939393939394,
          4.040404040404041,
          4.141414141414141,
          4.242424242424242,
          4.343434343434343,
          4.444444444444445,
          4.545454545454545,
          4.646464646464646,
          4.747474747474747,
          4.848484848484849,
          4.94949494949495,
          5.05050505050505,
          5.151515151515151,
          5.252525252525253,
          5.353535353535354,
          5.454545454545454,
          5.555555555555555,
          5.656565656565657,
          5.757575757575758,
          5.858585858585858,
          5.959595959595959,
          6.0606060606060606,
          6.161616161616162,
          6.262626262626262,
          6.363636363636363,
          6.4646464646464645,
          6.565656565656566,
          6.666666666666667,
          6.767676767676767,
          6.8686868686868685,
          6.96969696969697,
          7.070707070707071,
          7.171717171717171,
          7.2727272727272725,
          7.373737373737374,
          7.474747474747475,
          7.575757575757575,
          7.6767676767676765,
          7.777777777777778,
          7.878787878787879,
          7.979797979797979,
          8.080808080808081,
          8.181818181818182,
          8.282828282828282,
          8.383838383838384,
          8.484848484848484,
          8.585858585858587,
          8.686868686868687,
          8.787878787878787,
          8.88888888888889,
          8.98989898989899,
          9.09090909090909,
          9.191919191919192,
          9.292929292929292,
          9.393939393939394,
          9.494949494949495,
          9.595959595959595,
          9.696969696969697,
          9.797979797979798,
          9.8989898989899,
          10.0,
          10.0,
          9.8989898989899,
          9.797979797979798,
          9.696969696969697,
          9.595959595959595,
          9.494949494949495,
          9.393939393939394,
          9.292929292929292,
          9.191919191919192,
          9.09090909090909,
          8.98989898989899,
          8.88888888888889,
          8.787878787878787,
          8.686868686868687,
          8.585858585858587,
          8.484848484848484,
          8.383838383838384,
          8.282828282828282,
          8.181818181818182,
          8.080808080808081,
          7.979797979797979,
          7.878787878787879,
          7.777777777777778,
          7.6767676767676765,
          7.575757575757575,
          7.474747474747475,
          7.373737373737374,
          7.2727272727272725,
          7.171717171717171,
          7.070707070707071,
          6.96969696969697,
          6.8686868686868685,
          6.767676767676767,
          6.666666666666667,
          6.565656565656566,
          6.4646464646464645,
          6.363636363636363,
          6.262626262626262,
          6.161616161616162,
          6.0606060606060606,
          5.959595959595959,
          5.858585858585858,
          5.757575757575758,
          5.656565656565657,
          5.555555555555555,
          5.454545454545454,
          5.353535353535354,
          5.252525252525253,
          5.151515151515151,
          5.05050505050505,
          4.94949494949495,
          4.848484848484849,
          4.747474747474747,
          4.646464646464646,
          4.545454545454545,
          4.444444444444445,
          4.343434343434343,
          4.242424242424242,
          4.141414141414141,
          4.040404040404041,
          3.9393939393939394,
          3.8383838383838382,
          3.7373737373737375,
          3.6363636363636362,
          3.5353535353535355,
          3.4343434343434343,
          3.3333333333333335,
          3.2323232323232323,
          3.131313131313131,
          3.0303030303030303,
          2.929292929292929,
          2.8282828282828283,
          2.727272727272727,
          2.6262626262626263,
          2.525252525252525,
          2.4242424242424243,
          2.323232323232323,
          2.2222222222222223,
          2.121212121212121,
          2.0202020202020203,
          1.9191919191919191,
          1.8181818181818181,
          1.7171717171717171,
          1.6161616161616161,
          1.5151515151515151,
          1.4141414141414141,
          1.3131313131313131,
          1.2121212121212122,
          1.1111111111111112,
          1.0101010101010102,
          0.9090909090909091,
          0.8080808080808081,
          0.7070707070707071,
          0.6060606060606061,
          0.5050505050505051,
          0.40404040404040403,
          0.30303030303030304,
          0.20202020202020202,
          0.10101010101010101,
          0.0
         ],
         "y": [
          0.0,
          0.10101010101010101,
          0.20202020202020202,
          0.30303030303030304,
          0.40404040404040403,
          0.5050505050505051,
          0.6060606060606061,
          0.7070707070707071,
          0.8080808080808081,
          0.9090909090909091,
          1.0101010101010102,
          1.1111111111111112,
          1.2121212121212122,
          1.3131313131313131,
          1.4141414141414141,
          1.5151515151515151,
          1.6161616161616161,
          1.7171717171717171,
          1.8181818181818181,
          1.9191919191919191,
          2.0202020202020203,
          2.121212121212121,
          2.2222222222222223,
          2.323232323232323,
          2.4242424242424243,
          2.525252525252525,
          2.6262626262626263,
          2.727272727272727,
          2.8282828282828283,
          2.929292929292929,
          3.0303030303030303,
          3.131313131313131,
          3.2323232323232323,
          3.3333333333333335,
          3.4343434343434343,
          3.5353535353535355,
          3.6363636363636362,
          3.7373737373737375,
          3.8383838383838382,
          3.9393939393939394,
          4.040404040404041,
          4.141414141414141,
          4.242424242424242,
          4.343434343434343,
          4.444444444444445,
          4.545454545454545,
          4.646464646464646,
          4.747474747474747,
          4.848484848484849,
          4.94949494949495,
          5.05050505050505,
          5.151515151515151,
          5.252525252525253,
          5.353535353535354,
          5.454545454545454,
          5.555555555555555,
          5.656565656565657,
          5.757575757575758,
          5.858585858585858,
          5.959595959595959,
          6.0606060606060606,
          6.161616161616162,
          6.262626262626262,
          6.363636363636363,
          6.4646464646464645,
          6.565656565656566,
          6.666666666666667,
          6.767676767676767,
          6.8686868686868685,
          6.96969696969697,
          7.070707070707071,
          7.171717171717171,
          7.2727272727272725,
          7.373737373737374,
          7.474747474747475,
          7.575757575757575,
          7.6767676767676765,
          7.777777777777778,
          7.878787878787879,
          7.979797979797979,
          8.080808080808081,
          8.181818181818182,
          8.282828282828282,
          8.383838383838384,
          8.484848484848484,
          8.585858585858587,
          8.686868686868687,
          8.787878787878787,
          8.88888888888889,
          8.98989898989899,
          9.09090909090909,
          9.191919191919192,
          9.292929292929292,
          9.393939393939394,
          9.494949494949495,
          9.595959595959595,
          9.696969696969697,
          9.797979797979798,
          9.8989898989899,
          10.0,
          0.0,
          0.0,
          0.0,
          0.0,
          0.0,
          0.0,
          0.0,
          0.0,
          0.0,
          0.0,
          0.0,
          0.0,
          0.0,
          0.0,
          0.0,
          0.0,
          0.0,
          0.0,
          0.0,
          0.0,
          0.0,
          0.0,
          0.0,
          0.0,
          0.0,
          0.0,
          0.0,
          0.0,
          0.0,
          0.0,
          0.0,
          0.0,
          0.0,
          0.0,
          0.0,
          0.0,
          0.0,
          0.0,
          0.0,
          0.0,
          0.0,
          0.0,
          0.0,
          0.0,
          0.0,
          0.0,
          0.0,
          0.0,
          0.0,
          0.0,
          0.0,
          0.0,
          0.0,
          0.0,
          0.0,
          0.0,
          0.0,
          0.0,
          0.0,
          0.0,
          0.0,
          0.0,
          0.0,
          0.0,
          0.0,
          0.0,
          0.0,
          0.0,
          0.0,
          0.0,
          0.0,
          0.0,
          0.0,
          0.0,
          0.0,
          0.0,
          0.0,
          0.0,
          0.0,
          0.0,
          0.0,
          0.0,
          0.0,
          0.0,
          0.0,
          0.0,
          0.0,
          0.0,
          0.0,
          0.0,
          0.0,
          0.0,
          0.0,
          0.0,
          0.0,
          0.0,
          0.0,
          0.0,
          0.0,
          0.0
         ],
         "type": "scatter"
        },
        {
         "fill": "toself",
         "fillcolor": "rgb(229, 57, 0)",
         "line": {
          "color": "rgba(255,255,255,0)"
         },
         "opacity": 0.2,
         "showlegend": false,
         "x": [
          0.0,
          0.10101010101010101,
          0.20202020202020202,
          0.30303030303030304,
          0.40404040404040403,
          0.5050505050505051,
          0.6060606060606061,
          0.7070707070707071,
          0.8080808080808081,
          0.9090909090909091,
          1.0101010101010102,
          1.1111111111111112,
          1.2121212121212122,
          1.3131313131313131,
          1.4141414141414141,
          1.5151515151515151,
          1.6161616161616161,
          1.7171717171717171,
          1.8181818181818181,
          1.9191919191919191,
          2.0202020202020203,
          2.121212121212121,
          2.2222222222222223,
          2.323232323232323,
          2.4242424242424243,
          2.525252525252525,
          2.6262626262626263,
          2.727272727272727,
          2.8282828282828283,
          2.929292929292929,
          3.0303030303030303,
          3.131313131313131,
          3.2323232323232323,
          3.3333333333333335,
          3.4343434343434343,
          3.5353535353535355,
          3.6363636363636362,
          3.7373737373737375,
          3.8383838383838382,
          3.9393939393939394,
          4.040404040404041,
          4.141414141414141,
          4.242424242424242,
          4.343434343434343,
          4.444444444444445,
          4.545454545454545,
          4.646464646464646,
          4.747474747474747,
          4.848484848484849,
          4.94949494949495,
          5.05050505050505,
          5.151515151515151,
          5.252525252525253,
          5.353535353535354,
          5.454545454545454,
          5.555555555555555,
          5.656565656565657,
          5.757575757575758,
          5.858585858585858,
          5.959595959595959,
          6.0606060606060606,
          6.161616161616162,
          6.262626262626262,
          6.363636363636363,
          6.4646464646464645,
          6.565656565656566,
          6.666666666666667,
          6.767676767676767,
          6.8686868686868685,
          6.96969696969697,
          7.070707070707071,
          7.171717171717171,
          7.2727272727272725,
          7.373737373737374,
          7.474747474747475,
          7.575757575757575,
          7.6767676767676765,
          7.777777777777778,
          7.878787878787879,
          7.979797979797979,
          8.080808080808081,
          8.181818181818182,
          8.282828282828282,
          8.383838383838384,
          8.484848484848484,
          8.585858585858587,
          8.686868686868687,
          8.787878787878787,
          8.88888888888889,
          8.98989898989899,
          9.09090909090909,
          9.191919191919192,
          9.292929292929292,
          9.393939393939394,
          9.494949494949495,
          9.595959595959595,
          9.696969696969697,
          9.797979797979798,
          9.8989898989899,
          10.0,
          10.0,
          9.8989898989899,
          9.797979797979798,
          9.696969696969697,
          9.595959595959595,
          9.494949494949495,
          9.393939393939394,
          9.292929292929292,
          9.191919191919192,
          9.09090909090909,
          8.98989898989899,
          8.88888888888889,
          8.787878787878787,
          8.686868686868687,
          8.585858585858587,
          8.484848484848484,
          8.383838383838384,
          8.282828282828282,
          8.181818181818182,
          8.080808080808081,
          7.979797979797979,
          7.878787878787879,
          7.777777777777778,
          7.6767676767676765,
          7.575757575757575,
          7.474747474747475,
          7.373737373737374,
          7.2727272727272725,
          7.171717171717171,
          7.070707070707071,
          6.96969696969697,
          6.8686868686868685,
          6.767676767676767,
          6.666666666666667,
          6.565656565656566,
          6.4646464646464645,
          6.363636363636363,
          6.262626262626262,
          6.161616161616162,
          6.0606060606060606,
          5.959595959595959,
          5.858585858585858,
          5.757575757575758,
          5.656565656565657,
          5.555555555555555,
          5.454545454545454,
          5.353535353535354,
          5.252525252525253,
          5.151515151515151,
          5.05050505050505,
          4.94949494949495,
          4.848484848484849,
          4.747474747474747,
          4.646464646464646,
          4.545454545454545,
          4.444444444444445,
          4.343434343434343,
          4.242424242424242,
          4.141414141414141,
          4.040404040404041,
          3.9393939393939394,
          3.8383838383838382,
          3.7373737373737375,
          3.6363636363636362,
          3.5353535353535355,
          3.4343434343434343,
          3.3333333333333335,
          3.2323232323232323,
          3.131313131313131,
          3.0303030303030303,
          2.929292929292929,
          2.8282828282828283,
          2.727272727272727,
          2.6262626262626263,
          2.525252525252525,
          2.4242424242424243,
          2.323232323232323,
          2.2222222222222223,
          2.121212121212121,
          2.0202020202020203,
          1.9191919191919191,
          1.8181818181818181,
          1.7171717171717171,
          1.6161616161616161,
          1.5151515151515151,
          1.4141414141414141,
          1.3131313131313131,
          1.2121212121212122,
          1.1111111111111112,
          1.0101010101010102,
          0.9090909090909091,
          0.8080808080808081,
          0.7070707070707071,
          0.6060606060606061,
          0.5050505050505051,
          0.40404040404040403,
          0.30303030303030304,
          0.20202020202020202,
          0.10101010101010101,
          0.0
         ],
         "y": [
          0.0,
          0.10101010101010101,
          0.20202020202020202,
          0.30303030303030304,
          0.40404040404040403,
          0.5050505050505051,
          0.6060606060606061,
          0.7070707070707071,
          0.8080808080808081,
          0.9090909090909091,
          1.0101010101010102,
          1.1111111111111112,
          1.2121212121212122,
          1.3131313131313131,
          1.4141414141414141,
          1.5151515151515151,
          1.6161616161616161,
          1.7171717171717171,
          1.8181818181818181,
          1.9191919191919191,
          2.0202020202020203,
          2.121212121212121,
          2.2222222222222223,
          2.323232323232323,
          2.4242424242424243,
          2.525252525252525,
          2.6262626262626263,
          2.727272727272727,
          2.8282828282828283,
          2.929292929292929,
          3.0303030303030303,
          3.131313131313131,
          3.2323232323232323,
          3.3333333333333335,
          3.4343434343434343,
          3.5353535353535355,
          3.6363636363636362,
          3.7373737373737375,
          3.8383838383838382,
          3.9393939393939394,
          4.040404040404041,
          4.141414141414141,
          4.242424242424242,
          4.343434343434343,
          4.444444444444445,
          4.545454545454545,
          4.646464646464646,
          4.747474747474747,
          4.848484848484849,
          4.94949494949495,
          5.05050505050505,
          5.151515151515151,
          5.252525252525253,
          5.353535353535354,
          5.454545454545454,
          5.555555555555555,
          5.656565656565657,
          5.757575757575758,
          5.858585858585858,
          5.959595959595959,
          6.0606060606060606,
          6.161616161616162,
          6.262626262626262,
          6.363636363636363,
          6.4646464646464645,
          6.565656565656566,
          6.666666666666667,
          6.767676767676767,
          6.8686868686868685,
          6.96969696969697,
          7.070707070707071,
          7.171717171717171,
          7.2727272727272725,
          7.373737373737374,
          7.474747474747475,
          7.575757575757575,
          7.6767676767676765,
          7.777777777777778,
          7.878787878787879,
          7.979797979797979,
          8.080808080808081,
          8.181818181818182,
          8.282828282828282,
          8.383838383838384,
          8.484848484848484,
          8.585858585858587,
          8.686868686868687,
          8.787878787878787,
          8.88888888888889,
          8.98989898989899,
          9.09090909090909,
          9.191919191919192,
          9.292929292929292,
          9.393939393939394,
          9.494949494949495,
          9.595959595959595,
          9.696969696969697,
          9.797979797979798,
          9.8989898989899,
          10.0,
          20.0,
          19.7979797979798,
          19.595959595959595,
          19.393939393939394,
          19.19191919191919,
          18.98989898989899,
          18.78787878787879,
          18.585858585858585,
          18.383838383838384,
          18.18181818181818,
          17.97979797979798,
          17.77777777777778,
          17.575757575757574,
          17.373737373737374,
          17.171717171717173,
          16.96969696969697,
          16.767676767676768,
          16.565656565656564,
          16.363636363636363,
          16.161616161616163,
          15.959595959595958,
          15.757575757575758,
          15.555555555555555,
          15.353535353535353,
          15.15151515151515,
          14.94949494949495,
          14.747474747474747,
          14.545454545454545,
          14.343434343434343,
          14.141414141414142,
          13.93939393939394,
          13.737373737373737,
          13.535353535353535,
          13.333333333333334,
          13.131313131313131,
          12.929292929292929,
          12.727272727272727,
          12.525252525252524,
          12.323232323232324,
          12.121212121212121,
          11.919191919191919,
          11.717171717171716,
          11.515151515151516,
          11.313131313131313,
          11.11111111111111,
          10.909090909090908,
          10.707070707070708,
          10.505050505050505,
          10.303030303030303,
          10.1010101010101,
          9.8989898989899,
          9.696969696969697,
          9.494949494949495,
          9.292929292929292,
          9.09090909090909,
          8.88888888888889,
          8.686868686868687,
          8.484848484848484,
          8.282828282828282,
          8.080808080808081,
          7.878787878787879,
          7.6767676767676765,
          7.474747474747475,
          7.2727272727272725,
          7.070707070707071,
          6.8686868686868685,
          6.666666666666667,
          6.4646464646464645,
          6.262626262626262,
          6.0606060606060606,
          5.858585858585858,
          5.656565656565657,
          5.454545454545454,
          5.252525252525253,
          5.05050505050505,
          4.848484848484849,
          4.646464646464646,
          4.444444444444445,
          4.242424242424242,
          4.040404040404041,
          3.8383838383838382,
          3.6363636363636362,
          3.4343434343434343,
          3.2323232323232323,
          3.0303030303030303,
          2.8282828282828283,
          2.6262626262626263,
          2.4242424242424243,
          2.2222222222222223,
          2.0202020202020203,
          1.8181818181818181,
          1.6161616161616161,
          1.4141414141414141,
          1.2121212121212122,
          1.0101010101010102,
          0.8080808080808081,
          0.6060606060606061,
          0.40404040404040403,
          0.20202020202020202,
          0.0
         ],
         "type": "scatter"
        },
        {
         "fill": "toself",
         "fillcolor": "rgb(27, 168, 36)",
         "line": {
          "color": "rgba(255,255,255,0)"
         },
         "opacity": 0.2,
         "showlegend": false,
         "x": [
          0.0,
          0.10101010101010101,
          0.20202020202020202,
          0.30303030303030304,
          0.40404040404040403,
          0.5050505050505051,
          0.6060606060606061,
          0.7070707070707071,
          0.8080808080808081,
          0.9090909090909091,
          1.0101010101010102,
          1.1111111111111112,
          1.2121212121212122,
          1.3131313131313131,
          1.4141414141414141,
          1.5151515151515151,
          1.6161616161616161,
          1.7171717171717171,
          1.8181818181818181,
          1.9191919191919191,
          2.0202020202020203,
          2.121212121212121,
          2.2222222222222223,
          2.323232323232323,
          2.4242424242424243,
          2.525252525252525,
          2.6262626262626263,
          2.727272727272727,
          2.8282828282828283,
          2.929292929292929,
          3.0303030303030303,
          3.131313131313131,
          3.2323232323232323,
          3.3333333333333335,
          3.4343434343434343,
          3.5353535353535355,
          3.6363636363636362,
          3.7373737373737375,
          3.8383838383838382,
          3.9393939393939394,
          4.040404040404041,
          4.141414141414141,
          4.242424242424242,
          4.343434343434343,
          4.444444444444445,
          4.545454545454545,
          4.646464646464646,
          4.747474747474747,
          4.848484848484849,
          4.94949494949495,
          5.05050505050505,
          5.151515151515151,
          5.252525252525253,
          5.353535353535354,
          5.454545454545454,
          5.555555555555555,
          5.656565656565657,
          5.757575757575758,
          5.858585858585858,
          5.959595959595959,
          6.0606060606060606,
          6.161616161616162,
          6.262626262626262,
          6.363636363636363,
          6.4646464646464645,
          6.565656565656566,
          6.666666666666667,
          6.767676767676767,
          6.8686868686868685,
          6.96969696969697,
          7.070707070707071,
          7.171717171717171,
          7.2727272727272725,
          7.373737373737374,
          7.474747474747475,
          7.575757575757575,
          7.6767676767676765,
          7.777777777777778,
          7.878787878787879,
          7.979797979797979,
          8.080808080808081,
          8.181818181818182,
          8.282828282828282,
          8.383838383838384,
          8.484848484848484,
          8.585858585858587,
          8.686868686868687,
          8.787878787878787,
          8.88888888888889,
          8.98989898989899,
          9.09090909090909,
          9.191919191919192,
          9.292929292929292,
          9.393939393939394,
          9.494949494949495,
          9.595959595959595,
          9.696969696969697,
          9.797979797979798,
          9.8989898989899,
          10.0,
          10.0,
          9.8989898989899,
          9.797979797979798,
          9.696969696969697,
          9.595959595959595,
          9.494949494949495,
          9.393939393939394,
          9.292929292929292,
          9.191919191919192,
          9.09090909090909,
          8.98989898989899,
          8.88888888888889,
          8.787878787878787,
          8.686868686868687,
          8.585858585858587,
          8.484848484848484,
          8.383838383838384,
          8.282828282828282,
          8.181818181818182,
          8.080808080808081,
          7.979797979797979,
          7.878787878787879,
          7.777777777777778,
          7.6767676767676765,
          7.575757575757575,
          7.474747474747475,
          7.373737373737374,
          7.2727272727272725,
          7.171717171717171,
          7.070707070707071,
          6.96969696969697,
          6.8686868686868685,
          6.767676767676767,
          6.666666666666667,
          6.565656565656566,
          6.4646464646464645,
          6.363636363636363,
          6.262626262626262,
          6.161616161616162,
          6.0606060606060606,
          5.959595959595959,
          5.858585858585858,
          5.757575757575758,
          5.656565656565657,
          5.555555555555555,
          5.454545454545454,
          5.353535353535354,
          5.252525252525253,
          5.151515151515151,
          5.05050505050505,
          4.94949494949495,
          4.848484848484849,
          4.747474747474747,
          4.646464646464646,
          4.545454545454545,
          4.444444444444445,
          4.343434343434343,
          4.242424242424242,
          4.141414141414141,
          4.040404040404041,
          3.9393939393939394,
          3.8383838383838382,
          3.7373737373737375,
          3.6363636363636362,
          3.5353535353535355,
          3.4343434343434343,
          3.3333333333333335,
          3.2323232323232323,
          3.131313131313131,
          3.0303030303030303,
          2.929292929292929,
          2.8282828282828283,
          2.727272727272727,
          2.6262626262626263,
          2.525252525252525,
          2.4242424242424243,
          2.323232323232323,
          2.2222222222222223,
          2.121212121212121,
          2.0202020202020203,
          1.9191919191919191,
          1.8181818181818181,
          1.7171717171717171,
          1.6161616161616161,
          1.5151515151515151,
          1.4141414141414141,
          1.3131313131313131,
          1.2121212121212122,
          1.1111111111111112,
          1.0101010101010102,
          0.9090909090909091,
          0.8080808080808081,
          0.7070707070707071,
          0.6060606060606061,
          0.5050505050505051,
          0.40404040404040403,
          0.30303030303030304,
          0.20202020202020202,
          0.10101010101010101,
          0.0
         ],
         "y": [
          0.0,
          0.20202020202020202,
          0.40404040404040403,
          0.6060606060606061,
          0.8080808080808081,
          1.0101010101010102,
          1.2121212121212122,
          1.4141414141414141,
          1.6161616161616161,
          1.8181818181818181,
          2.0202020202020203,
          2.2222222222222223,
          2.4242424242424243,
          2.6262626262626263,
          2.8282828282828283,
          3.0303030303030303,
          3.2323232323232323,
          3.4343434343434343,
          3.6363636363636362,
          3.8383838383838382,
          4.040404040404041,
          4.242424242424242,
          4.444444444444445,
          4.646464646464646,
          4.848484848484849,
          5.05050505050505,
          5.252525252525253,
          5.454545454545454,
          5.656565656565657,
          5.858585858585858,
          6.0606060606060606,
          6.262626262626262,
          6.4646464646464645,
          6.666666666666667,
          6.8686868686868685,
          7.070707070707071,
          7.2727272727272725,
          7.474747474747475,
          7.6767676767676765,
          7.878787878787879,
          8.080808080808081,
          8.282828282828282,
          8.484848484848484,
          8.686868686868687,
          8.88888888888889,
          9.09090909090909,
          9.292929292929292,
          9.494949494949495,
          9.696969696969697,
          9.8989898989899,
          10.1010101010101,
          10.303030303030303,
          10.505050505050505,
          10.707070707070708,
          10.909090909090908,
          11.11111111111111,
          11.313131313131313,
          11.515151515151516,
          11.717171717171716,
          11.919191919191919,
          12.121212121212121,
          12.323232323232324,
          12.525252525252524,
          12.727272727272727,
          12.929292929292929,
          13.131313131313131,
          13.333333333333334,
          13.535353535353535,
          13.737373737373737,
          13.93939393939394,
          14.141414141414142,
          14.343434343434343,
          14.545454545454545,
          14.747474747474747,
          14.94949494949495,
          15.15151515151515,
          15.353535353535353,
          15.555555555555555,
          15.757575757575758,
          15.959595959595958,
          16.161616161616163,
          16.363636363636363,
          16.565656565656564,
          16.767676767676768,
          16.96969696969697,
          17.171717171717173,
          17.373737373737374,
          17.575757575757574,
          17.77777777777778,
          17.97979797979798,
          18.18181818181818,
          18.383838383838384,
          18.585858585858585,
          18.78787878787879,
          18.98989898989899,
          19.19191919191919,
          19.393939393939394,
          19.595959595959595,
          19.7979797979798,
          20.0,
          40.0,
          39.5959595959596,
          39.19191919191919,
          38.78787878787879,
          38.38383838383838,
          37.97979797979798,
          37.57575757575758,
          37.17171717171717,
          36.76767676767677,
          36.36363636363636,
          35.95959595959596,
          35.55555555555556,
          35.15151515151515,
          34.74747474747475,
          34.343434343434346,
          33.93939393939394,
          33.535353535353536,
          33.13131313131313,
          32.72727272727273,
          32.323232323232325,
          31.919191919191917,
          31.515151515151516,
          31.11111111111111,
          30.707070707070706,
          30.3030303030303,
          29.8989898989899,
          29.494949494949495,
          29.09090909090909,
          28.686868686868685,
          28.282828282828284,
          27.87878787878788,
          27.474747474747474,
          27.07070707070707,
          26.666666666666668,
          26.262626262626263,
          25.858585858585858,
          25.454545454545453,
          25.05050505050505,
          24.646464646464647,
          24.242424242424242,
          23.838383838383837,
          23.434343434343432,
          23.03030303030303,
          22.626262626262626,
          22.22222222222222,
          21.818181818181817,
          21.414141414141415,
          21.01010101010101,
          20.606060606060606,
          20.2020202020202,
          19.7979797979798,
          19.393939393939394,
          18.98989898989899,
          18.585858585858585,
          18.18181818181818,
          17.77777777777778,
          17.373737373737374,
          16.96969696969697,
          16.565656565656564,
          16.161616161616163,
          15.757575757575758,
          15.353535353535353,
          14.94949494949495,
          14.545454545454545,
          14.141414141414142,
          13.737373737373737,
          13.333333333333334,
          12.929292929292929,
          12.525252525252524,
          12.121212121212121,
          11.717171717171716,
          11.313131313131313,
          10.909090909090908,
          10.505050505050505,
          10.1010101010101,
          9.696969696969697,
          9.292929292929292,
          8.88888888888889,
          8.484848484848484,
          8.080808080808081,
          7.6767676767676765,
          7.2727272727272725,
          6.8686868686868685,
          6.4646464646464645,
          6.0606060606060606,
          5.656565656565657,
          5.252525252525253,
          4.848484848484849,
          4.444444444444445,
          4.040404040404041,
          3.6363636363636362,
          3.2323232323232323,
          2.8282828282828283,
          2.4242424242424243,
          2.0202020202020203,
          1.6161616161616161,
          1.2121212121212122,
          0.8080808080808081,
          0.40404040404040403,
          0.0
         ],
         "type": "scatter"
        },
        {
         "fill": "toself",
         "fillcolor": "rgb(81, 255, 0)",
         "line": {
          "color": "rgba(255,255,255,0)"
         },
         "opacity": 0.2,
         "showlegend": false,
         "x": [
          0.0,
          0.10101010101010101,
          0.20202020202020202,
          0.30303030303030304,
          0.40404040404040403,
          0.5050505050505051,
          0.6060606060606061,
          0.7070707070707071,
          0.8080808080808081,
          0.9090909090909091,
          1.0101010101010102,
          1.1111111111111112,
          1.2121212121212122,
          1.3131313131313131,
          1.4141414141414141,
          1.5151515151515151,
          1.6161616161616161,
          1.7171717171717171,
          1.8181818181818181,
          1.9191919191919191,
          2.0202020202020203,
          2.121212121212121,
          2.2222222222222223,
          2.323232323232323,
          2.4242424242424243,
          2.525252525252525,
          2.6262626262626263,
          2.727272727272727,
          2.8282828282828283,
          2.929292929292929,
          3.0303030303030303,
          3.131313131313131,
          3.2323232323232323,
          3.3333333333333335,
          3.4343434343434343,
          3.5353535353535355,
          3.6363636363636362,
          3.7373737373737375,
          3.8383838383838382,
          3.9393939393939394,
          4.040404040404041,
          4.141414141414141,
          4.242424242424242,
          4.343434343434343,
          4.444444444444445,
          4.545454545454545,
          4.646464646464646,
          4.747474747474747,
          4.848484848484849,
          4.94949494949495,
          5.05050505050505,
          5.151515151515151,
          5.252525252525253,
          5.353535353535354,
          5.454545454545454,
          5.555555555555555,
          5.656565656565657,
          5.757575757575758,
          5.858585858585858,
          5.959595959595959,
          6.0606060606060606,
          6.161616161616162,
          6.262626262626262,
          6.363636363636363,
          6.4646464646464645,
          6.565656565656566,
          6.666666666666667,
          6.767676767676767,
          6.8686868686868685,
          6.96969696969697,
          7.070707070707071,
          7.171717171717171,
          7.2727272727272725,
          7.373737373737374,
          7.474747474747475,
          7.575757575757575,
          7.6767676767676765,
          7.777777777777778,
          7.878787878787879,
          7.979797979797979,
          8.080808080808081,
          8.181818181818182,
          8.282828282828282,
          8.383838383838384,
          8.484848484848484,
          8.585858585858587,
          8.686868686868687,
          8.787878787878787,
          8.88888888888889,
          8.98989898989899,
          9.09090909090909,
          9.191919191919192,
          9.292929292929292,
          9.393939393939394,
          9.494949494949495,
          9.595959595959595,
          9.696969696969697,
          9.797979797979798,
          9.8989898989899,
          10.0,
          0.0,
          0.0,
          0.0,
          0.0,
          0.0,
          0.0,
          0.0,
          0.0,
          0.0,
          0.0,
          0.0,
          0.0,
          0.0,
          0.0,
          0.0,
          0.0,
          0.0,
          0.0,
          0.0,
          0.0,
          0.0,
          0.0,
          0.0,
          0.0,
          0.0,
          0.0,
          0.0,
          0.0,
          0.0,
          0.0,
          0.0,
          0.0,
          0.0,
          0.0,
          0.0,
          0.0,
          0.0,
          0.0,
          0.0,
          0.0,
          0.0,
          0.0,
          0.0,
          0.0,
          0.0,
          0.0,
          0.0,
          0.0,
          0.0,
          0.0,
          0.0,
          0.0,
          0.0,
          0.0,
          0.0,
          0.0,
          0.0,
          0.0,
          0.0,
          0.0,
          0.0,
          0.0,
          0.0,
          0.0,
          0.0,
          0.0,
          0.0,
          0.0,
          0.0,
          0.0,
          0.0,
          0.0,
          0.0,
          0.0,
          0.0,
          0.0,
          0.0,
          0.0,
          0.0,
          0.0,
          0.0,
          0.0,
          0.0,
          0.0,
          0.0,
          0.0,
          0.0,
          0.0,
          0.0,
          0.0,
          0.0,
          0.0,
          0.0,
          0.0,
          0.0,
          0.0,
          0.0,
          0.0,
          0.0,
          0.0
         ],
         "y": [
          0.0,
          0.40404040404040403,
          0.8080808080808081,
          1.2121212121212122,
          1.6161616161616161,
          2.0202020202020203,
          2.4242424242424243,
          2.8282828282828283,
          3.2323232323232323,
          3.6363636363636362,
          4.040404040404041,
          4.444444444444445,
          4.848484848484849,
          5.252525252525253,
          5.656565656565657,
          6.0606060606060606,
          6.4646464646464645,
          6.8686868686868685,
          7.2727272727272725,
          7.6767676767676765,
          8.080808080808081,
          8.484848484848484,
          8.88888888888889,
          9.292929292929292,
          9.696969696969697,
          10.1010101010101,
          10.505050505050505,
          10.909090909090908,
          11.313131313131313,
          11.717171717171716,
          12.121212121212121,
          12.525252525252524,
          12.929292929292929,
          13.333333333333334,
          13.737373737373737,
          14.141414141414142,
          14.545454545454545,
          14.94949494949495,
          15.353535353535353,
          15.757575757575758,
          16.161616161616163,
          16.565656565656564,
          16.96969696969697,
          17.373737373737374,
          17.77777777777778,
          18.18181818181818,
          18.585858585858585,
          18.98989898989899,
          19.393939393939394,
          19.7979797979798,
          20.2020202020202,
          20.606060606060606,
          21.01010101010101,
          21.414141414141415,
          21.818181818181817,
          22.22222222222222,
          22.626262626262626,
          23.03030303030303,
          23.434343434343432,
          23.838383838383837,
          24.242424242424242,
          24.646464646464647,
          25.05050505050505,
          25.454545454545453,
          25.858585858585858,
          26.262626262626263,
          26.666666666666668,
          27.07070707070707,
          27.474747474747474,
          27.87878787878788,
          28.282828282828284,
          28.686868686868685,
          29.09090909090909,
          29.494949494949495,
          29.8989898989899,
          30.3030303030303,
          30.707070707070706,
          31.11111111111111,
          31.515151515151516,
          31.919191919191917,
          32.323232323232325,
          32.72727272727273,
          33.13131313131313,
          33.535353535353536,
          33.93939393939394,
          34.343434343434346,
          34.74747474747475,
          35.15151515151515,
          35.55555555555556,
          35.95959595959596,
          36.36363636363636,
          36.76767676767677,
          37.17171717171717,
          37.57575757575758,
          37.97979797979798,
          38.38383838383838,
          38.78787878787879,
          39.19191919191919,
          39.5959595959596,
          40.0,
          40.0,
          39.5959595959596,
          39.19191919191919,
          38.78787878787879,
          38.38383838383838,
          37.97979797979798,
          37.57575757575758,
          37.17171717171717,
          36.76767676767677,
          36.36363636363636,
          35.95959595959596,
          35.55555555555556,
          35.15151515151515,
          34.74747474747475,
          34.343434343434346,
          33.93939393939394,
          33.535353535353536,
          33.13131313131313,
          32.72727272727273,
          32.323232323232325,
          31.919191919191917,
          31.515151515151516,
          31.11111111111111,
          30.707070707070706,
          30.3030303030303,
          29.8989898989899,
          29.494949494949495,
          29.09090909090909,
          28.686868686868685,
          28.282828282828284,
          27.87878787878788,
          27.474747474747474,
          27.07070707070707,
          26.666666666666668,
          26.262626262626263,
          25.858585858585858,
          25.454545454545453,
          25.05050505050505,
          24.646464646464647,
          24.242424242424242,
          23.838383838383837,
          23.434343434343432,
          23.03030303030303,
          22.626262626262626,
          22.22222222222222,
          21.818181818181817,
          21.414141414141415,
          21.01010101010101,
          20.606060606060606,
          20.2020202020202,
          19.7979797979798,
          19.393939393939394,
          18.98989898989899,
          18.585858585858585,
          18.18181818181818,
          17.77777777777778,
          17.373737373737374,
          16.96969696969697,
          16.565656565656564,
          16.161616161616163,
          15.757575757575758,
          15.353535353535353,
          14.94949494949495,
          14.545454545454545,
          14.141414141414142,
          13.737373737373737,
          13.333333333333334,
          12.929292929292929,
          12.525252525252524,
          12.121212121212121,
          11.717171717171716,
          11.313131313131313,
          10.909090909090908,
          10.505050505050505,
          10.1010101010101,
          9.696969696969697,
          9.292929292929292,
          8.88888888888889,
          8.484848484848484,
          8.080808080808081,
          7.6767676767676765,
          7.2727272727272725,
          6.8686868686868685,
          6.4646464646464645,
          6.0606060606060606,
          5.656565656565657,
          5.252525252525253,
          4.848484848484849,
          4.444444444444445,
          4.040404040404041,
          3.6363636363636362,
          3.2323232323232323,
          2.8282828282828283,
          2.4242424242424243,
          2.0202020202020203,
          1.6161616161616161,
          1.2121212121212122,
          0.8080808080808081,
          0.40404040404040403,
          0.0
         ],
         "type": "scatter"
        },
        {
         "line": {
          "color": "black"
         },
         "mode": "lines",
         "name": "WT best",
         "x": [
          0.0,
          0.10101010101010101,
          0.20202020202020202,
          0.30303030303030304,
          0.40404040404040403,
          0.5050505050505051,
          0.6060606060606061,
          0.7070707070707071,
          0.8080808080808081,
          0.9090909090909091,
          1.0101010101010102,
          1.1111111111111112,
          1.2121212121212122,
          1.3131313131313131,
          1.4141414141414141,
          1.5151515151515151,
          1.6161616161616161,
          1.7171717171717171,
          1.8181818181818181,
          1.9191919191919191,
          2.0202020202020203,
          2.121212121212121,
          2.2222222222222223,
          2.323232323232323,
          2.4242424242424243,
          2.525252525252525,
          2.6262626262626263,
          2.727272727272727,
          2.8282828282828283,
          2.929292929292929,
          3.0303030303030303,
          3.131313131313131,
          3.2323232323232323,
          3.3333333333333335,
          3.4343434343434343,
          3.5353535353535355,
          3.6363636363636362,
          3.7373737373737375,
          3.8383838383838382,
          3.9393939393939394,
          4.040404040404041,
          4.141414141414141,
          4.242424242424242,
          4.343434343434343,
          4.444444444444445,
          4.545454545454545,
          4.646464646464646,
          4.747474747474747,
          4.848484848484849,
          4.94949494949495,
          5.05050505050505,
          5.151515151515151,
          5.252525252525253,
          5.353535353535354,
          5.454545454545454,
          5.555555555555555,
          5.656565656565657,
          5.757575757575758,
          5.858585858585858,
          5.959595959595959,
          6.0606060606060606,
          6.161616161616162,
          6.262626262626262,
          6.363636363636363,
          6.4646464646464645,
          6.565656565656566,
          6.666666666666667,
          6.767676767676767,
          6.8686868686868685,
          6.96969696969697,
          7.070707070707071,
          7.171717171717171,
          7.2727272727272725,
          7.373737373737374,
          7.474747474747475,
          7.575757575757575,
          7.6767676767676765,
          7.777777777777778,
          7.878787878787879,
          7.979797979797979,
          8.080808080808081,
          8.181818181818182,
          8.282828282828282,
          8.383838383838384,
          8.484848484848484,
          8.585858585858587,
          8.686868686868687,
          8.787878787878787,
          8.88888888888889,
          8.98989898989899,
          9.09090909090909,
          9.191919191919192,
          9.292929292929292,
          9.393939393939394,
          9.494949494949495,
          9.595959595959595,
          9.696969696969697,
          9.797979797979798,
          9.8989898989899,
          10.0
         ],
         "y": [
          0.0,
          0.05757575757575757,
          0.11515151515151514,
          0.17272727272727273,
          0.2303030303030303,
          0.28787878787878785,
          0.34545454545454546,
          0.403030303030303,
          0.4606060606060606,
          0.5181818181818181,
          0.5757575757575757,
          0.6333333333333333,
          0.6909090909090909,
          0.7484848484848484,
          0.806060606060606,
          0.8636363636363635,
          0.9212121212121211,
          0.9787878787878787,
          1.0363636363636362,
          1.0939393939393938,
          1.1515151515151514,
          1.209090909090909,
          1.2666666666666666,
          1.324242424242424,
          1.3818181818181818,
          1.4393939393939392,
          1.4969696969696968,
          1.5545454545454542,
          1.612121212121212,
          1.6696969696969695,
          1.727272727272727,
          1.7848484848484845,
          1.8424242424242423,
          1.9,
          1.9575757575757573,
          2.015151515151515,
          2.0727272727272723,
          2.1303030303030304,
          2.1878787878787875,
          2.245454545454545,
          2.3030303030303028,
          2.3606060606060604,
          2.418181818181818,
          2.4757575757575756,
          2.533333333333333,
          2.5909090909090904,
          2.648484848484848,
          2.7060606060606056,
          2.7636363636363637,
          2.8212121212121213,
          2.8787878787878785,
          2.936363636363636,
          2.9939393939393937,
          3.0515151515151513,
          3.1090909090909085,
          3.166666666666666,
          3.224242424242424,
          3.2818181818181817,
          3.339393939393939,
          3.3969696969696965,
          3.454545454545454,
          3.5121212121212118,
          3.569696969696969,
          3.627272727272727,
          3.6848484848484846,
          3.742424242424242,
          3.8,
          3.857575757575757,
          3.9151515151515146,
          3.972727272727272,
          4.03030303030303,
          4.087878787878787,
          4.145454545454545,
          4.203030303030302,
          4.260606060606061,
          4.3181818181818175,
          4.375757575757575,
          4.433333333333333,
          4.49090909090909,
          4.548484848484848,
          4.6060606060606055,
          4.663636363636363,
          4.721212121212121,
          4.778787878787878,
          4.836363636363636,
          4.893939393939394,
          4.951515151515151,
          5.009090909090908,
          5.066666666666666,
          5.124242424242424,
          5.181818181818181,
          5.239393939393939,
          5.296969696969696,
          5.3545454545454545,
          5.412121212121211,
          5.469696969696969,
          5.527272727272727,
          5.584848484848484,
          5.642424242424243,
          5.699999999999999
         ],
         "type": "scatter"
        },
        {
         "line": {
          "color": "purple"
         },
         "mode": "lines",
         "name": "theoretical",
         "x": [
          0.0,
          0.10101010101010101,
          0.20202020202020202,
          0.30303030303030304,
          0.40404040404040403,
          0.5050505050505051,
          0.6060606060606061,
          0.7070707070707071,
          0.8080808080808081,
          0.9090909090909091,
          1.0101010101010102,
          1.1111111111111112,
          1.2121212121212122,
          1.3131313131313131,
          1.4141414141414141,
          1.5151515151515151,
          1.6161616161616161,
          1.7171717171717171,
          1.8181818181818181,
          1.9191919191919191,
          2.0202020202020203,
          2.121212121212121,
          2.2222222222222223,
          2.323232323232323,
          2.4242424242424243,
          2.525252525252525,
          2.6262626262626263,
          2.727272727272727,
          2.8282828282828283,
          2.929292929292929,
          3.0303030303030303,
          3.131313131313131,
          3.2323232323232323,
          3.3333333333333335,
          3.4343434343434343,
          3.5353535353535355,
          3.6363636363636362,
          3.7373737373737375,
          3.8383838383838382,
          3.9393939393939394,
          4.040404040404041,
          4.141414141414141,
          4.242424242424242,
          4.343434343434343,
          4.444444444444445,
          4.545454545454545,
          4.646464646464646,
          4.747474747474747,
          4.848484848484849,
          4.94949494949495,
          5.05050505050505,
          5.151515151515151,
          5.252525252525253,
          5.353535353535354,
          5.454545454545454,
          5.555555555555555,
          5.656565656565657,
          5.757575757575758,
          5.858585858585858,
          5.959595959595959,
          6.0606060606060606,
          6.161616161616162,
          6.262626262626262,
          6.363636363636363,
          6.4646464646464645,
          6.565656565656566,
          6.666666666666667,
          6.767676767676767,
          6.8686868686868685,
          6.96969696969697,
          7.070707070707071,
          7.171717171717171,
          7.2727272727272725,
          7.373737373737374,
          7.474747474747475,
          7.575757575757575,
          7.6767676767676765,
          7.777777777777778,
          7.878787878787879,
          7.979797979797979,
          8.080808080808081,
          8.181818181818182,
          8.282828282828282,
          8.383838383838384,
          8.484848484848484,
          8.585858585858587,
          8.686868686868687,
          8.787878787878787,
          8.88888888888889,
          8.98989898989899,
          9.09090909090909,
          9.191919191919192,
          9.292929292929292,
          9.393939393939394,
          9.494949494949495,
          9.595959595959595,
          9.696969696969697,
          9.797979797979798,
          9.8989898989899,
          10.0
         ],
         "y": [
          0.0,
          0.07171717171717171,
          0.14343434343434341,
          0.21515151515151515,
          0.28686868686868683,
          0.35858585858585856,
          0.4303030303030303,
          0.502020202020202,
          0.5737373737373737,
          0.6454545454545454,
          0.7171717171717171,
          0.7888888888888889,
          0.8606060606060606,
          0.9323232323232323,
          1.004040404040404,
          1.0757575757575757,
          1.1474747474747473,
          1.2191919191919192,
          1.2909090909090908,
          1.3626262626262624,
          1.4343434343434343,
          1.5060606060606059,
          1.5777777777777777,
          1.6494949494949493,
          1.7212121212121212,
          1.7929292929292928,
          1.8646464646464647,
          1.936363636363636,
          2.008080808080808,
          2.0797979797979793,
          2.1515151515151514,
          2.223232323232323,
          2.2949494949494946,
          2.3666666666666667,
          2.4383838383838383,
          2.51010101010101,
          2.5818181818181816,
          2.6535353535353536,
          2.725252525252525,
          2.796969696969697,
          2.8686868686868685,
          2.94040404040404,
          3.0121212121212118,
          3.083838383838384,
          3.1555555555555554,
          3.2272727272727266,
          3.2989898989898987,
          3.3707070707070703,
          3.4424242424242424,
          3.514141414141414,
          3.5858585858585856,
          3.6575757575757573,
          3.7292929292929293,
          3.801010101010101,
          3.872727272727272,
          3.944444444444444,
          4.016161616161616,
          4.087878787878788,
          4.159595959595959,
          4.231313131313131,
          4.303030303030303,
          4.374747474747474,
          4.446464646464646,
          4.518181818181818,
          4.589898989898989,
          4.661616161616162,
          4.733333333333333,
          4.805050505050504,
          4.876767676767677,
          4.948484848484848,
          5.02020202020202,
          5.0919191919191915,
          5.163636363636363,
          5.235353535353535,
          5.307070707070707,
          5.378787878787878,
          5.45050505050505,
          5.522222222222222,
          5.593939393939394,
          5.665656565656565,
          5.737373737373737,
          5.809090909090909,
          5.88080808080808,
          5.952525252525253,
          6.0242424242424235,
          6.095959595959596,
          6.167676767676768,
          6.239393939393938,
          6.311111111111111,
          6.3828282828282825,
          6.454545454545453,
          6.526262626262626,
          6.597979797979797,
          6.66969696969697,
          6.741414141414141,
          6.813131313131312,
          6.884848484848485,
          6.9565656565656555,
          7.028282828282828,
          7.1
         ],
         "type": "scatter"
        }
       ],
       "layout": {
        "template": {
         "data": {
          "histogram2dcontour": [
           {
            "type": "histogram2dcontour",
            "colorbar": {
             "outlinewidth": 0,
             "ticks": ""
            },
            "colorscale": [
             [
              0.0,
              "#0d0887"
             ],
             [
              0.1111111111111111,
              "#46039f"
             ],
             [
              0.2222222222222222,
              "#7201a8"
             ],
             [
              0.3333333333333333,
              "#9c179e"
             ],
             [
              0.4444444444444444,
              "#bd3786"
             ],
             [
              0.5555555555555556,
              "#d8576b"
             ],
             [
              0.6666666666666666,
              "#ed7953"
             ],
             [
              0.7777777777777778,
              "#fb9f3a"
             ],
             [
              0.8888888888888888,
              "#fdca26"
             ],
             [
              1.0,
              "#f0f921"
             ]
            ]
           }
          ],
          "choropleth": [
           {
            "type": "choropleth",
            "colorbar": {
             "outlinewidth": 0,
             "ticks": ""
            }
           }
          ],
          "histogram2d": [
           {
            "type": "histogram2d",
            "colorbar": {
             "outlinewidth": 0,
             "ticks": ""
            },
            "colorscale": [
             [
              0.0,
              "#0d0887"
             ],
             [
              0.1111111111111111,
              "#46039f"
             ],
             [
              0.2222222222222222,
              "#7201a8"
             ],
             [
              0.3333333333333333,
              "#9c179e"
             ],
             [
              0.4444444444444444,
              "#bd3786"
             ],
             [
              0.5555555555555556,
              "#d8576b"
             ],
             [
              0.6666666666666666,
              "#ed7953"
             ],
             [
              0.7777777777777778,
              "#fb9f3a"
             ],
             [
              0.8888888888888888,
              "#fdca26"
             ],
             [
              1.0,
              "#f0f921"
             ]
            ]
           }
          ],
          "heatmap": [
           {
            "type": "heatmap",
            "colorbar": {
             "outlinewidth": 0,
             "ticks": ""
            },
            "colorscale": [
             [
              0.0,
              "#0d0887"
             ],
             [
              0.1111111111111111,
              "#46039f"
             ],
             [
              0.2222222222222222,
              "#7201a8"
             ],
             [
              0.3333333333333333,
              "#9c179e"
             ],
             [
              0.4444444444444444,
              "#bd3786"
             ],
             [
              0.5555555555555556,
              "#d8576b"
             ],
             [
              0.6666666666666666,
              "#ed7953"
             ],
             [
              0.7777777777777778,
              "#fb9f3a"
             ],
             [
              0.8888888888888888,
              "#fdca26"
             ],
             [
              1.0,
              "#f0f921"
             ]
            ]
           }
          ],
          "heatmapgl": [
           {
            "type": "heatmapgl",
            "colorbar": {
             "outlinewidth": 0,
             "ticks": ""
            },
            "colorscale": [
             [
              0.0,
              "#0d0887"
             ],
             [
              0.1111111111111111,
              "#46039f"
             ],
             [
              0.2222222222222222,
              "#7201a8"
             ],
             [
              0.3333333333333333,
              "#9c179e"
             ],
             [
              0.4444444444444444,
              "#bd3786"
             ],
             [
              0.5555555555555556,
              "#d8576b"
             ],
             [
              0.6666666666666666,
              "#ed7953"
             ],
             [
              0.7777777777777778,
              "#fb9f3a"
             ],
             [
              0.8888888888888888,
              "#fdca26"
             ],
             [
              1.0,
              "#f0f921"
             ]
            ]
           }
          ],
          "contourcarpet": [
           {
            "type": "contourcarpet",
            "colorbar": {
             "outlinewidth": 0,
             "ticks": ""
            }
           }
          ],
          "contour": [
           {
            "type": "contour",
            "colorbar": {
             "outlinewidth": 0,
             "ticks": ""
            },
            "colorscale": [
             [
              0.0,
              "#0d0887"
             ],
             [
              0.1111111111111111,
              "#46039f"
             ],
             [
              0.2222222222222222,
              "#7201a8"
             ],
             [
              0.3333333333333333,
              "#9c179e"
             ],
             [
              0.4444444444444444,
              "#bd3786"
             ],
             [
              0.5555555555555556,
              "#d8576b"
             ],
             [
              0.6666666666666666,
              "#ed7953"
             ],
             [
              0.7777777777777778,
              "#fb9f3a"
             ],
             [
              0.8888888888888888,
              "#fdca26"
             ],
             [
              1.0,
              "#f0f921"
             ]
            ]
           }
          ],
          "surface": [
           {
            "type": "surface",
            "colorbar": {
             "outlinewidth": 0,
             "ticks": ""
            },
            "colorscale": [
             [
              0.0,
              "#0d0887"
             ],
             [
              0.1111111111111111,
              "#46039f"
             ],
             [
              0.2222222222222222,
              "#7201a8"
             ],
             [
              0.3333333333333333,
              "#9c179e"
             ],
             [
              0.4444444444444444,
              "#bd3786"
             ],
             [
              0.5555555555555556,
              "#d8576b"
             ],
             [
              0.6666666666666666,
              "#ed7953"
             ],
             [
              0.7777777777777778,
              "#fb9f3a"
             ],
             [
              0.8888888888888888,
              "#fdca26"
             ],
             [
              1.0,
              "#f0f921"
             ]
            ]
           }
          ],
          "mesh3d": [
           {
            "type": "mesh3d",
            "colorbar": {
             "outlinewidth": 0,
             "ticks": ""
            }
           }
          ],
          "scatter": [
           {
            "fillpattern": {
             "fillmode": "overlay",
             "size": 10,
             "solidity": 0.2
            },
            "type": "scatter"
           }
          ],
          "parcoords": [
           {
            "type": "parcoords",
            "line": {
             "colorbar": {
              "outlinewidth": 0,
              "ticks": ""
             }
            }
           }
          ],
          "scatterpolargl": [
           {
            "type": "scatterpolargl",
            "marker": {
             "colorbar": {
              "outlinewidth": 0,
              "ticks": ""
             }
            }
           }
          ],
          "bar": [
           {
            "error_x": {
             "color": "#2a3f5f"
            },
            "error_y": {
             "color": "#2a3f5f"
            },
            "marker": {
             "line": {
              "color": "#E5ECF6",
              "width": 0.5
             },
             "pattern": {
              "fillmode": "overlay",
              "size": 10,
              "solidity": 0.2
             }
            },
            "type": "bar"
           }
          ],
          "scattergeo": [
           {
            "type": "scattergeo",
            "marker": {
             "colorbar": {
              "outlinewidth": 0,
              "ticks": ""
             }
            }
           }
          ],
          "scatterpolar": [
           {
            "type": "scatterpolar",
            "marker": {
             "colorbar": {
              "outlinewidth": 0,
              "ticks": ""
             }
            }
           }
          ],
          "histogram": [
           {
            "marker": {
             "pattern": {
              "fillmode": "overlay",
              "size": 10,
              "solidity": 0.2
             }
            },
            "type": "histogram"
           }
          ],
          "scattergl": [
           {
            "type": "scattergl",
            "marker": {
             "colorbar": {
              "outlinewidth": 0,
              "ticks": ""
             }
            }
           }
          ],
          "scatter3d": [
           {
            "type": "scatter3d",
            "line": {
             "colorbar": {
              "outlinewidth": 0,
              "ticks": ""
             }
            },
            "marker": {
             "colorbar": {
              "outlinewidth": 0,
              "ticks": ""
             }
            }
           }
          ],
          "scattermapbox": [
           {
            "type": "scattermapbox",
            "marker": {
             "colorbar": {
              "outlinewidth": 0,
              "ticks": ""
             }
            }
           }
          ],
          "scatterternary": [
           {
            "type": "scatterternary",
            "marker": {
             "colorbar": {
              "outlinewidth": 0,
              "ticks": ""
             }
            }
           }
          ],
          "scattercarpet": [
           {
            "type": "scattercarpet",
            "marker": {
             "colorbar": {
              "outlinewidth": 0,
              "ticks": ""
             }
            }
           }
          ],
          "carpet": [
           {
            "aaxis": {
             "endlinecolor": "#2a3f5f",
             "gridcolor": "white",
             "linecolor": "white",
             "minorgridcolor": "white",
             "startlinecolor": "#2a3f5f"
            },
            "baxis": {
             "endlinecolor": "#2a3f5f",
             "gridcolor": "white",
             "linecolor": "white",
             "minorgridcolor": "white",
             "startlinecolor": "#2a3f5f"
            },
            "type": "carpet"
           }
          ],
          "table": [
           {
            "cells": {
             "fill": {
              "color": "#EBF0F8"
             },
             "line": {
              "color": "white"
             }
            },
            "header": {
             "fill": {
              "color": "#C8D4E3"
             },
             "line": {
              "color": "white"
             }
            },
            "type": "table"
           }
          ],
          "barpolar": [
           {
            "marker": {
             "line": {
              "color": "#E5ECF6",
              "width": 0.5
             },
             "pattern": {
              "fillmode": "overlay",
              "size": 10,
              "solidity": 0.2
             }
            },
            "type": "barpolar"
           }
          ],
          "pie": [
           {
            "automargin": true,
            "type": "pie"
           }
          ]
         },
         "layout": {
          "autotypenumbers": "strict",
          "colorway": [
           "#636efa",
           "#EF553B",
           "#00cc96",
           "#ab63fa",
           "#FFA15A",
           "#19d3f3",
           "#FF6692",
           "#B6E880",
           "#FF97FF",
           "#FECB52"
          ],
          "font": {
           "color": "#2a3f5f"
          },
          "hovermode": "closest",
          "hoverlabel": {
           "align": "left"
          },
          "paper_bgcolor": "white",
          "plot_bgcolor": "#E5ECF6",
          "polar": {
           "bgcolor": "#E5ECF6",
           "angularaxis": {
            "gridcolor": "white",
            "linecolor": "white",
            "ticks": ""
           },
           "radialaxis": {
            "gridcolor": "white",
            "linecolor": "white",
            "ticks": ""
           }
          },
          "ternary": {
           "bgcolor": "#E5ECF6",
           "aaxis": {
            "gridcolor": "white",
            "linecolor": "white",
            "ticks": ""
           },
           "baxis": {
            "gridcolor": "white",
            "linecolor": "white",
            "ticks": ""
           },
           "caxis": {
            "gridcolor": "white",
            "linecolor": "white",
            "ticks": ""
           }
          },
          "coloraxis": {
           "colorbar": {
            "outlinewidth": 0,
            "ticks": ""
           }
          },
          "colorscale": {
           "sequential": [
            [
             0.0,
             "#0d0887"
            ],
            [
             0.1111111111111111,
             "#46039f"
            ],
            [
             0.2222222222222222,
             "#7201a8"
            ],
            [
             0.3333333333333333,
             "#9c179e"
            ],
            [
             0.4444444444444444,
             "#bd3786"
            ],
            [
             0.5555555555555556,
             "#d8576b"
            ],
            [
             0.6666666666666666,
             "#ed7953"
            ],
            [
             0.7777777777777778,
             "#fb9f3a"
            ],
            [
             0.8888888888888888,
             "#fdca26"
            ],
            [
             1.0,
             "#f0f921"
            ]
           ],
           "sequentialminus": [
            [
             0.0,
             "#0d0887"
            ],
            [
             0.1111111111111111,
             "#46039f"
            ],
            [
             0.2222222222222222,
             "#7201a8"
            ],
            [
             0.3333333333333333,
             "#9c179e"
            ],
            [
             0.4444444444444444,
             "#bd3786"
            ],
            [
             0.5555555555555556,
             "#d8576b"
            ],
            [
             0.6666666666666666,
             "#ed7953"
            ],
            [
             0.7777777777777778,
             "#fb9f3a"
            ],
            [
             0.8888888888888888,
             "#fdca26"
            ],
            [
             1.0,
             "#f0f921"
            ]
           ],
           "diverging": [
            [
             0,
             "#8e0152"
            ],
            [
             0.1,
             "#c51b7d"
            ],
            [
             0.2,
             "#de77ae"
            ],
            [
             0.3,
             "#f1b6da"
            ],
            [
             0.4,
             "#fde0ef"
            ],
            [
             0.5,
             "#f7f7f7"
            ],
            [
             0.6,
             "#e6f5d0"
            ],
            [
             0.7,
             "#b8e186"
            ],
            [
             0.8,
             "#7fbc41"
            ],
            [
             0.9,
             "#4d9221"
            ],
            [
             1,
             "#276419"
            ]
           ]
          },
          "xaxis": {
           "gridcolor": "white",
           "linecolor": "white",
           "ticks": "",
           "title": {
            "standoff": 15
           },
           "zerolinecolor": "white",
           "automargin": true,
           "zerolinewidth": 2
          },
          "yaxis": {
           "gridcolor": "white",
           "linecolor": "white",
           "ticks": "",
           "title": {
            "standoff": 15
           },
           "zerolinecolor": "white",
           "automargin": true,
           "zerolinewidth": 2
          },
          "scene": {
           "xaxis": {
            "backgroundcolor": "#E5ECF6",
            "gridcolor": "white",
            "linecolor": "white",
            "showbackground": true,
            "ticks": "",
            "zerolinecolor": "white",
            "gridwidth": 2
           },
           "yaxis": {
            "backgroundcolor": "#E5ECF6",
            "gridcolor": "white",
            "linecolor": "white",
            "showbackground": true,
            "ticks": "",
            "zerolinecolor": "white",
            "gridwidth": 2
           },
           "zaxis": {
            "backgroundcolor": "#E5ECF6",
            "gridcolor": "white",
            "linecolor": "white",
            "showbackground": true,
            "ticks": "",
            "zerolinecolor": "white",
            "gridwidth": 2
           }
          },
          "shapedefaults": {
           "line": {
            "color": "#2a3f5f"
           }
          },
          "annotationdefaults": {
           "arrowcolor": "#2a3f5f",
           "arrowhead": 0,
           "arrowwidth": 1
          },
          "geo": {
           "bgcolor": "white",
           "landcolor": "#E5ECF6",
           "subunitcolor": "white",
           "showland": true,
           "showlakes": true,
           "lakecolor": "white"
          },
          "title": {
           "x": 0.05
          },
          "mapbox": {
           "style": "light"
          }
         }
        },
        "annotations": [
         {
          "font": {
           "size": 20
          },
          "showarrow": false,
          "text": "death",
          "x": 0.9,
          "y": 0.8
         },
         {
          "font": {
           "size": 20
          },
          "showarrow": false,
          "text": "no doubling",
          "x": 0.8,
          "y": 0.95
         },
         {
          "font": {
           "size": 20
          },
          "showarrow": false,
          "text": "1-2 doublings",
          "x": 0.35,
          "y": 0.95
         },
         {
          "font": {
           "size": 20
          },
          "showarrow": false,
          "text": "≥2 doublings",
          "x": 0.11,
          "y": 0.95
         },
         {
          "font": {
           "size": 16
          },
          "showarrow": false,
          "text": "Y theoretical = .71",
          "x": 0.6,
          "y": 0.3
         },
         {
          "font": {
           "size": 16
          },
          "showarrow": false,
          "text": "Y WT (best of) = .57",
          "x": 0.4,
          "y": 0.1
         }
        ],
        "xaxis": {
         "title": {
          "text": "ADP1 with CGP from Phase 1 (OD600)"
         },
         "range": [
          0,
          1
         ]
        },
        "yaxis": {
         "title": {
          "text": "ADP1 in Phase 2 (OD600)"
         },
         "range": [
          0,
          1
         ]
        },
        "showlegend": false,
        "width": 700,
        "height": 700,
        "plot_bgcolor": "rgba(0,0,0,0)"
       },
       "config": {
        "plotlyServerURL": "https://plot.ly"
       }
      },
      "text/html": [
       "<div>                            <div id=\"67cb0b0c-72d5-4be3-9175-2ec364d1766d\" class=\"plotly-graph-div\" style=\"height:700px; width:700px;\"></div>            <script type=\"text/javascript\">                require([\"plotly\"], function(Plotly) {                    window.PLOTLYENV=window.PLOTLYENV || {};                                    if (document.getElementById(\"67cb0b0c-72d5-4be3-9175-2ec364d1766d\")) {                    Plotly.newPlot(                        \"67cb0b0c-72d5-4be3-9175-2ec364d1766d\",                        [{\"line\":{\"color\":\"black\",\"dash\":\"dash\",\"width\":1},\"mode\":\"lines\",\"name\":\"1:1\",\"x\":[0.0,0.10101010101010101,0.20202020202020202,0.30303030303030304,0.40404040404040403,0.5050505050505051,0.6060606060606061,0.7070707070707071,0.8080808080808081,0.9090909090909091,1.0101010101010102,1.1111111111111112,1.2121212121212122,1.3131313131313131,1.4141414141414141,1.5151515151515151,1.6161616161616161,1.7171717171717171,1.8181818181818181,1.9191919191919191,2.0202020202020203,2.121212121212121,2.2222222222222223,2.323232323232323,2.4242424242424243,2.525252525252525,2.6262626262626263,2.727272727272727,2.8282828282828283,2.929292929292929,3.0303030303030303,3.131313131313131,3.2323232323232323,3.3333333333333335,3.4343434343434343,3.5353535353535355,3.6363636363636362,3.7373737373737375,3.8383838383838382,3.9393939393939394,4.040404040404041,4.141414141414141,4.242424242424242,4.343434343434343,4.444444444444445,4.545454545454545,4.646464646464646,4.747474747474747,4.848484848484849,4.94949494949495,5.05050505050505,5.151515151515151,5.252525252525253,5.353535353535354,5.454545454545454,5.555555555555555,5.656565656565657,5.757575757575758,5.858585858585858,5.959595959595959,6.0606060606060606,6.161616161616162,6.262626262626262,6.363636363636363,6.4646464646464645,6.565656565656566,6.666666666666667,6.767676767676767,6.8686868686868685,6.96969696969697,7.070707070707071,7.171717171717171,7.2727272727272725,7.373737373737374,7.474747474747475,7.575757575757575,7.6767676767676765,7.777777777777778,7.878787878787879,7.979797979797979,8.080808080808081,8.181818181818182,8.282828282828282,8.383838383838384,8.484848484848484,8.585858585858587,8.686868686868687,8.787878787878787,8.88888888888889,8.98989898989899,9.09090909090909,9.191919191919192,9.292929292929292,9.393939393939394,9.494949494949495,9.595959595959595,9.696969696969697,9.797979797979798,9.8989898989899,10.0],\"y\":[0.0,0.10101010101010101,0.20202020202020202,0.30303030303030304,0.40404040404040403,0.5050505050505051,0.6060606060606061,0.7070707070707071,0.8080808080808081,0.9090909090909091,1.0101010101010102,1.1111111111111112,1.2121212121212122,1.3131313131313131,1.4141414141414141,1.5151515151515151,1.6161616161616161,1.7171717171717171,1.8181818181818181,1.9191919191919191,2.0202020202020203,2.121212121212121,2.2222222222222223,2.323232323232323,2.4242424242424243,2.525252525252525,2.6262626262626263,2.727272727272727,2.8282828282828283,2.929292929292929,3.0303030303030303,3.131313131313131,3.2323232323232323,3.3333333333333335,3.4343434343434343,3.5353535353535355,3.6363636363636362,3.7373737373737375,3.8383838383838382,3.9393939393939394,4.040404040404041,4.141414141414141,4.242424242424242,4.343434343434343,4.444444444444445,4.545454545454545,4.646464646464646,4.747474747474747,4.848484848484849,4.94949494949495,5.05050505050505,5.151515151515151,5.252525252525253,5.353535353535354,5.454545454545454,5.555555555555555,5.656565656565657,5.757575757575758,5.858585858585858,5.959595959595959,6.0606060606060606,6.161616161616162,6.262626262626262,6.363636363636363,6.4646464646464645,6.565656565656566,6.666666666666667,6.767676767676767,6.8686868686868685,6.96969696969697,7.070707070707071,7.171717171717171,7.2727272727272725,7.373737373737374,7.474747474747475,7.575757575757575,7.6767676767676765,7.777777777777778,7.878787878787879,7.979797979797979,8.080808080808081,8.181818181818182,8.282828282828282,8.383838383838384,8.484848484848484,8.585858585858587,8.686868686868687,8.787878787878787,8.88888888888889,8.98989898989899,9.09090909090909,9.191919191919192,9.292929292929292,9.393939393939394,9.494949494949495,9.595959595959595,9.696969696969697,9.797979797979798,9.8989898989899,10.0],\"type\":\"scatter\"},{\"line\":{\"color\":\"black\",\"dash\":\"dash\",\"width\":1},\"mode\":\"lines\",\"name\":\"1:2\",\"x\":[0.0,0.10101010101010101,0.20202020202020202,0.30303030303030304,0.40404040404040403,0.5050505050505051,0.6060606060606061,0.7070707070707071,0.8080808080808081,0.9090909090909091,1.0101010101010102,1.1111111111111112,1.2121212121212122,1.3131313131313131,1.4141414141414141,1.5151515151515151,1.6161616161616161,1.7171717171717171,1.8181818181818181,1.9191919191919191,2.0202020202020203,2.121212121212121,2.2222222222222223,2.323232323232323,2.4242424242424243,2.525252525252525,2.6262626262626263,2.727272727272727,2.8282828282828283,2.929292929292929,3.0303030303030303,3.131313131313131,3.2323232323232323,3.3333333333333335,3.4343434343434343,3.5353535353535355,3.6363636363636362,3.7373737373737375,3.8383838383838382,3.9393939393939394,4.040404040404041,4.141414141414141,4.242424242424242,4.343434343434343,4.444444444444445,4.545454545454545,4.646464646464646,4.747474747474747,4.848484848484849,4.94949494949495,5.05050505050505,5.151515151515151,5.252525252525253,5.353535353535354,5.454545454545454,5.555555555555555,5.656565656565657,5.757575757575758,5.858585858585858,5.959595959595959,6.0606060606060606,6.161616161616162,6.262626262626262,6.363636363636363,6.4646464646464645,6.565656565656566,6.666666666666667,6.767676767676767,6.8686868686868685,6.96969696969697,7.070707070707071,7.171717171717171,7.2727272727272725,7.373737373737374,7.474747474747475,7.575757575757575,7.6767676767676765,7.777777777777778,7.878787878787879,7.979797979797979,8.080808080808081,8.181818181818182,8.282828282828282,8.383838383838384,8.484848484848484,8.585858585858587,8.686868686868687,8.787878787878787,8.88888888888889,8.98989898989899,9.09090909090909,9.191919191919192,9.292929292929292,9.393939393939394,9.494949494949495,9.595959595959595,9.696969696969697,9.797979797979798,9.8989898989899,10.0],\"y\":[0.0,0.20202020202020202,0.40404040404040403,0.6060606060606061,0.8080808080808081,1.0101010101010102,1.2121212121212122,1.4141414141414141,1.6161616161616161,1.8181818181818181,2.0202020202020203,2.2222222222222223,2.4242424242424243,2.6262626262626263,2.8282828282828283,3.0303030303030303,3.2323232323232323,3.4343434343434343,3.6363636363636362,3.8383838383838382,4.040404040404041,4.242424242424242,4.444444444444445,4.646464646464646,4.848484848484849,5.05050505050505,5.252525252525253,5.454545454545454,5.656565656565657,5.858585858585858,6.0606060606060606,6.262626262626262,6.4646464646464645,6.666666666666667,6.8686868686868685,7.070707070707071,7.2727272727272725,7.474747474747475,7.6767676767676765,7.878787878787879,8.080808080808081,8.282828282828282,8.484848484848484,8.686868686868687,8.88888888888889,9.09090909090909,9.292929292929292,9.494949494949495,9.696969696969697,9.8989898989899,10.1010101010101,10.303030303030303,10.505050505050505,10.707070707070708,10.909090909090908,11.11111111111111,11.313131313131313,11.515151515151516,11.717171717171716,11.919191919191919,12.121212121212121,12.323232323232324,12.525252525252524,12.727272727272727,12.929292929292929,13.131313131313131,13.333333333333334,13.535353535353535,13.737373737373737,13.93939393939394,14.141414141414142,14.343434343434343,14.545454545454545,14.747474747474747,14.94949494949495,15.15151515151515,15.353535353535353,15.555555555555555,15.757575757575758,15.959595959595958,16.161616161616163,16.363636363636363,16.565656565656564,16.767676767676768,16.96969696969697,17.171717171717173,17.373737373737374,17.575757575757574,17.77777777777778,17.97979797979798,18.18181818181818,18.383838383838384,18.585858585858585,18.78787878787879,18.98989898989899,19.19191919191919,19.393939393939394,19.595959595959595,19.7979797979798,20.0],\"type\":\"scatter\"},{\"line\":{\"color\":\"black\",\"dash\":\"dash\",\"width\":1},\"mode\":\"lines\",\"name\":\"1:4\",\"x\":[0.0,0.10101010101010101,0.20202020202020202,0.30303030303030304,0.40404040404040403,0.5050505050505051,0.6060606060606061,0.7070707070707071,0.8080808080808081,0.9090909090909091,1.0101010101010102,1.1111111111111112,1.2121212121212122,1.3131313131313131,1.4141414141414141,1.5151515151515151,1.6161616161616161,1.7171717171717171,1.8181818181818181,1.9191919191919191,2.0202020202020203,2.121212121212121,2.2222222222222223,2.323232323232323,2.4242424242424243,2.525252525252525,2.6262626262626263,2.727272727272727,2.8282828282828283,2.929292929292929,3.0303030303030303,3.131313131313131,3.2323232323232323,3.3333333333333335,3.4343434343434343,3.5353535353535355,3.6363636363636362,3.7373737373737375,3.8383838383838382,3.9393939393939394,4.040404040404041,4.141414141414141,4.242424242424242,4.343434343434343,4.444444444444445,4.545454545454545,4.646464646464646,4.747474747474747,4.848484848484849,4.94949494949495,5.05050505050505,5.151515151515151,5.252525252525253,5.353535353535354,5.454545454545454,5.555555555555555,5.656565656565657,5.757575757575758,5.858585858585858,5.959595959595959,6.0606060606060606,6.161616161616162,6.262626262626262,6.363636363636363,6.4646464646464645,6.565656565656566,6.666666666666667,6.767676767676767,6.8686868686868685,6.96969696969697,7.070707070707071,7.171717171717171,7.2727272727272725,7.373737373737374,7.474747474747475,7.575757575757575,7.6767676767676765,7.777777777777778,7.878787878787879,7.979797979797979,8.080808080808081,8.181818181818182,8.282828282828282,8.383838383838384,8.484848484848484,8.585858585858587,8.686868686868687,8.787878787878787,8.88888888888889,8.98989898989899,9.09090909090909,9.191919191919192,9.292929292929292,9.393939393939394,9.494949494949495,9.595959595959595,9.696969696969697,9.797979797979798,9.8989898989899,10.0],\"y\":[0.0,0.40404040404040403,0.8080808080808081,1.2121212121212122,1.6161616161616161,2.0202020202020203,2.4242424242424243,2.8282828282828283,3.2323232323232323,3.6363636363636362,4.040404040404041,4.444444444444445,4.848484848484849,5.252525252525253,5.656565656565657,6.0606060606060606,6.4646464646464645,6.8686868686868685,7.2727272727272725,7.6767676767676765,8.080808080808081,8.484848484848484,8.88888888888889,9.292929292929292,9.696969696969697,10.1010101010101,10.505050505050505,10.909090909090908,11.313131313131313,11.717171717171716,12.121212121212121,12.525252525252524,12.929292929292929,13.333333333333334,13.737373737373737,14.141414141414142,14.545454545454545,14.94949494949495,15.353535353535353,15.757575757575758,16.161616161616163,16.565656565656564,16.96969696969697,17.373737373737374,17.77777777777778,18.18181818181818,18.585858585858585,18.98989898989899,19.393939393939394,19.7979797979798,20.2020202020202,20.606060606060606,21.01010101010101,21.414141414141415,21.818181818181817,22.22222222222222,22.626262626262626,23.03030303030303,23.434343434343432,23.838383838383837,24.242424242424242,24.646464646464647,25.05050505050505,25.454545454545453,25.858585858585858,26.262626262626263,26.666666666666668,27.07070707070707,27.474747474747474,27.87878787878788,28.282828282828284,28.686868686868685,29.09090909090909,29.494949494949495,29.8989898989899,30.3030303030303,30.707070707070706,31.11111111111111,31.515151515151516,31.919191919191917,32.323232323232325,32.72727272727273,33.13131313131313,33.535353535353536,33.93939393939394,34.343434343434346,34.74747474747475,35.15151515151515,35.55555555555556,35.95959595959596,36.36363636363636,36.76767676767677,37.17171717171717,37.57575757575758,37.97979797979798,38.38383838383838,38.78787878787879,39.19191919191919,39.5959595959596,40.0],\"type\":\"scatter\"},{\"fill\":\"toself\",\"fillcolor\":\"rgb(252, 45, 51)\",\"line\":{\"color\":\"rgba(255,255,255,0)\"},\"opacity\":0.2,\"showlegend\":true,\"x\":[0.0,0.10101010101010101,0.20202020202020202,0.30303030303030304,0.40404040404040403,0.5050505050505051,0.6060606060606061,0.7070707070707071,0.8080808080808081,0.9090909090909091,1.0101010101010102,1.1111111111111112,1.2121212121212122,1.3131313131313131,1.4141414141414141,1.5151515151515151,1.6161616161616161,1.7171717171717171,1.8181818181818181,1.9191919191919191,2.0202020202020203,2.121212121212121,2.2222222222222223,2.323232323232323,2.4242424242424243,2.525252525252525,2.6262626262626263,2.727272727272727,2.8282828282828283,2.929292929292929,3.0303030303030303,3.131313131313131,3.2323232323232323,3.3333333333333335,3.4343434343434343,3.5353535353535355,3.6363636363636362,3.7373737373737375,3.8383838383838382,3.9393939393939394,4.040404040404041,4.141414141414141,4.242424242424242,4.343434343434343,4.444444444444445,4.545454545454545,4.646464646464646,4.747474747474747,4.848484848484849,4.94949494949495,5.05050505050505,5.151515151515151,5.252525252525253,5.353535353535354,5.454545454545454,5.555555555555555,5.656565656565657,5.757575757575758,5.858585858585858,5.959595959595959,6.0606060606060606,6.161616161616162,6.262626262626262,6.363636363636363,6.4646464646464645,6.565656565656566,6.666666666666667,6.767676767676767,6.8686868686868685,6.96969696969697,7.070707070707071,7.171717171717171,7.2727272727272725,7.373737373737374,7.474747474747475,7.575757575757575,7.6767676767676765,7.777777777777778,7.878787878787879,7.979797979797979,8.080808080808081,8.181818181818182,8.282828282828282,8.383838383838384,8.484848484848484,8.585858585858587,8.686868686868687,8.787878787878787,8.88888888888889,8.98989898989899,9.09090909090909,9.191919191919192,9.292929292929292,9.393939393939394,9.494949494949495,9.595959595959595,9.696969696969697,9.797979797979798,9.8989898989899,10.0,10.0,9.8989898989899,9.797979797979798,9.696969696969697,9.595959595959595,9.494949494949495,9.393939393939394,9.292929292929292,9.191919191919192,9.09090909090909,8.98989898989899,8.88888888888889,8.787878787878787,8.686868686868687,8.585858585858587,8.484848484848484,8.383838383838384,8.282828282828282,8.181818181818182,8.080808080808081,7.979797979797979,7.878787878787879,7.777777777777778,7.6767676767676765,7.575757575757575,7.474747474747475,7.373737373737374,7.2727272727272725,7.171717171717171,7.070707070707071,6.96969696969697,6.8686868686868685,6.767676767676767,6.666666666666667,6.565656565656566,6.4646464646464645,6.363636363636363,6.262626262626262,6.161616161616162,6.0606060606060606,5.959595959595959,5.858585858585858,5.757575757575758,5.656565656565657,5.555555555555555,5.454545454545454,5.353535353535354,5.252525252525253,5.151515151515151,5.05050505050505,4.94949494949495,4.848484848484849,4.747474747474747,4.646464646464646,4.545454545454545,4.444444444444445,4.343434343434343,4.242424242424242,4.141414141414141,4.040404040404041,3.9393939393939394,3.8383838383838382,3.7373737373737375,3.6363636363636362,3.5353535353535355,3.4343434343434343,3.3333333333333335,3.2323232323232323,3.131313131313131,3.0303030303030303,2.929292929292929,2.8282828282828283,2.727272727272727,2.6262626262626263,2.525252525252525,2.4242424242424243,2.323232323232323,2.2222222222222223,2.121212121212121,2.0202020202020203,1.9191919191919191,1.8181818181818181,1.7171717171717171,1.6161616161616161,1.5151515151515151,1.4141414141414141,1.3131313131313131,1.2121212121212122,1.1111111111111112,1.0101010101010102,0.9090909090909091,0.8080808080808081,0.7070707070707071,0.6060606060606061,0.5050505050505051,0.40404040404040403,0.30303030303030304,0.20202020202020202,0.10101010101010101,0.0],\"y\":[0.0,0.10101010101010101,0.20202020202020202,0.30303030303030304,0.40404040404040403,0.5050505050505051,0.6060606060606061,0.7070707070707071,0.8080808080808081,0.9090909090909091,1.0101010101010102,1.1111111111111112,1.2121212121212122,1.3131313131313131,1.4141414141414141,1.5151515151515151,1.6161616161616161,1.7171717171717171,1.8181818181818181,1.9191919191919191,2.0202020202020203,2.121212121212121,2.2222222222222223,2.323232323232323,2.4242424242424243,2.525252525252525,2.6262626262626263,2.727272727272727,2.8282828282828283,2.929292929292929,3.0303030303030303,3.131313131313131,3.2323232323232323,3.3333333333333335,3.4343434343434343,3.5353535353535355,3.6363636363636362,3.7373737373737375,3.8383838383838382,3.9393939393939394,4.040404040404041,4.141414141414141,4.242424242424242,4.343434343434343,4.444444444444445,4.545454545454545,4.646464646464646,4.747474747474747,4.848484848484849,4.94949494949495,5.05050505050505,5.151515151515151,5.252525252525253,5.353535353535354,5.454545454545454,5.555555555555555,5.656565656565657,5.757575757575758,5.858585858585858,5.959595959595959,6.0606060606060606,6.161616161616162,6.262626262626262,6.363636363636363,6.4646464646464645,6.565656565656566,6.666666666666667,6.767676767676767,6.8686868686868685,6.96969696969697,7.070707070707071,7.171717171717171,7.2727272727272725,7.373737373737374,7.474747474747475,7.575757575757575,7.6767676767676765,7.777777777777778,7.878787878787879,7.979797979797979,8.080808080808081,8.181818181818182,8.282828282828282,8.383838383838384,8.484848484848484,8.585858585858587,8.686868686868687,8.787878787878787,8.88888888888889,8.98989898989899,9.09090909090909,9.191919191919192,9.292929292929292,9.393939393939394,9.494949494949495,9.595959595959595,9.696969696969697,9.797979797979798,9.8989898989899,10.0,0.0,0.0,0.0,0.0,0.0,0.0,0.0,0.0,0.0,0.0,0.0,0.0,0.0,0.0,0.0,0.0,0.0,0.0,0.0,0.0,0.0,0.0,0.0,0.0,0.0,0.0,0.0,0.0,0.0,0.0,0.0,0.0,0.0,0.0,0.0,0.0,0.0,0.0,0.0,0.0,0.0,0.0,0.0,0.0,0.0,0.0,0.0,0.0,0.0,0.0,0.0,0.0,0.0,0.0,0.0,0.0,0.0,0.0,0.0,0.0,0.0,0.0,0.0,0.0,0.0,0.0,0.0,0.0,0.0,0.0,0.0,0.0,0.0,0.0,0.0,0.0,0.0,0.0,0.0,0.0,0.0,0.0,0.0,0.0,0.0,0.0,0.0,0.0,0.0,0.0,0.0,0.0,0.0,0.0,0.0,0.0,0.0,0.0,0.0,0.0],\"type\":\"scatter\"},{\"fill\":\"toself\",\"fillcolor\":\"rgb(229, 57, 0)\",\"line\":{\"color\":\"rgba(255,255,255,0)\"},\"opacity\":0.2,\"showlegend\":false,\"x\":[0.0,0.10101010101010101,0.20202020202020202,0.30303030303030304,0.40404040404040403,0.5050505050505051,0.6060606060606061,0.7070707070707071,0.8080808080808081,0.9090909090909091,1.0101010101010102,1.1111111111111112,1.2121212121212122,1.3131313131313131,1.4141414141414141,1.5151515151515151,1.6161616161616161,1.7171717171717171,1.8181818181818181,1.9191919191919191,2.0202020202020203,2.121212121212121,2.2222222222222223,2.323232323232323,2.4242424242424243,2.525252525252525,2.6262626262626263,2.727272727272727,2.8282828282828283,2.929292929292929,3.0303030303030303,3.131313131313131,3.2323232323232323,3.3333333333333335,3.4343434343434343,3.5353535353535355,3.6363636363636362,3.7373737373737375,3.8383838383838382,3.9393939393939394,4.040404040404041,4.141414141414141,4.242424242424242,4.343434343434343,4.444444444444445,4.545454545454545,4.646464646464646,4.747474747474747,4.848484848484849,4.94949494949495,5.05050505050505,5.151515151515151,5.252525252525253,5.353535353535354,5.454545454545454,5.555555555555555,5.656565656565657,5.757575757575758,5.858585858585858,5.959595959595959,6.0606060606060606,6.161616161616162,6.262626262626262,6.363636363636363,6.4646464646464645,6.565656565656566,6.666666666666667,6.767676767676767,6.8686868686868685,6.96969696969697,7.070707070707071,7.171717171717171,7.2727272727272725,7.373737373737374,7.474747474747475,7.575757575757575,7.6767676767676765,7.777777777777778,7.878787878787879,7.979797979797979,8.080808080808081,8.181818181818182,8.282828282828282,8.383838383838384,8.484848484848484,8.585858585858587,8.686868686868687,8.787878787878787,8.88888888888889,8.98989898989899,9.09090909090909,9.191919191919192,9.292929292929292,9.393939393939394,9.494949494949495,9.595959595959595,9.696969696969697,9.797979797979798,9.8989898989899,10.0,10.0,9.8989898989899,9.797979797979798,9.696969696969697,9.595959595959595,9.494949494949495,9.393939393939394,9.292929292929292,9.191919191919192,9.09090909090909,8.98989898989899,8.88888888888889,8.787878787878787,8.686868686868687,8.585858585858587,8.484848484848484,8.383838383838384,8.282828282828282,8.181818181818182,8.080808080808081,7.979797979797979,7.878787878787879,7.777777777777778,7.6767676767676765,7.575757575757575,7.474747474747475,7.373737373737374,7.2727272727272725,7.171717171717171,7.070707070707071,6.96969696969697,6.8686868686868685,6.767676767676767,6.666666666666667,6.565656565656566,6.4646464646464645,6.363636363636363,6.262626262626262,6.161616161616162,6.0606060606060606,5.959595959595959,5.858585858585858,5.757575757575758,5.656565656565657,5.555555555555555,5.454545454545454,5.353535353535354,5.252525252525253,5.151515151515151,5.05050505050505,4.94949494949495,4.848484848484849,4.747474747474747,4.646464646464646,4.545454545454545,4.444444444444445,4.343434343434343,4.242424242424242,4.141414141414141,4.040404040404041,3.9393939393939394,3.8383838383838382,3.7373737373737375,3.6363636363636362,3.5353535353535355,3.4343434343434343,3.3333333333333335,3.2323232323232323,3.131313131313131,3.0303030303030303,2.929292929292929,2.8282828282828283,2.727272727272727,2.6262626262626263,2.525252525252525,2.4242424242424243,2.323232323232323,2.2222222222222223,2.121212121212121,2.0202020202020203,1.9191919191919191,1.8181818181818181,1.7171717171717171,1.6161616161616161,1.5151515151515151,1.4141414141414141,1.3131313131313131,1.2121212121212122,1.1111111111111112,1.0101010101010102,0.9090909090909091,0.8080808080808081,0.7070707070707071,0.6060606060606061,0.5050505050505051,0.40404040404040403,0.30303030303030304,0.20202020202020202,0.10101010101010101,0.0],\"y\":[0.0,0.10101010101010101,0.20202020202020202,0.30303030303030304,0.40404040404040403,0.5050505050505051,0.6060606060606061,0.7070707070707071,0.8080808080808081,0.9090909090909091,1.0101010101010102,1.1111111111111112,1.2121212121212122,1.3131313131313131,1.4141414141414141,1.5151515151515151,1.6161616161616161,1.7171717171717171,1.8181818181818181,1.9191919191919191,2.0202020202020203,2.121212121212121,2.2222222222222223,2.323232323232323,2.4242424242424243,2.525252525252525,2.6262626262626263,2.727272727272727,2.8282828282828283,2.929292929292929,3.0303030303030303,3.131313131313131,3.2323232323232323,3.3333333333333335,3.4343434343434343,3.5353535353535355,3.6363636363636362,3.7373737373737375,3.8383838383838382,3.9393939393939394,4.040404040404041,4.141414141414141,4.242424242424242,4.343434343434343,4.444444444444445,4.545454545454545,4.646464646464646,4.747474747474747,4.848484848484849,4.94949494949495,5.05050505050505,5.151515151515151,5.252525252525253,5.353535353535354,5.454545454545454,5.555555555555555,5.656565656565657,5.757575757575758,5.858585858585858,5.959595959595959,6.0606060606060606,6.161616161616162,6.262626262626262,6.363636363636363,6.4646464646464645,6.565656565656566,6.666666666666667,6.767676767676767,6.8686868686868685,6.96969696969697,7.070707070707071,7.171717171717171,7.2727272727272725,7.373737373737374,7.474747474747475,7.575757575757575,7.6767676767676765,7.777777777777778,7.878787878787879,7.979797979797979,8.080808080808081,8.181818181818182,8.282828282828282,8.383838383838384,8.484848484848484,8.585858585858587,8.686868686868687,8.787878787878787,8.88888888888889,8.98989898989899,9.09090909090909,9.191919191919192,9.292929292929292,9.393939393939394,9.494949494949495,9.595959595959595,9.696969696969697,9.797979797979798,9.8989898989899,10.0,20.0,19.7979797979798,19.595959595959595,19.393939393939394,19.19191919191919,18.98989898989899,18.78787878787879,18.585858585858585,18.383838383838384,18.18181818181818,17.97979797979798,17.77777777777778,17.575757575757574,17.373737373737374,17.171717171717173,16.96969696969697,16.767676767676768,16.565656565656564,16.363636363636363,16.161616161616163,15.959595959595958,15.757575757575758,15.555555555555555,15.353535353535353,15.15151515151515,14.94949494949495,14.747474747474747,14.545454545454545,14.343434343434343,14.141414141414142,13.93939393939394,13.737373737373737,13.535353535353535,13.333333333333334,13.131313131313131,12.929292929292929,12.727272727272727,12.525252525252524,12.323232323232324,12.121212121212121,11.919191919191919,11.717171717171716,11.515151515151516,11.313131313131313,11.11111111111111,10.909090909090908,10.707070707070708,10.505050505050505,10.303030303030303,10.1010101010101,9.8989898989899,9.696969696969697,9.494949494949495,9.292929292929292,9.09090909090909,8.88888888888889,8.686868686868687,8.484848484848484,8.282828282828282,8.080808080808081,7.878787878787879,7.6767676767676765,7.474747474747475,7.2727272727272725,7.070707070707071,6.8686868686868685,6.666666666666667,6.4646464646464645,6.262626262626262,6.0606060606060606,5.858585858585858,5.656565656565657,5.454545454545454,5.252525252525253,5.05050505050505,4.848484848484849,4.646464646464646,4.444444444444445,4.242424242424242,4.040404040404041,3.8383838383838382,3.6363636363636362,3.4343434343434343,3.2323232323232323,3.0303030303030303,2.8282828282828283,2.6262626262626263,2.4242424242424243,2.2222222222222223,2.0202020202020203,1.8181818181818181,1.6161616161616161,1.4141414141414141,1.2121212121212122,1.0101010101010102,0.8080808080808081,0.6060606060606061,0.40404040404040403,0.20202020202020202,0.0],\"type\":\"scatter\"},{\"fill\":\"toself\",\"fillcolor\":\"rgb(27, 168, 36)\",\"line\":{\"color\":\"rgba(255,255,255,0)\"},\"opacity\":0.2,\"showlegend\":false,\"x\":[0.0,0.10101010101010101,0.20202020202020202,0.30303030303030304,0.40404040404040403,0.5050505050505051,0.6060606060606061,0.7070707070707071,0.8080808080808081,0.9090909090909091,1.0101010101010102,1.1111111111111112,1.2121212121212122,1.3131313131313131,1.4141414141414141,1.5151515151515151,1.6161616161616161,1.7171717171717171,1.8181818181818181,1.9191919191919191,2.0202020202020203,2.121212121212121,2.2222222222222223,2.323232323232323,2.4242424242424243,2.525252525252525,2.6262626262626263,2.727272727272727,2.8282828282828283,2.929292929292929,3.0303030303030303,3.131313131313131,3.2323232323232323,3.3333333333333335,3.4343434343434343,3.5353535353535355,3.6363636363636362,3.7373737373737375,3.8383838383838382,3.9393939393939394,4.040404040404041,4.141414141414141,4.242424242424242,4.343434343434343,4.444444444444445,4.545454545454545,4.646464646464646,4.747474747474747,4.848484848484849,4.94949494949495,5.05050505050505,5.151515151515151,5.252525252525253,5.353535353535354,5.454545454545454,5.555555555555555,5.656565656565657,5.757575757575758,5.858585858585858,5.959595959595959,6.0606060606060606,6.161616161616162,6.262626262626262,6.363636363636363,6.4646464646464645,6.565656565656566,6.666666666666667,6.767676767676767,6.8686868686868685,6.96969696969697,7.070707070707071,7.171717171717171,7.2727272727272725,7.373737373737374,7.474747474747475,7.575757575757575,7.6767676767676765,7.777777777777778,7.878787878787879,7.979797979797979,8.080808080808081,8.181818181818182,8.282828282828282,8.383838383838384,8.484848484848484,8.585858585858587,8.686868686868687,8.787878787878787,8.88888888888889,8.98989898989899,9.09090909090909,9.191919191919192,9.292929292929292,9.393939393939394,9.494949494949495,9.595959595959595,9.696969696969697,9.797979797979798,9.8989898989899,10.0,10.0,9.8989898989899,9.797979797979798,9.696969696969697,9.595959595959595,9.494949494949495,9.393939393939394,9.292929292929292,9.191919191919192,9.09090909090909,8.98989898989899,8.88888888888889,8.787878787878787,8.686868686868687,8.585858585858587,8.484848484848484,8.383838383838384,8.282828282828282,8.181818181818182,8.080808080808081,7.979797979797979,7.878787878787879,7.777777777777778,7.6767676767676765,7.575757575757575,7.474747474747475,7.373737373737374,7.2727272727272725,7.171717171717171,7.070707070707071,6.96969696969697,6.8686868686868685,6.767676767676767,6.666666666666667,6.565656565656566,6.4646464646464645,6.363636363636363,6.262626262626262,6.161616161616162,6.0606060606060606,5.959595959595959,5.858585858585858,5.757575757575758,5.656565656565657,5.555555555555555,5.454545454545454,5.353535353535354,5.252525252525253,5.151515151515151,5.05050505050505,4.94949494949495,4.848484848484849,4.747474747474747,4.646464646464646,4.545454545454545,4.444444444444445,4.343434343434343,4.242424242424242,4.141414141414141,4.040404040404041,3.9393939393939394,3.8383838383838382,3.7373737373737375,3.6363636363636362,3.5353535353535355,3.4343434343434343,3.3333333333333335,3.2323232323232323,3.131313131313131,3.0303030303030303,2.929292929292929,2.8282828282828283,2.727272727272727,2.6262626262626263,2.525252525252525,2.4242424242424243,2.323232323232323,2.2222222222222223,2.121212121212121,2.0202020202020203,1.9191919191919191,1.8181818181818181,1.7171717171717171,1.6161616161616161,1.5151515151515151,1.4141414141414141,1.3131313131313131,1.2121212121212122,1.1111111111111112,1.0101010101010102,0.9090909090909091,0.8080808080808081,0.7070707070707071,0.6060606060606061,0.5050505050505051,0.40404040404040403,0.30303030303030304,0.20202020202020202,0.10101010101010101,0.0],\"y\":[0.0,0.20202020202020202,0.40404040404040403,0.6060606060606061,0.8080808080808081,1.0101010101010102,1.2121212121212122,1.4141414141414141,1.6161616161616161,1.8181818181818181,2.0202020202020203,2.2222222222222223,2.4242424242424243,2.6262626262626263,2.8282828282828283,3.0303030303030303,3.2323232323232323,3.4343434343434343,3.6363636363636362,3.8383838383838382,4.040404040404041,4.242424242424242,4.444444444444445,4.646464646464646,4.848484848484849,5.05050505050505,5.252525252525253,5.454545454545454,5.656565656565657,5.858585858585858,6.0606060606060606,6.262626262626262,6.4646464646464645,6.666666666666667,6.8686868686868685,7.070707070707071,7.2727272727272725,7.474747474747475,7.6767676767676765,7.878787878787879,8.080808080808081,8.282828282828282,8.484848484848484,8.686868686868687,8.88888888888889,9.09090909090909,9.292929292929292,9.494949494949495,9.696969696969697,9.8989898989899,10.1010101010101,10.303030303030303,10.505050505050505,10.707070707070708,10.909090909090908,11.11111111111111,11.313131313131313,11.515151515151516,11.717171717171716,11.919191919191919,12.121212121212121,12.323232323232324,12.525252525252524,12.727272727272727,12.929292929292929,13.131313131313131,13.333333333333334,13.535353535353535,13.737373737373737,13.93939393939394,14.141414141414142,14.343434343434343,14.545454545454545,14.747474747474747,14.94949494949495,15.15151515151515,15.353535353535353,15.555555555555555,15.757575757575758,15.959595959595958,16.161616161616163,16.363636363636363,16.565656565656564,16.767676767676768,16.96969696969697,17.171717171717173,17.373737373737374,17.575757575757574,17.77777777777778,17.97979797979798,18.18181818181818,18.383838383838384,18.585858585858585,18.78787878787879,18.98989898989899,19.19191919191919,19.393939393939394,19.595959595959595,19.7979797979798,20.0,40.0,39.5959595959596,39.19191919191919,38.78787878787879,38.38383838383838,37.97979797979798,37.57575757575758,37.17171717171717,36.76767676767677,36.36363636363636,35.95959595959596,35.55555555555556,35.15151515151515,34.74747474747475,34.343434343434346,33.93939393939394,33.535353535353536,33.13131313131313,32.72727272727273,32.323232323232325,31.919191919191917,31.515151515151516,31.11111111111111,30.707070707070706,30.3030303030303,29.8989898989899,29.494949494949495,29.09090909090909,28.686868686868685,28.282828282828284,27.87878787878788,27.474747474747474,27.07070707070707,26.666666666666668,26.262626262626263,25.858585858585858,25.454545454545453,25.05050505050505,24.646464646464647,24.242424242424242,23.838383838383837,23.434343434343432,23.03030303030303,22.626262626262626,22.22222222222222,21.818181818181817,21.414141414141415,21.01010101010101,20.606060606060606,20.2020202020202,19.7979797979798,19.393939393939394,18.98989898989899,18.585858585858585,18.18181818181818,17.77777777777778,17.373737373737374,16.96969696969697,16.565656565656564,16.161616161616163,15.757575757575758,15.353535353535353,14.94949494949495,14.545454545454545,14.141414141414142,13.737373737373737,13.333333333333334,12.929292929292929,12.525252525252524,12.121212121212121,11.717171717171716,11.313131313131313,10.909090909090908,10.505050505050505,10.1010101010101,9.696969696969697,9.292929292929292,8.88888888888889,8.484848484848484,8.080808080808081,7.6767676767676765,7.2727272727272725,6.8686868686868685,6.4646464646464645,6.0606060606060606,5.656565656565657,5.252525252525253,4.848484848484849,4.444444444444445,4.040404040404041,3.6363636363636362,3.2323232323232323,2.8282828282828283,2.4242424242424243,2.0202020202020203,1.6161616161616161,1.2121212121212122,0.8080808080808081,0.40404040404040403,0.0],\"type\":\"scatter\"},{\"fill\":\"toself\",\"fillcolor\":\"rgb(81, 255, 0)\",\"line\":{\"color\":\"rgba(255,255,255,0)\"},\"opacity\":0.2,\"showlegend\":false,\"x\":[0.0,0.10101010101010101,0.20202020202020202,0.30303030303030304,0.40404040404040403,0.5050505050505051,0.6060606060606061,0.7070707070707071,0.8080808080808081,0.9090909090909091,1.0101010101010102,1.1111111111111112,1.2121212121212122,1.3131313131313131,1.4141414141414141,1.5151515151515151,1.6161616161616161,1.7171717171717171,1.8181818181818181,1.9191919191919191,2.0202020202020203,2.121212121212121,2.2222222222222223,2.323232323232323,2.4242424242424243,2.525252525252525,2.6262626262626263,2.727272727272727,2.8282828282828283,2.929292929292929,3.0303030303030303,3.131313131313131,3.2323232323232323,3.3333333333333335,3.4343434343434343,3.5353535353535355,3.6363636363636362,3.7373737373737375,3.8383838383838382,3.9393939393939394,4.040404040404041,4.141414141414141,4.242424242424242,4.343434343434343,4.444444444444445,4.545454545454545,4.646464646464646,4.747474747474747,4.848484848484849,4.94949494949495,5.05050505050505,5.151515151515151,5.252525252525253,5.353535353535354,5.454545454545454,5.555555555555555,5.656565656565657,5.757575757575758,5.858585858585858,5.959595959595959,6.0606060606060606,6.161616161616162,6.262626262626262,6.363636363636363,6.4646464646464645,6.565656565656566,6.666666666666667,6.767676767676767,6.8686868686868685,6.96969696969697,7.070707070707071,7.171717171717171,7.2727272727272725,7.373737373737374,7.474747474747475,7.575757575757575,7.6767676767676765,7.777777777777778,7.878787878787879,7.979797979797979,8.080808080808081,8.181818181818182,8.282828282828282,8.383838383838384,8.484848484848484,8.585858585858587,8.686868686868687,8.787878787878787,8.88888888888889,8.98989898989899,9.09090909090909,9.191919191919192,9.292929292929292,9.393939393939394,9.494949494949495,9.595959595959595,9.696969696969697,9.797979797979798,9.8989898989899,10.0,0.0,0.0,0.0,0.0,0.0,0.0,0.0,0.0,0.0,0.0,0.0,0.0,0.0,0.0,0.0,0.0,0.0,0.0,0.0,0.0,0.0,0.0,0.0,0.0,0.0,0.0,0.0,0.0,0.0,0.0,0.0,0.0,0.0,0.0,0.0,0.0,0.0,0.0,0.0,0.0,0.0,0.0,0.0,0.0,0.0,0.0,0.0,0.0,0.0,0.0,0.0,0.0,0.0,0.0,0.0,0.0,0.0,0.0,0.0,0.0,0.0,0.0,0.0,0.0,0.0,0.0,0.0,0.0,0.0,0.0,0.0,0.0,0.0,0.0,0.0,0.0,0.0,0.0,0.0,0.0,0.0,0.0,0.0,0.0,0.0,0.0,0.0,0.0,0.0,0.0,0.0,0.0,0.0,0.0,0.0,0.0,0.0,0.0,0.0,0.0],\"y\":[0.0,0.40404040404040403,0.8080808080808081,1.2121212121212122,1.6161616161616161,2.0202020202020203,2.4242424242424243,2.8282828282828283,3.2323232323232323,3.6363636363636362,4.040404040404041,4.444444444444445,4.848484848484849,5.252525252525253,5.656565656565657,6.0606060606060606,6.4646464646464645,6.8686868686868685,7.2727272727272725,7.6767676767676765,8.080808080808081,8.484848484848484,8.88888888888889,9.292929292929292,9.696969696969697,10.1010101010101,10.505050505050505,10.909090909090908,11.313131313131313,11.717171717171716,12.121212121212121,12.525252525252524,12.929292929292929,13.333333333333334,13.737373737373737,14.141414141414142,14.545454545454545,14.94949494949495,15.353535353535353,15.757575757575758,16.161616161616163,16.565656565656564,16.96969696969697,17.373737373737374,17.77777777777778,18.18181818181818,18.585858585858585,18.98989898989899,19.393939393939394,19.7979797979798,20.2020202020202,20.606060606060606,21.01010101010101,21.414141414141415,21.818181818181817,22.22222222222222,22.626262626262626,23.03030303030303,23.434343434343432,23.838383838383837,24.242424242424242,24.646464646464647,25.05050505050505,25.454545454545453,25.858585858585858,26.262626262626263,26.666666666666668,27.07070707070707,27.474747474747474,27.87878787878788,28.282828282828284,28.686868686868685,29.09090909090909,29.494949494949495,29.8989898989899,30.3030303030303,30.707070707070706,31.11111111111111,31.515151515151516,31.919191919191917,32.323232323232325,32.72727272727273,33.13131313131313,33.535353535353536,33.93939393939394,34.343434343434346,34.74747474747475,35.15151515151515,35.55555555555556,35.95959595959596,36.36363636363636,36.76767676767677,37.17171717171717,37.57575757575758,37.97979797979798,38.38383838383838,38.78787878787879,39.19191919191919,39.5959595959596,40.0,40.0,39.5959595959596,39.19191919191919,38.78787878787879,38.38383838383838,37.97979797979798,37.57575757575758,37.17171717171717,36.76767676767677,36.36363636363636,35.95959595959596,35.55555555555556,35.15151515151515,34.74747474747475,34.343434343434346,33.93939393939394,33.535353535353536,33.13131313131313,32.72727272727273,32.323232323232325,31.919191919191917,31.515151515151516,31.11111111111111,30.707070707070706,30.3030303030303,29.8989898989899,29.494949494949495,29.09090909090909,28.686868686868685,28.282828282828284,27.87878787878788,27.474747474747474,27.07070707070707,26.666666666666668,26.262626262626263,25.858585858585858,25.454545454545453,25.05050505050505,24.646464646464647,24.242424242424242,23.838383838383837,23.434343434343432,23.03030303030303,22.626262626262626,22.22222222222222,21.818181818181817,21.414141414141415,21.01010101010101,20.606060606060606,20.2020202020202,19.7979797979798,19.393939393939394,18.98989898989899,18.585858585858585,18.18181818181818,17.77777777777778,17.373737373737374,16.96969696969697,16.565656565656564,16.161616161616163,15.757575757575758,15.353535353535353,14.94949494949495,14.545454545454545,14.141414141414142,13.737373737373737,13.333333333333334,12.929292929292929,12.525252525252524,12.121212121212121,11.717171717171716,11.313131313131313,10.909090909090908,10.505050505050505,10.1010101010101,9.696969696969697,9.292929292929292,8.88888888888889,8.484848484848484,8.080808080808081,7.6767676767676765,7.2727272727272725,6.8686868686868685,6.4646464646464645,6.0606060606060606,5.656565656565657,5.252525252525253,4.848484848484849,4.444444444444445,4.040404040404041,3.6363636363636362,3.2323232323232323,2.8282828282828283,2.4242424242424243,2.0202020202020203,1.6161616161616161,1.2121212121212122,0.8080808080808081,0.40404040404040403,0.0],\"type\":\"scatter\"},{\"line\":{\"color\":\"black\"},\"mode\":\"lines\",\"name\":\"WT best\",\"x\":[0.0,0.10101010101010101,0.20202020202020202,0.30303030303030304,0.40404040404040403,0.5050505050505051,0.6060606060606061,0.7070707070707071,0.8080808080808081,0.9090909090909091,1.0101010101010102,1.1111111111111112,1.2121212121212122,1.3131313131313131,1.4141414141414141,1.5151515151515151,1.6161616161616161,1.7171717171717171,1.8181818181818181,1.9191919191919191,2.0202020202020203,2.121212121212121,2.2222222222222223,2.323232323232323,2.4242424242424243,2.525252525252525,2.6262626262626263,2.727272727272727,2.8282828282828283,2.929292929292929,3.0303030303030303,3.131313131313131,3.2323232323232323,3.3333333333333335,3.4343434343434343,3.5353535353535355,3.6363636363636362,3.7373737373737375,3.8383838383838382,3.9393939393939394,4.040404040404041,4.141414141414141,4.242424242424242,4.343434343434343,4.444444444444445,4.545454545454545,4.646464646464646,4.747474747474747,4.848484848484849,4.94949494949495,5.05050505050505,5.151515151515151,5.252525252525253,5.353535353535354,5.454545454545454,5.555555555555555,5.656565656565657,5.757575757575758,5.858585858585858,5.959595959595959,6.0606060606060606,6.161616161616162,6.262626262626262,6.363636363636363,6.4646464646464645,6.565656565656566,6.666666666666667,6.767676767676767,6.8686868686868685,6.96969696969697,7.070707070707071,7.171717171717171,7.2727272727272725,7.373737373737374,7.474747474747475,7.575757575757575,7.6767676767676765,7.777777777777778,7.878787878787879,7.979797979797979,8.080808080808081,8.181818181818182,8.282828282828282,8.383838383838384,8.484848484848484,8.585858585858587,8.686868686868687,8.787878787878787,8.88888888888889,8.98989898989899,9.09090909090909,9.191919191919192,9.292929292929292,9.393939393939394,9.494949494949495,9.595959595959595,9.696969696969697,9.797979797979798,9.8989898989899,10.0],\"y\":[0.0,0.05757575757575757,0.11515151515151514,0.17272727272727273,0.2303030303030303,0.28787878787878785,0.34545454545454546,0.403030303030303,0.4606060606060606,0.5181818181818181,0.5757575757575757,0.6333333333333333,0.6909090909090909,0.7484848484848484,0.806060606060606,0.8636363636363635,0.9212121212121211,0.9787878787878787,1.0363636363636362,1.0939393939393938,1.1515151515151514,1.209090909090909,1.2666666666666666,1.324242424242424,1.3818181818181818,1.4393939393939392,1.4969696969696968,1.5545454545454542,1.612121212121212,1.6696969696969695,1.727272727272727,1.7848484848484845,1.8424242424242423,1.9,1.9575757575757573,2.015151515151515,2.0727272727272723,2.1303030303030304,2.1878787878787875,2.245454545454545,2.3030303030303028,2.3606060606060604,2.418181818181818,2.4757575757575756,2.533333333333333,2.5909090909090904,2.648484848484848,2.7060606060606056,2.7636363636363637,2.8212121212121213,2.8787878787878785,2.936363636363636,2.9939393939393937,3.0515151515151513,3.1090909090909085,3.166666666666666,3.224242424242424,3.2818181818181817,3.339393939393939,3.3969696969696965,3.454545454545454,3.5121212121212118,3.569696969696969,3.627272727272727,3.6848484848484846,3.742424242424242,3.8,3.857575757575757,3.9151515151515146,3.972727272727272,4.03030303030303,4.087878787878787,4.145454545454545,4.203030303030302,4.260606060606061,4.3181818181818175,4.375757575757575,4.433333333333333,4.49090909090909,4.548484848484848,4.6060606060606055,4.663636363636363,4.721212121212121,4.778787878787878,4.836363636363636,4.893939393939394,4.951515151515151,5.009090909090908,5.066666666666666,5.124242424242424,5.181818181818181,5.239393939393939,5.296969696969696,5.3545454545454545,5.412121212121211,5.469696969696969,5.527272727272727,5.584848484848484,5.642424242424243,5.699999999999999],\"type\":\"scatter\"},{\"line\":{\"color\":\"purple\"},\"mode\":\"lines\",\"name\":\"theoretical\",\"x\":[0.0,0.10101010101010101,0.20202020202020202,0.30303030303030304,0.40404040404040403,0.5050505050505051,0.6060606060606061,0.7070707070707071,0.8080808080808081,0.9090909090909091,1.0101010101010102,1.1111111111111112,1.2121212121212122,1.3131313131313131,1.4141414141414141,1.5151515151515151,1.6161616161616161,1.7171717171717171,1.8181818181818181,1.9191919191919191,2.0202020202020203,2.121212121212121,2.2222222222222223,2.323232323232323,2.4242424242424243,2.525252525252525,2.6262626262626263,2.727272727272727,2.8282828282828283,2.929292929292929,3.0303030303030303,3.131313131313131,3.2323232323232323,3.3333333333333335,3.4343434343434343,3.5353535353535355,3.6363636363636362,3.7373737373737375,3.8383838383838382,3.9393939393939394,4.040404040404041,4.141414141414141,4.242424242424242,4.343434343434343,4.444444444444445,4.545454545454545,4.646464646464646,4.747474747474747,4.848484848484849,4.94949494949495,5.05050505050505,5.151515151515151,5.252525252525253,5.353535353535354,5.454545454545454,5.555555555555555,5.656565656565657,5.757575757575758,5.858585858585858,5.959595959595959,6.0606060606060606,6.161616161616162,6.262626262626262,6.363636363636363,6.4646464646464645,6.565656565656566,6.666666666666667,6.767676767676767,6.8686868686868685,6.96969696969697,7.070707070707071,7.171717171717171,7.2727272727272725,7.373737373737374,7.474747474747475,7.575757575757575,7.6767676767676765,7.777777777777778,7.878787878787879,7.979797979797979,8.080808080808081,8.181818181818182,8.282828282828282,8.383838383838384,8.484848484848484,8.585858585858587,8.686868686868687,8.787878787878787,8.88888888888889,8.98989898989899,9.09090909090909,9.191919191919192,9.292929292929292,9.393939393939394,9.494949494949495,9.595959595959595,9.696969696969697,9.797979797979798,9.8989898989899,10.0],\"y\":[0.0,0.07171717171717171,0.14343434343434341,0.21515151515151515,0.28686868686868683,0.35858585858585856,0.4303030303030303,0.502020202020202,0.5737373737373737,0.6454545454545454,0.7171717171717171,0.7888888888888889,0.8606060606060606,0.9323232323232323,1.004040404040404,1.0757575757575757,1.1474747474747473,1.2191919191919192,1.2909090909090908,1.3626262626262624,1.4343434343434343,1.5060606060606059,1.5777777777777777,1.6494949494949493,1.7212121212121212,1.7929292929292928,1.8646464646464647,1.936363636363636,2.008080808080808,2.0797979797979793,2.1515151515151514,2.223232323232323,2.2949494949494946,2.3666666666666667,2.4383838383838383,2.51010101010101,2.5818181818181816,2.6535353535353536,2.725252525252525,2.796969696969697,2.8686868686868685,2.94040404040404,3.0121212121212118,3.083838383838384,3.1555555555555554,3.2272727272727266,3.2989898989898987,3.3707070707070703,3.4424242424242424,3.514141414141414,3.5858585858585856,3.6575757575757573,3.7292929292929293,3.801010101010101,3.872727272727272,3.944444444444444,4.016161616161616,4.087878787878788,4.159595959595959,4.231313131313131,4.303030303030303,4.374747474747474,4.446464646464646,4.518181818181818,4.589898989898989,4.661616161616162,4.733333333333333,4.805050505050504,4.876767676767677,4.948484848484848,5.02020202020202,5.0919191919191915,5.163636363636363,5.235353535353535,5.307070707070707,5.378787878787878,5.45050505050505,5.522222222222222,5.593939393939394,5.665656565656565,5.737373737373737,5.809090909090909,5.88080808080808,5.952525252525253,6.0242424242424235,6.095959595959596,6.167676767676768,6.239393939393938,6.311111111111111,6.3828282828282825,6.454545454545453,6.526262626262626,6.597979797979797,6.66969696969697,6.741414141414141,6.813131313131312,6.884848484848485,6.9565656565656555,7.028282828282828,7.1],\"type\":\"scatter\"}],                        {\"template\":{\"data\":{\"histogram2dcontour\":[{\"type\":\"histogram2dcontour\",\"colorbar\":{\"outlinewidth\":0,\"ticks\":\"\"},\"colorscale\":[[0.0,\"#0d0887\"],[0.1111111111111111,\"#46039f\"],[0.2222222222222222,\"#7201a8\"],[0.3333333333333333,\"#9c179e\"],[0.4444444444444444,\"#bd3786\"],[0.5555555555555556,\"#d8576b\"],[0.6666666666666666,\"#ed7953\"],[0.7777777777777778,\"#fb9f3a\"],[0.8888888888888888,\"#fdca26\"],[1.0,\"#f0f921\"]]}],\"choropleth\":[{\"type\":\"choropleth\",\"colorbar\":{\"outlinewidth\":0,\"ticks\":\"\"}}],\"histogram2d\":[{\"type\":\"histogram2d\",\"colorbar\":{\"outlinewidth\":0,\"ticks\":\"\"},\"colorscale\":[[0.0,\"#0d0887\"],[0.1111111111111111,\"#46039f\"],[0.2222222222222222,\"#7201a8\"],[0.3333333333333333,\"#9c179e\"],[0.4444444444444444,\"#bd3786\"],[0.5555555555555556,\"#d8576b\"],[0.6666666666666666,\"#ed7953\"],[0.7777777777777778,\"#fb9f3a\"],[0.8888888888888888,\"#fdca26\"],[1.0,\"#f0f921\"]]}],\"heatmap\":[{\"type\":\"heatmap\",\"colorbar\":{\"outlinewidth\":0,\"ticks\":\"\"},\"colorscale\":[[0.0,\"#0d0887\"],[0.1111111111111111,\"#46039f\"],[0.2222222222222222,\"#7201a8\"],[0.3333333333333333,\"#9c179e\"],[0.4444444444444444,\"#bd3786\"],[0.5555555555555556,\"#d8576b\"],[0.6666666666666666,\"#ed7953\"],[0.7777777777777778,\"#fb9f3a\"],[0.8888888888888888,\"#fdca26\"],[1.0,\"#f0f921\"]]}],\"heatmapgl\":[{\"type\":\"heatmapgl\",\"colorbar\":{\"outlinewidth\":0,\"ticks\":\"\"},\"colorscale\":[[0.0,\"#0d0887\"],[0.1111111111111111,\"#46039f\"],[0.2222222222222222,\"#7201a8\"],[0.3333333333333333,\"#9c179e\"],[0.4444444444444444,\"#bd3786\"],[0.5555555555555556,\"#d8576b\"],[0.6666666666666666,\"#ed7953\"],[0.7777777777777778,\"#fb9f3a\"],[0.8888888888888888,\"#fdca26\"],[1.0,\"#f0f921\"]]}],\"contourcarpet\":[{\"type\":\"contourcarpet\",\"colorbar\":{\"outlinewidth\":0,\"ticks\":\"\"}}],\"contour\":[{\"type\":\"contour\",\"colorbar\":{\"outlinewidth\":0,\"ticks\":\"\"},\"colorscale\":[[0.0,\"#0d0887\"],[0.1111111111111111,\"#46039f\"],[0.2222222222222222,\"#7201a8\"],[0.3333333333333333,\"#9c179e\"],[0.4444444444444444,\"#bd3786\"],[0.5555555555555556,\"#d8576b\"],[0.6666666666666666,\"#ed7953\"],[0.7777777777777778,\"#fb9f3a\"],[0.8888888888888888,\"#fdca26\"],[1.0,\"#f0f921\"]]}],\"surface\":[{\"type\":\"surface\",\"colorbar\":{\"outlinewidth\":0,\"ticks\":\"\"},\"colorscale\":[[0.0,\"#0d0887\"],[0.1111111111111111,\"#46039f\"],[0.2222222222222222,\"#7201a8\"],[0.3333333333333333,\"#9c179e\"],[0.4444444444444444,\"#bd3786\"],[0.5555555555555556,\"#d8576b\"],[0.6666666666666666,\"#ed7953\"],[0.7777777777777778,\"#fb9f3a\"],[0.8888888888888888,\"#fdca26\"],[1.0,\"#f0f921\"]]}],\"mesh3d\":[{\"type\":\"mesh3d\",\"colorbar\":{\"outlinewidth\":0,\"ticks\":\"\"}}],\"scatter\":[{\"fillpattern\":{\"fillmode\":\"overlay\",\"size\":10,\"solidity\":0.2},\"type\":\"scatter\"}],\"parcoords\":[{\"type\":\"parcoords\",\"line\":{\"colorbar\":{\"outlinewidth\":0,\"ticks\":\"\"}}}],\"scatterpolargl\":[{\"type\":\"scatterpolargl\",\"marker\":{\"colorbar\":{\"outlinewidth\":0,\"ticks\":\"\"}}}],\"bar\":[{\"error_x\":{\"color\":\"#2a3f5f\"},\"error_y\":{\"color\":\"#2a3f5f\"},\"marker\":{\"line\":{\"color\":\"#E5ECF6\",\"width\":0.5},\"pattern\":{\"fillmode\":\"overlay\",\"size\":10,\"solidity\":0.2}},\"type\":\"bar\"}],\"scattergeo\":[{\"type\":\"scattergeo\",\"marker\":{\"colorbar\":{\"outlinewidth\":0,\"ticks\":\"\"}}}],\"scatterpolar\":[{\"type\":\"scatterpolar\",\"marker\":{\"colorbar\":{\"outlinewidth\":0,\"ticks\":\"\"}}}],\"histogram\":[{\"marker\":{\"pattern\":{\"fillmode\":\"overlay\",\"size\":10,\"solidity\":0.2}},\"type\":\"histogram\"}],\"scattergl\":[{\"type\":\"scattergl\",\"marker\":{\"colorbar\":{\"outlinewidth\":0,\"ticks\":\"\"}}}],\"scatter3d\":[{\"type\":\"scatter3d\",\"line\":{\"colorbar\":{\"outlinewidth\":0,\"ticks\":\"\"}},\"marker\":{\"colorbar\":{\"outlinewidth\":0,\"ticks\":\"\"}}}],\"scattermapbox\":[{\"type\":\"scattermapbox\",\"marker\":{\"colorbar\":{\"outlinewidth\":0,\"ticks\":\"\"}}}],\"scatterternary\":[{\"type\":\"scatterternary\",\"marker\":{\"colorbar\":{\"outlinewidth\":0,\"ticks\":\"\"}}}],\"scattercarpet\":[{\"type\":\"scattercarpet\",\"marker\":{\"colorbar\":{\"outlinewidth\":0,\"ticks\":\"\"}}}],\"carpet\":[{\"aaxis\":{\"endlinecolor\":\"#2a3f5f\",\"gridcolor\":\"white\",\"linecolor\":\"white\",\"minorgridcolor\":\"white\",\"startlinecolor\":\"#2a3f5f\"},\"baxis\":{\"endlinecolor\":\"#2a3f5f\",\"gridcolor\":\"white\",\"linecolor\":\"white\",\"minorgridcolor\":\"white\",\"startlinecolor\":\"#2a3f5f\"},\"type\":\"carpet\"}],\"table\":[{\"cells\":{\"fill\":{\"color\":\"#EBF0F8\"},\"line\":{\"color\":\"white\"}},\"header\":{\"fill\":{\"color\":\"#C8D4E3\"},\"line\":{\"color\":\"white\"}},\"type\":\"table\"}],\"barpolar\":[{\"marker\":{\"line\":{\"color\":\"#E5ECF6\",\"width\":0.5},\"pattern\":{\"fillmode\":\"overlay\",\"size\":10,\"solidity\":0.2}},\"type\":\"barpolar\"}],\"pie\":[{\"automargin\":true,\"type\":\"pie\"}]},\"layout\":{\"autotypenumbers\":\"strict\",\"colorway\":[\"#636efa\",\"#EF553B\",\"#00cc96\",\"#ab63fa\",\"#FFA15A\",\"#19d3f3\",\"#FF6692\",\"#B6E880\",\"#FF97FF\",\"#FECB52\"],\"font\":{\"color\":\"#2a3f5f\"},\"hovermode\":\"closest\",\"hoverlabel\":{\"align\":\"left\"},\"paper_bgcolor\":\"white\",\"plot_bgcolor\":\"#E5ECF6\",\"polar\":{\"bgcolor\":\"#E5ECF6\",\"angularaxis\":{\"gridcolor\":\"white\",\"linecolor\":\"white\",\"ticks\":\"\"},\"radialaxis\":{\"gridcolor\":\"white\",\"linecolor\":\"white\",\"ticks\":\"\"}},\"ternary\":{\"bgcolor\":\"#E5ECF6\",\"aaxis\":{\"gridcolor\":\"white\",\"linecolor\":\"white\",\"ticks\":\"\"},\"baxis\":{\"gridcolor\":\"white\",\"linecolor\":\"white\",\"ticks\":\"\"},\"caxis\":{\"gridcolor\":\"white\",\"linecolor\":\"white\",\"ticks\":\"\"}},\"coloraxis\":{\"colorbar\":{\"outlinewidth\":0,\"ticks\":\"\"}},\"colorscale\":{\"sequential\":[[0.0,\"#0d0887\"],[0.1111111111111111,\"#46039f\"],[0.2222222222222222,\"#7201a8\"],[0.3333333333333333,\"#9c179e\"],[0.4444444444444444,\"#bd3786\"],[0.5555555555555556,\"#d8576b\"],[0.6666666666666666,\"#ed7953\"],[0.7777777777777778,\"#fb9f3a\"],[0.8888888888888888,\"#fdca26\"],[1.0,\"#f0f921\"]],\"sequentialminus\":[[0.0,\"#0d0887\"],[0.1111111111111111,\"#46039f\"],[0.2222222222222222,\"#7201a8\"],[0.3333333333333333,\"#9c179e\"],[0.4444444444444444,\"#bd3786\"],[0.5555555555555556,\"#d8576b\"],[0.6666666666666666,\"#ed7953\"],[0.7777777777777778,\"#fb9f3a\"],[0.8888888888888888,\"#fdca26\"],[1.0,\"#f0f921\"]],\"diverging\":[[0,\"#8e0152\"],[0.1,\"#c51b7d\"],[0.2,\"#de77ae\"],[0.3,\"#f1b6da\"],[0.4,\"#fde0ef\"],[0.5,\"#f7f7f7\"],[0.6,\"#e6f5d0\"],[0.7,\"#b8e186\"],[0.8,\"#7fbc41\"],[0.9,\"#4d9221\"],[1,\"#276419\"]]},\"xaxis\":{\"gridcolor\":\"white\",\"linecolor\":\"white\",\"ticks\":\"\",\"title\":{\"standoff\":15},\"zerolinecolor\":\"white\",\"automargin\":true,\"zerolinewidth\":2},\"yaxis\":{\"gridcolor\":\"white\",\"linecolor\":\"white\",\"ticks\":\"\",\"title\":{\"standoff\":15},\"zerolinecolor\":\"white\",\"automargin\":true,\"zerolinewidth\":2},\"scene\":{\"xaxis\":{\"backgroundcolor\":\"#E5ECF6\",\"gridcolor\":\"white\",\"linecolor\":\"white\",\"showbackground\":true,\"ticks\":\"\",\"zerolinecolor\":\"white\",\"gridwidth\":2},\"yaxis\":{\"backgroundcolor\":\"#E5ECF6\",\"gridcolor\":\"white\",\"linecolor\":\"white\",\"showbackground\":true,\"ticks\":\"\",\"zerolinecolor\":\"white\",\"gridwidth\":2},\"zaxis\":{\"backgroundcolor\":\"#E5ECF6\",\"gridcolor\":\"white\",\"linecolor\":\"white\",\"showbackground\":true,\"ticks\":\"\",\"zerolinecolor\":\"white\",\"gridwidth\":2}},\"shapedefaults\":{\"line\":{\"color\":\"#2a3f5f\"}},\"annotationdefaults\":{\"arrowcolor\":\"#2a3f5f\",\"arrowhead\":0,\"arrowwidth\":1},\"geo\":{\"bgcolor\":\"white\",\"landcolor\":\"#E5ECF6\",\"subunitcolor\":\"white\",\"showland\":true,\"showlakes\":true,\"lakecolor\":\"white\"},\"title\":{\"x\":0.05},\"mapbox\":{\"style\":\"light\"}}},\"annotations\":[{\"font\":{\"size\":20},\"showarrow\":false,\"text\":\"death\",\"x\":0.9,\"y\":0.8},{\"font\":{\"size\":20},\"showarrow\":false,\"text\":\"no doubling\",\"x\":0.8,\"y\":0.95},{\"font\":{\"size\":20},\"showarrow\":false,\"text\":\"1-2 doublings\",\"x\":0.35,\"y\":0.95},{\"font\":{\"size\":20},\"showarrow\":false,\"text\":\"\\u22652 doublings\",\"x\":0.11,\"y\":0.95},{\"font\":{\"size\":16},\"showarrow\":false,\"text\":\"Y theoretical = .71\",\"x\":0.6,\"y\":0.3},{\"font\":{\"size\":16},\"showarrow\":false,\"text\":\"Y WT (best of) = .57\",\"x\":0.4,\"y\":0.1}],\"xaxis\":{\"title\":{\"text\":\"ADP1 with CGP from Phase 1 (OD600)\"},\"range\":[0,1]},\"yaxis\":{\"title\":{\"text\":\"ADP1 in Phase 2 (OD600)\"},\"range\":[0,1]},\"showlegend\":false,\"width\":700,\"height\":700,\"plot_bgcolor\":\"rgba(0,0,0,0)\"},                        {\"responsive\": true}                    ).then(function(){\n",
       "                            \n",
       "var gd = document.getElementById('67cb0b0c-72d5-4be3-9175-2ec364d1766d');\n",
       "var x = new MutationObserver(function (mutations, observer) {{\n",
       "        var display = window.getComputedStyle(gd).display;\n",
       "        if (!display || display === 'none') {{\n",
       "            console.log([gd, 'removed!']);\n",
       "            Plotly.purge(gd);\n",
       "            observer.disconnect();\n",
       "        }}\n",
       "}});\n",
       "\n",
       "// Listen for the removal of the full notebook cells\n",
       "var notebookContainer = gd.closest('#notebook-container');\n",
       "if (notebookContainer) {{\n",
       "    x.observe(notebookContainer, {childList: true});\n",
       "}}\n",
       "\n",
       "// Listen for the clearing of the current output cell\n",
       "var outputEl = gd.closest('.output');\n",
       "if (outputEl) {{\n",
       "    x.observe(outputEl, {childList: true});\n",
       "}}\n",
       "\n",
       "                        })                };                });            </script>        </div>"
      ]
     },
     "metadata": {},
     "output_type": "display_data"
    }
   ],
   "execution_count": 26
  },
  {
   "metadata": {
    "ExecuteTime": {
     "end_time": "2024-10-04T20:39:35.354931Z",
     "start_time": "2024-10-04T20:39:35.336618Z"
    }
   },
   "cell_type": "code",
   "source": "[6.85/9.7, 2/3.53]",
   "id": "4a9315fe29644611",
   "outputs": [
    {
     "data": {
      "text/plain": [
       "[0.7061855670103093, 0.56657223796034]"
      ]
     },
     "execution_count": 20,
     "metadata": {},
     "output_type": "execute_result"
    }
   ],
   "execution_count": 20
  },
  {
   "metadata": {},
   "cell_type": "code",
   "outputs": [],
   "execution_count": null,
   "source": "",
   "id": "f74623230b9b3e6b"
  }
 ],
 "metadata": {
  "kernelspec": {
   "display_name": "Python 3",
   "language": "python",
   "name": "python3"
  },
  "language_info": {
   "codemirror_mode": {
    "name": "ipython",
    "version": 2
   },
   "file_extension": ".py",
   "mimetype": "text/x-python",
   "name": "python",
   "nbconvert_exporter": "python",
   "pygments_lexer": "ipython2",
   "version": "2.7.6"
  }
 },
 "nbformat": 4,
 "nbformat_minor": 5
}

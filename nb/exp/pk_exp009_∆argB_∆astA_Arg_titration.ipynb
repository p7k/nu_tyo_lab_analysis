{
 "cells": [
  {
   "metadata": {
    "ExecuteTime": {
     "end_time": "2024-10-16T18:35:45.471854Z",
     "start_time": "2024-10-16T18:35:42.338188Z"
    }
   },
   "cell_type": "code",
   "source": [
    "import numpy as np\n",
    "import pandas as pd\n",
    "import plotly.express as px\n",
    "import plotly.graph_objects as go\n",
    "import plotly.io as pio\n",
    "from pint import UnitRegistry\n",
    "from scipy.stats.mstats import hmean\n",
    "\n",
    "from analysis.util import dedup_trace_legends"
   ],
   "id": "ae147dc6f28479ae",
   "outputs": [],
   "execution_count": 1
  },
  {
   "metadata": {
    "ExecuteTime": {
     "end_time": "2024-10-16T18:35:46.612282Z",
     "start_time": "2024-10-16T18:35:46.265975Z"
    }
   },
   "cell_type": "code",
   "source": [
    "units = UnitRegistry()\n",
    "\n",
    "# noinspection PyTypeChecker\n",
    "df_od = (\n",
    "    pd.read_excel(\n",
    "        '/Users/pasha/Library/CloudStorage/OneDrive-NorthwesternUniversity/Katsev Pavel/04',\n",
    "        sheet_name='Day 3 - 5 OD tracking',\n",
    "        usecols='A:J',\n",
    "        skiprows=3,\n",
    "    )\n",
    "    .assign(arg_conc=lambda df: df.condition.str.split('•').str.get(0).apply(units.parse_expression))\n",
    "    .assign(arg_conc_uM=lambda df: df.arg_conc.apply(lambda qty: int(qty.to('micromolar').magnitude)))\n",
    "    # .assign(lim=lambda df: np.abs((df.od_sample - df.od_sample.mean()) / df.od_sample.std(ddof=0)) < 3)\n",
    ")\n",
    "df_od"
   ],
   "id": "d9851c8e4d00f8a3",
   "outputs": [
    {
     "data": {
      "text/plain": [
       "              timestamp  elapsed_time_hr  sample_id     strain_id condition  \\\n",
       "0   2024-10-13 18:00:00              0.0        1.1  KSF107 ∆argB   0µM•Arg   \n",
       "1   2024-10-13 18:00:00              0.0        1.2  KSF107 ∆argB   0µM•Arg   \n",
       "2   2024-10-13 18:00:00              0.0        1.3  KSF107 ∆argB   0µM•Arg   \n",
       "3   2024-10-13 18:00:00              0.0        7.1  KSF111 ∆argB   0µM•Arg   \n",
       "4   2024-10-13 18:00:00              0.0        7.2  KSF111 ∆argB   0µM•Arg   \n",
       "..                  ...              ...        ...           ...       ...   \n",
       "175 2024-10-16 12:30:00             66.5        6.2  KSF107 ∆argB   1mM•Arg   \n",
       "176 2024-10-16 12:30:00             66.5        6.3  KSF107 ∆argB   1mM•Arg   \n",
       "177 2024-10-16 12:30:00             66.5       12.1  KSF111 ∆argB   1mM•Arg   \n",
       "178 2024-10-16 12:30:00             66.5       12.2  KSF111 ∆argB   1mM•Arg   \n",
       "179 2024-10-16 12:30:00             66.5       12.3  KSF111 ∆argB   1mM•Arg   \n",
       "\n",
       "          blank_src  conc_factor  od_blank_diluted  od_sample_diluted  \\\n",
       "0    1mM•Arg SubMix            4             0.038              0.147   \n",
       "1    1mM•Arg SubMix            4             0.038              0.154   \n",
       "2    1mM•Arg SubMix            4             0.038              0.155   \n",
       "3    1mM•Arg SubMix            4             0.038              0.163   \n",
       "4    1mM•Arg SubMix            4             0.038              0.153   \n",
       "..              ...          ...               ...                ...   \n",
       "175  1mM•Arg SubMix            4             0.038              0.327   \n",
       "176  1mM•Arg SubMix            4             0.038              0.342   \n",
       "177  1mM•Arg SubMix            4             0.038              0.340   \n",
       "178  1mM•Arg SubMix            4             0.038              0.350   \n",
       "179  1mM•Arg SubMix            4             0.038              0.372   \n",
       "\n",
       "     od_sample      arg_conc  arg_conc_uM  \n",
       "0        0.436  0 micromolar            0  \n",
       "1        0.464  0 micromolar            0  \n",
       "2        0.468  0 micromolar            0  \n",
       "3        0.500  0 micromolar            0  \n",
       "4        0.460  0 micromolar            0  \n",
       "..         ...           ...          ...  \n",
       "175      1.156  1 millimolar         1000  \n",
       "176      1.216  1 millimolar         1000  \n",
       "177      1.208  1 millimolar         1000  \n",
       "178      1.248  1 millimolar         1000  \n",
       "179      1.336  1 millimolar         1000  \n",
       "\n",
       "[180 rows x 12 columns]"
      ],
      "text/html": [
       "<div>\n",
       "<style scoped>\n",
       "    .dataframe tbody tr th:only-of-type {\n",
       "        vertical-align: middle;\n",
       "    }\n",
       "\n",
       "    .dataframe tbody tr th {\n",
       "        vertical-align: top;\n",
       "    }\n",
       "\n",
       "    .dataframe thead th {\n",
       "        text-align: right;\n",
       "    }\n",
       "</style>\n",
       "<table border=\"1\" class=\"dataframe\">\n",
       "  <thead>\n",
       "    <tr style=\"text-align: right;\">\n",
       "      <th></th>\n",
       "      <th>timestamp</th>\n",
       "      <th>elapsed_time_hr</th>\n",
       "      <th>sample_id</th>\n",
       "      <th>strain_id</th>\n",
       "      <th>condition</th>\n",
       "      <th>blank_src</th>\n",
       "      <th>conc_factor</th>\n",
       "      <th>od_blank_diluted</th>\n",
       "      <th>od_sample_diluted</th>\n",
       "      <th>od_sample</th>\n",
       "      <th>arg_conc</th>\n",
       "      <th>arg_conc_uM</th>\n",
       "    </tr>\n",
       "  </thead>\n",
       "  <tbody>\n",
       "    <tr>\n",
       "      <th>0</th>\n",
       "      <td>2024-10-13 18:00:00</td>\n",
       "      <td>0.0</td>\n",
       "      <td>1.1</td>\n",
       "      <td>KSF107 ∆argB</td>\n",
       "      <td>0µM•Arg</td>\n",
       "      <td>1mM•Arg SubMix</td>\n",
       "      <td>4</td>\n",
       "      <td>0.038</td>\n",
       "      <td>0.147</td>\n",
       "      <td>0.436</td>\n",
       "      <td>0 micromolar</td>\n",
       "      <td>0</td>\n",
       "    </tr>\n",
       "    <tr>\n",
       "      <th>1</th>\n",
       "      <td>2024-10-13 18:00:00</td>\n",
       "      <td>0.0</td>\n",
       "      <td>1.2</td>\n",
       "      <td>KSF107 ∆argB</td>\n",
       "      <td>0µM•Arg</td>\n",
       "      <td>1mM•Arg SubMix</td>\n",
       "      <td>4</td>\n",
       "      <td>0.038</td>\n",
       "      <td>0.154</td>\n",
       "      <td>0.464</td>\n",
       "      <td>0 micromolar</td>\n",
       "      <td>0</td>\n",
       "    </tr>\n",
       "    <tr>\n",
       "      <th>2</th>\n",
       "      <td>2024-10-13 18:00:00</td>\n",
       "      <td>0.0</td>\n",
       "      <td>1.3</td>\n",
       "      <td>KSF107 ∆argB</td>\n",
       "      <td>0µM•Arg</td>\n",
       "      <td>1mM•Arg SubMix</td>\n",
       "      <td>4</td>\n",
       "      <td>0.038</td>\n",
       "      <td>0.155</td>\n",
       "      <td>0.468</td>\n",
       "      <td>0 micromolar</td>\n",
       "      <td>0</td>\n",
       "    </tr>\n",
       "    <tr>\n",
       "      <th>3</th>\n",
       "      <td>2024-10-13 18:00:00</td>\n",
       "      <td>0.0</td>\n",
       "      <td>7.1</td>\n",
       "      <td>KSF111 ∆argB</td>\n",
       "      <td>0µM•Arg</td>\n",
       "      <td>1mM•Arg SubMix</td>\n",
       "      <td>4</td>\n",
       "      <td>0.038</td>\n",
       "      <td>0.163</td>\n",
       "      <td>0.500</td>\n",
       "      <td>0 micromolar</td>\n",
       "      <td>0</td>\n",
       "    </tr>\n",
       "    <tr>\n",
       "      <th>4</th>\n",
       "      <td>2024-10-13 18:00:00</td>\n",
       "      <td>0.0</td>\n",
       "      <td>7.2</td>\n",
       "      <td>KSF111 ∆argB</td>\n",
       "      <td>0µM•Arg</td>\n",
       "      <td>1mM•Arg SubMix</td>\n",
       "      <td>4</td>\n",
       "      <td>0.038</td>\n",
       "      <td>0.153</td>\n",
       "      <td>0.460</td>\n",
       "      <td>0 micromolar</td>\n",
       "      <td>0</td>\n",
       "    </tr>\n",
       "    <tr>\n",
       "      <th>...</th>\n",
       "      <td>...</td>\n",
       "      <td>...</td>\n",
       "      <td>...</td>\n",
       "      <td>...</td>\n",
       "      <td>...</td>\n",
       "      <td>...</td>\n",
       "      <td>...</td>\n",
       "      <td>...</td>\n",
       "      <td>...</td>\n",
       "      <td>...</td>\n",
       "      <td>...</td>\n",
       "      <td>...</td>\n",
       "    </tr>\n",
       "    <tr>\n",
       "      <th>175</th>\n",
       "      <td>2024-10-16 12:30:00</td>\n",
       "      <td>66.5</td>\n",
       "      <td>6.2</td>\n",
       "      <td>KSF107 ∆argB</td>\n",
       "      <td>1mM•Arg</td>\n",
       "      <td>1mM•Arg SubMix</td>\n",
       "      <td>4</td>\n",
       "      <td>0.038</td>\n",
       "      <td>0.327</td>\n",
       "      <td>1.156</td>\n",
       "      <td>1 millimolar</td>\n",
       "      <td>1000</td>\n",
       "    </tr>\n",
       "    <tr>\n",
       "      <th>176</th>\n",
       "      <td>2024-10-16 12:30:00</td>\n",
       "      <td>66.5</td>\n",
       "      <td>6.3</td>\n",
       "      <td>KSF107 ∆argB</td>\n",
       "      <td>1mM•Arg</td>\n",
       "      <td>1mM•Arg SubMix</td>\n",
       "      <td>4</td>\n",
       "      <td>0.038</td>\n",
       "      <td>0.342</td>\n",
       "      <td>1.216</td>\n",
       "      <td>1 millimolar</td>\n",
       "      <td>1000</td>\n",
       "    </tr>\n",
       "    <tr>\n",
       "      <th>177</th>\n",
       "      <td>2024-10-16 12:30:00</td>\n",
       "      <td>66.5</td>\n",
       "      <td>12.1</td>\n",
       "      <td>KSF111 ∆argB</td>\n",
       "      <td>1mM•Arg</td>\n",
       "      <td>1mM•Arg SubMix</td>\n",
       "      <td>4</td>\n",
       "      <td>0.038</td>\n",
       "      <td>0.340</td>\n",
       "      <td>1.208</td>\n",
       "      <td>1 millimolar</td>\n",
       "      <td>1000</td>\n",
       "    </tr>\n",
       "    <tr>\n",
       "      <th>178</th>\n",
       "      <td>2024-10-16 12:30:00</td>\n",
       "      <td>66.5</td>\n",
       "      <td>12.2</td>\n",
       "      <td>KSF111 ∆argB</td>\n",
       "      <td>1mM•Arg</td>\n",
       "      <td>1mM•Arg SubMix</td>\n",
       "      <td>4</td>\n",
       "      <td>0.038</td>\n",
       "      <td>0.350</td>\n",
       "      <td>1.248</td>\n",
       "      <td>1 millimolar</td>\n",
       "      <td>1000</td>\n",
       "    </tr>\n",
       "    <tr>\n",
       "      <th>179</th>\n",
       "      <td>2024-10-16 12:30:00</td>\n",
       "      <td>66.5</td>\n",
       "      <td>12.3</td>\n",
       "      <td>KSF111 ∆argB</td>\n",
       "      <td>1mM•Arg</td>\n",
       "      <td>1mM•Arg SubMix</td>\n",
       "      <td>4</td>\n",
       "      <td>0.038</td>\n",
       "      <td>0.372</td>\n",
       "      <td>1.336</td>\n",
       "      <td>1 millimolar</td>\n",
       "      <td>1000</td>\n",
       "    </tr>\n",
       "  </tbody>\n",
       "</table>\n",
       "<p>180 rows × 12 columns</p>\n",
       "</div>"
      ]
     },
     "execution_count": 2,
     "metadata": {},
     "output_type": "execute_result"
    }
   ],
   "execution_count": 2
  },
  {
   "metadata": {
    "ExecuteTime": {
     "end_time": "2024-10-16T18:35:47.767223Z",
     "start_time": "2024-10-16T18:35:47.754535Z"
    }
   },
   "cell_type": "code",
   "source": [
    "df_od_mean_sem = df_od.groupby(['elapsed_time_hr', 'strain_id', 'arg_conc_uM'], sort=False).agg(\n",
    "    od_sample_mean=pd.NamedAgg('od_sample', 'mean'),\n",
    "    od_sample_sem=pd.NamedAgg('od_sample', 'sem'),\n",
    ").round(3).reset_index()\n",
    "df_od_mean_sem"
   ],
   "id": "e8a7a8c98971b82e",
   "outputs": [
    {
     "data": {
      "text/plain": [
       "    elapsed_time_hr     strain_id  arg_conc_uM  od_sample_mean  od_sample_sem\n",
       "0               0.0  KSF107 ∆argB            0           0.456          0.010\n",
       "1               0.0  KSF111 ∆argB            0           0.560          0.081\n",
       "2               0.0  KSF107 ∆argB           50           0.552          0.075\n",
       "3               0.0  KSF111 ∆argB           50           0.661          0.084\n",
       "4               0.0  KSF107 ∆argB          100           0.672          0.072\n",
       "5               0.0  KSF111 ∆argB          100           0.671          0.185\n",
       "6               0.0  KSF107 ∆argB          400           0.940          0.177\n",
       "7               0.0  KSF111 ∆argB          400           0.719          0.169\n",
       "8               0.0  KSF107 ∆argB          700           0.888          0.217\n",
       "9               0.0  KSF111 ∆argB          700           0.743          0.089\n",
       "10              0.0  KSF107 ∆argB         1000           1.065          0.187\n",
       "11              0.0  KSF111 ∆argB         1000           0.884          0.232\n",
       "12             15.5  KSF107 ∆argB            0           0.657          0.019\n",
       "13             15.5  KSF111 ∆argB            0           0.761          0.004\n",
       "14             15.5  KSF107 ∆argB           50           0.872          0.012\n",
       "15             15.5  KSF111 ∆argB           50           0.995          0.017\n",
       "16             15.5  KSF107 ∆argB          100           0.888          0.017\n",
       "17             15.5  KSF111 ∆argB          100           0.979          0.015\n",
       "18             15.5  KSF107 ∆argB          400           0.973          0.011\n",
       "19             15.5  KSF111 ∆argB          400           1.028          0.040\n",
       "20             15.5  KSF107 ∆argB          700           1.005          0.017\n",
       "21             15.5  KSF111 ∆argB          700           1.084          0.047\n",
       "22             15.5  KSF107 ∆argB         1000           1.039          0.049\n",
       "23             15.5  KSF111 ∆argB         1000           1.092          0.048\n",
       "24             23.5  KSF107 ∆argB            0           0.644          0.014\n",
       "25             23.5  KSF111 ∆argB            0           0.749          0.019\n",
       "26             23.5  KSF107 ∆argB           50           0.927          0.021\n",
       "27             23.5  KSF111 ∆argB           50           1.169          0.015\n",
       "28             23.5  KSF107 ∆argB          100           0.977          0.022\n",
       "29             23.5  KSF111 ∆argB          100           1.175          0.005\n",
       "30             23.5  KSF107 ∆argB          400           1.055          0.029\n",
       "31             23.5  KSF111 ∆argB          400           1.283          0.035\n",
       "32             23.5  KSF107 ∆argB          700           1.133          0.041\n",
       "33             23.5  KSF111 ∆argB          700           1.355          0.021\n",
       "34             23.5  KSF107 ∆argB         1000           1.176          0.018\n",
       "35             23.5  KSF111 ∆argB         1000           1.409          0.032\n",
       "36             30.0  KSF107 ∆argB            0           0.589          0.007\n",
       "37             30.0  KSF111 ∆argB            0           0.681          0.020\n",
       "38             30.0  KSF107 ∆argB           50           0.896          0.011\n",
       "39             30.0  KSF111 ∆argB           50           1.028          0.017\n",
       "40             30.0  KSF107 ∆argB          100           0.933          0.015\n",
       "41             30.0  KSF111 ∆argB          100           1.043          0.009\n",
       "42             30.0  KSF107 ∆argB          400           1.044          0.045\n",
       "43             30.0  KSF111 ∆argB          400           1.175          0.025\n",
       "44             30.0  KSF107 ∆argB          700           1.161          0.038\n",
       "45             30.0  KSF111 ∆argB          700           1.284          0.081\n",
       "46             30.0  KSF107 ∆argB         1000           1.161          0.045\n",
       "47             30.0  KSF111 ∆argB         1000           1.357          0.096\n",
       "48             66.5  KSF107 ∆argB            0           0.603          0.009\n",
       "49             66.5  KSF111 ∆argB            0           0.679          0.013\n",
       "50             66.5  KSF107 ∆argB           50           0.905          0.020\n",
       "51             66.5  KSF111 ∆argB           50           1.017          0.016\n",
       "52             66.5  KSF107 ∆argB          100           0.985          0.013\n",
       "53             66.5  KSF111 ∆argB          100           1.039          0.023\n",
       "54             66.5  KSF107 ∆argB          400           1.103          0.047\n",
       "55             66.5  KSF111 ∆argB          400           1.135          0.036\n",
       "56             66.5  KSF107 ∆argB          700           1.171          0.020\n",
       "57             66.5  KSF111 ∆argB          700           1.224          0.056\n",
       "58             66.5  KSF107 ∆argB         1000           1.169          0.024\n",
       "59             66.5  KSF111 ∆argB         1000           1.264          0.038"
      ],
      "text/html": [
       "<div>\n",
       "<style scoped>\n",
       "    .dataframe tbody tr th:only-of-type {\n",
       "        vertical-align: middle;\n",
       "    }\n",
       "\n",
       "    .dataframe tbody tr th {\n",
       "        vertical-align: top;\n",
       "    }\n",
       "\n",
       "    .dataframe thead th {\n",
       "        text-align: right;\n",
       "    }\n",
       "</style>\n",
       "<table border=\"1\" class=\"dataframe\">\n",
       "  <thead>\n",
       "    <tr style=\"text-align: right;\">\n",
       "      <th></th>\n",
       "      <th>elapsed_time_hr</th>\n",
       "      <th>strain_id</th>\n",
       "      <th>arg_conc_uM</th>\n",
       "      <th>od_sample_mean</th>\n",
       "      <th>od_sample_sem</th>\n",
       "    </tr>\n",
       "  </thead>\n",
       "  <tbody>\n",
       "    <tr>\n",
       "      <th>0</th>\n",
       "      <td>0.0</td>\n",
       "      <td>KSF107 ∆argB</td>\n",
       "      <td>0</td>\n",
       "      <td>0.456</td>\n",
       "      <td>0.010</td>\n",
       "    </tr>\n",
       "    <tr>\n",
       "      <th>1</th>\n",
       "      <td>0.0</td>\n",
       "      <td>KSF111 ∆argB</td>\n",
       "      <td>0</td>\n",
       "      <td>0.560</td>\n",
       "      <td>0.081</td>\n",
       "    </tr>\n",
       "    <tr>\n",
       "      <th>2</th>\n",
       "      <td>0.0</td>\n",
       "      <td>KSF107 ∆argB</td>\n",
       "      <td>50</td>\n",
       "      <td>0.552</td>\n",
       "      <td>0.075</td>\n",
       "    </tr>\n",
       "    <tr>\n",
       "      <th>3</th>\n",
       "      <td>0.0</td>\n",
       "      <td>KSF111 ∆argB</td>\n",
       "      <td>50</td>\n",
       "      <td>0.661</td>\n",
       "      <td>0.084</td>\n",
       "    </tr>\n",
       "    <tr>\n",
       "      <th>4</th>\n",
       "      <td>0.0</td>\n",
       "      <td>KSF107 ∆argB</td>\n",
       "      <td>100</td>\n",
       "      <td>0.672</td>\n",
       "      <td>0.072</td>\n",
       "    </tr>\n",
       "    <tr>\n",
       "      <th>5</th>\n",
       "      <td>0.0</td>\n",
       "      <td>KSF111 ∆argB</td>\n",
       "      <td>100</td>\n",
       "      <td>0.671</td>\n",
       "      <td>0.185</td>\n",
       "    </tr>\n",
       "    <tr>\n",
       "      <th>6</th>\n",
       "      <td>0.0</td>\n",
       "      <td>KSF107 ∆argB</td>\n",
       "      <td>400</td>\n",
       "      <td>0.940</td>\n",
       "      <td>0.177</td>\n",
       "    </tr>\n",
       "    <tr>\n",
       "      <th>7</th>\n",
       "      <td>0.0</td>\n",
       "      <td>KSF111 ∆argB</td>\n",
       "      <td>400</td>\n",
       "      <td>0.719</td>\n",
       "      <td>0.169</td>\n",
       "    </tr>\n",
       "    <tr>\n",
       "      <th>8</th>\n",
       "      <td>0.0</td>\n",
       "      <td>KSF107 ∆argB</td>\n",
       "      <td>700</td>\n",
       "      <td>0.888</td>\n",
       "      <td>0.217</td>\n",
       "    </tr>\n",
       "    <tr>\n",
       "      <th>9</th>\n",
       "      <td>0.0</td>\n",
       "      <td>KSF111 ∆argB</td>\n",
       "      <td>700</td>\n",
       "      <td>0.743</td>\n",
       "      <td>0.089</td>\n",
       "    </tr>\n",
       "    <tr>\n",
       "      <th>10</th>\n",
       "      <td>0.0</td>\n",
       "      <td>KSF107 ∆argB</td>\n",
       "      <td>1000</td>\n",
       "      <td>1.065</td>\n",
       "      <td>0.187</td>\n",
       "    </tr>\n",
       "    <tr>\n",
       "      <th>11</th>\n",
       "      <td>0.0</td>\n",
       "      <td>KSF111 ∆argB</td>\n",
       "      <td>1000</td>\n",
       "      <td>0.884</td>\n",
       "      <td>0.232</td>\n",
       "    </tr>\n",
       "    <tr>\n",
       "      <th>12</th>\n",
       "      <td>15.5</td>\n",
       "      <td>KSF107 ∆argB</td>\n",
       "      <td>0</td>\n",
       "      <td>0.657</td>\n",
       "      <td>0.019</td>\n",
       "    </tr>\n",
       "    <tr>\n",
       "      <th>13</th>\n",
       "      <td>15.5</td>\n",
       "      <td>KSF111 ∆argB</td>\n",
       "      <td>0</td>\n",
       "      <td>0.761</td>\n",
       "      <td>0.004</td>\n",
       "    </tr>\n",
       "    <tr>\n",
       "      <th>14</th>\n",
       "      <td>15.5</td>\n",
       "      <td>KSF107 ∆argB</td>\n",
       "      <td>50</td>\n",
       "      <td>0.872</td>\n",
       "      <td>0.012</td>\n",
       "    </tr>\n",
       "    <tr>\n",
       "      <th>15</th>\n",
       "      <td>15.5</td>\n",
       "      <td>KSF111 ∆argB</td>\n",
       "      <td>50</td>\n",
       "      <td>0.995</td>\n",
       "      <td>0.017</td>\n",
       "    </tr>\n",
       "    <tr>\n",
       "      <th>16</th>\n",
       "      <td>15.5</td>\n",
       "      <td>KSF107 ∆argB</td>\n",
       "      <td>100</td>\n",
       "      <td>0.888</td>\n",
       "      <td>0.017</td>\n",
       "    </tr>\n",
       "    <tr>\n",
       "      <th>17</th>\n",
       "      <td>15.5</td>\n",
       "      <td>KSF111 ∆argB</td>\n",
       "      <td>100</td>\n",
       "      <td>0.979</td>\n",
       "      <td>0.015</td>\n",
       "    </tr>\n",
       "    <tr>\n",
       "      <th>18</th>\n",
       "      <td>15.5</td>\n",
       "      <td>KSF107 ∆argB</td>\n",
       "      <td>400</td>\n",
       "      <td>0.973</td>\n",
       "      <td>0.011</td>\n",
       "    </tr>\n",
       "    <tr>\n",
       "      <th>19</th>\n",
       "      <td>15.5</td>\n",
       "      <td>KSF111 ∆argB</td>\n",
       "      <td>400</td>\n",
       "      <td>1.028</td>\n",
       "      <td>0.040</td>\n",
       "    </tr>\n",
       "    <tr>\n",
       "      <th>20</th>\n",
       "      <td>15.5</td>\n",
       "      <td>KSF107 ∆argB</td>\n",
       "      <td>700</td>\n",
       "      <td>1.005</td>\n",
       "      <td>0.017</td>\n",
       "    </tr>\n",
       "    <tr>\n",
       "      <th>21</th>\n",
       "      <td>15.5</td>\n",
       "      <td>KSF111 ∆argB</td>\n",
       "      <td>700</td>\n",
       "      <td>1.084</td>\n",
       "      <td>0.047</td>\n",
       "    </tr>\n",
       "    <tr>\n",
       "      <th>22</th>\n",
       "      <td>15.5</td>\n",
       "      <td>KSF107 ∆argB</td>\n",
       "      <td>1000</td>\n",
       "      <td>1.039</td>\n",
       "      <td>0.049</td>\n",
       "    </tr>\n",
       "    <tr>\n",
       "      <th>23</th>\n",
       "      <td>15.5</td>\n",
       "      <td>KSF111 ∆argB</td>\n",
       "      <td>1000</td>\n",
       "      <td>1.092</td>\n",
       "      <td>0.048</td>\n",
       "    </tr>\n",
       "    <tr>\n",
       "      <th>24</th>\n",
       "      <td>23.5</td>\n",
       "      <td>KSF107 ∆argB</td>\n",
       "      <td>0</td>\n",
       "      <td>0.644</td>\n",
       "      <td>0.014</td>\n",
       "    </tr>\n",
       "    <tr>\n",
       "      <th>25</th>\n",
       "      <td>23.5</td>\n",
       "      <td>KSF111 ∆argB</td>\n",
       "      <td>0</td>\n",
       "      <td>0.749</td>\n",
       "      <td>0.019</td>\n",
       "    </tr>\n",
       "    <tr>\n",
       "      <th>26</th>\n",
       "      <td>23.5</td>\n",
       "      <td>KSF107 ∆argB</td>\n",
       "      <td>50</td>\n",
       "      <td>0.927</td>\n",
       "      <td>0.021</td>\n",
       "    </tr>\n",
       "    <tr>\n",
       "      <th>27</th>\n",
       "      <td>23.5</td>\n",
       "      <td>KSF111 ∆argB</td>\n",
       "      <td>50</td>\n",
       "      <td>1.169</td>\n",
       "      <td>0.015</td>\n",
       "    </tr>\n",
       "    <tr>\n",
       "      <th>28</th>\n",
       "      <td>23.5</td>\n",
       "      <td>KSF107 ∆argB</td>\n",
       "      <td>100</td>\n",
       "      <td>0.977</td>\n",
       "      <td>0.022</td>\n",
       "    </tr>\n",
       "    <tr>\n",
       "      <th>29</th>\n",
       "      <td>23.5</td>\n",
       "      <td>KSF111 ∆argB</td>\n",
       "      <td>100</td>\n",
       "      <td>1.175</td>\n",
       "      <td>0.005</td>\n",
       "    </tr>\n",
       "    <tr>\n",
       "      <th>30</th>\n",
       "      <td>23.5</td>\n",
       "      <td>KSF107 ∆argB</td>\n",
       "      <td>400</td>\n",
       "      <td>1.055</td>\n",
       "      <td>0.029</td>\n",
       "    </tr>\n",
       "    <tr>\n",
       "      <th>31</th>\n",
       "      <td>23.5</td>\n",
       "      <td>KSF111 ∆argB</td>\n",
       "      <td>400</td>\n",
       "      <td>1.283</td>\n",
       "      <td>0.035</td>\n",
       "    </tr>\n",
       "    <tr>\n",
       "      <th>32</th>\n",
       "      <td>23.5</td>\n",
       "      <td>KSF107 ∆argB</td>\n",
       "      <td>700</td>\n",
       "      <td>1.133</td>\n",
       "      <td>0.041</td>\n",
       "    </tr>\n",
       "    <tr>\n",
       "      <th>33</th>\n",
       "      <td>23.5</td>\n",
       "      <td>KSF111 ∆argB</td>\n",
       "      <td>700</td>\n",
       "      <td>1.355</td>\n",
       "      <td>0.021</td>\n",
       "    </tr>\n",
       "    <tr>\n",
       "      <th>34</th>\n",
       "      <td>23.5</td>\n",
       "      <td>KSF107 ∆argB</td>\n",
       "      <td>1000</td>\n",
       "      <td>1.176</td>\n",
       "      <td>0.018</td>\n",
       "    </tr>\n",
       "    <tr>\n",
       "      <th>35</th>\n",
       "      <td>23.5</td>\n",
       "      <td>KSF111 ∆argB</td>\n",
       "      <td>1000</td>\n",
       "      <td>1.409</td>\n",
       "      <td>0.032</td>\n",
       "    </tr>\n",
       "    <tr>\n",
       "      <th>36</th>\n",
       "      <td>30.0</td>\n",
       "      <td>KSF107 ∆argB</td>\n",
       "      <td>0</td>\n",
       "      <td>0.589</td>\n",
       "      <td>0.007</td>\n",
       "    </tr>\n",
       "    <tr>\n",
       "      <th>37</th>\n",
       "      <td>30.0</td>\n",
       "      <td>KSF111 ∆argB</td>\n",
       "      <td>0</td>\n",
       "      <td>0.681</td>\n",
       "      <td>0.020</td>\n",
       "    </tr>\n",
       "    <tr>\n",
       "      <th>38</th>\n",
       "      <td>30.0</td>\n",
       "      <td>KSF107 ∆argB</td>\n",
       "      <td>50</td>\n",
       "      <td>0.896</td>\n",
       "      <td>0.011</td>\n",
       "    </tr>\n",
       "    <tr>\n",
       "      <th>39</th>\n",
       "      <td>30.0</td>\n",
       "      <td>KSF111 ∆argB</td>\n",
       "      <td>50</td>\n",
       "      <td>1.028</td>\n",
       "      <td>0.017</td>\n",
       "    </tr>\n",
       "    <tr>\n",
       "      <th>40</th>\n",
       "      <td>30.0</td>\n",
       "      <td>KSF107 ∆argB</td>\n",
       "      <td>100</td>\n",
       "      <td>0.933</td>\n",
       "      <td>0.015</td>\n",
       "    </tr>\n",
       "    <tr>\n",
       "      <th>41</th>\n",
       "      <td>30.0</td>\n",
       "      <td>KSF111 ∆argB</td>\n",
       "      <td>100</td>\n",
       "      <td>1.043</td>\n",
       "      <td>0.009</td>\n",
       "    </tr>\n",
       "    <tr>\n",
       "      <th>42</th>\n",
       "      <td>30.0</td>\n",
       "      <td>KSF107 ∆argB</td>\n",
       "      <td>400</td>\n",
       "      <td>1.044</td>\n",
       "      <td>0.045</td>\n",
       "    </tr>\n",
       "    <tr>\n",
       "      <th>43</th>\n",
       "      <td>30.0</td>\n",
       "      <td>KSF111 ∆argB</td>\n",
       "      <td>400</td>\n",
       "      <td>1.175</td>\n",
       "      <td>0.025</td>\n",
       "    </tr>\n",
       "    <tr>\n",
       "      <th>44</th>\n",
       "      <td>30.0</td>\n",
       "      <td>KSF107 ∆argB</td>\n",
       "      <td>700</td>\n",
       "      <td>1.161</td>\n",
       "      <td>0.038</td>\n",
       "    </tr>\n",
       "    <tr>\n",
       "      <th>45</th>\n",
       "      <td>30.0</td>\n",
       "      <td>KSF111 ∆argB</td>\n",
       "      <td>700</td>\n",
       "      <td>1.284</td>\n",
       "      <td>0.081</td>\n",
       "    </tr>\n",
       "    <tr>\n",
       "      <th>46</th>\n",
       "      <td>30.0</td>\n",
       "      <td>KSF107 ∆argB</td>\n",
       "      <td>1000</td>\n",
       "      <td>1.161</td>\n",
       "      <td>0.045</td>\n",
       "    </tr>\n",
       "    <tr>\n",
       "      <th>47</th>\n",
       "      <td>30.0</td>\n",
       "      <td>KSF111 ∆argB</td>\n",
       "      <td>1000</td>\n",
       "      <td>1.357</td>\n",
       "      <td>0.096</td>\n",
       "    </tr>\n",
       "    <tr>\n",
       "      <th>48</th>\n",
       "      <td>66.5</td>\n",
       "      <td>KSF107 ∆argB</td>\n",
       "      <td>0</td>\n",
       "      <td>0.603</td>\n",
       "      <td>0.009</td>\n",
       "    </tr>\n",
       "    <tr>\n",
       "      <th>49</th>\n",
       "      <td>66.5</td>\n",
       "      <td>KSF111 ∆argB</td>\n",
       "      <td>0</td>\n",
       "      <td>0.679</td>\n",
       "      <td>0.013</td>\n",
       "    </tr>\n",
       "    <tr>\n",
       "      <th>50</th>\n",
       "      <td>66.5</td>\n",
       "      <td>KSF107 ∆argB</td>\n",
       "      <td>50</td>\n",
       "      <td>0.905</td>\n",
       "      <td>0.020</td>\n",
       "    </tr>\n",
       "    <tr>\n",
       "      <th>51</th>\n",
       "      <td>66.5</td>\n",
       "      <td>KSF111 ∆argB</td>\n",
       "      <td>50</td>\n",
       "      <td>1.017</td>\n",
       "      <td>0.016</td>\n",
       "    </tr>\n",
       "    <tr>\n",
       "      <th>52</th>\n",
       "      <td>66.5</td>\n",
       "      <td>KSF107 ∆argB</td>\n",
       "      <td>100</td>\n",
       "      <td>0.985</td>\n",
       "      <td>0.013</td>\n",
       "    </tr>\n",
       "    <tr>\n",
       "      <th>53</th>\n",
       "      <td>66.5</td>\n",
       "      <td>KSF111 ∆argB</td>\n",
       "      <td>100</td>\n",
       "      <td>1.039</td>\n",
       "      <td>0.023</td>\n",
       "    </tr>\n",
       "    <tr>\n",
       "      <th>54</th>\n",
       "      <td>66.5</td>\n",
       "      <td>KSF107 ∆argB</td>\n",
       "      <td>400</td>\n",
       "      <td>1.103</td>\n",
       "      <td>0.047</td>\n",
       "    </tr>\n",
       "    <tr>\n",
       "      <th>55</th>\n",
       "      <td>66.5</td>\n",
       "      <td>KSF111 ∆argB</td>\n",
       "      <td>400</td>\n",
       "      <td>1.135</td>\n",
       "      <td>0.036</td>\n",
       "    </tr>\n",
       "    <tr>\n",
       "      <th>56</th>\n",
       "      <td>66.5</td>\n",
       "      <td>KSF107 ∆argB</td>\n",
       "      <td>700</td>\n",
       "      <td>1.171</td>\n",
       "      <td>0.020</td>\n",
       "    </tr>\n",
       "    <tr>\n",
       "      <th>57</th>\n",
       "      <td>66.5</td>\n",
       "      <td>KSF111 ∆argB</td>\n",
       "      <td>700</td>\n",
       "      <td>1.224</td>\n",
       "      <td>0.056</td>\n",
       "    </tr>\n",
       "    <tr>\n",
       "      <th>58</th>\n",
       "      <td>66.5</td>\n",
       "      <td>KSF107 ∆argB</td>\n",
       "      <td>1000</td>\n",
       "      <td>1.169</td>\n",
       "      <td>0.024</td>\n",
       "    </tr>\n",
       "    <tr>\n",
       "      <th>59</th>\n",
       "      <td>66.5</td>\n",
       "      <td>KSF111 ∆argB</td>\n",
       "      <td>1000</td>\n",
       "      <td>1.264</td>\n",
       "      <td>0.038</td>\n",
       "    </tr>\n",
       "  </tbody>\n",
       "</table>\n",
       "</div>"
      ]
     },
     "execution_count": 3,
     "metadata": {},
     "output_type": "execute_result"
    }
   ],
   "execution_count": 3
  },
  {
   "metadata": {
    "ExecuteTime": {
     "end_time": "2024-10-17T19:24:04.880874Z",
     "start_time": "2024-10-17T19:24:04.154459Z"
    }
   },
   "cell_type": "code",
   "source": [
    "fig_arg_response = px.bar(\n",
    "    df_od_mean_sem,\n",
    "    x='elapsed_time_hr',\n",
    "    y='od_sample_mean',\n",
    "    error_y='od_sample_sem',\n",
    "    color='strain_id',\n",
    "    facet_col='arg_conc_uM',\n",
    "    barmode='group',\n",
    "    labels={\n",
    "        'arg_conc_uM': '[Arg] µM',\n",
    "        'od_sample_mean': 'OD600_mean',\n",
    "        'strain_id': 'ADP1 strain',\n",
    "        'elapsed_time_hr': '',\n",
    "    },\n",
    ").add_traces(\n",
    "    px.line(\n",
    "        df_od_mean_sem,\n",
    "        x='elapsed_time_hr',\n",
    "        y='od_sample_mean',\n",
    "        color='strain_id',\n",
    "        facet_col='arg_conc_uM',\n",
    "        markers=False,\n",
    "    )['data']\n",
    ").update_layout(\n",
    "    title='OD ADP1 [KSF107 (∆astA ∆argB), KSF111 (∆astA ∆argBR)] | growth in dosed Arg after preculture and wash',\n",
    "    title_x=0.5,\n",
    "    showlegend=True,\n",
    "    boxmode='group',\n",
    "    boxgap=.8,  # Gap between boxes in the same group (0.5 makes them narrower)\n",
    "    boxgroupgap=0,  # Gap between different groups of boxes,\n",
    "    height=500,\n",
    "    xaxis_title='Elapsed Time [hr]',\n",
    "    # xaxis_title_x=.5,\n",
    ").for_each_trace(dedup_trace_legends())\n",
    "\n",
    "fig_arg_response.write_image('../../figures/pk_exp008_arg_response_raw.pdf')\n",
    "fig_arg_response"
   ],
   "id": "2c4b88eea3f9cc94",
   "outputs": [
    {
     "data": {
      "application/vnd.plotly.v1+json": {
       "data": [
        {
         "alignmentgroup": "True",
         "error_y": {
          "array": [
           0.01,
           0.019,
           0.014,
           0.007,
           0.009
          ]
         },
         "hovertemplate": "ADP1 strain=KSF107 ∆argB<br>[Arg] µM=0<br>=%{x}<br>OD600_mean=%{y}<extra></extra>",
         "legendgroup": "KSF107 ∆argB",
         "marker": {
          "color": "#636efa",
          "pattern": {
           "shape": ""
          }
         },
         "name": "KSF107 ∆argB",
         "offsetgroup": "KSF107 ∆argB",
         "orientation": "v",
         "showlegend": true,
         "textposition": "auto",
         "x": [
          0.0,
          15.500000000058208,
          23.499999999941792,
          30.0,
          66.50000000005821
         ],
         "xaxis": "x",
         "y": [
          0.456,
          0.657,
          0.644,
          0.589,
          0.603
         ],
         "yaxis": "y",
         "type": "bar"
        },
        {
         "alignmentgroup": "True",
         "error_y": {
          "array": [
           0.075,
           0.012,
           0.021,
           0.011,
           0.02
          ]
         },
         "hovertemplate": "ADP1 strain=KSF107 ∆argB<br>[Arg] µM=50<br>=%{x}<br>OD600_mean=%{y}<extra></extra>",
         "legendgroup": "KSF107 ∆argB",
         "marker": {
          "color": "#636efa",
          "pattern": {
           "shape": ""
          }
         },
         "name": "KSF107 ∆argB",
         "offsetgroup": "KSF107 ∆argB",
         "orientation": "v",
         "showlegend": false,
         "textposition": "auto",
         "x": [
          0.0,
          15.500000000058208,
          23.499999999941792,
          30.0,
          66.50000000005821
         ],
         "xaxis": "x2",
         "y": [
          0.552,
          0.872,
          0.927,
          0.896,
          0.905
         ],
         "yaxis": "y2",
         "type": "bar"
        },
        {
         "alignmentgroup": "True",
         "error_y": {
          "array": [
           0.072,
           0.017,
           0.022,
           0.015,
           0.013
          ]
         },
         "hovertemplate": "ADP1 strain=KSF107 ∆argB<br>[Arg] µM=100<br>=%{x}<br>OD600_mean=%{y}<extra></extra>",
         "legendgroup": "KSF107 ∆argB",
         "marker": {
          "color": "#636efa",
          "pattern": {
           "shape": ""
          }
         },
         "name": "KSF107 ∆argB",
         "offsetgroup": "KSF107 ∆argB",
         "orientation": "v",
         "showlegend": false,
         "textposition": "auto",
         "x": [
          0.0,
          15.500000000058208,
          23.499999999941792,
          30.0,
          66.50000000005821
         ],
         "xaxis": "x3",
         "y": [
          0.672,
          0.888,
          0.977,
          0.933,
          0.985
         ],
         "yaxis": "y3",
         "type": "bar"
        },
        {
         "alignmentgroup": "True",
         "error_y": {
          "array": [
           0.177,
           0.011,
           0.029,
           0.045,
           0.047
          ]
         },
         "hovertemplate": "ADP1 strain=KSF107 ∆argB<br>[Arg] µM=400<br>=%{x}<br>OD600_mean=%{y}<extra></extra>",
         "legendgroup": "KSF107 ∆argB",
         "marker": {
          "color": "#636efa",
          "pattern": {
           "shape": ""
          }
         },
         "name": "KSF107 ∆argB",
         "offsetgroup": "KSF107 ∆argB",
         "orientation": "v",
         "showlegend": false,
         "textposition": "auto",
         "x": [
          0.0,
          15.500000000058208,
          23.499999999941792,
          30.0,
          66.50000000005821
         ],
         "xaxis": "x4",
         "y": [
          0.94,
          0.973,
          1.055,
          1.044,
          1.103
         ],
         "yaxis": "y4",
         "type": "bar"
        },
        {
         "alignmentgroup": "True",
         "error_y": {
          "array": [
           0.217,
           0.017,
           0.041,
           0.038,
           0.02
          ]
         },
         "hovertemplate": "ADP1 strain=KSF107 ∆argB<br>[Arg] µM=700<br>=%{x}<br>OD600_mean=%{y}<extra></extra>",
         "legendgroup": "KSF107 ∆argB",
         "marker": {
          "color": "#636efa",
          "pattern": {
           "shape": ""
          }
         },
         "name": "KSF107 ∆argB",
         "offsetgroup": "KSF107 ∆argB",
         "orientation": "v",
         "showlegend": false,
         "textposition": "auto",
         "x": [
          0.0,
          15.500000000058208,
          23.499999999941792,
          30.0,
          66.50000000005821
         ],
         "xaxis": "x5",
         "y": [
          0.888,
          1.005,
          1.133,
          1.161,
          1.171
         ],
         "yaxis": "y5",
         "type": "bar"
        },
        {
         "alignmentgroup": "True",
         "error_y": {
          "array": [
           0.187,
           0.049,
           0.018,
           0.045,
           0.024
          ]
         },
         "hovertemplate": "ADP1 strain=KSF107 ∆argB<br>[Arg] µM=1000<br>=%{x}<br>OD600_mean=%{y}<extra></extra>",
         "legendgroup": "KSF107 ∆argB",
         "marker": {
          "color": "#636efa",
          "pattern": {
           "shape": ""
          }
         },
         "name": "KSF107 ∆argB",
         "offsetgroup": "KSF107 ∆argB",
         "orientation": "v",
         "showlegend": false,
         "textposition": "auto",
         "x": [
          0.0,
          15.500000000058208,
          23.499999999941792,
          30.0,
          66.50000000005821
         ],
         "xaxis": "x6",
         "y": [
          1.065,
          1.039,
          1.176,
          1.161,
          1.169
         ],
         "yaxis": "y6",
         "type": "bar"
        },
        {
         "alignmentgroup": "True",
         "error_y": {
          "array": [
           0.081,
           0.004,
           0.019,
           0.02,
           0.013
          ]
         },
         "hovertemplate": "ADP1 strain=KSF111 ∆argB<br>[Arg] µM=0<br>=%{x}<br>OD600_mean=%{y}<extra></extra>",
         "legendgroup": "KSF111 ∆argB",
         "marker": {
          "color": "#EF553B",
          "pattern": {
           "shape": ""
          }
         },
         "name": "KSF111 ∆argB",
         "offsetgroup": "KSF111 ∆argB",
         "orientation": "v",
         "showlegend": true,
         "textposition": "auto",
         "x": [
          0.0,
          15.500000000058208,
          23.499999999941792,
          30.0,
          66.50000000005821
         ],
         "xaxis": "x",
         "y": [
          0.56,
          0.761,
          0.749,
          0.681,
          0.679
         ],
         "yaxis": "y",
         "type": "bar"
        },
        {
         "alignmentgroup": "True",
         "error_y": {
          "array": [
           0.084,
           0.017,
           0.015,
           0.017,
           0.016
          ]
         },
         "hovertemplate": "ADP1 strain=KSF111 ∆argB<br>[Arg] µM=50<br>=%{x}<br>OD600_mean=%{y}<extra></extra>",
         "legendgroup": "KSF111 ∆argB",
         "marker": {
          "color": "#EF553B",
          "pattern": {
           "shape": ""
          }
         },
         "name": "KSF111 ∆argB",
         "offsetgroup": "KSF111 ∆argB",
         "orientation": "v",
         "showlegend": false,
         "textposition": "auto",
         "x": [
          0.0,
          15.500000000058208,
          23.499999999941792,
          30.0,
          66.50000000005821
         ],
         "xaxis": "x2",
         "y": [
          0.661,
          0.995,
          1.169,
          1.028,
          1.017
         ],
         "yaxis": "y2",
         "type": "bar"
        },
        {
         "alignmentgroup": "True",
         "error_y": {
          "array": [
           0.185,
           0.015,
           0.005,
           0.009,
           0.023
          ]
         },
         "hovertemplate": "ADP1 strain=KSF111 ∆argB<br>[Arg] µM=100<br>=%{x}<br>OD600_mean=%{y}<extra></extra>",
         "legendgroup": "KSF111 ∆argB",
         "marker": {
          "color": "#EF553B",
          "pattern": {
           "shape": ""
          }
         },
         "name": "KSF111 ∆argB",
         "offsetgroup": "KSF111 ∆argB",
         "orientation": "v",
         "showlegend": false,
         "textposition": "auto",
         "x": [
          0.0,
          15.500000000058208,
          23.499999999941792,
          30.0,
          66.50000000005821
         ],
         "xaxis": "x3",
         "y": [
          0.671,
          0.979,
          1.175,
          1.043,
          1.039
         ],
         "yaxis": "y3",
         "type": "bar"
        },
        {
         "alignmentgroup": "True",
         "error_y": {
          "array": [
           0.169,
           0.04,
           0.035,
           0.025,
           0.036
          ]
         },
         "hovertemplate": "ADP1 strain=KSF111 ∆argB<br>[Arg] µM=400<br>=%{x}<br>OD600_mean=%{y}<extra></extra>",
         "legendgroup": "KSF111 ∆argB",
         "marker": {
          "color": "#EF553B",
          "pattern": {
           "shape": ""
          }
         },
         "name": "KSF111 ∆argB",
         "offsetgroup": "KSF111 ∆argB",
         "orientation": "v",
         "showlegend": false,
         "textposition": "auto",
         "x": [
          0.0,
          15.500000000058208,
          23.499999999941792,
          30.0,
          66.50000000005821
         ],
         "xaxis": "x4",
         "y": [
          0.719,
          1.028,
          1.283,
          1.175,
          1.135
         ],
         "yaxis": "y4",
         "type": "bar"
        },
        {
         "alignmentgroup": "True",
         "error_y": {
          "array": [
           0.089,
           0.047,
           0.021,
           0.081,
           0.056
          ]
         },
         "hovertemplate": "ADP1 strain=KSF111 ∆argB<br>[Arg] µM=700<br>=%{x}<br>OD600_mean=%{y}<extra></extra>",
         "legendgroup": "KSF111 ∆argB",
         "marker": {
          "color": "#EF553B",
          "pattern": {
           "shape": ""
          }
         },
         "name": "KSF111 ∆argB",
         "offsetgroup": "KSF111 ∆argB",
         "orientation": "v",
         "showlegend": false,
         "textposition": "auto",
         "x": [
          0.0,
          15.500000000058208,
          23.499999999941792,
          30.0,
          66.50000000005821
         ],
         "xaxis": "x5",
         "y": [
          0.743,
          1.084,
          1.355,
          1.284,
          1.224
         ],
         "yaxis": "y5",
         "type": "bar"
        },
        {
         "alignmentgroup": "True",
         "error_y": {
          "array": [
           0.232,
           0.048,
           0.032,
           0.096,
           0.038
          ]
         },
         "hovertemplate": "ADP1 strain=KSF111 ∆argB<br>[Arg] µM=1000<br>=%{x}<br>OD600_mean=%{y}<extra></extra>",
         "legendgroup": "KSF111 ∆argB",
         "marker": {
          "color": "#EF553B",
          "pattern": {
           "shape": ""
          }
         },
         "name": "KSF111 ∆argB",
         "offsetgroup": "KSF111 ∆argB",
         "orientation": "v",
         "showlegend": false,
         "textposition": "auto",
         "x": [
          0.0,
          15.500000000058208,
          23.499999999941792,
          30.0,
          66.50000000005821
         ],
         "xaxis": "x6",
         "y": [
          0.884,
          1.092,
          1.409,
          1.357,
          1.264
         ],
         "yaxis": "y6",
         "type": "bar"
        },
        {
         "hovertemplate": "strain_id=KSF107 ∆argB<br>arg_conc_uM=0<br>elapsed_time_hr=%{x}<br>od_sample_mean=%{y}<extra></extra>",
         "legendgroup": "KSF107 ∆argB",
         "line": {
          "color": "#636efa",
          "dash": "solid"
         },
         "marker": {
          "symbol": "circle"
         },
         "mode": "lines",
         "name": "KSF107 ∆argB",
         "orientation": "v",
         "showlegend": false,
         "x": [
          0.0,
          15.500000000058208,
          23.499999999941792,
          30.0,
          66.50000000005821
         ],
         "xaxis": "x",
         "y": [
          0.456,
          0.657,
          0.644,
          0.589,
          0.603
         ],
         "yaxis": "y",
         "type": "scatter"
        },
        {
         "hovertemplate": "strain_id=KSF107 ∆argB<br>arg_conc_uM=50<br>elapsed_time_hr=%{x}<br>od_sample_mean=%{y}<extra></extra>",
         "legendgroup": "KSF107 ∆argB",
         "line": {
          "color": "#636efa",
          "dash": "solid"
         },
         "marker": {
          "symbol": "circle"
         },
         "mode": "lines",
         "name": "KSF107 ∆argB",
         "orientation": "v",
         "showlegend": false,
         "x": [
          0.0,
          15.500000000058208,
          23.499999999941792,
          30.0,
          66.50000000005821
         ],
         "xaxis": "x2",
         "y": [
          0.552,
          0.872,
          0.927,
          0.896,
          0.905
         ],
         "yaxis": "y2",
         "type": "scatter"
        },
        {
         "hovertemplate": "strain_id=KSF107 ∆argB<br>arg_conc_uM=100<br>elapsed_time_hr=%{x}<br>od_sample_mean=%{y}<extra></extra>",
         "legendgroup": "KSF107 ∆argB",
         "line": {
          "color": "#636efa",
          "dash": "solid"
         },
         "marker": {
          "symbol": "circle"
         },
         "mode": "lines",
         "name": "KSF107 ∆argB",
         "orientation": "v",
         "showlegend": false,
         "x": [
          0.0,
          15.500000000058208,
          23.499999999941792,
          30.0,
          66.50000000005821
         ],
         "xaxis": "x3",
         "y": [
          0.672,
          0.888,
          0.977,
          0.933,
          0.985
         ],
         "yaxis": "y3",
         "type": "scatter"
        },
        {
         "hovertemplate": "strain_id=KSF107 ∆argB<br>arg_conc_uM=400<br>elapsed_time_hr=%{x}<br>od_sample_mean=%{y}<extra></extra>",
         "legendgroup": "KSF107 ∆argB",
         "line": {
          "color": "#636efa",
          "dash": "solid"
         },
         "marker": {
          "symbol": "circle"
         },
         "mode": "lines",
         "name": "KSF107 ∆argB",
         "orientation": "v",
         "showlegend": false,
         "x": [
          0.0,
          15.500000000058208,
          23.499999999941792,
          30.0,
          66.50000000005821
         ],
         "xaxis": "x4",
         "y": [
          0.94,
          0.973,
          1.055,
          1.044,
          1.103
         ],
         "yaxis": "y4",
         "type": "scatter"
        },
        {
         "hovertemplate": "strain_id=KSF107 ∆argB<br>arg_conc_uM=700<br>elapsed_time_hr=%{x}<br>od_sample_mean=%{y}<extra></extra>",
         "legendgroup": "KSF107 ∆argB",
         "line": {
          "color": "#636efa",
          "dash": "solid"
         },
         "marker": {
          "symbol": "circle"
         },
         "mode": "lines",
         "name": "KSF107 ∆argB",
         "orientation": "v",
         "showlegend": false,
         "x": [
          0.0,
          15.500000000058208,
          23.499999999941792,
          30.0,
          66.50000000005821
         ],
         "xaxis": "x5",
         "y": [
          0.888,
          1.005,
          1.133,
          1.161,
          1.171
         ],
         "yaxis": "y5",
         "type": "scatter"
        },
        {
         "hovertemplate": "strain_id=KSF107 ∆argB<br>arg_conc_uM=1000<br>elapsed_time_hr=%{x}<br>od_sample_mean=%{y}<extra></extra>",
         "legendgroup": "KSF107 ∆argB",
         "line": {
          "color": "#636efa",
          "dash": "solid"
         },
         "marker": {
          "symbol": "circle"
         },
         "mode": "lines",
         "name": "KSF107 ∆argB",
         "orientation": "v",
         "showlegend": false,
         "x": [
          0.0,
          15.500000000058208,
          23.499999999941792,
          30.0,
          66.50000000005821
         ],
         "xaxis": "x6",
         "y": [
          1.065,
          1.039,
          1.176,
          1.161,
          1.169
         ],
         "yaxis": "y6",
         "type": "scatter"
        },
        {
         "hovertemplate": "strain_id=KSF111 ∆argB<br>arg_conc_uM=0<br>elapsed_time_hr=%{x}<br>od_sample_mean=%{y}<extra></extra>",
         "legendgroup": "KSF111 ∆argB",
         "line": {
          "color": "#EF553B",
          "dash": "solid"
         },
         "marker": {
          "symbol": "circle"
         },
         "mode": "lines",
         "name": "KSF111 ∆argB",
         "orientation": "v",
         "showlegend": false,
         "x": [
          0.0,
          15.500000000058208,
          23.499999999941792,
          30.0,
          66.50000000005821
         ],
         "xaxis": "x",
         "y": [
          0.56,
          0.761,
          0.749,
          0.681,
          0.679
         ],
         "yaxis": "y",
         "type": "scatter"
        },
        {
         "hovertemplate": "strain_id=KSF111 ∆argB<br>arg_conc_uM=50<br>elapsed_time_hr=%{x}<br>od_sample_mean=%{y}<extra></extra>",
         "legendgroup": "KSF111 ∆argB",
         "line": {
          "color": "#EF553B",
          "dash": "solid"
         },
         "marker": {
          "symbol": "circle"
         },
         "mode": "lines",
         "name": "KSF111 ∆argB",
         "orientation": "v",
         "showlegend": false,
         "x": [
          0.0,
          15.500000000058208,
          23.499999999941792,
          30.0,
          66.50000000005821
         ],
         "xaxis": "x2",
         "y": [
          0.661,
          0.995,
          1.169,
          1.028,
          1.017
         ],
         "yaxis": "y2",
         "type": "scatter"
        },
        {
         "hovertemplate": "strain_id=KSF111 ∆argB<br>arg_conc_uM=100<br>elapsed_time_hr=%{x}<br>od_sample_mean=%{y}<extra></extra>",
         "legendgroup": "KSF111 ∆argB",
         "line": {
          "color": "#EF553B",
          "dash": "solid"
         },
         "marker": {
          "symbol": "circle"
         },
         "mode": "lines",
         "name": "KSF111 ∆argB",
         "orientation": "v",
         "showlegend": false,
         "x": [
          0.0,
          15.500000000058208,
          23.499999999941792,
          30.0,
          66.50000000005821
         ],
         "xaxis": "x3",
         "y": [
          0.671,
          0.979,
          1.175,
          1.043,
          1.039
         ],
         "yaxis": "y3",
         "type": "scatter"
        },
        {
         "hovertemplate": "strain_id=KSF111 ∆argB<br>arg_conc_uM=400<br>elapsed_time_hr=%{x}<br>od_sample_mean=%{y}<extra></extra>",
         "legendgroup": "KSF111 ∆argB",
         "line": {
          "color": "#EF553B",
          "dash": "solid"
         },
         "marker": {
          "symbol": "circle"
         },
         "mode": "lines",
         "name": "KSF111 ∆argB",
         "orientation": "v",
         "showlegend": false,
         "x": [
          0.0,
          15.500000000058208,
          23.499999999941792,
          30.0,
          66.50000000005821
         ],
         "xaxis": "x4",
         "y": [
          0.719,
          1.028,
          1.283,
          1.175,
          1.135
         ],
         "yaxis": "y4",
         "type": "scatter"
        },
        {
         "hovertemplate": "strain_id=KSF111 ∆argB<br>arg_conc_uM=700<br>elapsed_time_hr=%{x}<br>od_sample_mean=%{y}<extra></extra>",
         "legendgroup": "KSF111 ∆argB",
         "line": {
          "color": "#EF553B",
          "dash": "solid"
         },
         "marker": {
          "symbol": "circle"
         },
         "mode": "lines",
         "name": "KSF111 ∆argB",
         "orientation": "v",
         "showlegend": false,
         "x": [
          0.0,
          15.500000000058208,
          23.499999999941792,
          30.0,
          66.50000000005821
         ],
         "xaxis": "x5",
         "y": [
          0.743,
          1.084,
          1.355,
          1.284,
          1.224
         ],
         "yaxis": "y5",
         "type": "scatter"
        },
        {
         "hovertemplate": "strain_id=KSF111 ∆argB<br>arg_conc_uM=1000<br>elapsed_time_hr=%{x}<br>od_sample_mean=%{y}<extra></extra>",
         "legendgroup": "KSF111 ∆argB",
         "line": {
          "color": "#EF553B",
          "dash": "solid"
         },
         "marker": {
          "symbol": "circle"
         },
         "mode": "lines",
         "name": "KSF111 ∆argB",
         "orientation": "v",
         "showlegend": false,
         "x": [
          0.0,
          15.500000000058208,
          23.499999999941792,
          30.0,
          66.50000000005821
         ],
         "xaxis": "x6",
         "y": [
          0.884,
          1.092,
          1.409,
          1.357,
          1.264
         ],
         "yaxis": "y6",
         "type": "scatter"
        }
       ],
       "layout": {
        "template": {
         "data": {
          "histogram2dcontour": [
           {
            "type": "histogram2dcontour",
            "colorbar": {
             "outlinewidth": 0,
             "ticks": ""
            },
            "colorscale": [
             [
              0.0,
              "#0d0887"
             ],
             [
              0.1111111111111111,
              "#46039f"
             ],
             [
              0.2222222222222222,
              "#7201a8"
             ],
             [
              0.3333333333333333,
              "#9c179e"
             ],
             [
              0.4444444444444444,
              "#bd3786"
             ],
             [
              0.5555555555555556,
              "#d8576b"
             ],
             [
              0.6666666666666666,
              "#ed7953"
             ],
             [
              0.7777777777777778,
              "#fb9f3a"
             ],
             [
              0.8888888888888888,
              "#fdca26"
             ],
             [
              1.0,
              "#f0f921"
             ]
            ]
           }
          ],
          "choropleth": [
           {
            "type": "choropleth",
            "colorbar": {
             "outlinewidth": 0,
             "ticks": ""
            }
           }
          ],
          "histogram2d": [
           {
            "type": "histogram2d",
            "colorbar": {
             "outlinewidth": 0,
             "ticks": ""
            },
            "colorscale": [
             [
              0.0,
              "#0d0887"
             ],
             [
              0.1111111111111111,
              "#46039f"
             ],
             [
              0.2222222222222222,
              "#7201a8"
             ],
             [
              0.3333333333333333,
              "#9c179e"
             ],
             [
              0.4444444444444444,
              "#bd3786"
             ],
             [
              0.5555555555555556,
              "#d8576b"
             ],
             [
              0.6666666666666666,
              "#ed7953"
             ],
             [
              0.7777777777777778,
              "#fb9f3a"
             ],
             [
              0.8888888888888888,
              "#fdca26"
             ],
             [
              1.0,
              "#f0f921"
             ]
            ]
           }
          ],
          "heatmap": [
           {
            "type": "heatmap",
            "colorbar": {
             "outlinewidth": 0,
             "ticks": ""
            },
            "colorscale": [
             [
              0.0,
              "#0d0887"
             ],
             [
              0.1111111111111111,
              "#46039f"
             ],
             [
              0.2222222222222222,
              "#7201a8"
             ],
             [
              0.3333333333333333,
              "#9c179e"
             ],
             [
              0.4444444444444444,
              "#bd3786"
             ],
             [
              0.5555555555555556,
              "#d8576b"
             ],
             [
              0.6666666666666666,
              "#ed7953"
             ],
             [
              0.7777777777777778,
              "#fb9f3a"
             ],
             [
              0.8888888888888888,
              "#fdca26"
             ],
             [
              1.0,
              "#f0f921"
             ]
            ]
           }
          ],
          "heatmapgl": [
           {
            "type": "heatmapgl",
            "colorbar": {
             "outlinewidth": 0,
             "ticks": ""
            },
            "colorscale": [
             [
              0.0,
              "#0d0887"
             ],
             [
              0.1111111111111111,
              "#46039f"
             ],
             [
              0.2222222222222222,
              "#7201a8"
             ],
             [
              0.3333333333333333,
              "#9c179e"
             ],
             [
              0.4444444444444444,
              "#bd3786"
             ],
             [
              0.5555555555555556,
              "#d8576b"
             ],
             [
              0.6666666666666666,
              "#ed7953"
             ],
             [
              0.7777777777777778,
              "#fb9f3a"
             ],
             [
              0.8888888888888888,
              "#fdca26"
             ],
             [
              1.0,
              "#f0f921"
             ]
            ]
           }
          ],
          "contourcarpet": [
           {
            "type": "contourcarpet",
            "colorbar": {
             "outlinewidth": 0,
             "ticks": ""
            }
           }
          ],
          "contour": [
           {
            "type": "contour",
            "colorbar": {
             "outlinewidth": 0,
             "ticks": ""
            },
            "colorscale": [
             [
              0.0,
              "#0d0887"
             ],
             [
              0.1111111111111111,
              "#46039f"
             ],
             [
              0.2222222222222222,
              "#7201a8"
             ],
             [
              0.3333333333333333,
              "#9c179e"
             ],
             [
              0.4444444444444444,
              "#bd3786"
             ],
             [
              0.5555555555555556,
              "#d8576b"
             ],
             [
              0.6666666666666666,
              "#ed7953"
             ],
             [
              0.7777777777777778,
              "#fb9f3a"
             ],
             [
              0.8888888888888888,
              "#fdca26"
             ],
             [
              1.0,
              "#f0f921"
             ]
            ]
           }
          ],
          "surface": [
           {
            "type": "surface",
            "colorbar": {
             "outlinewidth": 0,
             "ticks": ""
            },
            "colorscale": [
             [
              0.0,
              "#0d0887"
             ],
             [
              0.1111111111111111,
              "#46039f"
             ],
             [
              0.2222222222222222,
              "#7201a8"
             ],
             [
              0.3333333333333333,
              "#9c179e"
             ],
             [
              0.4444444444444444,
              "#bd3786"
             ],
             [
              0.5555555555555556,
              "#d8576b"
             ],
             [
              0.6666666666666666,
              "#ed7953"
             ],
             [
              0.7777777777777778,
              "#fb9f3a"
             ],
             [
              0.8888888888888888,
              "#fdca26"
             ],
             [
              1.0,
              "#f0f921"
             ]
            ]
           }
          ],
          "mesh3d": [
           {
            "type": "mesh3d",
            "colorbar": {
             "outlinewidth": 0,
             "ticks": ""
            }
           }
          ],
          "scatter": [
           {
            "fillpattern": {
             "fillmode": "overlay",
             "size": 10,
             "solidity": 0.2
            },
            "type": "scatter"
           }
          ],
          "parcoords": [
           {
            "type": "parcoords",
            "line": {
             "colorbar": {
              "outlinewidth": 0,
              "ticks": ""
             }
            }
           }
          ],
          "scatterpolargl": [
           {
            "type": "scatterpolargl",
            "marker": {
             "colorbar": {
              "outlinewidth": 0,
              "ticks": ""
             }
            }
           }
          ],
          "bar": [
           {
            "error_x": {
             "color": "#2a3f5f"
            },
            "error_y": {
             "color": "#2a3f5f"
            },
            "marker": {
             "line": {
              "color": "#E5ECF6",
              "width": 0.5
             },
             "pattern": {
              "fillmode": "overlay",
              "size": 10,
              "solidity": 0.2
             }
            },
            "type": "bar"
           }
          ],
          "scattergeo": [
           {
            "type": "scattergeo",
            "marker": {
             "colorbar": {
              "outlinewidth": 0,
              "ticks": ""
             }
            }
           }
          ],
          "scatterpolar": [
           {
            "type": "scatterpolar",
            "marker": {
             "colorbar": {
              "outlinewidth": 0,
              "ticks": ""
             }
            }
           }
          ],
          "histogram": [
           {
            "marker": {
             "pattern": {
              "fillmode": "overlay",
              "size": 10,
              "solidity": 0.2
             }
            },
            "type": "histogram"
           }
          ],
          "scattergl": [
           {
            "type": "scattergl",
            "marker": {
             "colorbar": {
              "outlinewidth": 0,
              "ticks": ""
             }
            }
           }
          ],
          "scatter3d": [
           {
            "type": "scatter3d",
            "line": {
             "colorbar": {
              "outlinewidth": 0,
              "ticks": ""
             }
            },
            "marker": {
             "colorbar": {
              "outlinewidth": 0,
              "ticks": ""
             }
            }
           }
          ],
          "scattermapbox": [
           {
            "type": "scattermapbox",
            "marker": {
             "colorbar": {
              "outlinewidth": 0,
              "ticks": ""
             }
            }
           }
          ],
          "scatterternary": [
           {
            "type": "scatterternary",
            "marker": {
             "colorbar": {
              "outlinewidth": 0,
              "ticks": ""
             }
            }
           }
          ],
          "scattercarpet": [
           {
            "type": "scattercarpet",
            "marker": {
             "colorbar": {
              "outlinewidth": 0,
              "ticks": ""
             }
            }
           }
          ],
          "carpet": [
           {
            "aaxis": {
             "endlinecolor": "#2a3f5f",
             "gridcolor": "white",
             "linecolor": "white",
             "minorgridcolor": "white",
             "startlinecolor": "#2a3f5f"
            },
            "baxis": {
             "endlinecolor": "#2a3f5f",
             "gridcolor": "white",
             "linecolor": "white",
             "minorgridcolor": "white",
             "startlinecolor": "#2a3f5f"
            },
            "type": "carpet"
           }
          ],
          "table": [
           {
            "cells": {
             "fill": {
              "color": "#EBF0F8"
             },
             "line": {
              "color": "white"
             }
            },
            "header": {
             "fill": {
              "color": "#C8D4E3"
             },
             "line": {
              "color": "white"
             }
            },
            "type": "table"
           }
          ],
          "barpolar": [
           {
            "marker": {
             "line": {
              "color": "#E5ECF6",
              "width": 0.5
             },
             "pattern": {
              "fillmode": "overlay",
              "size": 10,
              "solidity": 0.2
             }
            },
            "type": "barpolar"
           }
          ],
          "pie": [
           {
            "automargin": true,
            "type": "pie"
           }
          ]
         },
         "layout": {
          "autotypenumbers": "strict",
          "colorway": [
           "#636efa",
           "#EF553B",
           "#00cc96",
           "#ab63fa",
           "#FFA15A",
           "#19d3f3",
           "#FF6692",
           "#B6E880",
           "#FF97FF",
           "#FECB52"
          ],
          "font": {
           "color": "#2a3f5f"
          },
          "hovermode": "closest",
          "hoverlabel": {
           "align": "left"
          },
          "paper_bgcolor": "white",
          "plot_bgcolor": "#E5ECF6",
          "polar": {
           "bgcolor": "#E5ECF6",
           "angularaxis": {
            "gridcolor": "white",
            "linecolor": "white",
            "ticks": ""
           },
           "radialaxis": {
            "gridcolor": "white",
            "linecolor": "white",
            "ticks": ""
           }
          },
          "ternary": {
           "bgcolor": "#E5ECF6",
           "aaxis": {
            "gridcolor": "white",
            "linecolor": "white",
            "ticks": ""
           },
           "baxis": {
            "gridcolor": "white",
            "linecolor": "white",
            "ticks": ""
           },
           "caxis": {
            "gridcolor": "white",
            "linecolor": "white",
            "ticks": ""
           }
          },
          "coloraxis": {
           "colorbar": {
            "outlinewidth": 0,
            "ticks": ""
           }
          },
          "colorscale": {
           "sequential": [
            [
             0.0,
             "#0d0887"
            ],
            [
             0.1111111111111111,
             "#46039f"
            ],
            [
             0.2222222222222222,
             "#7201a8"
            ],
            [
             0.3333333333333333,
             "#9c179e"
            ],
            [
             0.4444444444444444,
             "#bd3786"
            ],
            [
             0.5555555555555556,
             "#d8576b"
            ],
            [
             0.6666666666666666,
             "#ed7953"
            ],
            [
             0.7777777777777778,
             "#fb9f3a"
            ],
            [
             0.8888888888888888,
             "#fdca26"
            ],
            [
             1.0,
             "#f0f921"
            ]
           ],
           "sequentialminus": [
            [
             0.0,
             "#0d0887"
            ],
            [
             0.1111111111111111,
             "#46039f"
            ],
            [
             0.2222222222222222,
             "#7201a8"
            ],
            [
             0.3333333333333333,
             "#9c179e"
            ],
            [
             0.4444444444444444,
             "#bd3786"
            ],
            [
             0.5555555555555556,
             "#d8576b"
            ],
            [
             0.6666666666666666,
             "#ed7953"
            ],
            [
             0.7777777777777778,
             "#fb9f3a"
            ],
            [
             0.8888888888888888,
             "#fdca26"
            ],
            [
             1.0,
             "#f0f921"
            ]
           ],
           "diverging": [
            [
             0,
             "#8e0152"
            ],
            [
             0.1,
             "#c51b7d"
            ],
            [
             0.2,
             "#de77ae"
            ],
            [
             0.3,
             "#f1b6da"
            ],
            [
             0.4,
             "#fde0ef"
            ],
            [
             0.5,
             "#f7f7f7"
            ],
            [
             0.6,
             "#e6f5d0"
            ],
            [
             0.7,
             "#b8e186"
            ],
            [
             0.8,
             "#7fbc41"
            ],
            [
             0.9,
             "#4d9221"
            ],
            [
             1,
             "#276419"
            ]
           ]
          },
          "xaxis": {
           "gridcolor": "white",
           "linecolor": "white",
           "ticks": "",
           "title": {
            "standoff": 15
           },
           "zerolinecolor": "white",
           "automargin": true,
           "zerolinewidth": 2
          },
          "yaxis": {
           "gridcolor": "white",
           "linecolor": "white",
           "ticks": "",
           "title": {
            "standoff": 15
           },
           "zerolinecolor": "white",
           "automargin": true,
           "zerolinewidth": 2
          },
          "scene": {
           "xaxis": {
            "backgroundcolor": "#E5ECF6",
            "gridcolor": "white",
            "linecolor": "white",
            "showbackground": true,
            "ticks": "",
            "zerolinecolor": "white",
            "gridwidth": 2
           },
           "yaxis": {
            "backgroundcolor": "#E5ECF6",
            "gridcolor": "white",
            "linecolor": "white",
            "showbackground": true,
            "ticks": "",
            "zerolinecolor": "white",
            "gridwidth": 2
           },
           "zaxis": {
            "backgroundcolor": "#E5ECF6",
            "gridcolor": "white",
            "linecolor": "white",
            "showbackground": true,
            "ticks": "",
            "zerolinecolor": "white",
            "gridwidth": 2
           }
          },
          "shapedefaults": {
           "line": {
            "color": "#2a3f5f"
           }
          },
          "annotationdefaults": {
           "arrowcolor": "#2a3f5f",
           "arrowhead": 0,
           "arrowwidth": 1
          },
          "geo": {
           "bgcolor": "white",
           "landcolor": "#E5ECF6",
           "subunitcolor": "white",
           "showland": true,
           "showlakes": true,
           "lakecolor": "white"
          },
          "title": {
           "x": 0.05
          },
          "mapbox": {
           "style": "light"
          }
         }
        },
        "xaxis": {
         "anchor": "y",
         "domain": [
          0.0,
          0.15
         ],
         "title": {
          "text": "Elapsed Time [hr]"
         }
        },
        "yaxis": {
         "anchor": "x",
         "domain": [
          0.0,
          1.0
         ],
         "title": {
          "text": "OD600_mean"
         }
        },
        "xaxis2": {
         "anchor": "y2",
         "domain": [
          0.16999999999999998,
          0.31999999999999995
         ],
         "matches": "x",
         "title": {
          "text": ""
         }
        },
        "yaxis2": {
         "anchor": "x2",
         "domain": [
          0.0,
          1.0
         ],
         "matches": "y",
         "showticklabels": false
        },
        "xaxis3": {
         "anchor": "y3",
         "domain": [
          0.33999999999999997,
          0.49
         ],
         "matches": "x",
         "title": {
          "text": ""
         }
        },
        "yaxis3": {
         "anchor": "x3",
         "domain": [
          0.0,
          1.0
         ],
         "matches": "y",
         "showticklabels": false
        },
        "xaxis4": {
         "anchor": "y4",
         "domain": [
          0.51,
          0.66
         ],
         "matches": "x",
         "title": {
          "text": ""
         }
        },
        "yaxis4": {
         "anchor": "x4",
         "domain": [
          0.0,
          1.0
         ],
         "matches": "y",
         "showticklabels": false
        },
        "xaxis5": {
         "anchor": "y5",
         "domain": [
          0.6799999999999999,
          0.83
         ],
         "matches": "x",
         "title": {
          "text": ""
         }
        },
        "yaxis5": {
         "anchor": "x5",
         "domain": [
          0.0,
          1.0
         ],
         "matches": "y",
         "showticklabels": false
        },
        "xaxis6": {
         "anchor": "y6",
         "domain": [
          0.85,
          1.0
         ],
         "matches": "x",
         "title": {
          "text": ""
         }
        },
        "yaxis6": {
         "anchor": "x6",
         "domain": [
          0.0,
          1.0
         ],
         "matches": "y",
         "showticklabels": false
        },
        "annotations": [
         {
          "font": {},
          "showarrow": false,
          "text": "[Arg] µM=0",
          "x": 0.075,
          "xanchor": "center",
          "xref": "paper",
          "y": 1.0,
          "yanchor": "bottom",
          "yref": "paper"
         },
         {
          "font": {},
          "showarrow": false,
          "text": "[Arg] µM=50",
          "x": 0.24499999999999997,
          "xanchor": "center",
          "xref": "paper",
          "y": 1.0,
          "yanchor": "bottom",
          "yref": "paper"
         },
         {
          "font": {},
          "showarrow": false,
          "text": "[Arg] µM=100",
          "x": 0.415,
          "xanchor": "center",
          "xref": "paper",
          "y": 1.0,
          "yanchor": "bottom",
          "yref": "paper"
         },
         {
          "font": {},
          "showarrow": false,
          "text": "[Arg] µM=400",
          "x": 0.585,
          "xanchor": "center",
          "xref": "paper",
          "y": 1.0,
          "yanchor": "bottom",
          "yref": "paper"
         },
         {
          "font": {},
          "showarrow": false,
          "text": "[Arg] µM=700",
          "x": 0.7549999999999999,
          "xanchor": "center",
          "xref": "paper",
          "y": 1.0,
          "yanchor": "bottom",
          "yref": "paper"
         },
         {
          "font": {},
          "showarrow": false,
          "text": "[Arg] µM=1000",
          "x": 0.925,
          "xanchor": "center",
          "xref": "paper",
          "y": 1.0,
          "yanchor": "bottom",
          "yref": "paper"
         }
        ],
        "legend": {
         "title": {
          "text": "ADP1 strain"
         },
         "tracegroupgap": 0
        },
        "margin": {
         "t": 60
        },
        "barmode": "group",
        "title": {
         "text": "OD ADP1 [KSF107 (∆astA ∆argB), KSF111 (∆astA ∆argBR)] | growth in dosed Arg after preculture and wash",
         "x": 0.5
        },
        "showlegend": true,
        "boxmode": "group",
        "boxgap": 0.8,
        "boxgroupgap": 0,
        "height": 500
       },
       "config": {
        "plotlyServerURL": "https://plot.ly"
       }
      },
      "text/html": [
       "<div>                            <div id=\"f13692c0-79c9-4e40-a3d6-f4df087c0301\" class=\"plotly-graph-div\" style=\"height:500px; width:100%;\"></div>            <script type=\"text/javascript\">                require([\"plotly\"], function(Plotly) {                    window.PLOTLYENV=window.PLOTLYENV || {};                                    if (document.getElementById(\"f13692c0-79c9-4e40-a3d6-f4df087c0301\")) {                    Plotly.newPlot(                        \"f13692c0-79c9-4e40-a3d6-f4df087c0301\",                        [{\"alignmentgroup\":\"True\",\"error_y\":{\"array\":[0.01,0.019,0.014,0.007,0.009]},\"hovertemplate\":\"ADP1 strain=KSF107 \\u2206argB\\u003cbr\\u003e[Arg] \\u00b5M=0\\u003cbr\\u003e=%{x}\\u003cbr\\u003eOD600_mean=%{y}\\u003cextra\\u003e\\u003c\\u002fextra\\u003e\",\"legendgroup\":\"KSF107 \\u2206argB\",\"marker\":{\"color\":\"#636efa\",\"pattern\":{\"shape\":\"\"}},\"name\":\"KSF107 \\u2206argB\",\"offsetgroup\":\"KSF107 \\u2206argB\",\"orientation\":\"v\",\"showlegend\":true,\"textposition\":\"auto\",\"x\":[0.0,15.500000000058208,23.499999999941792,30.0,66.50000000005821],\"xaxis\":\"x\",\"y\":[0.456,0.657,0.644,0.589,0.603],\"yaxis\":\"y\",\"type\":\"bar\"},{\"alignmentgroup\":\"True\",\"error_y\":{\"array\":[0.075,0.012,0.021,0.011,0.02]},\"hovertemplate\":\"ADP1 strain=KSF107 \\u2206argB\\u003cbr\\u003e[Arg] \\u00b5M=50\\u003cbr\\u003e=%{x}\\u003cbr\\u003eOD600_mean=%{y}\\u003cextra\\u003e\\u003c\\u002fextra\\u003e\",\"legendgroup\":\"KSF107 \\u2206argB\",\"marker\":{\"color\":\"#636efa\",\"pattern\":{\"shape\":\"\"}},\"name\":\"KSF107 \\u2206argB\",\"offsetgroup\":\"KSF107 \\u2206argB\",\"orientation\":\"v\",\"showlegend\":false,\"textposition\":\"auto\",\"x\":[0.0,15.500000000058208,23.499999999941792,30.0,66.50000000005821],\"xaxis\":\"x2\",\"y\":[0.552,0.872,0.927,0.896,0.905],\"yaxis\":\"y2\",\"type\":\"bar\"},{\"alignmentgroup\":\"True\",\"error_y\":{\"array\":[0.072,0.017,0.022,0.015,0.013]},\"hovertemplate\":\"ADP1 strain=KSF107 \\u2206argB\\u003cbr\\u003e[Arg] \\u00b5M=100\\u003cbr\\u003e=%{x}\\u003cbr\\u003eOD600_mean=%{y}\\u003cextra\\u003e\\u003c\\u002fextra\\u003e\",\"legendgroup\":\"KSF107 \\u2206argB\",\"marker\":{\"color\":\"#636efa\",\"pattern\":{\"shape\":\"\"}},\"name\":\"KSF107 \\u2206argB\",\"offsetgroup\":\"KSF107 \\u2206argB\",\"orientation\":\"v\",\"showlegend\":false,\"textposition\":\"auto\",\"x\":[0.0,15.500000000058208,23.499999999941792,30.0,66.50000000005821],\"xaxis\":\"x3\",\"y\":[0.672,0.888,0.977,0.933,0.985],\"yaxis\":\"y3\",\"type\":\"bar\"},{\"alignmentgroup\":\"True\",\"error_y\":{\"array\":[0.177,0.011,0.029,0.045,0.047]},\"hovertemplate\":\"ADP1 strain=KSF107 \\u2206argB\\u003cbr\\u003e[Arg] \\u00b5M=400\\u003cbr\\u003e=%{x}\\u003cbr\\u003eOD600_mean=%{y}\\u003cextra\\u003e\\u003c\\u002fextra\\u003e\",\"legendgroup\":\"KSF107 \\u2206argB\",\"marker\":{\"color\":\"#636efa\",\"pattern\":{\"shape\":\"\"}},\"name\":\"KSF107 \\u2206argB\",\"offsetgroup\":\"KSF107 \\u2206argB\",\"orientation\":\"v\",\"showlegend\":false,\"textposition\":\"auto\",\"x\":[0.0,15.500000000058208,23.499999999941792,30.0,66.50000000005821],\"xaxis\":\"x4\",\"y\":[0.94,0.973,1.055,1.044,1.103],\"yaxis\":\"y4\",\"type\":\"bar\"},{\"alignmentgroup\":\"True\",\"error_y\":{\"array\":[0.217,0.017,0.041,0.038,0.02]},\"hovertemplate\":\"ADP1 strain=KSF107 \\u2206argB\\u003cbr\\u003e[Arg] \\u00b5M=700\\u003cbr\\u003e=%{x}\\u003cbr\\u003eOD600_mean=%{y}\\u003cextra\\u003e\\u003c\\u002fextra\\u003e\",\"legendgroup\":\"KSF107 \\u2206argB\",\"marker\":{\"color\":\"#636efa\",\"pattern\":{\"shape\":\"\"}},\"name\":\"KSF107 \\u2206argB\",\"offsetgroup\":\"KSF107 \\u2206argB\",\"orientation\":\"v\",\"showlegend\":false,\"textposition\":\"auto\",\"x\":[0.0,15.500000000058208,23.499999999941792,30.0,66.50000000005821],\"xaxis\":\"x5\",\"y\":[0.888,1.005,1.133,1.161,1.171],\"yaxis\":\"y5\",\"type\":\"bar\"},{\"alignmentgroup\":\"True\",\"error_y\":{\"array\":[0.187,0.049,0.018,0.045,0.024]},\"hovertemplate\":\"ADP1 strain=KSF107 \\u2206argB\\u003cbr\\u003e[Arg] \\u00b5M=1000\\u003cbr\\u003e=%{x}\\u003cbr\\u003eOD600_mean=%{y}\\u003cextra\\u003e\\u003c\\u002fextra\\u003e\",\"legendgroup\":\"KSF107 \\u2206argB\",\"marker\":{\"color\":\"#636efa\",\"pattern\":{\"shape\":\"\"}},\"name\":\"KSF107 \\u2206argB\",\"offsetgroup\":\"KSF107 \\u2206argB\",\"orientation\":\"v\",\"showlegend\":false,\"textposition\":\"auto\",\"x\":[0.0,15.500000000058208,23.499999999941792,30.0,66.50000000005821],\"xaxis\":\"x6\",\"y\":[1.065,1.039,1.176,1.161,1.169],\"yaxis\":\"y6\",\"type\":\"bar\"},{\"alignmentgroup\":\"True\",\"error_y\":{\"array\":[0.081,0.004,0.019,0.02,0.013]},\"hovertemplate\":\"ADP1 strain=KSF111 \\u2206argB\\u003cbr\\u003e[Arg] \\u00b5M=0\\u003cbr\\u003e=%{x}\\u003cbr\\u003eOD600_mean=%{y}\\u003cextra\\u003e\\u003c\\u002fextra\\u003e\",\"legendgroup\":\"KSF111 \\u2206argB\",\"marker\":{\"color\":\"#EF553B\",\"pattern\":{\"shape\":\"\"}},\"name\":\"KSF111 \\u2206argB\",\"offsetgroup\":\"KSF111 \\u2206argB\",\"orientation\":\"v\",\"showlegend\":true,\"textposition\":\"auto\",\"x\":[0.0,15.500000000058208,23.499999999941792,30.0,66.50000000005821],\"xaxis\":\"x\",\"y\":[0.56,0.761,0.749,0.681,0.679],\"yaxis\":\"y\",\"type\":\"bar\"},{\"alignmentgroup\":\"True\",\"error_y\":{\"array\":[0.084,0.017,0.015,0.017,0.016]},\"hovertemplate\":\"ADP1 strain=KSF111 \\u2206argB\\u003cbr\\u003e[Arg] \\u00b5M=50\\u003cbr\\u003e=%{x}\\u003cbr\\u003eOD600_mean=%{y}\\u003cextra\\u003e\\u003c\\u002fextra\\u003e\",\"legendgroup\":\"KSF111 \\u2206argB\",\"marker\":{\"color\":\"#EF553B\",\"pattern\":{\"shape\":\"\"}},\"name\":\"KSF111 \\u2206argB\",\"offsetgroup\":\"KSF111 \\u2206argB\",\"orientation\":\"v\",\"showlegend\":false,\"textposition\":\"auto\",\"x\":[0.0,15.500000000058208,23.499999999941792,30.0,66.50000000005821],\"xaxis\":\"x2\",\"y\":[0.661,0.995,1.169,1.028,1.017],\"yaxis\":\"y2\",\"type\":\"bar\"},{\"alignmentgroup\":\"True\",\"error_y\":{\"array\":[0.185,0.015,0.005,0.009,0.023]},\"hovertemplate\":\"ADP1 strain=KSF111 \\u2206argB\\u003cbr\\u003e[Arg] \\u00b5M=100\\u003cbr\\u003e=%{x}\\u003cbr\\u003eOD600_mean=%{y}\\u003cextra\\u003e\\u003c\\u002fextra\\u003e\",\"legendgroup\":\"KSF111 \\u2206argB\",\"marker\":{\"color\":\"#EF553B\",\"pattern\":{\"shape\":\"\"}},\"name\":\"KSF111 \\u2206argB\",\"offsetgroup\":\"KSF111 \\u2206argB\",\"orientation\":\"v\",\"showlegend\":false,\"textposition\":\"auto\",\"x\":[0.0,15.500000000058208,23.499999999941792,30.0,66.50000000005821],\"xaxis\":\"x3\",\"y\":[0.671,0.979,1.175,1.043,1.039],\"yaxis\":\"y3\",\"type\":\"bar\"},{\"alignmentgroup\":\"True\",\"error_y\":{\"array\":[0.169,0.04,0.035,0.025,0.036]},\"hovertemplate\":\"ADP1 strain=KSF111 \\u2206argB\\u003cbr\\u003e[Arg] \\u00b5M=400\\u003cbr\\u003e=%{x}\\u003cbr\\u003eOD600_mean=%{y}\\u003cextra\\u003e\\u003c\\u002fextra\\u003e\",\"legendgroup\":\"KSF111 \\u2206argB\",\"marker\":{\"color\":\"#EF553B\",\"pattern\":{\"shape\":\"\"}},\"name\":\"KSF111 \\u2206argB\",\"offsetgroup\":\"KSF111 \\u2206argB\",\"orientation\":\"v\",\"showlegend\":false,\"textposition\":\"auto\",\"x\":[0.0,15.500000000058208,23.499999999941792,30.0,66.50000000005821],\"xaxis\":\"x4\",\"y\":[0.719,1.028,1.283,1.175,1.135],\"yaxis\":\"y4\",\"type\":\"bar\"},{\"alignmentgroup\":\"True\",\"error_y\":{\"array\":[0.089,0.047,0.021,0.081,0.056]},\"hovertemplate\":\"ADP1 strain=KSF111 \\u2206argB\\u003cbr\\u003e[Arg] \\u00b5M=700\\u003cbr\\u003e=%{x}\\u003cbr\\u003eOD600_mean=%{y}\\u003cextra\\u003e\\u003c\\u002fextra\\u003e\",\"legendgroup\":\"KSF111 \\u2206argB\",\"marker\":{\"color\":\"#EF553B\",\"pattern\":{\"shape\":\"\"}},\"name\":\"KSF111 \\u2206argB\",\"offsetgroup\":\"KSF111 \\u2206argB\",\"orientation\":\"v\",\"showlegend\":false,\"textposition\":\"auto\",\"x\":[0.0,15.500000000058208,23.499999999941792,30.0,66.50000000005821],\"xaxis\":\"x5\",\"y\":[0.743,1.084,1.355,1.284,1.224],\"yaxis\":\"y5\",\"type\":\"bar\"},{\"alignmentgroup\":\"True\",\"error_y\":{\"array\":[0.232,0.048,0.032,0.096,0.038]},\"hovertemplate\":\"ADP1 strain=KSF111 \\u2206argB\\u003cbr\\u003e[Arg] \\u00b5M=1000\\u003cbr\\u003e=%{x}\\u003cbr\\u003eOD600_mean=%{y}\\u003cextra\\u003e\\u003c\\u002fextra\\u003e\",\"legendgroup\":\"KSF111 \\u2206argB\",\"marker\":{\"color\":\"#EF553B\",\"pattern\":{\"shape\":\"\"}},\"name\":\"KSF111 \\u2206argB\",\"offsetgroup\":\"KSF111 \\u2206argB\",\"orientation\":\"v\",\"showlegend\":false,\"textposition\":\"auto\",\"x\":[0.0,15.500000000058208,23.499999999941792,30.0,66.50000000005821],\"xaxis\":\"x6\",\"y\":[0.884,1.092,1.409,1.357,1.264],\"yaxis\":\"y6\",\"type\":\"bar\"},{\"hovertemplate\":\"strain_id=KSF107 \\u2206argB\\u003cbr\\u003earg_conc_uM=0\\u003cbr\\u003eelapsed_time_hr=%{x}\\u003cbr\\u003eod_sample_mean=%{y}\\u003cextra\\u003e\\u003c\\u002fextra\\u003e\",\"legendgroup\":\"KSF107 \\u2206argB\",\"line\":{\"color\":\"#636efa\",\"dash\":\"solid\"},\"marker\":{\"symbol\":\"circle\"},\"mode\":\"lines\",\"name\":\"KSF107 \\u2206argB\",\"orientation\":\"v\",\"showlegend\":false,\"x\":[0.0,15.500000000058208,23.499999999941792,30.0,66.50000000005821],\"xaxis\":\"x\",\"y\":[0.456,0.657,0.644,0.589,0.603],\"yaxis\":\"y\",\"type\":\"scatter\"},{\"hovertemplate\":\"strain_id=KSF107 \\u2206argB\\u003cbr\\u003earg_conc_uM=50\\u003cbr\\u003eelapsed_time_hr=%{x}\\u003cbr\\u003eod_sample_mean=%{y}\\u003cextra\\u003e\\u003c\\u002fextra\\u003e\",\"legendgroup\":\"KSF107 \\u2206argB\",\"line\":{\"color\":\"#636efa\",\"dash\":\"solid\"},\"marker\":{\"symbol\":\"circle\"},\"mode\":\"lines\",\"name\":\"KSF107 \\u2206argB\",\"orientation\":\"v\",\"showlegend\":false,\"x\":[0.0,15.500000000058208,23.499999999941792,30.0,66.50000000005821],\"xaxis\":\"x2\",\"y\":[0.552,0.872,0.927,0.896,0.905],\"yaxis\":\"y2\",\"type\":\"scatter\"},{\"hovertemplate\":\"strain_id=KSF107 \\u2206argB\\u003cbr\\u003earg_conc_uM=100\\u003cbr\\u003eelapsed_time_hr=%{x}\\u003cbr\\u003eod_sample_mean=%{y}\\u003cextra\\u003e\\u003c\\u002fextra\\u003e\",\"legendgroup\":\"KSF107 \\u2206argB\",\"line\":{\"color\":\"#636efa\",\"dash\":\"solid\"},\"marker\":{\"symbol\":\"circle\"},\"mode\":\"lines\",\"name\":\"KSF107 \\u2206argB\",\"orientation\":\"v\",\"showlegend\":false,\"x\":[0.0,15.500000000058208,23.499999999941792,30.0,66.50000000005821],\"xaxis\":\"x3\",\"y\":[0.672,0.888,0.977,0.933,0.985],\"yaxis\":\"y3\",\"type\":\"scatter\"},{\"hovertemplate\":\"strain_id=KSF107 \\u2206argB\\u003cbr\\u003earg_conc_uM=400\\u003cbr\\u003eelapsed_time_hr=%{x}\\u003cbr\\u003eod_sample_mean=%{y}\\u003cextra\\u003e\\u003c\\u002fextra\\u003e\",\"legendgroup\":\"KSF107 \\u2206argB\",\"line\":{\"color\":\"#636efa\",\"dash\":\"solid\"},\"marker\":{\"symbol\":\"circle\"},\"mode\":\"lines\",\"name\":\"KSF107 \\u2206argB\",\"orientation\":\"v\",\"showlegend\":false,\"x\":[0.0,15.500000000058208,23.499999999941792,30.0,66.50000000005821],\"xaxis\":\"x4\",\"y\":[0.94,0.973,1.055,1.044,1.103],\"yaxis\":\"y4\",\"type\":\"scatter\"},{\"hovertemplate\":\"strain_id=KSF107 \\u2206argB\\u003cbr\\u003earg_conc_uM=700\\u003cbr\\u003eelapsed_time_hr=%{x}\\u003cbr\\u003eod_sample_mean=%{y}\\u003cextra\\u003e\\u003c\\u002fextra\\u003e\",\"legendgroup\":\"KSF107 \\u2206argB\",\"line\":{\"color\":\"#636efa\",\"dash\":\"solid\"},\"marker\":{\"symbol\":\"circle\"},\"mode\":\"lines\",\"name\":\"KSF107 \\u2206argB\",\"orientation\":\"v\",\"showlegend\":false,\"x\":[0.0,15.500000000058208,23.499999999941792,30.0,66.50000000005821],\"xaxis\":\"x5\",\"y\":[0.888,1.005,1.133,1.161,1.171],\"yaxis\":\"y5\",\"type\":\"scatter\"},{\"hovertemplate\":\"strain_id=KSF107 \\u2206argB\\u003cbr\\u003earg_conc_uM=1000\\u003cbr\\u003eelapsed_time_hr=%{x}\\u003cbr\\u003eod_sample_mean=%{y}\\u003cextra\\u003e\\u003c\\u002fextra\\u003e\",\"legendgroup\":\"KSF107 \\u2206argB\",\"line\":{\"color\":\"#636efa\",\"dash\":\"solid\"},\"marker\":{\"symbol\":\"circle\"},\"mode\":\"lines\",\"name\":\"KSF107 \\u2206argB\",\"orientation\":\"v\",\"showlegend\":false,\"x\":[0.0,15.500000000058208,23.499999999941792,30.0,66.50000000005821],\"xaxis\":\"x6\",\"y\":[1.065,1.039,1.176,1.161,1.169],\"yaxis\":\"y6\",\"type\":\"scatter\"},{\"hovertemplate\":\"strain_id=KSF111 \\u2206argB\\u003cbr\\u003earg_conc_uM=0\\u003cbr\\u003eelapsed_time_hr=%{x}\\u003cbr\\u003eod_sample_mean=%{y}\\u003cextra\\u003e\\u003c\\u002fextra\\u003e\",\"legendgroup\":\"KSF111 \\u2206argB\",\"line\":{\"color\":\"#EF553B\",\"dash\":\"solid\"},\"marker\":{\"symbol\":\"circle\"},\"mode\":\"lines\",\"name\":\"KSF111 \\u2206argB\",\"orientation\":\"v\",\"showlegend\":false,\"x\":[0.0,15.500000000058208,23.499999999941792,30.0,66.50000000005821],\"xaxis\":\"x\",\"y\":[0.56,0.761,0.749,0.681,0.679],\"yaxis\":\"y\",\"type\":\"scatter\"},{\"hovertemplate\":\"strain_id=KSF111 \\u2206argB\\u003cbr\\u003earg_conc_uM=50\\u003cbr\\u003eelapsed_time_hr=%{x}\\u003cbr\\u003eod_sample_mean=%{y}\\u003cextra\\u003e\\u003c\\u002fextra\\u003e\",\"legendgroup\":\"KSF111 \\u2206argB\",\"line\":{\"color\":\"#EF553B\",\"dash\":\"solid\"},\"marker\":{\"symbol\":\"circle\"},\"mode\":\"lines\",\"name\":\"KSF111 \\u2206argB\",\"orientation\":\"v\",\"showlegend\":false,\"x\":[0.0,15.500000000058208,23.499999999941792,30.0,66.50000000005821],\"xaxis\":\"x2\",\"y\":[0.661,0.995,1.169,1.028,1.017],\"yaxis\":\"y2\",\"type\":\"scatter\"},{\"hovertemplate\":\"strain_id=KSF111 \\u2206argB\\u003cbr\\u003earg_conc_uM=100\\u003cbr\\u003eelapsed_time_hr=%{x}\\u003cbr\\u003eod_sample_mean=%{y}\\u003cextra\\u003e\\u003c\\u002fextra\\u003e\",\"legendgroup\":\"KSF111 \\u2206argB\",\"line\":{\"color\":\"#EF553B\",\"dash\":\"solid\"},\"marker\":{\"symbol\":\"circle\"},\"mode\":\"lines\",\"name\":\"KSF111 \\u2206argB\",\"orientation\":\"v\",\"showlegend\":false,\"x\":[0.0,15.500000000058208,23.499999999941792,30.0,66.50000000005821],\"xaxis\":\"x3\",\"y\":[0.671,0.979,1.175,1.043,1.039],\"yaxis\":\"y3\",\"type\":\"scatter\"},{\"hovertemplate\":\"strain_id=KSF111 \\u2206argB\\u003cbr\\u003earg_conc_uM=400\\u003cbr\\u003eelapsed_time_hr=%{x}\\u003cbr\\u003eod_sample_mean=%{y}\\u003cextra\\u003e\\u003c\\u002fextra\\u003e\",\"legendgroup\":\"KSF111 \\u2206argB\",\"line\":{\"color\":\"#EF553B\",\"dash\":\"solid\"},\"marker\":{\"symbol\":\"circle\"},\"mode\":\"lines\",\"name\":\"KSF111 \\u2206argB\",\"orientation\":\"v\",\"showlegend\":false,\"x\":[0.0,15.500000000058208,23.499999999941792,30.0,66.50000000005821],\"xaxis\":\"x4\",\"y\":[0.719,1.028,1.283,1.175,1.135],\"yaxis\":\"y4\",\"type\":\"scatter\"},{\"hovertemplate\":\"strain_id=KSF111 \\u2206argB\\u003cbr\\u003earg_conc_uM=700\\u003cbr\\u003eelapsed_time_hr=%{x}\\u003cbr\\u003eod_sample_mean=%{y}\\u003cextra\\u003e\\u003c\\u002fextra\\u003e\",\"legendgroup\":\"KSF111 \\u2206argB\",\"line\":{\"color\":\"#EF553B\",\"dash\":\"solid\"},\"marker\":{\"symbol\":\"circle\"},\"mode\":\"lines\",\"name\":\"KSF111 \\u2206argB\",\"orientation\":\"v\",\"showlegend\":false,\"x\":[0.0,15.500000000058208,23.499999999941792,30.0,66.50000000005821],\"xaxis\":\"x5\",\"y\":[0.743,1.084,1.355,1.284,1.224],\"yaxis\":\"y5\",\"type\":\"scatter\"},{\"hovertemplate\":\"strain_id=KSF111 \\u2206argB\\u003cbr\\u003earg_conc_uM=1000\\u003cbr\\u003eelapsed_time_hr=%{x}\\u003cbr\\u003eod_sample_mean=%{y}\\u003cextra\\u003e\\u003c\\u002fextra\\u003e\",\"legendgroup\":\"KSF111 \\u2206argB\",\"line\":{\"color\":\"#EF553B\",\"dash\":\"solid\"},\"marker\":{\"symbol\":\"circle\"},\"mode\":\"lines\",\"name\":\"KSF111 \\u2206argB\",\"orientation\":\"v\",\"showlegend\":false,\"x\":[0.0,15.500000000058208,23.499999999941792,30.0,66.50000000005821],\"xaxis\":\"x6\",\"y\":[0.884,1.092,1.409,1.357,1.264],\"yaxis\":\"y6\",\"type\":\"scatter\"}],                        {\"template\":{\"data\":{\"histogram2dcontour\":[{\"type\":\"histogram2dcontour\",\"colorbar\":{\"outlinewidth\":0,\"ticks\":\"\"},\"colorscale\":[[0.0,\"#0d0887\"],[0.1111111111111111,\"#46039f\"],[0.2222222222222222,\"#7201a8\"],[0.3333333333333333,\"#9c179e\"],[0.4444444444444444,\"#bd3786\"],[0.5555555555555556,\"#d8576b\"],[0.6666666666666666,\"#ed7953\"],[0.7777777777777778,\"#fb9f3a\"],[0.8888888888888888,\"#fdca26\"],[1.0,\"#f0f921\"]]}],\"choropleth\":[{\"type\":\"choropleth\",\"colorbar\":{\"outlinewidth\":0,\"ticks\":\"\"}}],\"histogram2d\":[{\"type\":\"histogram2d\",\"colorbar\":{\"outlinewidth\":0,\"ticks\":\"\"},\"colorscale\":[[0.0,\"#0d0887\"],[0.1111111111111111,\"#46039f\"],[0.2222222222222222,\"#7201a8\"],[0.3333333333333333,\"#9c179e\"],[0.4444444444444444,\"#bd3786\"],[0.5555555555555556,\"#d8576b\"],[0.6666666666666666,\"#ed7953\"],[0.7777777777777778,\"#fb9f3a\"],[0.8888888888888888,\"#fdca26\"],[1.0,\"#f0f921\"]]}],\"heatmap\":[{\"type\":\"heatmap\",\"colorbar\":{\"outlinewidth\":0,\"ticks\":\"\"},\"colorscale\":[[0.0,\"#0d0887\"],[0.1111111111111111,\"#46039f\"],[0.2222222222222222,\"#7201a8\"],[0.3333333333333333,\"#9c179e\"],[0.4444444444444444,\"#bd3786\"],[0.5555555555555556,\"#d8576b\"],[0.6666666666666666,\"#ed7953\"],[0.7777777777777778,\"#fb9f3a\"],[0.8888888888888888,\"#fdca26\"],[1.0,\"#f0f921\"]]}],\"heatmapgl\":[{\"type\":\"heatmapgl\",\"colorbar\":{\"outlinewidth\":0,\"ticks\":\"\"},\"colorscale\":[[0.0,\"#0d0887\"],[0.1111111111111111,\"#46039f\"],[0.2222222222222222,\"#7201a8\"],[0.3333333333333333,\"#9c179e\"],[0.4444444444444444,\"#bd3786\"],[0.5555555555555556,\"#d8576b\"],[0.6666666666666666,\"#ed7953\"],[0.7777777777777778,\"#fb9f3a\"],[0.8888888888888888,\"#fdca26\"],[1.0,\"#f0f921\"]]}],\"contourcarpet\":[{\"type\":\"contourcarpet\",\"colorbar\":{\"outlinewidth\":0,\"ticks\":\"\"}}],\"contour\":[{\"type\":\"contour\",\"colorbar\":{\"outlinewidth\":0,\"ticks\":\"\"},\"colorscale\":[[0.0,\"#0d0887\"],[0.1111111111111111,\"#46039f\"],[0.2222222222222222,\"#7201a8\"],[0.3333333333333333,\"#9c179e\"],[0.4444444444444444,\"#bd3786\"],[0.5555555555555556,\"#d8576b\"],[0.6666666666666666,\"#ed7953\"],[0.7777777777777778,\"#fb9f3a\"],[0.8888888888888888,\"#fdca26\"],[1.0,\"#f0f921\"]]}],\"surface\":[{\"type\":\"surface\",\"colorbar\":{\"outlinewidth\":0,\"ticks\":\"\"},\"colorscale\":[[0.0,\"#0d0887\"],[0.1111111111111111,\"#46039f\"],[0.2222222222222222,\"#7201a8\"],[0.3333333333333333,\"#9c179e\"],[0.4444444444444444,\"#bd3786\"],[0.5555555555555556,\"#d8576b\"],[0.6666666666666666,\"#ed7953\"],[0.7777777777777778,\"#fb9f3a\"],[0.8888888888888888,\"#fdca26\"],[1.0,\"#f0f921\"]]}],\"mesh3d\":[{\"type\":\"mesh3d\",\"colorbar\":{\"outlinewidth\":0,\"ticks\":\"\"}}],\"scatter\":[{\"fillpattern\":{\"fillmode\":\"overlay\",\"size\":10,\"solidity\":0.2},\"type\":\"scatter\"}],\"parcoords\":[{\"type\":\"parcoords\",\"line\":{\"colorbar\":{\"outlinewidth\":0,\"ticks\":\"\"}}}],\"scatterpolargl\":[{\"type\":\"scatterpolargl\",\"marker\":{\"colorbar\":{\"outlinewidth\":0,\"ticks\":\"\"}}}],\"bar\":[{\"error_x\":{\"color\":\"#2a3f5f\"},\"error_y\":{\"color\":\"#2a3f5f\"},\"marker\":{\"line\":{\"color\":\"#E5ECF6\",\"width\":0.5},\"pattern\":{\"fillmode\":\"overlay\",\"size\":10,\"solidity\":0.2}},\"type\":\"bar\"}],\"scattergeo\":[{\"type\":\"scattergeo\",\"marker\":{\"colorbar\":{\"outlinewidth\":0,\"ticks\":\"\"}}}],\"scatterpolar\":[{\"type\":\"scatterpolar\",\"marker\":{\"colorbar\":{\"outlinewidth\":0,\"ticks\":\"\"}}}],\"histogram\":[{\"marker\":{\"pattern\":{\"fillmode\":\"overlay\",\"size\":10,\"solidity\":0.2}},\"type\":\"histogram\"}],\"scattergl\":[{\"type\":\"scattergl\",\"marker\":{\"colorbar\":{\"outlinewidth\":0,\"ticks\":\"\"}}}],\"scatter3d\":[{\"type\":\"scatter3d\",\"line\":{\"colorbar\":{\"outlinewidth\":0,\"ticks\":\"\"}},\"marker\":{\"colorbar\":{\"outlinewidth\":0,\"ticks\":\"\"}}}],\"scattermapbox\":[{\"type\":\"scattermapbox\",\"marker\":{\"colorbar\":{\"outlinewidth\":0,\"ticks\":\"\"}}}],\"scatterternary\":[{\"type\":\"scatterternary\",\"marker\":{\"colorbar\":{\"outlinewidth\":0,\"ticks\":\"\"}}}],\"scattercarpet\":[{\"type\":\"scattercarpet\",\"marker\":{\"colorbar\":{\"outlinewidth\":0,\"ticks\":\"\"}}}],\"carpet\":[{\"aaxis\":{\"endlinecolor\":\"#2a3f5f\",\"gridcolor\":\"white\",\"linecolor\":\"white\",\"minorgridcolor\":\"white\",\"startlinecolor\":\"#2a3f5f\"},\"baxis\":{\"endlinecolor\":\"#2a3f5f\",\"gridcolor\":\"white\",\"linecolor\":\"white\",\"minorgridcolor\":\"white\",\"startlinecolor\":\"#2a3f5f\"},\"type\":\"carpet\"}],\"table\":[{\"cells\":{\"fill\":{\"color\":\"#EBF0F8\"},\"line\":{\"color\":\"white\"}},\"header\":{\"fill\":{\"color\":\"#C8D4E3\"},\"line\":{\"color\":\"white\"}},\"type\":\"table\"}],\"barpolar\":[{\"marker\":{\"line\":{\"color\":\"#E5ECF6\",\"width\":0.5},\"pattern\":{\"fillmode\":\"overlay\",\"size\":10,\"solidity\":0.2}},\"type\":\"barpolar\"}],\"pie\":[{\"automargin\":true,\"type\":\"pie\"}]},\"layout\":{\"autotypenumbers\":\"strict\",\"colorway\":[\"#636efa\",\"#EF553B\",\"#00cc96\",\"#ab63fa\",\"#FFA15A\",\"#19d3f3\",\"#FF6692\",\"#B6E880\",\"#FF97FF\",\"#FECB52\"],\"font\":{\"color\":\"#2a3f5f\"},\"hovermode\":\"closest\",\"hoverlabel\":{\"align\":\"left\"},\"paper_bgcolor\":\"white\",\"plot_bgcolor\":\"#E5ECF6\",\"polar\":{\"bgcolor\":\"#E5ECF6\",\"angularaxis\":{\"gridcolor\":\"white\",\"linecolor\":\"white\",\"ticks\":\"\"},\"radialaxis\":{\"gridcolor\":\"white\",\"linecolor\":\"white\",\"ticks\":\"\"}},\"ternary\":{\"bgcolor\":\"#E5ECF6\",\"aaxis\":{\"gridcolor\":\"white\",\"linecolor\":\"white\",\"ticks\":\"\"},\"baxis\":{\"gridcolor\":\"white\",\"linecolor\":\"white\",\"ticks\":\"\"},\"caxis\":{\"gridcolor\":\"white\",\"linecolor\":\"white\",\"ticks\":\"\"}},\"coloraxis\":{\"colorbar\":{\"outlinewidth\":0,\"ticks\":\"\"}},\"colorscale\":{\"sequential\":[[0.0,\"#0d0887\"],[0.1111111111111111,\"#46039f\"],[0.2222222222222222,\"#7201a8\"],[0.3333333333333333,\"#9c179e\"],[0.4444444444444444,\"#bd3786\"],[0.5555555555555556,\"#d8576b\"],[0.6666666666666666,\"#ed7953\"],[0.7777777777777778,\"#fb9f3a\"],[0.8888888888888888,\"#fdca26\"],[1.0,\"#f0f921\"]],\"sequentialminus\":[[0.0,\"#0d0887\"],[0.1111111111111111,\"#46039f\"],[0.2222222222222222,\"#7201a8\"],[0.3333333333333333,\"#9c179e\"],[0.4444444444444444,\"#bd3786\"],[0.5555555555555556,\"#d8576b\"],[0.6666666666666666,\"#ed7953\"],[0.7777777777777778,\"#fb9f3a\"],[0.8888888888888888,\"#fdca26\"],[1.0,\"#f0f921\"]],\"diverging\":[[0,\"#8e0152\"],[0.1,\"#c51b7d\"],[0.2,\"#de77ae\"],[0.3,\"#f1b6da\"],[0.4,\"#fde0ef\"],[0.5,\"#f7f7f7\"],[0.6,\"#e6f5d0\"],[0.7,\"#b8e186\"],[0.8,\"#7fbc41\"],[0.9,\"#4d9221\"],[1,\"#276419\"]]},\"xaxis\":{\"gridcolor\":\"white\",\"linecolor\":\"white\",\"ticks\":\"\",\"title\":{\"standoff\":15},\"zerolinecolor\":\"white\",\"automargin\":true,\"zerolinewidth\":2},\"yaxis\":{\"gridcolor\":\"white\",\"linecolor\":\"white\",\"ticks\":\"\",\"title\":{\"standoff\":15},\"zerolinecolor\":\"white\",\"automargin\":true,\"zerolinewidth\":2},\"scene\":{\"xaxis\":{\"backgroundcolor\":\"#E5ECF6\",\"gridcolor\":\"white\",\"linecolor\":\"white\",\"showbackground\":true,\"ticks\":\"\",\"zerolinecolor\":\"white\",\"gridwidth\":2},\"yaxis\":{\"backgroundcolor\":\"#E5ECF6\",\"gridcolor\":\"white\",\"linecolor\":\"white\",\"showbackground\":true,\"ticks\":\"\",\"zerolinecolor\":\"white\",\"gridwidth\":2},\"zaxis\":{\"backgroundcolor\":\"#E5ECF6\",\"gridcolor\":\"white\",\"linecolor\":\"white\",\"showbackground\":true,\"ticks\":\"\",\"zerolinecolor\":\"white\",\"gridwidth\":2}},\"shapedefaults\":{\"line\":{\"color\":\"#2a3f5f\"}},\"annotationdefaults\":{\"arrowcolor\":\"#2a3f5f\",\"arrowhead\":0,\"arrowwidth\":1},\"geo\":{\"bgcolor\":\"white\",\"landcolor\":\"#E5ECF6\",\"subunitcolor\":\"white\",\"showland\":true,\"showlakes\":true,\"lakecolor\":\"white\"},\"title\":{\"x\":0.05},\"mapbox\":{\"style\":\"light\"}}},\"xaxis\":{\"anchor\":\"y\",\"domain\":[0.0,0.15],\"title\":{\"text\":\"Elapsed Time [hr]\"}},\"yaxis\":{\"anchor\":\"x\",\"domain\":[0.0,1.0],\"title\":{\"text\":\"OD600_mean\"}},\"xaxis2\":{\"anchor\":\"y2\",\"domain\":[0.16999999999999998,0.31999999999999995],\"matches\":\"x\",\"title\":{\"text\":\"\"}},\"yaxis2\":{\"anchor\":\"x2\",\"domain\":[0.0,1.0],\"matches\":\"y\",\"showticklabels\":false},\"xaxis3\":{\"anchor\":\"y3\",\"domain\":[0.33999999999999997,0.49],\"matches\":\"x\",\"title\":{\"text\":\"\"}},\"yaxis3\":{\"anchor\":\"x3\",\"domain\":[0.0,1.0],\"matches\":\"y\",\"showticklabels\":false},\"xaxis4\":{\"anchor\":\"y4\",\"domain\":[0.51,0.66],\"matches\":\"x\",\"title\":{\"text\":\"\"}},\"yaxis4\":{\"anchor\":\"x4\",\"domain\":[0.0,1.0],\"matches\":\"y\",\"showticklabels\":false},\"xaxis5\":{\"anchor\":\"y5\",\"domain\":[0.6799999999999999,0.83],\"matches\":\"x\",\"title\":{\"text\":\"\"}},\"yaxis5\":{\"anchor\":\"x5\",\"domain\":[0.0,1.0],\"matches\":\"y\",\"showticklabels\":false},\"xaxis6\":{\"anchor\":\"y6\",\"domain\":[0.85,1.0],\"matches\":\"x\",\"title\":{\"text\":\"\"}},\"yaxis6\":{\"anchor\":\"x6\",\"domain\":[0.0,1.0],\"matches\":\"y\",\"showticklabels\":false},\"annotations\":[{\"font\":{},\"showarrow\":false,\"text\":\"[Arg] \\u00b5M=0\",\"x\":0.075,\"xanchor\":\"center\",\"xref\":\"paper\",\"y\":1.0,\"yanchor\":\"bottom\",\"yref\":\"paper\"},{\"font\":{},\"showarrow\":false,\"text\":\"[Arg] \\u00b5M=50\",\"x\":0.24499999999999997,\"xanchor\":\"center\",\"xref\":\"paper\",\"y\":1.0,\"yanchor\":\"bottom\",\"yref\":\"paper\"},{\"font\":{},\"showarrow\":false,\"text\":\"[Arg] \\u00b5M=100\",\"x\":0.415,\"xanchor\":\"center\",\"xref\":\"paper\",\"y\":1.0,\"yanchor\":\"bottom\",\"yref\":\"paper\"},{\"font\":{},\"showarrow\":false,\"text\":\"[Arg] \\u00b5M=400\",\"x\":0.585,\"xanchor\":\"center\",\"xref\":\"paper\",\"y\":1.0,\"yanchor\":\"bottom\",\"yref\":\"paper\"},{\"font\":{},\"showarrow\":false,\"text\":\"[Arg] \\u00b5M=700\",\"x\":0.7549999999999999,\"xanchor\":\"center\",\"xref\":\"paper\",\"y\":1.0,\"yanchor\":\"bottom\",\"yref\":\"paper\"},{\"font\":{},\"showarrow\":false,\"text\":\"[Arg] \\u00b5M=1000\",\"x\":0.925,\"xanchor\":\"center\",\"xref\":\"paper\",\"y\":1.0,\"yanchor\":\"bottom\",\"yref\":\"paper\"}],\"legend\":{\"title\":{\"text\":\"ADP1 strain\"},\"tracegroupgap\":0},\"margin\":{\"t\":60},\"barmode\":\"group\",\"title\":{\"text\":\"OD ADP1 [KSF107 (\\u2206astA \\u2206argB), KSF111 (\\u2206astA \\u2206argBR)] | growth in dosed Arg after preculture and wash\",\"x\":0.5},\"showlegend\":true,\"boxmode\":\"group\",\"boxgap\":0.8,\"boxgroupgap\":0,\"height\":500},                        {\"responsive\": true}                    ).then(function(){\n",
       "                            \n",
       "var gd = document.getElementById('f13692c0-79c9-4e40-a3d6-f4df087c0301');\n",
       "var x = new MutationObserver(function (mutations, observer) {{\n",
       "        var display = window.getComputedStyle(gd).display;\n",
       "        if (!display || display === 'none') {{\n",
       "            console.log([gd, 'removed!']);\n",
       "            Plotly.purge(gd);\n",
       "            observer.disconnect();\n",
       "        }}\n",
       "}});\n",
       "\n",
       "// Listen for the removal of the full notebook cells\n",
       "var notebookContainer = gd.closest('#notebook-container');\n",
       "if (notebookContainer) {{\n",
       "    x.observe(notebookContainer, {childList: true});\n",
       "}}\n",
       "\n",
       "// Listen for the clearing of the current output cell\n",
       "var outputEl = gd.closest('.output');\n",
       "if (outputEl) {{\n",
       "    x.observe(outputEl, {childList: true});\n",
       "}}\n",
       "\n",
       "                        })                };                });            </script>        </div>"
      ]
     },
     "metadata": {},
     "output_type": "display_data"
    }
   ],
   "execution_count": 85
  },
  {
   "metadata": {
    "ExecuteTime": {
     "end_time": "2024-10-16T19:42:16.286499Z",
     "start_time": "2024-10-16T19:42:16.269758Z"
    }
   },
   "cell_type": "code",
   "source": [
    "df_od_mean_max = df_od_mean_sem.sort_values(\n",
    "    by=['arg_conc_uM', 'strain_id', 'od_sample_mean'],\n",
    ").drop_duplicates(\n",
    "    subset=['arg_conc_uM', 'strain_id'],\n",
    "    keep='last',\n",
    ")\n",
    "\n",
    "_bg_107, _bg_111 = df_od_mean_max.loc[lambda df: df.arg_conc_uM == 0].od_sample_mean.iloc[:2]\n",
    "df_od_mean_max = df_od_mean_max.assign(\n",
    "    od_sample_mean_sans_bg=lambda df: df.apply(\n",
    "        lambda r: r.od_sample_mean - (_bg_107 if '107' in r.strain_id else _bg_111),\n",
    "        axis='columns'\n",
    "    ),\n",
    ")\n",
    "\n",
    "df_od_mean_max"
   ],
   "id": "51a4daadb5765d02",
   "outputs": [
    {
     "data": {
      "text/plain": [
       "    elapsed_time_hr     strain_id  arg_conc_uM  od_sample_mean  od_sample_sem  \\\n",
       "12             15.5  KSF107 ∆argB            0           0.657          0.019   \n",
       "13             15.5  KSF111 ∆argB            0           0.761          0.004   \n",
       "26             23.5  KSF107 ∆argB           50           0.927          0.021   \n",
       "27             23.5  KSF111 ∆argB           50           1.169          0.015   \n",
       "52             66.5  KSF107 ∆argB          100           0.985          0.013   \n",
       "29             23.5  KSF111 ∆argB          100           1.175          0.005   \n",
       "54             66.5  KSF107 ∆argB          400           1.103          0.047   \n",
       "31             23.5  KSF111 ∆argB          400           1.283          0.035   \n",
       "56             66.5  KSF107 ∆argB          700           1.171          0.020   \n",
       "33             23.5  KSF111 ∆argB          700           1.355          0.021   \n",
       "34             23.5  KSF107 ∆argB         1000           1.176          0.018   \n",
       "35             23.5  KSF111 ∆argB         1000           1.409          0.032   \n",
       "\n",
       "    od_sample_mean_sans_bg  \n",
       "12                   0.000  \n",
       "13                   0.000  \n",
       "26                   0.270  \n",
       "27                   0.408  \n",
       "52                   0.328  \n",
       "29                   0.414  \n",
       "54                   0.446  \n",
       "31                   0.522  \n",
       "56                   0.514  \n",
       "33                   0.594  \n",
       "34                   0.519  \n",
       "35                   0.648  "
      ],
      "text/html": [
       "<div>\n",
       "<style scoped>\n",
       "    .dataframe tbody tr th:only-of-type {\n",
       "        vertical-align: middle;\n",
       "    }\n",
       "\n",
       "    .dataframe tbody tr th {\n",
       "        vertical-align: top;\n",
       "    }\n",
       "\n",
       "    .dataframe thead th {\n",
       "        text-align: right;\n",
       "    }\n",
       "</style>\n",
       "<table border=\"1\" class=\"dataframe\">\n",
       "  <thead>\n",
       "    <tr style=\"text-align: right;\">\n",
       "      <th></th>\n",
       "      <th>elapsed_time_hr</th>\n",
       "      <th>strain_id</th>\n",
       "      <th>arg_conc_uM</th>\n",
       "      <th>od_sample_mean</th>\n",
       "      <th>od_sample_sem</th>\n",
       "      <th>od_sample_mean_sans_bg</th>\n",
       "    </tr>\n",
       "  </thead>\n",
       "  <tbody>\n",
       "    <tr>\n",
       "      <th>12</th>\n",
       "      <td>15.5</td>\n",
       "      <td>KSF107 ∆argB</td>\n",
       "      <td>0</td>\n",
       "      <td>0.657</td>\n",
       "      <td>0.019</td>\n",
       "      <td>0.000</td>\n",
       "    </tr>\n",
       "    <tr>\n",
       "      <th>13</th>\n",
       "      <td>15.5</td>\n",
       "      <td>KSF111 ∆argB</td>\n",
       "      <td>0</td>\n",
       "      <td>0.761</td>\n",
       "      <td>0.004</td>\n",
       "      <td>0.000</td>\n",
       "    </tr>\n",
       "    <tr>\n",
       "      <th>26</th>\n",
       "      <td>23.5</td>\n",
       "      <td>KSF107 ∆argB</td>\n",
       "      <td>50</td>\n",
       "      <td>0.927</td>\n",
       "      <td>0.021</td>\n",
       "      <td>0.270</td>\n",
       "    </tr>\n",
       "    <tr>\n",
       "      <th>27</th>\n",
       "      <td>23.5</td>\n",
       "      <td>KSF111 ∆argB</td>\n",
       "      <td>50</td>\n",
       "      <td>1.169</td>\n",
       "      <td>0.015</td>\n",
       "      <td>0.408</td>\n",
       "    </tr>\n",
       "    <tr>\n",
       "      <th>52</th>\n",
       "      <td>66.5</td>\n",
       "      <td>KSF107 ∆argB</td>\n",
       "      <td>100</td>\n",
       "      <td>0.985</td>\n",
       "      <td>0.013</td>\n",
       "      <td>0.328</td>\n",
       "    </tr>\n",
       "    <tr>\n",
       "      <th>29</th>\n",
       "      <td>23.5</td>\n",
       "      <td>KSF111 ∆argB</td>\n",
       "      <td>100</td>\n",
       "      <td>1.175</td>\n",
       "      <td>0.005</td>\n",
       "      <td>0.414</td>\n",
       "    </tr>\n",
       "    <tr>\n",
       "      <th>54</th>\n",
       "      <td>66.5</td>\n",
       "      <td>KSF107 ∆argB</td>\n",
       "      <td>400</td>\n",
       "      <td>1.103</td>\n",
       "      <td>0.047</td>\n",
       "      <td>0.446</td>\n",
       "    </tr>\n",
       "    <tr>\n",
       "      <th>31</th>\n",
       "      <td>23.5</td>\n",
       "      <td>KSF111 ∆argB</td>\n",
       "      <td>400</td>\n",
       "      <td>1.283</td>\n",
       "      <td>0.035</td>\n",
       "      <td>0.522</td>\n",
       "    </tr>\n",
       "    <tr>\n",
       "      <th>56</th>\n",
       "      <td>66.5</td>\n",
       "      <td>KSF107 ∆argB</td>\n",
       "      <td>700</td>\n",
       "      <td>1.171</td>\n",
       "      <td>0.020</td>\n",
       "      <td>0.514</td>\n",
       "    </tr>\n",
       "    <tr>\n",
       "      <th>33</th>\n",
       "      <td>23.5</td>\n",
       "      <td>KSF111 ∆argB</td>\n",
       "      <td>700</td>\n",
       "      <td>1.355</td>\n",
       "      <td>0.021</td>\n",
       "      <td>0.594</td>\n",
       "    </tr>\n",
       "    <tr>\n",
       "      <th>34</th>\n",
       "      <td>23.5</td>\n",
       "      <td>KSF107 ∆argB</td>\n",
       "      <td>1000</td>\n",
       "      <td>1.176</td>\n",
       "      <td>0.018</td>\n",
       "      <td>0.519</td>\n",
       "    </tr>\n",
       "    <tr>\n",
       "      <th>35</th>\n",
       "      <td>23.5</td>\n",
       "      <td>KSF111 ∆argB</td>\n",
       "      <td>1000</td>\n",
       "      <td>1.409</td>\n",
       "      <td>0.032</td>\n",
       "      <td>0.648</td>\n",
       "    </tr>\n",
       "  </tbody>\n",
       "</table>\n",
       "</div>"
      ]
     },
     "execution_count": 63,
     "metadata": {},
     "output_type": "execute_result"
    }
   ],
   "execution_count": 63
  },
  {
   "metadata": {
    "ExecuteTime": {
     "end_time": "2024-10-17T15:26:40.154599Z",
     "start_time": "2024-10-17T15:26:40.134962Z"
    }
   },
   "cell_type": "code",
   "source": [
    "def od_by_arg_conc(\n",
    "        arg_conc,\n",
    "        od600_to_cdw=.33 * units.g / units.L,\n",
    "        perc_cgp_of_cdw=.44,\n",
    "        perc_arg_of_cgp=.3,\n",
    "        mw_arg=174.2 * units.g / units.mol\n",
    ") -> float:\n",
    "    od = arg_conc / (od600_to_cdw * perc_cgp_of_cdw * perc_arg_of_cgp / mw_arg)\n",
    "    return od.to_base_units()\n",
    "\n",
    "\n",
    "df_cgp_arg = pd.DataFrame(data=dict(arg_conc_µM=[0, 5000])).assign(\n",
    "    od=lambda df: df.arg_conc_µM.apply(lambda c: od_by_arg_conc(c * units.uM).magnitude)\n",
    ")\n",
    "# df_cgp_arg"
   ],
   "id": "3ae1773bd1b430c7",
   "outputs": [],
   "execution_count": 71
  },
  {
   "metadata": {
    "ExecuteTime": {
     "end_time": "2024-10-17T15:26:40.546618Z",
     "start_time": "2024-10-17T15:26:40.541915Z"
    }
   },
   "cell_type": "code",
   "source": [
    "def max_od_by_arg_conc(\n",
    "        arg_conc,\n",
    "        od600_to_cdw=.33 * units.g / units.L,\n",
    "        perc_arg_of_cdw=.025,  # (1prot/2cdw)(1arg/20prot) = 1/40\n",
    "        mw_arg=174.2 * units.g / units.mol\n",
    ") -> float:\n",
    "    od = arg_conc / (od600_to_cdw * perc_arg_of_cdw / mw_arg)\n",
    "    return od.to_base_units()\n",
    "\n",
    "\n",
    "df_arg_cdw = pd.DataFrame(data=dict(arg_conc_µM=[0, 250, 1000])).assign(\n",
    "    od=lambda df: df.arg_conc_µM.apply(lambda c: max_od_by_arg_conc(c * units.uM).magnitude)\n",
    ")\n",
    "# df_arg_cdw"
   ],
   "id": "d53f553e1bdba70b",
   "outputs": [],
   "execution_count": 72
  },
  {
   "metadata": {
    "ExecuteTime": {
     "end_time": "2024-10-17T15:26:41.267944Z",
     "start_time": "2024-10-17T15:26:41.249082Z"
    }
   },
   "cell_type": "code",
   "source": [
    "df_max_ods_sans_0uM = (\n",
    "    df_od_mean_max\n",
    "    # .replace({'arg_conc_uM'})\n",
    "    # .loc[lambda df: (0 < df.arg_conc_uM)]\n",
    "    # .loc[lambda df: (0 <= df.arg_conc_µM) & (df.arg_conc_µM < 500)]\n",
    "    # .loc[lambda df: (0 <= df.arg_conc_µM) & (df.arg_conc_µM < 4000)]\n",
    "    # .loc[lambda df: (0 <= df.arg_conc_µM) & (df.arg_conc_µM < 4000)]\n",
    ")\n",
    "df_max_ods_sans_0uM"
   ],
   "id": "81bde942a29a6a90",
   "outputs": [
    {
     "data": {
      "text/plain": [
       "    elapsed_time_hr     strain_id  arg_conc_uM  od_sample_mean  od_sample_sem  \\\n",
       "12             15.5  KSF107 ∆argB            0           0.657          0.019   \n",
       "13             15.5  KSF111 ∆argB            0           0.761          0.004   \n",
       "26             23.5  KSF107 ∆argB           50           0.927          0.021   \n",
       "27             23.5  KSF111 ∆argB           50           1.169          0.015   \n",
       "52             66.5  KSF107 ∆argB          100           0.985          0.013   \n",
       "29             23.5  KSF111 ∆argB          100           1.175          0.005   \n",
       "54             66.5  KSF107 ∆argB          400           1.103          0.047   \n",
       "31             23.5  KSF111 ∆argB          400           1.283          0.035   \n",
       "56             66.5  KSF107 ∆argB          700           1.171          0.020   \n",
       "33             23.5  KSF111 ∆argB          700           1.355          0.021   \n",
       "34             23.5  KSF107 ∆argB         1000           1.176          0.018   \n",
       "35             23.5  KSF111 ∆argB         1000           1.409          0.032   \n",
       "\n",
       "    od_sample_mean_sans_bg  \n",
       "12                   0.000  \n",
       "13                   0.000  \n",
       "26                   0.270  \n",
       "27                   0.408  \n",
       "52                   0.328  \n",
       "29                   0.414  \n",
       "54                   0.446  \n",
       "31                   0.522  \n",
       "56                   0.514  \n",
       "33                   0.594  \n",
       "34                   0.519  \n",
       "35                   0.648  "
      ],
      "text/html": [
       "<div>\n",
       "<style scoped>\n",
       "    .dataframe tbody tr th:only-of-type {\n",
       "        vertical-align: middle;\n",
       "    }\n",
       "\n",
       "    .dataframe tbody tr th {\n",
       "        vertical-align: top;\n",
       "    }\n",
       "\n",
       "    .dataframe thead th {\n",
       "        text-align: right;\n",
       "    }\n",
       "</style>\n",
       "<table border=\"1\" class=\"dataframe\">\n",
       "  <thead>\n",
       "    <tr style=\"text-align: right;\">\n",
       "      <th></th>\n",
       "      <th>elapsed_time_hr</th>\n",
       "      <th>strain_id</th>\n",
       "      <th>arg_conc_uM</th>\n",
       "      <th>od_sample_mean</th>\n",
       "      <th>od_sample_sem</th>\n",
       "      <th>od_sample_mean_sans_bg</th>\n",
       "    </tr>\n",
       "  </thead>\n",
       "  <tbody>\n",
       "    <tr>\n",
       "      <th>12</th>\n",
       "      <td>15.5</td>\n",
       "      <td>KSF107 ∆argB</td>\n",
       "      <td>0</td>\n",
       "      <td>0.657</td>\n",
       "      <td>0.019</td>\n",
       "      <td>0.000</td>\n",
       "    </tr>\n",
       "    <tr>\n",
       "      <th>13</th>\n",
       "      <td>15.5</td>\n",
       "      <td>KSF111 ∆argB</td>\n",
       "      <td>0</td>\n",
       "      <td>0.761</td>\n",
       "      <td>0.004</td>\n",
       "      <td>0.000</td>\n",
       "    </tr>\n",
       "    <tr>\n",
       "      <th>26</th>\n",
       "      <td>23.5</td>\n",
       "      <td>KSF107 ∆argB</td>\n",
       "      <td>50</td>\n",
       "      <td>0.927</td>\n",
       "      <td>0.021</td>\n",
       "      <td>0.270</td>\n",
       "    </tr>\n",
       "    <tr>\n",
       "      <th>27</th>\n",
       "      <td>23.5</td>\n",
       "      <td>KSF111 ∆argB</td>\n",
       "      <td>50</td>\n",
       "      <td>1.169</td>\n",
       "      <td>0.015</td>\n",
       "      <td>0.408</td>\n",
       "    </tr>\n",
       "    <tr>\n",
       "      <th>52</th>\n",
       "      <td>66.5</td>\n",
       "      <td>KSF107 ∆argB</td>\n",
       "      <td>100</td>\n",
       "      <td>0.985</td>\n",
       "      <td>0.013</td>\n",
       "      <td>0.328</td>\n",
       "    </tr>\n",
       "    <tr>\n",
       "      <th>29</th>\n",
       "      <td>23.5</td>\n",
       "      <td>KSF111 ∆argB</td>\n",
       "      <td>100</td>\n",
       "      <td>1.175</td>\n",
       "      <td>0.005</td>\n",
       "      <td>0.414</td>\n",
       "    </tr>\n",
       "    <tr>\n",
       "      <th>54</th>\n",
       "      <td>66.5</td>\n",
       "      <td>KSF107 ∆argB</td>\n",
       "      <td>400</td>\n",
       "      <td>1.103</td>\n",
       "      <td>0.047</td>\n",
       "      <td>0.446</td>\n",
       "    </tr>\n",
       "    <tr>\n",
       "      <th>31</th>\n",
       "      <td>23.5</td>\n",
       "      <td>KSF111 ∆argB</td>\n",
       "      <td>400</td>\n",
       "      <td>1.283</td>\n",
       "      <td>0.035</td>\n",
       "      <td>0.522</td>\n",
       "    </tr>\n",
       "    <tr>\n",
       "      <th>56</th>\n",
       "      <td>66.5</td>\n",
       "      <td>KSF107 ∆argB</td>\n",
       "      <td>700</td>\n",
       "      <td>1.171</td>\n",
       "      <td>0.020</td>\n",
       "      <td>0.514</td>\n",
       "    </tr>\n",
       "    <tr>\n",
       "      <th>33</th>\n",
       "      <td>23.5</td>\n",
       "      <td>KSF111 ∆argB</td>\n",
       "      <td>700</td>\n",
       "      <td>1.355</td>\n",
       "      <td>0.021</td>\n",
       "      <td>0.594</td>\n",
       "    </tr>\n",
       "    <tr>\n",
       "      <th>34</th>\n",
       "      <td>23.5</td>\n",
       "      <td>KSF107 ∆argB</td>\n",
       "      <td>1000</td>\n",
       "      <td>1.176</td>\n",
       "      <td>0.018</td>\n",
       "      <td>0.519</td>\n",
       "    </tr>\n",
       "    <tr>\n",
       "      <th>35</th>\n",
       "      <td>23.5</td>\n",
       "      <td>KSF111 ∆argB</td>\n",
       "      <td>1000</td>\n",
       "      <td>1.409</td>\n",
       "      <td>0.032</td>\n",
       "      <td>0.648</td>\n",
       "    </tr>\n",
       "  </tbody>\n",
       "</table>\n",
       "</div>"
      ]
     },
     "execution_count": 73,
     "metadata": {},
     "output_type": "execute_result"
    }
   ],
   "execution_count": 73
  },
  {
   "metadata": {
    "ExecuteTime": {
     "end_time": "2024-10-17T15:30:48.867228Z",
     "start_time": "2024-10-17T15:30:48.802641Z"
    }
   },
   "cell_type": "code",
   "source": [
    "px.bar(\n",
    "    df_max_ods_sans_0uM,\n",
    "    x='arg_conc_uM',\n",
    "    y='od_sample_mean',\n",
    "    # y='od_sample_mean_sans_bg',\n",
    "    error_y='od_sample_sem',\n",
    "    color='strain_id',\n",
    "    barmode='group',\n",
    "    labels={\n",
    "        'arg_conc_uM': '[Arg] µM',\n",
    "        'od_sample_mean': 'OD600_mean',\n",
    "        'od_sample_mean_sans_bg': 'OD600_mean (background removed)',\n",
    "        'strain_id': 'ADP1 strain',\n",
    "        'elapsed_time_hr': 'Elapsed Time (hr)',\n",
    "    },\n",
    ").update_layout(\n",
    "    # title='OD ADP1 [KSF107 (∆astA ∆argB), KSF111 (∆astA ∆argBR)] | growth in dosed Arg after preculture and wash',\n",
    "    # title_x=0.5,\n",
    "    showlegend=True,\n",
    "    height=500,\n",
    ")"
   ],
   "id": "b641b6a0656a50c1",
   "outputs": [
    {
     "data": {
      "application/vnd.plotly.v1+json": {
       "data": [
        {
         "alignmentgroup": "True",
         "error_y": {
          "array": [
           0.019,
           0.021,
           0.013,
           0.047,
           0.02,
           0.018
          ]
         },
         "hovertemplate": "ADP1 strain=KSF107 ∆argB<br>[Arg] µM=%{x}<br>OD600_mean=%{y}<extra></extra>",
         "legendgroup": "KSF107 ∆argB",
         "marker": {
          "color": "#636efa",
          "pattern": {
           "shape": ""
          }
         },
         "name": "KSF107 ∆argB",
         "offsetgroup": "KSF107 ∆argB",
         "orientation": "v",
         "showlegend": true,
         "textposition": "auto",
         "x": [
          0,
          50,
          100,
          400,
          700,
          1000
         ],
         "xaxis": "x",
         "y": [
          0.657,
          0.927,
          0.985,
          1.103,
          1.171,
          1.176
         ],
         "yaxis": "y",
         "type": "bar"
        },
        {
         "alignmentgroup": "True",
         "error_y": {
          "array": [
           0.004,
           0.015,
           0.005,
           0.035,
           0.021,
           0.032
          ]
         },
         "hovertemplate": "ADP1 strain=KSF111 ∆argB<br>[Arg] µM=%{x}<br>OD600_mean=%{y}<extra></extra>",
         "legendgroup": "KSF111 ∆argB",
         "marker": {
          "color": "#EF553B",
          "pattern": {
           "shape": ""
          }
         },
         "name": "KSF111 ∆argB",
         "offsetgroup": "KSF111 ∆argB",
         "orientation": "v",
         "showlegend": true,
         "textposition": "auto",
         "x": [
          0,
          50,
          100,
          400,
          700,
          1000
         ],
         "xaxis": "x",
         "y": [
          0.761,
          1.169,
          1.175,
          1.283,
          1.355,
          1.409
         ],
         "yaxis": "y",
         "type": "bar"
        }
       ],
       "layout": {
        "template": {
         "data": {
          "histogram2dcontour": [
           {
            "type": "histogram2dcontour",
            "colorbar": {
             "outlinewidth": 0,
             "ticks": ""
            },
            "colorscale": [
             [
              0.0,
              "#0d0887"
             ],
             [
              0.1111111111111111,
              "#46039f"
             ],
             [
              0.2222222222222222,
              "#7201a8"
             ],
             [
              0.3333333333333333,
              "#9c179e"
             ],
             [
              0.4444444444444444,
              "#bd3786"
             ],
             [
              0.5555555555555556,
              "#d8576b"
             ],
             [
              0.6666666666666666,
              "#ed7953"
             ],
             [
              0.7777777777777778,
              "#fb9f3a"
             ],
             [
              0.8888888888888888,
              "#fdca26"
             ],
             [
              1.0,
              "#f0f921"
             ]
            ]
           }
          ],
          "choropleth": [
           {
            "type": "choropleth",
            "colorbar": {
             "outlinewidth": 0,
             "ticks": ""
            }
           }
          ],
          "histogram2d": [
           {
            "type": "histogram2d",
            "colorbar": {
             "outlinewidth": 0,
             "ticks": ""
            },
            "colorscale": [
             [
              0.0,
              "#0d0887"
             ],
             [
              0.1111111111111111,
              "#46039f"
             ],
             [
              0.2222222222222222,
              "#7201a8"
             ],
             [
              0.3333333333333333,
              "#9c179e"
             ],
             [
              0.4444444444444444,
              "#bd3786"
             ],
             [
              0.5555555555555556,
              "#d8576b"
             ],
             [
              0.6666666666666666,
              "#ed7953"
             ],
             [
              0.7777777777777778,
              "#fb9f3a"
             ],
             [
              0.8888888888888888,
              "#fdca26"
             ],
             [
              1.0,
              "#f0f921"
             ]
            ]
           }
          ],
          "heatmap": [
           {
            "type": "heatmap",
            "colorbar": {
             "outlinewidth": 0,
             "ticks": ""
            },
            "colorscale": [
             [
              0.0,
              "#0d0887"
             ],
             [
              0.1111111111111111,
              "#46039f"
             ],
             [
              0.2222222222222222,
              "#7201a8"
             ],
             [
              0.3333333333333333,
              "#9c179e"
             ],
             [
              0.4444444444444444,
              "#bd3786"
             ],
             [
              0.5555555555555556,
              "#d8576b"
             ],
             [
              0.6666666666666666,
              "#ed7953"
             ],
             [
              0.7777777777777778,
              "#fb9f3a"
             ],
             [
              0.8888888888888888,
              "#fdca26"
             ],
             [
              1.0,
              "#f0f921"
             ]
            ]
           }
          ],
          "heatmapgl": [
           {
            "type": "heatmapgl",
            "colorbar": {
             "outlinewidth": 0,
             "ticks": ""
            },
            "colorscale": [
             [
              0.0,
              "#0d0887"
             ],
             [
              0.1111111111111111,
              "#46039f"
             ],
             [
              0.2222222222222222,
              "#7201a8"
             ],
             [
              0.3333333333333333,
              "#9c179e"
             ],
             [
              0.4444444444444444,
              "#bd3786"
             ],
             [
              0.5555555555555556,
              "#d8576b"
             ],
             [
              0.6666666666666666,
              "#ed7953"
             ],
             [
              0.7777777777777778,
              "#fb9f3a"
             ],
             [
              0.8888888888888888,
              "#fdca26"
             ],
             [
              1.0,
              "#f0f921"
             ]
            ]
           }
          ],
          "contourcarpet": [
           {
            "type": "contourcarpet",
            "colorbar": {
             "outlinewidth": 0,
             "ticks": ""
            }
           }
          ],
          "contour": [
           {
            "type": "contour",
            "colorbar": {
             "outlinewidth": 0,
             "ticks": ""
            },
            "colorscale": [
             [
              0.0,
              "#0d0887"
             ],
             [
              0.1111111111111111,
              "#46039f"
             ],
             [
              0.2222222222222222,
              "#7201a8"
             ],
             [
              0.3333333333333333,
              "#9c179e"
             ],
             [
              0.4444444444444444,
              "#bd3786"
             ],
             [
              0.5555555555555556,
              "#d8576b"
             ],
             [
              0.6666666666666666,
              "#ed7953"
             ],
             [
              0.7777777777777778,
              "#fb9f3a"
             ],
             [
              0.8888888888888888,
              "#fdca26"
             ],
             [
              1.0,
              "#f0f921"
             ]
            ]
           }
          ],
          "surface": [
           {
            "type": "surface",
            "colorbar": {
             "outlinewidth": 0,
             "ticks": ""
            },
            "colorscale": [
             [
              0.0,
              "#0d0887"
             ],
             [
              0.1111111111111111,
              "#46039f"
             ],
             [
              0.2222222222222222,
              "#7201a8"
             ],
             [
              0.3333333333333333,
              "#9c179e"
             ],
             [
              0.4444444444444444,
              "#bd3786"
             ],
             [
              0.5555555555555556,
              "#d8576b"
             ],
             [
              0.6666666666666666,
              "#ed7953"
             ],
             [
              0.7777777777777778,
              "#fb9f3a"
             ],
             [
              0.8888888888888888,
              "#fdca26"
             ],
             [
              1.0,
              "#f0f921"
             ]
            ]
           }
          ],
          "mesh3d": [
           {
            "type": "mesh3d",
            "colorbar": {
             "outlinewidth": 0,
             "ticks": ""
            }
           }
          ],
          "scatter": [
           {
            "fillpattern": {
             "fillmode": "overlay",
             "size": 10,
             "solidity": 0.2
            },
            "type": "scatter"
           }
          ],
          "parcoords": [
           {
            "type": "parcoords",
            "line": {
             "colorbar": {
              "outlinewidth": 0,
              "ticks": ""
             }
            }
           }
          ],
          "scatterpolargl": [
           {
            "type": "scatterpolargl",
            "marker": {
             "colorbar": {
              "outlinewidth": 0,
              "ticks": ""
             }
            }
           }
          ],
          "bar": [
           {
            "error_x": {
             "color": "#2a3f5f"
            },
            "error_y": {
             "color": "#2a3f5f"
            },
            "marker": {
             "line": {
              "color": "#E5ECF6",
              "width": 0.5
             },
             "pattern": {
              "fillmode": "overlay",
              "size": 10,
              "solidity": 0.2
             }
            },
            "type": "bar"
           }
          ],
          "scattergeo": [
           {
            "type": "scattergeo",
            "marker": {
             "colorbar": {
              "outlinewidth": 0,
              "ticks": ""
             }
            }
           }
          ],
          "scatterpolar": [
           {
            "type": "scatterpolar",
            "marker": {
             "colorbar": {
              "outlinewidth": 0,
              "ticks": ""
             }
            }
           }
          ],
          "histogram": [
           {
            "marker": {
             "pattern": {
              "fillmode": "overlay",
              "size": 10,
              "solidity": 0.2
             }
            },
            "type": "histogram"
           }
          ],
          "scattergl": [
           {
            "type": "scattergl",
            "marker": {
             "colorbar": {
              "outlinewidth": 0,
              "ticks": ""
             }
            }
           }
          ],
          "scatter3d": [
           {
            "type": "scatter3d",
            "line": {
             "colorbar": {
              "outlinewidth": 0,
              "ticks": ""
             }
            },
            "marker": {
             "colorbar": {
              "outlinewidth": 0,
              "ticks": ""
             }
            }
           }
          ],
          "scattermapbox": [
           {
            "type": "scattermapbox",
            "marker": {
             "colorbar": {
              "outlinewidth": 0,
              "ticks": ""
             }
            }
           }
          ],
          "scatterternary": [
           {
            "type": "scatterternary",
            "marker": {
             "colorbar": {
              "outlinewidth": 0,
              "ticks": ""
             }
            }
           }
          ],
          "scattercarpet": [
           {
            "type": "scattercarpet",
            "marker": {
             "colorbar": {
              "outlinewidth": 0,
              "ticks": ""
             }
            }
           }
          ],
          "carpet": [
           {
            "aaxis": {
             "endlinecolor": "#2a3f5f",
             "gridcolor": "white",
             "linecolor": "white",
             "minorgridcolor": "white",
             "startlinecolor": "#2a3f5f"
            },
            "baxis": {
             "endlinecolor": "#2a3f5f",
             "gridcolor": "white",
             "linecolor": "white",
             "minorgridcolor": "white",
             "startlinecolor": "#2a3f5f"
            },
            "type": "carpet"
           }
          ],
          "table": [
           {
            "cells": {
             "fill": {
              "color": "#EBF0F8"
             },
             "line": {
              "color": "white"
             }
            },
            "header": {
             "fill": {
              "color": "#C8D4E3"
             },
             "line": {
              "color": "white"
             }
            },
            "type": "table"
           }
          ],
          "barpolar": [
           {
            "marker": {
             "line": {
              "color": "#E5ECF6",
              "width": 0.5
             },
             "pattern": {
              "fillmode": "overlay",
              "size": 10,
              "solidity": 0.2
             }
            },
            "type": "barpolar"
           }
          ],
          "pie": [
           {
            "automargin": true,
            "type": "pie"
           }
          ]
         },
         "layout": {
          "autotypenumbers": "strict",
          "colorway": [
           "#636efa",
           "#EF553B",
           "#00cc96",
           "#ab63fa",
           "#FFA15A",
           "#19d3f3",
           "#FF6692",
           "#B6E880",
           "#FF97FF",
           "#FECB52"
          ],
          "font": {
           "color": "#2a3f5f"
          },
          "hovermode": "closest",
          "hoverlabel": {
           "align": "left"
          },
          "paper_bgcolor": "white",
          "plot_bgcolor": "#E5ECF6",
          "polar": {
           "bgcolor": "#E5ECF6",
           "angularaxis": {
            "gridcolor": "white",
            "linecolor": "white",
            "ticks": ""
           },
           "radialaxis": {
            "gridcolor": "white",
            "linecolor": "white",
            "ticks": ""
           }
          },
          "ternary": {
           "bgcolor": "#E5ECF6",
           "aaxis": {
            "gridcolor": "white",
            "linecolor": "white",
            "ticks": ""
           },
           "baxis": {
            "gridcolor": "white",
            "linecolor": "white",
            "ticks": ""
           },
           "caxis": {
            "gridcolor": "white",
            "linecolor": "white",
            "ticks": ""
           }
          },
          "coloraxis": {
           "colorbar": {
            "outlinewidth": 0,
            "ticks": ""
           }
          },
          "colorscale": {
           "sequential": [
            [
             0.0,
             "#0d0887"
            ],
            [
             0.1111111111111111,
             "#46039f"
            ],
            [
             0.2222222222222222,
             "#7201a8"
            ],
            [
             0.3333333333333333,
             "#9c179e"
            ],
            [
             0.4444444444444444,
             "#bd3786"
            ],
            [
             0.5555555555555556,
             "#d8576b"
            ],
            [
             0.6666666666666666,
             "#ed7953"
            ],
            [
             0.7777777777777778,
             "#fb9f3a"
            ],
            [
             0.8888888888888888,
             "#fdca26"
            ],
            [
             1.0,
             "#f0f921"
            ]
           ],
           "sequentialminus": [
            [
             0.0,
             "#0d0887"
            ],
            [
             0.1111111111111111,
             "#46039f"
            ],
            [
             0.2222222222222222,
             "#7201a8"
            ],
            [
             0.3333333333333333,
             "#9c179e"
            ],
            [
             0.4444444444444444,
             "#bd3786"
            ],
            [
             0.5555555555555556,
             "#d8576b"
            ],
            [
             0.6666666666666666,
             "#ed7953"
            ],
            [
             0.7777777777777778,
             "#fb9f3a"
            ],
            [
             0.8888888888888888,
             "#fdca26"
            ],
            [
             1.0,
             "#f0f921"
            ]
           ],
           "diverging": [
            [
             0,
             "#8e0152"
            ],
            [
             0.1,
             "#c51b7d"
            ],
            [
             0.2,
             "#de77ae"
            ],
            [
             0.3,
             "#f1b6da"
            ],
            [
             0.4,
             "#fde0ef"
            ],
            [
             0.5,
             "#f7f7f7"
            ],
            [
             0.6,
             "#e6f5d0"
            ],
            [
             0.7,
             "#b8e186"
            ],
            [
             0.8,
             "#7fbc41"
            ],
            [
             0.9,
             "#4d9221"
            ],
            [
             1,
             "#276419"
            ]
           ]
          },
          "xaxis": {
           "gridcolor": "white",
           "linecolor": "white",
           "ticks": "",
           "title": {
            "standoff": 15
           },
           "zerolinecolor": "white",
           "automargin": true,
           "zerolinewidth": 2
          },
          "yaxis": {
           "gridcolor": "white",
           "linecolor": "white",
           "ticks": "",
           "title": {
            "standoff": 15
           },
           "zerolinecolor": "white",
           "automargin": true,
           "zerolinewidth": 2
          },
          "scene": {
           "xaxis": {
            "backgroundcolor": "#E5ECF6",
            "gridcolor": "white",
            "linecolor": "white",
            "showbackground": true,
            "ticks": "",
            "zerolinecolor": "white",
            "gridwidth": 2
           },
           "yaxis": {
            "backgroundcolor": "#E5ECF6",
            "gridcolor": "white",
            "linecolor": "white",
            "showbackground": true,
            "ticks": "",
            "zerolinecolor": "white",
            "gridwidth": 2
           },
           "zaxis": {
            "backgroundcolor": "#E5ECF6",
            "gridcolor": "white",
            "linecolor": "white",
            "showbackground": true,
            "ticks": "",
            "zerolinecolor": "white",
            "gridwidth": 2
           }
          },
          "shapedefaults": {
           "line": {
            "color": "#2a3f5f"
           }
          },
          "annotationdefaults": {
           "arrowcolor": "#2a3f5f",
           "arrowhead": 0,
           "arrowwidth": 1
          },
          "geo": {
           "bgcolor": "white",
           "landcolor": "#E5ECF6",
           "subunitcolor": "white",
           "showland": true,
           "showlakes": true,
           "lakecolor": "white"
          },
          "title": {
           "x": 0.05
          },
          "mapbox": {
           "style": "light"
          }
         }
        },
        "xaxis": {
         "anchor": "y",
         "domain": [
          0.0,
          1.0
         ],
         "title": {
          "text": "[Arg] µM"
         }
        },
        "yaxis": {
         "anchor": "x",
         "domain": [
          0.0,
          1.0
         ],
         "title": {
          "text": "OD600_mean"
         }
        },
        "legend": {
         "title": {
          "text": "ADP1 strain"
         },
         "tracegroupgap": 0
        },
        "margin": {
         "t": 60
        },
        "barmode": "group",
        "showlegend": true,
        "height": 500
       },
       "config": {
        "plotlyServerURL": "https://plot.ly"
       }
      },
      "text/html": [
       "<div>                            <div id=\"ccb66135-adff-4d26-a9b1-7abc4c8959c4\" class=\"plotly-graph-div\" style=\"height:500px; width:100%;\"></div>            <script type=\"text/javascript\">                require([\"plotly\"], function(Plotly) {                    window.PLOTLYENV=window.PLOTLYENV || {};                                    if (document.getElementById(\"ccb66135-adff-4d26-a9b1-7abc4c8959c4\")) {                    Plotly.newPlot(                        \"ccb66135-adff-4d26-a9b1-7abc4c8959c4\",                        [{\"alignmentgroup\":\"True\",\"error_y\":{\"array\":[0.019,0.021,0.013,0.047,0.02,0.018]},\"hovertemplate\":\"ADP1 strain=KSF107 \\u2206argB\\u003cbr\\u003e[Arg] \\u00b5M=%{x}\\u003cbr\\u003eOD600_mean=%{y}\\u003cextra\\u003e\\u003c\\u002fextra\\u003e\",\"legendgroup\":\"KSF107 \\u2206argB\",\"marker\":{\"color\":\"#636efa\",\"pattern\":{\"shape\":\"\"}},\"name\":\"KSF107 \\u2206argB\",\"offsetgroup\":\"KSF107 \\u2206argB\",\"orientation\":\"v\",\"showlegend\":true,\"textposition\":\"auto\",\"x\":[0,50,100,400,700,1000],\"xaxis\":\"x\",\"y\":[0.657,0.927,0.985,1.103,1.171,1.176],\"yaxis\":\"y\",\"type\":\"bar\"},{\"alignmentgroup\":\"True\",\"error_y\":{\"array\":[0.004,0.015,0.005,0.035,0.021,0.032]},\"hovertemplate\":\"ADP1 strain=KSF111 \\u2206argB\\u003cbr\\u003e[Arg] \\u00b5M=%{x}\\u003cbr\\u003eOD600_mean=%{y}\\u003cextra\\u003e\\u003c\\u002fextra\\u003e\",\"legendgroup\":\"KSF111 \\u2206argB\",\"marker\":{\"color\":\"#EF553B\",\"pattern\":{\"shape\":\"\"}},\"name\":\"KSF111 \\u2206argB\",\"offsetgroup\":\"KSF111 \\u2206argB\",\"orientation\":\"v\",\"showlegend\":true,\"textposition\":\"auto\",\"x\":[0,50,100,400,700,1000],\"xaxis\":\"x\",\"y\":[0.761,1.169,1.175,1.283,1.355,1.409],\"yaxis\":\"y\",\"type\":\"bar\"}],                        {\"template\":{\"data\":{\"histogram2dcontour\":[{\"type\":\"histogram2dcontour\",\"colorbar\":{\"outlinewidth\":0,\"ticks\":\"\"},\"colorscale\":[[0.0,\"#0d0887\"],[0.1111111111111111,\"#46039f\"],[0.2222222222222222,\"#7201a8\"],[0.3333333333333333,\"#9c179e\"],[0.4444444444444444,\"#bd3786\"],[0.5555555555555556,\"#d8576b\"],[0.6666666666666666,\"#ed7953\"],[0.7777777777777778,\"#fb9f3a\"],[0.8888888888888888,\"#fdca26\"],[1.0,\"#f0f921\"]]}],\"choropleth\":[{\"type\":\"choropleth\",\"colorbar\":{\"outlinewidth\":0,\"ticks\":\"\"}}],\"histogram2d\":[{\"type\":\"histogram2d\",\"colorbar\":{\"outlinewidth\":0,\"ticks\":\"\"},\"colorscale\":[[0.0,\"#0d0887\"],[0.1111111111111111,\"#46039f\"],[0.2222222222222222,\"#7201a8\"],[0.3333333333333333,\"#9c179e\"],[0.4444444444444444,\"#bd3786\"],[0.5555555555555556,\"#d8576b\"],[0.6666666666666666,\"#ed7953\"],[0.7777777777777778,\"#fb9f3a\"],[0.8888888888888888,\"#fdca26\"],[1.0,\"#f0f921\"]]}],\"heatmap\":[{\"type\":\"heatmap\",\"colorbar\":{\"outlinewidth\":0,\"ticks\":\"\"},\"colorscale\":[[0.0,\"#0d0887\"],[0.1111111111111111,\"#46039f\"],[0.2222222222222222,\"#7201a8\"],[0.3333333333333333,\"#9c179e\"],[0.4444444444444444,\"#bd3786\"],[0.5555555555555556,\"#d8576b\"],[0.6666666666666666,\"#ed7953\"],[0.7777777777777778,\"#fb9f3a\"],[0.8888888888888888,\"#fdca26\"],[1.0,\"#f0f921\"]]}],\"heatmapgl\":[{\"type\":\"heatmapgl\",\"colorbar\":{\"outlinewidth\":0,\"ticks\":\"\"},\"colorscale\":[[0.0,\"#0d0887\"],[0.1111111111111111,\"#46039f\"],[0.2222222222222222,\"#7201a8\"],[0.3333333333333333,\"#9c179e\"],[0.4444444444444444,\"#bd3786\"],[0.5555555555555556,\"#d8576b\"],[0.6666666666666666,\"#ed7953\"],[0.7777777777777778,\"#fb9f3a\"],[0.8888888888888888,\"#fdca26\"],[1.0,\"#f0f921\"]]}],\"contourcarpet\":[{\"type\":\"contourcarpet\",\"colorbar\":{\"outlinewidth\":0,\"ticks\":\"\"}}],\"contour\":[{\"type\":\"contour\",\"colorbar\":{\"outlinewidth\":0,\"ticks\":\"\"},\"colorscale\":[[0.0,\"#0d0887\"],[0.1111111111111111,\"#46039f\"],[0.2222222222222222,\"#7201a8\"],[0.3333333333333333,\"#9c179e\"],[0.4444444444444444,\"#bd3786\"],[0.5555555555555556,\"#d8576b\"],[0.6666666666666666,\"#ed7953\"],[0.7777777777777778,\"#fb9f3a\"],[0.8888888888888888,\"#fdca26\"],[1.0,\"#f0f921\"]]}],\"surface\":[{\"type\":\"surface\",\"colorbar\":{\"outlinewidth\":0,\"ticks\":\"\"},\"colorscale\":[[0.0,\"#0d0887\"],[0.1111111111111111,\"#46039f\"],[0.2222222222222222,\"#7201a8\"],[0.3333333333333333,\"#9c179e\"],[0.4444444444444444,\"#bd3786\"],[0.5555555555555556,\"#d8576b\"],[0.6666666666666666,\"#ed7953\"],[0.7777777777777778,\"#fb9f3a\"],[0.8888888888888888,\"#fdca26\"],[1.0,\"#f0f921\"]]}],\"mesh3d\":[{\"type\":\"mesh3d\",\"colorbar\":{\"outlinewidth\":0,\"ticks\":\"\"}}],\"scatter\":[{\"fillpattern\":{\"fillmode\":\"overlay\",\"size\":10,\"solidity\":0.2},\"type\":\"scatter\"}],\"parcoords\":[{\"type\":\"parcoords\",\"line\":{\"colorbar\":{\"outlinewidth\":0,\"ticks\":\"\"}}}],\"scatterpolargl\":[{\"type\":\"scatterpolargl\",\"marker\":{\"colorbar\":{\"outlinewidth\":0,\"ticks\":\"\"}}}],\"bar\":[{\"error_x\":{\"color\":\"#2a3f5f\"},\"error_y\":{\"color\":\"#2a3f5f\"},\"marker\":{\"line\":{\"color\":\"#E5ECF6\",\"width\":0.5},\"pattern\":{\"fillmode\":\"overlay\",\"size\":10,\"solidity\":0.2}},\"type\":\"bar\"}],\"scattergeo\":[{\"type\":\"scattergeo\",\"marker\":{\"colorbar\":{\"outlinewidth\":0,\"ticks\":\"\"}}}],\"scatterpolar\":[{\"type\":\"scatterpolar\",\"marker\":{\"colorbar\":{\"outlinewidth\":0,\"ticks\":\"\"}}}],\"histogram\":[{\"marker\":{\"pattern\":{\"fillmode\":\"overlay\",\"size\":10,\"solidity\":0.2}},\"type\":\"histogram\"}],\"scattergl\":[{\"type\":\"scattergl\",\"marker\":{\"colorbar\":{\"outlinewidth\":0,\"ticks\":\"\"}}}],\"scatter3d\":[{\"type\":\"scatter3d\",\"line\":{\"colorbar\":{\"outlinewidth\":0,\"ticks\":\"\"}},\"marker\":{\"colorbar\":{\"outlinewidth\":0,\"ticks\":\"\"}}}],\"scattermapbox\":[{\"type\":\"scattermapbox\",\"marker\":{\"colorbar\":{\"outlinewidth\":0,\"ticks\":\"\"}}}],\"scatterternary\":[{\"type\":\"scatterternary\",\"marker\":{\"colorbar\":{\"outlinewidth\":0,\"ticks\":\"\"}}}],\"scattercarpet\":[{\"type\":\"scattercarpet\",\"marker\":{\"colorbar\":{\"outlinewidth\":0,\"ticks\":\"\"}}}],\"carpet\":[{\"aaxis\":{\"endlinecolor\":\"#2a3f5f\",\"gridcolor\":\"white\",\"linecolor\":\"white\",\"minorgridcolor\":\"white\",\"startlinecolor\":\"#2a3f5f\"},\"baxis\":{\"endlinecolor\":\"#2a3f5f\",\"gridcolor\":\"white\",\"linecolor\":\"white\",\"minorgridcolor\":\"white\",\"startlinecolor\":\"#2a3f5f\"},\"type\":\"carpet\"}],\"table\":[{\"cells\":{\"fill\":{\"color\":\"#EBF0F8\"},\"line\":{\"color\":\"white\"}},\"header\":{\"fill\":{\"color\":\"#C8D4E3\"},\"line\":{\"color\":\"white\"}},\"type\":\"table\"}],\"barpolar\":[{\"marker\":{\"line\":{\"color\":\"#E5ECF6\",\"width\":0.5},\"pattern\":{\"fillmode\":\"overlay\",\"size\":10,\"solidity\":0.2}},\"type\":\"barpolar\"}],\"pie\":[{\"automargin\":true,\"type\":\"pie\"}]},\"layout\":{\"autotypenumbers\":\"strict\",\"colorway\":[\"#636efa\",\"#EF553B\",\"#00cc96\",\"#ab63fa\",\"#FFA15A\",\"#19d3f3\",\"#FF6692\",\"#B6E880\",\"#FF97FF\",\"#FECB52\"],\"font\":{\"color\":\"#2a3f5f\"},\"hovermode\":\"closest\",\"hoverlabel\":{\"align\":\"left\"},\"paper_bgcolor\":\"white\",\"plot_bgcolor\":\"#E5ECF6\",\"polar\":{\"bgcolor\":\"#E5ECF6\",\"angularaxis\":{\"gridcolor\":\"white\",\"linecolor\":\"white\",\"ticks\":\"\"},\"radialaxis\":{\"gridcolor\":\"white\",\"linecolor\":\"white\",\"ticks\":\"\"}},\"ternary\":{\"bgcolor\":\"#E5ECF6\",\"aaxis\":{\"gridcolor\":\"white\",\"linecolor\":\"white\",\"ticks\":\"\"},\"baxis\":{\"gridcolor\":\"white\",\"linecolor\":\"white\",\"ticks\":\"\"},\"caxis\":{\"gridcolor\":\"white\",\"linecolor\":\"white\",\"ticks\":\"\"}},\"coloraxis\":{\"colorbar\":{\"outlinewidth\":0,\"ticks\":\"\"}},\"colorscale\":{\"sequential\":[[0.0,\"#0d0887\"],[0.1111111111111111,\"#46039f\"],[0.2222222222222222,\"#7201a8\"],[0.3333333333333333,\"#9c179e\"],[0.4444444444444444,\"#bd3786\"],[0.5555555555555556,\"#d8576b\"],[0.6666666666666666,\"#ed7953\"],[0.7777777777777778,\"#fb9f3a\"],[0.8888888888888888,\"#fdca26\"],[1.0,\"#f0f921\"]],\"sequentialminus\":[[0.0,\"#0d0887\"],[0.1111111111111111,\"#46039f\"],[0.2222222222222222,\"#7201a8\"],[0.3333333333333333,\"#9c179e\"],[0.4444444444444444,\"#bd3786\"],[0.5555555555555556,\"#d8576b\"],[0.6666666666666666,\"#ed7953\"],[0.7777777777777778,\"#fb9f3a\"],[0.8888888888888888,\"#fdca26\"],[1.0,\"#f0f921\"]],\"diverging\":[[0,\"#8e0152\"],[0.1,\"#c51b7d\"],[0.2,\"#de77ae\"],[0.3,\"#f1b6da\"],[0.4,\"#fde0ef\"],[0.5,\"#f7f7f7\"],[0.6,\"#e6f5d0\"],[0.7,\"#b8e186\"],[0.8,\"#7fbc41\"],[0.9,\"#4d9221\"],[1,\"#276419\"]]},\"xaxis\":{\"gridcolor\":\"white\",\"linecolor\":\"white\",\"ticks\":\"\",\"title\":{\"standoff\":15},\"zerolinecolor\":\"white\",\"automargin\":true,\"zerolinewidth\":2},\"yaxis\":{\"gridcolor\":\"white\",\"linecolor\":\"white\",\"ticks\":\"\",\"title\":{\"standoff\":15},\"zerolinecolor\":\"white\",\"automargin\":true,\"zerolinewidth\":2},\"scene\":{\"xaxis\":{\"backgroundcolor\":\"#E5ECF6\",\"gridcolor\":\"white\",\"linecolor\":\"white\",\"showbackground\":true,\"ticks\":\"\",\"zerolinecolor\":\"white\",\"gridwidth\":2},\"yaxis\":{\"backgroundcolor\":\"#E5ECF6\",\"gridcolor\":\"white\",\"linecolor\":\"white\",\"showbackground\":true,\"ticks\":\"\",\"zerolinecolor\":\"white\",\"gridwidth\":2},\"zaxis\":{\"backgroundcolor\":\"#E5ECF6\",\"gridcolor\":\"white\",\"linecolor\":\"white\",\"showbackground\":true,\"ticks\":\"\",\"zerolinecolor\":\"white\",\"gridwidth\":2}},\"shapedefaults\":{\"line\":{\"color\":\"#2a3f5f\"}},\"annotationdefaults\":{\"arrowcolor\":\"#2a3f5f\",\"arrowhead\":0,\"arrowwidth\":1},\"geo\":{\"bgcolor\":\"white\",\"landcolor\":\"#E5ECF6\",\"subunitcolor\":\"white\",\"showland\":true,\"showlakes\":true,\"lakecolor\":\"white\"},\"title\":{\"x\":0.05},\"mapbox\":{\"style\":\"light\"}}},\"xaxis\":{\"anchor\":\"y\",\"domain\":[0.0,1.0],\"title\":{\"text\":\"[Arg] \\u00b5M\"}},\"yaxis\":{\"anchor\":\"x\",\"domain\":[0.0,1.0],\"title\":{\"text\":\"OD600_mean\"}},\"legend\":{\"title\":{\"text\":\"ADP1 strain\"},\"tracegroupgap\":0},\"margin\":{\"t\":60},\"barmode\":\"group\",\"showlegend\":true,\"height\":500},                        {\"responsive\": true}                    ).then(function(){\n",
       "                            \n",
       "var gd = document.getElementById('ccb66135-adff-4d26-a9b1-7abc4c8959c4');\n",
       "var x = new MutationObserver(function (mutations, observer) {{\n",
       "        var display = window.getComputedStyle(gd).display;\n",
       "        if (!display || display === 'none') {{\n",
       "            console.log([gd, 'removed!']);\n",
       "            Plotly.purge(gd);\n",
       "            observer.disconnect();\n",
       "        }}\n",
       "}});\n",
       "\n",
       "// Listen for the removal of the full notebook cells\n",
       "var notebookContainer = gd.closest('#notebook-container');\n",
       "if (notebookContainer) {{\n",
       "    x.observe(notebookContainer, {childList: true});\n",
       "}}\n",
       "\n",
       "// Listen for the clearing of the current output cell\n",
       "var outputEl = gd.closest('.output');\n",
       "if (outputEl) {{\n",
       "    x.observe(outputEl, {childList: true});\n",
       "}}\n",
       "\n",
       "                        })                };                });            </script>        </div>"
      ]
     },
     "metadata": {},
     "output_type": "display_data"
    }
   ],
   "execution_count": 78
  },
  {
   "metadata": {
    "ExecuteTime": {
     "end_time": "2024-10-17T15:26:26.956105Z",
     "start_time": "2024-10-17T15:26:26.924606Z"
    }
   },
   "cell_type": "code",
   "source": [
    "# df_max_ods_sans_0uM_means.assign(\n",
    "#     arg_g=lambda df: df.index.get_level_values('arg_conc_μM') / 1E6 * 174.2,\n",
    "#     bm_g=lambda df: df.od_sample_mean * .33,\n",
    "# )"
   ],
   "id": "13ba0ad688673081",
   "outputs": [],
   "execution_count": 70
  },
  {
   "metadata": {
    "ExecuteTime": {
     "end_time": "2024-10-17T15:28:09.245866Z",
     "start_time": "2024-10-17T15:28:09.111001Z"
    }
   },
   "cell_type": "code",
   "source": [
    "fig_yield = px.scatter(\n",
    "    df_od_mean_max,\n",
    "    x='arg_conc_uM',\n",
    "    y='od_sample_mean_sans_bg',\n",
    "    color='strain_id',\n",
    "    labels={\n",
    "        'strain_id': 'ADP1 Strain',\n",
    "        'od_sample_x': 'OD',\n",
    "        'arg_conc_μM': '[Arg] (µM)'\n",
    "    },\n",
    "    trendline='ols',\n",
    ").update_layout(\n",
    "    # title='ADP1 {KSF230 ∆argB, KSF? ∆argB ∆argR} Biomass Yield Curves',\n",
    "    title_x=0.5,\n",
    ")\n",
    "fig_yield.add_traces([\n",
    "    # constraint: \n",
    "    go.Scatter(\n",
    "        x=df_cgp_arg.arg_conc_μM, y=df_cgp_arg.od,\n",
    "        name='[Arg] from BM w/CGP',\n",
    "        mode='lines', line=dict(dash='dot', color='darkgray'),\n",
    "        # fill='tonexty',\n",
    "    ),\n",
    "    # constraint: \n",
    "    go.Scatter(\n",
    "        x=df_arg_cdw.arg_conc_μM, y=df_arg_cdw.od,\n",
    "        name='ODmax by 2.5% Arg',\n",
    "        mode='lines', line=dict(dash='dash'),\n",
    "        # fill='tonexty',\n",
    "    ),\n",
    "])\n",
    "yield_fits = px.get_trendline_results(fig_yield).set_index('ADP1 Strain').px_fit_results\n",
    "\n",
    "fig_yield.update_layout(template='simple_white')\n",
    "\n",
    "fig_yield.write_image('../../figures/pk_exp007_AginineTitrationResponse.pdf')\n",
    "fig_yield"
   ],
   "id": "afa0cb797b7c9a8",
   "outputs": [
    {
     "data": {
      "application/vnd.plotly.v1+json": {
       "data": [
        {
         "hovertemplate": "ADP1 Strain=KSF107 ∆argB<br>arg_conc_uM=%{x}<br>od_sample_mean_sans_bg=%{y}<extra></extra>",
         "legendgroup": "KSF107 ∆argB",
         "marker": {
          "color": "#636efa",
          "symbol": "circle"
         },
         "mode": "markers",
         "name": "KSF107 ∆argB",
         "orientation": "v",
         "showlegend": true,
         "x": [
          0,
          50,
          100,
          400,
          700,
          1000
         ],
         "xaxis": "x",
         "y": [
          0.0,
          0.27,
          0.32799999999999996,
          0.44599999999999995,
          0.514,
          0.5189999999999999
         ],
         "yaxis": "y",
         "type": "scatter"
        },
        {
         "hovertemplate": "<b>OLS trendline</b><br>od_sample_mean_sans_bg = 0.000396489 * arg_conc_uM + 0.197483<br>R<sup>2</sup>=0.663561<br><br>ADP1 Strain=KSF107 ∆argB<br>arg_conc_uM=%{x}<br>od_sample_mean_sans_bg=%{y} <b>(trend)</b><extra></extra>",
         "legendgroup": "KSF107 ∆argB",
         "marker": {
          "color": "#636efa",
          "symbol": "circle"
         },
         "mode": "lines",
         "name": "KSF107 ∆argB",
         "showlegend": false,
         "x": [
          0,
          50,
          100,
          400,
          700,
          1000
         ],
         "xaxis": "x",
         "y": [
          0.1974834605597965,
          0.2173078880407125,
          0.23713231552162853,
          0.35607888040712465,
          0.47502544529262075,
          0.5939720101781168
         ],
         "yaxis": "y",
         "type": "scatter"
        },
        {
         "hovertemplate": "ADP1 Strain=KSF111 ∆argB<br>arg_conc_uM=%{x}<br>od_sample_mean_sans_bg=%{y}<extra></extra>",
         "legendgroup": "KSF111 ∆argB",
         "marker": {
          "color": "#EF553B",
          "symbol": "circle"
         },
         "mode": "markers",
         "name": "KSF111 ∆argB",
         "orientation": "v",
         "showlegend": true,
         "x": [
          0,
          50,
          100,
          400,
          700,
          1000
         ],
         "xaxis": "x",
         "y": [
          0.0,
          0.40800000000000003,
          0.41400000000000003,
          0.5219999999999999,
          0.594,
          0.648
         ],
         "yaxis": "y",
         "type": "scatter"
        },
        {
         "hovertemplate": "<b>OLS trendline</b><br>od_sample_mean_sans_bg = 0.000445374 * arg_conc_uM + 0.263985<br>R<sup>2</sup>=0.604822<br><br>ADP1 Strain=KSF111 ∆argB<br>arg_conc_uM=%{x}<br>od_sample_mean_sans_bg=%{y} <b>(trend)</b><extra></extra>",
         "legendgroup": "KSF111 ∆argB",
         "marker": {
          "color": "#EF553B",
          "symbol": "circle"
         },
         "mode": "lines",
         "name": "KSF111 ∆argB",
         "showlegend": false,
         "x": [
          0,
          50,
          100,
          400,
          700,
          1000
         ],
         "xaxis": "x",
         "y": [
          0.2639847328244275,
          0.28625343511450385,
          0.3085221374045802,
          0.44213435114503813,
          0.575746564885496,
          0.709358778625954
         ],
         "yaxis": "y",
         "type": "scatter"
        },
        {
         "line": {
          "color": "darkgray",
          "dash": "dot"
         },
         "mode": "lines",
         "name": "[Arg] from BM w/CGP",
         "x": [
          0,
          5000
         ],
         "y": [
          0.0,
          19.995408631772268
         ],
         "type": "scatter"
        },
        {
         "line": {
          "dash": "dash"
         },
         "mode": "lines",
         "name": "ODmax by 2.5% Arg",
         "x": [
          0,
          250,
          1000
         ],
         "y": [
          0.0,
          5.2787878787878775,
          21.11515151515151
         ],
         "type": "scatter"
        }
       ],
       "layout": {
        "template": {
         "data": {
          "barpolar": [
           {
            "marker": {
             "line": {
              "color": "white",
              "width": 0.5
             },
             "pattern": {
              "fillmode": "overlay",
              "size": 10,
              "solidity": 0.2
             }
            },
            "type": "barpolar"
           }
          ],
          "bar": [
           {
            "error_x": {
             "color": "rgb(36,36,36)"
            },
            "error_y": {
             "color": "rgb(36,36,36)"
            },
            "marker": {
             "line": {
              "color": "white",
              "width": 0.5
             },
             "pattern": {
              "fillmode": "overlay",
              "size": 10,
              "solidity": 0.2
             }
            },
            "type": "bar"
           }
          ],
          "carpet": [
           {
            "aaxis": {
             "endlinecolor": "rgb(36,36,36)",
             "gridcolor": "white",
             "linecolor": "white",
             "minorgridcolor": "white",
             "startlinecolor": "rgb(36,36,36)"
            },
            "baxis": {
             "endlinecolor": "rgb(36,36,36)",
             "gridcolor": "white",
             "linecolor": "white",
             "minorgridcolor": "white",
             "startlinecolor": "rgb(36,36,36)"
            },
            "type": "carpet"
           }
          ],
          "choropleth": [
           {
            "colorbar": {
             "outlinewidth": 1,
             "tickcolor": "rgb(36,36,36)",
             "ticks": "outside"
            },
            "type": "choropleth"
           }
          ],
          "contourcarpet": [
           {
            "colorbar": {
             "outlinewidth": 1,
             "tickcolor": "rgb(36,36,36)",
             "ticks": "outside"
            },
            "type": "contourcarpet"
           }
          ],
          "contour": [
           {
            "colorbar": {
             "outlinewidth": 1,
             "tickcolor": "rgb(36,36,36)",
             "ticks": "outside"
            },
            "colorscale": [
             [
              0.0,
              "#440154"
             ],
             [
              0.1111111111111111,
              "#482878"
             ],
             [
              0.2222222222222222,
              "#3e4989"
             ],
             [
              0.3333333333333333,
              "#31688e"
             ],
             [
              0.4444444444444444,
              "#26828e"
             ],
             [
              0.5555555555555556,
              "#1f9e89"
             ],
             [
              0.6666666666666666,
              "#35b779"
             ],
             [
              0.7777777777777778,
              "#6ece58"
             ],
             [
              0.8888888888888888,
              "#b5de2b"
             ],
             [
              1.0,
              "#fde725"
             ]
            ],
            "type": "contour"
           }
          ],
          "heatmapgl": [
           {
            "colorbar": {
             "outlinewidth": 1,
             "tickcolor": "rgb(36,36,36)",
             "ticks": "outside"
            },
            "colorscale": [
             [
              0.0,
              "#440154"
             ],
             [
              0.1111111111111111,
              "#482878"
             ],
             [
              0.2222222222222222,
              "#3e4989"
             ],
             [
              0.3333333333333333,
              "#31688e"
             ],
             [
              0.4444444444444444,
              "#26828e"
             ],
             [
              0.5555555555555556,
              "#1f9e89"
             ],
             [
              0.6666666666666666,
              "#35b779"
             ],
             [
              0.7777777777777778,
              "#6ece58"
             ],
             [
              0.8888888888888888,
              "#b5de2b"
             ],
             [
              1.0,
              "#fde725"
             ]
            ],
            "type": "heatmapgl"
           }
          ],
          "heatmap": [
           {
            "colorbar": {
             "outlinewidth": 1,
             "tickcolor": "rgb(36,36,36)",
             "ticks": "outside"
            },
            "colorscale": [
             [
              0.0,
              "#440154"
             ],
             [
              0.1111111111111111,
              "#482878"
             ],
             [
              0.2222222222222222,
              "#3e4989"
             ],
             [
              0.3333333333333333,
              "#31688e"
             ],
             [
              0.4444444444444444,
              "#26828e"
             ],
             [
              0.5555555555555556,
              "#1f9e89"
             ],
             [
              0.6666666666666666,
              "#35b779"
             ],
             [
              0.7777777777777778,
              "#6ece58"
             ],
             [
              0.8888888888888888,
              "#b5de2b"
             ],
             [
              1.0,
              "#fde725"
             ]
            ],
            "type": "heatmap"
           }
          ],
          "histogram2dcontour": [
           {
            "colorbar": {
             "outlinewidth": 1,
             "tickcolor": "rgb(36,36,36)",
             "ticks": "outside"
            },
            "colorscale": [
             [
              0.0,
              "#440154"
             ],
             [
              0.1111111111111111,
              "#482878"
             ],
             [
              0.2222222222222222,
              "#3e4989"
             ],
             [
              0.3333333333333333,
              "#31688e"
             ],
             [
              0.4444444444444444,
              "#26828e"
             ],
             [
              0.5555555555555556,
              "#1f9e89"
             ],
             [
              0.6666666666666666,
              "#35b779"
             ],
             [
              0.7777777777777778,
              "#6ece58"
             ],
             [
              0.8888888888888888,
              "#b5de2b"
             ],
             [
              1.0,
              "#fde725"
             ]
            ],
            "type": "histogram2dcontour"
           }
          ],
          "histogram2d": [
           {
            "colorbar": {
             "outlinewidth": 1,
             "tickcolor": "rgb(36,36,36)",
             "ticks": "outside"
            },
            "colorscale": [
             [
              0.0,
              "#440154"
             ],
             [
              0.1111111111111111,
              "#482878"
             ],
             [
              0.2222222222222222,
              "#3e4989"
             ],
             [
              0.3333333333333333,
              "#31688e"
             ],
             [
              0.4444444444444444,
              "#26828e"
             ],
             [
              0.5555555555555556,
              "#1f9e89"
             ],
             [
              0.6666666666666666,
              "#35b779"
             ],
             [
              0.7777777777777778,
              "#6ece58"
             ],
             [
              0.8888888888888888,
              "#b5de2b"
             ],
             [
              1.0,
              "#fde725"
             ]
            ],
            "type": "histogram2d"
           }
          ],
          "histogram": [
           {
            "marker": {
             "line": {
              "color": "white",
              "width": 0.6
             }
            },
            "type": "histogram"
           }
          ],
          "mesh3d": [
           {
            "colorbar": {
             "outlinewidth": 1,
             "tickcolor": "rgb(36,36,36)",
             "ticks": "outside"
            },
            "type": "mesh3d"
           }
          ],
          "parcoords": [
           {
            "line": {
             "colorbar": {
              "outlinewidth": 1,
              "tickcolor": "rgb(36,36,36)",
              "ticks": "outside"
             }
            },
            "type": "parcoords"
           }
          ],
          "pie": [
           {
            "automargin": true,
            "type": "pie"
           }
          ],
          "scatter3d": [
           {
            "line": {
             "colorbar": {
              "outlinewidth": 1,
              "tickcolor": "rgb(36,36,36)",
              "ticks": "outside"
             }
            },
            "marker": {
             "colorbar": {
              "outlinewidth": 1,
              "tickcolor": "rgb(36,36,36)",
              "ticks": "outside"
             }
            },
            "type": "scatter3d"
           }
          ],
          "scattercarpet": [
           {
            "marker": {
             "colorbar": {
              "outlinewidth": 1,
              "tickcolor": "rgb(36,36,36)",
              "ticks": "outside"
             }
            },
            "type": "scattercarpet"
           }
          ],
          "scattergeo": [
           {
            "marker": {
             "colorbar": {
              "outlinewidth": 1,
              "tickcolor": "rgb(36,36,36)",
              "ticks": "outside"
             }
            },
            "type": "scattergeo"
           }
          ],
          "scattergl": [
           {
            "marker": {
             "colorbar": {
              "outlinewidth": 1,
              "tickcolor": "rgb(36,36,36)",
              "ticks": "outside"
             }
            },
            "type": "scattergl"
           }
          ],
          "scattermapbox": [
           {
            "marker": {
             "colorbar": {
              "outlinewidth": 1,
              "tickcolor": "rgb(36,36,36)",
              "ticks": "outside"
             }
            },
            "type": "scattermapbox"
           }
          ],
          "scatterpolargl": [
           {
            "marker": {
             "colorbar": {
              "outlinewidth": 1,
              "tickcolor": "rgb(36,36,36)",
              "ticks": "outside"
             }
            },
            "type": "scatterpolargl"
           }
          ],
          "scatterpolar": [
           {
            "marker": {
             "colorbar": {
              "outlinewidth": 1,
              "tickcolor": "rgb(36,36,36)",
              "ticks": "outside"
             }
            },
            "type": "scatterpolar"
           }
          ],
          "scatter": [
           {
            "fillpattern": {
             "fillmode": "overlay",
             "size": 10,
             "solidity": 0.2
            },
            "type": "scatter"
           }
          ],
          "scatterternary": [
           {
            "marker": {
             "colorbar": {
              "outlinewidth": 1,
              "tickcolor": "rgb(36,36,36)",
              "ticks": "outside"
             }
            },
            "type": "scatterternary"
           }
          ],
          "surface": [
           {
            "colorbar": {
             "outlinewidth": 1,
             "tickcolor": "rgb(36,36,36)",
             "ticks": "outside"
            },
            "colorscale": [
             [
              0.0,
              "#440154"
             ],
             [
              0.1111111111111111,
              "#482878"
             ],
             [
              0.2222222222222222,
              "#3e4989"
             ],
             [
              0.3333333333333333,
              "#31688e"
             ],
             [
              0.4444444444444444,
              "#26828e"
             ],
             [
              0.5555555555555556,
              "#1f9e89"
             ],
             [
              0.6666666666666666,
              "#35b779"
             ],
             [
              0.7777777777777778,
              "#6ece58"
             ],
             [
              0.8888888888888888,
              "#b5de2b"
             ],
             [
              1.0,
              "#fde725"
             ]
            ],
            "type": "surface"
           }
          ],
          "table": [
           {
            "cells": {
             "fill": {
              "color": "rgb(237,237,237)"
             },
             "line": {
              "color": "white"
             }
            },
            "header": {
             "fill": {
              "color": "rgb(217,217,217)"
             },
             "line": {
              "color": "white"
             }
            },
            "type": "table"
           }
          ]
         },
         "layout": {
          "annotationdefaults": {
           "arrowhead": 0,
           "arrowwidth": 1
          },
          "autotypenumbers": "strict",
          "coloraxis": {
           "colorbar": {
            "outlinewidth": 1,
            "tickcolor": "rgb(36,36,36)",
            "ticks": "outside"
           }
          },
          "colorscale": {
           "diverging": [
            [
             0.0,
             "rgb(103,0,31)"
            ],
            [
             0.1,
             "rgb(178,24,43)"
            ],
            [
             0.2,
             "rgb(214,96,77)"
            ],
            [
             0.3,
             "rgb(244,165,130)"
            ],
            [
             0.4,
             "rgb(253,219,199)"
            ],
            [
             0.5,
             "rgb(247,247,247)"
            ],
            [
             0.6,
             "rgb(209,229,240)"
            ],
            [
             0.7,
             "rgb(146,197,222)"
            ],
            [
             0.8,
             "rgb(67,147,195)"
            ],
            [
             0.9,
             "rgb(33,102,172)"
            ],
            [
             1.0,
             "rgb(5,48,97)"
            ]
           ],
           "sequential": [
            [
             0.0,
             "#440154"
            ],
            [
             0.1111111111111111,
             "#482878"
            ],
            [
             0.2222222222222222,
             "#3e4989"
            ],
            [
             0.3333333333333333,
             "#31688e"
            ],
            [
             0.4444444444444444,
             "#26828e"
            ],
            [
             0.5555555555555556,
             "#1f9e89"
            ],
            [
             0.6666666666666666,
             "#35b779"
            ],
            [
             0.7777777777777778,
             "#6ece58"
            ],
            [
             0.8888888888888888,
             "#b5de2b"
            ],
            [
             1.0,
             "#fde725"
            ]
           ],
           "sequentialminus": [
            [
             0.0,
             "#440154"
            ],
            [
             0.1111111111111111,
             "#482878"
            ],
            [
             0.2222222222222222,
             "#3e4989"
            ],
            [
             0.3333333333333333,
             "#31688e"
            ],
            [
             0.4444444444444444,
             "#26828e"
            ],
            [
             0.5555555555555556,
             "#1f9e89"
            ],
            [
             0.6666666666666666,
             "#35b779"
            ],
            [
             0.7777777777777778,
             "#6ece58"
            ],
            [
             0.8888888888888888,
             "#b5de2b"
            ],
            [
             1.0,
             "#fde725"
            ]
           ]
          },
          "colorway": [
           "#1F77B4",
           "#FF7F0E",
           "#2CA02C",
           "#D62728",
           "#9467BD",
           "#8C564B",
           "#E377C2",
           "#7F7F7F",
           "#BCBD22",
           "#17BECF"
          ],
          "font": {
           "color": "rgb(36,36,36)"
          },
          "geo": {
           "bgcolor": "white",
           "lakecolor": "white",
           "landcolor": "white",
           "showlakes": true,
           "showland": true,
           "subunitcolor": "white"
          },
          "hoverlabel": {
           "align": "left"
          },
          "hovermode": "closest",
          "mapbox": {
           "style": "light"
          },
          "paper_bgcolor": "white",
          "plot_bgcolor": "white",
          "polar": {
           "angularaxis": {
            "gridcolor": "rgb(232,232,232)",
            "linecolor": "rgb(36,36,36)",
            "showgrid": false,
            "showline": true,
            "ticks": "outside"
           },
           "bgcolor": "white",
           "radialaxis": {
            "gridcolor": "rgb(232,232,232)",
            "linecolor": "rgb(36,36,36)",
            "showgrid": false,
            "showline": true,
            "ticks": "outside"
           }
          },
          "scene": {
           "xaxis": {
            "backgroundcolor": "white",
            "gridcolor": "rgb(232,232,232)",
            "gridwidth": 2,
            "linecolor": "rgb(36,36,36)",
            "showbackground": true,
            "showgrid": false,
            "showline": true,
            "ticks": "outside",
            "zeroline": false,
            "zerolinecolor": "rgb(36,36,36)"
           },
           "yaxis": {
            "backgroundcolor": "white",
            "gridcolor": "rgb(232,232,232)",
            "gridwidth": 2,
            "linecolor": "rgb(36,36,36)",
            "showbackground": true,
            "showgrid": false,
            "showline": true,
            "ticks": "outside",
            "zeroline": false,
            "zerolinecolor": "rgb(36,36,36)"
           },
           "zaxis": {
            "backgroundcolor": "white",
            "gridcolor": "rgb(232,232,232)",
            "gridwidth": 2,
            "linecolor": "rgb(36,36,36)",
            "showbackground": true,
            "showgrid": false,
            "showline": true,
            "ticks": "outside",
            "zeroline": false,
            "zerolinecolor": "rgb(36,36,36)"
           }
          },
          "shapedefaults": {
           "fillcolor": "black",
           "line": {
            "width": 0
           },
           "opacity": 0.3
          },
          "ternary": {
           "aaxis": {
            "gridcolor": "rgb(232,232,232)",
            "linecolor": "rgb(36,36,36)",
            "showgrid": false,
            "showline": true,
            "ticks": "outside"
           },
           "baxis": {
            "gridcolor": "rgb(232,232,232)",
            "linecolor": "rgb(36,36,36)",
            "showgrid": false,
            "showline": true,
            "ticks": "outside"
           },
           "bgcolor": "white",
           "caxis": {
            "gridcolor": "rgb(232,232,232)",
            "linecolor": "rgb(36,36,36)",
            "showgrid": false,
            "showline": true,
            "ticks": "outside"
           }
          },
          "title": {
           "x": 0.05
          },
          "xaxis": {
           "automargin": true,
           "gridcolor": "rgb(232,232,232)",
           "linecolor": "rgb(36,36,36)",
           "showgrid": false,
           "showline": true,
           "ticks": "outside",
           "title": {
            "standoff": 15
           },
           "zeroline": false,
           "zerolinecolor": "rgb(36,36,36)"
          },
          "yaxis": {
           "automargin": true,
           "gridcolor": "rgb(232,232,232)",
           "linecolor": "rgb(36,36,36)",
           "showgrid": false,
           "showline": true,
           "ticks": "outside",
           "title": {
            "standoff": 15
           },
           "zeroline": false,
           "zerolinecolor": "rgb(36,36,36)"
          }
         }
        },
        "xaxis": {
         "anchor": "y",
         "domain": [
          0.0,
          1.0
         ],
         "title": {
          "text": "arg_conc_uM"
         }
        },
        "yaxis": {
         "anchor": "x",
         "domain": [
          0.0,
          1.0
         ],
         "title": {
          "text": "od_sample_mean_sans_bg"
         }
        },
        "legend": {
         "title": {
          "text": "ADP1 Strain"
         },
         "tracegroupgap": 0
        },
        "margin": {
         "t": 60
        },
        "title": {
         "x": 0.5
        }
       },
       "config": {
        "plotlyServerURL": "https://plot.ly"
       }
      },
      "text/html": [
       "<div>                            <div id=\"d12277b3-bec8-43aa-a62b-73a5d00f90c5\" class=\"plotly-graph-div\" style=\"height:525px; width:100%;\"></div>            <script type=\"text/javascript\">                require([\"plotly\"], function(Plotly) {                    window.PLOTLYENV=window.PLOTLYENV || {};                                    if (document.getElementById(\"d12277b3-bec8-43aa-a62b-73a5d00f90c5\")) {                    Plotly.newPlot(                        \"d12277b3-bec8-43aa-a62b-73a5d00f90c5\",                        [{\"hovertemplate\":\"ADP1 Strain=KSF107 \\u2206argB\\u003cbr\\u003earg_conc_uM=%{x}\\u003cbr\\u003eod_sample_mean_sans_bg=%{y}\\u003cextra\\u003e\\u003c\\u002fextra\\u003e\",\"legendgroup\":\"KSF107 \\u2206argB\",\"marker\":{\"color\":\"#636efa\",\"symbol\":\"circle\"},\"mode\":\"markers\",\"name\":\"KSF107 \\u2206argB\",\"orientation\":\"v\",\"showlegend\":true,\"x\":[0,50,100,400,700,1000],\"xaxis\":\"x\",\"y\":[0.0,0.27,0.32799999999999996,0.44599999999999995,0.514,0.5189999999999999],\"yaxis\":\"y\",\"type\":\"scatter\"},{\"hovertemplate\":\"\\u003cb\\u003eOLS trendline\\u003c\\u002fb\\u003e\\u003cbr\\u003eod_sample_mean_sans_bg = 0.000396489 * arg_conc_uM + 0.197483\\u003cbr\\u003eR\\u003csup\\u003e2\\u003c\\u002fsup\\u003e=0.663561\\u003cbr\\u003e\\u003cbr\\u003eADP1 Strain=KSF107 \\u2206argB\\u003cbr\\u003earg_conc_uM=%{x}\\u003cbr\\u003eod_sample_mean_sans_bg=%{y} \\u003cb\\u003e(trend)\\u003c\\u002fb\\u003e\\u003cextra\\u003e\\u003c\\u002fextra\\u003e\",\"legendgroup\":\"KSF107 \\u2206argB\",\"marker\":{\"color\":\"#636efa\",\"symbol\":\"circle\"},\"mode\":\"lines\",\"name\":\"KSF107 \\u2206argB\",\"showlegend\":false,\"x\":[0,50,100,400,700,1000],\"xaxis\":\"x\",\"y\":[0.1974834605597965,0.2173078880407125,0.23713231552162853,0.35607888040712465,0.47502544529262075,0.5939720101781168],\"yaxis\":\"y\",\"type\":\"scatter\"},{\"hovertemplate\":\"ADP1 Strain=KSF111 \\u2206argB\\u003cbr\\u003earg_conc_uM=%{x}\\u003cbr\\u003eod_sample_mean_sans_bg=%{y}\\u003cextra\\u003e\\u003c\\u002fextra\\u003e\",\"legendgroup\":\"KSF111 \\u2206argB\",\"marker\":{\"color\":\"#EF553B\",\"symbol\":\"circle\"},\"mode\":\"markers\",\"name\":\"KSF111 \\u2206argB\",\"orientation\":\"v\",\"showlegend\":true,\"x\":[0,50,100,400,700,1000],\"xaxis\":\"x\",\"y\":[0.0,0.40800000000000003,0.41400000000000003,0.5219999999999999,0.594,0.648],\"yaxis\":\"y\",\"type\":\"scatter\"},{\"hovertemplate\":\"\\u003cb\\u003eOLS trendline\\u003c\\u002fb\\u003e\\u003cbr\\u003eod_sample_mean_sans_bg = 0.000445374 * arg_conc_uM + 0.263985\\u003cbr\\u003eR\\u003csup\\u003e2\\u003c\\u002fsup\\u003e=0.604822\\u003cbr\\u003e\\u003cbr\\u003eADP1 Strain=KSF111 \\u2206argB\\u003cbr\\u003earg_conc_uM=%{x}\\u003cbr\\u003eod_sample_mean_sans_bg=%{y} \\u003cb\\u003e(trend)\\u003c\\u002fb\\u003e\\u003cextra\\u003e\\u003c\\u002fextra\\u003e\",\"legendgroup\":\"KSF111 \\u2206argB\",\"marker\":{\"color\":\"#EF553B\",\"symbol\":\"circle\"},\"mode\":\"lines\",\"name\":\"KSF111 \\u2206argB\",\"showlegend\":false,\"x\":[0,50,100,400,700,1000],\"xaxis\":\"x\",\"y\":[0.2639847328244275,0.28625343511450385,0.3085221374045802,0.44213435114503813,0.575746564885496,0.709358778625954],\"yaxis\":\"y\",\"type\":\"scatter\"},{\"line\":{\"color\":\"darkgray\",\"dash\":\"dot\"},\"mode\":\"lines\",\"name\":\"[Arg] from BM w\\u002fCGP\",\"x\":[0,5000],\"y\":[0.0,19.995408631772268],\"type\":\"scatter\"},{\"line\":{\"dash\":\"dash\"},\"mode\":\"lines\",\"name\":\"ODmax by 2.5% Arg\",\"x\":[0,250,1000],\"y\":[0.0,5.2787878787878775,21.11515151515151],\"type\":\"scatter\"}],                        {\"template\":{\"data\":{\"barpolar\":[{\"marker\":{\"line\":{\"color\":\"white\",\"width\":0.5},\"pattern\":{\"fillmode\":\"overlay\",\"size\":10,\"solidity\":0.2}},\"type\":\"barpolar\"}],\"bar\":[{\"error_x\":{\"color\":\"rgb(36,36,36)\"},\"error_y\":{\"color\":\"rgb(36,36,36)\"},\"marker\":{\"line\":{\"color\":\"white\",\"width\":0.5},\"pattern\":{\"fillmode\":\"overlay\",\"size\":10,\"solidity\":0.2}},\"type\":\"bar\"}],\"carpet\":[{\"aaxis\":{\"endlinecolor\":\"rgb(36,36,36)\",\"gridcolor\":\"white\",\"linecolor\":\"white\",\"minorgridcolor\":\"white\",\"startlinecolor\":\"rgb(36,36,36)\"},\"baxis\":{\"endlinecolor\":\"rgb(36,36,36)\",\"gridcolor\":\"white\",\"linecolor\":\"white\",\"minorgridcolor\":\"white\",\"startlinecolor\":\"rgb(36,36,36)\"},\"type\":\"carpet\"}],\"choropleth\":[{\"colorbar\":{\"outlinewidth\":1,\"tickcolor\":\"rgb(36,36,36)\",\"ticks\":\"outside\"},\"type\":\"choropleth\"}],\"contourcarpet\":[{\"colorbar\":{\"outlinewidth\":1,\"tickcolor\":\"rgb(36,36,36)\",\"ticks\":\"outside\"},\"type\":\"contourcarpet\"}],\"contour\":[{\"colorbar\":{\"outlinewidth\":1,\"tickcolor\":\"rgb(36,36,36)\",\"ticks\":\"outside\"},\"colorscale\":[[0.0,\"#440154\"],[0.1111111111111111,\"#482878\"],[0.2222222222222222,\"#3e4989\"],[0.3333333333333333,\"#31688e\"],[0.4444444444444444,\"#26828e\"],[0.5555555555555556,\"#1f9e89\"],[0.6666666666666666,\"#35b779\"],[0.7777777777777778,\"#6ece58\"],[0.8888888888888888,\"#b5de2b\"],[1.0,\"#fde725\"]],\"type\":\"contour\"}],\"heatmapgl\":[{\"colorbar\":{\"outlinewidth\":1,\"tickcolor\":\"rgb(36,36,36)\",\"ticks\":\"outside\"},\"colorscale\":[[0.0,\"#440154\"],[0.1111111111111111,\"#482878\"],[0.2222222222222222,\"#3e4989\"],[0.3333333333333333,\"#31688e\"],[0.4444444444444444,\"#26828e\"],[0.5555555555555556,\"#1f9e89\"],[0.6666666666666666,\"#35b779\"],[0.7777777777777778,\"#6ece58\"],[0.8888888888888888,\"#b5de2b\"],[1.0,\"#fde725\"]],\"type\":\"heatmapgl\"}],\"heatmap\":[{\"colorbar\":{\"outlinewidth\":1,\"tickcolor\":\"rgb(36,36,36)\",\"ticks\":\"outside\"},\"colorscale\":[[0.0,\"#440154\"],[0.1111111111111111,\"#482878\"],[0.2222222222222222,\"#3e4989\"],[0.3333333333333333,\"#31688e\"],[0.4444444444444444,\"#26828e\"],[0.5555555555555556,\"#1f9e89\"],[0.6666666666666666,\"#35b779\"],[0.7777777777777778,\"#6ece58\"],[0.8888888888888888,\"#b5de2b\"],[1.0,\"#fde725\"]],\"type\":\"heatmap\"}],\"histogram2dcontour\":[{\"colorbar\":{\"outlinewidth\":1,\"tickcolor\":\"rgb(36,36,36)\",\"ticks\":\"outside\"},\"colorscale\":[[0.0,\"#440154\"],[0.1111111111111111,\"#482878\"],[0.2222222222222222,\"#3e4989\"],[0.3333333333333333,\"#31688e\"],[0.4444444444444444,\"#26828e\"],[0.5555555555555556,\"#1f9e89\"],[0.6666666666666666,\"#35b779\"],[0.7777777777777778,\"#6ece58\"],[0.8888888888888888,\"#b5de2b\"],[1.0,\"#fde725\"]],\"type\":\"histogram2dcontour\"}],\"histogram2d\":[{\"colorbar\":{\"outlinewidth\":1,\"tickcolor\":\"rgb(36,36,36)\",\"ticks\":\"outside\"},\"colorscale\":[[0.0,\"#440154\"],[0.1111111111111111,\"#482878\"],[0.2222222222222222,\"#3e4989\"],[0.3333333333333333,\"#31688e\"],[0.4444444444444444,\"#26828e\"],[0.5555555555555556,\"#1f9e89\"],[0.6666666666666666,\"#35b779\"],[0.7777777777777778,\"#6ece58\"],[0.8888888888888888,\"#b5de2b\"],[1.0,\"#fde725\"]],\"type\":\"histogram2d\"}],\"histogram\":[{\"marker\":{\"line\":{\"color\":\"white\",\"width\":0.6}},\"type\":\"histogram\"}],\"mesh3d\":[{\"colorbar\":{\"outlinewidth\":1,\"tickcolor\":\"rgb(36,36,36)\",\"ticks\":\"outside\"},\"type\":\"mesh3d\"}],\"parcoords\":[{\"line\":{\"colorbar\":{\"outlinewidth\":1,\"tickcolor\":\"rgb(36,36,36)\",\"ticks\":\"outside\"}},\"type\":\"parcoords\"}],\"pie\":[{\"automargin\":true,\"type\":\"pie\"}],\"scatter3d\":[{\"line\":{\"colorbar\":{\"outlinewidth\":1,\"tickcolor\":\"rgb(36,36,36)\",\"ticks\":\"outside\"}},\"marker\":{\"colorbar\":{\"outlinewidth\":1,\"tickcolor\":\"rgb(36,36,36)\",\"ticks\":\"outside\"}},\"type\":\"scatter3d\"}],\"scattercarpet\":[{\"marker\":{\"colorbar\":{\"outlinewidth\":1,\"tickcolor\":\"rgb(36,36,36)\",\"ticks\":\"outside\"}},\"type\":\"scattercarpet\"}],\"scattergeo\":[{\"marker\":{\"colorbar\":{\"outlinewidth\":1,\"tickcolor\":\"rgb(36,36,36)\",\"ticks\":\"outside\"}},\"type\":\"scattergeo\"}],\"scattergl\":[{\"marker\":{\"colorbar\":{\"outlinewidth\":1,\"tickcolor\":\"rgb(36,36,36)\",\"ticks\":\"outside\"}},\"type\":\"scattergl\"}],\"scattermapbox\":[{\"marker\":{\"colorbar\":{\"outlinewidth\":1,\"tickcolor\":\"rgb(36,36,36)\",\"ticks\":\"outside\"}},\"type\":\"scattermapbox\"}],\"scatterpolargl\":[{\"marker\":{\"colorbar\":{\"outlinewidth\":1,\"tickcolor\":\"rgb(36,36,36)\",\"ticks\":\"outside\"}},\"type\":\"scatterpolargl\"}],\"scatterpolar\":[{\"marker\":{\"colorbar\":{\"outlinewidth\":1,\"tickcolor\":\"rgb(36,36,36)\",\"ticks\":\"outside\"}},\"type\":\"scatterpolar\"}],\"scatter\":[{\"fillpattern\":{\"fillmode\":\"overlay\",\"size\":10,\"solidity\":0.2},\"type\":\"scatter\"}],\"scatterternary\":[{\"marker\":{\"colorbar\":{\"outlinewidth\":1,\"tickcolor\":\"rgb(36,36,36)\",\"ticks\":\"outside\"}},\"type\":\"scatterternary\"}],\"surface\":[{\"colorbar\":{\"outlinewidth\":1,\"tickcolor\":\"rgb(36,36,36)\",\"ticks\":\"outside\"},\"colorscale\":[[0.0,\"#440154\"],[0.1111111111111111,\"#482878\"],[0.2222222222222222,\"#3e4989\"],[0.3333333333333333,\"#31688e\"],[0.4444444444444444,\"#26828e\"],[0.5555555555555556,\"#1f9e89\"],[0.6666666666666666,\"#35b779\"],[0.7777777777777778,\"#6ece58\"],[0.8888888888888888,\"#b5de2b\"],[1.0,\"#fde725\"]],\"type\":\"surface\"}],\"table\":[{\"cells\":{\"fill\":{\"color\":\"rgb(237,237,237)\"},\"line\":{\"color\":\"white\"}},\"header\":{\"fill\":{\"color\":\"rgb(217,217,217)\"},\"line\":{\"color\":\"white\"}},\"type\":\"table\"}]},\"layout\":{\"annotationdefaults\":{\"arrowhead\":0,\"arrowwidth\":1},\"autotypenumbers\":\"strict\",\"coloraxis\":{\"colorbar\":{\"outlinewidth\":1,\"tickcolor\":\"rgb(36,36,36)\",\"ticks\":\"outside\"}},\"colorscale\":{\"diverging\":[[0.0,\"rgb(103,0,31)\"],[0.1,\"rgb(178,24,43)\"],[0.2,\"rgb(214,96,77)\"],[0.3,\"rgb(244,165,130)\"],[0.4,\"rgb(253,219,199)\"],[0.5,\"rgb(247,247,247)\"],[0.6,\"rgb(209,229,240)\"],[0.7,\"rgb(146,197,222)\"],[0.8,\"rgb(67,147,195)\"],[0.9,\"rgb(33,102,172)\"],[1.0,\"rgb(5,48,97)\"]],\"sequential\":[[0.0,\"#440154\"],[0.1111111111111111,\"#482878\"],[0.2222222222222222,\"#3e4989\"],[0.3333333333333333,\"#31688e\"],[0.4444444444444444,\"#26828e\"],[0.5555555555555556,\"#1f9e89\"],[0.6666666666666666,\"#35b779\"],[0.7777777777777778,\"#6ece58\"],[0.8888888888888888,\"#b5de2b\"],[1.0,\"#fde725\"]],\"sequentialminus\":[[0.0,\"#440154\"],[0.1111111111111111,\"#482878\"],[0.2222222222222222,\"#3e4989\"],[0.3333333333333333,\"#31688e\"],[0.4444444444444444,\"#26828e\"],[0.5555555555555556,\"#1f9e89\"],[0.6666666666666666,\"#35b779\"],[0.7777777777777778,\"#6ece58\"],[0.8888888888888888,\"#b5de2b\"],[1.0,\"#fde725\"]]},\"colorway\":[\"#1F77B4\",\"#FF7F0E\",\"#2CA02C\",\"#D62728\",\"#9467BD\",\"#8C564B\",\"#E377C2\",\"#7F7F7F\",\"#BCBD22\",\"#17BECF\"],\"font\":{\"color\":\"rgb(36,36,36)\"},\"geo\":{\"bgcolor\":\"white\",\"lakecolor\":\"white\",\"landcolor\":\"white\",\"showlakes\":true,\"showland\":true,\"subunitcolor\":\"white\"},\"hoverlabel\":{\"align\":\"left\"},\"hovermode\":\"closest\",\"mapbox\":{\"style\":\"light\"},\"paper_bgcolor\":\"white\",\"plot_bgcolor\":\"white\",\"polar\":{\"angularaxis\":{\"gridcolor\":\"rgb(232,232,232)\",\"linecolor\":\"rgb(36,36,36)\",\"showgrid\":false,\"showline\":true,\"ticks\":\"outside\"},\"bgcolor\":\"white\",\"radialaxis\":{\"gridcolor\":\"rgb(232,232,232)\",\"linecolor\":\"rgb(36,36,36)\",\"showgrid\":false,\"showline\":true,\"ticks\":\"outside\"}},\"scene\":{\"xaxis\":{\"backgroundcolor\":\"white\",\"gridcolor\":\"rgb(232,232,232)\",\"gridwidth\":2,\"linecolor\":\"rgb(36,36,36)\",\"showbackground\":true,\"showgrid\":false,\"showline\":true,\"ticks\":\"outside\",\"zeroline\":false,\"zerolinecolor\":\"rgb(36,36,36)\"},\"yaxis\":{\"backgroundcolor\":\"white\",\"gridcolor\":\"rgb(232,232,232)\",\"gridwidth\":2,\"linecolor\":\"rgb(36,36,36)\",\"showbackground\":true,\"showgrid\":false,\"showline\":true,\"ticks\":\"outside\",\"zeroline\":false,\"zerolinecolor\":\"rgb(36,36,36)\"},\"zaxis\":{\"backgroundcolor\":\"white\",\"gridcolor\":\"rgb(232,232,232)\",\"gridwidth\":2,\"linecolor\":\"rgb(36,36,36)\",\"showbackground\":true,\"showgrid\":false,\"showline\":true,\"ticks\":\"outside\",\"zeroline\":false,\"zerolinecolor\":\"rgb(36,36,36)\"}},\"shapedefaults\":{\"fillcolor\":\"black\",\"line\":{\"width\":0},\"opacity\":0.3},\"ternary\":{\"aaxis\":{\"gridcolor\":\"rgb(232,232,232)\",\"linecolor\":\"rgb(36,36,36)\",\"showgrid\":false,\"showline\":true,\"ticks\":\"outside\"},\"baxis\":{\"gridcolor\":\"rgb(232,232,232)\",\"linecolor\":\"rgb(36,36,36)\",\"showgrid\":false,\"showline\":true,\"ticks\":\"outside\"},\"bgcolor\":\"white\",\"caxis\":{\"gridcolor\":\"rgb(232,232,232)\",\"linecolor\":\"rgb(36,36,36)\",\"showgrid\":false,\"showline\":true,\"ticks\":\"outside\"}},\"title\":{\"x\":0.05},\"xaxis\":{\"automargin\":true,\"gridcolor\":\"rgb(232,232,232)\",\"linecolor\":\"rgb(36,36,36)\",\"showgrid\":false,\"showline\":true,\"ticks\":\"outside\",\"title\":{\"standoff\":15},\"zeroline\":false,\"zerolinecolor\":\"rgb(36,36,36)\"},\"yaxis\":{\"automargin\":true,\"gridcolor\":\"rgb(232,232,232)\",\"linecolor\":\"rgb(36,36,36)\",\"showgrid\":false,\"showline\":true,\"ticks\":\"outside\",\"title\":{\"standoff\":15},\"zeroline\":false,\"zerolinecolor\":\"rgb(36,36,36)\"}}},\"xaxis\":{\"anchor\":\"y\",\"domain\":[0.0,1.0],\"title\":{\"text\":\"arg_conc_uM\"}},\"yaxis\":{\"anchor\":\"x\",\"domain\":[0.0,1.0],\"title\":{\"text\":\"od_sample_mean_sans_bg\"}},\"legend\":{\"title\":{\"text\":\"ADP1 Strain\"},\"tracegroupgap\":0},\"margin\":{\"t\":60},\"title\":{\"x\":0.5}},                        {\"responsive\": true}                    ).then(function(){\n",
       "                            \n",
       "var gd = document.getElementById('d12277b3-bec8-43aa-a62b-73a5d00f90c5');\n",
       "var x = new MutationObserver(function (mutations, observer) {{\n",
       "        var display = window.getComputedStyle(gd).display;\n",
       "        if (!display || display === 'none') {{\n",
       "            console.log([gd, 'removed!']);\n",
       "            Plotly.purge(gd);\n",
       "            observer.disconnect();\n",
       "        }}\n",
       "}});\n",
       "\n",
       "// Listen for the removal of the full notebook cells\n",
       "var notebookContainer = gd.closest('#notebook-container');\n",
       "if (notebookContainer) {{\n",
       "    x.observe(notebookContainer, {childList: true});\n",
       "}}\n",
       "\n",
       "// Listen for the clearing of the current output cell\n",
       "var outputEl = gd.closest('.output');\n",
       "if (outputEl) {{\n",
       "    x.observe(outputEl, {childList: true});\n",
       "}}\n",
       "\n",
       "                        })                };                });            </script>        </div>"
      ]
     },
     "metadata": {},
     "output_type": "display_data"
    }
   ],
   "execution_count": 77
  },
  {
   "metadata": {
    "ExecuteTime": {
     "end_time": "2024-10-13T14:45:42.814879Z",
     "start_time": "2024-10-13T14:45:42.812051Z"
    }
   },
   "cell_type": "code",
   "source": "pio.templates",
   "id": "6e9e644575922917",
   "outputs": [
    {
     "data": {
      "text/plain": [
       "Templates configuration\n",
       "-----------------------\n",
       "    Default template: 'plotly'\n",
       "    Available templates:\n",
       "        ['ggplot2', 'seaborn', 'simple_white', 'plotly',\n",
       "         'plotly_white', 'plotly_dark', 'presentation', 'xgridoff',\n",
       "         'ygridoff', 'gridon', 'none']"
      ]
     },
     "execution_count": 12,
     "metadata": {},
     "output_type": "execute_result"
    }
   ],
   "execution_count": 12
  },
  {
   "metadata": {
    "ExecuteTime": {
     "end_time": "2024-10-13T14:45:42.888610Z",
     "start_time": "2024-10-13T14:45:42.875914Z"
    }
   },
   "cell_type": "code",
   "source": [
    "yield_fits['KSF230'].summary()\n",
    "yield_fits['∆argR'].summary()\n"
   ],
   "id": "ff6cbcb889e5bf5b",
   "outputs": [
    {
     "name": "stderr",
     "output_type": "stream",
     "text": [
      "/Users/pasha/Library/Caches/pypoetry/virtualenvs/analysis-jO871hYA-py3.12/lib/python3.12/site-packages/scipy/stats/_axis_nan_policy.py:418: UserWarning:\n",
      "\n",
      "`kurtosistest` p-value may be inaccurate with fewer than 20 observations; only n=10 observations were given.\n",
      "\n",
      "/Users/pasha/Library/Caches/pypoetry/virtualenvs/analysis-jO871hYA-py3.12/lib/python3.12/site-packages/scipy/stats/_axis_nan_policy.py:418: UserWarning:\n",
      "\n",
      "`kurtosistest` p-value may be inaccurate with fewer than 20 observations; only n=10 observations were given.\n",
      "\n"
     ]
    },
    {
     "data": {
      "text/plain": [
       "<class 'statsmodels.iolib.summary.Summary'>\n",
       "\"\"\"\n",
       "                            OLS Regression Results                            \n",
       "==============================================================================\n",
       "Dep. Variable:                      y   R-squared:                       0.769\n",
       "Model:                            OLS   Adj. R-squared:                  0.740\n",
       "Method:                 Least Squares   F-statistic:                     26.57\n",
       "Date:                Sun, 13 Oct 2024   Prob (F-statistic):           0.000869\n",
       "Time:                        09:45:42   Log-Likelihood:               -0.94321\n",
       "No. Observations:                  10   AIC:                             5.886\n",
       "Df Residuals:                       8   BIC:                             6.492\n",
       "Df Model:                           1                                         \n",
       "Covariance Type:            nonrobust                                         \n",
       "==============================================================================\n",
       "                 coef    std err          t      P>|t|      [0.025      0.975]\n",
       "------------------------------------------------------------------------------\n",
       "const          0.8103      0.130      6.220      0.000       0.510       1.111\n",
       "x1             0.0001   2.56e-05      5.155      0.001     7.3e-05       0.000\n",
       "==============================================================================\n",
       "Omnibus:                        4.766   Durbin-Watson:                   0.642\n",
       "Prob(Omnibus):                  0.092   Jarque-Bera (JB):                1.194\n",
       "Skew:                           0.150   Prob(JB):                        0.550\n",
       "Kurtosis:                       1.334   Cond. No.                     7.05e+03\n",
       "==============================================================================\n",
       "\n",
       "Notes:\n",
       "[1] Standard Errors assume that the covariance matrix of the errors is correctly specified.\n",
       "[2] The condition number is large, 7.05e+03. This might indicate that there are\n",
       "strong multicollinearity or other numerical problems.\n",
       "\"\"\""
      ],
      "text/html": [
       "<table class=\"simpletable\">\n",
       "<caption>OLS Regression Results</caption>\n",
       "<tr>\n",
       "  <th>Dep. Variable:</th>            <td>y</td>        <th>  R-squared:         </th> <td>   0.769</td>\n",
       "</tr>\n",
       "<tr>\n",
       "  <th>Model:</th>                   <td>OLS</td>       <th>  Adj. R-squared:    </th> <td>   0.740</td>\n",
       "</tr>\n",
       "<tr>\n",
       "  <th>Method:</th>             <td>Least Squares</td>  <th>  F-statistic:       </th> <td>   26.57</td>\n",
       "</tr>\n",
       "<tr>\n",
       "  <th>Date:</th>             <td>Sun, 13 Oct 2024</td> <th>  Prob (F-statistic):</th> <td>0.000869</td>\n",
       "</tr>\n",
       "<tr>\n",
       "  <th>Time:</th>                 <td>09:45:42</td>     <th>  Log-Likelihood:    </th> <td>-0.94321</td>\n",
       "</tr>\n",
       "<tr>\n",
       "  <th>No. Observations:</th>      <td>    10</td>      <th>  AIC:               </th> <td>   5.886</td>\n",
       "</tr>\n",
       "<tr>\n",
       "  <th>Df Residuals:</th>          <td>     8</td>      <th>  BIC:               </th> <td>   6.492</td>\n",
       "</tr>\n",
       "<tr>\n",
       "  <th>Df Model:</th>              <td>     1</td>      <th>                     </th>     <td> </td>   \n",
       "</tr>\n",
       "<tr>\n",
       "  <th>Covariance Type:</th>      <td>nonrobust</td>    <th>                     </th>     <td> </td>   \n",
       "</tr>\n",
       "</table>\n",
       "<table class=\"simpletable\">\n",
       "<tr>\n",
       "    <td></td>       <th>coef</th>     <th>std err</th>      <th>t</th>      <th>P>|t|</th>  <th>[0.025</th>    <th>0.975]</th>  \n",
       "</tr>\n",
       "<tr>\n",
       "  <th>const</th> <td>    0.8103</td> <td>    0.130</td> <td>    6.220</td> <td> 0.000</td> <td>    0.510</td> <td>    1.111</td>\n",
       "</tr>\n",
       "<tr>\n",
       "  <th>x1</th>    <td>    0.0001</td> <td> 2.56e-05</td> <td>    5.155</td> <td> 0.001</td> <td>  7.3e-05</td> <td>    0.000</td>\n",
       "</tr>\n",
       "</table>\n",
       "<table class=\"simpletable\">\n",
       "<tr>\n",
       "  <th>Omnibus:</th>       <td> 4.766</td> <th>  Durbin-Watson:     </th> <td>   0.642</td>\n",
       "</tr>\n",
       "<tr>\n",
       "  <th>Prob(Omnibus):</th> <td> 0.092</td> <th>  Jarque-Bera (JB):  </th> <td>   1.194</td>\n",
       "</tr>\n",
       "<tr>\n",
       "  <th>Skew:</th>          <td> 0.150</td> <th>  Prob(JB):          </th> <td>   0.550</td>\n",
       "</tr>\n",
       "<tr>\n",
       "  <th>Kurtosis:</th>      <td> 1.334</td> <th>  Cond. No.          </th> <td>7.05e+03</td>\n",
       "</tr>\n",
       "</table><br/><br/>Notes:<br/>[1] Standard Errors assume that the covariance matrix of the errors is correctly specified.<br/>[2] The condition number is large, 7.05e+03. This might indicate that there are<br/>strong multicollinearity or other numerical problems."
      ],
      "text/latex": "\\begin{center}\n\\begin{tabular}{lclc}\n\\toprule\n\\textbf{Dep. Variable:}    &        y         & \\textbf{  R-squared:         } &     0.769   \\\\\n\\textbf{Model:}            &       OLS        & \\textbf{  Adj. R-squared:    } &     0.740   \\\\\n\\textbf{Method:}           &  Least Squares   & \\textbf{  F-statistic:       } &     26.57   \\\\\n\\textbf{Date:}             & Sun, 13 Oct 2024 & \\textbf{  Prob (F-statistic):} &  0.000869   \\\\\n\\textbf{Time:}             &     09:45:42     & \\textbf{  Log-Likelihood:    } &  -0.94321   \\\\\n\\textbf{No. Observations:} &          10      & \\textbf{  AIC:               } &     5.886   \\\\\n\\textbf{Df Residuals:}     &           8      & \\textbf{  BIC:               } &     6.492   \\\\\n\\textbf{Df Model:}         &           1      & \\textbf{                     } &             \\\\\n\\textbf{Covariance Type:}  &    nonrobust     & \\textbf{                     } &             \\\\\n\\bottomrule\n\\end{tabular}\n\\begin{tabular}{lcccccc}\n               & \\textbf{coef} & \\textbf{std err} & \\textbf{t} & \\textbf{P$> |$t$|$} & \\textbf{[0.025} & \\textbf{0.975]}  \\\\\n\\midrule\n\\textbf{const} &       0.8103  &        0.130     &     6.220  &         0.000        &        0.510    &        1.111     \\\\\n\\textbf{x1}    &       0.0001  &     2.56e-05     &     5.155  &         0.001        &      7.3e-05    &        0.000     \\\\\n\\bottomrule\n\\end{tabular}\n\\begin{tabular}{lclc}\n\\textbf{Omnibus:}       &  4.766 & \\textbf{  Durbin-Watson:     } &    0.642  \\\\\n\\textbf{Prob(Omnibus):} &  0.092 & \\textbf{  Jarque-Bera (JB):  } &    1.194  \\\\\n\\textbf{Skew:}          &  0.150 & \\textbf{  Prob(JB):          } &    0.550  \\\\\n\\textbf{Kurtosis:}      &  1.334 & \\textbf{  Cond. No.          } & 7.05e+03  \\\\\n\\bottomrule\n\\end{tabular}\n%\\caption{OLS Regression Results}\n\\end{center}\n\nNotes: \\newline\n [1] Standard Errors assume that the covariance matrix of the errors is correctly specified. \\newline\n [2] The condition number is large, 7.05e+03. This might indicate that there are \\newline\n strong multicollinearity or other numerical problems."
     },
     "execution_count": 13,
     "metadata": {},
     "output_type": "execute_result"
    }
   ],
   "execution_count": 13
  },
  {
   "metadata": {
    "ExecuteTime": {
     "end_time": "2024-10-13T14:45:42.906472Z",
     "start_time": "2024-10-13T14:45:42.903434Z"
    }
   },
   "cell_type": "code",
   "source": [
    "def theor_arg_from_OD600_with_CGP(od600: float, frac_cgp_of_cdw: float = 0.25, frac_arg_of_cgp: float = .6,\n",
    "                                  mw_arg: float = 174.2) -> float:\n",
    "    return od600 * .33 * frac_cgp_of_cdw * frac_arg_of_cgp / mw_arg * 1E6\n",
    "\n",
    "\n",
    "def theor_OD600_with_CGP_for_x_arg(x_arg: float, frac_cgp_of_cdw: float = 0.25, frac_arg_of_cgp: float = .6,\n",
    "                                   mw_arg: float = 174.2) -> float:\n",
    "    return x_arg / (.33 * frac_cgp_of_cdw * frac_arg_of_cgp / mw_arg * 1E6)\n",
    "\n",
    "\n",
    "def yield_in_g_g(x):\n",
    "    return x * .33 / (1.742 * 10 ** -4)\n",
    "\n",
    "\n",
    "yield_in_g_g(0.0004)\n",
    "\n",
    "theor_arg_from_OD600_with_CGP(1)\n",
    "theor_OD600_with_CGP_for_x_arg(100)\n",
    "theor_OD600_with_CGP_for_x_arg(250)\n",
    "# t = yield_fits['KSF230'].summary().tables[1]\n",
    "# t[('x1')]"
   ],
   "id": "a651ab291f3e4531",
   "outputs": [
    {
     "data": {
      "text/plain": [
       "0.8797979797979798"
      ]
     },
     "execution_count": 14,
     "metadata": {},
     "output_type": "execute_result"
    }
   ],
   "execution_count": 14
  },
  {
   "metadata": {
    "ExecuteTime": {
     "end_time": "2024-10-13T14:45:42.939402Z",
     "start_time": "2024-10-13T14:45:42.937100Z"
    }
   },
   "cell_type": "code",
   "source": ".506 / theor_OD600_with_CGP_for_x_arg(100, frac_cgp_of_cdw=.5)",
   "id": "5ac82d06b57354ba",
   "outputs": [
    {
     "data": {
      "text/plain": [
       "2.8756601607347876"
      ]
     },
     "execution_count": 15,
     "metadata": {},
     "output_type": "execute_result"
    }
   ],
   "execution_count": 15
  },
  {
   "metadata": {
    "ExecuteTime": {
     "end_time": "2024-10-13T14:45:43.285953Z",
     "start_time": "2024-10-13T14:45:42.970271Z"
    }
   },
   "cell_type": "code",
   "source": [
    "import pandera as pa\n",
    "import pandera.typing as pat\n",
    "from analysis.schemas import SakaguchiODSchema\n",
    "\n",
    "\n",
    "@pa.check_types()\n",
    "def sakaguchi_analysis(df: pat.DataFrame[SakaguchiODSchema]):\n",
    "    return df"
   ],
   "id": "fa9e1408ff6fceb0",
   "outputs": [],
   "execution_count": 16
  },
  {
   "metadata": {
    "ExecuteTime": {
     "end_time": "2024-10-13T14:45:43.618649Z",
     "start_time": "2024-10-13T14:45:43.316365Z"
    }
   },
   "cell_type": "code",
   "source": [
    "# noinspection PyTypeChecker\n",
    "df_sakaguchi = pd.read_excel(\n",
    "    '~/tyo_lab_pk/04 Raw Data/EXP_0007_PK_20240909_ArgConcentrationResponse.xlsx',\n",
    "    sheet_name='Sakaguchi for residual arg',\n",
    "    usecols='B:E',\n",
    "    skiprows=45,\n",
    ")\n",
    "\n",
    "sakaguchi_analysis(df_sakaguchi)"
   ],
   "id": "b175819e32b78afa",
   "outputs": [
    {
     "ename": "SchemaError",
     "evalue": "error in check_types decorator of function 'sakaguchi_analysis': column 'conc_factor' not in dataframe. Columns in dataframe: ['sample', 'vol_sample_ul', 'vol_reagentA_ul', 'vol_reagentB_ul']",
     "output_type": "error",
     "traceback": [
      "\u001B[0;31m---------------------------------------------------------------------------\u001B[0m",
      "\u001B[0;31mSchemaError\u001B[0m                               Traceback (most recent call last)",
      "Cell \u001B[0;32mIn[17], line 9\u001B[0m\n\u001B[1;32m      1\u001B[0m \u001B[38;5;66;03m# noinspection PyTypeChecker\u001B[39;00m\n\u001B[1;32m      2\u001B[0m df_sakaguchi \u001B[38;5;241m=\u001B[39m pd\u001B[38;5;241m.\u001B[39mread_excel(\n\u001B[1;32m      3\u001B[0m     \u001B[38;5;124m'\u001B[39m\u001B[38;5;124m~/tyo_lab_pk/04 Raw Data/EXP_0007_PK_20240909_ArgConcentrationResponse.xlsx\u001B[39m\u001B[38;5;124m'\u001B[39m,\n\u001B[1;32m      4\u001B[0m     sheet_name\u001B[38;5;241m=\u001B[39m\u001B[38;5;124m'\u001B[39m\u001B[38;5;124mSakaguchi for residual arg\u001B[39m\u001B[38;5;124m'\u001B[39m,\n\u001B[1;32m      5\u001B[0m     usecols\u001B[38;5;241m=\u001B[39m\u001B[38;5;124m'\u001B[39m\u001B[38;5;124mB:E\u001B[39m\u001B[38;5;124m'\u001B[39m,\n\u001B[1;32m      6\u001B[0m     skiprows\u001B[38;5;241m=\u001B[39m\u001B[38;5;241m45\u001B[39m,\n\u001B[1;32m      7\u001B[0m )\n\u001B[0;32m----> 9\u001B[0m \u001B[43msakaguchi_analysis\u001B[49m\u001B[43m(\u001B[49m\u001B[43mdf_sakaguchi\u001B[49m\u001B[43m)\u001B[49m\n",
      "File \u001B[0;32m~/Library/Caches/pypoetry/virtualenvs/analysis-jO871hYA-py3.12/lib/python3.12/site-packages/pandera/decorators.py:853\u001B[0m, in \u001B[0;36mcheck_types.<locals>._wrapper\u001B[0;34m(wrapped_, instance, args, kwargs)\u001B[0m\n\u001B[1;32m    851\u001B[0m     out \u001B[38;5;241m=\u001B[39m validate_arguments(wrapped_)(\u001B[38;5;241m*\u001B[39margs, \u001B[38;5;241m*\u001B[39m\u001B[38;5;241m*\u001B[39mkwargs)\n\u001B[1;32m    852\u001B[0m \u001B[38;5;28;01melse\u001B[39;00m:\n\u001B[0;32m--> 853\u001B[0m     validated_pos, validated_kwd \u001B[38;5;241m=\u001B[39m \u001B[43mvalidate_inputs\u001B[49m\u001B[43m(\u001B[49m\n\u001B[1;32m    854\u001B[0m \u001B[43m        \u001B[49m\u001B[43minstance\u001B[49m\u001B[43m,\u001B[49m\u001B[43m \u001B[49m\u001B[43margs\u001B[49m\u001B[43m,\u001B[49m\u001B[43m \u001B[49m\u001B[43mkwargs\u001B[49m\n\u001B[1;32m    855\u001B[0m \u001B[43m    \u001B[49m\u001B[43m)\u001B[49m\n\u001B[1;32m    856\u001B[0m     out \u001B[38;5;241m=\u001B[39m wrapped_(\u001B[38;5;241m*\u001B[39mvalidated_pos, \u001B[38;5;241m*\u001B[39m\u001B[38;5;241m*\u001B[39mvalidated_kwd)\n\u001B[1;32m    857\u001B[0m \u001B[38;5;28;01mreturn\u001B[39;00m _check_arg(\u001B[38;5;124m\"\u001B[39m\u001B[38;5;124mreturn\u001B[39m\u001B[38;5;124m\"\u001B[39m, out)\n",
      "File \u001B[0;32m~/Library/Caches/pypoetry/virtualenvs/analysis-jO871hYA-py3.12/lib/python3.12/site-packages/pandera/decorators.py:811\u001B[0m, in \u001B[0;36mcheck_types.<locals>.validate_inputs\u001B[0;34m(instance, args, kwargs)\u001B[0m\n\u001B[1;32m    807\u001B[0m \u001B[38;5;28;01mif\u001B[39;00m instance \u001B[38;5;129;01mis\u001B[39;00m \u001B[38;5;129;01mnot\u001B[39;00m \u001B[38;5;28;01mNone\u001B[39;00m:\n\u001B[1;32m    808\u001B[0m     \u001B[38;5;66;03m# If the wrapped function is a method -> add \"self\" as the first positional arg\u001B[39;00m\n\u001B[1;32m    809\u001B[0m     args \u001B[38;5;241m=\u001B[39m (instance, \u001B[38;5;241m*\u001B[39margs)\n\u001B[0;32m--> 811\u001B[0m validated_pos \u001B[38;5;241m=\u001B[39m \u001B[43mvalidate_args\u001B[49m\u001B[43m(\u001B[49m\u001B[43msig\u001B[49m\u001B[38;5;241;43m.\u001B[39;49m\u001B[43mbind_partial\u001B[49m\u001B[43m(\u001B[49m\u001B[38;5;241;43m*\u001B[39;49m\u001B[43margs\u001B[49m\u001B[43m)\u001B[49m\u001B[38;5;241;43m.\u001B[39;49m\u001B[43marguments\u001B[49m\u001B[43m,\u001B[49m\u001B[43m \u001B[49m\u001B[43margs\u001B[49m\u001B[43m)\u001B[49m\n\u001B[1;32m    812\u001B[0m validated_kwd \u001B[38;5;241m=\u001B[39m validate_kwargs(\n\u001B[1;32m    813\u001B[0m     sig\u001B[38;5;241m.\u001B[39mbind_partial(\u001B[38;5;241m*\u001B[39m\u001B[38;5;241m*\u001B[39mkwargs)\u001B[38;5;241m.\u001B[39marguments, kwargs\n\u001B[1;32m    814\u001B[0m )\n\u001B[1;32m    816\u001B[0m \u001B[38;5;28;01mif\u001B[39;00m instance \u001B[38;5;129;01mis\u001B[39;00m \u001B[38;5;129;01mnot\u001B[39;00m \u001B[38;5;28;01mNone\u001B[39;00m:\n\u001B[1;32m    817\u001B[0m     \u001B[38;5;66;03m# If the decorated func is a method, \"wrapped\" is a bound method\u001B[39;00m\n\u001B[1;32m    818\u001B[0m     \u001B[38;5;66;03m# -> remove \"self\" before passing positional args through\u001B[39;00m\n",
      "File \u001B[0;32m~/Library/Caches/pypoetry/virtualenvs/analysis-jO871hYA-py3.12/lib/python3.12/site-packages/pandera/decorators.py:757\u001B[0m, in \u001B[0;36mcheck_types.<locals>.validate_args\u001B[0;34m(named_arguments, arguments)\u001B[0m\n\u001B[1;32m    754\u001B[0m     \u001B[38;5;28;01mreturn\u001B[39;00m \u001B[38;5;28mlist\u001B[39m((\u001B[38;5;241m*\u001B[39mexplicit_args_tuple, \u001B[38;5;241m*\u001B[39mstar_args_tuple))\n\u001B[1;32m    756\u001B[0m \u001B[38;5;28;01melse\u001B[39;00m:\n\u001B[0;32m--> 757\u001B[0m     \u001B[38;5;28;01mreturn\u001B[39;00m \u001B[38;5;28;43mlist\u001B[39;49m\u001B[43m(\u001B[49m\n\u001B[1;32m    758\u001B[0m \u001B[43m        \u001B[49m\u001B[43m_check_arg\u001B[49m\u001B[43m(\u001B[49m\u001B[43marg_name\u001B[49m\u001B[43m,\u001B[49m\u001B[43m \u001B[49m\u001B[43marg_value\u001B[49m\u001B[43m)\u001B[49m\n\u001B[1;32m    759\u001B[0m \u001B[43m        \u001B[49m\u001B[38;5;28;43;01mfor\u001B[39;49;00m\u001B[43m \u001B[49m\u001B[43marg_name\u001B[49m\u001B[43m,\u001B[49m\u001B[43m \u001B[49m\u001B[43marg_value\u001B[49m\u001B[43m \u001B[49m\u001B[38;5;129;43;01min\u001B[39;49;00m\u001B[43m \u001B[49m\u001B[43mnamed_arguments\u001B[49m\u001B[38;5;241;43m.\u001B[39;49m\u001B[43mitems\u001B[49m\u001B[43m(\u001B[49m\u001B[43m)\u001B[49m\n\u001B[1;32m    760\u001B[0m \u001B[43m    \u001B[49m\u001B[43m)\u001B[49m\n",
      "File \u001B[0;32m~/Library/Caches/pypoetry/virtualenvs/analysis-jO871hYA-py3.12/lib/python3.12/site-packages/pandera/decorators.py:758\u001B[0m, in \u001B[0;36m<genexpr>\u001B[0;34m(.0)\u001B[0m\n\u001B[1;32m    754\u001B[0m     \u001B[38;5;28;01mreturn\u001B[39;00m \u001B[38;5;28mlist\u001B[39m((\u001B[38;5;241m*\u001B[39mexplicit_args_tuple, \u001B[38;5;241m*\u001B[39mstar_args_tuple))\n\u001B[1;32m    756\u001B[0m \u001B[38;5;28;01melse\u001B[39;00m:\n\u001B[1;32m    757\u001B[0m     \u001B[38;5;28;01mreturn\u001B[39;00m \u001B[38;5;28mlist\u001B[39m(\n\u001B[0;32m--> 758\u001B[0m         \u001B[43m_check_arg\u001B[49m\u001B[43m(\u001B[49m\u001B[43marg_name\u001B[49m\u001B[43m,\u001B[49m\u001B[43m \u001B[49m\u001B[43marg_value\u001B[49m\u001B[43m)\u001B[49m\n\u001B[1;32m    759\u001B[0m         \u001B[38;5;28;01mfor\u001B[39;00m arg_name, arg_value \u001B[38;5;129;01min\u001B[39;00m named_arguments\u001B[38;5;241m.\u001B[39mitems()\n\u001B[1;32m    760\u001B[0m     )\n",
      "File \u001B[0;32m~/Library/Caches/pypoetry/virtualenvs/analysis-jO871hYA-py3.12/lib/python3.12/site-packages/pandera/decorators.py:709\u001B[0m, in \u001B[0;36mcheck_types.<locals>._check_arg\u001B[0;34m(arg_name, arg_value)\u001B[0m\n\u001B[1;32m    707\u001B[0m \u001B[38;5;28;01mif\u001B[39;00m error_handler\u001B[38;5;241m.\u001B[39mschema_errors:\n\u001B[1;32m    708\u001B[0m     \u001B[38;5;28;01mif\u001B[39;00m \u001B[38;5;28mlen\u001B[39m(error_handler\u001B[38;5;241m.\u001B[39mschema_errors) \u001B[38;5;241m==\u001B[39m \u001B[38;5;241m1\u001B[39m:\n\u001B[0;32m--> 709\u001B[0m         \u001B[38;5;28;01mraise\u001B[39;00m error_handler\u001B[38;5;241m.\u001B[39mschema_errors[\u001B[38;5;241m0\u001B[39m]\n\u001B[1;32m    711\u001B[0m     \u001B[38;5;28;01mraise\u001B[39;00m errors\u001B[38;5;241m.\u001B[39mSchemaErrors(\n\u001B[1;32m    712\u001B[0m         schema\u001B[38;5;241m=\u001B[39mschema,\n\u001B[1;32m    713\u001B[0m         schema_errors\u001B[38;5;241m=\u001B[39m(\n\u001B[0;32m   (...)\u001B[0m\n\u001B[1;32m    718\u001B[0m         data\u001B[38;5;241m=\u001B[39marg_value,\n\u001B[1;32m    719\u001B[0m     )\n",
      "\u001B[0;31mSchemaError\u001B[0m: error in check_types decorator of function 'sakaguchi_analysis': column 'conc_factor' not in dataframe. Columns in dataframe: ['sample', 'vol_sample_ul', 'vol_reagentA_ul', 'vol_reagentB_ul']"
     ]
    }
   ],
   "execution_count": 17
  },
  {
   "metadata": {
    "ExecuteTime": {
     "end_time": "2024-10-13T14:45:43.691211Z",
     "start_time": "2024-10-01T04:24:21.778146Z"
    }
   },
   "cell_type": "code",
   "source": [
    "plotly_colors = {\n",
    "    \"SP_Brights_Green\": \"rgb(81, 255, 0)\",\n",
    "    \"SP_Brights_Light_Blue\": \"rgb(132, 255, 199)\",\n",
    "    \"SP_Brights_Blue\": \"rgb(81, 168, 255)\",\n",
    "    \"SP_Brights_Yellow\": \"rgb(229, 255, 28)\",\n",
    "    \"SP_Brights_Orange\": \"rgb(255, 196, 13)\",\n",
    "    \"SP_Brights_Orange_Red\": \"rgb(252, 45, 51)\",\n",
    "    \"SP_Dark_Green\": \"rgb(27, 168, 36)\",\n",
    "    \"SP_Dark_Light_Blue\": \"rgb(35, 150, 197)\",\n",
    "    \"SP_Dark_Blue\": \"rgb(58, 38, 147)\",\n",
    "    \"SP_Dark_Yellow\": \"rgb(209, 219, 0)\",\n",
    "    \"SP_Dark_Orange\": \"rgb(201, 126, 19)\",\n",
    "    \"SP_Dark_Orange_Red\": \"rgb(229, 57, 0)\"\n",
    "}"
   ],
   "id": "9b720dd9c9f4d425",
   "outputs": [],
   "execution_count": 13
  },
  {
   "metadata": {
    "ExecuteTime": {
     "end_time": "2024-10-13T14:45:43.691603Z",
     "start_time": "2024-10-04T20:50:11.649122Z"
    }
   },
   "cell_type": "code",
   "source": [
    "import plotly.graph_objects as go\n",
    "import numpy as np\n",
    "\n",
    "# Create figure\n",
    "fig = go.Figure()\n",
    "\n",
    "black = 'rgba(255,255,255,0)'\n",
    "\n",
    "# create linear space\n",
    "x_vals = np.linspace(0, 10, 100)\n",
    "\n",
    "# doubling references\n",
    "y_vals_1_1 = x_vals\n",
    "y_vals_1_2 = 2 * x_vals\n",
    "y_vals_1_4 = 4 * x_vals\n",
    "\n",
    "fig.add_trace(\n",
    "    go.Scatter(x=x_vals, y=y_vals_1_1, mode='lines', line=dict(dash='dash', color='black', width=1), name='1:1'))\n",
    "fig.add_trace(\n",
    "    go.Scatter(x=x_vals, y=y_vals_1_2, mode='lines', line=dict(dash='dash', color='black', width=1), name='1:2'))\n",
    "fig.add_trace(\n",
    "    go.Scatter(x=x_vals, y=y_vals_1_4, mode='lines', line=dict(dash='dash', color='black', width=1), name='1:4'))\n",
    "\n",
    "# x -> 1:1   real bad like\n",
    "fig.add_trace(go.Scatter(x=np.concatenate([x_vals, x_vals[::-1]]),\n",
    "                         y=np.concatenate([y_vals_1_1, np.zeros_like(x_vals)]),\n",
    "                         fill='toself',\n",
    "                         fillcolor=plotly_colors['SP_Brights_Orange_Red'],\n",
    "                         opacity=0.2,\n",
    "                         line=dict(color=black),\n",
    "                         showlegend=True))\n",
    "# 1:1 -> 1:2  meh\n",
    "fig.add_trace(go.Scatter(x=np.concatenate([x_vals, x_vals[::-1]]),\n",
    "                         y=np.concatenate([y_vals_1_1, y_vals_1_2[::-1]]),\n",
    "                         fill='toself',\n",
    "                         fillcolor=plotly_colors['SP_Dark_Orange_Red'],\n",
    "                         opacity=0.2,\n",
    "                         line=dict(color=black),\n",
    "                         showlegend=False))\n",
    "# 1:2 -> 1:4  ok\n",
    "fig.add_trace(go.Scatter(x=np.concatenate([x_vals, x_vals[::-1]]),\n",
    "                         y=np.concatenate([y_vals_1_2, y_vals_1_4[::-1]]),\n",
    "                         fill='toself',\n",
    "                         fillcolor=plotly_colors['SP_Dark_Green'],\n",
    "                         opacity=0.2,\n",
    "                         line=dict(color=black),\n",
    "                         showlegend=False))\n",
    "# y -> 1:4  cookin\n",
    "fig.add_trace(go.Scatter(x=np.concatenate([x_vals, np.zeros_like(x_vals)]),\n",
    "                         y=np.concatenate([y_vals_1_4, y_vals_1_4[::-1]]),\n",
    "                         fill='toself',\n",
    "                         fillcolor=plotly_colors['SP_Brights_Green'],\n",
    "                         line=dict(color=black),\n",
    "                         opacity=0.2,\n",
    "                         showlegend=False))\n",
    "\n",
    "fig.add_annotation(x=.9, y=.8, text=\"death\", showarrow=False, font=dict(size=20))\n",
    "fig.add_annotation(x=.8, y=.95, text=\"no doubling\", showarrow=False, font=dict(size=20))\n",
    "fig.add_annotation(x=.35, y=.95, text=\"1-2 doublings\", showarrow=False, font=dict(size=20))\n",
    "fig.add_annotation(x=.11, y=.95, text=\"≥2 doublings\", showarrow=False, font=dict(size=20))\n",
    "\n",
    "# theoretical and experimental curves\n",
    "\n",
    "fig.add_trace(go.Scatter(x=x_vals, y=1.43 * x_vals, mode='lines', line=dict(color='black'), name='∆argBR Best'))\n",
    "fig.add_trace(go.Scatter(x=x_vals, y=4.6 * x_vals, mode='lines', line=dict(color='purple'), name='theoretical'))\n",
    "\n",
    "fig.add_annotation(x=.2, y=.51, text=\"Y theoretical = 4.5\", showarrow=False, font=dict(size=16))\n",
    "fig.add_annotation(x=.42, y=.4, text=\"Y ∆argBR (best of) = 1.5\", showarrow=False, font=dict(size=16))\n",
    "\n",
    "# Update axes and layout for the plot\n",
    "fig.update_layout(\n",
    "    xaxis_title='ADP1 with CGP from Phase 1 (OD600)',\n",
    "    yaxis_title='ADP1 in Phase 2 (OD600)',\n",
    "    xaxis=dict(range=[0, 1]),\n",
    "    yaxis=dict(range=[0, 1]),\n",
    "    showlegend=False,\n",
    "    width=700,\n",
    "    height=700,\n",
    "    plot_bgcolor='rgba(0,0,0,0)'\n",
    ")\n",
    "\n",
    "fig"
   ],
   "id": "398ea1c37fd12419",
   "outputs": [
    {
     "ename": "NameError",
     "evalue": "name 'plotly_colors' is not defined",
     "output_type": "error",
     "traceback": [
      "\u001B[0;31m---------------------------------------------------------------------------\u001B[0m",
      "\u001B[0;31mNameError\u001B[0m                                 Traceback (most recent call last)",
      "Cell \u001B[0;32mIn[28], line 25\u001B[0m\n\u001B[1;32m     19\u001B[0m fig\u001B[38;5;241m.\u001B[39madd_trace(go\u001B[38;5;241m.\u001B[39mScatter(x\u001B[38;5;241m=\u001B[39mx_vals, y\u001B[38;5;241m=\u001B[39my_vals_1_4, mode\u001B[38;5;241m=\u001B[39m\u001B[38;5;124m'\u001B[39m\u001B[38;5;124mlines\u001B[39m\u001B[38;5;124m'\u001B[39m, line\u001B[38;5;241m=\u001B[39m\u001B[38;5;28mdict\u001B[39m(dash\u001B[38;5;241m=\u001B[39m\u001B[38;5;124m'\u001B[39m\u001B[38;5;124mdash\u001B[39m\u001B[38;5;124m'\u001B[39m, color\u001B[38;5;241m=\u001B[39m\u001B[38;5;124m'\u001B[39m\u001B[38;5;124mblack\u001B[39m\u001B[38;5;124m'\u001B[39m, width\u001B[38;5;241m=\u001B[39m\u001B[38;5;241m1\u001B[39m), name\u001B[38;5;241m=\u001B[39m\u001B[38;5;124m'\u001B[39m\u001B[38;5;124m1:4\u001B[39m\u001B[38;5;124m'\u001B[39m))\n\u001B[1;32m     21\u001B[0m \u001B[38;5;66;03m# x -> 1:1   real bad like\u001B[39;00m\n\u001B[1;32m     22\u001B[0m fig\u001B[38;5;241m.\u001B[39madd_trace(go\u001B[38;5;241m.\u001B[39mScatter(x\u001B[38;5;241m=\u001B[39mnp\u001B[38;5;241m.\u001B[39mconcatenate([x_vals, x_vals[::\u001B[38;5;241m-\u001B[39m\u001B[38;5;241m1\u001B[39m]]),\n\u001B[1;32m     23\u001B[0m                          y\u001B[38;5;241m=\u001B[39mnp\u001B[38;5;241m.\u001B[39mconcatenate([y_vals_1_1, np\u001B[38;5;241m.\u001B[39mzeros_like(x_vals)]),\n\u001B[1;32m     24\u001B[0m                          fill\u001B[38;5;241m=\u001B[39m\u001B[38;5;124m'\u001B[39m\u001B[38;5;124mtoself\u001B[39m\u001B[38;5;124m'\u001B[39m,\n\u001B[0;32m---> 25\u001B[0m                          fillcolor\u001B[38;5;241m=\u001B[39m\u001B[43mplotly_colors\u001B[49m[\u001B[38;5;124m'\u001B[39m\u001B[38;5;124mSP_Brights_Orange_Red\u001B[39m\u001B[38;5;124m'\u001B[39m],\n\u001B[1;32m     26\u001B[0m                          opacity\u001B[38;5;241m=\u001B[39m\u001B[38;5;241m0.2\u001B[39m,\n\u001B[1;32m     27\u001B[0m                          line\u001B[38;5;241m=\u001B[39m\u001B[38;5;28mdict\u001B[39m(color\u001B[38;5;241m=\u001B[39mblack),\n\u001B[1;32m     28\u001B[0m                          showlegend\u001B[38;5;241m=\u001B[39m\u001B[38;5;28;01mTrue\u001B[39;00m))\n\u001B[1;32m     29\u001B[0m \u001B[38;5;66;03m# 1:1 -> 1:2  meh\u001B[39;00m\n\u001B[1;32m     30\u001B[0m fig\u001B[38;5;241m.\u001B[39madd_trace(go\u001B[38;5;241m.\u001B[39mScatter(x\u001B[38;5;241m=\u001B[39mnp\u001B[38;5;241m.\u001B[39mconcatenate([x_vals, x_vals[::\u001B[38;5;241m-\u001B[39m\u001B[38;5;241m1\u001B[39m]]),\n\u001B[1;32m     31\u001B[0m                          y\u001B[38;5;241m=\u001B[39mnp\u001B[38;5;241m.\u001B[39mconcatenate([y_vals_1_1, y_vals_1_2[::\u001B[38;5;241m-\u001B[39m\u001B[38;5;241m1\u001B[39m]]),\n\u001B[1;32m     32\u001B[0m                          fill\u001B[38;5;241m=\u001B[39m\u001B[38;5;124m'\u001B[39m\u001B[38;5;124mtoself\u001B[39m\u001B[38;5;124m'\u001B[39m,\n\u001B[0;32m   (...)\u001B[0m\n\u001B[1;32m     35\u001B[0m                          line\u001B[38;5;241m=\u001B[39m\u001B[38;5;28mdict\u001B[39m(color\u001B[38;5;241m=\u001B[39mblack),\n\u001B[1;32m     36\u001B[0m                          showlegend\u001B[38;5;241m=\u001B[39m\u001B[38;5;28;01mFalse\u001B[39;00m))\n",
      "\u001B[0;31mNameError\u001B[0m: name 'plotly_colors' is not defined"
     ]
    }
   ],
   "execution_count": 28
  },
  {
   "metadata": {
    "ExecuteTime": {
     "end_time": "2024-10-13T14:45:43.691856Z",
     "start_time": "2024-10-04T20:50:14.947611Z"
    }
   },
   "cell_type": "code",
   "source": "fig.write_image('/Users/pasha/src/nu/posters/artifacts/yield_cgp_for_arg.pdf')\n",
   "id": "3da2f1e5dffc513a",
   "outputs": [],
   "execution_count": 29
  },
  {
   "metadata": {},
   "cell_type": "code",
   "outputs": [],
   "execution_count": null,
   "source": "",
   "id": "7668369d20deb9e"
  }
 ],
 "metadata": {
  "kernelspec": {
   "display_name": "Python 3",
   "language": "python",
   "name": "python3"
  },
  "language_info": {
   "codemirror_mode": {
    "name": "ipython",
    "version": 2
   },
   "file_extension": ".py",
   "mimetype": "text/x-python",
   "name": "python",
   "nbconvert_exporter": "python",
   "pygments_lexer": "ipython2",
   "version": "2.7.6"
  }
 },
 "nbformat": 4,
 "nbformat_minor": 5
}

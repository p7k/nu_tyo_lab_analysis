{
 "cells": [
  {
   "metadata": {},
   "cell_type": "markdown",
   "source": [
    "## Auxotrophic Growth of ADP1 ISx strains on Arginine\n",
    "This is a revisit of analytical framework prompted by:\n",
    "1. prep for the MBP MidTerm Progress Report\n",
    "2. Keith's recent slack with some FoldIncrease calculations\n",
    "\n",
    "### Quick Notes\n",
    "- I've been approaching my calculations with the idea that two main functions should suffice for my theoretical modeling of Arg-aux growth:\n",
    "    1. x_Arg(OD600_init, abundance_CGP_in_CDW, consts) \n",
    "    2. OD600(x_Arg, consts)\n",
    "- I've highlighted the differences from Keith's assumptions in values of constants\n",
    "- I closely recapitulated Keith's fold increase calculations (11/05/2024)\n",
    "- I realized that the `[Arg] from BM w/CGP` curves I've been using need a bit more explanation - at least graphically:\n",
    "    - I'm using the OD600 scale for both OD600_init for `[Arg] from BM w/CGP` and OD600_final for the yield curves.\n",
    "- I've been constructing the combined unit Yield as OD_phaseII from OD_phaseI, that naming is confusing because OD_phaseII is independent of OD_phaseI and is solely dependent on starting OD in phaseII and CGP(%CDW) from "
   ],
   "id": "85ceb254e3316ca3"
  },
  {
   "metadata": {
    "collapsed": true,
    "ExecuteTime": {
     "end_time": "2024-11-06T08:05:33.399665Z",
     "start_time": "2024-11-06T08:05:33.394464Z"
    }
   },
   "cell_type": "code",
   "outputs": [],
   "execution_count": 54,
   "source": [
    "from functools import partial\n",
    "\n",
    "from sympy import symbols, Eq, plot, Function, N\n",
    "from sympy.physics.units.prefixes import micro\n",
    "from sympy.physics.units import au, gram, liter, milliliter, mol"
   ],
   "id": "initial_id"
  },
  {
   "metadata": {
    "ExecuteTime": {
     "end_time": "2024-11-06T07:56:18.945754Z",
     "start_time": "2024-11-06T07:56:18.929372Z"
    }
   },
   "cell_type": "code",
   "source": [
    "# numeric rounding to 3 sig figs\n",
    "N3 = partial(N, n=3)\n",
    "\n",
    "# additional units\n",
    "molar = mol / liter\n",
    "wv_perc = gram / (100 * milliliter)"
   ],
   "id": "23202073062f83f1",
   "outputs": [],
   "execution_count": 45
  },
  {
   "metadata": {
    "ExecuteTime": {
     "end_time": "2024-11-06T07:38:30.328663Z",
     "start_time": "2024-11-06T07:38:30.326070Z"
    }
   },
   "cell_type": "code",
   "source": [
    "# symbols\n",
    "Real = partial(symbols, real=True)\n",
    "\n",
    "# species\n",
    "CGP, Arg, Asp, prot = Real('CGP, Arg, Asp, prot')\n",
    "\n",
    "# abundances\n",
    "ab_Arg_in_CGP = Real(r'abundance_{\\frac{Arg}{CGP}}')\n",
    "ab_Asp_in_CGP = Real(r'abundance_{\\frac{Asp}{CGP}}')\n",
    "ab_CGP_in_CDW = Real(r'abundance_{\\frac{CGP}{CDW}}')\n",
    "ab_prot_in_CDW = Real(r'abundance_{\\frac{prot}{CDW}}')\n",
    "ab_Arg_in_prot = Real(r'abundance_{\\frac{Arg}{prot}}')\n",
    "\n",
    "# masses\n",
    "m_Arg, m_CGP, CDW = Real('m_{Arg}, m_{CGP}, CDW')\n",
    "\n",
    "# molar weights\n",
    "mw_Arg, mw_Asp = Real('mw_{Arg}, mw_{Asp}')\n",
    "\n",
    "# concentrations\n",
    "x_Arg = Real(r'x_{Arg}')\n",
    "x_CGP = Real(r'x_{CGP}')\n",
    "OD600_initial, OD600 = Real(r'OD600_{init}, OD600')\n",
    "\n",
    "ratio_CDW_per_OD600 = Real(r'ratio_{\\frac{CDW}{OD600}}')\n",
    "\n",
    "# yields\n",
    "Y_OD_from_Arg = Real(r'Y_{\\frac{OD600}{Arg}}')\n",
    "Y_OD_from_CGP = Real(r'Y_{\\frac{OD600}{CGP}}')\n",
    "Y_ODp2_from_ODp1 = Real(r'Y_{\\frac{OD600_{phase2}}{OD600_{phase1}}}')\n",
    "Y_CDWp2_from_CDWp1 = Real(r'Y_{\\frac{CDW_{phase2}}{CDW_{phase1}}}')"
   ],
   "id": "ab277f37bf9d1d2f",
   "outputs": [],
   "execution_count": 3
  },
  {
   "metadata": {
    "ExecuteTime": {
     "end_time": "2024-11-06T07:51:44.540748Z",
     "start_time": "2024-11-06T07:51:44.536158Z"
    }
   },
   "cell_type": "code",
   "source": [
    "# FIXME - differs from Keith's assumptions\n",
    "\n",
    "const = {\n",
    "    # molar weights\n",
    "    mw_Arg: 174.2 * gram / mol,\n",
    "    mw_Asp: 133.1 * gram / mol,\n",
    "\n",
    "    # abundances\n",
    "    ab_Arg_in_CGP: 0.60,  # FIXME accounting for one H2O loss 174.2 / (174.2 + 133.1 - 18)\n",
    "    # ab_CGP_in_CDW: 0.25,  # working assumption (previously considered conservative)\n",
    "    ab_Arg_in_prot: 0.05,  # 1/20 of all proteins (confirmed in cheminfo.ipynb)\n",
    "    ab_prot_in_CDW: 0.50,  # 1/2 of cell dry weight presumed to be proteins\n",
    "\n",
    "    # conversions\n",
    "    ratio_CDW_per_OD600: .33 * (gram / liter) / au\n",
    "    # FIXME based on https://bionumbers.hms.harvard.edu/bionumber.aspx?id=109838&ver=2 \n",
    "}"
   ],
   "id": "84e08c5bd4876ae0",
   "outputs": [],
   "execution_count": 22
  },
  {
   "metadata": {},
   "cell_type": "markdown",
   "source": [
    "### Theoretical arginine demand by proteome (growth limiting)\n",
    "\n",
    "This is a theoretical upper bound on cellular growth, as we expect the highest priority for arginine utilization to be expression of the proteome."
   ],
   "id": "9fbf00871816b596"
  },
  {
   "metadata": {
    "ExecuteTime": {
     "end_time": "2024-11-06T07:51:45.706950Z",
     "start_time": "2024-11-06T07:51:45.701884Z"
    }
   },
   "cell_type": "code",
   "source": "(ab_Arg_in_CDW := ab_prot_in_CDW * ab_Arg_in_prot)",
   "id": "19169e8bb4a3015",
   "outputs": [
    {
     "data": {
      "text/plain": [
       "abundance_{\\frac{Arg}{prot}}*abundance_{\\frac{prot}{CDW}}"
      ],
      "text/latex": "$\\displaystyle abundance_{\\frac{Arg}{prot}} abundance_{\\frac{prot}{CDW}}$"
     },
     "execution_count": 23,
     "metadata": {},
     "output_type": "execute_result"
    }
   ],
   "execution_count": 23
  },
  {
   "metadata": {
    "ExecuteTime": {
     "end_time": "2024-11-06T07:51:46.419990Z",
     "start_time": "2024-11-06T07:51:46.415056Z"
    }
   },
   "cell_type": "code",
   "source": "ab_Arg_in_CDW.subs(const)",
   "id": "59f92a35e1112872",
   "outputs": [
    {
     "data": {
      "text/plain": [
       "0.0250000000000000"
      ],
      "text/latex": "$\\displaystyle 0.025$"
     },
     "execution_count": 24,
     "metadata": {},
     "output_type": "execute_result"
    }
   ],
   "execution_count": 24
  },
  {
   "metadata": {
    "ExecuteTime": {
     "end_time": "2024-11-06T07:51:47.540098Z",
     "start_time": "2024-11-06T07:51:47.534960Z"
    }
   },
   "cell_type": "code",
   "source": "(eq_OD_from_Arg := Eq(OD600, x_Arg / (ratio_CDW_per_OD600 * ab_Arg_in_CDW / mw_Arg)))",
   "id": "cd98243a80e12ea7",
   "outputs": [
    {
     "data": {
      "text/plain": [
       "Eq(OD600, mw_{Arg}*x_{Arg}/(abundance_{\\frac{Arg}{prot}}*abundance_{\\frac{prot}{CDW}}*ratio_{\\frac{CDW}{OD600}}))"
      ],
      "text/latex": "$\\displaystyle OD_{600} = \\frac{mw_{Arg} x_{Arg}}{abundance_{\\frac{Arg}{prot}} abundance_{\\frac{prot}{CDW}} ratio_{\\frac{CDW}{OD600}}}$"
     },
     "execution_count": 25,
     "metadata": {},
     "output_type": "execute_result"
    }
   ],
   "execution_count": 25
  },
  {
   "metadata": {
    "ExecuteTime": {
     "end_time": "2024-11-06T07:56:35.069477Z",
     "start_time": "2024-11-06T07:56:35.064931Z"
    }
   },
   "cell_type": "code",
   "source": "N3(eq_OD_from_Arg.subs(const))",
   "id": "263befaa08cdbf8d",
   "outputs": [
    {
     "data": {
      "text/plain": [
       "Eq(OD600, 2.11e+4*astronomical_unit*liter*x_{Arg}/mole)"
      ],
      "text/latex": "$\\displaystyle OD_{600} = \\frac{2.11 \\cdot 10^{4} x_{Arg} \\text{AU} \\text{l}}{\\text{mol}}$"
     },
     "execution_count": 46,
     "metadata": {},
     "output_type": "execute_result"
    }
   ],
   "execution_count": 46
  },
  {
   "metadata": {
    "ExecuteTime": {
     "end_time": "2024-11-06T08:56:26.395133Z",
     "start_time": "2024-11-06T08:56:26.328562Z"
    }
   },
   "cell_type": "code",
   "source": [
    "plot(\n",
    "    eq_OD_from_Arg.subs(const).rhs * (micro * mol / liter) / au,\n",
    "    (x_Arg, 0, 300),\n",
    "    xlabel=x_Arg * micro * mol / liter,\n",
    "    ylabel=OD600,\n",
    "    size=(5, 3),\n",
    ")"
   ],
   "id": "67241e304bfe4ff6",
   "outputs": [
    {
     "data": {
      "text/plain": [
       "<Figure size 500x300 with 1 Axes>"
      ],
      "image/png": "[encoded data removed]"
     },
     "metadata": {},
     "output_type": "display_data"
    },
    {
     "data": {
      "text/plain": [
       "<sympy.plotting.backends.matplotlibbackend.matplotlib.MatplotlibBackend at 0x1228e7320>"
      ]
     },
     "execution_count": 110,
     "metadata": {},
     "output_type": "execute_result"
    }
   ],
   "execution_count": 110
  },
  {
   "metadata": {},
   "cell_type": "markdown",
   "source": [
    "### Accumulated CGP as source of Arginine\n",
    "\n",
    "ALE Phases with auxotrophic stains:\n",
    "\n",
    "- Phase I - inoculation from pre-culture, growth and accumulation of CGP\n",
    "- Phase II - inoculation from cultures from Phase I, growth limited by Arg from \n",
    "\n",
    "CGP is accumulated in Phase I and consumed in Phase II of ALE."
   ],
   "id": "49d6d22046c9ef47"
  },
  {
   "metadata": {
    "ExecuteTime": {
     "end_time": "2024-11-06T08:56:27.041567Z",
     "start_time": "2024-11-06T08:56:27.038406Z"
    }
   },
   "cell_type": "code",
   "source": "Function(OD600)(OD600_initial, ab_CGP_in_CDW)",
   "id": "dbc6bf8c818f218a",
   "outputs": [
    {
     "data": {
      "text/plain": [
       "OD600(OD600_{init}, abundance_{\\frac{CGP}{CDW}})"
      ],
      "text/latex": "$\\displaystyle \\operatorname{OD}_{600}{\\left(OD600_{init},abundance_{\\frac{CGP}{CDW}} \\right)}$"
     },
     "execution_count": 111,
     "metadata": {},
     "output_type": "execute_result"
    }
   ],
   "execution_count": 111
  },
  {
   "metadata": {
    "ExecuteTime": {
     "end_time": "2024-11-06T08:56:27.959174Z",
     "start_time": "2024-11-06T08:56:27.956361Z"
    }
   },
   "cell_type": "code",
   "source": [
    "# But abundance_CGP_in_CDW is measurable value, therefore\n",
    "Function(OD600)(OD600_initial)"
   ],
   "id": "e8bafdd34e184708",
   "outputs": [
    {
     "data": {
      "text/plain": [
       "OD600(OD600_{init})"
      ],
      "text/latex": "$\\displaystyle \\operatorname{OD}_{600}{\\left(OD600_{init} \\right)}$"
     },
     "execution_count": 112,
     "metadata": {},
     "output_type": "execute_result"
    }
   ],
   "execution_count": 112
  },
  {
   "metadata": {
    "ExecuteTime": {
     "end_time": "2024-11-06T08:56:28.586259Z",
     "start_time": "2024-11-06T08:56:28.583383Z"
    }
   },
   "cell_type": "code",
   "source": [
    "# we know how to estimate OD based on Arg concentration, so we need a function to predict Arg concentration:\n",
    "Function(x_Arg)(OD600_initial, ab_CGP_in_CDW)"
   ],
   "id": "e7ebc716bf6ee53c",
   "outputs": [
    {
     "data": {
      "text/plain": [
       "x_{Arg}(OD600_{init}, abundance_{\\frac{CGP}{CDW}})"
      ],
      "text/latex": "$\\displaystyle x_{Arg}{\\left(OD600_{init},abundance_{\\frac{CGP}{CDW}} \\right)}$"
     },
     "execution_count": 113,
     "metadata": {},
     "output_type": "execute_result"
    }
   ],
   "execution_count": 113
  },
  {
   "metadata": {
    "ExecuteTime": {
     "end_time": "2024-11-06T08:56:28.965528Z",
     "start_time": "2024-11-06T08:56:28.960838Z"
    }
   },
   "cell_type": "code",
   "source": "(eq_x_Arg_from_OD_init := Eq(x_Arg, OD600_initial * ratio_CDW_per_OD600 * ab_CGP_in_CDW * ab_Arg_in_CGP / mw_Arg))",
   "id": "b50c629c9565f2ba",
   "outputs": [
    {
     "data": {
      "text/plain": [
       "Eq(x_{Arg}, OD600_{init}*abundance_{\\frac{Arg}{CGP}}*abundance_{\\frac{CGP}{CDW}}*ratio_{\\frac{CDW}{OD600}}/mw_{Arg})"
      ],
      "text/latex": "$\\displaystyle x_{Arg} = \\frac{OD600_{init} abundance_{\\frac{Arg}{CGP}} abundance_{\\frac{CGP}{CDW}} ratio_{\\frac{CDW}{OD600}}}{mw_{Arg}}$"
     },
     "execution_count": 114,
     "metadata": {},
     "output_type": "execute_result"
    }
   ],
   "execution_count": 114
  },
  {
   "metadata": {
    "ExecuteTime": {
     "end_time": "2024-11-06T08:56:30.108501Z",
     "start_time": "2024-11-06T08:56:30.100773Z"
    }
   },
   "cell_type": "code",
   "source": [
    "# lower bound on x_Arg from 0.05 ODinit and 10 CGP(%CDW) (realistic)\n",
    "N3(eq_x_Arg_from_OD_init.subs({OD600_initial: .05 * au, ab_CGP_in_CDW: 0.10}).subs(const))"
   ],
   "id": "dd9fbfd7673271df",
   "outputs": [
    {
     "data": {
      "text/plain": [
       "Eq(x_{Arg}, 5.68e-6*mole/liter)"
      ],
      "text/latex": "$\\displaystyle x_{Arg} = \\frac{5.68 \\cdot 10^{-6} \\text{mol}}{\\text{l}}$"
     },
     "execution_count": 115,
     "metadata": {},
     "output_type": "execute_result"
    }
   ],
   "execution_count": 115
  },
  {
   "metadata": {
    "ExecuteTime": {
     "end_time": "2024-11-06T08:56:30.457476Z",
     "start_time": "2024-11-06T08:56:30.452796Z"
    }
   },
   "cell_type": "code",
   "source": [
    "# upper bound on x_Arg from 0.20 ODinit and 60 CGP(%CDW) (supremely optimistic)\n",
    "N3(eq_x_Arg_from_OD_init.subs({OD600_initial: .20 * au, ab_CGP_in_CDW: 0.60}).subs(const))"
   ],
   "id": "38a490bf794693ed",
   "outputs": [
    {
     "data": {
      "text/plain": [
       "Eq(x_{Arg}, 0.000136*mole/liter)"
      ],
      "text/latex": "$\\displaystyle x_{Arg} = \\frac{0.000136 \\text{mol}}{\\text{l}}$"
     },
     "execution_count": 116,
     "metadata": {},
     "output_type": "execute_result"
    }
   ],
   "execution_count": 116
  },
  {
   "metadata": {
    "ExecuteTime": {
     "end_time": "2024-11-06T08:57:59.401941Z",
     "start_time": "2024-11-06T08:57:59.391156Z"
    }
   },
   "cell_type": "code",
   "source": [
    "# combine OD600 and x_Arg functions (example)\n",
    "N3(eq_OD_from_Arg.subs({x_Arg: eq_x_Arg_from_OD_init.rhs}).subs(const).subs(\n",
    "    {OD600_initial: .1 * au, ab_CGP_in_CDW: .25}))"
   ],
   "id": "a4262533ac90ca16",
   "outputs": [
    {
     "data": {
      "text/plain": [
       "Eq(OD600, 0.6*astronomical_unit)"
      ],
      "text/latex": "$\\displaystyle OD_{600} = 0.6 \\text{AU}$"
     },
     "execution_count": 119,
     "metadata": {},
     "output_type": "execute_result"
    }
   ],
   "execution_count": 119
  },
  {
   "metadata": {
    "ExecuteTime": {
     "end_time": "2024-11-06T09:01:45.273564Z",
     "start_time": "2024-11-06T09:01:44.950743Z"
    }
   },
   "cell_type": "code",
   "source": [
    "# plot fold increase based on OD :: should be equivalent to Keith's gCDW, since linearly related.\n",
    "plot(\n",
    "    ((OD600 + OD600_initial) / OD600_initial).subs({\n",
    "        OD600: eq_OD_from_Arg.rhs,\n",
    "        x_Arg: eq_x_Arg_from_OD_init.rhs,\n",
    "    }).subs(const).subs({OD600_initial: .1 * au}),\n",
    "    (ab_CGP_in_CDW, 0, 1),\n",
    "    ylabel=symbols('FoldIncrease_{biomass}'),\n",
    ")"
   ],
   "id": "497eebcb3711e523",
   "outputs": [
    {
     "data": {
      "text/plain": [
       "<Figure size 640x480 with 1 Axes>"
      ],
      "image/png": "[encoded data removed]"
     },
     "metadata": {},
     "output_type": "display_data"
    },
    {
     "data": {
      "text/plain": [
       "<sympy.plotting.backends.matplotlibbackend.matplotlib.MatplotlibBackend at 0x1238f6a80>"
      ]
     },
     "execution_count": 121,
     "metadata": {},
     "output_type": "execute_result"
    }
   ],
   "execution_count": 121
  },
  {
   "metadata": {},
   "cell_type": "code",
   "outputs": [],
   "execution_count": null,
   "source": "",
   "id": "59aba0c4440f54eb"
  }
 ],
 "metadata": {
  "kernelspec": {
   "display_name": "Python 3",
   "language": "python",
   "name": "python3"
  },
  "language_info": {
   "codemirror_mode": {
    "name": "ipython",
    "version": 2
   },
   "file_extension": ".py",
   "mimetype": "text/x-python",
   "name": "python",
   "nbconvert_exporter": "python",
   "pygments_lexer": "ipython2",
   "version": "2.7.6"
  }
 },
 "nbformat": 4,
 "nbformat_minor": 5
}

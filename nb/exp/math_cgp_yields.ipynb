{
 "cells": [
  {
   "metadata": {},
   "cell_type": "markdown",
   "source": [
    "## Auxotrophic Growth of ADP1 ISx strains on Arginine\n",
    "This is a revisit of analytical framework prompted by:\n",
    "1. prep for the MBP MidTerm Progress Report\n",
    "2. Keith's recent slack with some FoldIncrease calculations\n",
    "\n",
    "### Quick Notes\n",
    "- I've been approaching my calculations with the idea that two main functions should suffice for my theoretical modeling of Arg-aux growth:\n",
    "    1. x_Arg(OD600_init, abundance_CGP_in_CDW, consts) \n",
    "    2. OD600(x_Arg, consts)\n",
    "- I've highlighted the differences from Keith's assumptions in values of constants\n",
    "- I closely recapitulated Keith's fold increase calculations (11/05/2024)\n",
    "- I realized that the `[Arg] from BM w/CGP` curves I've been using need a bit more explanation - at least graphically:\n",
    "    - I'm using the OD600 scale for both OD600_init for `[Arg] from BM w/CGP` and OD600_final for the yield curves.\n",
    "- I've been constructing the combined unit Yield as OD_phaseII from OD_phaseI, that naming is confusing because OD_phaseII is independent of OD_phaseI and is solely dependent on starting OD in phaseII and CGP(%CDW) from PhaseI."
   ],
   "id": "85ceb254e3316ca3"
  },
  {
   "metadata": {
    "collapsed": true,
    "ExecuteTime": {
     "end_time": "2024-11-11T03:25:57.659862Z",
     "start_time": "2024-11-11T03:25:57.393446Z"
    }
   },
   "cell_type": "code",
   "source": [
    "from functools import partial\n",
    "\n",
    "from IPython.display import display\n",
    "\n",
    "from sympy import symbols, Eq, plot, Function, N, Piecewise, log, lambdify\n",
    "from sympy.physics.units.prefixes import micro\n",
    "from sympy.physics.units import au, gram, liter, milliliter, mol"
   ],
   "id": "initial_id",
   "outputs": [],
   "execution_count": 1
  },
  {
   "metadata": {
    "ExecuteTime": {
     "end_time": "2024-11-11T03:25:57.664391Z",
     "start_time": "2024-11-11T03:25:57.662622Z"
    }
   },
   "cell_type": "code",
   "source": [
    "# numeric rounding to 3 sig figs\n",
    "N3 = partial(N, n=3)\n",
    "\n",
    "# additional units\n",
    "molar = mol / liter\n",
    "wv_perc = gram / (100 * milliliter)"
   ],
   "id": "23202073062f83f1",
   "outputs": [],
   "execution_count": 2
  },
  {
   "metadata": {
    "ExecuteTime": {
     "end_time": "2024-11-11T03:25:57.759427Z",
     "start_time": "2024-11-11T03:25:57.756875Z"
    }
   },
   "cell_type": "code",
   "source": [
    "# symbols (restricted to real values)\n",
    "Real = partial(symbols, real=True)\n",
    "\n",
    "# species\n",
    "CGP, Arg, Asp, prot = Real('CGP, Arg, Asp, prot')\n",
    "\n",
    "# abundances (mass ratios)\n",
    "ab_Arg_in_prot = Real(r'abundance_{\\frac{Arg}{prot}}')\n",
    "ab_Arg_in_CGP = Real(r'abundance_{\\frac{Arg}{CGP}}')\n",
    "ab_Asp_in_CGP = Real(r'abundance_{\\frac{Asp}{CGP}}')\n",
    "ab_Arg_in_CDW = Real(r'abundance_{\\frac{Arg}{CDW}}')\n",
    "ab_CGP_in_CDW = Real(r'abundance_{\\frac{CGP}{CDW}}')\n",
    "ab_prot_in_CDW = Real(r'abundance_{\\frac{prot}{CDW}}')\n",
    "ab_CDW_per_OD600 = Real(r'ratio_{\\frac{CDW}{OD600}}')\n",
    "\n",
    "# masses\n",
    "m_Arg, m_CGP, CDW = Real('m_{Arg}, m_{CGP}, CDW')\n",
    "\n",
    "# molar weights\n",
    "mw_Arg, mw_Asp = Real('mw_{Arg}, mw_{Asp}')\n",
    "\n",
    "# concentrations (molar)\n",
    "x = Real('x')\n",
    "x_Arg = Real(r'x_{Arg}')\n",
    "x_CGP = Real(r'x_{CGP}')\n",
    "\n",
    "# optical density\n",
    "OD_initial, OD_final, OD_delta = Real(r'OD600_{init}, OD600_{final}, OD600_{delta}')\n",
    "\n",
    "# yields\n",
    "Y_OD_from_x = Real(r'Y_{\\frac{OD600}{x}}')\n",
    "Y_OD_from_Arg_theor = Real(r'Y_{\\frac{OD600}{Arg}_{theoretical}}')\n",
    "Y_OD_from_Arg_exper = Real(r'Y_{\\frac{OD600}{Arg}_{experimental}}')\n",
    "Y_ODp2_from_ODp1 = Real(r'Y_{\\frac{OD600_{phase2}}{OD600_{phase1}}}')\n",
    "Y_CDWp2_from_CDWp1 = Real(r'Y_{\\frac{CDW_{phase2}}{CDW_{phase1}}}')\n",
    "\n",
    "# fold change (increase)\n",
    "fold_chg_biomass = Real('FoldChange_{biomass}')"
   ],
   "id": "ab277f37bf9d1d2f",
   "outputs": [],
   "execution_count": 3
  },
  {
   "metadata": {
    "ExecuteTime": {
     "end_time": "2024-11-11T03:25:57.765004Z",
     "start_time": "2024-11-11T03:25:57.763107Z"
    }
   },
   "cell_type": "code",
   "source": [
    "# FIXME - differs from Keith's assumptions\n",
    "\n",
    "consts = {\n",
    "    # molar weights\n",
    "    mw_Arg: 174.2 * gram / mol,\n",
    "    mw_Asp: 133.1 * gram / mol,\n",
    "\n",
    "    # abundances\n",
    "    ab_Arg_in_CGP: 0.60,  # FIXME accounting for one H2O loss 174.2 / (174.2 + 133.1 - 18)\n",
    "    # ab_CGP_in_CDW: 0.10,  # working assumption (previously considered conservative)\n",
    "    ab_Arg_in_prot: 0.05,  # 1/20 of all proteins (confirmed in cheminfo.ipynb)\n",
    "    ab_prot_in_CDW: 0.50,  # 1/2 of cell dry weight presumed to be proteins\n",
    "\n",
    "    # conversions FIXME based on https://bionumbers.hms.harvard.edu/bionumber.aspx?id=109838&ver=2 \n",
    "    ab_CDW_per_OD600: .33 * (gram / liter) / au,\n",
    "}"
   ],
   "id": "84e08c5bd4876ae0",
   "outputs": [],
   "execution_count": 4
  },
  {
   "metadata": {
    "ExecuteTime": {
     "end_time": "2024-11-11T03:25:57.775229Z",
     "start_time": "2024-11-11T03:25:57.770536Z"
    }
   },
   "cell_type": "code",
   "source": [
    "# linear relationship between OD600 (optical density) and x (molar concentration)\n",
    "eq_OD_final = Eq(OD_final, OD_delta + OD_initial)\n",
    "eq_OD_delta = Eq(OD_delta, x * Y_OD_from_x)\n",
    "\n",
    "display(eq_OD_final, eq_OD_delta)"
   ],
   "id": "dbc6bf8c818f218a",
   "outputs": [
    {
     "data": {
      "text/plain": [
       "Eq(OD600_{final}, OD600_{delta} + OD600_{init})"
      ],
      "text/latex": "$\\displaystyle OD600_{final} = OD600_{delta} + OD600_{init}$"
     },
     "metadata": {},
     "output_type": "display_data"
    },
    {
     "data": {
      "text/plain": [
       "Eq(OD600_{delta}, Y_{\\frac{OD600}{x}}*x)"
      ],
      "text/latex": "$\\displaystyle OD600_{delta} = Y_{\\frac{OD600}{x}} x$"
     },
     "metadata": {},
     "output_type": "display_data"
    }
   ],
   "execution_count": 5
  },
  {
   "metadata": {
    "ExecuteTime": {
     "end_time": "2024-11-11T03:25:57.783573Z",
     "start_time": "2024-11-11T03:25:57.779283Z"
    }
   },
   "cell_type": "code",
   "source": "(eq_fold_diff := Eq(fold_chg_biomass, (OD_initial + OD_delta) / OD_initial))",
   "id": "28b2cf29b69f8fff",
   "outputs": [
    {
     "data": {
      "text/plain": [
       "Eq(FoldChange_{biomass}, (OD600_{delta} + OD600_{init})/OD600_{init})"
      ],
      "text/latex": "$\\displaystyle FoldChange_{biomass} = \\frac{OD600_{delta} + OD600_{init}}{OD600_{init}}$"
     },
     "execution_count": 6,
     "metadata": {},
     "output_type": "execute_result"
    }
   ],
   "execution_count": 6
  },
  {
   "metadata": {},
   "cell_type": "markdown",
   "source": [
    "### Theoretical arginine demand by proteome (growth limiting)\n",
    "\n",
    "This is a theoretical upper bound on arginine-auxotrophic growth, as we expect the highest priority for arginine utilization to be expression of the proteome."
   ],
   "id": "9fbf00871816b596"
  },
  {
   "metadata": {
    "ExecuteTime": {
     "end_time": "2024-11-11T03:25:57.797055Z",
     "start_time": "2024-11-11T03:25:57.791995Z"
    }
   },
   "cell_type": "code",
   "source": [
    "eq_abundance_arg_cdw = Eq(ab_Arg_in_CDW, ab_prot_in_CDW * ab_Arg_in_prot)\n",
    "consts[ab_Arg_in_CDW] = N3(eq_abundance_arg_cdw.rhs.subs(consts))\n",
    "\n",
    "display(eq_abundance_arg_cdw, consts[ab_Arg_in_CDW])"
   ],
   "id": "19169e8bb4a3015",
   "outputs": [
    {
     "data": {
      "text/plain": [
       "Eq(abundance_{\\frac{Arg}{CDW}}, abundance_{\\frac{Arg}{prot}}*abundance_{\\frac{prot}{CDW}})"
      ],
      "text/latex": "$\\displaystyle abundance_{\\frac{Arg}{CDW}} = abundance_{\\frac{Arg}{prot}} abundance_{\\frac{prot}{CDW}}$"
     },
     "metadata": {},
     "output_type": "display_data"
    },
    {
     "data": {
      "text/plain": [
       "0.0250"
      ],
      "text/latex": "$\\displaystyle 0.025$"
     },
     "metadata": {},
     "output_type": "display_data"
    }
   ],
   "execution_count": 7
  },
  {
   "metadata": {
    "ExecuteTime": {
     "end_time": "2024-11-11T03:25:57.822583Z",
     "start_time": "2024-11-11T03:25:57.815757Z"
    }
   },
   "cell_type": "code",
   "source": [
    "eq_Y_OD_from_arg = Eq(Y_OD_from_Arg_theor, mw_Arg / (ab_CDW_per_OD600 * ab_Arg_in_CDW))\n",
    "consts[Y_OD_from_Arg_theor] = N3(eq_Y_OD_from_arg.rhs.subs(consts))\n",
    "\n",
    "display(eq_Y_OD_from_arg, consts[Y_OD_from_Arg_theor])"
   ],
   "id": "cd98243a80e12ea7",
   "outputs": [
    {
     "data": {
      "text/plain": [
       "Eq(Y_{\\frac{OD600}{Arg}_{theoretical}}, mw_{Arg}/(abundance_{\\frac{Arg}{CDW}}*ratio_{\\frac{CDW}{OD600}}))"
      ],
      "text/latex": "$\\displaystyle Y_{\\frac{OD600}{Arg}_{theoretical}} = \\frac{mw_{Arg}}{abundance_{\\frac{Arg}{CDW}} ratio_{\\frac{CDW}{OD600}}}$"
     },
     "metadata": {},
     "output_type": "display_data"
    },
    {
     "data": {
      "text/plain": [
       "2.11e+4*astronomical_unit*liter/mole"
      ],
      "text/latex": "$\\displaystyle \\frac{2.11 \\cdot 10^{4} \\text{AU} \\text{l}}{\\text{mol}}$"
     },
     "metadata": {},
     "output_type": "display_data"
    }
   ],
   "execution_count": 8
  },
  {
   "metadata": {
    "ExecuteTime": {
     "end_time": "2024-11-11T03:25:57.835946Z",
     "start_time": "2024-11-11T03:25:57.830462Z"
    }
   },
   "cell_type": "code",
   "source": "(eq_OD_delta_x_Arg__theor := eq_OD_delta.subs({x: x_Arg, Y_OD_from_x: consts[Y_OD_from_Arg_theor]}))",
   "id": "48f7b42a3ec6102d",
   "outputs": [
    {
     "data": {
      "text/plain": [
       "Eq(OD600_{delta}, 2.11e+4*astronomical_unit*liter*x_{Arg}/mole)"
      ],
      "text/latex": "$\\displaystyle OD600_{delta} = \\frac{2.11 \\cdot 10^{4} x_{Arg} \\text{AU} \\text{l}}{\\text{mol}}$"
     },
     "execution_count": 9,
     "metadata": {},
     "output_type": "execute_result"
    }
   ],
   "execution_count": 9
  },
  {
   "metadata": {
    "ExecuteTime": {
     "end_time": "2024-11-11T03:25:58.416787Z",
     "start_time": "2024-11-11T03:25:57.844915Z"
    }
   },
   "cell_type": "code",
   "source": [
    "# plot of theoretical OD600 from x_Arg\n",
    "plot(\n",
    "    eq_OD_delta_x_Arg__theor.rhs.subs(consts) * (micro * mol / liter) / au,\n",
    "    (x_Arg, 0, 300),\n",
    "    xlabel=x_Arg * micro * mol / liter,\n",
    "    ylabel=OD_delta,\n",
    "    size=(5, 3),\n",
    ")"
   ],
   "id": "67241e304bfe4ff6",
   "outputs": [
    {
     "data": {
      "text/plain": [
       "<Figure size 500x300 with 1 Axes>"
      ],
      "image/png": "[encoded data removed]"
     },
     "metadata": {},
     "output_type": "display_data"
    },
    {
     "data": {
      "text/plain": [
       "<sympy.plotting.backends.matplotlibbackend.matplotlib.MatplotlibBackend at 0x1074abf50>"
      ]
     },
     "execution_count": 10,
     "metadata": {},
     "output_type": "execute_result"
    }
   ],
   "execution_count": 10
  },
  {
   "metadata": {},
   "cell_type": "markdown",
   "source": [
    "### Accumulated CGP as source of Arginine\n",
    "\n",
    "ALE Phases with auxotrophic stains:\n",
    "\n",
    "- Phase I - inoculation from pre-culture, growth and accumulation of CGP\n",
    "- Phase II - inoculation from cultures from Phase I, growth limited by Arg from \n",
    "\n",
    "CGP is accumulated in Phase I and consumed in Phase II of ALE."
   ],
   "id": "49d6d22046c9ef47"
  },
  {
   "metadata": {},
   "cell_type": "markdown",
   "source": "### Modeling x_Arg (arginine concentration) in the volume of culture medium",
   "id": "2bee59347fb827c8"
  },
  {
   "metadata": {
    "ExecuteTime": {
     "end_time": "2024-11-11T03:25:58.426121Z",
     "start_time": "2024-11-11T03:25:58.423834Z"
    }
   },
   "cell_type": "code",
   "source": [
    "# we know how to estimate OD based on Arg concentration, so we need a function to predict Arg concentration:\n",
    "Function(x_Arg)(OD_initial, ab_CGP_in_CDW)"
   ],
   "id": "e7ebc716bf6ee53c",
   "outputs": [
    {
     "data": {
      "text/plain": [
       "x_{Arg}(OD600_{init}, abundance_{\\frac{CGP}{CDW}})"
      ],
      "text/latex": "$\\displaystyle x_{Arg}{\\left(OD600_{init},abundance_{\\frac{CGP}{CDW}} \\right)}$"
     },
     "execution_count": 11,
     "metadata": {},
     "output_type": "execute_result"
    }
   ],
   "execution_count": 11
  },
  {
   "metadata": {
    "ExecuteTime": {
     "end_time": "2024-11-11T03:25:58.442157Z",
     "start_time": "2024-11-11T03:25:58.437931Z"
    }
   },
   "cell_type": "code",
   "source": [
    "eq_x_Arg_from_OD_init = Eq(x_Arg, OD_initial * ab_CDW_per_OD600 * ab_CGP_in_CDW * ab_Arg_in_CGP / mw_Arg)\n",
    "eq_x_Arg_from_OD_init"
   ],
   "id": "b50c629c9565f2ba",
   "outputs": [
    {
     "data": {
      "text/plain": [
       "Eq(x_{Arg}, OD600_{init}*abundance_{\\frac{Arg}{CGP}}*abundance_{\\frac{CGP}{CDW}}*ratio_{\\frac{CDW}{OD600}}/mw_{Arg})"
      ],
      "text/latex": "$\\displaystyle x_{Arg} = \\frac{OD600_{init} abundance_{\\frac{Arg}{CGP}} abundance_{\\frac{CGP}{CDW}} ratio_{\\frac{CDW}{OD600}}}{mw_{Arg}}$"
     },
     "execution_count": 12,
     "metadata": {},
     "output_type": "execute_result"
    }
   ],
   "execution_count": 12
  },
  {
   "metadata": {
    "ExecuteTime": {
     "end_time": "2024-11-11T03:25:58.464267Z",
     "start_time": "2024-11-11T03:25:58.452660Z"
    }
   },
   "cell_type": "code",
   "source": [
    "# lower bound on x_Arg from 0.05 ODinit and 10 CGP(%CDW) (realistic)\n",
    "N3(eq_x_Arg_from_OD_init.subs({OD_initial: .05 * au, ab_CGP_in_CDW: 0.10}).subs(consts))"
   ],
   "id": "dd9fbfd7673271df",
   "outputs": [
    {
     "data": {
      "text/plain": [
       "Eq(x_{Arg}, 5.68e-6*mole/liter)"
      ],
      "text/latex": "$\\displaystyle x_{Arg} = \\frac{5.68 \\cdot 10^{-6} \\text{mol}}{\\text{l}}$"
     },
     "execution_count": 13,
     "metadata": {},
     "output_type": "execute_result"
    }
   ],
   "execution_count": 13
  },
  {
   "metadata": {
    "ExecuteTime": {
     "end_time": "2024-11-11T03:25:58.485318Z",
     "start_time": "2024-11-11T03:25:58.476059Z"
    }
   },
   "cell_type": "code",
   "source": [
    "# upper bound on x_Arg from 0.20 ODinit and 60 CGP(%CDW) (supremely optimistic)\n",
    "N3(eq_x_Arg_from_OD_init.subs({OD_initial: .20 * au, ab_CGP_in_CDW: 0.60}).subs(consts))"
   ],
   "id": "38a490bf794693ed",
   "outputs": [
    {
     "data": {
      "text/plain": [
       "Eq(x_{Arg}, 0.000136*mole/liter)"
      ],
      "text/latex": "$\\displaystyle x_{Arg} = \\frac{0.000136 \\text{mol}}{\\text{l}}$"
     },
     "execution_count": 14,
     "metadata": {},
     "output_type": "execute_result"
    }
   ],
   "execution_count": 14
  },
  {
   "metadata": {
    "ExecuteTime": {
     "end_time": "2024-11-11T03:25:58.493915Z",
     "start_time": "2024-11-11T03:25:58.489849Z"
    }
   },
   "cell_type": "code",
   "source": [
    "# combine OD600 and x_Arg functions (example)\n",
    "N3(eq_OD_delta_x_Arg__theor.rhs.subs({\n",
    "    x_Arg: eq_x_Arg_from_OD_init.rhs.subs({\n",
    "        OD_initial: .1 * au,\n",
    "        ab_CGP_in_CDW: .25,\n",
    "    })\n",
    "}).subs(consts))"
   ],
   "id": "a4262533ac90ca16",
   "outputs": [
    {
     "data": {
      "text/plain": [
       "0.6*astronomical_unit"
      ],
      "text/latex": "$\\displaystyle 0.6 \\text{AU}$"
     },
     "execution_count": 15,
     "metadata": {},
     "output_type": "execute_result"
    }
   ],
   "execution_count": 15
  },
  {
   "metadata": {
    "ExecuteTime": {
     "end_time": "2024-11-11T03:25:58.861798Z",
     "start_time": "2024-11-11T03:25:58.498829Z"
    }
   },
   "cell_type": "code",
   "source": [
    "# plot FoldChange_OD600 over CGP(%CDW) :: should be equivalent to Keith's gCDW, since linearly related\n",
    "plot(\n",
    "    eq_fold_diff.rhs.subs({\n",
    "        OD_delta: eq_OD_delta_x_Arg__theor.rhs.subs({\n",
    "            x_Arg: eq_x_Arg_from_OD_init.rhs,\n",
    "        })\n",
    "    }).subs({OD_initial: .05 * au}).subs(consts),\n",
    "    (ab_CGP_in_CDW, 0, 1),\n",
    "    ylabel=symbols('FoldIncrease_{biomass}'),\n",
    ")"
   ],
   "id": "497eebcb3711e523",
   "outputs": [
    {
     "data": {
      "text/plain": [
       "<Figure size 640x480 with 1 Axes>"
      ],
      "image/png": "[encoded data removed]"
     },
     "metadata": {},
     "output_type": "display_data"
    },
    {
     "data": {
      "text/plain": [
       "<sympy.plotting.backends.matplotlibbackend.matplotlib.MatplotlibBackend at 0x11833a8d0>"
      ]
     },
     "execution_count": 16,
     "metadata": {},
     "output_type": "execute_result"
    }
   ],
   "execution_count": 16
  },
  {
   "metadata": {},
   "cell_type": "markdown",
   "source": "### Experimental Results",
   "id": "b9806dba20180d89"
  },
  {
   "metadata": {},
   "cell_type": "code",
   "outputs": [],
   "execution_count": null,
   "source": "# exp007 - ∆argBR ∆astA",
   "id": "175d13cd53b91bd4"
  },
  {
   "metadata": {
    "ExecuteTime": {
     "end_time": "2024-11-11T09:31:56.663183Z",
     "start_time": "2024-11-11T09:31:56.601944Z"
    }
   },
   "cell_type": "code",
   "source": [
    "# exp011 - ∆argBR ∆astA ∆cphAI\n",
    "(eq_OD_delta_x_Arg__exp011_KSF111 := Eq(OD_delta, Piecewise(\n",
    "    # pre-saturation\n",
    "    (.446 / 50 * x_Arg, x_Arg <= 50),\n",
    "    # post-saturation\n",
    "    (.446, x_Arg > 50),\n",
    ")))"
   ],
   "id": "3ff3a2bd615c144c",
   "outputs": [
    {
     "data": {
      "text/plain": [
       "Eq(OD600_{delta}, Piecewise((0.00892*x_{Arg}, x_{Arg} <= 50), (0.446, True)))"
      ],
      "text/latex": "$\\displaystyle OD600_{delta} = \\begin{cases} 0.00892 x_{Arg} & \\text{for}\\: x_{Arg} \\leq 50 \\\\0.446 & \\text{otherwise} \\end{cases}$"
     },
     "execution_count": 39,
     "metadata": {},
     "output_type": "execute_result"
    }
   ],
   "execution_count": 39
  },
  {
   "metadata": {
    "ExecuteTime": {
     "end_time": "2024-11-11T09:32:34.402899Z",
     "start_time": "2024-11-11T09:32:34.212846Z"
    }
   },
   "cell_type": "code",
   "source": [
    "plot(\n",
    "    # theoretical\n",
    "    eq_OD_delta_x_Arg__theor.subs(consts).rhs * (micro * mol / liter) / au,\n",
    "    # exp011 (KSF111 - ∆argBR ∆astA ∆cphAI)\n",
    "    eq_OD_delta_x_Arg__exp011_KSF111.rhs,\n",
    "    # exp007 (KSF230 - ∆argB ∆cphAI)\n",
    "    # exp007 (KSF230+ - ∆argBR ∆cphAI)\n",
    "    \n",
    "    # range\n",
    "    (x_Arg, 0, 80),\n",
    "    # plot options\n",
    "    xlabel=x_Arg * micro * mol / liter,\n",
    "    ylabel=OD_delta,\n",
    "    label=(\n",
    "        'theoretical (ideal Arg-auxotroph, all synthesis)',\n",
    "        'experimental (∆argBR ∆astA ∆cphAI) [EXP011]',\n",
    "    ),\n",
    "    legend=True,\n",
    "    size=(8, 4),\n",
    ")"
   ],
   "id": "59aba0c4440f54eb",
   "outputs": [
    {
     "data": {
      "text/plain": [
       "<Figure size 800x400 with 1 Axes>"
      ],
      "image/png": "[encoded data removed]"
     },
     "metadata": {},
     "output_type": "display_data"
    },
    {
     "data": {
      "text/plain": [
       "<sympy.plotting.backends.matplotlibbackend.matplotlib.MatplotlibBackend at 0x11fd28680>"
      ]
     },
     "execution_count": 40,
     "metadata": {},
     "output_type": "execute_result"
    }
   ],
   "execution_count": 40
  },
  {
   "metadata": {},
   "cell_type": "code",
   "source": [
    "# proposed loading (need much higher starting OD of .1 au if we assume the most conservative 10% CGP.\n",
    "# FIXME this is where we really \n",
    "N3(eq_x_Arg_from_OD_init.subs({OD_initial: .1 * au, ab_CGP_in_CDW: 0.10}).subs(const))"
   ],
   "id": "a05c06369202622b",
   "outputs": [],
   "execution_count": null
  },
  {
   "metadata": {},
   "cell_type": "code",
   "source": [
    "# proposed OD_init | assuming CGP/CDW of 1/10\n",
    "# expected additional OD, based on exp011\n",
    "eq_OD_from_Arg"
   ],
   "id": "a034edeaa5a62723",
   "outputs": [],
   "execution_count": null
  },
  {
   "metadata": {},
   "cell_type": "code",
   "source": [
    "# fold change\n",
    "N3((.5 + .1) / .1)"
   ],
   "id": "12d450acd6572d47",
   "outputs": [],
   "execution_count": null
  },
  {
   "metadata": {},
   "cell_type": "code",
   "source": [
    "# number of cell doublings\n",
    "N3(log(6, 2))"
   ],
   "id": "ec7631f8db1728d3",
   "outputs": [],
   "execution_count": null
  },
  {
   "metadata": {},
   "cell_type": "code",
   "source": [
    "eq_OD_from_Arg.subs({x_Arg: eq_x_Arg_from_OD_init.rhs}).subs(\n",
    "    {OD_initial: .1 * au, ab_CGP_in_CDW: .1}\n",
    ")"
   ],
   "id": "feada134bef6571",
   "outputs": [],
   "execution_count": null
  },
  {
   "metadata": {},
   "cell_type": "code",
   "source": "",
   "id": "47c1ba94e525d780",
   "outputs": [],
   "execution_count": null
  }
 ],
 "metadata": {
  "kernelspec": {
   "display_name": "Python 3",
   "language": "python",
   "name": "python3"
  },
  "language_info": {
   "codemirror_mode": {
    "name": "ipython",
    "version": 2
   },
   "file_extension": ".py",
   "mimetype": "text/x-python",
   "name": "python",
   "nbconvert_exporter": "python",
   "pygments_lexer": "ipython2",
   "version": "2.7.6"
  }
 },
 "nbformat": 4,
 "nbformat_minor": 5
}

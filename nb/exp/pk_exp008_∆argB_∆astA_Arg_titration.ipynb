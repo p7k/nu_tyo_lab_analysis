{
 "cells": [
  {
   "metadata": {
    "ExecuteTime": {
     "end_time": "2024-11-19T05:08:24.086623Z",
     "start_time": "2024-11-19T05:08:24.075496Z"
    }
   },
   "cell_type": "code",
   "source": [
    "import pandas as pd\n",
    "import plotly.express as px\n",
    "import plotly.graph_objects as go\n",
    "import uncertainties.unumpy as unp\n",
    "import uncertainties as unc\n",
    "from pint import UnitRegistry\n",
    "from IPython.display import display\n",
    "\n",
    "import analysis.util as au"
   ],
   "id": "ae147dc6f28479ae",
   "outputs": [],
   "execution_count": 25
  },
  {
   "metadata": {
    "ExecuteTime": {
     "end_time": "2024-11-19T03:52:40.808506Z",
     "start_time": "2024-11-19T03:52:40.550546Z"
    }
   },
   "cell_type": "code",
   "source": [
    "units = UnitRegistry()\n",
    "\n",
    "meta = dict(\n",
    "    experiment='pk_exp008',\n",
    "    title='ADP1 Arginine Titration Response of Arg-Auxotrophs',\n",
    "    strains={\n",
    "        'KSF107 ∆argB': {'∆argB', '∆astA', '∆cphAI'},\n",
    "        'KSF111 ∆argB': {'∆argB', '∆argR', '∆astA', '∆cphAI'},\n",
    "    },\n",
    ")\n",
    "\n",
    "# noinspection PyTypeChecker\n",
    "df_od = (\n",
    "    pd.read_excel(\n",
    "        '~/tyo_lab_pk/04 Raw Data/EXP_0008_PK_20241009_ArgConcentrationResponse.xlsx',\n",
    "        sheet_name='Day 3 - 5 OD tracking',\n",
    "        usecols='A:J',\n",
    "        skiprows=3,\n",
    "    )\n",
    "    .assign(arg_conc=lambda df: df.condition.str.split('•').str.get(0).apply(units.parse_expression))\n",
    "    .assign(arg_conc_uM=lambda df: df.arg_conc.apply(lambda qty: int(qty.to('micromolar').magnitude)))\n",
    ")\n",
    "# df_od"
   ],
   "id": "d9851c8e4d00f8a3",
   "outputs": [],
   "execution_count": 2
  },
  {
   "metadata": {
    "ExecuteTime": {
     "end_time": "2024-11-19T21:30:00.305028Z",
     "start_time": "2024-11-19T21:30:00.240872Z"
    }
   },
   "cell_type": "code",
   "source": [
    "df_od_mean_sem = (\n",
    "    df_od\n",
    "    .groupby(['elapsed_time_hr', 'strain_id', 'arg_conc_uM'], sort=False)\n",
    "    .agg(\n",
    "        od_sample_mean=pd.NamedAgg('od_sample', 'mean'),\n",
    "        od_sample_sem=pd.NamedAgg('od_sample', 'sem'),\n",
    "    )\n",
    "    .assign(od_mean=lambda df: unp.uarray(\n",
    "        nominal_values=df.od_sample_mean,\n",
    "        std_devs=df.od_sample_sem,\n",
    "    ))\n",
    "    .drop(columns=['od_sample_mean', 'od_sample_sem'])\n",
    "    .reset_index()\n",
    ")\n",
    "# df_od_mean_sem"
   ],
   "id": "e8a7a8c98971b82e",
   "outputs": [],
   "execution_count": 34
  },
  {
   "metadata": {
    "ExecuteTime": {
     "end_time": "2024-11-19T21:30:01.547452Z",
     "start_time": "2024-11-19T21:30:00.931846Z"
    }
   },
   "cell_type": "code",
   "source": [
    "fig_growth_raw = px.bar(\n",
    "    df_od_mean_sem,\n",
    "    x=df_od_mean_sem.elapsed_time_hr,\n",
    "    y=unp.nominal_values(df_od_mean_sem.od_mean),\n",
    "    error_y=unp.std_devs(df_od_mean_sem.od_mean),\n",
    "    color='strain_id',\n",
    "    facet_col='arg_conc_uM',\n",
    "    barmode='group',\n",
    "    labels={\n",
    "        'arg_conc_uM': '[Arg] µM',\n",
    "        'y': 'OD600 (mean)',\n",
    "        'strain_id': 'ADP1 strain',\n",
    "        'elapsed_time_hr': '',\n",
    "    },\n",
    ").add_traces(\n",
    "    px.line(\n",
    "        df_od_mean_sem,\n",
    "        x=df_od_mean_sem.elapsed_time_hr,\n",
    "        y=unp.nominal_values(df_od_mean_sem.od_mean),\n",
    "        color='strain_id',\n",
    "        facet_col='arg_conc_uM',\n",
    "        markers=False,\n",
    "    ).update_traces(line=dict(width=1))['data']\n",
    ").update_layout(\n",
    "    title=f'OD ADP1 | {au.fmt_strains(meta[\"strains\"])} | growth in dosed Arg after preculture and wash',\n",
    "    title_x=0.5,\n",
    "    showlegend=True,\n",
    "    boxmode='group',\n",
    "    boxgap=.8,  # Gap between boxes in the same group (0.5 makes them narrower)\n",
    "    boxgroupgap=0,  # Gap between different groups of boxes,\n",
    "    height=500,\n",
    "    xaxis_title='Elapsed Time [hr]',\n",
    ").for_each_trace(au.dedup_trace_legends())\n",
    "\n",
    "fig_growth_raw.write_image(\n",
    "    f'../../figures/{meta[\"experiment\"]}_arg_response_raw.pdf',\n",
    "    width=1300,\n",
    "    height=500,\n",
    ")\n",
    "\n",
    "display(fig_growth_raw)"
   ],
   "id": "2c4b88eea3f9cc94",
   "outputs": [
    {
     "data": {
      "application/vnd.plotly.v1+json": {
       "data": [
        {
         "alignmentgroup": "True",
         "error_y": {
          "array": [
           0.010066445913694343,
           0.018666666666666647,
           0.014422205101855925,
           0.007423685817106699,
           0.008743251365736
          ]
         },
         "hovertemplate": "ADP1 strain=KSF107 ∆argB<br>[Arg] µM=0<br>=%{x}<br>OD600 (mean)=%{y}<extra></extra>",
         "legendgroup": "KSF107 ∆argB",
         "marker": {
          "color": "#636efa",
          "pattern": {
           "shape": ""
          }
         },
         "name": "KSF107 ∆argB",
         "offsetgroup": "KSF107 ∆argB",
         "orientation": "v",
         "showlegend": true,
         "textposition": "auto",
         "x": [
          0.0,
          15.500000000058208,
          23.499999999941792,
          30.0,
          66.50000000005821
         ],
         "xaxis": "x",
         "y": [
          0.45599999999999996,
          0.6573333333333333,
          0.644,
          0.5893333333333333,
          0.6026666666666666
         ],
         "yaxis": "y",
         "type": "bar"
        },
        {
         "alignmentgroup": "True",
         "error_y": {
          "array": [
           0.0747261667690776,
           0.012220201853215583,
           0.021457969252574788,
           0.010583005244258372,
           0.0201769946005621
          ]
         },
         "hovertemplate": "ADP1 strain=KSF107 ∆argB<br>[Arg] µM=50<br>=%{x}<br>OD600 (mean)=%{y}<extra></extra>",
         "legendgroup": "KSF107 ∆argB",
         "marker": {
          "color": "#636efa",
          "pattern": {
           "shape": ""
          }
         },
         "name": "KSF107 ∆argB",
         "offsetgroup": "KSF107 ∆argB",
         "orientation": "v",
         "showlegend": false,
         "textposition": "auto",
         "x": [
          0.0,
          15.500000000058208,
          23.499999999941792,
          30.0,
          66.50000000005821
         ],
         "xaxis": "x2",
         "y": [
          0.5519999999999999,
          0.872,
          0.9266666666666667,
          0.896,
          0.9053333333333334
         ],
         "yaxis": "y2",
         "type": "bar"
        },
        {
         "alignmentgroup": "True",
         "error_y": {
          "array": [
           0.07203702751594718,
           0.017435595774162708,
           0.022191089302790973,
           0.014666666666666685,
           0.013131810402394762
          ]
         },
         "hovertemplate": "ADP1 strain=KSF107 ∆argB<br>[Arg] µM=100<br>=%{x}<br>OD600 (mean)=%{y}<extra></extra>",
         "legendgroup": "KSF107 ∆argB",
         "marker": {
          "color": "#636efa",
          "pattern": {
           "shape": ""
          }
         },
         "name": "KSF107 ∆argB",
         "offsetgroup": "KSF107 ∆argB",
         "orientation": "v",
         "showlegend": false,
         "textposition": "auto",
         "x": [
          0.0,
          15.500000000058208,
          23.499999999941792,
          30.0,
          66.50000000005821
         ],
         "xaxis": "x3",
         "y": [
          0.672,
          0.888,
          0.9773333333333333,
          0.9333333333333335,
          0.9853333333333333
         ],
         "yaxis": "y3",
         "type": "bar"
        },
        {
         "alignmentgroup": "True",
         "error_y": {
          "array": [
           0.17696704024572865,
           0.011392004993756635,
           0.028689913055133395,
           0.04454211490264017,
           0.04734741574550593
          ]
         },
         "hovertemplate": "ADP1 strain=KSF107 ∆argB<br>[Arg] µM=400<br>=%{x}<br>OD600 (mean)=%{y}<extra></extra>",
         "legendgroup": "KSF107 ∆argB",
         "marker": {
          "color": "#636efa",
          "pattern": {
           "shape": ""
          }
         },
         "name": "KSF107 ∆argB",
         "offsetgroup": "KSF107 ∆argB",
         "orientation": "v",
         "showlegend": false,
         "textposition": "auto",
         "x": [
          0.0,
          15.500000000058208,
          23.499999999941792,
          30.0,
          66.50000000005821
         ],
         "xaxis": "x4",
         "y": [
          0.9400000000000001,
          0.9733333333333333,
          1.0546666666666666,
          1.044,
          1.1026666666666667
         ],
         "yaxis": "y4",
         "type": "bar"
        },
        {
         "alignmentgroup": "True",
         "error_y": {
          "array": [
           0.21697311661432472,
           0.016706618781522187,
           0.04055175020198817,
           0.03811094914121724,
           0.019641226483541677
          ]
         },
         "hovertemplate": "ADP1 strain=KSF107 ∆argB<br>[Arg] µM=700<br>=%{x}<br>OD600 (mean)=%{y}<extra></extra>",
         "legendgroup": "KSF107 ∆argB",
         "marker": {
          "color": "#636efa",
          "pattern": {
           "shape": ""
          }
         },
         "name": "KSF107 ∆argB",
         "offsetgroup": "KSF107 ∆argB",
         "orientation": "v",
         "showlegend": false,
         "textposition": "auto",
         "x": [
          0.0,
          15.500000000058208,
          23.499999999941792,
          30.0,
          66.50000000005821
         ],
         "xaxis": "x5",
         "y": [
          0.888,
          1.0053333333333334,
          1.1333333333333335,
          1.1613333333333336,
          1.1706666666666667
         ],
         "yaxis": "y5",
         "type": "bar"
        },
        {
         "alignmentgroup": "True",
         "error_y": {
          "array": [
           0.18729418333496403,
           0.0486803633694099,
           0.018330302779823376,
           0.04539211874813123,
           0.024037008503093267
          ]
         },
         "hovertemplate": "ADP1 strain=KSF107 ∆argB<br>[Arg] µM=1000<br>=%{x}<br>OD600 (mean)=%{y}<extra></extra>",
         "legendgroup": "KSF107 ∆argB",
         "marker": {
          "color": "#636efa",
          "pattern": {
           "shape": ""
          }
         },
         "name": "KSF107 ∆argB",
         "offsetgroup": "KSF107 ∆argB",
         "orientation": "v",
         "showlegend": false,
         "textposition": "auto",
         "x": [
          0.0,
          15.500000000058208,
          23.499999999941792,
          30.0,
          66.50000000005821
         ],
         "xaxis": "x6",
         "y": [
          1.0653333333333335,
          1.0386666666666666,
          1.1760000000000002,
          1.1613333333333336,
          1.1693333333333336
         ],
         "yaxis": "y6",
         "type": "bar"
        },
        {
         "alignmentgroup": "True",
         "error_y": {
          "array": [
           0.08082903768654762,
           0.003527668414752784,
           0.018666666666666675,
           0.020176994600562072,
           0.012719189352225957
          ]
         },
         "hovertemplate": "ADP1 strain=KSF111 ∆argB<br>[Arg] µM=0<br>=%{x}<br>OD600 (mean)=%{y}<extra></extra>",
         "legendgroup": "KSF111 ∆argB",
         "marker": {
          "color": "#EF553B",
          "pattern": {
           "shape": ""
          }
         },
         "name": "KSF111 ∆argB",
         "offsetgroup": "KSF111 ∆argB",
         "orientation": "v",
         "showlegend": true,
         "textposition": "auto",
         "x": [
          0.0,
          15.500000000058208,
          23.499999999941792,
          30.0,
          66.50000000005821
         ],
         "xaxis": "x",
         "y": [
          0.5599999999999999,
          0.7613333333333333,
          0.7493333333333334,
          0.6813333333333333,
          0.6786666666666665
         ],
         "yaxis": "y",
         "type": "bar"
        },
        {
         "alignmentgroup": "True",
         "error_y": {
          "array": [
           0.0837244156610112,
           0.017333333333333305,
           0.014666666666666672,
           0.01743559577416276,
           0.015719768163402134
          ]
         },
         "hovertemplate": "ADP1 strain=KSF111 ∆argB<br>[Arg] µM=50<br>=%{x}<br>OD600 (mean)=%{y}<extra></extra>",
         "legendgroup": "KSF111 ∆argB",
         "marker": {
          "color": "#EF553B",
          "pattern": {
           "shape": ""
          }
         },
         "name": "KSF111 ∆argB",
         "offsetgroup": "KSF111 ∆argB",
         "orientation": "v",
         "showlegend": false,
         "textposition": "auto",
         "x": [
          0.0,
          15.500000000058208,
          23.499999999941792,
          30.0,
          66.50000000005821
         ],
         "xaxis": "x2",
         "y": [
          0.6613333333333333,
          0.9946666666666667,
          1.1693333333333336,
          1.028,
          1.0173333333333334
         ],
         "yaxis": "y2",
         "type": "bar"
        },
        {
         "alignmentgroup": "True",
         "error_y": {
          "array": [
           0.1852757704372353,
           0.015376750126227716,
           0.004807401700618652,
           0.008743251365735998,
           0.022784009987513454
          ]
         },
         "hovertemplate": "ADP1 strain=KSF111 ∆argB<br>[Arg] µM=100<br>=%{x}<br>OD600 (mean)=%{y}<extra></extra>",
         "legendgroup": "KSF111 ∆argB",
         "marker": {
          "color": "#EF553B",
          "pattern": {
           "shape": ""
          }
         },
         "name": "KSF111 ∆argB",
         "offsetgroup": "KSF111 ∆argB",
         "orientation": "v",
         "showlegend": false,
         "textposition": "auto",
         "x": [
          0.0,
          15.500000000058208,
          23.499999999941792,
          30.0,
          66.50000000005821
         ],
         "xaxis": "x3",
         "y": [
          0.6706666666666666,
          0.9786666666666667,
          1.1746666666666667,
          1.0426666666666666,
          1.0386666666666666
         ],
         "yaxis": "y3",
         "type": "bar"
        },
        {
         "alignmentgroup": "True",
         "error_y": {
          "array": [
           0.16908117708498616,
           0.040463975747982744,
           0.035049171808253156,
           0.024693678903269442,
           0.03587633079219661
          ]
         },
         "hovertemplate": "ADP1 strain=KSF111 ∆argB<br>[Arg] µM=400<br>=%{x}<br>OD600 (mean)=%{y}<extra></extra>",
         "legendgroup": "KSF111 ∆argB",
         "marker": {
          "color": "#EF553B",
          "pattern": {
           "shape": ""
          }
         },
         "name": "KSF111 ∆argB",
         "offsetgroup": "KSF111 ∆argB",
         "orientation": "v",
         "showlegend": false,
         "textposition": "auto",
         "x": [
          0.0,
          15.500000000058208,
          23.499999999941792,
          30.0,
          66.50000000005821
         ],
         "xaxis": "x4",
         "y": [
          0.7186666666666667,
          1.028,
          1.2826666666666666,
          1.1746666666666667,
          1.1346666666666667
         ],
         "yaxis": "y4",
         "type": "bar"
        },
        {
         "alignmentgroup": "True",
         "error_y": {
          "array": [
           0.0890343254655816,
           0.04715930449020643,
           0.0214579692525748,
           0.08053156730955466,
           0.056047598818623166
          ]
         },
         "hovertemplate": "ADP1 strain=KSF111 ∆argB<br>[Arg] µM=700<br>=%{x}<br>OD600 (mean)=%{y}<extra></extra>",
         "legendgroup": "KSF111 ∆argB",
         "marker": {
          "color": "#EF553B",
          "pattern": {
           "shape": ""
          }
         },
         "name": "KSF111 ∆argB",
         "offsetgroup": "KSF111 ∆argB",
         "orientation": "v",
         "showlegend": false,
         "textposition": "auto",
         "x": [
          0.0,
          15.500000000058208,
          23.499999999941792,
          30.0,
          66.50000000005821
         ],
         "xaxis": "x5",
         "y": [
          0.7426666666666666,
          1.084,
          1.3546666666666667,
          1.284,
          1.2240000000000002
         ],
         "yaxis": "y5",
         "type": "bar"
        },
        {
         "alignmentgroup": "True",
         "error_y": {
          "array": [
           0.23217234977490325,
           0.048387326164330856,
           0.03152424111343172,
           0.09589809406054141,
           0.03780652501002078
          ]
         },
         "hovertemplate": "ADP1 strain=KSF111 ∆argB<br>[Arg] µM=1000<br>=%{x}<br>OD600 (mean)=%{y}<extra></extra>",
         "legendgroup": "KSF111 ∆argB",
         "marker": {
          "color": "#EF553B",
          "pattern": {
           "shape": ""
          }
         },
         "name": "KSF111 ∆argB",
         "offsetgroup": "KSF111 ∆argB",
         "orientation": "v",
         "showlegend": false,
         "textposition": "auto",
         "x": [
          0.0,
          15.500000000058208,
          23.499999999941792,
          30.0,
          66.50000000005821
         ],
         "xaxis": "x6",
         "y": [
          0.884,
          1.092,
          1.4093333333333335,
          1.3573333333333333,
          1.264
         ],
         "yaxis": "y6",
         "type": "bar"
        },
        {
         "hovertemplate": "strain_id=KSF107 ∆argB<br>arg_conc_uM=0<br>elapsed_time_hr=%{x}<br>y=%{y}<extra></extra>",
         "legendgroup": "KSF107 ∆argB",
         "line": {
          "color": "#636efa",
          "dash": "solid",
          "width": 1
         },
         "marker": {
          "symbol": "circle"
         },
         "mode": "lines",
         "name": "KSF107 ∆argB",
         "orientation": "v",
         "showlegend": false,
         "x": [
          0.0,
          15.500000000058208,
          23.499999999941792,
          30.0,
          66.50000000005821
         ],
         "xaxis": "x",
         "y": [
          0.45599999999999996,
          0.6573333333333333,
          0.644,
          0.5893333333333333,
          0.6026666666666666
         ],
         "yaxis": "y",
         "type": "scatter"
        },
        {
         "hovertemplate": "strain_id=KSF107 ∆argB<br>arg_conc_uM=50<br>elapsed_time_hr=%{x}<br>y=%{y}<extra></extra>",
         "legendgroup": "KSF107 ∆argB",
         "line": {
          "color": "#636efa",
          "dash": "solid",
          "width": 1
         },
         "marker": {
          "symbol": "circle"
         },
         "mode": "lines",
         "name": "KSF107 ∆argB",
         "orientation": "v",
         "showlegend": false,
         "x": [
          0.0,
          15.500000000058208,
          23.499999999941792,
          30.0,
          66.50000000005821
         ],
         "xaxis": "x2",
         "y": [
          0.5519999999999999,
          0.872,
          0.9266666666666667,
          0.896,
          0.9053333333333334
         ],
         "yaxis": "y2",
         "type": "scatter"
        },
        {
         "hovertemplate": "strain_id=KSF107 ∆argB<br>arg_conc_uM=100<br>elapsed_time_hr=%{x}<br>y=%{y}<extra></extra>",
         "legendgroup": "KSF107 ∆argB",
         "line": {
          "color": "#636efa",
          "dash": "solid",
          "width": 1
         },
         "marker": {
          "symbol": "circle"
         },
         "mode": "lines",
         "name": "KSF107 ∆argB",
         "orientation": "v",
         "showlegend": false,
         "x": [
          0.0,
          15.500000000058208,
          23.499999999941792,
          30.0,
          66.50000000005821
         ],
         "xaxis": "x3",
         "y": [
          0.672,
          0.888,
          0.9773333333333333,
          0.9333333333333335,
          0.9853333333333333
         ],
         "yaxis": "y3",
         "type": "scatter"
        },
        {
         "hovertemplate": "strain_id=KSF107 ∆argB<br>arg_conc_uM=400<br>elapsed_time_hr=%{x}<br>y=%{y}<extra></extra>",
         "legendgroup": "KSF107 ∆argB",
         "line": {
          "color": "#636efa",
          "dash": "solid",
          "width": 1
         },
         "marker": {
          "symbol": "circle"
         },
         "mode": "lines",
         "name": "KSF107 ∆argB",
         "orientation": "v",
         "showlegend": false,
         "x": [
          0.0,
          15.500000000058208,
          23.499999999941792,
          30.0,
          66.50000000005821
         ],
         "xaxis": "x4",
         "y": [
          0.9400000000000001,
          0.9733333333333333,
          1.0546666666666666,
          1.044,
          1.1026666666666667
         ],
         "yaxis": "y4",
         "type": "scatter"
        },
        {
         "hovertemplate": "strain_id=KSF107 ∆argB<br>arg_conc_uM=700<br>elapsed_time_hr=%{x}<br>y=%{y}<extra></extra>",
         "legendgroup": "KSF107 ∆argB",
         "line": {
          "color": "#636efa",
          "dash": "solid",
          "width": 1
         },
         "marker": {
          "symbol": "circle"
         },
         "mode": "lines",
         "name": "KSF107 ∆argB",
         "orientation": "v",
         "showlegend": false,
         "x": [
          0.0,
          15.500000000058208,
          23.499999999941792,
          30.0,
          66.50000000005821
         ],
         "xaxis": "x5",
         "y": [
          0.888,
          1.0053333333333334,
          1.1333333333333335,
          1.1613333333333336,
          1.1706666666666667
         ],
         "yaxis": "y5",
         "type": "scatter"
        },
        {
         "hovertemplate": "strain_id=KSF107 ∆argB<br>arg_conc_uM=1000<br>elapsed_time_hr=%{x}<br>y=%{y}<extra></extra>",
         "legendgroup": "KSF107 ∆argB",
         "line": {
          "color": "#636efa",
          "dash": "solid",
          "width": 1
         },
         "marker": {
          "symbol": "circle"
         },
         "mode": "lines",
         "name": "KSF107 ∆argB",
         "orientation": "v",
         "showlegend": false,
         "x": [
          0.0,
          15.500000000058208,
          23.499999999941792,
          30.0,
          66.50000000005821
         ],
         "xaxis": "x6",
         "y": [
          1.0653333333333335,
          1.0386666666666666,
          1.1760000000000002,
          1.1613333333333336,
          1.1693333333333336
         ],
         "yaxis": "y6",
         "type": "scatter"
        },
        {
         "hovertemplate": "strain_id=KSF111 ∆argB<br>arg_conc_uM=0<br>elapsed_time_hr=%{x}<br>y=%{y}<extra></extra>",
         "legendgroup": "KSF111 ∆argB",
         "line": {
          "color": "#EF553B",
          "dash": "solid",
          "width": 1
         },
         "marker": {
          "symbol": "circle"
         },
         "mode": "lines",
         "name": "KSF111 ∆argB",
         "orientation": "v",
         "showlegend": false,
         "x": [
          0.0,
          15.500000000058208,
          23.499999999941792,
          30.0,
          66.50000000005821
         ],
         "xaxis": "x",
         "y": [
          0.5599999999999999,
          0.7613333333333333,
          0.7493333333333334,
          0.6813333333333333,
          0.6786666666666665
         ],
         "yaxis": "y",
         "type": "scatter"
        },
        {
         "hovertemplate": "strain_id=KSF111 ∆argB<br>arg_conc_uM=50<br>elapsed_time_hr=%{x}<br>y=%{y}<extra></extra>",
         "legendgroup": "KSF111 ∆argB",
         "line": {
          "color": "#EF553B",
          "dash": "solid",
          "width": 1
         },
         "marker": {
          "symbol": "circle"
         },
         "mode": "lines",
         "name": "KSF111 ∆argB",
         "orientation": "v",
         "showlegend": false,
         "x": [
          0.0,
          15.500000000058208,
          23.499999999941792,
          30.0,
          66.50000000005821
         ],
         "xaxis": "x2",
         "y": [
          0.6613333333333333,
          0.9946666666666667,
          1.1693333333333336,
          1.028,
          1.0173333333333334
         ],
         "yaxis": "y2",
         "type": "scatter"
        },
        {
         "hovertemplate": "strain_id=KSF111 ∆argB<br>arg_conc_uM=100<br>elapsed_time_hr=%{x}<br>y=%{y}<extra></extra>",
         "legendgroup": "KSF111 ∆argB",
         "line": {
          "color": "#EF553B",
          "dash": "solid",
          "width": 1
         },
         "marker": {
          "symbol": "circle"
         },
         "mode": "lines",
         "name": "KSF111 ∆argB",
         "orientation": "v",
         "showlegend": false,
         "x": [
          0.0,
          15.500000000058208,
          23.499999999941792,
          30.0,
          66.50000000005821
         ],
         "xaxis": "x3",
         "y": [
          0.6706666666666666,
          0.9786666666666667,
          1.1746666666666667,
          1.0426666666666666,
          1.0386666666666666
         ],
         "yaxis": "y3",
         "type": "scatter"
        },
        {
         "hovertemplate": "strain_id=KSF111 ∆argB<br>arg_conc_uM=400<br>elapsed_time_hr=%{x}<br>y=%{y}<extra></extra>",
         "legendgroup": "KSF111 ∆argB",
         "line": {
          "color": "#EF553B",
          "dash": "solid",
          "width": 1
         },
         "marker": {
          "symbol": "circle"
         },
         "mode": "lines",
         "name": "KSF111 ∆argB",
         "orientation": "v",
         "showlegend": false,
         "x": [
          0.0,
          15.500000000058208,
          23.499999999941792,
          30.0,
          66.50000000005821
         ],
         "xaxis": "x4",
         "y": [
          0.7186666666666667,
          1.028,
          1.2826666666666666,
          1.1746666666666667,
          1.1346666666666667
         ],
         "yaxis": "y4",
         "type": "scatter"
        },
        {
         "hovertemplate": "strain_id=KSF111 ∆argB<br>arg_conc_uM=700<br>elapsed_time_hr=%{x}<br>y=%{y}<extra></extra>",
         "legendgroup": "KSF111 ∆argB",
         "line": {
          "color": "#EF553B",
          "dash": "solid",
          "width": 1
         },
         "marker": {
          "symbol": "circle"
         },
         "mode": "lines",
         "name": "KSF111 ∆argB",
         "orientation": "v",
         "showlegend": false,
         "x": [
          0.0,
          15.500000000058208,
          23.499999999941792,
          30.0,
          66.50000000005821
         ],
         "xaxis": "x5",
         "y": [
          0.7426666666666666,
          1.084,
          1.3546666666666667,
          1.284,
          1.2240000000000002
         ],
         "yaxis": "y5",
         "type": "scatter"
        },
        {
         "hovertemplate": "strain_id=KSF111 ∆argB<br>arg_conc_uM=1000<br>elapsed_time_hr=%{x}<br>y=%{y}<extra></extra>",
         "legendgroup": "KSF111 ∆argB",
         "line": {
          "color": "#EF553B",
          "dash": "solid",
          "width": 1
         },
         "marker": {
          "symbol": "circle"
         },
         "mode": "lines",
         "name": "KSF111 ∆argB",
         "orientation": "v",
         "showlegend": false,
         "x": [
          0.0,
          15.500000000058208,
          23.499999999941792,
          30.0,
          66.50000000005821
         ],
         "xaxis": "x6",
         "y": [
          0.884,
          1.092,
          1.4093333333333335,
          1.3573333333333333,
          1.264
         ],
         "yaxis": "y6",
         "type": "scatter"
        }
       ],
       "layout": {
        "template": {
         "data": {
          "histogram2dcontour": [
           {
            "type": "histogram2dcontour",
            "colorbar": {
             "outlinewidth": 0,
             "ticks": ""
            },
            "colorscale": [
             [
              0.0,
              "#0d0887"
             ],
             [
              0.1111111111111111,
              "#46039f"
             ],
             [
              0.2222222222222222,
              "#7201a8"
             ],
             [
              0.3333333333333333,
              "#9c179e"
             ],
             [
              0.4444444444444444,
              "#bd3786"
             ],
             [
              0.5555555555555556,
              "#d8576b"
             ],
             [
              0.6666666666666666,
              "#ed7953"
             ],
             [
              0.7777777777777778,
              "#fb9f3a"
             ],
             [
              0.8888888888888888,
              "#fdca26"
             ],
             [
              1.0,
              "#f0f921"
             ]
            ]
           }
          ],
          "choropleth": [
           {
            "type": "choropleth",
            "colorbar": {
             "outlinewidth": 0,
             "ticks": ""
            }
           }
          ],
          "histogram2d": [
           {
            "type": "histogram2d",
            "colorbar": {
             "outlinewidth": 0,
             "ticks": ""
            },
            "colorscale": [
             [
              0.0,
              "#0d0887"
             ],
             [
              0.1111111111111111,
              "#46039f"
             ],
             [
              0.2222222222222222,
              "#7201a8"
             ],
             [
              0.3333333333333333,
              "#9c179e"
             ],
             [
              0.4444444444444444,
              "#bd3786"
             ],
             [
              0.5555555555555556,
              "#d8576b"
             ],
             [
              0.6666666666666666,
              "#ed7953"
             ],
             [
              0.7777777777777778,
              "#fb9f3a"
             ],
             [
              0.8888888888888888,
              "#fdca26"
             ],
             [
              1.0,
              "#f0f921"
             ]
            ]
           }
          ],
          "heatmap": [
           {
            "type": "heatmap",
            "colorbar": {
             "outlinewidth": 0,
             "ticks": ""
            },
            "colorscale": [
             [
              0.0,
              "#0d0887"
             ],
             [
              0.1111111111111111,
              "#46039f"
             ],
             [
              0.2222222222222222,
              "#7201a8"
             ],
             [
              0.3333333333333333,
              "#9c179e"
             ],
             [
              0.4444444444444444,
              "#bd3786"
             ],
             [
              0.5555555555555556,
              "#d8576b"
             ],
             [
              0.6666666666666666,
              "#ed7953"
             ],
             [
              0.7777777777777778,
              "#fb9f3a"
             ],
             [
              0.8888888888888888,
              "#fdca26"
             ],
             [
              1.0,
              "#f0f921"
             ]
            ]
           }
          ],
          "heatmapgl": [
           {
            "type": "heatmapgl",
            "colorbar": {
             "outlinewidth": 0,
             "ticks": ""
            },
            "colorscale": [
             [
              0.0,
              "#0d0887"
             ],
             [
              0.1111111111111111,
              "#46039f"
             ],
             [
              0.2222222222222222,
              "#7201a8"
             ],
             [
              0.3333333333333333,
              "#9c179e"
             ],
             [
              0.4444444444444444,
              "#bd3786"
             ],
             [
              0.5555555555555556,
              "#d8576b"
             ],
             [
              0.6666666666666666,
              "#ed7953"
             ],
             [
              0.7777777777777778,
              "#fb9f3a"
             ],
             [
              0.8888888888888888,
              "#fdca26"
             ],
             [
              1.0,
              "#f0f921"
             ]
            ]
           }
          ],
          "contourcarpet": [
           {
            "type": "contourcarpet",
            "colorbar": {
             "outlinewidth": 0,
             "ticks": ""
            }
           }
          ],
          "contour": [
           {
            "type": "contour",
            "colorbar": {
             "outlinewidth": 0,
             "ticks": ""
            },
            "colorscale": [
             [
              0.0,
              "#0d0887"
             ],
             [
              0.1111111111111111,
              "#46039f"
             ],
             [
              0.2222222222222222,
              "#7201a8"
             ],
             [
              0.3333333333333333,
              "#9c179e"
             ],
             [
              0.4444444444444444,
              "#bd3786"
             ],
             [
              0.5555555555555556,
              "#d8576b"
             ],
             [
              0.6666666666666666,
              "#ed7953"
             ],
             [
              0.7777777777777778,
              "#fb9f3a"
             ],
             [
              0.8888888888888888,
              "#fdca26"
             ],
             [
              1.0,
              "#f0f921"
             ]
            ]
           }
          ],
          "surface": [
           {
            "type": "surface",
            "colorbar": {
             "outlinewidth": 0,
             "ticks": ""
            },
            "colorscale": [
             [
              0.0,
              "#0d0887"
             ],
             [
              0.1111111111111111,
              "#46039f"
             ],
             [
              0.2222222222222222,
              "#7201a8"
             ],
             [
              0.3333333333333333,
              "#9c179e"
             ],
             [
              0.4444444444444444,
              "#bd3786"
             ],
             [
              0.5555555555555556,
              "#d8576b"
             ],
             [
              0.6666666666666666,
              "#ed7953"
             ],
             [
              0.7777777777777778,
              "#fb9f3a"
             ],
             [
              0.8888888888888888,
              "#fdca26"
             ],
             [
              1.0,
              "#f0f921"
             ]
            ]
           }
          ],
          "mesh3d": [
           {
            "type": "mesh3d",
            "colorbar": {
             "outlinewidth": 0,
             "ticks": ""
            }
           }
          ],
          "scatter": [
           {
            "fillpattern": {
             "fillmode": "overlay",
             "size": 10,
             "solidity": 0.2
            },
            "type": "scatter"
           }
          ],
          "parcoords": [
           {
            "type": "parcoords",
            "line": {
             "colorbar": {
              "outlinewidth": 0,
              "ticks": ""
             }
            }
           }
          ],
          "scatterpolargl": [
           {
            "type": "scatterpolargl",
            "marker": {
             "colorbar": {
              "outlinewidth": 0,
              "ticks": ""
             }
            }
           }
          ],
          "bar": [
           {
            "error_x": {
             "color": "#2a3f5f"
            },
            "error_y": {
             "color": "#2a3f5f"
            },
            "marker": {
             "line": {
              "color": "#E5ECF6",
              "width": 0.5
             },
             "pattern": {
              "fillmode": "overlay",
              "size": 10,
              "solidity": 0.2
             }
            },
            "type": "bar"
           }
          ],
          "scattergeo": [
           {
            "type": "scattergeo",
            "marker": {
             "colorbar": {
              "outlinewidth": 0,
              "ticks": ""
             }
            }
           }
          ],
          "scatterpolar": [
           {
            "type": "scatterpolar",
            "marker": {
             "colorbar": {
              "outlinewidth": 0,
              "ticks": ""
             }
            }
           }
          ],
          "histogram": [
           {
            "marker": {
             "pattern": {
              "fillmode": "overlay",
              "size": 10,
              "solidity": 0.2
             }
            },
            "type": "histogram"
           }
          ],
          "scattergl": [
           {
            "type": "scattergl",
            "marker": {
             "colorbar": {
              "outlinewidth": 0,
              "ticks": ""
             }
            }
           }
          ],
          "scatter3d": [
           {
            "type": "scatter3d",
            "line": {
             "colorbar": {
              "outlinewidth": 0,
              "ticks": ""
             }
            },
            "marker": {
             "colorbar": {
              "outlinewidth": 0,
              "ticks": ""
             }
            }
           }
          ],
          "scattermapbox": [
           {
            "type": "scattermapbox",
            "marker": {
             "colorbar": {
              "outlinewidth": 0,
              "ticks": ""
             }
            }
           }
          ],
          "scatterternary": [
           {
            "type": "scatterternary",
            "marker": {
             "colorbar": {
              "outlinewidth": 0,
              "ticks": ""
             }
            }
           }
          ],
          "scattercarpet": [
           {
            "type": "scattercarpet",
            "marker": {
             "colorbar": {
              "outlinewidth": 0,
              "ticks": ""
             }
            }
           }
          ],
          "carpet": [
           {
            "aaxis": {
             "endlinecolor": "#2a3f5f",
             "gridcolor": "white",
             "linecolor": "white",
             "minorgridcolor": "white",
             "startlinecolor": "#2a3f5f"
            },
            "baxis": {
             "endlinecolor": "#2a3f5f",
             "gridcolor": "white",
             "linecolor": "white",
             "minorgridcolor": "white",
             "startlinecolor": "#2a3f5f"
            },
            "type": "carpet"
           }
          ],
          "table": [
           {
            "cells": {
             "fill": {
              "color": "#EBF0F8"
             },
             "line": {
              "color": "white"
             }
            },
            "header": {
             "fill": {
              "color": "#C8D4E3"
             },
             "line": {
              "color": "white"
             }
            },
            "type": "table"
           }
          ],
          "barpolar": [
           {
            "marker": {
             "line": {
              "color": "#E5ECF6",
              "width": 0.5
             },
             "pattern": {
              "fillmode": "overlay",
              "size": 10,
              "solidity": 0.2
             }
            },
            "type": "barpolar"
           }
          ],
          "pie": [
           {
            "automargin": true,
            "type": "pie"
           }
          ]
         },
         "layout": {
          "autotypenumbers": "strict",
          "colorway": [
           "#636efa",
           "#EF553B",
           "#00cc96",
           "#ab63fa",
           "#FFA15A",
           "#19d3f3",
           "#FF6692",
           "#B6E880",
           "#FF97FF",
           "#FECB52"
          ],
          "font": {
           "color": "#2a3f5f"
          },
          "hovermode": "closest",
          "hoverlabel": {
           "align": "left"
          },
          "paper_bgcolor": "white",
          "plot_bgcolor": "#E5ECF6",
          "polar": {
           "bgcolor": "#E5ECF6",
           "angularaxis": {
            "gridcolor": "white",
            "linecolor": "white",
            "ticks": ""
           },
           "radialaxis": {
            "gridcolor": "white",
            "linecolor": "white",
            "ticks": ""
           }
          },
          "ternary": {
           "bgcolor": "#E5ECF6",
           "aaxis": {
            "gridcolor": "white",
            "linecolor": "white",
            "ticks": ""
           },
           "baxis": {
            "gridcolor": "white",
            "linecolor": "white",
            "ticks": ""
           },
           "caxis": {
            "gridcolor": "white",
            "linecolor": "white",
            "ticks": ""
           }
          },
          "coloraxis": {
           "colorbar": {
            "outlinewidth": 0,
            "ticks": ""
           }
          },
          "colorscale": {
           "sequential": [
            [
             0.0,
             "#0d0887"
            ],
            [
             0.1111111111111111,
             "#46039f"
            ],
            [
             0.2222222222222222,
             "#7201a8"
            ],
            [
             0.3333333333333333,
             "#9c179e"
            ],
            [
             0.4444444444444444,
             "#bd3786"
            ],
            [
             0.5555555555555556,
             "#d8576b"
            ],
            [
             0.6666666666666666,
             "#ed7953"
            ],
            [
             0.7777777777777778,
             "#fb9f3a"
            ],
            [
             0.8888888888888888,
             "#fdca26"
            ],
            [
             1.0,
             "#f0f921"
            ]
           ],
           "sequentialminus": [
            [
             0.0,
             "#0d0887"
            ],
            [
             0.1111111111111111,
             "#46039f"
            ],
            [
             0.2222222222222222,
             "#7201a8"
            ],
            [
             0.3333333333333333,
             "#9c179e"
            ],
            [
             0.4444444444444444,
             "#bd3786"
            ],
            [
             0.5555555555555556,
             "#d8576b"
            ],
            [
             0.6666666666666666,
             "#ed7953"
            ],
            [
             0.7777777777777778,
             "#fb9f3a"
            ],
            [
             0.8888888888888888,
             "#fdca26"
            ],
            [
             1.0,
             "#f0f921"
            ]
           ],
           "diverging": [
            [
             0,
             "#8e0152"
            ],
            [
             0.1,
             "#c51b7d"
            ],
            [
             0.2,
             "#de77ae"
            ],
            [
             0.3,
             "#f1b6da"
            ],
            [
             0.4,
             "#fde0ef"
            ],
            [
             0.5,
             "#f7f7f7"
            ],
            [
             0.6,
             "#e6f5d0"
            ],
            [
             0.7,
             "#b8e186"
            ],
            [
             0.8,
             "#7fbc41"
            ],
            [
             0.9,
             "#4d9221"
            ],
            [
             1,
             "#276419"
            ]
           ]
          },
          "xaxis": {
           "gridcolor": "white",
           "linecolor": "white",
           "ticks": "",
           "title": {
            "standoff": 15
           },
           "zerolinecolor": "white",
           "automargin": true,
           "zerolinewidth": 2
          },
          "yaxis": {
           "gridcolor": "white",
           "linecolor": "white",
           "ticks": "",
           "title": {
            "standoff": 15
           },
           "zerolinecolor": "white",
           "automargin": true,
           "zerolinewidth": 2
          },
          "scene": {
           "xaxis": {
            "backgroundcolor": "#E5ECF6",
            "gridcolor": "white",
            "linecolor": "white",
            "showbackground": true,
            "ticks": "",
            "zerolinecolor": "white",
            "gridwidth": 2
           },
           "yaxis": {
            "backgroundcolor": "#E5ECF6",
            "gridcolor": "white",
            "linecolor": "white",
            "showbackground": true,
            "ticks": "",
            "zerolinecolor": "white",
            "gridwidth": 2
           },
           "zaxis": {
            "backgroundcolor": "#E5ECF6",
            "gridcolor": "white",
            "linecolor": "white",
            "showbackground": true,
            "ticks": "",
            "zerolinecolor": "white",
            "gridwidth": 2
           }
          },
          "shapedefaults": {
           "line": {
            "color": "#2a3f5f"
           }
          },
          "annotationdefaults": {
           "arrowcolor": "#2a3f5f",
           "arrowhead": 0,
           "arrowwidth": 1
          },
          "geo": {
           "bgcolor": "white",
           "landcolor": "#E5ECF6",
           "subunitcolor": "white",
           "showland": true,
           "showlakes": true,
           "lakecolor": "white"
          },
          "title": {
           "x": 0.05
          },
          "mapbox": {
           "style": "light"
          }
         }
        },
        "xaxis": {
         "anchor": "y",
         "domain": [
          0.0,
          0.15
         ],
         "title": {
          "text": "Elapsed Time [hr]"
         }
        },
        "yaxis": {
         "anchor": "x",
         "domain": [
          0.0,
          1.0
         ],
         "title": {
          "text": "OD600 (mean)"
         }
        },
        "xaxis2": {
         "anchor": "y2",
         "domain": [
          0.16999999999999998,
          0.31999999999999995
         ],
         "matches": "x",
         "title": {
          "text": ""
         }
        },
        "yaxis2": {
         "anchor": "x2",
         "domain": [
          0.0,
          1.0
         ],
         "matches": "y",
         "showticklabels": false
        },
        "xaxis3": {
         "anchor": "y3",
         "domain": [
          0.33999999999999997,
          0.49
         ],
         "matches": "x",
         "title": {
          "text": ""
         }
        },
        "yaxis3": {
         "anchor": "x3",
         "domain": [
          0.0,
          1.0
         ],
         "matches": "y",
         "showticklabels": false
        },
        "xaxis4": {
         "anchor": "y4",
         "domain": [
          0.51,
          0.66
         ],
         "matches": "x",
         "title": {
          "text": ""
         }
        },
        "yaxis4": {
         "anchor": "x4",
         "domain": [
          0.0,
          1.0
         ],
         "matches": "y",
         "showticklabels": false
        },
        "xaxis5": {
         "anchor": "y5",
         "domain": [
          0.6799999999999999,
          0.83
         ],
         "matches": "x",
         "title": {
          "text": ""
         }
        },
        "yaxis5": {
         "anchor": "x5",
         "domain": [
          0.0,
          1.0
         ],
         "matches": "y",
         "showticklabels": false
        },
        "xaxis6": {
         "anchor": "y6",
         "domain": [
          0.85,
          1.0
         ],
         "matches": "x",
         "title": {
          "text": ""
         }
        },
        "yaxis6": {
         "anchor": "x6",
         "domain": [
          0.0,
          1.0
         ],
         "matches": "y",
         "showticklabels": false
        },
        "annotations": [
         {
          "font": {},
          "showarrow": false,
          "text": "[Arg] µM=0",
          "x": 0.075,
          "xanchor": "center",
          "xref": "paper",
          "y": 1.0,
          "yanchor": "bottom",
          "yref": "paper"
         },
         {
          "font": {},
          "showarrow": false,
          "text": "[Arg] µM=50",
          "x": 0.24499999999999997,
          "xanchor": "center",
          "xref": "paper",
          "y": 1.0,
          "yanchor": "bottom",
          "yref": "paper"
         },
         {
          "font": {},
          "showarrow": false,
          "text": "[Arg] µM=100",
          "x": 0.415,
          "xanchor": "center",
          "xref": "paper",
          "y": 1.0,
          "yanchor": "bottom",
          "yref": "paper"
         },
         {
          "font": {},
          "showarrow": false,
          "text": "[Arg] µM=400",
          "x": 0.585,
          "xanchor": "center",
          "xref": "paper",
          "y": 1.0,
          "yanchor": "bottom",
          "yref": "paper"
         },
         {
          "font": {},
          "showarrow": false,
          "text": "[Arg] µM=700",
          "x": 0.7549999999999999,
          "xanchor": "center",
          "xref": "paper",
          "y": 1.0,
          "yanchor": "bottom",
          "yref": "paper"
         },
         {
          "font": {},
          "showarrow": false,
          "text": "[Arg] µM=1000",
          "x": 0.925,
          "xanchor": "center",
          "xref": "paper",
          "y": 1.0,
          "yanchor": "bottom",
          "yref": "paper"
         }
        ],
        "legend": {
         "title": {
          "text": "ADP1 strain"
         },
         "tracegroupgap": 0
        },
        "margin": {
         "t": 60
        },
        "barmode": "group",
        "title": {
         "text": "OD ADP1 | KSF107 ∆argB (∆cphAI, ∆astA, ∆argB), KSF111 ∆argB (∆cphAI, ∆argR, ∆argB, ∆astA) | growth in dosed Arg after preculture and wash",
         "x": 0.5
        },
        "showlegend": true,
        "boxmode": "group",
        "boxgap": 0.8,
        "boxgroupgap": 0,
        "height": 500
       },
       "config": {
        "plotlyServerURL": "https://plot.ly"
       }
      },
      "text/html": [
       "<div>                            <div id=\"142c5841-aec8-45fe-a64e-ffda3c01d580\" class=\"plotly-graph-div\" style=\"height:500px; width:100%;\"></div>            <script type=\"text/javascript\">                require([\"plotly\"], function(Plotly) {                    window.PLOTLYENV=window.PLOTLYENV || {};                                    if (document.getElementById(\"142c5841-aec8-45fe-a64e-ffda3c01d580\")) {                    Plotly.newPlot(                        \"142c5841-aec8-45fe-a64e-ffda3c01d580\",                        [{\"alignmentgroup\":\"True\",\"error_y\":{\"array\":[0.010066445913694343,0.018666666666666647,0.014422205101855925,0.007423685817106699,0.008743251365736]},\"hovertemplate\":\"ADP1 strain=KSF107 \\u2206argB\\u003cbr\\u003e[Arg] \\u00b5M=0\\u003cbr\\u003e=%{x}\\u003cbr\\u003eOD600 (mean)=%{y}\\u003cextra\\u003e\\u003c\\u002fextra\\u003e\",\"legendgroup\":\"KSF107 \\u2206argB\",\"marker\":{\"color\":\"#636efa\",\"pattern\":{\"shape\":\"\"}},\"name\":\"KSF107 \\u2206argB\",\"offsetgroup\":\"KSF107 \\u2206argB\",\"orientation\":\"v\",\"showlegend\":true,\"textposition\":\"auto\",\"x\":[0.0,15.500000000058208,23.499999999941792,30.0,66.50000000005821],\"xaxis\":\"x\",\"y\":[0.45599999999999996,0.6573333333333333,0.644,0.5893333333333333,0.6026666666666666],\"yaxis\":\"y\",\"type\":\"bar\"},{\"alignmentgroup\":\"True\",\"error_y\":{\"array\":[0.0747261667690776,0.012220201853215583,0.021457969252574788,0.010583005244258372,0.0201769946005621]},\"hovertemplate\":\"ADP1 strain=KSF107 \\u2206argB\\u003cbr\\u003e[Arg] \\u00b5M=50\\u003cbr\\u003e=%{x}\\u003cbr\\u003eOD600 (mean)=%{y}\\u003cextra\\u003e\\u003c\\u002fextra\\u003e\",\"legendgroup\":\"KSF107 \\u2206argB\",\"marker\":{\"color\":\"#636efa\",\"pattern\":{\"shape\":\"\"}},\"name\":\"KSF107 \\u2206argB\",\"offsetgroup\":\"KSF107 \\u2206argB\",\"orientation\":\"v\",\"showlegend\":false,\"textposition\":\"auto\",\"x\":[0.0,15.500000000058208,23.499999999941792,30.0,66.50000000005821],\"xaxis\":\"x2\",\"y\":[0.5519999999999999,0.872,0.9266666666666667,0.896,0.9053333333333334],\"yaxis\":\"y2\",\"type\":\"bar\"},{\"alignmentgroup\":\"True\",\"error_y\":{\"array\":[0.07203702751594718,0.017435595774162708,0.022191089302790973,0.014666666666666685,0.013131810402394762]},\"hovertemplate\":\"ADP1 strain=KSF107 \\u2206argB\\u003cbr\\u003e[Arg] \\u00b5M=100\\u003cbr\\u003e=%{x}\\u003cbr\\u003eOD600 (mean)=%{y}\\u003cextra\\u003e\\u003c\\u002fextra\\u003e\",\"legendgroup\":\"KSF107 \\u2206argB\",\"marker\":{\"color\":\"#636efa\",\"pattern\":{\"shape\":\"\"}},\"name\":\"KSF107 \\u2206argB\",\"offsetgroup\":\"KSF107 \\u2206argB\",\"orientation\":\"v\",\"showlegend\":false,\"textposition\":\"auto\",\"x\":[0.0,15.500000000058208,23.499999999941792,30.0,66.50000000005821],\"xaxis\":\"x3\",\"y\":[0.672,0.888,0.9773333333333333,0.9333333333333335,0.9853333333333333],\"yaxis\":\"y3\",\"type\":\"bar\"},{\"alignmentgroup\":\"True\",\"error_y\":{\"array\":[0.17696704024572865,0.011392004993756635,0.028689913055133395,0.04454211490264017,0.04734741574550593]},\"hovertemplate\":\"ADP1 strain=KSF107 \\u2206argB\\u003cbr\\u003e[Arg] \\u00b5M=400\\u003cbr\\u003e=%{x}\\u003cbr\\u003eOD600 (mean)=%{y}\\u003cextra\\u003e\\u003c\\u002fextra\\u003e\",\"legendgroup\":\"KSF107 \\u2206argB\",\"marker\":{\"color\":\"#636efa\",\"pattern\":{\"shape\":\"\"}},\"name\":\"KSF107 \\u2206argB\",\"offsetgroup\":\"KSF107 \\u2206argB\",\"orientation\":\"v\",\"showlegend\":false,\"textposition\":\"auto\",\"x\":[0.0,15.500000000058208,23.499999999941792,30.0,66.50000000005821],\"xaxis\":\"x4\",\"y\":[0.9400000000000001,0.9733333333333333,1.0546666666666666,1.044,1.1026666666666667],\"yaxis\":\"y4\",\"type\":\"bar\"},{\"alignmentgroup\":\"True\",\"error_y\":{\"array\":[0.21697311661432472,0.016706618781522187,0.04055175020198817,0.03811094914121724,0.019641226483541677]},\"hovertemplate\":\"ADP1 strain=KSF107 \\u2206argB\\u003cbr\\u003e[Arg] \\u00b5M=700\\u003cbr\\u003e=%{x}\\u003cbr\\u003eOD600 (mean)=%{y}\\u003cextra\\u003e\\u003c\\u002fextra\\u003e\",\"legendgroup\":\"KSF107 \\u2206argB\",\"marker\":{\"color\":\"#636efa\",\"pattern\":{\"shape\":\"\"}},\"name\":\"KSF107 \\u2206argB\",\"offsetgroup\":\"KSF107 \\u2206argB\",\"orientation\":\"v\",\"showlegend\":false,\"textposition\":\"auto\",\"x\":[0.0,15.500000000058208,23.499999999941792,30.0,66.50000000005821],\"xaxis\":\"x5\",\"y\":[0.888,1.0053333333333334,1.1333333333333335,1.1613333333333336,1.1706666666666667],\"yaxis\":\"y5\",\"type\":\"bar\"},{\"alignmentgroup\":\"True\",\"error_y\":{\"array\":[0.18729418333496403,0.0486803633694099,0.018330302779823376,0.04539211874813123,0.024037008503093267]},\"hovertemplate\":\"ADP1 strain=KSF107 \\u2206argB\\u003cbr\\u003e[Arg] \\u00b5M=1000\\u003cbr\\u003e=%{x}\\u003cbr\\u003eOD600 (mean)=%{y}\\u003cextra\\u003e\\u003c\\u002fextra\\u003e\",\"legendgroup\":\"KSF107 \\u2206argB\",\"marker\":{\"color\":\"#636efa\",\"pattern\":{\"shape\":\"\"}},\"name\":\"KSF107 \\u2206argB\",\"offsetgroup\":\"KSF107 \\u2206argB\",\"orientation\":\"v\",\"showlegend\":false,\"textposition\":\"auto\",\"x\":[0.0,15.500000000058208,23.499999999941792,30.0,66.50000000005821],\"xaxis\":\"x6\",\"y\":[1.0653333333333335,1.0386666666666666,1.1760000000000002,1.1613333333333336,1.1693333333333336],\"yaxis\":\"y6\",\"type\":\"bar\"},{\"alignmentgroup\":\"True\",\"error_y\":{\"array\":[0.08082903768654762,0.003527668414752784,0.018666666666666675,0.020176994600562072,0.012719189352225957]},\"hovertemplate\":\"ADP1 strain=KSF111 \\u2206argB\\u003cbr\\u003e[Arg] \\u00b5M=0\\u003cbr\\u003e=%{x}\\u003cbr\\u003eOD600 (mean)=%{y}\\u003cextra\\u003e\\u003c\\u002fextra\\u003e\",\"legendgroup\":\"KSF111 \\u2206argB\",\"marker\":{\"color\":\"#EF553B\",\"pattern\":{\"shape\":\"\"}},\"name\":\"KSF111 \\u2206argB\",\"offsetgroup\":\"KSF111 \\u2206argB\",\"orientation\":\"v\",\"showlegend\":true,\"textposition\":\"auto\",\"x\":[0.0,15.500000000058208,23.499999999941792,30.0,66.50000000005821],\"xaxis\":\"x\",\"y\":[0.5599999999999999,0.7613333333333333,0.7493333333333334,0.6813333333333333,0.6786666666666665],\"yaxis\":\"y\",\"type\":\"bar\"},{\"alignmentgroup\":\"True\",\"error_y\":{\"array\":[0.0837244156610112,0.017333333333333305,0.014666666666666672,0.01743559577416276,0.015719768163402134]},\"hovertemplate\":\"ADP1 strain=KSF111 \\u2206argB\\u003cbr\\u003e[Arg] \\u00b5M=50\\u003cbr\\u003e=%{x}\\u003cbr\\u003eOD600 (mean)=%{y}\\u003cextra\\u003e\\u003c\\u002fextra\\u003e\",\"legendgroup\":\"KSF111 \\u2206argB\",\"marker\":{\"color\":\"#EF553B\",\"pattern\":{\"shape\":\"\"}},\"name\":\"KSF111 \\u2206argB\",\"offsetgroup\":\"KSF111 \\u2206argB\",\"orientation\":\"v\",\"showlegend\":false,\"textposition\":\"auto\",\"x\":[0.0,15.500000000058208,23.499999999941792,30.0,66.50000000005821],\"xaxis\":\"x2\",\"y\":[0.6613333333333333,0.9946666666666667,1.1693333333333336,1.028,1.0173333333333334],\"yaxis\":\"y2\",\"type\":\"bar\"},{\"alignmentgroup\":\"True\",\"error_y\":{\"array\":[0.1852757704372353,0.015376750126227716,0.004807401700618652,0.008743251365735998,0.022784009987513454]},\"hovertemplate\":\"ADP1 strain=KSF111 \\u2206argB\\u003cbr\\u003e[Arg] \\u00b5M=100\\u003cbr\\u003e=%{x}\\u003cbr\\u003eOD600 (mean)=%{y}\\u003cextra\\u003e\\u003c\\u002fextra\\u003e\",\"legendgroup\":\"KSF111 \\u2206argB\",\"marker\":{\"color\":\"#EF553B\",\"pattern\":{\"shape\":\"\"}},\"name\":\"KSF111 \\u2206argB\",\"offsetgroup\":\"KSF111 \\u2206argB\",\"orientation\":\"v\",\"showlegend\":false,\"textposition\":\"auto\",\"x\":[0.0,15.500000000058208,23.499999999941792,30.0,66.50000000005821],\"xaxis\":\"x3\",\"y\":[0.6706666666666666,0.9786666666666667,1.1746666666666667,1.0426666666666666,1.0386666666666666],\"yaxis\":\"y3\",\"type\":\"bar\"},{\"alignmentgroup\":\"True\",\"error_y\":{\"array\":[0.16908117708498616,0.040463975747982744,0.035049171808253156,0.024693678903269442,0.03587633079219661]},\"hovertemplate\":\"ADP1 strain=KSF111 \\u2206argB\\u003cbr\\u003e[Arg] \\u00b5M=400\\u003cbr\\u003e=%{x}\\u003cbr\\u003eOD600 (mean)=%{y}\\u003cextra\\u003e\\u003c\\u002fextra\\u003e\",\"legendgroup\":\"KSF111 \\u2206argB\",\"marker\":{\"color\":\"#EF553B\",\"pattern\":{\"shape\":\"\"}},\"name\":\"KSF111 \\u2206argB\",\"offsetgroup\":\"KSF111 \\u2206argB\",\"orientation\":\"v\",\"showlegend\":false,\"textposition\":\"auto\",\"x\":[0.0,15.500000000058208,23.499999999941792,30.0,66.50000000005821],\"xaxis\":\"x4\",\"y\":[0.7186666666666667,1.028,1.2826666666666666,1.1746666666666667,1.1346666666666667],\"yaxis\":\"y4\",\"type\":\"bar\"},{\"alignmentgroup\":\"True\",\"error_y\":{\"array\":[0.0890343254655816,0.04715930449020643,0.0214579692525748,0.08053156730955466,0.056047598818623166]},\"hovertemplate\":\"ADP1 strain=KSF111 \\u2206argB\\u003cbr\\u003e[Arg] \\u00b5M=700\\u003cbr\\u003e=%{x}\\u003cbr\\u003eOD600 (mean)=%{y}\\u003cextra\\u003e\\u003c\\u002fextra\\u003e\",\"legendgroup\":\"KSF111 \\u2206argB\",\"marker\":{\"color\":\"#EF553B\",\"pattern\":{\"shape\":\"\"}},\"name\":\"KSF111 \\u2206argB\",\"offsetgroup\":\"KSF111 \\u2206argB\",\"orientation\":\"v\",\"showlegend\":false,\"textposition\":\"auto\",\"x\":[0.0,15.500000000058208,23.499999999941792,30.0,66.50000000005821],\"xaxis\":\"x5\",\"y\":[0.7426666666666666,1.084,1.3546666666666667,1.284,1.2240000000000002],\"yaxis\":\"y5\",\"type\":\"bar\"},{\"alignmentgroup\":\"True\",\"error_y\":{\"array\":[0.23217234977490325,0.048387326164330856,0.03152424111343172,0.09589809406054141,0.03780652501002078]},\"hovertemplate\":\"ADP1 strain=KSF111 \\u2206argB\\u003cbr\\u003e[Arg] \\u00b5M=1000\\u003cbr\\u003e=%{x}\\u003cbr\\u003eOD600 (mean)=%{y}\\u003cextra\\u003e\\u003c\\u002fextra\\u003e\",\"legendgroup\":\"KSF111 \\u2206argB\",\"marker\":{\"color\":\"#EF553B\",\"pattern\":{\"shape\":\"\"}},\"name\":\"KSF111 \\u2206argB\",\"offsetgroup\":\"KSF111 \\u2206argB\",\"orientation\":\"v\",\"showlegend\":false,\"textposition\":\"auto\",\"x\":[0.0,15.500000000058208,23.499999999941792,30.0,66.50000000005821],\"xaxis\":\"x6\",\"y\":[0.884,1.092,1.4093333333333335,1.3573333333333333,1.264],\"yaxis\":\"y6\",\"type\":\"bar\"},{\"hovertemplate\":\"strain_id=KSF107 \\u2206argB\\u003cbr\\u003earg_conc_uM=0\\u003cbr\\u003eelapsed_time_hr=%{x}\\u003cbr\\u003ey=%{y}\\u003cextra\\u003e\\u003c\\u002fextra\\u003e\",\"legendgroup\":\"KSF107 \\u2206argB\",\"line\":{\"color\":\"#636efa\",\"dash\":\"solid\",\"width\":1},\"marker\":{\"symbol\":\"circle\"},\"mode\":\"lines\",\"name\":\"KSF107 \\u2206argB\",\"orientation\":\"v\",\"showlegend\":false,\"x\":[0.0,15.500000000058208,23.499999999941792,30.0,66.50000000005821],\"xaxis\":\"x\",\"y\":[0.45599999999999996,0.6573333333333333,0.644,0.5893333333333333,0.6026666666666666],\"yaxis\":\"y\",\"type\":\"scatter\"},{\"hovertemplate\":\"strain_id=KSF107 \\u2206argB\\u003cbr\\u003earg_conc_uM=50\\u003cbr\\u003eelapsed_time_hr=%{x}\\u003cbr\\u003ey=%{y}\\u003cextra\\u003e\\u003c\\u002fextra\\u003e\",\"legendgroup\":\"KSF107 \\u2206argB\",\"line\":{\"color\":\"#636efa\",\"dash\":\"solid\",\"width\":1},\"marker\":{\"symbol\":\"circle\"},\"mode\":\"lines\",\"name\":\"KSF107 \\u2206argB\",\"orientation\":\"v\",\"showlegend\":false,\"x\":[0.0,15.500000000058208,23.499999999941792,30.0,66.50000000005821],\"xaxis\":\"x2\",\"y\":[0.5519999999999999,0.872,0.9266666666666667,0.896,0.9053333333333334],\"yaxis\":\"y2\",\"type\":\"scatter\"},{\"hovertemplate\":\"strain_id=KSF107 \\u2206argB\\u003cbr\\u003earg_conc_uM=100\\u003cbr\\u003eelapsed_time_hr=%{x}\\u003cbr\\u003ey=%{y}\\u003cextra\\u003e\\u003c\\u002fextra\\u003e\",\"legendgroup\":\"KSF107 \\u2206argB\",\"line\":{\"color\":\"#636efa\",\"dash\":\"solid\",\"width\":1},\"marker\":{\"symbol\":\"circle\"},\"mode\":\"lines\",\"name\":\"KSF107 \\u2206argB\",\"orientation\":\"v\",\"showlegend\":false,\"x\":[0.0,15.500000000058208,23.499999999941792,30.0,66.50000000005821],\"xaxis\":\"x3\",\"y\":[0.672,0.888,0.9773333333333333,0.9333333333333335,0.9853333333333333],\"yaxis\":\"y3\",\"type\":\"scatter\"},{\"hovertemplate\":\"strain_id=KSF107 \\u2206argB\\u003cbr\\u003earg_conc_uM=400\\u003cbr\\u003eelapsed_time_hr=%{x}\\u003cbr\\u003ey=%{y}\\u003cextra\\u003e\\u003c\\u002fextra\\u003e\",\"legendgroup\":\"KSF107 \\u2206argB\",\"line\":{\"color\":\"#636efa\",\"dash\":\"solid\",\"width\":1},\"marker\":{\"symbol\":\"circle\"},\"mode\":\"lines\",\"name\":\"KSF107 \\u2206argB\",\"orientation\":\"v\",\"showlegend\":false,\"x\":[0.0,15.500000000058208,23.499999999941792,30.0,66.50000000005821],\"xaxis\":\"x4\",\"y\":[0.9400000000000001,0.9733333333333333,1.0546666666666666,1.044,1.1026666666666667],\"yaxis\":\"y4\",\"type\":\"scatter\"},{\"hovertemplate\":\"strain_id=KSF107 \\u2206argB\\u003cbr\\u003earg_conc_uM=700\\u003cbr\\u003eelapsed_time_hr=%{x}\\u003cbr\\u003ey=%{y}\\u003cextra\\u003e\\u003c\\u002fextra\\u003e\",\"legendgroup\":\"KSF107 \\u2206argB\",\"line\":{\"color\":\"#636efa\",\"dash\":\"solid\",\"width\":1},\"marker\":{\"symbol\":\"circle\"},\"mode\":\"lines\",\"name\":\"KSF107 \\u2206argB\",\"orientation\":\"v\",\"showlegend\":false,\"x\":[0.0,15.500000000058208,23.499999999941792,30.0,66.50000000005821],\"xaxis\":\"x5\",\"y\":[0.888,1.0053333333333334,1.1333333333333335,1.1613333333333336,1.1706666666666667],\"yaxis\":\"y5\",\"type\":\"scatter\"},{\"hovertemplate\":\"strain_id=KSF107 \\u2206argB\\u003cbr\\u003earg_conc_uM=1000\\u003cbr\\u003eelapsed_time_hr=%{x}\\u003cbr\\u003ey=%{y}\\u003cextra\\u003e\\u003c\\u002fextra\\u003e\",\"legendgroup\":\"KSF107 \\u2206argB\",\"line\":{\"color\":\"#636efa\",\"dash\":\"solid\",\"width\":1},\"marker\":{\"symbol\":\"circle\"},\"mode\":\"lines\",\"name\":\"KSF107 \\u2206argB\",\"orientation\":\"v\",\"showlegend\":false,\"x\":[0.0,15.500000000058208,23.499999999941792,30.0,66.50000000005821],\"xaxis\":\"x6\",\"y\":[1.0653333333333335,1.0386666666666666,1.1760000000000002,1.1613333333333336,1.1693333333333336],\"yaxis\":\"y6\",\"type\":\"scatter\"},{\"hovertemplate\":\"strain_id=KSF111 \\u2206argB\\u003cbr\\u003earg_conc_uM=0\\u003cbr\\u003eelapsed_time_hr=%{x}\\u003cbr\\u003ey=%{y}\\u003cextra\\u003e\\u003c\\u002fextra\\u003e\",\"legendgroup\":\"KSF111 \\u2206argB\",\"line\":{\"color\":\"#EF553B\",\"dash\":\"solid\",\"width\":1},\"marker\":{\"symbol\":\"circle\"},\"mode\":\"lines\",\"name\":\"KSF111 \\u2206argB\",\"orientation\":\"v\",\"showlegend\":false,\"x\":[0.0,15.500000000058208,23.499999999941792,30.0,66.50000000005821],\"xaxis\":\"x\",\"y\":[0.5599999999999999,0.7613333333333333,0.7493333333333334,0.6813333333333333,0.6786666666666665],\"yaxis\":\"y\",\"type\":\"scatter\"},{\"hovertemplate\":\"strain_id=KSF111 \\u2206argB\\u003cbr\\u003earg_conc_uM=50\\u003cbr\\u003eelapsed_time_hr=%{x}\\u003cbr\\u003ey=%{y}\\u003cextra\\u003e\\u003c\\u002fextra\\u003e\",\"legendgroup\":\"KSF111 \\u2206argB\",\"line\":{\"color\":\"#EF553B\",\"dash\":\"solid\",\"width\":1},\"marker\":{\"symbol\":\"circle\"},\"mode\":\"lines\",\"name\":\"KSF111 \\u2206argB\",\"orientation\":\"v\",\"showlegend\":false,\"x\":[0.0,15.500000000058208,23.499999999941792,30.0,66.50000000005821],\"xaxis\":\"x2\",\"y\":[0.6613333333333333,0.9946666666666667,1.1693333333333336,1.028,1.0173333333333334],\"yaxis\":\"y2\",\"type\":\"scatter\"},{\"hovertemplate\":\"strain_id=KSF111 \\u2206argB\\u003cbr\\u003earg_conc_uM=100\\u003cbr\\u003eelapsed_time_hr=%{x}\\u003cbr\\u003ey=%{y}\\u003cextra\\u003e\\u003c\\u002fextra\\u003e\",\"legendgroup\":\"KSF111 \\u2206argB\",\"line\":{\"color\":\"#EF553B\",\"dash\":\"solid\",\"width\":1},\"marker\":{\"symbol\":\"circle\"},\"mode\":\"lines\",\"name\":\"KSF111 \\u2206argB\",\"orientation\":\"v\",\"showlegend\":false,\"x\":[0.0,15.500000000058208,23.499999999941792,30.0,66.50000000005821],\"xaxis\":\"x3\",\"y\":[0.6706666666666666,0.9786666666666667,1.1746666666666667,1.0426666666666666,1.0386666666666666],\"yaxis\":\"y3\",\"type\":\"scatter\"},{\"hovertemplate\":\"strain_id=KSF111 \\u2206argB\\u003cbr\\u003earg_conc_uM=400\\u003cbr\\u003eelapsed_time_hr=%{x}\\u003cbr\\u003ey=%{y}\\u003cextra\\u003e\\u003c\\u002fextra\\u003e\",\"legendgroup\":\"KSF111 \\u2206argB\",\"line\":{\"color\":\"#EF553B\",\"dash\":\"solid\",\"width\":1},\"marker\":{\"symbol\":\"circle\"},\"mode\":\"lines\",\"name\":\"KSF111 \\u2206argB\",\"orientation\":\"v\",\"showlegend\":false,\"x\":[0.0,15.500000000058208,23.499999999941792,30.0,66.50000000005821],\"xaxis\":\"x4\",\"y\":[0.7186666666666667,1.028,1.2826666666666666,1.1746666666666667,1.1346666666666667],\"yaxis\":\"y4\",\"type\":\"scatter\"},{\"hovertemplate\":\"strain_id=KSF111 \\u2206argB\\u003cbr\\u003earg_conc_uM=700\\u003cbr\\u003eelapsed_time_hr=%{x}\\u003cbr\\u003ey=%{y}\\u003cextra\\u003e\\u003c\\u002fextra\\u003e\",\"legendgroup\":\"KSF111 \\u2206argB\",\"line\":{\"color\":\"#EF553B\",\"dash\":\"solid\",\"width\":1},\"marker\":{\"symbol\":\"circle\"},\"mode\":\"lines\",\"name\":\"KSF111 \\u2206argB\",\"orientation\":\"v\",\"showlegend\":false,\"x\":[0.0,15.500000000058208,23.499999999941792,30.0,66.50000000005821],\"xaxis\":\"x5\",\"y\":[0.7426666666666666,1.084,1.3546666666666667,1.284,1.2240000000000002],\"yaxis\":\"y5\",\"type\":\"scatter\"},{\"hovertemplate\":\"strain_id=KSF111 \\u2206argB\\u003cbr\\u003earg_conc_uM=1000\\u003cbr\\u003eelapsed_time_hr=%{x}\\u003cbr\\u003ey=%{y}\\u003cextra\\u003e\\u003c\\u002fextra\\u003e\",\"legendgroup\":\"KSF111 \\u2206argB\",\"line\":{\"color\":\"#EF553B\",\"dash\":\"solid\",\"width\":1},\"marker\":{\"symbol\":\"circle\"},\"mode\":\"lines\",\"name\":\"KSF111 \\u2206argB\",\"orientation\":\"v\",\"showlegend\":false,\"x\":[0.0,15.500000000058208,23.499999999941792,30.0,66.50000000005821],\"xaxis\":\"x6\",\"y\":[0.884,1.092,1.4093333333333335,1.3573333333333333,1.264],\"yaxis\":\"y6\",\"type\":\"scatter\"}],                        {\"template\":{\"data\":{\"histogram2dcontour\":[{\"type\":\"histogram2dcontour\",\"colorbar\":{\"outlinewidth\":0,\"ticks\":\"\"},\"colorscale\":[[0.0,\"#0d0887\"],[0.1111111111111111,\"#46039f\"],[0.2222222222222222,\"#7201a8\"],[0.3333333333333333,\"#9c179e\"],[0.4444444444444444,\"#bd3786\"],[0.5555555555555556,\"#d8576b\"],[0.6666666666666666,\"#ed7953\"],[0.7777777777777778,\"#fb9f3a\"],[0.8888888888888888,\"#fdca26\"],[1.0,\"#f0f921\"]]}],\"choropleth\":[{\"type\":\"choropleth\",\"colorbar\":{\"outlinewidth\":0,\"ticks\":\"\"}}],\"histogram2d\":[{\"type\":\"histogram2d\",\"colorbar\":{\"outlinewidth\":0,\"ticks\":\"\"},\"colorscale\":[[0.0,\"#0d0887\"],[0.1111111111111111,\"#46039f\"],[0.2222222222222222,\"#7201a8\"],[0.3333333333333333,\"#9c179e\"],[0.4444444444444444,\"#bd3786\"],[0.5555555555555556,\"#d8576b\"],[0.6666666666666666,\"#ed7953\"],[0.7777777777777778,\"#fb9f3a\"],[0.8888888888888888,\"#fdca26\"],[1.0,\"#f0f921\"]]}],\"heatmap\":[{\"type\":\"heatmap\",\"colorbar\":{\"outlinewidth\":0,\"ticks\":\"\"},\"colorscale\":[[0.0,\"#0d0887\"],[0.1111111111111111,\"#46039f\"],[0.2222222222222222,\"#7201a8\"],[0.3333333333333333,\"#9c179e\"],[0.4444444444444444,\"#bd3786\"],[0.5555555555555556,\"#d8576b\"],[0.6666666666666666,\"#ed7953\"],[0.7777777777777778,\"#fb9f3a\"],[0.8888888888888888,\"#fdca26\"],[1.0,\"#f0f921\"]]}],\"heatmapgl\":[{\"type\":\"heatmapgl\",\"colorbar\":{\"outlinewidth\":0,\"ticks\":\"\"},\"colorscale\":[[0.0,\"#0d0887\"],[0.1111111111111111,\"#46039f\"],[0.2222222222222222,\"#7201a8\"],[0.3333333333333333,\"#9c179e\"],[0.4444444444444444,\"#bd3786\"],[0.5555555555555556,\"#d8576b\"],[0.6666666666666666,\"#ed7953\"],[0.7777777777777778,\"#fb9f3a\"],[0.8888888888888888,\"#fdca26\"],[1.0,\"#f0f921\"]]}],\"contourcarpet\":[{\"type\":\"contourcarpet\",\"colorbar\":{\"outlinewidth\":0,\"ticks\":\"\"}}],\"contour\":[{\"type\":\"contour\",\"colorbar\":{\"outlinewidth\":0,\"ticks\":\"\"},\"colorscale\":[[0.0,\"#0d0887\"],[0.1111111111111111,\"#46039f\"],[0.2222222222222222,\"#7201a8\"],[0.3333333333333333,\"#9c179e\"],[0.4444444444444444,\"#bd3786\"],[0.5555555555555556,\"#d8576b\"],[0.6666666666666666,\"#ed7953\"],[0.7777777777777778,\"#fb9f3a\"],[0.8888888888888888,\"#fdca26\"],[1.0,\"#f0f921\"]]}],\"surface\":[{\"type\":\"surface\",\"colorbar\":{\"outlinewidth\":0,\"ticks\":\"\"},\"colorscale\":[[0.0,\"#0d0887\"],[0.1111111111111111,\"#46039f\"],[0.2222222222222222,\"#7201a8\"],[0.3333333333333333,\"#9c179e\"],[0.4444444444444444,\"#bd3786\"],[0.5555555555555556,\"#d8576b\"],[0.6666666666666666,\"#ed7953\"],[0.7777777777777778,\"#fb9f3a\"],[0.8888888888888888,\"#fdca26\"],[1.0,\"#f0f921\"]]}],\"mesh3d\":[{\"type\":\"mesh3d\",\"colorbar\":{\"outlinewidth\":0,\"ticks\":\"\"}}],\"scatter\":[{\"fillpattern\":{\"fillmode\":\"overlay\",\"size\":10,\"solidity\":0.2},\"type\":\"scatter\"}],\"parcoords\":[{\"type\":\"parcoords\",\"line\":{\"colorbar\":{\"outlinewidth\":0,\"ticks\":\"\"}}}],\"scatterpolargl\":[{\"type\":\"scatterpolargl\",\"marker\":{\"colorbar\":{\"outlinewidth\":0,\"ticks\":\"\"}}}],\"bar\":[{\"error_x\":{\"color\":\"#2a3f5f\"},\"error_y\":{\"color\":\"#2a3f5f\"},\"marker\":{\"line\":{\"color\":\"#E5ECF6\",\"width\":0.5},\"pattern\":{\"fillmode\":\"overlay\",\"size\":10,\"solidity\":0.2}},\"type\":\"bar\"}],\"scattergeo\":[{\"type\":\"scattergeo\",\"marker\":{\"colorbar\":{\"outlinewidth\":0,\"ticks\":\"\"}}}],\"scatterpolar\":[{\"type\":\"scatterpolar\",\"marker\":{\"colorbar\":{\"outlinewidth\":0,\"ticks\":\"\"}}}],\"histogram\":[{\"marker\":{\"pattern\":{\"fillmode\":\"overlay\",\"size\":10,\"solidity\":0.2}},\"type\":\"histogram\"}],\"scattergl\":[{\"type\":\"scattergl\",\"marker\":{\"colorbar\":{\"outlinewidth\":0,\"ticks\":\"\"}}}],\"scatter3d\":[{\"type\":\"scatter3d\",\"line\":{\"colorbar\":{\"outlinewidth\":0,\"ticks\":\"\"}},\"marker\":{\"colorbar\":{\"outlinewidth\":0,\"ticks\":\"\"}}}],\"scattermapbox\":[{\"type\":\"scattermapbox\",\"marker\":{\"colorbar\":{\"outlinewidth\":0,\"ticks\":\"\"}}}],\"scatterternary\":[{\"type\":\"scatterternary\",\"marker\":{\"colorbar\":{\"outlinewidth\":0,\"ticks\":\"\"}}}],\"scattercarpet\":[{\"type\":\"scattercarpet\",\"marker\":{\"colorbar\":{\"outlinewidth\":0,\"ticks\":\"\"}}}],\"carpet\":[{\"aaxis\":{\"endlinecolor\":\"#2a3f5f\",\"gridcolor\":\"white\",\"linecolor\":\"white\",\"minorgridcolor\":\"white\",\"startlinecolor\":\"#2a3f5f\"},\"baxis\":{\"endlinecolor\":\"#2a3f5f\",\"gridcolor\":\"white\",\"linecolor\":\"white\",\"minorgridcolor\":\"white\",\"startlinecolor\":\"#2a3f5f\"},\"type\":\"carpet\"}],\"table\":[{\"cells\":{\"fill\":{\"color\":\"#EBF0F8\"},\"line\":{\"color\":\"white\"}},\"header\":{\"fill\":{\"color\":\"#C8D4E3\"},\"line\":{\"color\":\"white\"}},\"type\":\"table\"}],\"barpolar\":[{\"marker\":{\"line\":{\"color\":\"#E5ECF6\",\"width\":0.5},\"pattern\":{\"fillmode\":\"overlay\",\"size\":10,\"solidity\":0.2}},\"type\":\"barpolar\"}],\"pie\":[{\"automargin\":true,\"type\":\"pie\"}]},\"layout\":{\"autotypenumbers\":\"strict\",\"colorway\":[\"#636efa\",\"#EF553B\",\"#00cc96\",\"#ab63fa\",\"#FFA15A\",\"#19d3f3\",\"#FF6692\",\"#B6E880\",\"#FF97FF\",\"#FECB52\"],\"font\":{\"color\":\"#2a3f5f\"},\"hovermode\":\"closest\",\"hoverlabel\":{\"align\":\"left\"},\"paper_bgcolor\":\"white\",\"plot_bgcolor\":\"#E5ECF6\",\"polar\":{\"bgcolor\":\"#E5ECF6\",\"angularaxis\":{\"gridcolor\":\"white\",\"linecolor\":\"white\",\"ticks\":\"\"},\"radialaxis\":{\"gridcolor\":\"white\",\"linecolor\":\"white\",\"ticks\":\"\"}},\"ternary\":{\"bgcolor\":\"#E5ECF6\",\"aaxis\":{\"gridcolor\":\"white\",\"linecolor\":\"white\",\"ticks\":\"\"},\"baxis\":{\"gridcolor\":\"white\",\"linecolor\":\"white\",\"ticks\":\"\"},\"caxis\":{\"gridcolor\":\"white\",\"linecolor\":\"white\",\"ticks\":\"\"}},\"coloraxis\":{\"colorbar\":{\"outlinewidth\":0,\"ticks\":\"\"}},\"colorscale\":{\"sequential\":[[0.0,\"#0d0887\"],[0.1111111111111111,\"#46039f\"],[0.2222222222222222,\"#7201a8\"],[0.3333333333333333,\"#9c179e\"],[0.4444444444444444,\"#bd3786\"],[0.5555555555555556,\"#d8576b\"],[0.6666666666666666,\"#ed7953\"],[0.7777777777777778,\"#fb9f3a\"],[0.8888888888888888,\"#fdca26\"],[1.0,\"#f0f921\"]],\"sequentialminus\":[[0.0,\"#0d0887\"],[0.1111111111111111,\"#46039f\"],[0.2222222222222222,\"#7201a8\"],[0.3333333333333333,\"#9c179e\"],[0.4444444444444444,\"#bd3786\"],[0.5555555555555556,\"#d8576b\"],[0.6666666666666666,\"#ed7953\"],[0.7777777777777778,\"#fb9f3a\"],[0.8888888888888888,\"#fdca26\"],[1.0,\"#f0f921\"]],\"diverging\":[[0,\"#8e0152\"],[0.1,\"#c51b7d\"],[0.2,\"#de77ae\"],[0.3,\"#f1b6da\"],[0.4,\"#fde0ef\"],[0.5,\"#f7f7f7\"],[0.6,\"#e6f5d0\"],[0.7,\"#b8e186\"],[0.8,\"#7fbc41\"],[0.9,\"#4d9221\"],[1,\"#276419\"]]},\"xaxis\":{\"gridcolor\":\"white\",\"linecolor\":\"white\",\"ticks\":\"\",\"title\":{\"standoff\":15},\"zerolinecolor\":\"white\",\"automargin\":true,\"zerolinewidth\":2},\"yaxis\":{\"gridcolor\":\"white\",\"linecolor\":\"white\",\"ticks\":\"\",\"title\":{\"standoff\":15},\"zerolinecolor\":\"white\",\"automargin\":true,\"zerolinewidth\":2},\"scene\":{\"xaxis\":{\"backgroundcolor\":\"#E5ECF6\",\"gridcolor\":\"white\",\"linecolor\":\"white\",\"showbackground\":true,\"ticks\":\"\",\"zerolinecolor\":\"white\",\"gridwidth\":2},\"yaxis\":{\"backgroundcolor\":\"#E5ECF6\",\"gridcolor\":\"white\",\"linecolor\":\"white\",\"showbackground\":true,\"ticks\":\"\",\"zerolinecolor\":\"white\",\"gridwidth\":2},\"zaxis\":{\"backgroundcolor\":\"#E5ECF6\",\"gridcolor\":\"white\",\"linecolor\":\"white\",\"showbackground\":true,\"ticks\":\"\",\"zerolinecolor\":\"white\",\"gridwidth\":2}},\"shapedefaults\":{\"line\":{\"color\":\"#2a3f5f\"}},\"annotationdefaults\":{\"arrowcolor\":\"#2a3f5f\",\"arrowhead\":0,\"arrowwidth\":1},\"geo\":{\"bgcolor\":\"white\",\"landcolor\":\"#E5ECF6\",\"subunitcolor\":\"white\",\"showland\":true,\"showlakes\":true,\"lakecolor\":\"white\"},\"title\":{\"x\":0.05},\"mapbox\":{\"style\":\"light\"}}},\"xaxis\":{\"anchor\":\"y\",\"domain\":[0.0,0.15],\"title\":{\"text\":\"Elapsed Time [hr]\"}},\"yaxis\":{\"anchor\":\"x\",\"domain\":[0.0,1.0],\"title\":{\"text\":\"OD600 (mean)\"}},\"xaxis2\":{\"anchor\":\"y2\",\"domain\":[0.16999999999999998,0.31999999999999995],\"matches\":\"x\",\"title\":{\"text\":\"\"}},\"yaxis2\":{\"anchor\":\"x2\",\"domain\":[0.0,1.0],\"matches\":\"y\",\"showticklabels\":false},\"xaxis3\":{\"anchor\":\"y3\",\"domain\":[0.33999999999999997,0.49],\"matches\":\"x\",\"title\":{\"text\":\"\"}},\"yaxis3\":{\"anchor\":\"x3\",\"domain\":[0.0,1.0],\"matches\":\"y\",\"showticklabels\":false},\"xaxis4\":{\"anchor\":\"y4\",\"domain\":[0.51,0.66],\"matches\":\"x\",\"title\":{\"text\":\"\"}},\"yaxis4\":{\"anchor\":\"x4\",\"domain\":[0.0,1.0],\"matches\":\"y\",\"showticklabels\":false},\"xaxis5\":{\"anchor\":\"y5\",\"domain\":[0.6799999999999999,0.83],\"matches\":\"x\",\"title\":{\"text\":\"\"}},\"yaxis5\":{\"anchor\":\"x5\",\"domain\":[0.0,1.0],\"matches\":\"y\",\"showticklabels\":false},\"xaxis6\":{\"anchor\":\"y6\",\"domain\":[0.85,1.0],\"matches\":\"x\",\"title\":{\"text\":\"\"}},\"yaxis6\":{\"anchor\":\"x6\",\"domain\":[0.0,1.0],\"matches\":\"y\",\"showticklabels\":false},\"annotations\":[{\"font\":{},\"showarrow\":false,\"text\":\"[Arg] \\u00b5M=0\",\"x\":0.075,\"xanchor\":\"center\",\"xref\":\"paper\",\"y\":1.0,\"yanchor\":\"bottom\",\"yref\":\"paper\"},{\"font\":{},\"showarrow\":false,\"text\":\"[Arg] \\u00b5M=50\",\"x\":0.24499999999999997,\"xanchor\":\"center\",\"xref\":\"paper\",\"y\":1.0,\"yanchor\":\"bottom\",\"yref\":\"paper\"},{\"font\":{},\"showarrow\":false,\"text\":\"[Arg] \\u00b5M=100\",\"x\":0.415,\"xanchor\":\"center\",\"xref\":\"paper\",\"y\":1.0,\"yanchor\":\"bottom\",\"yref\":\"paper\"},{\"font\":{},\"showarrow\":false,\"text\":\"[Arg] \\u00b5M=400\",\"x\":0.585,\"xanchor\":\"center\",\"xref\":\"paper\",\"y\":1.0,\"yanchor\":\"bottom\",\"yref\":\"paper\"},{\"font\":{},\"showarrow\":false,\"text\":\"[Arg] \\u00b5M=700\",\"x\":0.7549999999999999,\"xanchor\":\"center\",\"xref\":\"paper\",\"y\":1.0,\"yanchor\":\"bottom\",\"yref\":\"paper\"},{\"font\":{},\"showarrow\":false,\"text\":\"[Arg] \\u00b5M=1000\",\"x\":0.925,\"xanchor\":\"center\",\"xref\":\"paper\",\"y\":1.0,\"yanchor\":\"bottom\",\"yref\":\"paper\"}],\"legend\":{\"title\":{\"text\":\"ADP1 strain\"},\"tracegroupgap\":0},\"margin\":{\"t\":60},\"barmode\":\"group\",\"title\":{\"text\":\"OD ADP1 | KSF107 \\u2206argB (\\u2206cphAI, \\u2206astA, \\u2206argB), KSF111 \\u2206argB (\\u2206cphAI, \\u2206argR, \\u2206argB, \\u2206astA) | growth in dosed Arg after preculture and wash\",\"x\":0.5},\"showlegend\":true,\"boxmode\":\"group\",\"boxgap\":0.8,\"boxgroupgap\":0,\"height\":500},                        {\"responsive\": true}                    ).then(function(){\n",
       "                            \n",
       "var gd = document.getElementById('142c5841-aec8-45fe-a64e-ffda3c01d580');\n",
       "var x = new MutationObserver(function (mutations, observer) {{\n",
       "        var display = window.getComputedStyle(gd).display;\n",
       "        if (!display || display === 'none') {{\n",
       "            console.log([gd, 'removed!']);\n",
       "            Plotly.purge(gd);\n",
       "            observer.disconnect();\n",
       "        }}\n",
       "}});\n",
       "\n",
       "// Listen for the removal of the full notebook cells\n",
       "var notebookContainer = gd.closest('#notebook-container');\n",
       "if (notebookContainer) {{\n",
       "    x.observe(notebookContainer, {childList: true});\n",
       "}}\n",
       "\n",
       "// Listen for the clearing of the current output cell\n",
       "var outputEl = gd.closest('.output');\n",
       "if (outputEl) {{\n",
       "    x.observe(outputEl, {childList: true});\n",
       "}}\n",
       "\n",
       "                        })                };                });            </script>        </div>"
      ]
     },
     "metadata": {},
     "output_type": "display_data"
    }
   ],
   "execution_count": 35
  },
  {
   "metadata": {
    "ExecuteTime": {
     "end_time": "2024-11-19T21:30:02.842124Z",
     "start_time": "2024-11-19T21:30:02.822962Z"
    }
   },
   "cell_type": "code",
   "source": [
    "# let's get the starting OD600 values (we are after the OD600 deltas)\n",
    "df_od_init = df_od_mean_sem.loc[lambda df: df.elapsed_time_hr == 0].groupby(\n",
    "    ['strain_id', 'arg_conc_uM']\n",
    ").agg(od_init=pd.NamedAgg('od_mean', 'first'))\n",
    "\n",
    "df_od_final = df_od_mean_sem.groupby(\n",
    "    ['strain_id', 'arg_conc_uM']\n",
    ").agg(od_final=pd.NamedAgg('od_mean', 'max'))\n",
    "\n",
    "# concatenate the two series\n",
    "df_od_delta = pd.concat([df_od_init, df_od_final], axis='columns').assign(\n",
    "    od_delta=lambda df: df.od_final - df.od_init,\n",
    "    od_fold_change=lambda df: df.od_final / df.od_init,\n",
    ")\n",
    "\n",
    "# let's subtract the background ODs\n",
    "df_od_bg = df_od_delta.loc[pd.IndexSlice[:, 0], ['od_delta']].droplevel('arg_conc_uM')\n",
    "df_od_delta = df_od_delta.join(df_od_bg, on='strain_id', rsuffix='_bg').assign(\n",
    "    od_delta_no_bg=lambda df: df.od_delta - df.od_delta_bg,\n",
    "    od_fold_change_no_bg=lambda df: (df.od_init + df.od_delta_no_bg) / df.od_init,\n",
    ").reset_index()\n",
    "# df_od_delta"
   ],
   "id": "57bbb58cab30848a",
   "outputs": [],
   "execution_count": 36
  },
  {
   "metadata": {
    "ExecuteTime": {
     "end_time": "2024-11-19T21:30:03.458569Z",
     "start_time": "2024-11-19T21:30:03.453921Z"
    }
   },
   "cell_type": "code",
   "source": [
    "df_od_delta_theoretical = pd.DataFrame(data=dict(arg_conc_uM=[0, 50])).assign(\n",
    "    od=lambda df: df.arg_conc_uM * au.YIELD_OD600_FROM_X_ARG_M * 1e-6,\n",
    ")\n",
    "# df_od_delta_theoretical"
   ],
   "id": "3ae1773bd1b430c7",
   "outputs": [],
   "execution_count": 37
  },
  {
   "metadata": {
    "ExecuteTime": {
     "end_time": "2024-11-19T21:30:03.854110Z",
     "start_time": "2024-11-19T21:30:03.827330Z"
    }
   },
   "cell_type": "code",
   "source": [
    "px.bar(\n",
    "    df_od_delta,\n",
    "    x='arg_conc_uM',\n",
    "    y=unp.nominal_values(df_od_delta.od_delta_no_bg),\n",
    "    error_y=unp.std_devs(df_od_delta.od_delta_no_bg),\n",
    "    color='strain_id',\n",
    "    barmode='group',\n",
    "    labels={\n",
    "        'arg_conc_uM': '[Arg] µM',\n",
    "        'y': '∆OD600 (sans starting and background OD)',\n",
    "        'strain_id': 'ADP1 strain',\n",
    "        'elapsed_time_hr': 'Elapsed Time (hr)',\n",
    "    },\n",
    ").update_layout(\n",
    "    title=f'∆OD600 ADP1 | {au.fmt_strains(meta[\"strains\"])}',\n",
    "    title_x=0.5,\n",
    "    showlegend=True,\n",
    "    boxgap=1,  # Gap between boxes in the same group (0.5 makes them narrower)\n",
    "    boxgroupgap=0,  # Gap between different groups of boxes,\n",
    ")"
   ],
   "id": "b641b6a0656a50c1",
   "outputs": [
    {
     "data": {
      "application/vnd.plotly.v1+json": {
       "data": [
        {
         "alignmentgroup": "True",
         "error_y": {
          "array": [
           0.0,
           0.08058673726006171,
           0.07623355924758826,
           0.18441499095488117,
           0.21889012972011532,
           0.18938027587076986
          ]
         },
         "hovertemplate": "ADP1 strain=KSF107 ∆argB<br>[Arg] µM=%{x}<br>∆OD600 (sans starting and background OD)=%{y}<extra></extra>",
         "legendgroup": "KSF107 ∆argB",
         "marker": {
          "color": "#636efa",
          "pattern": {
           "shape": ""
          }
         },
         "name": "KSF107 ∆argB",
         "offsetgroup": "KSF107 ∆argB",
         "orientation": "v",
         "showlegend": true,
         "textposition": "auto",
         "x": [
          0,
          50,
          100,
          400,
          700,
          1000
         ],
         "xaxis": "x",
         "y": [
          0.0,
          0.17333333333333345,
          0.11199999999999988,
          -0.03866666666666674,
          0.08133333333333337,
          -0.09066666666666667
         ],
         "yaxis": "y",
         "type": "bar"
        },
        {
         "alignmentgroup": "True",
         "error_y": {
          "array": [
           0.0,
           0.11734848387033668,
           0.20222759455623263,
           0.19068997526526316,
           0.12220201853215575,
           0.24787810624489526
          ]
         },
         "hovertemplate": "ADP1 strain=KSF111 ∆argB<br>[Arg] µM=%{x}<br>∆OD600 (sans starting and background OD)=%{y}<extra></extra>",
         "legendgroup": "KSF111 ∆argB",
         "marker": {
          "color": "#EF553B",
          "pattern": {
           "shape": ""
          }
         },
         "name": "KSF111 ∆argB",
         "offsetgroup": "KSF111 ∆argB",
         "orientation": "v",
         "showlegend": true,
         "textposition": "auto",
         "x": [
          0,
          50,
          100,
          400,
          700,
          1000
         ],
         "xaxis": "x",
         "y": [
          0.0,
          0.30666666666666687,
          0.30266666666666675,
          0.3626666666666666,
          0.41066666666666674,
          0.3240000000000002
         ],
         "yaxis": "y",
         "type": "bar"
        }
       ],
       "layout": {
        "template": {
         "data": {
          "histogram2dcontour": [
           {
            "type": "histogram2dcontour",
            "colorbar": {
             "outlinewidth": 0,
             "ticks": ""
            },
            "colorscale": [
             [
              0.0,
              "#0d0887"
             ],
             [
              0.1111111111111111,
              "#46039f"
             ],
             [
              0.2222222222222222,
              "#7201a8"
             ],
             [
              0.3333333333333333,
              "#9c179e"
             ],
             [
              0.4444444444444444,
              "#bd3786"
             ],
             [
              0.5555555555555556,
              "#d8576b"
             ],
             [
              0.6666666666666666,
              "#ed7953"
             ],
             [
              0.7777777777777778,
              "#fb9f3a"
             ],
             [
              0.8888888888888888,
              "#fdca26"
             ],
             [
              1.0,
              "#f0f921"
             ]
            ]
           }
          ],
          "choropleth": [
           {
            "type": "choropleth",
            "colorbar": {
             "outlinewidth": 0,
             "ticks": ""
            }
           }
          ],
          "histogram2d": [
           {
            "type": "histogram2d",
            "colorbar": {
             "outlinewidth": 0,
             "ticks": ""
            },
            "colorscale": [
             [
              0.0,
              "#0d0887"
             ],
             [
              0.1111111111111111,
              "#46039f"
             ],
             [
              0.2222222222222222,
              "#7201a8"
             ],
             [
              0.3333333333333333,
              "#9c179e"
             ],
             [
              0.4444444444444444,
              "#bd3786"
             ],
             [
              0.5555555555555556,
              "#d8576b"
             ],
             [
              0.6666666666666666,
              "#ed7953"
             ],
             [
              0.7777777777777778,
              "#fb9f3a"
             ],
             [
              0.8888888888888888,
              "#fdca26"
             ],
             [
              1.0,
              "#f0f921"
             ]
            ]
           }
          ],
          "heatmap": [
           {
            "type": "heatmap",
            "colorbar": {
             "outlinewidth": 0,
             "ticks": ""
            },
            "colorscale": [
             [
              0.0,
              "#0d0887"
             ],
             [
              0.1111111111111111,
              "#46039f"
             ],
             [
              0.2222222222222222,
              "#7201a8"
             ],
             [
              0.3333333333333333,
              "#9c179e"
             ],
             [
              0.4444444444444444,
              "#bd3786"
             ],
             [
              0.5555555555555556,
              "#d8576b"
             ],
             [
              0.6666666666666666,
              "#ed7953"
             ],
             [
              0.7777777777777778,
              "#fb9f3a"
             ],
             [
              0.8888888888888888,
              "#fdca26"
             ],
             [
              1.0,
              "#f0f921"
             ]
            ]
           }
          ],
          "heatmapgl": [
           {
            "type": "heatmapgl",
            "colorbar": {
             "outlinewidth": 0,
             "ticks": ""
            },
            "colorscale": [
             [
              0.0,
              "#0d0887"
             ],
             [
              0.1111111111111111,
              "#46039f"
             ],
             [
              0.2222222222222222,
              "#7201a8"
             ],
             [
              0.3333333333333333,
              "#9c179e"
             ],
             [
              0.4444444444444444,
              "#bd3786"
             ],
             [
              0.5555555555555556,
              "#d8576b"
             ],
             [
              0.6666666666666666,
              "#ed7953"
             ],
             [
              0.7777777777777778,
              "#fb9f3a"
             ],
             [
              0.8888888888888888,
              "#fdca26"
             ],
             [
              1.0,
              "#f0f921"
             ]
            ]
           }
          ],
          "contourcarpet": [
           {
            "type": "contourcarpet",
            "colorbar": {
             "outlinewidth": 0,
             "ticks": ""
            }
           }
          ],
          "contour": [
           {
            "type": "contour",
            "colorbar": {
             "outlinewidth": 0,
             "ticks": ""
            },
            "colorscale": [
             [
              0.0,
              "#0d0887"
             ],
             [
              0.1111111111111111,
              "#46039f"
             ],
             [
              0.2222222222222222,
              "#7201a8"
             ],
             [
              0.3333333333333333,
              "#9c179e"
             ],
             [
              0.4444444444444444,
              "#bd3786"
             ],
             [
              0.5555555555555556,
              "#d8576b"
             ],
             [
              0.6666666666666666,
              "#ed7953"
             ],
             [
              0.7777777777777778,
              "#fb9f3a"
             ],
             [
              0.8888888888888888,
              "#fdca26"
             ],
             [
              1.0,
              "#f0f921"
             ]
            ]
           }
          ],
          "surface": [
           {
            "type": "surface",
            "colorbar": {
             "outlinewidth": 0,
             "ticks": ""
            },
            "colorscale": [
             [
              0.0,
              "#0d0887"
             ],
             [
              0.1111111111111111,
              "#46039f"
             ],
             [
              0.2222222222222222,
              "#7201a8"
             ],
             [
              0.3333333333333333,
              "#9c179e"
             ],
             [
              0.4444444444444444,
              "#bd3786"
             ],
             [
              0.5555555555555556,
              "#d8576b"
             ],
             [
              0.6666666666666666,
              "#ed7953"
             ],
             [
              0.7777777777777778,
              "#fb9f3a"
             ],
             [
              0.8888888888888888,
              "#fdca26"
             ],
             [
              1.0,
              "#f0f921"
             ]
            ]
           }
          ],
          "mesh3d": [
           {
            "type": "mesh3d",
            "colorbar": {
             "outlinewidth": 0,
             "ticks": ""
            }
           }
          ],
          "scatter": [
           {
            "fillpattern": {
             "fillmode": "overlay",
             "size": 10,
             "solidity": 0.2
            },
            "type": "scatter"
           }
          ],
          "parcoords": [
           {
            "type": "parcoords",
            "line": {
             "colorbar": {
              "outlinewidth": 0,
              "ticks": ""
             }
            }
           }
          ],
          "scatterpolargl": [
           {
            "type": "scatterpolargl",
            "marker": {
             "colorbar": {
              "outlinewidth": 0,
              "ticks": ""
             }
            }
           }
          ],
          "bar": [
           {
            "error_x": {
             "color": "#2a3f5f"
            },
            "error_y": {
             "color": "#2a3f5f"
            },
            "marker": {
             "line": {
              "color": "#E5ECF6",
              "width": 0.5
             },
             "pattern": {
              "fillmode": "overlay",
              "size": 10,
              "solidity": 0.2
             }
            },
            "type": "bar"
           }
          ],
          "scattergeo": [
           {
            "type": "scattergeo",
            "marker": {
             "colorbar": {
              "outlinewidth": 0,
              "ticks": ""
             }
            }
           }
          ],
          "scatterpolar": [
           {
            "type": "scatterpolar",
            "marker": {
             "colorbar": {
              "outlinewidth": 0,
              "ticks": ""
             }
            }
           }
          ],
          "histogram": [
           {
            "marker": {
             "pattern": {
              "fillmode": "overlay",
              "size": 10,
              "solidity": 0.2
             }
            },
            "type": "histogram"
           }
          ],
          "scattergl": [
           {
            "type": "scattergl",
            "marker": {
             "colorbar": {
              "outlinewidth": 0,
              "ticks": ""
             }
            }
           }
          ],
          "scatter3d": [
           {
            "type": "scatter3d",
            "line": {
             "colorbar": {
              "outlinewidth": 0,
              "ticks": ""
             }
            },
            "marker": {
             "colorbar": {
              "outlinewidth": 0,
              "ticks": ""
             }
            }
           }
          ],
          "scattermapbox": [
           {
            "type": "scattermapbox",
            "marker": {
             "colorbar": {
              "outlinewidth": 0,
              "ticks": ""
             }
            }
           }
          ],
          "scatterternary": [
           {
            "type": "scatterternary",
            "marker": {
             "colorbar": {
              "outlinewidth": 0,
              "ticks": ""
             }
            }
           }
          ],
          "scattercarpet": [
           {
            "type": "scattercarpet",
            "marker": {
             "colorbar": {
              "outlinewidth": 0,
              "ticks": ""
             }
            }
           }
          ],
          "carpet": [
           {
            "aaxis": {
             "endlinecolor": "#2a3f5f",
             "gridcolor": "white",
             "linecolor": "white",
             "minorgridcolor": "white",
             "startlinecolor": "#2a3f5f"
            },
            "baxis": {
             "endlinecolor": "#2a3f5f",
             "gridcolor": "white",
             "linecolor": "white",
             "minorgridcolor": "white",
             "startlinecolor": "#2a3f5f"
            },
            "type": "carpet"
           }
          ],
          "table": [
           {
            "cells": {
             "fill": {
              "color": "#EBF0F8"
             },
             "line": {
              "color": "white"
             }
            },
            "header": {
             "fill": {
              "color": "#C8D4E3"
             },
             "line": {
              "color": "white"
             }
            },
            "type": "table"
           }
          ],
          "barpolar": [
           {
            "marker": {
             "line": {
              "color": "#E5ECF6",
              "width": 0.5
             },
             "pattern": {
              "fillmode": "overlay",
              "size": 10,
              "solidity": 0.2
             }
            },
            "type": "barpolar"
           }
          ],
          "pie": [
           {
            "automargin": true,
            "type": "pie"
           }
          ]
         },
         "layout": {
          "autotypenumbers": "strict",
          "colorway": [
           "#636efa",
           "#EF553B",
           "#00cc96",
           "#ab63fa",
           "#FFA15A",
           "#19d3f3",
           "#FF6692",
           "#B6E880",
           "#FF97FF",
           "#FECB52"
          ],
          "font": {
           "color": "#2a3f5f"
          },
          "hovermode": "closest",
          "hoverlabel": {
           "align": "left"
          },
          "paper_bgcolor": "white",
          "plot_bgcolor": "#E5ECF6",
          "polar": {
           "bgcolor": "#E5ECF6",
           "angularaxis": {
            "gridcolor": "white",
            "linecolor": "white",
            "ticks": ""
           },
           "radialaxis": {
            "gridcolor": "white",
            "linecolor": "white",
            "ticks": ""
           }
          },
          "ternary": {
           "bgcolor": "#E5ECF6",
           "aaxis": {
            "gridcolor": "white",
            "linecolor": "white",
            "ticks": ""
           },
           "baxis": {
            "gridcolor": "white",
            "linecolor": "white",
            "ticks": ""
           },
           "caxis": {
            "gridcolor": "white",
            "linecolor": "white",
            "ticks": ""
           }
          },
          "coloraxis": {
           "colorbar": {
            "outlinewidth": 0,
            "ticks": ""
           }
          },
          "colorscale": {
           "sequential": [
            [
             0.0,
             "#0d0887"
            ],
            [
             0.1111111111111111,
             "#46039f"
            ],
            [
             0.2222222222222222,
             "#7201a8"
            ],
            [
             0.3333333333333333,
             "#9c179e"
            ],
            [
             0.4444444444444444,
             "#bd3786"
            ],
            [
             0.5555555555555556,
             "#d8576b"
            ],
            [
             0.6666666666666666,
             "#ed7953"
            ],
            [
             0.7777777777777778,
             "#fb9f3a"
            ],
            [
             0.8888888888888888,
             "#fdca26"
            ],
            [
             1.0,
             "#f0f921"
            ]
           ],
           "sequentialminus": [
            [
             0.0,
             "#0d0887"
            ],
            [
             0.1111111111111111,
             "#46039f"
            ],
            [
             0.2222222222222222,
             "#7201a8"
            ],
            [
             0.3333333333333333,
             "#9c179e"
            ],
            [
             0.4444444444444444,
             "#bd3786"
            ],
            [
             0.5555555555555556,
             "#d8576b"
            ],
            [
             0.6666666666666666,
             "#ed7953"
            ],
            [
             0.7777777777777778,
             "#fb9f3a"
            ],
            [
             0.8888888888888888,
             "#fdca26"
            ],
            [
             1.0,
             "#f0f921"
            ]
           ],
           "diverging": [
            [
             0,
             "#8e0152"
            ],
            [
             0.1,
             "#c51b7d"
            ],
            [
             0.2,
             "#de77ae"
            ],
            [
             0.3,
             "#f1b6da"
            ],
            [
             0.4,
             "#fde0ef"
            ],
            [
             0.5,
             "#f7f7f7"
            ],
            [
             0.6,
             "#e6f5d0"
            ],
            [
             0.7,
             "#b8e186"
            ],
            [
             0.8,
             "#7fbc41"
            ],
            [
             0.9,
             "#4d9221"
            ],
            [
             1,
             "#276419"
            ]
           ]
          },
          "xaxis": {
           "gridcolor": "white",
           "linecolor": "white",
           "ticks": "",
           "title": {
            "standoff": 15
           },
           "zerolinecolor": "white",
           "automargin": true,
           "zerolinewidth": 2
          },
          "yaxis": {
           "gridcolor": "white",
           "linecolor": "white",
           "ticks": "",
           "title": {
            "standoff": 15
           },
           "zerolinecolor": "white",
           "automargin": true,
           "zerolinewidth": 2
          },
          "scene": {
           "xaxis": {
            "backgroundcolor": "#E5ECF6",
            "gridcolor": "white",
            "linecolor": "white",
            "showbackground": true,
            "ticks": "",
            "zerolinecolor": "white",
            "gridwidth": 2
           },
           "yaxis": {
            "backgroundcolor": "#E5ECF6",
            "gridcolor": "white",
            "linecolor": "white",
            "showbackground": true,
            "ticks": "",
            "zerolinecolor": "white",
            "gridwidth": 2
           },
           "zaxis": {
            "backgroundcolor": "#E5ECF6",
            "gridcolor": "white",
            "linecolor": "white",
            "showbackground": true,
            "ticks": "",
            "zerolinecolor": "white",
            "gridwidth": 2
           }
          },
          "shapedefaults": {
           "line": {
            "color": "#2a3f5f"
           }
          },
          "annotationdefaults": {
           "arrowcolor": "#2a3f5f",
           "arrowhead": 0,
           "arrowwidth": 1
          },
          "geo": {
           "bgcolor": "white",
           "landcolor": "#E5ECF6",
           "subunitcolor": "white",
           "showland": true,
           "showlakes": true,
           "lakecolor": "white"
          },
          "title": {
           "x": 0.05
          },
          "mapbox": {
           "style": "light"
          }
         }
        },
        "xaxis": {
         "anchor": "y",
         "domain": [
          0.0,
          1.0
         ],
         "title": {
          "text": "[Arg] µM"
         }
        },
        "yaxis": {
         "anchor": "x",
         "domain": [
          0.0,
          1.0
         ],
         "title": {
          "text": "∆OD600 (sans starting and background OD)"
         }
        },
        "legend": {
         "title": {
          "text": "ADP1 strain"
         },
         "tracegroupgap": 0
        },
        "margin": {
         "t": 60
        },
        "barmode": "group",
        "title": {
         "text": "∆OD600 ADP1 | KSF107 ∆argB (∆cphAI, ∆astA, ∆argB), KSF111 ∆argB (∆cphAI, ∆argR, ∆argB, ∆astA)",
         "x": 0.5
        },
        "showlegend": true,
        "boxgap": 1,
        "boxgroupgap": 0
       },
       "config": {
        "plotlyServerURL": "https://plot.ly"
       }
      },
      "text/html": [
       "<div>                            <div id=\"94b88602-74c4-428f-9ab5-5dd21a8b8423\" class=\"plotly-graph-div\" style=\"height:525px; width:100%;\"></div>            <script type=\"text/javascript\">                require([\"plotly\"], function(Plotly) {                    window.PLOTLYENV=window.PLOTLYENV || {};                                    if (document.getElementById(\"94b88602-74c4-428f-9ab5-5dd21a8b8423\")) {                    Plotly.newPlot(                        \"94b88602-74c4-428f-9ab5-5dd21a8b8423\",                        [{\"alignmentgroup\":\"True\",\"error_y\":{\"array\":[0.0,0.08058673726006171,0.07623355924758826,0.18441499095488117,0.21889012972011532,0.18938027587076986]},\"hovertemplate\":\"ADP1 strain=KSF107 \\u2206argB\\u003cbr\\u003e[Arg] \\u00b5M=%{x}\\u003cbr\\u003e\\u2206OD600 (sans starting and background OD)=%{y}\\u003cextra\\u003e\\u003c\\u002fextra\\u003e\",\"legendgroup\":\"KSF107 \\u2206argB\",\"marker\":{\"color\":\"#636efa\",\"pattern\":{\"shape\":\"\"}},\"name\":\"KSF107 \\u2206argB\",\"offsetgroup\":\"KSF107 \\u2206argB\",\"orientation\":\"v\",\"showlegend\":true,\"textposition\":\"auto\",\"x\":[0,50,100,400,700,1000],\"xaxis\":\"x\",\"y\":[0.0,0.17333333333333345,0.11199999999999988,-0.03866666666666674,0.08133333333333337,-0.09066666666666667],\"yaxis\":\"y\",\"type\":\"bar\"},{\"alignmentgroup\":\"True\",\"error_y\":{\"array\":[0.0,0.11734848387033668,0.20222759455623263,0.19068997526526316,0.12220201853215575,0.24787810624489526]},\"hovertemplate\":\"ADP1 strain=KSF111 \\u2206argB\\u003cbr\\u003e[Arg] \\u00b5M=%{x}\\u003cbr\\u003e\\u2206OD600 (sans starting and background OD)=%{y}\\u003cextra\\u003e\\u003c\\u002fextra\\u003e\",\"legendgroup\":\"KSF111 \\u2206argB\",\"marker\":{\"color\":\"#EF553B\",\"pattern\":{\"shape\":\"\"}},\"name\":\"KSF111 \\u2206argB\",\"offsetgroup\":\"KSF111 \\u2206argB\",\"orientation\":\"v\",\"showlegend\":true,\"textposition\":\"auto\",\"x\":[0,50,100,400,700,1000],\"xaxis\":\"x\",\"y\":[0.0,0.30666666666666687,0.30266666666666675,0.3626666666666666,0.41066666666666674,0.3240000000000002],\"yaxis\":\"y\",\"type\":\"bar\"}],                        {\"template\":{\"data\":{\"histogram2dcontour\":[{\"type\":\"histogram2dcontour\",\"colorbar\":{\"outlinewidth\":0,\"ticks\":\"\"},\"colorscale\":[[0.0,\"#0d0887\"],[0.1111111111111111,\"#46039f\"],[0.2222222222222222,\"#7201a8\"],[0.3333333333333333,\"#9c179e\"],[0.4444444444444444,\"#bd3786\"],[0.5555555555555556,\"#d8576b\"],[0.6666666666666666,\"#ed7953\"],[0.7777777777777778,\"#fb9f3a\"],[0.8888888888888888,\"#fdca26\"],[1.0,\"#f0f921\"]]}],\"choropleth\":[{\"type\":\"choropleth\",\"colorbar\":{\"outlinewidth\":0,\"ticks\":\"\"}}],\"histogram2d\":[{\"type\":\"histogram2d\",\"colorbar\":{\"outlinewidth\":0,\"ticks\":\"\"},\"colorscale\":[[0.0,\"#0d0887\"],[0.1111111111111111,\"#46039f\"],[0.2222222222222222,\"#7201a8\"],[0.3333333333333333,\"#9c179e\"],[0.4444444444444444,\"#bd3786\"],[0.5555555555555556,\"#d8576b\"],[0.6666666666666666,\"#ed7953\"],[0.7777777777777778,\"#fb9f3a\"],[0.8888888888888888,\"#fdca26\"],[1.0,\"#f0f921\"]]}],\"heatmap\":[{\"type\":\"heatmap\",\"colorbar\":{\"outlinewidth\":0,\"ticks\":\"\"},\"colorscale\":[[0.0,\"#0d0887\"],[0.1111111111111111,\"#46039f\"],[0.2222222222222222,\"#7201a8\"],[0.3333333333333333,\"#9c179e\"],[0.4444444444444444,\"#bd3786\"],[0.5555555555555556,\"#d8576b\"],[0.6666666666666666,\"#ed7953\"],[0.7777777777777778,\"#fb9f3a\"],[0.8888888888888888,\"#fdca26\"],[1.0,\"#f0f921\"]]}],\"heatmapgl\":[{\"type\":\"heatmapgl\",\"colorbar\":{\"outlinewidth\":0,\"ticks\":\"\"},\"colorscale\":[[0.0,\"#0d0887\"],[0.1111111111111111,\"#46039f\"],[0.2222222222222222,\"#7201a8\"],[0.3333333333333333,\"#9c179e\"],[0.4444444444444444,\"#bd3786\"],[0.5555555555555556,\"#d8576b\"],[0.6666666666666666,\"#ed7953\"],[0.7777777777777778,\"#fb9f3a\"],[0.8888888888888888,\"#fdca26\"],[1.0,\"#f0f921\"]]}],\"contourcarpet\":[{\"type\":\"contourcarpet\",\"colorbar\":{\"outlinewidth\":0,\"ticks\":\"\"}}],\"contour\":[{\"type\":\"contour\",\"colorbar\":{\"outlinewidth\":0,\"ticks\":\"\"},\"colorscale\":[[0.0,\"#0d0887\"],[0.1111111111111111,\"#46039f\"],[0.2222222222222222,\"#7201a8\"],[0.3333333333333333,\"#9c179e\"],[0.4444444444444444,\"#bd3786\"],[0.5555555555555556,\"#d8576b\"],[0.6666666666666666,\"#ed7953\"],[0.7777777777777778,\"#fb9f3a\"],[0.8888888888888888,\"#fdca26\"],[1.0,\"#f0f921\"]]}],\"surface\":[{\"type\":\"surface\",\"colorbar\":{\"outlinewidth\":0,\"ticks\":\"\"},\"colorscale\":[[0.0,\"#0d0887\"],[0.1111111111111111,\"#46039f\"],[0.2222222222222222,\"#7201a8\"],[0.3333333333333333,\"#9c179e\"],[0.4444444444444444,\"#bd3786\"],[0.5555555555555556,\"#d8576b\"],[0.6666666666666666,\"#ed7953\"],[0.7777777777777778,\"#fb9f3a\"],[0.8888888888888888,\"#fdca26\"],[1.0,\"#f0f921\"]]}],\"mesh3d\":[{\"type\":\"mesh3d\",\"colorbar\":{\"outlinewidth\":0,\"ticks\":\"\"}}],\"scatter\":[{\"fillpattern\":{\"fillmode\":\"overlay\",\"size\":10,\"solidity\":0.2},\"type\":\"scatter\"}],\"parcoords\":[{\"type\":\"parcoords\",\"line\":{\"colorbar\":{\"outlinewidth\":0,\"ticks\":\"\"}}}],\"scatterpolargl\":[{\"type\":\"scatterpolargl\",\"marker\":{\"colorbar\":{\"outlinewidth\":0,\"ticks\":\"\"}}}],\"bar\":[{\"error_x\":{\"color\":\"#2a3f5f\"},\"error_y\":{\"color\":\"#2a3f5f\"},\"marker\":{\"line\":{\"color\":\"#E5ECF6\",\"width\":0.5},\"pattern\":{\"fillmode\":\"overlay\",\"size\":10,\"solidity\":0.2}},\"type\":\"bar\"}],\"scattergeo\":[{\"type\":\"scattergeo\",\"marker\":{\"colorbar\":{\"outlinewidth\":0,\"ticks\":\"\"}}}],\"scatterpolar\":[{\"type\":\"scatterpolar\",\"marker\":{\"colorbar\":{\"outlinewidth\":0,\"ticks\":\"\"}}}],\"histogram\":[{\"marker\":{\"pattern\":{\"fillmode\":\"overlay\",\"size\":10,\"solidity\":0.2}},\"type\":\"histogram\"}],\"scattergl\":[{\"type\":\"scattergl\",\"marker\":{\"colorbar\":{\"outlinewidth\":0,\"ticks\":\"\"}}}],\"scatter3d\":[{\"type\":\"scatter3d\",\"line\":{\"colorbar\":{\"outlinewidth\":0,\"ticks\":\"\"}},\"marker\":{\"colorbar\":{\"outlinewidth\":0,\"ticks\":\"\"}}}],\"scattermapbox\":[{\"type\":\"scattermapbox\",\"marker\":{\"colorbar\":{\"outlinewidth\":0,\"ticks\":\"\"}}}],\"scatterternary\":[{\"type\":\"scatterternary\",\"marker\":{\"colorbar\":{\"outlinewidth\":0,\"ticks\":\"\"}}}],\"scattercarpet\":[{\"type\":\"scattercarpet\",\"marker\":{\"colorbar\":{\"outlinewidth\":0,\"ticks\":\"\"}}}],\"carpet\":[{\"aaxis\":{\"endlinecolor\":\"#2a3f5f\",\"gridcolor\":\"white\",\"linecolor\":\"white\",\"minorgridcolor\":\"white\",\"startlinecolor\":\"#2a3f5f\"},\"baxis\":{\"endlinecolor\":\"#2a3f5f\",\"gridcolor\":\"white\",\"linecolor\":\"white\",\"minorgridcolor\":\"white\",\"startlinecolor\":\"#2a3f5f\"},\"type\":\"carpet\"}],\"table\":[{\"cells\":{\"fill\":{\"color\":\"#EBF0F8\"},\"line\":{\"color\":\"white\"}},\"header\":{\"fill\":{\"color\":\"#C8D4E3\"},\"line\":{\"color\":\"white\"}},\"type\":\"table\"}],\"barpolar\":[{\"marker\":{\"line\":{\"color\":\"#E5ECF6\",\"width\":0.5},\"pattern\":{\"fillmode\":\"overlay\",\"size\":10,\"solidity\":0.2}},\"type\":\"barpolar\"}],\"pie\":[{\"automargin\":true,\"type\":\"pie\"}]},\"layout\":{\"autotypenumbers\":\"strict\",\"colorway\":[\"#636efa\",\"#EF553B\",\"#00cc96\",\"#ab63fa\",\"#FFA15A\",\"#19d3f3\",\"#FF6692\",\"#B6E880\",\"#FF97FF\",\"#FECB52\"],\"font\":{\"color\":\"#2a3f5f\"},\"hovermode\":\"closest\",\"hoverlabel\":{\"align\":\"left\"},\"paper_bgcolor\":\"white\",\"plot_bgcolor\":\"#E5ECF6\",\"polar\":{\"bgcolor\":\"#E5ECF6\",\"angularaxis\":{\"gridcolor\":\"white\",\"linecolor\":\"white\",\"ticks\":\"\"},\"radialaxis\":{\"gridcolor\":\"white\",\"linecolor\":\"white\",\"ticks\":\"\"}},\"ternary\":{\"bgcolor\":\"#E5ECF6\",\"aaxis\":{\"gridcolor\":\"white\",\"linecolor\":\"white\",\"ticks\":\"\"},\"baxis\":{\"gridcolor\":\"white\",\"linecolor\":\"white\",\"ticks\":\"\"},\"caxis\":{\"gridcolor\":\"white\",\"linecolor\":\"white\",\"ticks\":\"\"}},\"coloraxis\":{\"colorbar\":{\"outlinewidth\":0,\"ticks\":\"\"}},\"colorscale\":{\"sequential\":[[0.0,\"#0d0887\"],[0.1111111111111111,\"#46039f\"],[0.2222222222222222,\"#7201a8\"],[0.3333333333333333,\"#9c179e\"],[0.4444444444444444,\"#bd3786\"],[0.5555555555555556,\"#d8576b\"],[0.6666666666666666,\"#ed7953\"],[0.7777777777777778,\"#fb9f3a\"],[0.8888888888888888,\"#fdca26\"],[1.0,\"#f0f921\"]],\"sequentialminus\":[[0.0,\"#0d0887\"],[0.1111111111111111,\"#46039f\"],[0.2222222222222222,\"#7201a8\"],[0.3333333333333333,\"#9c179e\"],[0.4444444444444444,\"#bd3786\"],[0.5555555555555556,\"#d8576b\"],[0.6666666666666666,\"#ed7953\"],[0.7777777777777778,\"#fb9f3a\"],[0.8888888888888888,\"#fdca26\"],[1.0,\"#f0f921\"]],\"diverging\":[[0,\"#8e0152\"],[0.1,\"#c51b7d\"],[0.2,\"#de77ae\"],[0.3,\"#f1b6da\"],[0.4,\"#fde0ef\"],[0.5,\"#f7f7f7\"],[0.6,\"#e6f5d0\"],[0.7,\"#b8e186\"],[0.8,\"#7fbc41\"],[0.9,\"#4d9221\"],[1,\"#276419\"]]},\"xaxis\":{\"gridcolor\":\"white\",\"linecolor\":\"white\",\"ticks\":\"\",\"title\":{\"standoff\":15},\"zerolinecolor\":\"white\",\"automargin\":true,\"zerolinewidth\":2},\"yaxis\":{\"gridcolor\":\"white\",\"linecolor\":\"white\",\"ticks\":\"\",\"title\":{\"standoff\":15},\"zerolinecolor\":\"white\",\"automargin\":true,\"zerolinewidth\":2},\"scene\":{\"xaxis\":{\"backgroundcolor\":\"#E5ECF6\",\"gridcolor\":\"white\",\"linecolor\":\"white\",\"showbackground\":true,\"ticks\":\"\",\"zerolinecolor\":\"white\",\"gridwidth\":2},\"yaxis\":{\"backgroundcolor\":\"#E5ECF6\",\"gridcolor\":\"white\",\"linecolor\":\"white\",\"showbackground\":true,\"ticks\":\"\",\"zerolinecolor\":\"white\",\"gridwidth\":2},\"zaxis\":{\"backgroundcolor\":\"#E5ECF6\",\"gridcolor\":\"white\",\"linecolor\":\"white\",\"showbackground\":true,\"ticks\":\"\",\"zerolinecolor\":\"white\",\"gridwidth\":2}},\"shapedefaults\":{\"line\":{\"color\":\"#2a3f5f\"}},\"annotationdefaults\":{\"arrowcolor\":\"#2a3f5f\",\"arrowhead\":0,\"arrowwidth\":1},\"geo\":{\"bgcolor\":\"white\",\"landcolor\":\"#E5ECF6\",\"subunitcolor\":\"white\",\"showland\":true,\"showlakes\":true,\"lakecolor\":\"white\"},\"title\":{\"x\":0.05},\"mapbox\":{\"style\":\"light\"}}},\"xaxis\":{\"anchor\":\"y\",\"domain\":[0.0,1.0],\"title\":{\"text\":\"[Arg] \\u00b5M\"}},\"yaxis\":{\"anchor\":\"x\",\"domain\":[0.0,1.0],\"title\":{\"text\":\"\\u2206OD600 (sans starting and background OD)\"}},\"legend\":{\"title\":{\"text\":\"ADP1 strain\"},\"tracegroupgap\":0},\"margin\":{\"t\":60},\"barmode\":\"group\",\"title\":{\"text\":\"\\u2206OD600 ADP1 | KSF107 \\u2206argB (\\u2206cphAI, \\u2206astA, \\u2206argB), KSF111 \\u2206argB (\\u2206cphAI, \\u2206argR, \\u2206argB, \\u2206astA)\",\"x\":0.5},\"showlegend\":true,\"boxgap\":1,\"boxgroupgap\":0},                        {\"responsive\": true}                    ).then(function(){\n",
       "                            \n",
       "var gd = document.getElementById('94b88602-74c4-428f-9ab5-5dd21a8b8423');\n",
       "var x = new MutationObserver(function (mutations, observer) {{\n",
       "        var display = window.getComputedStyle(gd).display;\n",
       "        if (!display || display === 'none') {{\n",
       "            console.log([gd, 'removed!']);\n",
       "            Plotly.purge(gd);\n",
       "            observer.disconnect();\n",
       "        }}\n",
       "}});\n",
       "\n",
       "// Listen for the removal of the full notebook cells\n",
       "var notebookContainer = gd.closest('#notebook-container');\n",
       "if (notebookContainer) {{\n",
       "    x.observe(notebookContainer, {childList: true});\n",
       "}}\n",
       "\n",
       "// Listen for the clearing of the current output cell\n",
       "var outputEl = gd.closest('.output');\n",
       "if (outputEl) {{\n",
       "    x.observe(outputEl, {childList: true});\n",
       "}}\n",
       "\n",
       "                        })                };                });            </script>        </div>"
      ]
     },
     "metadata": {},
     "output_type": "display_data"
    }
   ],
   "execution_count": 38
  },
  {
   "metadata": {
    "ExecuteTime": {
     "end_time": "2024-11-19T21:30:05.068027Z",
     "start_time": "2024-11-19T21:30:04.973784Z"
    }
   },
   "cell_type": "code",
   "source": [
    "fig_yield = px.scatter(\n",
    "    df_od_delta,\n",
    "    x='arg_conc_uM',\n",
    "    y=unp.nominal_values(df_od_delta.od_delta_no_bg),\n",
    "    error_y=unp.std_devs(df_od_delta.od_delta_no_bg),\n",
    "    color='strain_id',\n",
    "    labels={\n",
    "        'arg_conc_uM': 'x_Arg (µM)',\n",
    "        'y': '∆OD600 (au)',\n",
    "        'strain_id': 'ADP1 Strain',\n",
    "    },\n",
    "    trendline='rolling',\n",
    "    trendline_options=dict(function='median', window=1),\n",
    ").update_layout(\n",
    "    title=f'ADP1  Biomass/Arginine Yield Curve | {au.fmt_strains(meta[\"strains\"])}',\n",
    "    title_x=0.5,\n",
    "    template='simple_white'\n",
    ").add_traces([\n",
    "    go.Scatter(\n",
    "        x=df_od_delta_theoretical.arg_conc_uM,\n",
    "        y=df_od_delta_theoretical.od,\n",
    "        name='theoretical arg-auxotroph',\n",
    "        mode='lines', line=dict(dash='dash'),\n",
    "    ),\n",
    "])\n",
    "\n",
    "display(fig_yield)\n",
    "\n",
    "fig_yield.write_image(\n",
    "    f'../../figures/{meta[\"experiment\"]}_yield_curve.pdf',\n",
    "    width=1200,\n",
    "    height=500,\n",
    ")"
   ],
   "id": "f648c171076e23db",
   "outputs": [
    {
     "data": {
      "application/vnd.plotly.v1+json": {
       "data": [
        {
         "error_y": {
          "array": [
           0.0,
           0.08058673726006171,
           0.07623355924758826,
           0.18441499095488117,
           0.21889012972011532,
           0.18938027587076986
          ]
         },
         "hovertemplate": "ADP1 Strain=KSF107 ∆argB<br>x_Arg (µM)=%{x}<br>∆OD600 (au)=%{y}<extra></extra>",
         "legendgroup": "KSF107 ∆argB",
         "marker": {
          "color": "#636efa",
          "symbol": "circle"
         },
         "mode": "markers",
         "name": "KSF107 ∆argB",
         "orientation": "v",
         "showlegend": true,
         "x": [
          0,
          50,
          100,
          400,
          700,
          1000
         ],
         "xaxis": "x",
         "y": [
          0.0,
          0.17333333333333345,
          0.11199999999999988,
          -0.03866666666666674,
          0.08133333333333337,
          -0.09066666666666667
         ],
         "yaxis": "y",
         "type": "scatter"
        },
        {
         "hovertemplate": "<b>Rolling median trendline</b><br><br>ADP1 Strain=KSF107 ∆argB<br>x_Arg (µM)=%{x}<br>∆OD600 (au)=%{y} <b>(trend)</b><extra></extra>",
         "legendgroup": "KSF107 ∆argB",
         "marker": {
          "color": "#636efa",
          "symbol": "circle"
         },
         "mode": "lines",
         "name": "KSF107 ∆argB",
         "showlegend": false,
         "x": [
          0,
          50,
          100,
          400,
          700,
          1000
         ],
         "xaxis": "x",
         "y": [
          0.0,
          0.17333333333333345,
          0.11199999999999988,
          -0.03866666666666674,
          0.08133333333333337,
          -0.09066666666666667
         ],
         "yaxis": "y",
         "type": "scatter"
        },
        {
         "error_y": {
          "array": [
           0.0,
           0.11734848387033668,
           0.20222759455623263,
           0.19068997526526316,
           0.12220201853215575,
           0.24787810624489526
          ]
         },
         "hovertemplate": "ADP1 Strain=KSF111 ∆argB<br>x_Arg (µM)=%{x}<br>∆OD600 (au)=%{y}<extra></extra>",
         "legendgroup": "KSF111 ∆argB",
         "marker": {
          "color": "#EF553B",
          "symbol": "circle"
         },
         "mode": "markers",
         "name": "KSF111 ∆argB",
         "orientation": "v",
         "showlegend": true,
         "x": [
          0,
          50,
          100,
          400,
          700,
          1000
         ],
         "xaxis": "x",
         "y": [
          0.0,
          0.30666666666666687,
          0.30266666666666675,
          0.3626666666666666,
          0.41066666666666674,
          0.3240000000000002
         ],
         "yaxis": "y",
         "type": "scatter"
        },
        {
         "hovertemplate": "<b>Rolling median trendline</b><br><br>ADP1 Strain=KSF111 ∆argB<br>x_Arg (µM)=%{x}<br>∆OD600 (au)=%{y} <b>(trend)</b><extra></extra>",
         "legendgroup": "KSF111 ∆argB",
         "marker": {
          "color": "#EF553B",
          "symbol": "circle"
         },
         "mode": "lines",
         "name": "KSF111 ∆argB",
         "showlegend": false,
         "x": [
          0,
          50,
          100,
          400,
          700,
          1000
         ],
         "xaxis": "x",
         "y": [
          0.0,
          0.30666666666666687,
          0.30266666666666675,
          0.3626666666666666,
          0.41066666666666674,
          0.3240000000000002
         ],
         "yaxis": "y",
         "type": "scatter"
        },
        {
         "line": {
          "dash": "dash"
         },
         "mode": "lines",
         "name": "theoretical arg-auxotroph",
         "x": [
          0,
          50
         ],
         "y": [
          0.0,
          0.635
         ],
         "type": "scatter"
        }
       ],
       "layout": {
        "template": {
         "data": {
          "barpolar": [
           {
            "marker": {
             "line": {
              "color": "white",
              "width": 0.5
             },
             "pattern": {
              "fillmode": "overlay",
              "size": 10,
              "solidity": 0.2
             }
            },
            "type": "barpolar"
           }
          ],
          "bar": [
           {
            "error_x": {
             "color": "rgb(36,36,36)"
            },
            "error_y": {
             "color": "rgb(36,36,36)"
            },
            "marker": {
             "line": {
              "color": "white",
              "width": 0.5
             },
             "pattern": {
              "fillmode": "overlay",
              "size": 10,
              "solidity": 0.2
             }
            },
            "type": "bar"
           }
          ],
          "carpet": [
           {
            "aaxis": {
             "endlinecolor": "rgb(36,36,36)",
             "gridcolor": "white",
             "linecolor": "white",
             "minorgridcolor": "white",
             "startlinecolor": "rgb(36,36,36)"
            },
            "baxis": {
             "endlinecolor": "rgb(36,36,36)",
             "gridcolor": "white",
             "linecolor": "white",
             "minorgridcolor": "white",
             "startlinecolor": "rgb(36,36,36)"
            },
            "type": "carpet"
           }
          ],
          "choropleth": [
           {
            "colorbar": {
             "outlinewidth": 1,
             "tickcolor": "rgb(36,36,36)",
             "ticks": "outside"
            },
            "type": "choropleth"
           }
          ],
          "contourcarpet": [
           {
            "colorbar": {
             "outlinewidth": 1,
             "tickcolor": "rgb(36,36,36)",
             "ticks": "outside"
            },
            "type": "contourcarpet"
           }
          ],
          "contour": [
           {
            "colorbar": {
             "outlinewidth": 1,
             "tickcolor": "rgb(36,36,36)",
             "ticks": "outside"
            },
            "colorscale": [
             [
              0.0,
              "#440154"
             ],
             [
              0.1111111111111111,
              "#482878"
             ],
             [
              0.2222222222222222,
              "#3e4989"
             ],
             [
              0.3333333333333333,
              "#31688e"
             ],
             [
              0.4444444444444444,
              "#26828e"
             ],
             [
              0.5555555555555556,
              "#1f9e89"
             ],
             [
              0.6666666666666666,
              "#35b779"
             ],
             [
              0.7777777777777778,
              "#6ece58"
             ],
             [
              0.8888888888888888,
              "#b5de2b"
             ],
             [
              1.0,
              "#fde725"
             ]
            ],
            "type": "contour"
           }
          ],
          "heatmapgl": [
           {
            "colorbar": {
             "outlinewidth": 1,
             "tickcolor": "rgb(36,36,36)",
             "ticks": "outside"
            },
            "colorscale": [
             [
              0.0,
              "#440154"
             ],
             [
              0.1111111111111111,
              "#482878"
             ],
             [
              0.2222222222222222,
              "#3e4989"
             ],
             [
              0.3333333333333333,
              "#31688e"
             ],
             [
              0.4444444444444444,
              "#26828e"
             ],
             [
              0.5555555555555556,
              "#1f9e89"
             ],
             [
              0.6666666666666666,
              "#35b779"
             ],
             [
              0.7777777777777778,
              "#6ece58"
             ],
             [
              0.8888888888888888,
              "#b5de2b"
             ],
             [
              1.0,
              "#fde725"
             ]
            ],
            "type": "heatmapgl"
           }
          ],
          "heatmap": [
           {
            "colorbar": {
             "outlinewidth": 1,
             "tickcolor": "rgb(36,36,36)",
             "ticks": "outside"
            },
            "colorscale": [
             [
              0.0,
              "#440154"
             ],
             [
              0.1111111111111111,
              "#482878"
             ],
             [
              0.2222222222222222,
              "#3e4989"
             ],
             [
              0.3333333333333333,
              "#31688e"
             ],
             [
              0.4444444444444444,
              "#26828e"
             ],
             [
              0.5555555555555556,
              "#1f9e89"
             ],
             [
              0.6666666666666666,
              "#35b779"
             ],
             [
              0.7777777777777778,
              "#6ece58"
             ],
             [
              0.8888888888888888,
              "#b5de2b"
             ],
             [
              1.0,
              "#fde725"
             ]
            ],
            "type": "heatmap"
           }
          ],
          "histogram2dcontour": [
           {
            "colorbar": {
             "outlinewidth": 1,
             "tickcolor": "rgb(36,36,36)",
             "ticks": "outside"
            },
            "colorscale": [
             [
              0.0,
              "#440154"
             ],
             [
              0.1111111111111111,
              "#482878"
             ],
             [
              0.2222222222222222,
              "#3e4989"
             ],
             [
              0.3333333333333333,
              "#31688e"
             ],
             [
              0.4444444444444444,
              "#26828e"
             ],
             [
              0.5555555555555556,
              "#1f9e89"
             ],
             [
              0.6666666666666666,
              "#35b779"
             ],
             [
              0.7777777777777778,
              "#6ece58"
             ],
             [
              0.8888888888888888,
              "#b5de2b"
             ],
             [
              1.0,
              "#fde725"
             ]
            ],
            "type": "histogram2dcontour"
           }
          ],
          "histogram2d": [
           {
            "colorbar": {
             "outlinewidth": 1,
             "tickcolor": "rgb(36,36,36)",
             "ticks": "outside"
            },
            "colorscale": [
             [
              0.0,
              "#440154"
             ],
             [
              0.1111111111111111,
              "#482878"
             ],
             [
              0.2222222222222222,
              "#3e4989"
             ],
             [
              0.3333333333333333,
              "#31688e"
             ],
             [
              0.4444444444444444,
              "#26828e"
             ],
             [
              0.5555555555555556,
              "#1f9e89"
             ],
             [
              0.6666666666666666,
              "#35b779"
             ],
             [
              0.7777777777777778,
              "#6ece58"
             ],
             [
              0.8888888888888888,
              "#b5de2b"
             ],
             [
              1.0,
              "#fde725"
             ]
            ],
            "type": "histogram2d"
           }
          ],
          "histogram": [
           {
            "marker": {
             "line": {
              "color": "white",
              "width": 0.6
             }
            },
            "type": "histogram"
           }
          ],
          "mesh3d": [
           {
            "colorbar": {
             "outlinewidth": 1,
             "tickcolor": "rgb(36,36,36)",
             "ticks": "outside"
            },
            "type": "mesh3d"
           }
          ],
          "parcoords": [
           {
            "line": {
             "colorbar": {
              "outlinewidth": 1,
              "tickcolor": "rgb(36,36,36)",
              "ticks": "outside"
             }
            },
            "type": "parcoords"
           }
          ],
          "pie": [
           {
            "automargin": true,
            "type": "pie"
           }
          ],
          "scatter3d": [
           {
            "line": {
             "colorbar": {
              "outlinewidth": 1,
              "tickcolor": "rgb(36,36,36)",
              "ticks": "outside"
             }
            },
            "marker": {
             "colorbar": {
              "outlinewidth": 1,
              "tickcolor": "rgb(36,36,36)",
              "ticks": "outside"
             }
            },
            "type": "scatter3d"
           }
          ],
          "scattercarpet": [
           {
            "marker": {
             "colorbar": {
              "outlinewidth": 1,
              "tickcolor": "rgb(36,36,36)",
              "ticks": "outside"
             }
            },
            "type": "scattercarpet"
           }
          ],
          "scattergeo": [
           {
            "marker": {
             "colorbar": {
              "outlinewidth": 1,
              "tickcolor": "rgb(36,36,36)",
              "ticks": "outside"
             }
            },
            "type": "scattergeo"
           }
          ],
          "scattergl": [
           {
            "marker": {
             "colorbar": {
              "outlinewidth": 1,
              "tickcolor": "rgb(36,36,36)",
              "ticks": "outside"
             }
            },
            "type": "scattergl"
           }
          ],
          "scattermapbox": [
           {
            "marker": {
             "colorbar": {
              "outlinewidth": 1,
              "tickcolor": "rgb(36,36,36)",
              "ticks": "outside"
             }
            },
            "type": "scattermapbox"
           }
          ],
          "scatterpolargl": [
           {
            "marker": {
             "colorbar": {
              "outlinewidth": 1,
              "tickcolor": "rgb(36,36,36)",
              "ticks": "outside"
             }
            },
            "type": "scatterpolargl"
           }
          ],
          "scatterpolar": [
           {
            "marker": {
             "colorbar": {
              "outlinewidth": 1,
              "tickcolor": "rgb(36,36,36)",
              "ticks": "outside"
             }
            },
            "type": "scatterpolar"
           }
          ],
          "scatter": [
           {
            "fillpattern": {
             "fillmode": "overlay",
             "size": 10,
             "solidity": 0.2
            },
            "type": "scatter"
           }
          ],
          "scatterternary": [
           {
            "marker": {
             "colorbar": {
              "outlinewidth": 1,
              "tickcolor": "rgb(36,36,36)",
              "ticks": "outside"
             }
            },
            "type": "scatterternary"
           }
          ],
          "surface": [
           {
            "colorbar": {
             "outlinewidth": 1,
             "tickcolor": "rgb(36,36,36)",
             "ticks": "outside"
            },
            "colorscale": [
             [
              0.0,
              "#440154"
             ],
             [
              0.1111111111111111,
              "#482878"
             ],
             [
              0.2222222222222222,
              "#3e4989"
             ],
             [
              0.3333333333333333,
              "#31688e"
             ],
             [
              0.4444444444444444,
              "#26828e"
             ],
             [
              0.5555555555555556,
              "#1f9e89"
             ],
             [
              0.6666666666666666,
              "#35b779"
             ],
             [
              0.7777777777777778,
              "#6ece58"
             ],
             [
              0.8888888888888888,
              "#b5de2b"
             ],
             [
              1.0,
              "#fde725"
             ]
            ],
            "type": "surface"
           }
          ],
          "table": [
           {
            "cells": {
             "fill": {
              "color": "rgb(237,237,237)"
             },
             "line": {
              "color": "white"
             }
            },
            "header": {
             "fill": {
              "color": "rgb(217,217,217)"
             },
             "line": {
              "color": "white"
             }
            },
            "type": "table"
           }
          ]
         },
         "layout": {
          "annotationdefaults": {
           "arrowhead": 0,
           "arrowwidth": 1
          },
          "autotypenumbers": "strict",
          "coloraxis": {
           "colorbar": {
            "outlinewidth": 1,
            "tickcolor": "rgb(36,36,36)",
            "ticks": "outside"
           }
          },
          "colorscale": {
           "diverging": [
            [
             0.0,
             "rgb(103,0,31)"
            ],
            [
             0.1,
             "rgb(178,24,43)"
            ],
            [
             0.2,
             "rgb(214,96,77)"
            ],
            [
             0.3,
             "rgb(244,165,130)"
            ],
            [
             0.4,
             "rgb(253,219,199)"
            ],
            [
             0.5,
             "rgb(247,247,247)"
            ],
            [
             0.6,
             "rgb(209,229,240)"
            ],
            [
             0.7,
             "rgb(146,197,222)"
            ],
            [
             0.8,
             "rgb(67,147,195)"
            ],
            [
             0.9,
             "rgb(33,102,172)"
            ],
            [
             1.0,
             "rgb(5,48,97)"
            ]
           ],
           "sequential": [
            [
             0.0,
             "#440154"
            ],
            [
             0.1111111111111111,
             "#482878"
            ],
            [
             0.2222222222222222,
             "#3e4989"
            ],
            [
             0.3333333333333333,
             "#31688e"
            ],
            [
             0.4444444444444444,
             "#26828e"
            ],
            [
             0.5555555555555556,
             "#1f9e89"
            ],
            [
             0.6666666666666666,
             "#35b779"
            ],
            [
             0.7777777777777778,
             "#6ece58"
            ],
            [
             0.8888888888888888,
             "#b5de2b"
            ],
            [
             1.0,
             "#fde725"
            ]
           ],
           "sequentialminus": [
            [
             0.0,
             "#440154"
            ],
            [
             0.1111111111111111,
             "#482878"
            ],
            [
             0.2222222222222222,
             "#3e4989"
            ],
            [
             0.3333333333333333,
             "#31688e"
            ],
            [
             0.4444444444444444,
             "#26828e"
            ],
            [
             0.5555555555555556,
             "#1f9e89"
            ],
            [
             0.6666666666666666,
             "#35b779"
            ],
            [
             0.7777777777777778,
             "#6ece58"
            ],
            [
             0.8888888888888888,
             "#b5de2b"
            ],
            [
             1.0,
             "#fde725"
            ]
           ]
          },
          "colorway": [
           "#1F77B4",
           "#FF7F0E",
           "#2CA02C",
           "#D62728",
           "#9467BD",
           "#8C564B",
           "#E377C2",
           "#7F7F7F",
           "#BCBD22",
           "#17BECF"
          ],
          "font": {
           "color": "rgb(36,36,36)"
          },
          "geo": {
           "bgcolor": "white",
           "lakecolor": "white",
           "landcolor": "white",
           "showlakes": true,
           "showland": true,
           "subunitcolor": "white"
          },
          "hoverlabel": {
           "align": "left"
          },
          "hovermode": "closest",
          "mapbox": {
           "style": "light"
          },
          "paper_bgcolor": "white",
          "plot_bgcolor": "white",
          "polar": {
           "angularaxis": {
            "gridcolor": "rgb(232,232,232)",
            "linecolor": "rgb(36,36,36)",
            "showgrid": false,
            "showline": true,
            "ticks": "outside"
           },
           "bgcolor": "white",
           "radialaxis": {
            "gridcolor": "rgb(232,232,232)",
            "linecolor": "rgb(36,36,36)",
            "showgrid": false,
            "showline": true,
            "ticks": "outside"
           }
          },
          "scene": {
           "xaxis": {
            "backgroundcolor": "white",
            "gridcolor": "rgb(232,232,232)",
            "gridwidth": 2,
            "linecolor": "rgb(36,36,36)",
            "showbackground": true,
            "showgrid": false,
            "showline": true,
            "ticks": "outside",
            "zeroline": false,
            "zerolinecolor": "rgb(36,36,36)"
           },
           "yaxis": {
            "backgroundcolor": "white",
            "gridcolor": "rgb(232,232,232)",
            "gridwidth": 2,
            "linecolor": "rgb(36,36,36)",
            "showbackground": true,
            "showgrid": false,
            "showline": true,
            "ticks": "outside",
            "zeroline": false,
            "zerolinecolor": "rgb(36,36,36)"
           },
           "zaxis": {
            "backgroundcolor": "white",
            "gridcolor": "rgb(232,232,232)",
            "gridwidth": 2,
            "linecolor": "rgb(36,36,36)",
            "showbackground": true,
            "showgrid": false,
            "showline": true,
            "ticks": "outside",
            "zeroline": false,
            "zerolinecolor": "rgb(36,36,36)"
           }
          },
          "shapedefaults": {
           "fillcolor": "black",
           "line": {
            "width": 0
           },
           "opacity": 0.3
          },
          "ternary": {
           "aaxis": {
            "gridcolor": "rgb(232,232,232)",
            "linecolor": "rgb(36,36,36)",
            "showgrid": false,
            "showline": true,
            "ticks": "outside"
           },
           "baxis": {
            "gridcolor": "rgb(232,232,232)",
            "linecolor": "rgb(36,36,36)",
            "showgrid": false,
            "showline": true,
            "ticks": "outside"
           },
           "bgcolor": "white",
           "caxis": {
            "gridcolor": "rgb(232,232,232)",
            "linecolor": "rgb(36,36,36)",
            "showgrid": false,
            "showline": true,
            "ticks": "outside"
           }
          },
          "title": {
           "x": 0.05
          },
          "xaxis": {
           "automargin": true,
           "gridcolor": "rgb(232,232,232)",
           "linecolor": "rgb(36,36,36)",
           "showgrid": false,
           "showline": true,
           "ticks": "outside",
           "title": {
            "standoff": 15
           },
           "zeroline": false,
           "zerolinecolor": "rgb(36,36,36)"
          },
          "yaxis": {
           "automargin": true,
           "gridcolor": "rgb(232,232,232)",
           "linecolor": "rgb(36,36,36)",
           "showgrid": false,
           "showline": true,
           "ticks": "outside",
           "title": {
            "standoff": 15
           },
           "zeroline": false,
           "zerolinecolor": "rgb(36,36,36)"
          }
         }
        },
        "xaxis": {
         "anchor": "y",
         "domain": [
          0.0,
          1.0
         ],
         "title": {
          "text": "x_Arg (µM)"
         }
        },
        "yaxis": {
         "anchor": "x",
         "domain": [
          0.0,
          1.0
         ],
         "title": {
          "text": "∆OD600 (au)"
         }
        },
        "legend": {
         "title": {
          "text": "ADP1 Strain"
         },
         "tracegroupgap": 0
        },
        "margin": {
         "t": 60
        },
        "title": {
         "text": "ADP1  Biomass/Arginine Yield Curve | KSF107 ∆argB (∆cphAI, ∆astA, ∆argB), KSF111 ∆argB (∆cphAI, ∆argR, ∆argB, ∆astA)",
         "x": 0.5
        }
       },
       "config": {
        "plotlyServerURL": "https://plot.ly"
       }
      },
      "text/html": [
       "<div>                            <div id=\"a1815bfc-ee5c-424e-a986-7aa405947831\" class=\"plotly-graph-div\" style=\"height:525px; width:100%;\"></div>            <script type=\"text/javascript\">                require([\"plotly\"], function(Plotly) {                    window.PLOTLYENV=window.PLOTLYENV || {};                                    if (document.getElementById(\"a1815bfc-ee5c-424e-a986-7aa405947831\")) {                    Plotly.newPlot(                        \"a1815bfc-ee5c-424e-a986-7aa405947831\",                        [{\"error_y\":{\"array\":[0.0,0.08058673726006171,0.07623355924758826,0.18441499095488117,0.21889012972011532,0.18938027587076986]},\"hovertemplate\":\"ADP1 Strain=KSF107 \\u2206argB\\u003cbr\\u003ex_Arg (\\u00b5M)=%{x}\\u003cbr\\u003e\\u2206OD600 (au)=%{y}\\u003cextra\\u003e\\u003c\\u002fextra\\u003e\",\"legendgroup\":\"KSF107 \\u2206argB\",\"marker\":{\"color\":\"#636efa\",\"symbol\":\"circle\"},\"mode\":\"markers\",\"name\":\"KSF107 \\u2206argB\",\"orientation\":\"v\",\"showlegend\":true,\"x\":[0,50,100,400,700,1000],\"xaxis\":\"x\",\"y\":[0.0,0.17333333333333345,0.11199999999999988,-0.03866666666666674,0.08133333333333337,-0.09066666666666667],\"yaxis\":\"y\",\"type\":\"scatter\"},{\"hovertemplate\":\"\\u003cb\\u003eRolling median trendline\\u003c\\u002fb\\u003e\\u003cbr\\u003e\\u003cbr\\u003eADP1 Strain=KSF107 \\u2206argB\\u003cbr\\u003ex_Arg (\\u00b5M)=%{x}\\u003cbr\\u003e\\u2206OD600 (au)=%{y} \\u003cb\\u003e(trend)\\u003c\\u002fb\\u003e\\u003cextra\\u003e\\u003c\\u002fextra\\u003e\",\"legendgroup\":\"KSF107 \\u2206argB\",\"marker\":{\"color\":\"#636efa\",\"symbol\":\"circle\"},\"mode\":\"lines\",\"name\":\"KSF107 \\u2206argB\",\"showlegend\":false,\"x\":[0,50,100,400,700,1000],\"xaxis\":\"x\",\"y\":[0.0,0.17333333333333345,0.11199999999999988,-0.03866666666666674,0.08133333333333337,-0.09066666666666667],\"yaxis\":\"y\",\"type\":\"scatter\"},{\"error_y\":{\"array\":[0.0,0.11734848387033668,0.20222759455623263,0.19068997526526316,0.12220201853215575,0.24787810624489526]},\"hovertemplate\":\"ADP1 Strain=KSF111 \\u2206argB\\u003cbr\\u003ex_Arg (\\u00b5M)=%{x}\\u003cbr\\u003e\\u2206OD600 (au)=%{y}\\u003cextra\\u003e\\u003c\\u002fextra\\u003e\",\"legendgroup\":\"KSF111 \\u2206argB\",\"marker\":{\"color\":\"#EF553B\",\"symbol\":\"circle\"},\"mode\":\"markers\",\"name\":\"KSF111 \\u2206argB\",\"orientation\":\"v\",\"showlegend\":true,\"x\":[0,50,100,400,700,1000],\"xaxis\":\"x\",\"y\":[0.0,0.30666666666666687,0.30266666666666675,0.3626666666666666,0.41066666666666674,0.3240000000000002],\"yaxis\":\"y\",\"type\":\"scatter\"},{\"hovertemplate\":\"\\u003cb\\u003eRolling median trendline\\u003c\\u002fb\\u003e\\u003cbr\\u003e\\u003cbr\\u003eADP1 Strain=KSF111 \\u2206argB\\u003cbr\\u003ex_Arg (\\u00b5M)=%{x}\\u003cbr\\u003e\\u2206OD600 (au)=%{y} \\u003cb\\u003e(trend)\\u003c\\u002fb\\u003e\\u003cextra\\u003e\\u003c\\u002fextra\\u003e\",\"legendgroup\":\"KSF111 \\u2206argB\",\"marker\":{\"color\":\"#EF553B\",\"symbol\":\"circle\"},\"mode\":\"lines\",\"name\":\"KSF111 \\u2206argB\",\"showlegend\":false,\"x\":[0,50,100,400,700,1000],\"xaxis\":\"x\",\"y\":[0.0,0.30666666666666687,0.30266666666666675,0.3626666666666666,0.41066666666666674,0.3240000000000002],\"yaxis\":\"y\",\"type\":\"scatter\"},{\"line\":{\"dash\":\"dash\"},\"mode\":\"lines\",\"name\":\"theoretical arg-auxotroph\",\"x\":[0,50],\"y\":[0.0,0.635],\"type\":\"scatter\"}],                        {\"template\":{\"data\":{\"barpolar\":[{\"marker\":{\"line\":{\"color\":\"white\",\"width\":0.5},\"pattern\":{\"fillmode\":\"overlay\",\"size\":10,\"solidity\":0.2}},\"type\":\"barpolar\"}],\"bar\":[{\"error_x\":{\"color\":\"rgb(36,36,36)\"},\"error_y\":{\"color\":\"rgb(36,36,36)\"},\"marker\":{\"line\":{\"color\":\"white\",\"width\":0.5},\"pattern\":{\"fillmode\":\"overlay\",\"size\":10,\"solidity\":0.2}},\"type\":\"bar\"}],\"carpet\":[{\"aaxis\":{\"endlinecolor\":\"rgb(36,36,36)\",\"gridcolor\":\"white\",\"linecolor\":\"white\",\"minorgridcolor\":\"white\",\"startlinecolor\":\"rgb(36,36,36)\"},\"baxis\":{\"endlinecolor\":\"rgb(36,36,36)\",\"gridcolor\":\"white\",\"linecolor\":\"white\",\"minorgridcolor\":\"white\",\"startlinecolor\":\"rgb(36,36,36)\"},\"type\":\"carpet\"}],\"choropleth\":[{\"colorbar\":{\"outlinewidth\":1,\"tickcolor\":\"rgb(36,36,36)\",\"ticks\":\"outside\"},\"type\":\"choropleth\"}],\"contourcarpet\":[{\"colorbar\":{\"outlinewidth\":1,\"tickcolor\":\"rgb(36,36,36)\",\"ticks\":\"outside\"},\"type\":\"contourcarpet\"}],\"contour\":[{\"colorbar\":{\"outlinewidth\":1,\"tickcolor\":\"rgb(36,36,36)\",\"ticks\":\"outside\"},\"colorscale\":[[0.0,\"#440154\"],[0.1111111111111111,\"#482878\"],[0.2222222222222222,\"#3e4989\"],[0.3333333333333333,\"#31688e\"],[0.4444444444444444,\"#26828e\"],[0.5555555555555556,\"#1f9e89\"],[0.6666666666666666,\"#35b779\"],[0.7777777777777778,\"#6ece58\"],[0.8888888888888888,\"#b5de2b\"],[1.0,\"#fde725\"]],\"type\":\"contour\"}],\"heatmapgl\":[{\"colorbar\":{\"outlinewidth\":1,\"tickcolor\":\"rgb(36,36,36)\",\"ticks\":\"outside\"},\"colorscale\":[[0.0,\"#440154\"],[0.1111111111111111,\"#482878\"],[0.2222222222222222,\"#3e4989\"],[0.3333333333333333,\"#31688e\"],[0.4444444444444444,\"#26828e\"],[0.5555555555555556,\"#1f9e89\"],[0.6666666666666666,\"#35b779\"],[0.7777777777777778,\"#6ece58\"],[0.8888888888888888,\"#b5de2b\"],[1.0,\"#fde725\"]],\"type\":\"heatmapgl\"}],\"heatmap\":[{\"colorbar\":{\"outlinewidth\":1,\"tickcolor\":\"rgb(36,36,36)\",\"ticks\":\"outside\"},\"colorscale\":[[0.0,\"#440154\"],[0.1111111111111111,\"#482878\"],[0.2222222222222222,\"#3e4989\"],[0.3333333333333333,\"#31688e\"],[0.4444444444444444,\"#26828e\"],[0.5555555555555556,\"#1f9e89\"],[0.6666666666666666,\"#35b779\"],[0.7777777777777778,\"#6ece58\"],[0.8888888888888888,\"#b5de2b\"],[1.0,\"#fde725\"]],\"type\":\"heatmap\"}],\"histogram2dcontour\":[{\"colorbar\":{\"outlinewidth\":1,\"tickcolor\":\"rgb(36,36,36)\",\"ticks\":\"outside\"},\"colorscale\":[[0.0,\"#440154\"],[0.1111111111111111,\"#482878\"],[0.2222222222222222,\"#3e4989\"],[0.3333333333333333,\"#31688e\"],[0.4444444444444444,\"#26828e\"],[0.5555555555555556,\"#1f9e89\"],[0.6666666666666666,\"#35b779\"],[0.7777777777777778,\"#6ece58\"],[0.8888888888888888,\"#b5de2b\"],[1.0,\"#fde725\"]],\"type\":\"histogram2dcontour\"}],\"histogram2d\":[{\"colorbar\":{\"outlinewidth\":1,\"tickcolor\":\"rgb(36,36,36)\",\"ticks\":\"outside\"},\"colorscale\":[[0.0,\"#440154\"],[0.1111111111111111,\"#482878\"],[0.2222222222222222,\"#3e4989\"],[0.3333333333333333,\"#31688e\"],[0.4444444444444444,\"#26828e\"],[0.5555555555555556,\"#1f9e89\"],[0.6666666666666666,\"#35b779\"],[0.7777777777777778,\"#6ece58\"],[0.8888888888888888,\"#b5de2b\"],[1.0,\"#fde725\"]],\"type\":\"histogram2d\"}],\"histogram\":[{\"marker\":{\"line\":{\"color\":\"white\",\"width\":0.6}},\"type\":\"histogram\"}],\"mesh3d\":[{\"colorbar\":{\"outlinewidth\":1,\"tickcolor\":\"rgb(36,36,36)\",\"ticks\":\"outside\"},\"type\":\"mesh3d\"}],\"parcoords\":[{\"line\":{\"colorbar\":{\"outlinewidth\":1,\"tickcolor\":\"rgb(36,36,36)\",\"ticks\":\"outside\"}},\"type\":\"parcoords\"}],\"pie\":[{\"automargin\":true,\"type\":\"pie\"}],\"scatter3d\":[{\"line\":{\"colorbar\":{\"outlinewidth\":1,\"tickcolor\":\"rgb(36,36,36)\",\"ticks\":\"outside\"}},\"marker\":{\"colorbar\":{\"outlinewidth\":1,\"tickcolor\":\"rgb(36,36,36)\",\"ticks\":\"outside\"}},\"type\":\"scatter3d\"}],\"scattercarpet\":[{\"marker\":{\"colorbar\":{\"outlinewidth\":1,\"tickcolor\":\"rgb(36,36,36)\",\"ticks\":\"outside\"}},\"type\":\"scattercarpet\"}],\"scattergeo\":[{\"marker\":{\"colorbar\":{\"outlinewidth\":1,\"tickcolor\":\"rgb(36,36,36)\",\"ticks\":\"outside\"}},\"type\":\"scattergeo\"}],\"scattergl\":[{\"marker\":{\"colorbar\":{\"outlinewidth\":1,\"tickcolor\":\"rgb(36,36,36)\",\"ticks\":\"outside\"}},\"type\":\"scattergl\"}],\"scattermapbox\":[{\"marker\":{\"colorbar\":{\"outlinewidth\":1,\"tickcolor\":\"rgb(36,36,36)\",\"ticks\":\"outside\"}},\"type\":\"scattermapbox\"}],\"scatterpolargl\":[{\"marker\":{\"colorbar\":{\"outlinewidth\":1,\"tickcolor\":\"rgb(36,36,36)\",\"ticks\":\"outside\"}},\"type\":\"scatterpolargl\"}],\"scatterpolar\":[{\"marker\":{\"colorbar\":{\"outlinewidth\":1,\"tickcolor\":\"rgb(36,36,36)\",\"ticks\":\"outside\"}},\"type\":\"scatterpolar\"}],\"scatter\":[{\"fillpattern\":{\"fillmode\":\"overlay\",\"size\":10,\"solidity\":0.2},\"type\":\"scatter\"}],\"scatterternary\":[{\"marker\":{\"colorbar\":{\"outlinewidth\":1,\"tickcolor\":\"rgb(36,36,36)\",\"ticks\":\"outside\"}},\"type\":\"scatterternary\"}],\"surface\":[{\"colorbar\":{\"outlinewidth\":1,\"tickcolor\":\"rgb(36,36,36)\",\"ticks\":\"outside\"},\"colorscale\":[[0.0,\"#440154\"],[0.1111111111111111,\"#482878\"],[0.2222222222222222,\"#3e4989\"],[0.3333333333333333,\"#31688e\"],[0.4444444444444444,\"#26828e\"],[0.5555555555555556,\"#1f9e89\"],[0.6666666666666666,\"#35b779\"],[0.7777777777777778,\"#6ece58\"],[0.8888888888888888,\"#b5de2b\"],[1.0,\"#fde725\"]],\"type\":\"surface\"}],\"table\":[{\"cells\":{\"fill\":{\"color\":\"rgb(237,237,237)\"},\"line\":{\"color\":\"white\"}},\"header\":{\"fill\":{\"color\":\"rgb(217,217,217)\"},\"line\":{\"color\":\"white\"}},\"type\":\"table\"}]},\"layout\":{\"annotationdefaults\":{\"arrowhead\":0,\"arrowwidth\":1},\"autotypenumbers\":\"strict\",\"coloraxis\":{\"colorbar\":{\"outlinewidth\":1,\"tickcolor\":\"rgb(36,36,36)\",\"ticks\":\"outside\"}},\"colorscale\":{\"diverging\":[[0.0,\"rgb(103,0,31)\"],[0.1,\"rgb(178,24,43)\"],[0.2,\"rgb(214,96,77)\"],[0.3,\"rgb(244,165,130)\"],[0.4,\"rgb(253,219,199)\"],[0.5,\"rgb(247,247,247)\"],[0.6,\"rgb(209,229,240)\"],[0.7,\"rgb(146,197,222)\"],[0.8,\"rgb(67,147,195)\"],[0.9,\"rgb(33,102,172)\"],[1.0,\"rgb(5,48,97)\"]],\"sequential\":[[0.0,\"#440154\"],[0.1111111111111111,\"#482878\"],[0.2222222222222222,\"#3e4989\"],[0.3333333333333333,\"#31688e\"],[0.4444444444444444,\"#26828e\"],[0.5555555555555556,\"#1f9e89\"],[0.6666666666666666,\"#35b779\"],[0.7777777777777778,\"#6ece58\"],[0.8888888888888888,\"#b5de2b\"],[1.0,\"#fde725\"]],\"sequentialminus\":[[0.0,\"#440154\"],[0.1111111111111111,\"#482878\"],[0.2222222222222222,\"#3e4989\"],[0.3333333333333333,\"#31688e\"],[0.4444444444444444,\"#26828e\"],[0.5555555555555556,\"#1f9e89\"],[0.6666666666666666,\"#35b779\"],[0.7777777777777778,\"#6ece58\"],[0.8888888888888888,\"#b5de2b\"],[1.0,\"#fde725\"]]},\"colorway\":[\"#1F77B4\",\"#FF7F0E\",\"#2CA02C\",\"#D62728\",\"#9467BD\",\"#8C564B\",\"#E377C2\",\"#7F7F7F\",\"#BCBD22\",\"#17BECF\"],\"font\":{\"color\":\"rgb(36,36,36)\"},\"geo\":{\"bgcolor\":\"white\",\"lakecolor\":\"white\",\"landcolor\":\"white\",\"showlakes\":true,\"showland\":true,\"subunitcolor\":\"white\"},\"hoverlabel\":{\"align\":\"left\"},\"hovermode\":\"closest\",\"mapbox\":{\"style\":\"light\"},\"paper_bgcolor\":\"white\",\"plot_bgcolor\":\"white\",\"polar\":{\"angularaxis\":{\"gridcolor\":\"rgb(232,232,232)\",\"linecolor\":\"rgb(36,36,36)\",\"showgrid\":false,\"showline\":true,\"ticks\":\"outside\"},\"bgcolor\":\"white\",\"radialaxis\":{\"gridcolor\":\"rgb(232,232,232)\",\"linecolor\":\"rgb(36,36,36)\",\"showgrid\":false,\"showline\":true,\"ticks\":\"outside\"}},\"scene\":{\"xaxis\":{\"backgroundcolor\":\"white\",\"gridcolor\":\"rgb(232,232,232)\",\"gridwidth\":2,\"linecolor\":\"rgb(36,36,36)\",\"showbackground\":true,\"showgrid\":false,\"showline\":true,\"ticks\":\"outside\",\"zeroline\":false,\"zerolinecolor\":\"rgb(36,36,36)\"},\"yaxis\":{\"backgroundcolor\":\"white\",\"gridcolor\":\"rgb(232,232,232)\",\"gridwidth\":2,\"linecolor\":\"rgb(36,36,36)\",\"showbackground\":true,\"showgrid\":false,\"showline\":true,\"ticks\":\"outside\",\"zeroline\":false,\"zerolinecolor\":\"rgb(36,36,36)\"},\"zaxis\":{\"backgroundcolor\":\"white\",\"gridcolor\":\"rgb(232,232,232)\",\"gridwidth\":2,\"linecolor\":\"rgb(36,36,36)\",\"showbackground\":true,\"showgrid\":false,\"showline\":true,\"ticks\":\"outside\",\"zeroline\":false,\"zerolinecolor\":\"rgb(36,36,36)\"}},\"shapedefaults\":{\"fillcolor\":\"black\",\"line\":{\"width\":0},\"opacity\":0.3},\"ternary\":{\"aaxis\":{\"gridcolor\":\"rgb(232,232,232)\",\"linecolor\":\"rgb(36,36,36)\",\"showgrid\":false,\"showline\":true,\"ticks\":\"outside\"},\"baxis\":{\"gridcolor\":\"rgb(232,232,232)\",\"linecolor\":\"rgb(36,36,36)\",\"showgrid\":false,\"showline\":true,\"ticks\":\"outside\"},\"bgcolor\":\"white\",\"caxis\":{\"gridcolor\":\"rgb(232,232,232)\",\"linecolor\":\"rgb(36,36,36)\",\"showgrid\":false,\"showline\":true,\"ticks\":\"outside\"}},\"title\":{\"x\":0.05},\"xaxis\":{\"automargin\":true,\"gridcolor\":\"rgb(232,232,232)\",\"linecolor\":\"rgb(36,36,36)\",\"showgrid\":false,\"showline\":true,\"ticks\":\"outside\",\"title\":{\"standoff\":15},\"zeroline\":false,\"zerolinecolor\":\"rgb(36,36,36)\"},\"yaxis\":{\"automargin\":true,\"gridcolor\":\"rgb(232,232,232)\",\"linecolor\":\"rgb(36,36,36)\",\"showgrid\":false,\"showline\":true,\"ticks\":\"outside\",\"title\":{\"standoff\":15},\"zeroline\":false,\"zerolinecolor\":\"rgb(36,36,36)\"}}},\"xaxis\":{\"anchor\":\"y\",\"domain\":[0.0,1.0],\"title\":{\"text\":\"x_Arg (\\u00b5M)\"}},\"yaxis\":{\"anchor\":\"x\",\"domain\":[0.0,1.0],\"title\":{\"text\":\"\\u2206OD600 (au)\"}},\"legend\":{\"title\":{\"text\":\"ADP1 Strain\"},\"tracegroupgap\":0},\"margin\":{\"t\":60},\"title\":{\"text\":\"ADP1  Biomass\\u002fArginine Yield Curve | KSF107 \\u2206argB (\\u2206cphAI, \\u2206astA, \\u2206argB), KSF111 \\u2206argB (\\u2206cphAI, \\u2206argR, \\u2206argB, \\u2206astA)\",\"x\":0.5}},                        {\"responsive\": true}                    ).then(function(){\n",
       "                            \n",
       "var gd = document.getElementById('a1815bfc-ee5c-424e-a986-7aa405947831');\n",
       "var x = new MutationObserver(function (mutations, observer) {{\n",
       "        var display = window.getComputedStyle(gd).display;\n",
       "        if (!display || display === 'none') {{\n",
       "            console.log([gd, 'removed!']);\n",
       "            Plotly.purge(gd);\n",
       "            observer.disconnect();\n",
       "        }}\n",
       "}});\n",
       "\n",
       "// Listen for the removal of the full notebook cells\n",
       "var notebookContainer = gd.closest('#notebook-container');\n",
       "if (notebookContainer) {{\n",
       "    x.observe(notebookContainer, {childList: true});\n",
       "}}\n",
       "\n",
       "// Listen for the clearing of the current output cell\n",
       "var outputEl = gd.closest('.output');\n",
       "if (outputEl) {{\n",
       "    x.observe(outputEl, {childList: true});\n",
       "}}\n",
       "\n",
       "                        })                };                });            </script>        </div>"
      ]
     },
     "metadata": {},
     "output_type": "display_data"
    }
   ],
   "execution_count": 39
  },
  {
   "metadata": {
    "ExecuteTime": {
     "end_time": "2024-11-19T21:30:07.429803Z",
     "start_time": "2024-11-19T21:30:07.420735Z"
    }
   },
   "cell_type": "code",
   "source": [
    "yield_summary = df_od_delta.loc[lambda df: df.arg_conc_uM > 0].assign(\n",
    "    yield_OD_xArg=lambda df: df.od_delta_no_bg.div(df.arg_conc_uM * 1.0e-6),\n",
    "    yield_gCDW_gArg=lambda df: df.yield_OD_xArg * .55 / 174.2,\n",
    ")\n",
    "\n",
    "yield_summary_50 = yield_summary.set_index(['strain_id', 'arg_conc_uM']).loc[\n",
    "    pd.IndexSlice[:, 50],\n",
    "    ['od_delta_no_bg', 'od_fold_change_no_bg', 'yield_OD_xArg', 'yield_gCDW_gArg']\n",
    "]\n",
    "yield_summary_50\n",
    "# print(yield_summary_50.to_latex(formatters={'od_delta_no_bg', '{:L}'.format}))"
   ],
   "id": "18e2cada7099ade6",
   "outputs": [
    {
     "data": {
      "text/plain": [
       "                         od_delta_no_bg od_fold_change_no_bg    yield_OD_xArg  \\\n",
       "strain_id    arg_conc_uM                                                        \n",
       "KSF107 ∆argB 50             0.17+/-0.08          1.31+/-0.19  (3.5+/-1.6)e+03   \n",
       "KSF111 ∆argB 50             0.31+/-0.12          1.46+/-0.22  (6.1+/-2.3)e+03   \n",
       "\n",
       "                         yield_gCDW_gArg  \n",
       "strain_id    arg_conc_uM                  \n",
       "KSF107 ∆argB 50                   11+/-5  \n",
       "KSF111 ∆argB 50                   19+/-7  "
      ],
      "text/html": [
       "<div>\n",
       "<style scoped>\n",
       "    .dataframe tbody tr th:only-of-type {\n",
       "        vertical-align: middle;\n",
       "    }\n",
       "\n",
       "    .dataframe tbody tr th {\n",
       "        vertical-align: top;\n",
       "    }\n",
       "\n",
       "    .dataframe thead th {\n",
       "        text-align: right;\n",
       "    }\n",
       "</style>\n",
       "<table border=\"1\" class=\"dataframe\">\n",
       "  <thead>\n",
       "    <tr style=\"text-align: right;\">\n",
       "      <th></th>\n",
       "      <th></th>\n",
       "      <th>od_delta_no_bg</th>\n",
       "      <th>od_fold_change_no_bg</th>\n",
       "      <th>yield_OD_xArg</th>\n",
       "      <th>yield_gCDW_gArg</th>\n",
       "    </tr>\n",
       "    <tr>\n",
       "      <th>strain_id</th>\n",
       "      <th>arg_conc_uM</th>\n",
       "      <th></th>\n",
       "      <th></th>\n",
       "      <th></th>\n",
       "      <th></th>\n",
       "    </tr>\n",
       "  </thead>\n",
       "  <tbody>\n",
       "    <tr>\n",
       "      <th>KSF107 ∆argB</th>\n",
       "      <th>50</th>\n",
       "      <td>0.17+/-0.08</td>\n",
       "      <td>1.31+/-0.19</td>\n",
       "      <td>(3.5+/-1.6)e+03</td>\n",
       "      <td>11+/-5</td>\n",
       "    </tr>\n",
       "    <tr>\n",
       "      <th>KSF111 ∆argB</th>\n",
       "      <th>50</th>\n",
       "      <td>0.31+/-0.12</td>\n",
       "      <td>1.46+/-0.22</td>\n",
       "      <td>(6.1+/-2.3)e+03</td>\n",
       "      <td>19+/-7</td>\n",
       "    </tr>\n",
       "  </tbody>\n",
       "</table>\n",
       "</div>"
      ]
     },
     "execution_count": 40,
     "metadata": {},
     "output_type": "execute_result"
    }
   ],
   "execution_count": 40
  },
  {
   "metadata": {},
   "cell_type": "markdown",
   "source": "## Sandbox",
   "id": "f06c54b0887c9aec"
  },
  {
   "metadata": {
    "ExecuteTime": {
     "end_time": "2024-11-19T03:52:43.272584Z",
     "start_time": "2024-11-19T03:52:43.266850Z"
    }
   },
   "cell_type": "code",
   "source": [
    "def theor_arg_from_OD600_with_CGP(od600: float, frac_cgp_of_cdw: float = 0.25, frac_arg_of_cgp: float = .6,\n",
    "                                  mw_arg: float = 174.2) -> float:\n",
    "    return od600 * .33 * frac_cgp_of_cdw * frac_arg_of_cgp / mw_arg * 1E6\n",
    "\n",
    "\n",
    "def theor_OD600_with_CGP_for_x_arg(x_arg: float, frac_cgp_of_cdw: float = 0.25, frac_arg_of_cgp: float = .6,\n",
    "                                   mw_arg: float = 174.2) -> float:\n",
    "    return x_arg / (.33 * frac_cgp_of_cdw * frac_arg_of_cgp / mw_arg * 1E6)\n",
    "\n",
    "\n",
    "def yield_in_g_g(x):\n",
    "    return x * .33 / (1.742 * 10 ** -4)\n",
    "\n",
    "\n",
    "yield_in_g_g(0.0004)\n",
    "\n",
    "theor_arg_from_OD600_with_CGP(1)\n",
    "theor_OD600_with_CGP_for_x_arg(100)\n",
    "theor_OD600_with_CGP_for_x_arg(250)\n",
    "# t = yield_fits['KSF230'].summary().tables[1]\n",
    "# t[('x1')]"
   ],
   "id": "a651ab291f3e4531",
   "outputs": [
    {
     "data": {
      "text/plain": [
       "0.8797979797979798"
      ]
     },
     "execution_count": 12,
     "metadata": {},
     "output_type": "execute_result"
    }
   ],
   "execution_count": 12
  },
  {
   "metadata": {
    "ExecuteTime": {
     "end_time": "2024-11-19T03:52:43.516721Z",
     "start_time": "2024-11-19T03:52:43.513568Z"
    }
   },
   "cell_type": "code",
   "source": ".506 / theor_OD600_with_CGP_for_x_arg(100, frac_cgp_of_cdw=.5)",
   "id": "5ac82d06b57354ba",
   "outputs": [
    {
     "data": {
      "text/plain": [
       "2.8756601607347876"
      ]
     },
     "execution_count": 13,
     "metadata": {},
     "output_type": "execute_result"
    }
   ],
   "execution_count": 13
  },
  {
   "metadata": {
    "ExecuteTime": {
     "end_time": "2024-11-19T03:52:44.065842Z",
     "start_time": "2024-11-19T03:52:43.673622Z"
    }
   },
   "cell_type": "code",
   "source": [
    "import pandera as pa\n",
    "import pandera.typing as pat\n",
    "from analysis.schemas import SakaguchiODSchema\n",
    "\n",
    "\n",
    "@pa.check_types()\n",
    "def sakaguchi_analysis(df: pat.DataFrame[SakaguchiODSchema]):\n",
    "    return df"
   ],
   "id": "fa9e1408ff6fceb0",
   "outputs": [],
   "execution_count": 14
  },
  {
   "metadata": {
    "ExecuteTime": {
     "end_time": "2024-11-19T03:52:45.591518Z",
     "start_time": "2024-11-19T03:52:44.093580Z"
    }
   },
   "cell_type": "code",
   "source": [
    "# noinspection PyTypeChecker\n",
    "df_sakaguchi = pd.read_excel(\n",
    "    '~/tyo_lab_pk/04 Raw Data/EXP_0007_PK_20240909_ArgConcentrationResponse.xlsx',\n",
    "    sheet_name='Sakaguchi for residual arg',\n",
    "    usecols='B:E',\n",
    "    skiprows=45,\n",
    ")\n",
    "\n",
    "sakaguchi_analysis(df_sakaguchi)"
   ],
   "id": "b175819e32b78afa",
   "outputs": [
    {
     "ename": "SchemaError",
     "evalue": "error in check_types decorator of function 'sakaguchi_analysis': column 'conc_factor' not in dataframe. Columns in dataframe: ['sample', 'vol_sample_ul', 'vol_reagentA_ul', 'vol_reagentB_ul']",
     "output_type": "error",
     "traceback": [
      "\u001B[0;31m---------------------------------------------------------------------------\u001B[0m",
      "\u001B[0;31mSchemaError\u001B[0m                               Traceback (most recent call last)",
      "Cell \u001B[0;32mIn[15], line 9\u001B[0m\n\u001B[1;32m      1\u001B[0m \u001B[38;5;66;03m# noinspection PyTypeChecker\u001B[39;00m\n\u001B[1;32m      2\u001B[0m df_sakaguchi \u001B[38;5;241m=\u001B[39m pd\u001B[38;5;241m.\u001B[39mread_excel(\n\u001B[1;32m      3\u001B[0m     \u001B[38;5;124m'\u001B[39m\u001B[38;5;124m~/tyo_lab_pk/04 Raw Data/EXP_0007_PK_20240909_ArgConcentrationResponse.xlsx\u001B[39m\u001B[38;5;124m'\u001B[39m,\n\u001B[1;32m      4\u001B[0m     sheet_name\u001B[38;5;241m=\u001B[39m\u001B[38;5;124m'\u001B[39m\u001B[38;5;124mSakaguchi for residual arg\u001B[39m\u001B[38;5;124m'\u001B[39m,\n\u001B[1;32m      5\u001B[0m     usecols\u001B[38;5;241m=\u001B[39m\u001B[38;5;124m'\u001B[39m\u001B[38;5;124mB:E\u001B[39m\u001B[38;5;124m'\u001B[39m,\n\u001B[1;32m      6\u001B[0m     skiprows\u001B[38;5;241m=\u001B[39m\u001B[38;5;241m45\u001B[39m,\n\u001B[1;32m      7\u001B[0m )\n\u001B[0;32m----> 9\u001B[0m \u001B[43msakaguchi_analysis\u001B[49m\u001B[43m(\u001B[49m\u001B[43mdf_sakaguchi\u001B[49m\u001B[43m)\u001B[49m\n",
      "File \u001B[0;32m~/Library/Caches/pypoetry/virtualenvs/analysis-jO871hYA-py3.12/lib/python3.12/site-packages/pandera/decorators.py:853\u001B[0m, in \u001B[0;36mcheck_types.<locals>._wrapper\u001B[0;34m(wrapped_, instance, args, kwargs)\u001B[0m\n\u001B[1;32m    851\u001B[0m     out \u001B[38;5;241m=\u001B[39m validate_arguments(wrapped_)(\u001B[38;5;241m*\u001B[39margs, \u001B[38;5;241m*\u001B[39m\u001B[38;5;241m*\u001B[39mkwargs)\n\u001B[1;32m    852\u001B[0m \u001B[38;5;28;01melse\u001B[39;00m:\n\u001B[0;32m--> 853\u001B[0m     validated_pos, validated_kwd \u001B[38;5;241m=\u001B[39m \u001B[43mvalidate_inputs\u001B[49m\u001B[43m(\u001B[49m\n\u001B[1;32m    854\u001B[0m \u001B[43m        \u001B[49m\u001B[43minstance\u001B[49m\u001B[43m,\u001B[49m\u001B[43m \u001B[49m\u001B[43margs\u001B[49m\u001B[43m,\u001B[49m\u001B[43m \u001B[49m\u001B[43mkwargs\u001B[49m\n\u001B[1;32m    855\u001B[0m \u001B[43m    \u001B[49m\u001B[43m)\u001B[49m\n\u001B[1;32m    856\u001B[0m     out \u001B[38;5;241m=\u001B[39m wrapped_(\u001B[38;5;241m*\u001B[39mvalidated_pos, \u001B[38;5;241m*\u001B[39m\u001B[38;5;241m*\u001B[39mvalidated_kwd)\n\u001B[1;32m    857\u001B[0m \u001B[38;5;28;01mreturn\u001B[39;00m _check_arg(\u001B[38;5;124m\"\u001B[39m\u001B[38;5;124mreturn\u001B[39m\u001B[38;5;124m\"\u001B[39m, out)\n",
      "File \u001B[0;32m~/Library/Caches/pypoetry/virtualenvs/analysis-jO871hYA-py3.12/lib/python3.12/site-packages/pandera/decorators.py:811\u001B[0m, in \u001B[0;36mcheck_types.<locals>.validate_inputs\u001B[0;34m(instance, args, kwargs)\u001B[0m\n\u001B[1;32m    807\u001B[0m \u001B[38;5;28;01mif\u001B[39;00m instance \u001B[38;5;129;01mis\u001B[39;00m \u001B[38;5;129;01mnot\u001B[39;00m \u001B[38;5;28;01mNone\u001B[39;00m:\n\u001B[1;32m    808\u001B[0m     \u001B[38;5;66;03m# If the wrapped function is a method -> add \"self\" as the first positional arg\u001B[39;00m\n\u001B[1;32m    809\u001B[0m     args \u001B[38;5;241m=\u001B[39m (instance, \u001B[38;5;241m*\u001B[39margs)\n\u001B[0;32m--> 811\u001B[0m validated_pos \u001B[38;5;241m=\u001B[39m \u001B[43mvalidate_args\u001B[49m\u001B[43m(\u001B[49m\u001B[43msig\u001B[49m\u001B[38;5;241;43m.\u001B[39;49m\u001B[43mbind_partial\u001B[49m\u001B[43m(\u001B[49m\u001B[38;5;241;43m*\u001B[39;49m\u001B[43margs\u001B[49m\u001B[43m)\u001B[49m\u001B[38;5;241;43m.\u001B[39;49m\u001B[43marguments\u001B[49m\u001B[43m,\u001B[49m\u001B[43m \u001B[49m\u001B[43margs\u001B[49m\u001B[43m)\u001B[49m\n\u001B[1;32m    812\u001B[0m validated_kwd \u001B[38;5;241m=\u001B[39m validate_kwargs(\n\u001B[1;32m    813\u001B[0m     sig\u001B[38;5;241m.\u001B[39mbind_partial(\u001B[38;5;241m*\u001B[39m\u001B[38;5;241m*\u001B[39mkwargs)\u001B[38;5;241m.\u001B[39marguments, kwargs\n\u001B[1;32m    814\u001B[0m )\n\u001B[1;32m    816\u001B[0m \u001B[38;5;28;01mif\u001B[39;00m instance \u001B[38;5;129;01mis\u001B[39;00m \u001B[38;5;129;01mnot\u001B[39;00m \u001B[38;5;28;01mNone\u001B[39;00m:\n\u001B[1;32m    817\u001B[0m     \u001B[38;5;66;03m# If the decorated func is a method, \"wrapped\" is a bound method\u001B[39;00m\n\u001B[1;32m    818\u001B[0m     \u001B[38;5;66;03m# -> remove \"self\" before passing positional args through\u001B[39;00m\n",
      "File \u001B[0;32m~/Library/Caches/pypoetry/virtualenvs/analysis-jO871hYA-py3.12/lib/python3.12/site-packages/pandera/decorators.py:757\u001B[0m, in \u001B[0;36mcheck_types.<locals>.validate_args\u001B[0;34m(named_arguments, arguments)\u001B[0m\n\u001B[1;32m    754\u001B[0m     \u001B[38;5;28;01mreturn\u001B[39;00m \u001B[38;5;28mlist\u001B[39m((\u001B[38;5;241m*\u001B[39mexplicit_args_tuple, \u001B[38;5;241m*\u001B[39mstar_args_tuple))\n\u001B[1;32m    756\u001B[0m \u001B[38;5;28;01melse\u001B[39;00m:\n\u001B[0;32m--> 757\u001B[0m     \u001B[38;5;28;01mreturn\u001B[39;00m \u001B[38;5;28;43mlist\u001B[39;49m\u001B[43m(\u001B[49m\n\u001B[1;32m    758\u001B[0m \u001B[43m        \u001B[49m\u001B[43m_check_arg\u001B[49m\u001B[43m(\u001B[49m\u001B[43marg_name\u001B[49m\u001B[43m,\u001B[49m\u001B[43m \u001B[49m\u001B[43marg_value\u001B[49m\u001B[43m)\u001B[49m\n\u001B[1;32m    759\u001B[0m \u001B[43m        \u001B[49m\u001B[38;5;28;43;01mfor\u001B[39;49;00m\u001B[43m \u001B[49m\u001B[43marg_name\u001B[49m\u001B[43m,\u001B[49m\u001B[43m \u001B[49m\u001B[43marg_value\u001B[49m\u001B[43m \u001B[49m\u001B[38;5;129;43;01min\u001B[39;49;00m\u001B[43m \u001B[49m\u001B[43mnamed_arguments\u001B[49m\u001B[38;5;241;43m.\u001B[39;49m\u001B[43mitems\u001B[49m\u001B[43m(\u001B[49m\u001B[43m)\u001B[49m\n\u001B[1;32m    760\u001B[0m \u001B[43m    \u001B[49m\u001B[43m)\u001B[49m\n",
      "File \u001B[0;32m~/Library/Caches/pypoetry/virtualenvs/analysis-jO871hYA-py3.12/lib/python3.12/site-packages/pandera/decorators.py:758\u001B[0m, in \u001B[0;36m<genexpr>\u001B[0;34m(.0)\u001B[0m\n\u001B[1;32m    754\u001B[0m     \u001B[38;5;28;01mreturn\u001B[39;00m \u001B[38;5;28mlist\u001B[39m((\u001B[38;5;241m*\u001B[39mexplicit_args_tuple, \u001B[38;5;241m*\u001B[39mstar_args_tuple))\n\u001B[1;32m    756\u001B[0m \u001B[38;5;28;01melse\u001B[39;00m:\n\u001B[1;32m    757\u001B[0m     \u001B[38;5;28;01mreturn\u001B[39;00m \u001B[38;5;28mlist\u001B[39m(\n\u001B[0;32m--> 758\u001B[0m         \u001B[43m_check_arg\u001B[49m\u001B[43m(\u001B[49m\u001B[43marg_name\u001B[49m\u001B[43m,\u001B[49m\u001B[43m \u001B[49m\u001B[43marg_value\u001B[49m\u001B[43m)\u001B[49m\n\u001B[1;32m    759\u001B[0m         \u001B[38;5;28;01mfor\u001B[39;00m arg_name, arg_value \u001B[38;5;129;01min\u001B[39;00m named_arguments\u001B[38;5;241m.\u001B[39mitems()\n\u001B[1;32m    760\u001B[0m     )\n",
      "File \u001B[0;32m~/Library/Caches/pypoetry/virtualenvs/analysis-jO871hYA-py3.12/lib/python3.12/site-packages/pandera/decorators.py:709\u001B[0m, in \u001B[0;36mcheck_types.<locals>._check_arg\u001B[0;34m(arg_name, arg_value)\u001B[0m\n\u001B[1;32m    707\u001B[0m \u001B[38;5;28;01mif\u001B[39;00m error_handler\u001B[38;5;241m.\u001B[39mschema_errors:\n\u001B[1;32m    708\u001B[0m     \u001B[38;5;28;01mif\u001B[39;00m \u001B[38;5;28mlen\u001B[39m(error_handler\u001B[38;5;241m.\u001B[39mschema_errors) \u001B[38;5;241m==\u001B[39m \u001B[38;5;241m1\u001B[39m:\n\u001B[0;32m--> 709\u001B[0m         \u001B[38;5;28;01mraise\u001B[39;00m error_handler\u001B[38;5;241m.\u001B[39mschema_errors[\u001B[38;5;241m0\u001B[39m]\n\u001B[1;32m    711\u001B[0m     \u001B[38;5;28;01mraise\u001B[39;00m errors\u001B[38;5;241m.\u001B[39mSchemaErrors(\n\u001B[1;32m    712\u001B[0m         schema\u001B[38;5;241m=\u001B[39mschema,\n\u001B[1;32m    713\u001B[0m         schema_errors\u001B[38;5;241m=\u001B[39m(\n\u001B[0;32m   (...)\u001B[0m\n\u001B[1;32m    718\u001B[0m         data\u001B[38;5;241m=\u001B[39marg_value,\n\u001B[1;32m    719\u001B[0m     )\n",
      "\u001B[0;31mSchemaError\u001B[0m: error in check_types decorator of function 'sakaguchi_analysis': column 'conc_factor' not in dataframe. Columns in dataframe: ['sample', 'vol_sample_ul', 'vol_reagentA_ul', 'vol_reagentB_ul']"
     ]
    }
   ],
   "execution_count": 15
  },
  {
   "metadata": {},
   "cell_type": "code",
   "source": [
    "plotly_colors = {\n",
    "    \"SP_Brights_Green\": \"rgb(81, 255, 0)\",\n",
    "    \"SP_Brights_Light_Blue\": \"rgb(132, 255, 199)\",\n",
    "    \"SP_Brights_Blue\": \"rgb(81, 168, 255)\",\n",
    "    \"SP_Brights_Yellow\": \"rgb(229, 255, 28)\",\n",
    "    \"SP_Brights_Orange\": \"rgb(255, 196, 13)\",\n",
    "    \"SP_Brights_Orange_Red\": \"rgb(252, 45, 51)\",\n",
    "    \"SP_Dark_Green\": \"rgb(27, 168, 36)\",\n",
    "    \"SP_Dark_Light_Blue\": \"rgb(35, 150, 197)\",\n",
    "    \"SP_Dark_Blue\": \"rgb(58, 38, 147)\",\n",
    "    \"SP_Dark_Yellow\": \"rgb(209, 219, 0)\",\n",
    "    \"SP_Dark_Orange\": \"rgb(201, 126, 19)\",\n",
    "    \"SP_Dark_Orange_Red\": \"rgb(229, 57, 0)\"\n",
    "}"
   ],
   "id": "9b720dd9c9f4d425",
   "outputs": [],
   "execution_count": null
  },
  {
   "metadata": {},
   "cell_type": "code",
   "source": [
    "import plotly.graph_objects as go\n",
    "import numpy as np\n",
    "\n",
    "# Create figure\n",
    "fig = go.Figure()\n",
    "\n",
    "black = 'rgba(255,255,255,0)'\n",
    "\n",
    "# create linear space\n",
    "x_vals = np.linspace(0, 10, 100)\n",
    "\n",
    "# doubling references\n",
    "y_vals_1_1 = x_vals\n",
    "y_vals_1_2 = 2 * x_vals\n",
    "y_vals_1_4 = 4 * x_vals\n",
    "\n",
    "fig.add_trace(\n",
    "    go.Scatter(x=x_vals, y=y_vals_1_1, mode='lines', line=dict(dash='dash', color='black', width=1), name='1:1'))\n",
    "fig.add_trace(\n",
    "    go.Scatter(x=x_vals, y=y_vals_1_2, mode='lines', line=dict(dash='dash', color='black', width=1), name='1:2'))\n",
    "fig.add_trace(\n",
    "    go.Scatter(x=x_vals, y=y_vals_1_4, mode='lines', line=dict(dash='dash', color='black', width=1), name='1:4'))\n",
    "\n",
    "# x -> 1:1   real bad like\n",
    "fig.add_trace(go.Scatter(x=np.concatenate([x_vals, x_vals[::-1]]),\n",
    "                         y=np.concatenate([y_vals_1_1, np.zeros_like(x_vals)]),\n",
    "                         fill='toself',\n",
    "                         fillcolor=plotly_colors['SP_Brights_Orange_Red'],\n",
    "                         opacity=0.2,\n",
    "                         line=dict(color=black),\n",
    "                         showlegend=True))\n",
    "# 1:1 -> 1:2  meh\n",
    "fig.add_trace(go.Scatter(x=np.concatenate([x_vals, x_vals[::-1]]),\n",
    "                         y=np.concatenate([y_vals_1_1, y_vals_1_2[::-1]]),\n",
    "                         fill='toself',\n",
    "                         fillcolor=plotly_colors['SP_Dark_Orange_Red'],\n",
    "                         opacity=0.2,\n",
    "                         line=dict(color=black),\n",
    "                         showlegend=False))\n",
    "# 1:2 -> 1:4  ok\n",
    "fig.add_trace(go.Scatter(x=np.concatenate([x_vals, x_vals[::-1]]),\n",
    "                         y=np.concatenate([y_vals_1_2, y_vals_1_4[::-1]]),\n",
    "                         fill='toself',\n",
    "                         fillcolor=plotly_colors['SP_Dark_Green'],\n",
    "                         opacity=0.2,\n",
    "                         line=dict(color=black),\n",
    "                         showlegend=False))\n",
    "# y -> 1:4  cookin\n",
    "fig.add_trace(go.Scatter(x=np.concatenate([x_vals, np.zeros_like(x_vals)]),\n",
    "                         y=np.concatenate([y_vals_1_4, y_vals_1_4[::-1]]),\n",
    "                         fill='toself',\n",
    "                         fillcolor=plotly_colors['SP_Brights_Green'],\n",
    "                         line=dict(color=black),\n",
    "                         opacity=0.2,\n",
    "                         showlegend=False))\n",
    "\n",
    "fig.add_annotation(x=.9, y=.8, text=\"death\", showarrow=False, font=dict(size=20))\n",
    "fig.add_annotation(x=.8, y=.95, text=\"no doubling\", showarrow=False, font=dict(size=20))\n",
    "fig.add_annotation(x=.35, y=.95, text=\"1-2 doublings\", showarrow=False, font=dict(size=20))\n",
    "fig.add_annotation(x=.11, y=.95, text=\"≥2 doublings\", showarrow=False, font=dict(size=20))\n",
    "\n",
    "# theoretical and experimental curves\n",
    "\n",
    "fig.add_trace(go.Scatter(x=x_vals, y=1.43 * x_vals, mode='lines', line=dict(color='black'), name='∆argBR Best'))\n",
    "fig.add_trace(go.Scatter(x=x_vals, y=4.6 * x_vals, mode='lines', line=dict(color='purple'), name='theoretical'))\n",
    "\n",
    "fig.add_annotation(x=.2, y=.51, text=\"Y theoretical = 4.5\", showarrow=False, font=dict(size=16))\n",
    "fig.add_annotation(x=.42, y=.4, text=\"Y ∆argBR (best of) = 1.5\", showarrow=False, font=dict(size=16))\n",
    "\n",
    "# Update axes and layout for the plot\n",
    "fig.update_layout(\n",
    "    xaxis_title='ADP1 with CGP from Phase 1 (OD600)',\n",
    "    yaxis_title='ADP1 in Phase 2 (OD600)',\n",
    "    xaxis=dict(range=[0, 1]),\n",
    "    yaxis=dict(range=[0, 1]),\n",
    "    showlegend=False,\n",
    "    width=700,\n",
    "    height=700,\n",
    "    plot_bgcolor='rgba(0,0,0,0)'\n",
    ")\n",
    "\n",
    "fig"
   ],
   "id": "398ea1c37fd12419",
   "outputs": [],
   "execution_count": null
  },
  {
   "metadata": {},
   "cell_type": "code",
   "source": "fig.write_image('/Users/pasha/src/nu/posters/artifacts/yield_cgp_for_arg.pdf')",
   "id": "3da2f1e5dffc513a",
   "outputs": [],
   "execution_count": null
  }
 ],
 "metadata": {
  "kernelspec": {
   "display_name": "Python 3",
   "language": "python",
   "name": "python3"
  },
  "language_info": {
   "codemirror_mode": {
    "name": "ipython",
    "version": 2
   },
   "file_extension": ".py",
   "mimetype": "text/x-python",
   "name": "python",
   "nbconvert_exporter": "python",
   "pygments_lexer": "ipython2",
   "version": "2.7.6"
  }
 },
 "nbformat": 4,
 "nbformat_minor": 5
}

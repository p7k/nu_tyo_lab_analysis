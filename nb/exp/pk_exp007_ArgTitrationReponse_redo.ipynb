{
 "cells": [
  {
   "metadata": {
    "ExecuteTime": {
     "end_time": "2024-11-10T17:54:46.466503Z",
     "start_time": "2024-11-10T17:54:45.979570Z"
    }
   },
   "cell_type": "code",
   "source": [
    "import pandas as pd\n",
    "import plotly.express as px\n",
    "import plotly.graph_objects as go\n",
    "import plotly.io as pio\n",
    "from pint import UnitRegistry\n",
    "\n",
    "from analysis.util import dedup_trace_legends"
   ],
   "id": "ae147dc6f28479ae",
   "outputs": [],
   "execution_count": 1
  },
  {
   "metadata": {
    "ExecuteTime": {
     "end_time": "2024-11-10T17:54:46.694799Z",
     "start_time": "2024-11-10T17:54:46.473689Z"
    }
   },
   "cell_type": "code",
   "source": [
    "units = UnitRegistry()\n",
    "\n",
    "# noinspection PyTypeChecker\n",
    "df_od = (\n",
    "    pd.read_excel(\n",
    "        '/Users/pasha/onedrive/nu/Katsev Pavel/04 Raw Data/EXP_0011_PK_20241029_ArgConcentrationResponse.xlsx',\n",
    "        sheet_name='Day 3 - 5 OD tracking',\n",
    "        usecols='A:J',\n",
    "        skiprows=3,\n",
    "    )\n",
    "    .assign(arg_conc=lambda df: df.condition.str.split('•').str.get(0).apply(units.parse_expression))\n",
    "    .assign(arg_conc_uM=lambda df: df.arg_conc.apply(lambda qty: int(qty.to('micromolar').magnitude)))\n",
    "    # .assign(lim=lambda df: np.abs((df.od_sample - df.od_sample.mean()) / df.od_sample.std(ddof=0)) < 3)\n",
    ")\n",
    "# df_od"
   ],
   "id": "d9851c8e4d00f8a3",
   "outputs": [],
   "execution_count": 2
  },
  {
   "metadata": {
    "ExecuteTime": {
     "end_time": "2024-11-10T17:54:46.807624Z",
     "start_time": "2024-11-10T17:54:46.792043Z"
    }
   },
   "cell_type": "code",
   "source": [
    "df_od_mean_sem = (\n",
    "    df_od\n",
    "    # remove bad inoculate 6.1\n",
    "    .loc[lambda df: df.sample_id != 6.1]\n",
    "    .groupby(['elapsed_time_hr', 'strain_id', 'arg_conc_uM'], sort=False)\n",
    "    .agg(\n",
    "        od_sample_mean=pd.NamedAgg('od_sample', 'mean'),\n",
    "        od_sample_sem=pd.NamedAgg('od_sample', 'sem'),\n",
    "    )\n",
    "    .round(3)\n",
    "    .reset_index()\n",
    ")\n",
    "df_od_mean_sem"
   ],
   "id": "e8a7a8c98971b82e",
   "outputs": [
    {
     "data": {
      "text/plain": [
       "    elapsed_time_hr       strain_id  arg_conc_uM  od_sample_mean  \\\n",
       "0               0.0  KSF111 + ∆argB            0           0.109   \n",
       "1               0.0  KSF111 + ∆argB           50           0.111   \n",
       "2               0.0  KSF111 + ∆argB          100           0.113   \n",
       "3               0.0  KSF111 + ∆argB          150           0.107   \n",
       "4               0.0  KSF111 + ∆argB          200           0.109   \n",
       "5               0.0  KSF111 + ∆argB          300           0.106   \n",
       "6               0.0       KSF001 wt            0           0.120   \n",
       "7               0.0       KSF001 wt          300           0.124   \n",
       "8              16.5  KSF111 + ∆argB            0           0.108   \n",
       "9              16.5  KSF111 + ∆argB           50           0.119   \n",
       "10             16.5  KSF111 + ∆argB          100           0.129   \n",
       "11             16.5  KSF111 + ∆argB          150           0.137   \n",
       "12             16.5  KSF111 + ∆argB          200           0.147   \n",
       "13             16.5  KSF111 + ∆argB          300           0.182   \n",
       "14             16.5       KSF001 wt            0           0.208   \n",
       "15             16.5       KSF001 wt          300           1.308   \n",
       "16             23.5  KSF111 + ∆argB            0           0.125   \n",
       "17             23.5  KSF111 + ∆argB           50           0.191   \n",
       "18             23.5  KSF111 + ∆argB          100           0.204   \n",
       "19             23.5  KSF111 + ∆argB          150           0.235   \n",
       "20             23.5  KSF111 + ∆argB          200           0.269   \n",
       "21             23.5  KSF111 + ∆argB          300           0.344   \n",
       "22             23.5       KSF001 wt            0           0.808   \n",
       "23             23.5       KSF001 wt          300           1.328   \n",
       "24             41.0  KSF111 + ∆argB            0           0.173   \n",
       "25             41.0  KSF111 + ∆argB           50           0.548   \n",
       "26             41.0  KSF111 + ∆argB          100           0.595   \n",
       "27             41.0  KSF111 + ∆argB          150           0.589   \n",
       "28             41.0  KSF111 + ∆argB          200           0.611   \n",
       "29             41.0  KSF111 + ∆argB          300           0.626   \n",
       "30             41.0       KSF001 wt            0           0.944   \n",
       "31             41.0       KSF001 wt          300           1.376   \n",
       "32             52.0  KSF111 + ∆argB            0           0.228   \n",
       "33             52.0  KSF111 + ∆argB           50           0.620   \n",
       "34             52.0  KSF111 + ∆argB          100           0.667   \n",
       "35             52.0  KSF111 + ∆argB          150           0.633   \n",
       "36             52.0  KSF111 + ∆argB          200           0.636   \n",
       "37             52.0  KSF111 + ∆argB          300           0.658   \n",
       "38             52.0       KSF001 wt            0           0.944   \n",
       "39             52.0       KSF001 wt          300           1.456   \n",
       "40             64.5  KSF111 + ∆argB            0           0.267   \n",
       "41             64.5  KSF111 + ∆argB           50           0.715   \n",
       "42             64.5  KSF111 + ∆argB          100           0.768   \n",
       "43             64.5  KSF111 + ∆argB          150           0.749   \n",
       "44             64.5  KSF111 + ∆argB          200           0.723   \n",
       "45             64.5  KSF111 + ∆argB          300           0.718   \n",
       "46             64.5       KSF001 wt            0           1.048   \n",
       "47             64.5       KSF001 wt          300           1.480   \n",
       "\n",
       "    od_sample_sem  \n",
       "0           0.001  \n",
       "1           0.002  \n",
       "2           0.004  \n",
       "3           0.001  \n",
       "4           0.002  \n",
       "5           0.002  \n",
       "6             NaN  \n",
       "7             NaN  \n",
       "8           0.002  \n",
       "9           0.003  \n",
       "10          0.001  \n",
       "11          0.006  \n",
       "12          0.013  \n",
       "13          0.038  \n",
       "14            NaN  \n",
       "15            NaN  \n",
       "16          0.001  \n",
       "17          0.007  \n",
       "18          0.015  \n",
       "19          0.015  \n",
       "20          0.019  \n",
       "21          0.084  \n",
       "22            NaN  \n",
       "23            NaN  \n",
       "24          0.004  \n",
       "25          0.011  \n",
       "26          0.011  \n",
       "27          0.015  \n",
       "28          0.001  \n",
       "29          0.002  \n",
       "30            NaN  \n",
       "31            NaN  \n",
       "32          0.006  \n",
       "33          0.011  \n",
       "34          0.024  \n",
       "35          0.020  \n",
       "36          0.002  \n",
       "37          0.006  \n",
       "38            NaN  \n",
       "39            NaN  \n",
       "40          0.007  \n",
       "41          0.007  \n",
       "42          0.008  \n",
       "43          0.013  \n",
       "44          0.009  \n",
       "45          0.014  \n",
       "46            NaN  \n",
       "47            NaN  "
      ],
      "text/html": [
       "<div>\n",
       "<style scoped>\n",
       "    .dataframe tbody tr th:only-of-type {\n",
       "        vertical-align: middle;\n",
       "    }\n",
       "\n",
       "    .dataframe tbody tr th {\n",
       "        vertical-align: top;\n",
       "    }\n",
       "\n",
       "    .dataframe thead th {\n",
       "        text-align: right;\n",
       "    }\n",
       "</style>\n",
       "<table border=\"1\" class=\"dataframe\">\n",
       "  <thead>\n",
       "    <tr style=\"text-align: right;\">\n",
       "      <th></th>\n",
       "      <th>elapsed_time_hr</th>\n",
       "      <th>strain_id</th>\n",
       "      <th>arg_conc_uM</th>\n",
       "      <th>od_sample_mean</th>\n",
       "      <th>od_sample_sem</th>\n",
       "    </tr>\n",
       "  </thead>\n",
       "  <tbody>\n",
       "    <tr>\n",
       "      <th>0</th>\n",
       "      <td>0.0</td>\n",
       "      <td>KSF111 + ∆argB</td>\n",
       "      <td>0</td>\n",
       "      <td>0.109</td>\n",
       "      <td>0.001</td>\n",
       "    </tr>\n",
       "    <tr>\n",
       "      <th>1</th>\n",
       "      <td>0.0</td>\n",
       "      <td>KSF111 + ∆argB</td>\n",
       "      <td>50</td>\n",
       "      <td>0.111</td>\n",
       "      <td>0.002</td>\n",
       "    </tr>\n",
       "    <tr>\n",
       "      <th>2</th>\n",
       "      <td>0.0</td>\n",
       "      <td>KSF111 + ∆argB</td>\n",
       "      <td>100</td>\n",
       "      <td>0.113</td>\n",
       "      <td>0.004</td>\n",
       "    </tr>\n",
       "    <tr>\n",
       "      <th>3</th>\n",
       "      <td>0.0</td>\n",
       "      <td>KSF111 + ∆argB</td>\n",
       "      <td>150</td>\n",
       "      <td>0.107</td>\n",
       "      <td>0.001</td>\n",
       "    </tr>\n",
       "    <tr>\n",
       "      <th>4</th>\n",
       "      <td>0.0</td>\n",
       "      <td>KSF111 + ∆argB</td>\n",
       "      <td>200</td>\n",
       "      <td>0.109</td>\n",
       "      <td>0.002</td>\n",
       "    </tr>\n",
       "    <tr>\n",
       "      <th>5</th>\n",
       "      <td>0.0</td>\n",
       "      <td>KSF111 + ∆argB</td>\n",
       "      <td>300</td>\n",
       "      <td>0.106</td>\n",
       "      <td>0.002</td>\n",
       "    </tr>\n",
       "    <tr>\n",
       "      <th>6</th>\n",
       "      <td>0.0</td>\n",
       "      <td>KSF001 wt</td>\n",
       "      <td>0</td>\n",
       "      <td>0.120</td>\n",
       "      <td>NaN</td>\n",
       "    </tr>\n",
       "    <tr>\n",
       "      <th>7</th>\n",
       "      <td>0.0</td>\n",
       "      <td>KSF001 wt</td>\n",
       "      <td>300</td>\n",
       "      <td>0.124</td>\n",
       "      <td>NaN</td>\n",
       "    </tr>\n",
       "    <tr>\n",
       "      <th>8</th>\n",
       "      <td>16.5</td>\n",
       "      <td>KSF111 + ∆argB</td>\n",
       "      <td>0</td>\n",
       "      <td>0.108</td>\n",
       "      <td>0.002</td>\n",
       "    </tr>\n",
       "    <tr>\n",
       "      <th>9</th>\n",
       "      <td>16.5</td>\n",
       "      <td>KSF111 + ∆argB</td>\n",
       "      <td>50</td>\n",
       "      <td>0.119</td>\n",
       "      <td>0.003</td>\n",
       "    </tr>\n",
       "    <tr>\n",
       "      <th>10</th>\n",
       "      <td>16.5</td>\n",
       "      <td>KSF111 + ∆argB</td>\n",
       "      <td>100</td>\n",
       "      <td>0.129</td>\n",
       "      <td>0.001</td>\n",
       "    </tr>\n",
       "    <tr>\n",
       "      <th>11</th>\n",
       "      <td>16.5</td>\n",
       "      <td>KSF111 + ∆argB</td>\n",
       "      <td>150</td>\n",
       "      <td>0.137</td>\n",
       "      <td>0.006</td>\n",
       "    </tr>\n",
       "    <tr>\n",
       "      <th>12</th>\n",
       "      <td>16.5</td>\n",
       "      <td>KSF111 + ∆argB</td>\n",
       "      <td>200</td>\n",
       "      <td>0.147</td>\n",
       "      <td>0.013</td>\n",
       "    </tr>\n",
       "    <tr>\n",
       "      <th>13</th>\n",
       "      <td>16.5</td>\n",
       "      <td>KSF111 + ∆argB</td>\n",
       "      <td>300</td>\n",
       "      <td>0.182</td>\n",
       "      <td>0.038</td>\n",
       "    </tr>\n",
       "    <tr>\n",
       "      <th>14</th>\n",
       "      <td>16.5</td>\n",
       "      <td>KSF001 wt</td>\n",
       "      <td>0</td>\n",
       "      <td>0.208</td>\n",
       "      <td>NaN</td>\n",
       "    </tr>\n",
       "    <tr>\n",
       "      <th>15</th>\n",
       "      <td>16.5</td>\n",
       "      <td>KSF001 wt</td>\n",
       "      <td>300</td>\n",
       "      <td>1.308</td>\n",
       "      <td>NaN</td>\n",
       "    </tr>\n",
       "    <tr>\n",
       "      <th>16</th>\n",
       "      <td>23.5</td>\n",
       "      <td>KSF111 + ∆argB</td>\n",
       "      <td>0</td>\n",
       "      <td>0.125</td>\n",
       "      <td>0.001</td>\n",
       "    </tr>\n",
       "    <tr>\n",
       "      <th>17</th>\n",
       "      <td>23.5</td>\n",
       "      <td>KSF111 + ∆argB</td>\n",
       "      <td>50</td>\n",
       "      <td>0.191</td>\n",
       "      <td>0.007</td>\n",
       "    </tr>\n",
       "    <tr>\n",
       "      <th>18</th>\n",
       "      <td>23.5</td>\n",
       "      <td>KSF111 + ∆argB</td>\n",
       "      <td>100</td>\n",
       "      <td>0.204</td>\n",
       "      <td>0.015</td>\n",
       "    </tr>\n",
       "    <tr>\n",
       "      <th>19</th>\n",
       "      <td>23.5</td>\n",
       "      <td>KSF111 + ∆argB</td>\n",
       "      <td>150</td>\n",
       "      <td>0.235</td>\n",
       "      <td>0.015</td>\n",
       "    </tr>\n",
       "    <tr>\n",
       "      <th>20</th>\n",
       "      <td>23.5</td>\n",
       "      <td>KSF111 + ∆argB</td>\n",
       "      <td>200</td>\n",
       "      <td>0.269</td>\n",
       "      <td>0.019</td>\n",
       "    </tr>\n",
       "    <tr>\n",
       "      <th>21</th>\n",
       "      <td>23.5</td>\n",
       "      <td>KSF111 + ∆argB</td>\n",
       "      <td>300</td>\n",
       "      <td>0.344</td>\n",
       "      <td>0.084</td>\n",
       "    </tr>\n",
       "    <tr>\n",
       "      <th>22</th>\n",
       "      <td>23.5</td>\n",
       "      <td>KSF001 wt</td>\n",
       "      <td>0</td>\n",
       "      <td>0.808</td>\n",
       "      <td>NaN</td>\n",
       "    </tr>\n",
       "    <tr>\n",
       "      <th>23</th>\n",
       "      <td>23.5</td>\n",
       "      <td>KSF001 wt</td>\n",
       "      <td>300</td>\n",
       "      <td>1.328</td>\n",
       "      <td>NaN</td>\n",
       "    </tr>\n",
       "    <tr>\n",
       "      <th>24</th>\n",
       "      <td>41.0</td>\n",
       "      <td>KSF111 + ∆argB</td>\n",
       "      <td>0</td>\n",
       "      <td>0.173</td>\n",
       "      <td>0.004</td>\n",
       "    </tr>\n",
       "    <tr>\n",
       "      <th>25</th>\n",
       "      <td>41.0</td>\n",
       "      <td>KSF111 + ∆argB</td>\n",
       "      <td>50</td>\n",
       "      <td>0.548</td>\n",
       "      <td>0.011</td>\n",
       "    </tr>\n",
       "    <tr>\n",
       "      <th>26</th>\n",
       "      <td>41.0</td>\n",
       "      <td>KSF111 + ∆argB</td>\n",
       "      <td>100</td>\n",
       "      <td>0.595</td>\n",
       "      <td>0.011</td>\n",
       "    </tr>\n",
       "    <tr>\n",
       "      <th>27</th>\n",
       "      <td>41.0</td>\n",
       "      <td>KSF111 + ∆argB</td>\n",
       "      <td>150</td>\n",
       "      <td>0.589</td>\n",
       "      <td>0.015</td>\n",
       "    </tr>\n",
       "    <tr>\n",
       "      <th>28</th>\n",
       "      <td>41.0</td>\n",
       "      <td>KSF111 + ∆argB</td>\n",
       "      <td>200</td>\n",
       "      <td>0.611</td>\n",
       "      <td>0.001</td>\n",
       "    </tr>\n",
       "    <tr>\n",
       "      <th>29</th>\n",
       "      <td>41.0</td>\n",
       "      <td>KSF111 + ∆argB</td>\n",
       "      <td>300</td>\n",
       "      <td>0.626</td>\n",
       "      <td>0.002</td>\n",
       "    </tr>\n",
       "    <tr>\n",
       "      <th>30</th>\n",
       "      <td>41.0</td>\n",
       "      <td>KSF001 wt</td>\n",
       "      <td>0</td>\n",
       "      <td>0.944</td>\n",
       "      <td>NaN</td>\n",
       "    </tr>\n",
       "    <tr>\n",
       "      <th>31</th>\n",
       "      <td>41.0</td>\n",
       "      <td>KSF001 wt</td>\n",
       "      <td>300</td>\n",
       "      <td>1.376</td>\n",
       "      <td>NaN</td>\n",
       "    </tr>\n",
       "    <tr>\n",
       "      <th>32</th>\n",
       "      <td>52.0</td>\n",
       "      <td>KSF111 + ∆argB</td>\n",
       "      <td>0</td>\n",
       "      <td>0.228</td>\n",
       "      <td>0.006</td>\n",
       "    </tr>\n",
       "    <tr>\n",
       "      <th>33</th>\n",
       "      <td>52.0</td>\n",
       "      <td>KSF111 + ∆argB</td>\n",
       "      <td>50</td>\n",
       "      <td>0.620</td>\n",
       "      <td>0.011</td>\n",
       "    </tr>\n",
       "    <tr>\n",
       "      <th>34</th>\n",
       "      <td>52.0</td>\n",
       "      <td>KSF111 + ∆argB</td>\n",
       "      <td>100</td>\n",
       "      <td>0.667</td>\n",
       "      <td>0.024</td>\n",
       "    </tr>\n",
       "    <tr>\n",
       "      <th>35</th>\n",
       "      <td>52.0</td>\n",
       "      <td>KSF111 + ∆argB</td>\n",
       "      <td>150</td>\n",
       "      <td>0.633</td>\n",
       "      <td>0.020</td>\n",
       "    </tr>\n",
       "    <tr>\n",
       "      <th>36</th>\n",
       "      <td>52.0</td>\n",
       "      <td>KSF111 + ∆argB</td>\n",
       "      <td>200</td>\n",
       "      <td>0.636</td>\n",
       "      <td>0.002</td>\n",
       "    </tr>\n",
       "    <tr>\n",
       "      <th>37</th>\n",
       "      <td>52.0</td>\n",
       "      <td>KSF111 + ∆argB</td>\n",
       "      <td>300</td>\n",
       "      <td>0.658</td>\n",
       "      <td>0.006</td>\n",
       "    </tr>\n",
       "    <tr>\n",
       "      <th>38</th>\n",
       "      <td>52.0</td>\n",
       "      <td>KSF001 wt</td>\n",
       "      <td>0</td>\n",
       "      <td>0.944</td>\n",
       "      <td>NaN</td>\n",
       "    </tr>\n",
       "    <tr>\n",
       "      <th>39</th>\n",
       "      <td>52.0</td>\n",
       "      <td>KSF001 wt</td>\n",
       "      <td>300</td>\n",
       "      <td>1.456</td>\n",
       "      <td>NaN</td>\n",
       "    </tr>\n",
       "    <tr>\n",
       "      <th>40</th>\n",
       "      <td>64.5</td>\n",
       "      <td>KSF111 + ∆argB</td>\n",
       "      <td>0</td>\n",
       "      <td>0.267</td>\n",
       "      <td>0.007</td>\n",
       "    </tr>\n",
       "    <tr>\n",
       "      <th>41</th>\n",
       "      <td>64.5</td>\n",
       "      <td>KSF111 + ∆argB</td>\n",
       "      <td>50</td>\n",
       "      <td>0.715</td>\n",
       "      <td>0.007</td>\n",
       "    </tr>\n",
       "    <tr>\n",
       "      <th>42</th>\n",
       "      <td>64.5</td>\n",
       "      <td>KSF111 + ∆argB</td>\n",
       "      <td>100</td>\n",
       "      <td>0.768</td>\n",
       "      <td>0.008</td>\n",
       "    </tr>\n",
       "    <tr>\n",
       "      <th>43</th>\n",
       "      <td>64.5</td>\n",
       "      <td>KSF111 + ∆argB</td>\n",
       "      <td>150</td>\n",
       "      <td>0.749</td>\n",
       "      <td>0.013</td>\n",
       "    </tr>\n",
       "    <tr>\n",
       "      <th>44</th>\n",
       "      <td>64.5</td>\n",
       "      <td>KSF111 + ∆argB</td>\n",
       "      <td>200</td>\n",
       "      <td>0.723</td>\n",
       "      <td>0.009</td>\n",
       "    </tr>\n",
       "    <tr>\n",
       "      <th>45</th>\n",
       "      <td>64.5</td>\n",
       "      <td>KSF111 + ∆argB</td>\n",
       "      <td>300</td>\n",
       "      <td>0.718</td>\n",
       "      <td>0.014</td>\n",
       "    </tr>\n",
       "    <tr>\n",
       "      <th>46</th>\n",
       "      <td>64.5</td>\n",
       "      <td>KSF001 wt</td>\n",
       "      <td>0</td>\n",
       "      <td>1.048</td>\n",
       "      <td>NaN</td>\n",
       "    </tr>\n",
       "    <tr>\n",
       "      <th>47</th>\n",
       "      <td>64.5</td>\n",
       "      <td>KSF001 wt</td>\n",
       "      <td>300</td>\n",
       "      <td>1.480</td>\n",
       "      <td>NaN</td>\n",
       "    </tr>\n",
       "  </tbody>\n",
       "</table>\n",
       "</div>"
      ]
     },
     "execution_count": 3,
     "metadata": {},
     "output_type": "execute_result"
    }
   ],
   "execution_count": 3
  },
  {
   "metadata": {
    "ExecuteTime": {
     "end_time": "2024-11-10T20:16:40.863595Z",
     "start_time": "2024-11-10T20:16:40.503841Z"
    }
   },
   "cell_type": "code",
   "source": [
    "fig_arg_response = (\n",
    "    px\n",
    "    .bar(\n",
    "        df_od_mean_sem,\n",
    "        x='elapsed_time_hr',\n",
    "        y='od_sample_mean',\n",
    "        error_y='od_sample_sem',\n",
    "        color='strain_id',\n",
    "        facet_col='arg_conc_uM',\n",
    "        barmode='group',\n",
    "        labels={\n",
    "            'arg_conc_uM': '[Arg] µM',\n",
    "            'od_sample_mean': 'OD600 (mean)',\n",
    "            'strain_id': 'ADP1 strain',\n",
    "            'elapsed_time_hr': '',\n",
    "        },\n",
    "    )\n",
    "    .add_traces(\n",
    "        px.line(\n",
    "            df_od_mean_sem,\n",
    "            x='elapsed_time_hr',\n",
    "            y='od_sample_mean',\n",
    "            color='strain_id',\n",
    "            facet_col='arg_conc_uM',\n",
    "            markers=False,\n",
    "        )['data']\n",
    "    )\n",
    "    .update_layout(\n",
    "        title='OD ADP1 [KSF111 (∆cphAI ∆astA ∆argBR), KSF001 (wt - pos.ctrl)] | growth in 0µm•Arg after LB preculture and 0µm•Arg wash',\n",
    "        title_x=0.5,\n",
    "        showlegend=True,\n",
    "        boxmode='group',\n",
    "        boxgap=.8,  # Gap between boxes in the same group (0.5 makes them narrower)\n",
    "        boxgroupgap=0,  # Gap between different groups of boxes,\n",
    "        # height=500,\n",
    "        # width=2000,\n",
    "        xaxis_title='Elapsed Time [hr]',\n",
    "        # xaxis_title_x=.5,\n",
    "    )\n",
    "    .for_each_trace(dedup_trace_legends())\n",
    ")\n",
    "\n",
    "fig_arg_response.write_image('../../figures/pk_exp0011_arg_response_raw.pdf')\n",
    "fig_arg_response"
   ],
   "id": "2c4b88eea3f9cc94",
   "outputs": [
    {
     "data": {
      "application/vnd.plotly.v1+json": {
       "data": [
        {
         "alignmentgroup": "True",
         "error_y": {
          "array": [
           0.001,
           0.002,
           0.001,
           0.004,
           0.006,
           0.007
          ]
         },
         "hovertemplate": "ADP1 strain=KSF111 + ∆argB<br>[Arg] µM=0<br>=%{x}<br>OD600 (mean)=%{y}<extra></extra>",
         "legendgroup": "KSF111 + ∆argB",
         "marker": {
          "color": "#636efa",
          "pattern": {
           "shape": ""
          }
         },
         "name": "KSF111 + ∆argB",
         "offsetgroup": "KSF111 + ∆argB",
         "orientation": "v",
         "showlegend": true,
         "textposition": "auto",
         "x": [
          0.0,
          16.5,
          23.500000000116415,
          41.00000000005821,
          52.000000000116415,
          64.5
         ],
         "xaxis": "x",
         "y": [
          0.109,
          0.108,
          0.125,
          0.173,
          0.228,
          0.267
         ],
         "yaxis": "y",
         "type": "bar"
        },
        {
         "alignmentgroup": "True",
         "error_y": {
          "array": [
           0.002,
           0.003,
           0.007,
           0.011,
           0.011,
           0.007
          ]
         },
         "hovertemplate": "ADP1 strain=KSF111 + ∆argB<br>[Arg] µM=50<br>=%{x}<br>OD600 (mean)=%{y}<extra></extra>",
         "legendgroup": "KSF111 + ∆argB",
         "marker": {
          "color": "#636efa",
          "pattern": {
           "shape": ""
          }
         },
         "name": "KSF111 + ∆argB",
         "offsetgroup": "KSF111 + ∆argB",
         "orientation": "v",
         "showlegend": false,
         "textposition": "auto",
         "x": [
          0.0,
          16.5,
          23.500000000116415,
          41.00000000005821,
          52.000000000116415,
          64.5
         ],
         "xaxis": "x2",
         "y": [
          0.111,
          0.119,
          0.191,
          0.548,
          0.62,
          0.715
         ],
         "yaxis": "y2",
         "type": "bar"
        },
        {
         "alignmentgroup": "True",
         "error_y": {
          "array": [
           0.004,
           0.001,
           0.015,
           0.011,
           0.024,
           0.008
          ]
         },
         "hovertemplate": "ADP1 strain=KSF111 + ∆argB<br>[Arg] µM=100<br>=%{x}<br>OD600 (mean)=%{y}<extra></extra>",
         "legendgroup": "KSF111 + ∆argB",
         "marker": {
          "color": "#636efa",
          "pattern": {
           "shape": ""
          }
         },
         "name": "KSF111 + ∆argB",
         "offsetgroup": "KSF111 + ∆argB",
         "orientation": "v",
         "showlegend": false,
         "textposition": "auto",
         "x": [
          0.0,
          16.5,
          23.500000000116415,
          41.00000000005821,
          52.000000000116415,
          64.5
         ],
         "xaxis": "x3",
         "y": [
          0.113,
          0.129,
          0.204,
          0.595,
          0.667,
          0.768
         ],
         "yaxis": "y3",
         "type": "bar"
        },
        {
         "alignmentgroup": "True",
         "error_y": {
          "array": [
           0.001,
           0.006,
           0.015,
           0.015,
           0.02,
           0.013
          ]
         },
         "hovertemplate": "ADP1 strain=KSF111 + ∆argB<br>[Arg] µM=150<br>=%{x}<br>OD600 (mean)=%{y}<extra></extra>",
         "legendgroup": "KSF111 + ∆argB",
         "marker": {
          "color": "#636efa",
          "pattern": {
           "shape": ""
          }
         },
         "name": "KSF111 + ∆argB",
         "offsetgroup": "KSF111 + ∆argB",
         "orientation": "v",
         "showlegend": false,
         "textposition": "auto",
         "x": [
          0.0,
          16.5,
          23.500000000116415,
          41.00000000005821,
          52.000000000116415,
          64.5
         ],
         "xaxis": "x4",
         "y": [
          0.107,
          0.137,
          0.235,
          0.589,
          0.633,
          0.749
         ],
         "yaxis": "y4",
         "type": "bar"
        },
        {
         "alignmentgroup": "True",
         "error_y": {
          "array": [
           0.002,
           0.013,
           0.019,
           0.001,
           0.002,
           0.009
          ]
         },
         "hovertemplate": "ADP1 strain=KSF111 + ∆argB<br>[Arg] µM=200<br>=%{x}<br>OD600 (mean)=%{y}<extra></extra>",
         "legendgroup": "KSF111 + ∆argB",
         "marker": {
          "color": "#636efa",
          "pattern": {
           "shape": ""
          }
         },
         "name": "KSF111 + ∆argB",
         "offsetgroup": "KSF111 + ∆argB",
         "orientation": "v",
         "showlegend": false,
         "textposition": "auto",
         "x": [
          0.0,
          16.5,
          23.500000000116415,
          41.00000000005821,
          52.000000000116415,
          64.5
         ],
         "xaxis": "x5",
         "y": [
          0.109,
          0.147,
          0.269,
          0.611,
          0.636,
          0.723
         ],
         "yaxis": "y5",
         "type": "bar"
        },
        {
         "alignmentgroup": "True",
         "error_y": {
          "array": [
           0.002,
           0.038,
           0.084,
           0.002,
           0.006,
           0.014
          ]
         },
         "hovertemplate": "ADP1 strain=KSF111 + ∆argB<br>[Arg] µM=300<br>=%{x}<br>OD600 (mean)=%{y}<extra></extra>",
         "legendgroup": "KSF111 + ∆argB",
         "marker": {
          "color": "#636efa",
          "pattern": {
           "shape": ""
          }
         },
         "name": "KSF111 + ∆argB",
         "offsetgroup": "KSF111 + ∆argB",
         "orientation": "v",
         "showlegend": false,
         "textposition": "auto",
         "x": [
          0.0,
          16.5,
          23.500000000116415,
          41.00000000005821,
          52.000000000116415,
          64.5
         ],
         "xaxis": "x6",
         "y": [
          0.106,
          0.182,
          0.344,
          0.626,
          0.658,
          0.718
         ],
         "yaxis": "y6",
         "type": "bar"
        },
        {
         "alignmentgroup": "True",
         "error_y": {
          "array": [
           null,
           null,
           null,
           null,
           null,
           null
          ]
         },
         "hovertemplate": "ADP1 strain=KSF001 wt<br>[Arg] µM=0<br>=%{x}<br>OD600 (mean)=%{y}<extra></extra>",
         "legendgroup": "KSF001 wt",
         "marker": {
          "color": "#EF553B",
          "pattern": {
           "shape": ""
          }
         },
         "name": "KSF001 wt",
         "offsetgroup": "KSF001 wt",
         "orientation": "v",
         "showlegend": true,
         "textposition": "auto",
         "x": [
          0.0,
          16.5,
          23.500000000116415,
          41.00000000005821,
          52.000000000116415,
          64.5
         ],
         "xaxis": "x",
         "y": [
          0.12,
          0.208,
          0.808,
          0.944,
          0.944,
          1.048
         ],
         "yaxis": "y",
         "type": "bar"
        },
        {
         "alignmentgroup": "True",
         "error_y": {
          "array": [
           null,
           null,
           null,
           null,
           null,
           null
          ]
         },
         "hovertemplate": "ADP1 strain=KSF001 wt<br>[Arg] µM=300<br>=%{x}<br>OD600 (mean)=%{y}<extra></extra>",
         "legendgroup": "KSF001 wt",
         "marker": {
          "color": "#EF553B",
          "pattern": {
           "shape": ""
          }
         },
         "name": "KSF001 wt",
         "offsetgroup": "KSF001 wt",
         "orientation": "v",
         "showlegend": false,
         "textposition": "auto",
         "x": [
          0.0,
          16.5,
          23.500000000116415,
          41.00000000005821,
          52.000000000116415,
          64.5
         ],
         "xaxis": "x6",
         "y": [
          0.124,
          1.308,
          1.328,
          1.376,
          1.456,
          1.48
         ],
         "yaxis": "y6",
         "type": "bar"
        },
        {
         "hovertemplate": "strain_id=KSF111 + ∆argB<br>arg_conc_uM=0<br>elapsed_time_hr=%{x}<br>od_sample_mean=%{y}<extra></extra>",
         "legendgroup": "KSF111 + ∆argB",
         "line": {
          "color": "#636efa",
          "dash": "solid"
         },
         "marker": {
          "symbol": "circle"
         },
         "mode": "lines",
         "name": "KSF111 + ∆argB",
         "orientation": "v",
         "showlegend": false,
         "x": [
          0.0,
          16.5,
          23.500000000116415,
          41.00000000005821,
          52.000000000116415,
          64.5
         ],
         "xaxis": "x",
         "y": [
          0.109,
          0.108,
          0.125,
          0.173,
          0.228,
          0.267
         ],
         "yaxis": "y",
         "type": "scatter"
        },
        {
         "hovertemplate": "strain_id=KSF111 + ∆argB<br>arg_conc_uM=50<br>elapsed_time_hr=%{x}<br>od_sample_mean=%{y}<extra></extra>",
         "legendgroup": "KSF111 + ∆argB",
         "line": {
          "color": "#636efa",
          "dash": "solid"
         },
         "marker": {
          "symbol": "circle"
         },
         "mode": "lines",
         "name": "KSF111 + ∆argB",
         "orientation": "v",
         "showlegend": false,
         "x": [
          0.0,
          16.5,
          23.500000000116415,
          41.00000000005821,
          52.000000000116415,
          64.5
         ],
         "xaxis": "x2",
         "y": [
          0.111,
          0.119,
          0.191,
          0.548,
          0.62,
          0.715
         ],
         "yaxis": "y2",
         "type": "scatter"
        },
        {
         "hovertemplate": "strain_id=KSF111 + ∆argB<br>arg_conc_uM=100<br>elapsed_time_hr=%{x}<br>od_sample_mean=%{y}<extra></extra>",
         "legendgroup": "KSF111 + ∆argB",
         "line": {
          "color": "#636efa",
          "dash": "solid"
         },
         "marker": {
          "symbol": "circle"
         },
         "mode": "lines",
         "name": "KSF111 + ∆argB",
         "orientation": "v",
         "showlegend": false,
         "x": [
          0.0,
          16.5,
          23.500000000116415,
          41.00000000005821,
          52.000000000116415,
          64.5
         ],
         "xaxis": "x3",
         "y": [
          0.113,
          0.129,
          0.204,
          0.595,
          0.667,
          0.768
         ],
         "yaxis": "y3",
         "type": "scatter"
        },
        {
         "hovertemplate": "strain_id=KSF111 + ∆argB<br>arg_conc_uM=150<br>elapsed_time_hr=%{x}<br>od_sample_mean=%{y}<extra></extra>",
         "legendgroup": "KSF111 + ∆argB",
         "line": {
          "color": "#636efa",
          "dash": "solid"
         },
         "marker": {
          "symbol": "circle"
         },
         "mode": "lines",
         "name": "KSF111 + ∆argB",
         "orientation": "v",
         "showlegend": false,
         "x": [
          0.0,
          16.5,
          23.500000000116415,
          41.00000000005821,
          52.000000000116415,
          64.5
         ],
         "xaxis": "x4",
         "y": [
          0.107,
          0.137,
          0.235,
          0.589,
          0.633,
          0.749
         ],
         "yaxis": "y4",
         "type": "scatter"
        },
        {
         "hovertemplate": "strain_id=KSF111 + ∆argB<br>arg_conc_uM=200<br>elapsed_time_hr=%{x}<br>od_sample_mean=%{y}<extra></extra>",
         "legendgroup": "KSF111 + ∆argB",
         "line": {
          "color": "#636efa",
          "dash": "solid"
         },
         "marker": {
          "symbol": "circle"
         },
         "mode": "lines",
         "name": "KSF111 + ∆argB",
         "orientation": "v",
         "showlegend": false,
         "x": [
          0.0,
          16.5,
          23.500000000116415,
          41.00000000005821,
          52.000000000116415,
          64.5
         ],
         "xaxis": "x5",
         "y": [
          0.109,
          0.147,
          0.269,
          0.611,
          0.636,
          0.723
         ],
         "yaxis": "y5",
         "type": "scatter"
        },
        {
         "hovertemplate": "strain_id=KSF111 + ∆argB<br>arg_conc_uM=300<br>elapsed_time_hr=%{x}<br>od_sample_mean=%{y}<extra></extra>",
         "legendgroup": "KSF111 + ∆argB",
         "line": {
          "color": "#636efa",
          "dash": "solid"
         },
         "marker": {
          "symbol": "circle"
         },
         "mode": "lines",
         "name": "KSF111 + ∆argB",
         "orientation": "v",
         "showlegend": false,
         "x": [
          0.0,
          16.5,
          23.500000000116415,
          41.00000000005821,
          52.000000000116415,
          64.5
         ],
         "xaxis": "x6",
         "y": [
          0.106,
          0.182,
          0.344,
          0.626,
          0.658,
          0.718
         ],
         "yaxis": "y6",
         "type": "scatter"
        },
        {
         "hovertemplate": "strain_id=KSF001 wt<br>arg_conc_uM=0<br>elapsed_time_hr=%{x}<br>od_sample_mean=%{y}<extra></extra>",
         "legendgroup": "KSF001 wt",
         "line": {
          "color": "#EF553B",
          "dash": "solid"
         },
         "marker": {
          "symbol": "circle"
         },
         "mode": "lines",
         "name": "KSF001 wt",
         "orientation": "v",
         "showlegend": false,
         "x": [
          0.0,
          16.5,
          23.500000000116415,
          41.00000000005821,
          52.000000000116415,
          64.5
         ],
         "xaxis": "x",
         "y": [
          0.12,
          0.208,
          0.808,
          0.944,
          0.944,
          1.048
         ],
         "yaxis": "y",
         "type": "scatter"
        },
        {
         "hovertemplate": "strain_id=KSF001 wt<br>arg_conc_uM=300<br>elapsed_time_hr=%{x}<br>od_sample_mean=%{y}<extra></extra>",
         "legendgroup": "KSF001 wt",
         "line": {
          "color": "#EF553B",
          "dash": "solid"
         },
         "marker": {
          "symbol": "circle"
         },
         "mode": "lines",
         "name": "KSF001 wt",
         "orientation": "v",
         "showlegend": false,
         "x": [
          0.0,
          16.5,
          23.500000000116415,
          41.00000000005821,
          52.000000000116415,
          64.5
         ],
         "xaxis": "x6",
         "y": [
          0.124,
          1.308,
          1.328,
          1.376,
          1.456,
          1.48
         ],
         "yaxis": "y6",
         "type": "scatter"
        }
       ],
       "layout": {
        "template": {
         "data": {
          "histogram2dcontour": [
           {
            "type": "histogram2dcontour",
            "colorbar": {
             "outlinewidth": 0,
             "ticks": ""
            },
            "colorscale": [
             [
              0.0,
              "#0d0887"
             ],
             [
              0.1111111111111111,
              "#46039f"
             ],
             [
              0.2222222222222222,
              "#7201a8"
             ],
             [
              0.3333333333333333,
              "#9c179e"
             ],
             [
              0.4444444444444444,
              "#bd3786"
             ],
             [
              0.5555555555555556,
              "#d8576b"
             ],
             [
              0.6666666666666666,
              "#ed7953"
             ],
             [
              0.7777777777777778,
              "#fb9f3a"
             ],
             [
              0.8888888888888888,
              "#fdca26"
             ],
             [
              1.0,
              "#f0f921"
             ]
            ]
           }
          ],
          "choropleth": [
           {
            "type": "choropleth",
            "colorbar": {
             "outlinewidth": 0,
             "ticks": ""
            }
           }
          ],
          "histogram2d": [
           {
            "type": "histogram2d",
            "colorbar": {
             "outlinewidth": 0,
             "ticks": ""
            },
            "colorscale": [
             [
              0.0,
              "#0d0887"
             ],
             [
              0.1111111111111111,
              "#46039f"
             ],
             [
              0.2222222222222222,
              "#7201a8"
             ],
             [
              0.3333333333333333,
              "#9c179e"
             ],
             [
              0.4444444444444444,
              "#bd3786"
             ],
             [
              0.5555555555555556,
              "#d8576b"
             ],
             [
              0.6666666666666666,
              "#ed7953"
             ],
             [
              0.7777777777777778,
              "#fb9f3a"
             ],
             [
              0.8888888888888888,
              "#fdca26"
             ],
             [
              1.0,
              "#f0f921"
             ]
            ]
           }
          ],
          "heatmap": [
           {
            "type": "heatmap",
            "colorbar": {
             "outlinewidth": 0,
             "ticks": ""
            },
            "colorscale": [
             [
              0.0,
              "#0d0887"
             ],
             [
              0.1111111111111111,
              "#46039f"
             ],
             [
              0.2222222222222222,
              "#7201a8"
             ],
             [
              0.3333333333333333,
              "#9c179e"
             ],
             [
              0.4444444444444444,
              "#bd3786"
             ],
             [
              0.5555555555555556,
              "#d8576b"
             ],
             [
              0.6666666666666666,
              "#ed7953"
             ],
             [
              0.7777777777777778,
              "#fb9f3a"
             ],
             [
              0.8888888888888888,
              "#fdca26"
             ],
             [
              1.0,
              "#f0f921"
             ]
            ]
           }
          ],
          "heatmapgl": [
           {
            "type": "heatmapgl",
            "colorbar": {
             "outlinewidth": 0,
             "ticks": ""
            },
            "colorscale": [
             [
              0.0,
              "#0d0887"
             ],
             [
              0.1111111111111111,
              "#46039f"
             ],
             [
              0.2222222222222222,
              "#7201a8"
             ],
             [
              0.3333333333333333,
              "#9c179e"
             ],
             [
              0.4444444444444444,
              "#bd3786"
             ],
             [
              0.5555555555555556,
              "#d8576b"
             ],
             [
              0.6666666666666666,
              "#ed7953"
             ],
             [
              0.7777777777777778,
              "#fb9f3a"
             ],
             [
              0.8888888888888888,
              "#fdca26"
             ],
             [
              1.0,
              "#f0f921"
             ]
            ]
           }
          ],
          "contourcarpet": [
           {
            "type": "contourcarpet",
            "colorbar": {
             "outlinewidth": 0,
             "ticks": ""
            }
           }
          ],
          "contour": [
           {
            "type": "contour",
            "colorbar": {
             "outlinewidth": 0,
             "ticks": ""
            },
            "colorscale": [
             [
              0.0,
              "#0d0887"
             ],
             [
              0.1111111111111111,
              "#46039f"
             ],
             [
              0.2222222222222222,
              "#7201a8"
             ],
             [
              0.3333333333333333,
              "#9c179e"
             ],
             [
              0.4444444444444444,
              "#bd3786"
             ],
             [
              0.5555555555555556,
              "#d8576b"
             ],
             [
              0.6666666666666666,
              "#ed7953"
             ],
             [
              0.7777777777777778,
              "#fb9f3a"
             ],
             [
              0.8888888888888888,
              "#fdca26"
             ],
             [
              1.0,
              "#f0f921"
             ]
            ]
           }
          ],
          "surface": [
           {
            "type": "surface",
            "colorbar": {
             "outlinewidth": 0,
             "ticks": ""
            },
            "colorscale": [
             [
              0.0,
              "#0d0887"
             ],
             [
              0.1111111111111111,
              "#46039f"
             ],
             [
              0.2222222222222222,
              "#7201a8"
             ],
             [
              0.3333333333333333,
              "#9c179e"
             ],
             [
              0.4444444444444444,
              "#bd3786"
             ],
             [
              0.5555555555555556,
              "#d8576b"
             ],
             [
              0.6666666666666666,
              "#ed7953"
             ],
             [
              0.7777777777777778,
              "#fb9f3a"
             ],
             [
              0.8888888888888888,
              "#fdca26"
             ],
             [
              1.0,
              "#f0f921"
             ]
            ]
           }
          ],
          "mesh3d": [
           {
            "type": "mesh3d",
            "colorbar": {
             "outlinewidth": 0,
             "ticks": ""
            }
           }
          ],
          "scatter": [
           {
            "fillpattern": {
             "fillmode": "overlay",
             "size": 10,
             "solidity": 0.2
            },
            "type": "scatter"
           }
          ],
          "parcoords": [
           {
            "type": "parcoords",
            "line": {
             "colorbar": {
              "outlinewidth": 0,
              "ticks": ""
             }
            }
           }
          ],
          "scatterpolargl": [
           {
            "type": "scatterpolargl",
            "marker": {
             "colorbar": {
              "outlinewidth": 0,
              "ticks": ""
             }
            }
           }
          ],
          "bar": [
           {
            "error_x": {
             "color": "#2a3f5f"
            },
            "error_y": {
             "color": "#2a3f5f"
            },
            "marker": {
             "line": {
              "color": "#E5ECF6",
              "width": 0.5
             },
             "pattern": {
              "fillmode": "overlay",
              "size": 10,
              "solidity": 0.2
             }
            },
            "type": "bar"
           }
          ],
          "scattergeo": [
           {
            "type": "scattergeo",
            "marker": {
             "colorbar": {
              "outlinewidth": 0,
              "ticks": ""
             }
            }
           }
          ],
          "scatterpolar": [
           {
            "type": "scatterpolar",
            "marker": {
             "colorbar": {
              "outlinewidth": 0,
              "ticks": ""
             }
            }
           }
          ],
          "histogram": [
           {
            "marker": {
             "pattern": {
              "fillmode": "overlay",
              "size": 10,
              "solidity": 0.2
             }
            },
            "type": "histogram"
           }
          ],
          "scattergl": [
           {
            "type": "scattergl",
            "marker": {
             "colorbar": {
              "outlinewidth": 0,
              "ticks": ""
             }
            }
           }
          ],
          "scatter3d": [
           {
            "type": "scatter3d",
            "line": {
             "colorbar": {
              "outlinewidth": 0,
              "ticks": ""
             }
            },
            "marker": {
             "colorbar": {
              "outlinewidth": 0,
              "ticks": ""
             }
            }
           }
          ],
          "scattermapbox": [
           {
            "type": "scattermapbox",
            "marker": {
             "colorbar": {
              "outlinewidth": 0,
              "ticks": ""
             }
            }
           }
          ],
          "scatterternary": [
           {
            "type": "scatterternary",
            "marker": {
             "colorbar": {
              "outlinewidth": 0,
              "ticks": ""
             }
            }
           }
          ],
          "scattercarpet": [
           {
            "type": "scattercarpet",
            "marker": {
             "colorbar": {
              "outlinewidth": 0,
              "ticks": ""
             }
            }
           }
          ],
          "carpet": [
           {
            "aaxis": {
             "endlinecolor": "#2a3f5f",
             "gridcolor": "white",
             "linecolor": "white",
             "minorgridcolor": "white",
             "startlinecolor": "#2a3f5f"
            },
            "baxis": {
             "endlinecolor": "#2a3f5f",
             "gridcolor": "white",
             "linecolor": "white",
             "minorgridcolor": "white",
             "startlinecolor": "#2a3f5f"
            },
            "type": "carpet"
           }
          ],
          "table": [
           {
            "cells": {
             "fill": {
              "color": "#EBF0F8"
             },
             "line": {
              "color": "white"
             }
            },
            "header": {
             "fill": {
              "color": "#C8D4E3"
             },
             "line": {
              "color": "white"
             }
            },
            "type": "table"
           }
          ],
          "barpolar": [
           {
            "marker": {
             "line": {
              "color": "#E5ECF6",
              "width": 0.5
             },
             "pattern": {
              "fillmode": "overlay",
              "size": 10,
              "solidity": 0.2
             }
            },
            "type": "barpolar"
           }
          ],
          "pie": [
           {
            "automargin": true,
            "type": "pie"
           }
          ]
         },
         "layout": {
          "autotypenumbers": "strict",
          "colorway": [
           "#636efa",
           "#EF553B",
           "#00cc96",
           "#ab63fa",
           "#FFA15A",
           "#19d3f3",
           "#FF6692",
           "#B6E880",
           "#FF97FF",
           "#FECB52"
          ],
          "font": {
           "color": "#2a3f5f"
          },
          "hovermode": "closest",
          "hoverlabel": {
           "align": "left"
          },
          "paper_bgcolor": "white",
          "plot_bgcolor": "#E5ECF6",
          "polar": {
           "bgcolor": "#E5ECF6",
           "angularaxis": {
            "gridcolor": "white",
            "linecolor": "white",
            "ticks": ""
           },
           "radialaxis": {
            "gridcolor": "white",
            "linecolor": "white",
            "ticks": ""
           }
          },
          "ternary": {
           "bgcolor": "#E5ECF6",
           "aaxis": {
            "gridcolor": "white",
            "linecolor": "white",
            "ticks": ""
           },
           "baxis": {
            "gridcolor": "white",
            "linecolor": "white",
            "ticks": ""
           },
           "caxis": {
            "gridcolor": "white",
            "linecolor": "white",
            "ticks": ""
           }
          },
          "coloraxis": {
           "colorbar": {
            "outlinewidth": 0,
            "ticks": ""
           }
          },
          "colorscale": {
           "sequential": [
            [
             0.0,
             "#0d0887"
            ],
            [
             0.1111111111111111,
             "#46039f"
            ],
            [
             0.2222222222222222,
             "#7201a8"
            ],
            [
             0.3333333333333333,
             "#9c179e"
            ],
            [
             0.4444444444444444,
             "#bd3786"
            ],
            [
             0.5555555555555556,
             "#d8576b"
            ],
            [
             0.6666666666666666,
             "#ed7953"
            ],
            [
             0.7777777777777778,
             "#fb9f3a"
            ],
            [
             0.8888888888888888,
             "#fdca26"
            ],
            [
             1.0,
             "#f0f921"
            ]
           ],
           "sequentialminus": [
            [
             0.0,
             "#0d0887"
            ],
            [
             0.1111111111111111,
             "#46039f"
            ],
            [
             0.2222222222222222,
             "#7201a8"
            ],
            [
             0.3333333333333333,
             "#9c179e"
            ],
            [
             0.4444444444444444,
             "#bd3786"
            ],
            [
             0.5555555555555556,
             "#d8576b"
            ],
            [
             0.6666666666666666,
             "#ed7953"
            ],
            [
             0.7777777777777778,
             "#fb9f3a"
            ],
            [
             0.8888888888888888,
             "#fdca26"
            ],
            [
             1.0,
             "#f0f921"
            ]
           ],
           "diverging": [
            [
             0,
             "#8e0152"
            ],
            [
             0.1,
             "#c51b7d"
            ],
            [
             0.2,
             "#de77ae"
            ],
            [
             0.3,
             "#f1b6da"
            ],
            [
             0.4,
             "#fde0ef"
            ],
            [
             0.5,
             "#f7f7f7"
            ],
            [
             0.6,
             "#e6f5d0"
            ],
            [
             0.7,
             "#b8e186"
            ],
            [
             0.8,
             "#7fbc41"
            ],
            [
             0.9,
             "#4d9221"
            ],
            [
             1,
             "#276419"
            ]
           ]
          },
          "xaxis": {
           "gridcolor": "white",
           "linecolor": "white",
           "ticks": "",
           "title": {
            "standoff": 15
           },
           "zerolinecolor": "white",
           "automargin": true,
           "zerolinewidth": 2
          },
          "yaxis": {
           "gridcolor": "white",
           "linecolor": "white",
           "ticks": "",
           "title": {
            "standoff": 15
           },
           "zerolinecolor": "white",
           "automargin": true,
           "zerolinewidth": 2
          },
          "scene": {
           "xaxis": {
            "backgroundcolor": "#E5ECF6",
            "gridcolor": "white",
            "linecolor": "white",
            "showbackground": true,
            "ticks": "",
            "zerolinecolor": "white",
            "gridwidth": 2
           },
           "yaxis": {
            "backgroundcolor": "#E5ECF6",
            "gridcolor": "white",
            "linecolor": "white",
            "showbackground": true,
            "ticks": "",
            "zerolinecolor": "white",
            "gridwidth": 2
           },
           "zaxis": {
            "backgroundcolor": "#E5ECF6",
            "gridcolor": "white",
            "linecolor": "white",
            "showbackground": true,
            "ticks": "",
            "zerolinecolor": "white",
            "gridwidth": 2
           }
          },
          "shapedefaults": {
           "line": {
            "color": "#2a3f5f"
           }
          },
          "annotationdefaults": {
           "arrowcolor": "#2a3f5f",
           "arrowhead": 0,
           "arrowwidth": 1
          },
          "geo": {
           "bgcolor": "white",
           "landcolor": "#E5ECF6",
           "subunitcolor": "white",
           "showland": true,
           "showlakes": true,
           "lakecolor": "white"
          },
          "title": {
           "x": 0.05
          },
          "mapbox": {
           "style": "light"
          }
         }
        },
        "xaxis": {
         "anchor": "y",
         "domain": [
          0.0,
          0.15
         ],
         "title": {
          "text": "Elapsed Time [hr]"
         }
        },
        "yaxis": {
         "anchor": "x",
         "domain": [
          0.0,
          1.0
         ],
         "title": {
          "text": "OD600 (mean)"
         }
        },
        "xaxis2": {
         "anchor": "y2",
         "domain": [
          0.16999999999999998,
          0.31999999999999995
         ],
         "matches": "x",
         "title": {
          "text": ""
         }
        },
        "yaxis2": {
         "anchor": "x2",
         "domain": [
          0.0,
          1.0
         ],
         "matches": "y",
         "showticklabels": false
        },
        "xaxis3": {
         "anchor": "y3",
         "domain": [
          0.33999999999999997,
          0.49
         ],
         "matches": "x",
         "title": {
          "text": ""
         }
        },
        "yaxis3": {
         "anchor": "x3",
         "domain": [
          0.0,
          1.0
         ],
         "matches": "y",
         "showticklabels": false
        },
        "xaxis4": {
         "anchor": "y4",
         "domain": [
          0.51,
          0.66
         ],
         "matches": "x",
         "title": {
          "text": ""
         }
        },
        "yaxis4": {
         "anchor": "x4",
         "domain": [
          0.0,
          1.0
         ],
         "matches": "y",
         "showticklabels": false
        },
        "xaxis5": {
         "anchor": "y5",
         "domain": [
          0.6799999999999999,
          0.83
         ],
         "matches": "x",
         "title": {
          "text": ""
         }
        },
        "yaxis5": {
         "anchor": "x5",
         "domain": [
          0.0,
          1.0
         ],
         "matches": "y",
         "showticklabels": false
        },
        "xaxis6": {
         "anchor": "y6",
         "domain": [
          0.85,
          1.0
         ],
         "matches": "x",
         "title": {
          "text": ""
         }
        },
        "yaxis6": {
         "anchor": "x6",
         "domain": [
          0.0,
          1.0
         ],
         "matches": "y",
         "showticklabels": false
        },
        "annotations": [
         {
          "font": {},
          "showarrow": false,
          "text": "[Arg] µM=0",
          "x": 0.075,
          "xanchor": "center",
          "xref": "paper",
          "y": 1.0,
          "yanchor": "bottom",
          "yref": "paper"
         },
         {
          "font": {},
          "showarrow": false,
          "text": "[Arg] µM=50",
          "x": 0.24499999999999997,
          "xanchor": "center",
          "xref": "paper",
          "y": 1.0,
          "yanchor": "bottom",
          "yref": "paper"
         },
         {
          "font": {},
          "showarrow": false,
          "text": "[Arg] µM=100",
          "x": 0.415,
          "xanchor": "center",
          "xref": "paper",
          "y": 1.0,
          "yanchor": "bottom",
          "yref": "paper"
         },
         {
          "font": {},
          "showarrow": false,
          "text": "[Arg] µM=150",
          "x": 0.585,
          "xanchor": "center",
          "xref": "paper",
          "y": 1.0,
          "yanchor": "bottom",
          "yref": "paper"
         },
         {
          "font": {},
          "showarrow": false,
          "text": "[Arg] µM=200",
          "x": 0.7549999999999999,
          "xanchor": "center",
          "xref": "paper",
          "y": 1.0,
          "yanchor": "bottom",
          "yref": "paper"
         },
         {
          "font": {},
          "showarrow": false,
          "text": "[Arg] µM=300",
          "x": 0.925,
          "xanchor": "center",
          "xref": "paper",
          "y": 1.0,
          "yanchor": "bottom",
          "yref": "paper"
         }
        ],
        "legend": {
         "title": {
          "text": "ADP1 strain"
         },
         "tracegroupgap": 0
        },
        "margin": {
         "t": 60
        },
        "barmode": "group",
        "title": {
         "text": "OD ADP1 [KSF111 (∆cphAI ∆astA ∆argBR), KSF001 (wt - pos.ctrl)] | growth in 0µm•Arg after LB preculture and 0µm•Arg wash",
         "x": 0.5
        },
        "showlegend": true,
        "boxmode": "group",
        "boxgap": 0.8,
        "boxgroupgap": 0
       },
       "config": {
        "plotlyServerURL": "https://plot.ly"
       }
      },
      "text/html": [
       "<div>                            <div id=\"d2827fdd-8f7c-48f6-8d2b-b1831d40a33c\" class=\"plotly-graph-div\" style=\"height:525px; width:100%;\"></div>            <script type=\"text/javascript\">                require([\"plotly\"], function(Plotly) {                    window.PLOTLYENV=window.PLOTLYENV || {};                                    if (document.getElementById(\"d2827fdd-8f7c-48f6-8d2b-b1831d40a33c\")) {                    Plotly.newPlot(                        \"d2827fdd-8f7c-48f6-8d2b-b1831d40a33c\",                        [{\"alignmentgroup\":\"True\",\"error_y\":{\"array\":[0.001,0.002,0.001,0.004,0.006,0.007]},\"hovertemplate\":\"ADP1 strain=KSF111 + \\u2206argB\\u003cbr\\u003e[Arg] \\u00b5M=0\\u003cbr\\u003e=%{x}\\u003cbr\\u003eOD600 (mean)=%{y}\\u003cextra\\u003e\\u003c\\u002fextra\\u003e\",\"legendgroup\":\"KSF111 + \\u2206argB\",\"marker\":{\"color\":\"#636efa\",\"pattern\":{\"shape\":\"\"}},\"name\":\"KSF111 + \\u2206argB\",\"offsetgroup\":\"KSF111 + \\u2206argB\",\"orientation\":\"v\",\"showlegend\":true,\"textposition\":\"auto\",\"x\":[0.0,16.5,23.500000000116415,41.00000000005821,52.000000000116415,64.5],\"xaxis\":\"x\",\"y\":[0.109,0.108,0.125,0.173,0.228,0.267],\"yaxis\":\"y\",\"type\":\"bar\"},{\"alignmentgroup\":\"True\",\"error_y\":{\"array\":[0.002,0.003,0.007,0.011,0.011,0.007]},\"hovertemplate\":\"ADP1 strain=KSF111 + \\u2206argB\\u003cbr\\u003e[Arg] \\u00b5M=50\\u003cbr\\u003e=%{x}\\u003cbr\\u003eOD600 (mean)=%{y}\\u003cextra\\u003e\\u003c\\u002fextra\\u003e\",\"legendgroup\":\"KSF111 + \\u2206argB\",\"marker\":{\"color\":\"#636efa\",\"pattern\":{\"shape\":\"\"}},\"name\":\"KSF111 + \\u2206argB\",\"offsetgroup\":\"KSF111 + \\u2206argB\",\"orientation\":\"v\",\"showlegend\":false,\"textposition\":\"auto\",\"x\":[0.0,16.5,23.500000000116415,41.00000000005821,52.000000000116415,64.5],\"xaxis\":\"x2\",\"y\":[0.111,0.119,0.191,0.548,0.62,0.715],\"yaxis\":\"y2\",\"type\":\"bar\"},{\"alignmentgroup\":\"True\",\"error_y\":{\"array\":[0.004,0.001,0.015,0.011,0.024,0.008]},\"hovertemplate\":\"ADP1 strain=KSF111 + \\u2206argB\\u003cbr\\u003e[Arg] \\u00b5M=100\\u003cbr\\u003e=%{x}\\u003cbr\\u003eOD600 (mean)=%{y}\\u003cextra\\u003e\\u003c\\u002fextra\\u003e\",\"legendgroup\":\"KSF111 + \\u2206argB\",\"marker\":{\"color\":\"#636efa\",\"pattern\":{\"shape\":\"\"}},\"name\":\"KSF111 + \\u2206argB\",\"offsetgroup\":\"KSF111 + \\u2206argB\",\"orientation\":\"v\",\"showlegend\":false,\"textposition\":\"auto\",\"x\":[0.0,16.5,23.500000000116415,41.00000000005821,52.000000000116415,64.5],\"xaxis\":\"x3\",\"y\":[0.113,0.129,0.204,0.595,0.667,0.768],\"yaxis\":\"y3\",\"type\":\"bar\"},{\"alignmentgroup\":\"True\",\"error_y\":{\"array\":[0.001,0.006,0.015,0.015,0.02,0.013]},\"hovertemplate\":\"ADP1 strain=KSF111 + \\u2206argB\\u003cbr\\u003e[Arg] \\u00b5M=150\\u003cbr\\u003e=%{x}\\u003cbr\\u003eOD600 (mean)=%{y}\\u003cextra\\u003e\\u003c\\u002fextra\\u003e\",\"legendgroup\":\"KSF111 + \\u2206argB\",\"marker\":{\"color\":\"#636efa\",\"pattern\":{\"shape\":\"\"}},\"name\":\"KSF111 + \\u2206argB\",\"offsetgroup\":\"KSF111 + \\u2206argB\",\"orientation\":\"v\",\"showlegend\":false,\"textposition\":\"auto\",\"x\":[0.0,16.5,23.500000000116415,41.00000000005821,52.000000000116415,64.5],\"xaxis\":\"x4\",\"y\":[0.107,0.137,0.235,0.589,0.633,0.749],\"yaxis\":\"y4\",\"type\":\"bar\"},{\"alignmentgroup\":\"True\",\"error_y\":{\"array\":[0.002,0.013,0.019,0.001,0.002,0.009]},\"hovertemplate\":\"ADP1 strain=KSF111 + \\u2206argB\\u003cbr\\u003e[Arg] \\u00b5M=200\\u003cbr\\u003e=%{x}\\u003cbr\\u003eOD600 (mean)=%{y}\\u003cextra\\u003e\\u003c\\u002fextra\\u003e\",\"legendgroup\":\"KSF111 + \\u2206argB\",\"marker\":{\"color\":\"#636efa\",\"pattern\":{\"shape\":\"\"}},\"name\":\"KSF111 + \\u2206argB\",\"offsetgroup\":\"KSF111 + \\u2206argB\",\"orientation\":\"v\",\"showlegend\":false,\"textposition\":\"auto\",\"x\":[0.0,16.5,23.500000000116415,41.00000000005821,52.000000000116415,64.5],\"xaxis\":\"x5\",\"y\":[0.109,0.147,0.269,0.611,0.636,0.723],\"yaxis\":\"y5\",\"type\":\"bar\"},{\"alignmentgroup\":\"True\",\"error_y\":{\"array\":[0.002,0.038,0.084,0.002,0.006,0.014]},\"hovertemplate\":\"ADP1 strain=KSF111 + \\u2206argB\\u003cbr\\u003e[Arg] \\u00b5M=300\\u003cbr\\u003e=%{x}\\u003cbr\\u003eOD600 (mean)=%{y}\\u003cextra\\u003e\\u003c\\u002fextra\\u003e\",\"legendgroup\":\"KSF111 + \\u2206argB\",\"marker\":{\"color\":\"#636efa\",\"pattern\":{\"shape\":\"\"}},\"name\":\"KSF111 + \\u2206argB\",\"offsetgroup\":\"KSF111 + \\u2206argB\",\"orientation\":\"v\",\"showlegend\":false,\"textposition\":\"auto\",\"x\":[0.0,16.5,23.500000000116415,41.00000000005821,52.000000000116415,64.5],\"xaxis\":\"x6\",\"y\":[0.106,0.182,0.344,0.626,0.658,0.718],\"yaxis\":\"y6\",\"type\":\"bar\"},{\"alignmentgroup\":\"True\",\"error_y\":{\"array\":[null,null,null,null,null,null]},\"hovertemplate\":\"ADP1 strain=KSF001 wt\\u003cbr\\u003e[Arg] \\u00b5M=0\\u003cbr\\u003e=%{x}\\u003cbr\\u003eOD600 (mean)=%{y}\\u003cextra\\u003e\\u003c\\u002fextra\\u003e\",\"legendgroup\":\"KSF001 wt\",\"marker\":{\"color\":\"#EF553B\",\"pattern\":{\"shape\":\"\"}},\"name\":\"KSF001 wt\",\"offsetgroup\":\"KSF001 wt\",\"orientation\":\"v\",\"showlegend\":true,\"textposition\":\"auto\",\"x\":[0.0,16.5,23.500000000116415,41.00000000005821,52.000000000116415,64.5],\"xaxis\":\"x\",\"y\":[0.12,0.208,0.808,0.944,0.944,1.048],\"yaxis\":\"y\",\"type\":\"bar\"},{\"alignmentgroup\":\"True\",\"error_y\":{\"array\":[null,null,null,null,null,null]},\"hovertemplate\":\"ADP1 strain=KSF001 wt\\u003cbr\\u003e[Arg] \\u00b5M=300\\u003cbr\\u003e=%{x}\\u003cbr\\u003eOD600 (mean)=%{y}\\u003cextra\\u003e\\u003c\\u002fextra\\u003e\",\"legendgroup\":\"KSF001 wt\",\"marker\":{\"color\":\"#EF553B\",\"pattern\":{\"shape\":\"\"}},\"name\":\"KSF001 wt\",\"offsetgroup\":\"KSF001 wt\",\"orientation\":\"v\",\"showlegend\":false,\"textposition\":\"auto\",\"x\":[0.0,16.5,23.500000000116415,41.00000000005821,52.000000000116415,64.5],\"xaxis\":\"x6\",\"y\":[0.124,1.308,1.328,1.376,1.456,1.48],\"yaxis\":\"y6\",\"type\":\"bar\"},{\"hovertemplate\":\"strain_id=KSF111 + \\u2206argB\\u003cbr\\u003earg_conc_uM=0\\u003cbr\\u003eelapsed_time_hr=%{x}\\u003cbr\\u003eod_sample_mean=%{y}\\u003cextra\\u003e\\u003c\\u002fextra\\u003e\",\"legendgroup\":\"KSF111 + \\u2206argB\",\"line\":{\"color\":\"#636efa\",\"dash\":\"solid\"},\"marker\":{\"symbol\":\"circle\"},\"mode\":\"lines\",\"name\":\"KSF111 + \\u2206argB\",\"orientation\":\"v\",\"showlegend\":false,\"x\":[0.0,16.5,23.500000000116415,41.00000000005821,52.000000000116415,64.5],\"xaxis\":\"x\",\"y\":[0.109,0.108,0.125,0.173,0.228,0.267],\"yaxis\":\"y\",\"type\":\"scatter\"},{\"hovertemplate\":\"strain_id=KSF111 + \\u2206argB\\u003cbr\\u003earg_conc_uM=50\\u003cbr\\u003eelapsed_time_hr=%{x}\\u003cbr\\u003eod_sample_mean=%{y}\\u003cextra\\u003e\\u003c\\u002fextra\\u003e\",\"legendgroup\":\"KSF111 + \\u2206argB\",\"line\":{\"color\":\"#636efa\",\"dash\":\"solid\"},\"marker\":{\"symbol\":\"circle\"},\"mode\":\"lines\",\"name\":\"KSF111 + \\u2206argB\",\"orientation\":\"v\",\"showlegend\":false,\"x\":[0.0,16.5,23.500000000116415,41.00000000005821,52.000000000116415,64.5],\"xaxis\":\"x2\",\"y\":[0.111,0.119,0.191,0.548,0.62,0.715],\"yaxis\":\"y2\",\"type\":\"scatter\"},{\"hovertemplate\":\"strain_id=KSF111 + \\u2206argB\\u003cbr\\u003earg_conc_uM=100\\u003cbr\\u003eelapsed_time_hr=%{x}\\u003cbr\\u003eod_sample_mean=%{y}\\u003cextra\\u003e\\u003c\\u002fextra\\u003e\",\"legendgroup\":\"KSF111 + \\u2206argB\",\"line\":{\"color\":\"#636efa\",\"dash\":\"solid\"},\"marker\":{\"symbol\":\"circle\"},\"mode\":\"lines\",\"name\":\"KSF111 + \\u2206argB\",\"orientation\":\"v\",\"showlegend\":false,\"x\":[0.0,16.5,23.500000000116415,41.00000000005821,52.000000000116415,64.5],\"xaxis\":\"x3\",\"y\":[0.113,0.129,0.204,0.595,0.667,0.768],\"yaxis\":\"y3\",\"type\":\"scatter\"},{\"hovertemplate\":\"strain_id=KSF111 + \\u2206argB\\u003cbr\\u003earg_conc_uM=150\\u003cbr\\u003eelapsed_time_hr=%{x}\\u003cbr\\u003eod_sample_mean=%{y}\\u003cextra\\u003e\\u003c\\u002fextra\\u003e\",\"legendgroup\":\"KSF111 + \\u2206argB\",\"line\":{\"color\":\"#636efa\",\"dash\":\"solid\"},\"marker\":{\"symbol\":\"circle\"},\"mode\":\"lines\",\"name\":\"KSF111 + \\u2206argB\",\"orientation\":\"v\",\"showlegend\":false,\"x\":[0.0,16.5,23.500000000116415,41.00000000005821,52.000000000116415,64.5],\"xaxis\":\"x4\",\"y\":[0.107,0.137,0.235,0.589,0.633,0.749],\"yaxis\":\"y4\",\"type\":\"scatter\"},{\"hovertemplate\":\"strain_id=KSF111 + \\u2206argB\\u003cbr\\u003earg_conc_uM=200\\u003cbr\\u003eelapsed_time_hr=%{x}\\u003cbr\\u003eod_sample_mean=%{y}\\u003cextra\\u003e\\u003c\\u002fextra\\u003e\",\"legendgroup\":\"KSF111 + \\u2206argB\",\"line\":{\"color\":\"#636efa\",\"dash\":\"solid\"},\"marker\":{\"symbol\":\"circle\"},\"mode\":\"lines\",\"name\":\"KSF111 + \\u2206argB\",\"orientation\":\"v\",\"showlegend\":false,\"x\":[0.0,16.5,23.500000000116415,41.00000000005821,52.000000000116415,64.5],\"xaxis\":\"x5\",\"y\":[0.109,0.147,0.269,0.611,0.636,0.723],\"yaxis\":\"y5\",\"type\":\"scatter\"},{\"hovertemplate\":\"strain_id=KSF111 + \\u2206argB\\u003cbr\\u003earg_conc_uM=300\\u003cbr\\u003eelapsed_time_hr=%{x}\\u003cbr\\u003eod_sample_mean=%{y}\\u003cextra\\u003e\\u003c\\u002fextra\\u003e\",\"legendgroup\":\"KSF111 + \\u2206argB\",\"line\":{\"color\":\"#636efa\",\"dash\":\"solid\"},\"marker\":{\"symbol\":\"circle\"},\"mode\":\"lines\",\"name\":\"KSF111 + \\u2206argB\",\"orientation\":\"v\",\"showlegend\":false,\"x\":[0.0,16.5,23.500000000116415,41.00000000005821,52.000000000116415,64.5],\"xaxis\":\"x6\",\"y\":[0.106,0.182,0.344,0.626,0.658,0.718],\"yaxis\":\"y6\",\"type\":\"scatter\"},{\"hovertemplate\":\"strain_id=KSF001 wt\\u003cbr\\u003earg_conc_uM=0\\u003cbr\\u003eelapsed_time_hr=%{x}\\u003cbr\\u003eod_sample_mean=%{y}\\u003cextra\\u003e\\u003c\\u002fextra\\u003e\",\"legendgroup\":\"KSF001 wt\",\"line\":{\"color\":\"#EF553B\",\"dash\":\"solid\"},\"marker\":{\"symbol\":\"circle\"},\"mode\":\"lines\",\"name\":\"KSF001 wt\",\"orientation\":\"v\",\"showlegend\":false,\"x\":[0.0,16.5,23.500000000116415,41.00000000005821,52.000000000116415,64.5],\"xaxis\":\"x\",\"y\":[0.12,0.208,0.808,0.944,0.944,1.048],\"yaxis\":\"y\",\"type\":\"scatter\"},{\"hovertemplate\":\"strain_id=KSF001 wt\\u003cbr\\u003earg_conc_uM=300\\u003cbr\\u003eelapsed_time_hr=%{x}\\u003cbr\\u003eod_sample_mean=%{y}\\u003cextra\\u003e\\u003c\\u002fextra\\u003e\",\"legendgroup\":\"KSF001 wt\",\"line\":{\"color\":\"#EF553B\",\"dash\":\"solid\"},\"marker\":{\"symbol\":\"circle\"},\"mode\":\"lines\",\"name\":\"KSF001 wt\",\"orientation\":\"v\",\"showlegend\":false,\"x\":[0.0,16.5,23.500000000116415,41.00000000005821,52.000000000116415,64.5],\"xaxis\":\"x6\",\"y\":[0.124,1.308,1.328,1.376,1.456,1.48],\"yaxis\":\"y6\",\"type\":\"scatter\"}],                        {\"template\":{\"data\":{\"histogram2dcontour\":[{\"type\":\"histogram2dcontour\",\"colorbar\":{\"outlinewidth\":0,\"ticks\":\"\"},\"colorscale\":[[0.0,\"#0d0887\"],[0.1111111111111111,\"#46039f\"],[0.2222222222222222,\"#7201a8\"],[0.3333333333333333,\"#9c179e\"],[0.4444444444444444,\"#bd3786\"],[0.5555555555555556,\"#d8576b\"],[0.6666666666666666,\"#ed7953\"],[0.7777777777777778,\"#fb9f3a\"],[0.8888888888888888,\"#fdca26\"],[1.0,\"#f0f921\"]]}],\"choropleth\":[{\"type\":\"choropleth\",\"colorbar\":{\"outlinewidth\":0,\"ticks\":\"\"}}],\"histogram2d\":[{\"type\":\"histogram2d\",\"colorbar\":{\"outlinewidth\":0,\"ticks\":\"\"},\"colorscale\":[[0.0,\"#0d0887\"],[0.1111111111111111,\"#46039f\"],[0.2222222222222222,\"#7201a8\"],[0.3333333333333333,\"#9c179e\"],[0.4444444444444444,\"#bd3786\"],[0.5555555555555556,\"#d8576b\"],[0.6666666666666666,\"#ed7953\"],[0.7777777777777778,\"#fb9f3a\"],[0.8888888888888888,\"#fdca26\"],[1.0,\"#f0f921\"]]}],\"heatmap\":[{\"type\":\"heatmap\",\"colorbar\":{\"outlinewidth\":0,\"ticks\":\"\"},\"colorscale\":[[0.0,\"#0d0887\"],[0.1111111111111111,\"#46039f\"],[0.2222222222222222,\"#7201a8\"],[0.3333333333333333,\"#9c179e\"],[0.4444444444444444,\"#bd3786\"],[0.5555555555555556,\"#d8576b\"],[0.6666666666666666,\"#ed7953\"],[0.7777777777777778,\"#fb9f3a\"],[0.8888888888888888,\"#fdca26\"],[1.0,\"#f0f921\"]]}],\"heatmapgl\":[{\"type\":\"heatmapgl\",\"colorbar\":{\"outlinewidth\":0,\"ticks\":\"\"},\"colorscale\":[[0.0,\"#0d0887\"],[0.1111111111111111,\"#46039f\"],[0.2222222222222222,\"#7201a8\"],[0.3333333333333333,\"#9c179e\"],[0.4444444444444444,\"#bd3786\"],[0.5555555555555556,\"#d8576b\"],[0.6666666666666666,\"#ed7953\"],[0.7777777777777778,\"#fb9f3a\"],[0.8888888888888888,\"#fdca26\"],[1.0,\"#f0f921\"]]}],\"contourcarpet\":[{\"type\":\"contourcarpet\",\"colorbar\":{\"outlinewidth\":0,\"ticks\":\"\"}}],\"contour\":[{\"type\":\"contour\",\"colorbar\":{\"outlinewidth\":0,\"ticks\":\"\"},\"colorscale\":[[0.0,\"#0d0887\"],[0.1111111111111111,\"#46039f\"],[0.2222222222222222,\"#7201a8\"],[0.3333333333333333,\"#9c179e\"],[0.4444444444444444,\"#bd3786\"],[0.5555555555555556,\"#d8576b\"],[0.6666666666666666,\"#ed7953\"],[0.7777777777777778,\"#fb9f3a\"],[0.8888888888888888,\"#fdca26\"],[1.0,\"#f0f921\"]]}],\"surface\":[{\"type\":\"surface\",\"colorbar\":{\"outlinewidth\":0,\"ticks\":\"\"},\"colorscale\":[[0.0,\"#0d0887\"],[0.1111111111111111,\"#46039f\"],[0.2222222222222222,\"#7201a8\"],[0.3333333333333333,\"#9c179e\"],[0.4444444444444444,\"#bd3786\"],[0.5555555555555556,\"#d8576b\"],[0.6666666666666666,\"#ed7953\"],[0.7777777777777778,\"#fb9f3a\"],[0.8888888888888888,\"#fdca26\"],[1.0,\"#f0f921\"]]}],\"mesh3d\":[{\"type\":\"mesh3d\",\"colorbar\":{\"outlinewidth\":0,\"ticks\":\"\"}}],\"scatter\":[{\"fillpattern\":{\"fillmode\":\"overlay\",\"size\":10,\"solidity\":0.2},\"type\":\"scatter\"}],\"parcoords\":[{\"type\":\"parcoords\",\"line\":{\"colorbar\":{\"outlinewidth\":0,\"ticks\":\"\"}}}],\"scatterpolargl\":[{\"type\":\"scatterpolargl\",\"marker\":{\"colorbar\":{\"outlinewidth\":0,\"ticks\":\"\"}}}],\"bar\":[{\"error_x\":{\"color\":\"#2a3f5f\"},\"error_y\":{\"color\":\"#2a3f5f\"},\"marker\":{\"line\":{\"color\":\"#E5ECF6\",\"width\":0.5},\"pattern\":{\"fillmode\":\"overlay\",\"size\":10,\"solidity\":0.2}},\"type\":\"bar\"}],\"scattergeo\":[{\"type\":\"scattergeo\",\"marker\":{\"colorbar\":{\"outlinewidth\":0,\"ticks\":\"\"}}}],\"scatterpolar\":[{\"type\":\"scatterpolar\",\"marker\":{\"colorbar\":{\"outlinewidth\":0,\"ticks\":\"\"}}}],\"histogram\":[{\"marker\":{\"pattern\":{\"fillmode\":\"overlay\",\"size\":10,\"solidity\":0.2}},\"type\":\"histogram\"}],\"scattergl\":[{\"type\":\"scattergl\",\"marker\":{\"colorbar\":{\"outlinewidth\":0,\"ticks\":\"\"}}}],\"scatter3d\":[{\"type\":\"scatter3d\",\"line\":{\"colorbar\":{\"outlinewidth\":0,\"ticks\":\"\"}},\"marker\":{\"colorbar\":{\"outlinewidth\":0,\"ticks\":\"\"}}}],\"scattermapbox\":[{\"type\":\"scattermapbox\",\"marker\":{\"colorbar\":{\"outlinewidth\":0,\"ticks\":\"\"}}}],\"scatterternary\":[{\"type\":\"scatterternary\",\"marker\":{\"colorbar\":{\"outlinewidth\":0,\"ticks\":\"\"}}}],\"scattercarpet\":[{\"type\":\"scattercarpet\",\"marker\":{\"colorbar\":{\"outlinewidth\":0,\"ticks\":\"\"}}}],\"carpet\":[{\"aaxis\":{\"endlinecolor\":\"#2a3f5f\",\"gridcolor\":\"white\",\"linecolor\":\"white\",\"minorgridcolor\":\"white\",\"startlinecolor\":\"#2a3f5f\"},\"baxis\":{\"endlinecolor\":\"#2a3f5f\",\"gridcolor\":\"white\",\"linecolor\":\"white\",\"minorgridcolor\":\"white\",\"startlinecolor\":\"#2a3f5f\"},\"type\":\"carpet\"}],\"table\":[{\"cells\":{\"fill\":{\"color\":\"#EBF0F8\"},\"line\":{\"color\":\"white\"}},\"header\":{\"fill\":{\"color\":\"#C8D4E3\"},\"line\":{\"color\":\"white\"}},\"type\":\"table\"}],\"barpolar\":[{\"marker\":{\"line\":{\"color\":\"#E5ECF6\",\"width\":0.5},\"pattern\":{\"fillmode\":\"overlay\",\"size\":10,\"solidity\":0.2}},\"type\":\"barpolar\"}],\"pie\":[{\"automargin\":true,\"type\":\"pie\"}]},\"layout\":{\"autotypenumbers\":\"strict\",\"colorway\":[\"#636efa\",\"#EF553B\",\"#00cc96\",\"#ab63fa\",\"#FFA15A\",\"#19d3f3\",\"#FF6692\",\"#B6E880\",\"#FF97FF\",\"#FECB52\"],\"font\":{\"color\":\"#2a3f5f\"},\"hovermode\":\"closest\",\"hoverlabel\":{\"align\":\"left\"},\"paper_bgcolor\":\"white\",\"plot_bgcolor\":\"#E5ECF6\",\"polar\":{\"bgcolor\":\"#E5ECF6\",\"angularaxis\":{\"gridcolor\":\"white\",\"linecolor\":\"white\",\"ticks\":\"\"},\"radialaxis\":{\"gridcolor\":\"white\",\"linecolor\":\"white\",\"ticks\":\"\"}},\"ternary\":{\"bgcolor\":\"#E5ECF6\",\"aaxis\":{\"gridcolor\":\"white\",\"linecolor\":\"white\",\"ticks\":\"\"},\"baxis\":{\"gridcolor\":\"white\",\"linecolor\":\"white\",\"ticks\":\"\"},\"caxis\":{\"gridcolor\":\"white\",\"linecolor\":\"white\",\"ticks\":\"\"}},\"coloraxis\":{\"colorbar\":{\"outlinewidth\":0,\"ticks\":\"\"}},\"colorscale\":{\"sequential\":[[0.0,\"#0d0887\"],[0.1111111111111111,\"#46039f\"],[0.2222222222222222,\"#7201a8\"],[0.3333333333333333,\"#9c179e\"],[0.4444444444444444,\"#bd3786\"],[0.5555555555555556,\"#d8576b\"],[0.6666666666666666,\"#ed7953\"],[0.7777777777777778,\"#fb9f3a\"],[0.8888888888888888,\"#fdca26\"],[1.0,\"#f0f921\"]],\"sequentialminus\":[[0.0,\"#0d0887\"],[0.1111111111111111,\"#46039f\"],[0.2222222222222222,\"#7201a8\"],[0.3333333333333333,\"#9c179e\"],[0.4444444444444444,\"#bd3786\"],[0.5555555555555556,\"#d8576b\"],[0.6666666666666666,\"#ed7953\"],[0.7777777777777778,\"#fb9f3a\"],[0.8888888888888888,\"#fdca26\"],[1.0,\"#f0f921\"]],\"diverging\":[[0,\"#8e0152\"],[0.1,\"#c51b7d\"],[0.2,\"#de77ae\"],[0.3,\"#f1b6da\"],[0.4,\"#fde0ef\"],[0.5,\"#f7f7f7\"],[0.6,\"#e6f5d0\"],[0.7,\"#b8e186\"],[0.8,\"#7fbc41\"],[0.9,\"#4d9221\"],[1,\"#276419\"]]},\"xaxis\":{\"gridcolor\":\"white\",\"linecolor\":\"white\",\"ticks\":\"\",\"title\":{\"standoff\":15},\"zerolinecolor\":\"white\",\"automargin\":true,\"zerolinewidth\":2},\"yaxis\":{\"gridcolor\":\"white\",\"linecolor\":\"white\",\"ticks\":\"\",\"title\":{\"standoff\":15},\"zerolinecolor\":\"white\",\"automargin\":true,\"zerolinewidth\":2},\"scene\":{\"xaxis\":{\"backgroundcolor\":\"#E5ECF6\",\"gridcolor\":\"white\",\"linecolor\":\"white\",\"showbackground\":true,\"ticks\":\"\",\"zerolinecolor\":\"white\",\"gridwidth\":2},\"yaxis\":{\"backgroundcolor\":\"#E5ECF6\",\"gridcolor\":\"white\",\"linecolor\":\"white\",\"showbackground\":true,\"ticks\":\"\",\"zerolinecolor\":\"white\",\"gridwidth\":2},\"zaxis\":{\"backgroundcolor\":\"#E5ECF6\",\"gridcolor\":\"white\",\"linecolor\":\"white\",\"showbackground\":true,\"ticks\":\"\",\"zerolinecolor\":\"white\",\"gridwidth\":2}},\"shapedefaults\":{\"line\":{\"color\":\"#2a3f5f\"}},\"annotationdefaults\":{\"arrowcolor\":\"#2a3f5f\",\"arrowhead\":0,\"arrowwidth\":1},\"geo\":{\"bgcolor\":\"white\",\"landcolor\":\"#E5ECF6\",\"subunitcolor\":\"white\",\"showland\":true,\"showlakes\":true,\"lakecolor\":\"white\"},\"title\":{\"x\":0.05},\"mapbox\":{\"style\":\"light\"}}},\"xaxis\":{\"anchor\":\"y\",\"domain\":[0.0,0.15],\"title\":{\"text\":\"Elapsed Time [hr]\"}},\"yaxis\":{\"anchor\":\"x\",\"domain\":[0.0,1.0],\"title\":{\"text\":\"OD600 (mean)\"}},\"xaxis2\":{\"anchor\":\"y2\",\"domain\":[0.16999999999999998,0.31999999999999995],\"matches\":\"x\",\"title\":{\"text\":\"\"}},\"yaxis2\":{\"anchor\":\"x2\",\"domain\":[0.0,1.0],\"matches\":\"y\",\"showticklabels\":false},\"xaxis3\":{\"anchor\":\"y3\",\"domain\":[0.33999999999999997,0.49],\"matches\":\"x\",\"title\":{\"text\":\"\"}},\"yaxis3\":{\"anchor\":\"x3\",\"domain\":[0.0,1.0],\"matches\":\"y\",\"showticklabels\":false},\"xaxis4\":{\"anchor\":\"y4\",\"domain\":[0.51,0.66],\"matches\":\"x\",\"title\":{\"text\":\"\"}},\"yaxis4\":{\"anchor\":\"x4\",\"domain\":[0.0,1.0],\"matches\":\"y\",\"showticklabels\":false},\"xaxis5\":{\"anchor\":\"y5\",\"domain\":[0.6799999999999999,0.83],\"matches\":\"x\",\"title\":{\"text\":\"\"}},\"yaxis5\":{\"anchor\":\"x5\",\"domain\":[0.0,1.0],\"matches\":\"y\",\"showticklabels\":false},\"xaxis6\":{\"anchor\":\"y6\",\"domain\":[0.85,1.0],\"matches\":\"x\",\"title\":{\"text\":\"\"}},\"yaxis6\":{\"anchor\":\"x6\",\"domain\":[0.0,1.0],\"matches\":\"y\",\"showticklabels\":false},\"annotations\":[{\"font\":{},\"showarrow\":false,\"text\":\"[Arg] \\u00b5M=0\",\"x\":0.075,\"xanchor\":\"center\",\"xref\":\"paper\",\"y\":1.0,\"yanchor\":\"bottom\",\"yref\":\"paper\"},{\"font\":{},\"showarrow\":false,\"text\":\"[Arg] \\u00b5M=50\",\"x\":0.24499999999999997,\"xanchor\":\"center\",\"xref\":\"paper\",\"y\":1.0,\"yanchor\":\"bottom\",\"yref\":\"paper\"},{\"font\":{},\"showarrow\":false,\"text\":\"[Arg] \\u00b5M=100\",\"x\":0.415,\"xanchor\":\"center\",\"xref\":\"paper\",\"y\":1.0,\"yanchor\":\"bottom\",\"yref\":\"paper\"},{\"font\":{},\"showarrow\":false,\"text\":\"[Arg] \\u00b5M=150\",\"x\":0.585,\"xanchor\":\"center\",\"xref\":\"paper\",\"y\":1.0,\"yanchor\":\"bottom\",\"yref\":\"paper\"},{\"font\":{},\"showarrow\":false,\"text\":\"[Arg] \\u00b5M=200\",\"x\":0.7549999999999999,\"xanchor\":\"center\",\"xref\":\"paper\",\"y\":1.0,\"yanchor\":\"bottom\",\"yref\":\"paper\"},{\"font\":{},\"showarrow\":false,\"text\":\"[Arg] \\u00b5M=300\",\"x\":0.925,\"xanchor\":\"center\",\"xref\":\"paper\",\"y\":1.0,\"yanchor\":\"bottom\",\"yref\":\"paper\"}],\"legend\":{\"title\":{\"text\":\"ADP1 strain\"},\"tracegroupgap\":0},\"margin\":{\"t\":60},\"barmode\":\"group\",\"title\":{\"text\":\"OD ADP1 [KSF111 (\\u2206cphAI \\u2206astA \\u2206argBR), KSF001 (wt - pos.ctrl)] | growth in 0\\u00b5m\\u2022Arg after LB preculture and 0\\u00b5m\\u2022Arg wash\",\"x\":0.5},\"showlegend\":true,\"boxmode\":\"group\",\"boxgap\":0.8,\"boxgroupgap\":0},                        {\"responsive\": true}                    ).then(function(){\n",
       "                            \n",
       "var gd = document.getElementById('d2827fdd-8f7c-48f6-8d2b-b1831d40a33c');\n",
       "var x = new MutationObserver(function (mutations, observer) {{\n",
       "        var display = window.getComputedStyle(gd).display;\n",
       "        if (!display || display === 'none') {{\n",
       "            console.log([gd, 'removed!']);\n",
       "            Plotly.purge(gd);\n",
       "            observer.disconnect();\n",
       "        }}\n",
       "}});\n",
       "\n",
       "// Listen for the removal of the full notebook cells\n",
       "var notebookContainer = gd.closest('#notebook-container');\n",
       "if (notebookContainer) {{\n",
       "    x.observe(notebookContainer, {childList: true});\n",
       "}}\n",
       "\n",
       "// Listen for the clearing of the current output cell\n",
       "var outputEl = gd.closest('.output');\n",
       "if (outputEl) {{\n",
       "    x.observe(outputEl, {childList: true});\n",
       "}}\n",
       "\n",
       "                        })                };                });            </script>        </div>"
      ]
     },
     "metadata": {},
     "output_type": "display_data"
    }
   ],
   "execution_count": 12
  },
  {
   "metadata": {
    "ExecuteTime": {
     "end_time": "2024-11-10T20:16:12.364745Z",
     "start_time": "2024-11-10T20:16:12.297595Z"
    }
   },
   "cell_type": "code",
   "source": [
    "# let's calculate the max OD600 for each strain at each arginine concentration\n",
    "df_od_mean_max = df_od_mean_sem.sort_values(\n",
    "    by=['arg_conc_uM', 'strain_id', 'od_sample_mean'],\n",
    ").drop_duplicates(\n",
    "    subset=['arg_conc_uM', 'strain_id'],\n",
    "    keep='last',\n",
    ")\n",
    "\n",
    "# let's remove the background growth from 0•Arg on the auxotrophs (KSF111)\n",
    "# NOTE this is a bit of a hack, but we do have background growth controls from  EXP010\n",
    "# TODO confirm that the background growth is in line with the controls from exp010\n",
    "_bg_KSF001, _bg_KSF111 = df_od_mean_max.loc[lambda df: df.arg_conc_uM == 0].od_sample_mean.iloc[:2]\n",
    "df_od_mean_max = df_od_mean_max.assign(\n",
    "    od_sample_mean_sans_bg=lambda df: df.apply(\n",
    "        lambda r: r.od_sample_mean - (_bg_KSF111 if '111' in r.strain_id else 0),\n",
    "        axis='columns'\n",
    "    ),\n",
    ")\n",
    "\n",
    "df_od_mean_max"
   ],
   "id": "51a4daadb5765d02",
   "outputs": [
    {
     "data": {
      "text/plain": [
       "    elapsed_time_hr       strain_id  arg_conc_uM  od_sample_mean  \\\n",
       "46             64.5       KSF001 wt            0           1.048   \n",
       "40             64.5  KSF111 + ∆argB            0           0.267   \n",
       "41             64.5  KSF111 + ∆argB           50           0.715   \n",
       "42             64.5  KSF111 + ∆argB          100           0.768   \n",
       "43             64.5  KSF111 + ∆argB          150           0.749   \n",
       "44             64.5  KSF111 + ∆argB          200           0.723   \n",
       "47             64.5       KSF001 wt          300           1.480   \n",
       "45             64.5  KSF111 + ∆argB          300           0.718   \n",
       "\n",
       "    od_sample_sem  od_sample_mean_sans_bg  \n",
       "46            NaN                   1.048  \n",
       "40          0.007                   0.000  \n",
       "41          0.007                   0.448  \n",
       "42          0.008                   0.501  \n",
       "43          0.013                   0.482  \n",
       "44          0.009                   0.456  \n",
       "47            NaN                   1.480  \n",
       "45          0.014                   0.451  "
      ],
      "text/html": [
       "<div>\n",
       "<style scoped>\n",
       "    .dataframe tbody tr th:only-of-type {\n",
       "        vertical-align: middle;\n",
       "    }\n",
       "\n",
       "    .dataframe tbody tr th {\n",
       "        vertical-align: top;\n",
       "    }\n",
       "\n",
       "    .dataframe thead th {\n",
       "        text-align: right;\n",
       "    }\n",
       "</style>\n",
       "<table border=\"1\" class=\"dataframe\">\n",
       "  <thead>\n",
       "    <tr style=\"text-align: right;\">\n",
       "      <th></th>\n",
       "      <th>elapsed_time_hr</th>\n",
       "      <th>strain_id</th>\n",
       "      <th>arg_conc_uM</th>\n",
       "      <th>od_sample_mean</th>\n",
       "      <th>od_sample_sem</th>\n",
       "      <th>od_sample_mean_sans_bg</th>\n",
       "    </tr>\n",
       "  </thead>\n",
       "  <tbody>\n",
       "    <tr>\n",
       "      <th>46</th>\n",
       "      <td>64.5</td>\n",
       "      <td>KSF001 wt</td>\n",
       "      <td>0</td>\n",
       "      <td>1.048</td>\n",
       "      <td>NaN</td>\n",
       "      <td>1.048</td>\n",
       "    </tr>\n",
       "    <tr>\n",
       "      <th>40</th>\n",
       "      <td>64.5</td>\n",
       "      <td>KSF111 + ∆argB</td>\n",
       "      <td>0</td>\n",
       "      <td>0.267</td>\n",
       "      <td>0.007</td>\n",
       "      <td>0.000</td>\n",
       "    </tr>\n",
       "    <tr>\n",
       "      <th>41</th>\n",
       "      <td>64.5</td>\n",
       "      <td>KSF111 + ∆argB</td>\n",
       "      <td>50</td>\n",
       "      <td>0.715</td>\n",
       "      <td>0.007</td>\n",
       "      <td>0.448</td>\n",
       "    </tr>\n",
       "    <tr>\n",
       "      <th>42</th>\n",
       "      <td>64.5</td>\n",
       "      <td>KSF111 + ∆argB</td>\n",
       "      <td>100</td>\n",
       "      <td>0.768</td>\n",
       "      <td>0.008</td>\n",
       "      <td>0.501</td>\n",
       "    </tr>\n",
       "    <tr>\n",
       "      <th>43</th>\n",
       "      <td>64.5</td>\n",
       "      <td>KSF111 + ∆argB</td>\n",
       "      <td>150</td>\n",
       "      <td>0.749</td>\n",
       "      <td>0.013</td>\n",
       "      <td>0.482</td>\n",
       "    </tr>\n",
       "    <tr>\n",
       "      <th>44</th>\n",
       "      <td>64.5</td>\n",
       "      <td>KSF111 + ∆argB</td>\n",
       "      <td>200</td>\n",
       "      <td>0.723</td>\n",
       "      <td>0.009</td>\n",
       "      <td>0.456</td>\n",
       "    </tr>\n",
       "    <tr>\n",
       "      <th>47</th>\n",
       "      <td>64.5</td>\n",
       "      <td>KSF001 wt</td>\n",
       "      <td>300</td>\n",
       "      <td>1.480</td>\n",
       "      <td>NaN</td>\n",
       "      <td>1.480</td>\n",
       "    </tr>\n",
       "    <tr>\n",
       "      <th>45</th>\n",
       "      <td>64.5</td>\n",
       "      <td>KSF111 + ∆argB</td>\n",
       "      <td>300</td>\n",
       "      <td>0.718</td>\n",
       "      <td>0.014</td>\n",
       "      <td>0.451</td>\n",
       "    </tr>\n",
       "  </tbody>\n",
       "</table>\n",
       "</div>"
      ]
     },
     "execution_count": 6,
     "metadata": {},
     "output_type": "execute_result"
    }
   ],
   "execution_count": 6
  },
  {
   "metadata": {
    "ExecuteTime": {
     "end_time": "2024-11-10T20:16:13.245329Z",
     "start_time": "2024-11-10T20:16:13.229934Z"
    }
   },
   "cell_type": "code",
   "source": [
    "def od_by_arg_conc(\n",
    "        arg_conc,\n",
    "        od600_to_cdw=.33 * units.g / units.L,\n",
    "        perc_cgp_of_cdw=.25,\n",
    "        perc_arg_of_cgp=.60,\n",
    "        mw_arg=174.2 * units.g / units.mol,\n",
    ") -> float:\n",
    "    od = arg_conc / (od600_to_cdw * perc_cgp_of_cdw * perc_arg_of_cgp / mw_arg)\n",
    "    return od.to_base_units()\n",
    "\n",
    "\n",
    "df_cgp_arg = pd.DataFrame(data=dict(arg_conc_µM=[0, 300])).assign(\n",
    "    od=lambda df: df.arg_conc_µM.apply(lambda c: od_by_arg_conc(c * units.uM).magnitude)\n",
    ")\n",
    "df_cgp_arg"
   ],
   "id": "3ae1773bd1b430c7",
   "outputs": [
    {
     "data": {
      "text/plain": [
       "   arg_conc_μM        od\n",
       "0            0  0.000000\n",
       "1          300  1.055758"
      ],
      "text/html": [
       "<div>\n",
       "<style scoped>\n",
       "    .dataframe tbody tr th:only-of-type {\n",
       "        vertical-align: middle;\n",
       "    }\n",
       "\n",
       "    .dataframe tbody tr th {\n",
       "        vertical-align: top;\n",
       "    }\n",
       "\n",
       "    .dataframe thead th {\n",
       "        text-align: right;\n",
       "    }\n",
       "</style>\n",
       "<table border=\"1\" class=\"dataframe\">\n",
       "  <thead>\n",
       "    <tr style=\"text-align: right;\">\n",
       "      <th></th>\n",
       "      <th>arg_conc_μM</th>\n",
       "      <th>od</th>\n",
       "    </tr>\n",
       "  </thead>\n",
       "  <tbody>\n",
       "    <tr>\n",
       "      <th>0</th>\n",
       "      <td>0</td>\n",
       "      <td>0.000000</td>\n",
       "    </tr>\n",
       "    <tr>\n",
       "      <th>1</th>\n",
       "      <td>300</td>\n",
       "      <td>1.055758</td>\n",
       "    </tr>\n",
       "  </tbody>\n",
       "</table>\n",
       "</div>"
      ]
     },
     "execution_count": 7,
     "metadata": {},
     "output_type": "execute_result"
    }
   ],
   "execution_count": 7
  },
  {
   "metadata": {
    "ExecuteTime": {
     "end_time": "2024-11-10T20:16:13.929903Z",
     "start_time": "2024-11-10T20:16:13.925152Z"
    }
   },
   "cell_type": "code",
   "source": [
    "def Y_od_from_arg_theoretical(\n",
    "        od600_to_cdw=.33 * units.g / units.L,\n",
    "        abundance_arg_of_cdw=.025,  # (1prot/2cdw)(1arg/20prot) = 1/40\n",
    "        mw_arg=174.2 * units.g / units.mol\n",
    ") -> float:\n",
    "    od = arg_conc / (od600_to_cdw * perc_arg_of_cdw / mw_arg)\n",
    "    return od.to_base_units()\n",
    "\n",
    "\n",
    "df_arg_cdw = pd.DataFrame(data=dict(arg_conc_µM=[0, 100, 300])).assign(\n",
    "    od=lambda df: df.arg_conc_µM.apply(lambda c: max_od_by_arg_conc(c * units.uM).magnitude)\n",
    ")\n",
    "df_arg_cdw"
   ],
   "id": "d53f553e1bdba70b",
   "outputs": [
    {
     "data": {
      "text/plain": [
       "   arg_conc_μM        od\n",
       "0            0  0.000000\n",
       "1          100  2.111515\n",
       "2          300  6.334545"
      ],
      "text/html": [
       "<div>\n",
       "<style scoped>\n",
       "    .dataframe tbody tr th:only-of-type {\n",
       "        vertical-align: middle;\n",
       "    }\n",
       "\n",
       "    .dataframe tbody tr th {\n",
       "        vertical-align: top;\n",
       "    }\n",
       "\n",
       "    .dataframe thead th {\n",
       "        text-align: right;\n",
       "    }\n",
       "</style>\n",
       "<table border=\"1\" class=\"dataframe\">\n",
       "  <thead>\n",
       "    <tr style=\"text-align: right;\">\n",
       "      <th></th>\n",
       "      <th>arg_conc_μM</th>\n",
       "      <th>od</th>\n",
       "    </tr>\n",
       "  </thead>\n",
       "  <tbody>\n",
       "    <tr>\n",
       "      <th>0</th>\n",
       "      <td>0</td>\n",
       "      <td>0.000000</td>\n",
       "    </tr>\n",
       "    <tr>\n",
       "      <th>1</th>\n",
       "      <td>100</td>\n",
       "      <td>2.111515</td>\n",
       "    </tr>\n",
       "    <tr>\n",
       "      <th>2</th>\n",
       "      <td>300</td>\n",
       "      <td>6.334545</td>\n",
       "    </tr>\n",
       "  </tbody>\n",
       "</table>\n",
       "</div>"
      ]
     },
     "execution_count": 8,
     "metadata": {},
     "output_type": "execute_result"
    }
   ],
   "execution_count": 8
  },
  {
   "metadata": {
    "ExecuteTime": {
     "end_time": "2024-11-10T20:16:15.010258Z",
     "start_time": "2024-11-10T20:16:14.984724Z"
    }
   },
   "cell_type": "code",
   "source": "df_od_mean_max.loc[lambda df: df.strain_id.str.contains('001')]",
   "id": "2a18c6035c50fa5e",
   "outputs": [
    {
     "data": {
      "text/plain": [
       "    elapsed_time_hr  strain_id  arg_conc_uM  od_sample_mean  od_sample_sem  \\\n",
       "46             64.5  KSF001 wt            0           1.048            NaN   \n",
       "47             64.5  KSF001 wt          300           1.480            NaN   \n",
       "\n",
       "    od_sample_mean_sans_bg  \n",
       "46                   1.048  \n",
       "47                   1.480  "
      ],
      "text/html": [
       "<div>\n",
       "<style scoped>\n",
       "    .dataframe tbody tr th:only-of-type {\n",
       "        vertical-align: middle;\n",
       "    }\n",
       "\n",
       "    .dataframe tbody tr th {\n",
       "        vertical-align: top;\n",
       "    }\n",
       "\n",
       "    .dataframe thead th {\n",
       "        text-align: right;\n",
       "    }\n",
       "</style>\n",
       "<table border=\"1\" class=\"dataframe\">\n",
       "  <thead>\n",
       "    <tr style=\"text-align: right;\">\n",
       "      <th></th>\n",
       "      <th>elapsed_time_hr</th>\n",
       "      <th>strain_id</th>\n",
       "      <th>arg_conc_uM</th>\n",
       "      <th>od_sample_mean</th>\n",
       "      <th>od_sample_sem</th>\n",
       "      <th>od_sample_mean_sans_bg</th>\n",
       "    </tr>\n",
       "  </thead>\n",
       "  <tbody>\n",
       "    <tr>\n",
       "      <th>46</th>\n",
       "      <td>64.5</td>\n",
       "      <td>KSF001 wt</td>\n",
       "      <td>0</td>\n",
       "      <td>1.048</td>\n",
       "      <td>NaN</td>\n",
       "      <td>1.048</td>\n",
       "    </tr>\n",
       "    <tr>\n",
       "      <th>47</th>\n",
       "      <td>64.5</td>\n",
       "      <td>KSF001 wt</td>\n",
       "      <td>300</td>\n",
       "      <td>1.480</td>\n",
       "      <td>NaN</td>\n",
       "      <td>1.480</td>\n",
       "    </tr>\n",
       "  </tbody>\n",
       "</table>\n",
       "</div>"
      ]
     },
     "execution_count": 9,
     "metadata": {},
     "output_type": "execute_result"
    }
   ],
   "execution_count": 9
  },
  {
   "metadata": {
    "ExecuteTime": {
     "end_time": "2024-11-10T20:16:15.744659Z",
     "start_time": "2024-11-10T20:16:15.714892Z"
    }
   },
   "cell_type": "code",
   "source": [
    "px.bar(\n",
    "    df_od_mean_max.loc[lambda df: df.strain_id.str.contains('001')],\n",
    "    x='arg_conc_uM',\n",
    "    # y='od_sample_mean',\n",
    "    y='od_sample_mean_sans_bg',\n",
    "    error_y='od_sample_sem',\n",
    "    color='strain_id',\n",
    "    barmode='group',\n",
    "    labels={\n",
    "        'arg_conc_uM': '[Arg] µM',\n",
    "        'od_sample_mean': 'OD600_mean',\n",
    "        'od_sample_mean_sans_bg': 'OD600_mean (background removed)',\n",
    "        'strain_id': 'ADP1 strain',\n",
    "        'elapsed_time_hr': 'Elapsed Time (hr)',\n",
    "    },\n",
    ").update_layout(\n",
    "    # title='OD ADP1 [KSF107 (∆astA ∆argB), KSF111 (∆astA ∆argBR)] | growth in dosed Arg after preculture and wash',\n",
    "    # title_x=0.5,\n",
    "    showlegend=True,\n",
    "    height=500,\n",
    ")"
   ],
   "id": "b641b6a0656a50c1",
   "outputs": [
    {
     "data": {
      "application/vnd.plotly.v1+json": {
       "data": [
        {
         "alignmentgroup": "True",
         "error_y": {
          "array": [
           null,
           null
          ]
         },
         "hovertemplate": "ADP1 strain=KSF001 wt<br>[Arg] µM=%{x}<br>OD600_mean (background removed)=%{y}<extra></extra>",
         "legendgroup": "KSF001 wt",
         "marker": {
          "color": "#636efa",
          "pattern": {
           "shape": ""
          }
         },
         "name": "KSF001 wt",
         "offsetgroup": "KSF001 wt",
         "orientation": "v",
         "showlegend": true,
         "textposition": "auto",
         "x": [
          0,
          300
         ],
         "xaxis": "x",
         "y": [
          1.048,
          1.48
         ],
         "yaxis": "y",
         "type": "bar"
        }
       ],
       "layout": {
        "template": {
         "data": {
          "histogram2dcontour": [
           {
            "type": "histogram2dcontour",
            "colorbar": {
             "outlinewidth": 0,
             "ticks": ""
            },
            "colorscale": [
             [
              0.0,
              "#0d0887"
             ],
             [
              0.1111111111111111,
              "#46039f"
             ],
             [
              0.2222222222222222,
              "#7201a8"
             ],
             [
              0.3333333333333333,
              "#9c179e"
             ],
             [
              0.4444444444444444,
              "#bd3786"
             ],
             [
              0.5555555555555556,
              "#d8576b"
             ],
             [
              0.6666666666666666,
              "#ed7953"
             ],
             [
              0.7777777777777778,
              "#fb9f3a"
             ],
             [
              0.8888888888888888,
              "#fdca26"
             ],
             [
              1.0,
              "#f0f921"
             ]
            ]
           }
          ],
          "choropleth": [
           {
            "type": "choropleth",
            "colorbar": {
             "outlinewidth": 0,
             "ticks": ""
            }
           }
          ],
          "histogram2d": [
           {
            "type": "histogram2d",
            "colorbar": {
             "outlinewidth": 0,
             "ticks": ""
            },
            "colorscale": [
             [
              0.0,
              "#0d0887"
             ],
             [
              0.1111111111111111,
              "#46039f"
             ],
             [
              0.2222222222222222,
              "#7201a8"
             ],
             [
              0.3333333333333333,
              "#9c179e"
             ],
             [
              0.4444444444444444,
              "#bd3786"
             ],
             [
              0.5555555555555556,
              "#d8576b"
             ],
             [
              0.6666666666666666,
              "#ed7953"
             ],
             [
              0.7777777777777778,
              "#fb9f3a"
             ],
             [
              0.8888888888888888,
              "#fdca26"
             ],
             [
              1.0,
              "#f0f921"
             ]
            ]
           }
          ],
          "heatmap": [
           {
            "type": "heatmap",
            "colorbar": {
             "outlinewidth": 0,
             "ticks": ""
            },
            "colorscale": [
             [
              0.0,
              "#0d0887"
             ],
             [
              0.1111111111111111,
              "#46039f"
             ],
             [
              0.2222222222222222,
              "#7201a8"
             ],
             [
              0.3333333333333333,
              "#9c179e"
             ],
             [
              0.4444444444444444,
              "#bd3786"
             ],
             [
              0.5555555555555556,
              "#d8576b"
             ],
             [
              0.6666666666666666,
              "#ed7953"
             ],
             [
              0.7777777777777778,
              "#fb9f3a"
             ],
             [
              0.8888888888888888,
              "#fdca26"
             ],
             [
              1.0,
              "#f0f921"
             ]
            ]
           }
          ],
          "heatmapgl": [
           {
            "type": "heatmapgl",
            "colorbar": {
             "outlinewidth": 0,
             "ticks": ""
            },
            "colorscale": [
             [
              0.0,
              "#0d0887"
             ],
             [
              0.1111111111111111,
              "#46039f"
             ],
             [
              0.2222222222222222,
              "#7201a8"
             ],
             [
              0.3333333333333333,
              "#9c179e"
             ],
             [
              0.4444444444444444,
              "#bd3786"
             ],
             [
              0.5555555555555556,
              "#d8576b"
             ],
             [
              0.6666666666666666,
              "#ed7953"
             ],
             [
              0.7777777777777778,
              "#fb9f3a"
             ],
             [
              0.8888888888888888,
              "#fdca26"
             ],
             [
              1.0,
              "#f0f921"
             ]
            ]
           }
          ],
          "contourcarpet": [
           {
            "type": "contourcarpet",
            "colorbar": {
             "outlinewidth": 0,
             "ticks": ""
            }
           }
          ],
          "contour": [
           {
            "type": "contour",
            "colorbar": {
             "outlinewidth": 0,
             "ticks": ""
            },
            "colorscale": [
             [
              0.0,
              "#0d0887"
             ],
             [
              0.1111111111111111,
              "#46039f"
             ],
             [
              0.2222222222222222,
              "#7201a8"
             ],
             [
              0.3333333333333333,
              "#9c179e"
             ],
             [
              0.4444444444444444,
              "#bd3786"
             ],
             [
              0.5555555555555556,
              "#d8576b"
             ],
             [
              0.6666666666666666,
              "#ed7953"
             ],
             [
              0.7777777777777778,
              "#fb9f3a"
             ],
             [
              0.8888888888888888,
              "#fdca26"
             ],
             [
              1.0,
              "#f0f921"
             ]
            ]
           }
          ],
          "surface": [
           {
            "type": "surface",
            "colorbar": {
             "outlinewidth": 0,
             "ticks": ""
            },
            "colorscale": [
             [
              0.0,
              "#0d0887"
             ],
             [
              0.1111111111111111,
              "#46039f"
             ],
             [
              0.2222222222222222,
              "#7201a8"
             ],
             [
              0.3333333333333333,
              "#9c179e"
             ],
             [
              0.4444444444444444,
              "#bd3786"
             ],
             [
              0.5555555555555556,
              "#d8576b"
             ],
             [
              0.6666666666666666,
              "#ed7953"
             ],
             [
              0.7777777777777778,
              "#fb9f3a"
             ],
             [
              0.8888888888888888,
              "#fdca26"
             ],
             [
              1.0,
              "#f0f921"
             ]
            ]
           }
          ],
          "mesh3d": [
           {
            "type": "mesh3d",
            "colorbar": {
             "outlinewidth": 0,
             "ticks": ""
            }
           }
          ],
          "scatter": [
           {
            "fillpattern": {
             "fillmode": "overlay",
             "size": 10,
             "solidity": 0.2
            },
            "type": "scatter"
           }
          ],
          "parcoords": [
           {
            "type": "parcoords",
            "line": {
             "colorbar": {
              "outlinewidth": 0,
              "ticks": ""
             }
            }
           }
          ],
          "scatterpolargl": [
           {
            "type": "scatterpolargl",
            "marker": {
             "colorbar": {
              "outlinewidth": 0,
              "ticks": ""
             }
            }
           }
          ],
          "bar": [
           {
            "error_x": {
             "color": "#2a3f5f"
            },
            "error_y": {
             "color": "#2a3f5f"
            },
            "marker": {
             "line": {
              "color": "#E5ECF6",
              "width": 0.5
             },
             "pattern": {
              "fillmode": "overlay",
              "size": 10,
              "solidity": 0.2
             }
            },
            "type": "bar"
           }
          ],
          "scattergeo": [
           {
            "type": "scattergeo",
            "marker": {
             "colorbar": {
              "outlinewidth": 0,
              "ticks": ""
             }
            }
           }
          ],
          "scatterpolar": [
           {
            "type": "scatterpolar",
            "marker": {
             "colorbar": {
              "outlinewidth": 0,
              "ticks": ""
             }
            }
           }
          ],
          "histogram": [
           {
            "marker": {
             "pattern": {
              "fillmode": "overlay",
              "size": 10,
              "solidity": 0.2
             }
            },
            "type": "histogram"
           }
          ],
          "scattergl": [
           {
            "type": "scattergl",
            "marker": {
             "colorbar": {
              "outlinewidth": 0,
              "ticks": ""
             }
            }
           }
          ],
          "scatter3d": [
           {
            "type": "scatter3d",
            "line": {
             "colorbar": {
              "outlinewidth": 0,
              "ticks": ""
             }
            },
            "marker": {
             "colorbar": {
              "outlinewidth": 0,
              "ticks": ""
             }
            }
           }
          ],
          "scattermapbox": [
           {
            "type": "scattermapbox",
            "marker": {
             "colorbar": {
              "outlinewidth": 0,
              "ticks": ""
             }
            }
           }
          ],
          "scatterternary": [
           {
            "type": "scatterternary",
            "marker": {
             "colorbar": {
              "outlinewidth": 0,
              "ticks": ""
             }
            }
           }
          ],
          "scattercarpet": [
           {
            "type": "scattercarpet",
            "marker": {
             "colorbar": {
              "outlinewidth": 0,
              "ticks": ""
             }
            }
           }
          ],
          "carpet": [
           {
            "aaxis": {
             "endlinecolor": "#2a3f5f",
             "gridcolor": "white",
             "linecolor": "white",
             "minorgridcolor": "white",
             "startlinecolor": "#2a3f5f"
            },
            "baxis": {
             "endlinecolor": "#2a3f5f",
             "gridcolor": "white",
             "linecolor": "white",
             "minorgridcolor": "white",
             "startlinecolor": "#2a3f5f"
            },
            "type": "carpet"
           }
          ],
          "table": [
           {
            "cells": {
             "fill": {
              "color": "#EBF0F8"
             },
             "line": {
              "color": "white"
             }
            },
            "header": {
             "fill": {
              "color": "#C8D4E3"
             },
             "line": {
              "color": "white"
             }
            },
            "type": "table"
           }
          ],
          "barpolar": [
           {
            "marker": {
             "line": {
              "color": "#E5ECF6",
              "width": 0.5
             },
             "pattern": {
              "fillmode": "overlay",
              "size": 10,
              "solidity": 0.2
             }
            },
            "type": "barpolar"
           }
          ],
          "pie": [
           {
            "automargin": true,
            "type": "pie"
           }
          ]
         },
         "layout": {
          "autotypenumbers": "strict",
          "colorway": [
           "#636efa",
           "#EF553B",
           "#00cc96",
           "#ab63fa",
           "#FFA15A",
           "#19d3f3",
           "#FF6692",
           "#B6E880",
           "#FF97FF",
           "#FECB52"
          ],
          "font": {
           "color": "#2a3f5f"
          },
          "hovermode": "closest",
          "hoverlabel": {
           "align": "left"
          },
          "paper_bgcolor": "white",
          "plot_bgcolor": "#E5ECF6",
          "polar": {
           "bgcolor": "#E5ECF6",
           "angularaxis": {
            "gridcolor": "white",
            "linecolor": "white",
            "ticks": ""
           },
           "radialaxis": {
            "gridcolor": "white",
            "linecolor": "white",
            "ticks": ""
           }
          },
          "ternary": {
           "bgcolor": "#E5ECF6",
           "aaxis": {
            "gridcolor": "white",
            "linecolor": "white",
            "ticks": ""
           },
           "baxis": {
            "gridcolor": "white",
            "linecolor": "white",
            "ticks": ""
           },
           "caxis": {
            "gridcolor": "white",
            "linecolor": "white",
            "ticks": ""
           }
          },
          "coloraxis": {
           "colorbar": {
            "outlinewidth": 0,
            "ticks": ""
           }
          },
          "colorscale": {
           "sequential": [
            [
             0.0,
             "#0d0887"
            ],
            [
             0.1111111111111111,
             "#46039f"
            ],
            [
             0.2222222222222222,
             "#7201a8"
            ],
            [
             0.3333333333333333,
             "#9c179e"
            ],
            [
             0.4444444444444444,
             "#bd3786"
            ],
            [
             0.5555555555555556,
             "#d8576b"
            ],
            [
             0.6666666666666666,
             "#ed7953"
            ],
            [
             0.7777777777777778,
             "#fb9f3a"
            ],
            [
             0.8888888888888888,
             "#fdca26"
            ],
            [
             1.0,
             "#f0f921"
            ]
           ],
           "sequentialminus": [
            [
             0.0,
             "#0d0887"
            ],
            [
             0.1111111111111111,
             "#46039f"
            ],
            [
             0.2222222222222222,
             "#7201a8"
            ],
            [
             0.3333333333333333,
             "#9c179e"
            ],
            [
             0.4444444444444444,
             "#bd3786"
            ],
            [
             0.5555555555555556,
             "#d8576b"
            ],
            [
             0.6666666666666666,
             "#ed7953"
            ],
            [
             0.7777777777777778,
             "#fb9f3a"
            ],
            [
             0.8888888888888888,
             "#fdca26"
            ],
            [
             1.0,
             "#f0f921"
            ]
           ],
           "diverging": [
            [
             0,
             "#8e0152"
            ],
            [
             0.1,
             "#c51b7d"
            ],
            [
             0.2,
             "#de77ae"
            ],
            [
             0.3,
             "#f1b6da"
            ],
            [
             0.4,
             "#fde0ef"
            ],
            [
             0.5,
             "#f7f7f7"
            ],
            [
             0.6,
             "#e6f5d0"
            ],
            [
             0.7,
             "#b8e186"
            ],
            [
             0.8,
             "#7fbc41"
            ],
            [
             0.9,
             "#4d9221"
            ],
            [
             1,
             "#276419"
            ]
           ]
          },
          "xaxis": {
           "gridcolor": "white",
           "linecolor": "white",
           "ticks": "",
           "title": {
            "standoff": 15
           },
           "zerolinecolor": "white",
           "automargin": true,
           "zerolinewidth": 2
          },
          "yaxis": {
           "gridcolor": "white",
           "linecolor": "white",
           "ticks": "",
           "title": {
            "standoff": 15
           },
           "zerolinecolor": "white",
           "automargin": true,
           "zerolinewidth": 2
          },
          "scene": {
           "xaxis": {
            "backgroundcolor": "#E5ECF6",
            "gridcolor": "white",
            "linecolor": "white",
            "showbackground": true,
            "ticks": "",
            "zerolinecolor": "white",
            "gridwidth": 2
           },
           "yaxis": {
            "backgroundcolor": "#E5ECF6",
            "gridcolor": "white",
            "linecolor": "white",
            "showbackground": true,
            "ticks": "",
            "zerolinecolor": "white",
            "gridwidth": 2
           },
           "zaxis": {
            "backgroundcolor": "#E5ECF6",
            "gridcolor": "white",
            "linecolor": "white",
            "showbackground": true,
            "ticks": "",
            "zerolinecolor": "white",
            "gridwidth": 2
           }
          },
          "shapedefaults": {
           "line": {
            "color": "#2a3f5f"
           }
          },
          "annotationdefaults": {
           "arrowcolor": "#2a3f5f",
           "arrowhead": 0,
           "arrowwidth": 1
          },
          "geo": {
           "bgcolor": "white",
           "landcolor": "#E5ECF6",
           "subunitcolor": "white",
           "showland": true,
           "showlakes": true,
           "lakecolor": "white"
          },
          "title": {
           "x": 0.05
          },
          "mapbox": {
           "style": "light"
          }
         }
        },
        "xaxis": {
         "anchor": "y",
         "domain": [
          0.0,
          1.0
         ],
         "title": {
          "text": "[Arg] µM"
         }
        },
        "yaxis": {
         "anchor": "x",
         "domain": [
          0.0,
          1.0
         ],
         "title": {
          "text": "OD600_mean (background removed)"
         }
        },
        "legend": {
         "title": {
          "text": "ADP1 strain"
         },
         "tracegroupgap": 0
        },
        "margin": {
         "t": 60
        },
        "barmode": "group",
        "showlegend": true,
        "height": 500
       },
       "config": {
        "plotlyServerURL": "https://plot.ly"
       }
      },
      "text/html": [
       "<div>                            <div id=\"06a6d141-bc2e-4faa-854f-dd15f3f26341\" class=\"plotly-graph-div\" style=\"height:500px; width:100%;\"></div>            <script type=\"text/javascript\">                require([\"plotly\"], function(Plotly) {                    window.PLOTLYENV=window.PLOTLYENV || {};                                    if (document.getElementById(\"06a6d141-bc2e-4faa-854f-dd15f3f26341\")) {                    Plotly.newPlot(                        \"06a6d141-bc2e-4faa-854f-dd15f3f26341\",                        [{\"alignmentgroup\":\"True\",\"error_y\":{\"array\":[null,null]},\"hovertemplate\":\"ADP1 strain=KSF001 wt\\u003cbr\\u003e[Arg] \\u00b5M=%{x}\\u003cbr\\u003eOD600_mean (background removed)=%{y}\\u003cextra\\u003e\\u003c\\u002fextra\\u003e\",\"legendgroup\":\"KSF001 wt\",\"marker\":{\"color\":\"#636efa\",\"pattern\":{\"shape\":\"\"}},\"name\":\"KSF001 wt\",\"offsetgroup\":\"KSF001 wt\",\"orientation\":\"v\",\"showlegend\":true,\"textposition\":\"auto\",\"x\":[0,300],\"xaxis\":\"x\",\"y\":[1.048,1.48],\"yaxis\":\"y\",\"type\":\"bar\"}],                        {\"template\":{\"data\":{\"histogram2dcontour\":[{\"type\":\"histogram2dcontour\",\"colorbar\":{\"outlinewidth\":0,\"ticks\":\"\"},\"colorscale\":[[0.0,\"#0d0887\"],[0.1111111111111111,\"#46039f\"],[0.2222222222222222,\"#7201a8\"],[0.3333333333333333,\"#9c179e\"],[0.4444444444444444,\"#bd3786\"],[0.5555555555555556,\"#d8576b\"],[0.6666666666666666,\"#ed7953\"],[0.7777777777777778,\"#fb9f3a\"],[0.8888888888888888,\"#fdca26\"],[1.0,\"#f0f921\"]]}],\"choropleth\":[{\"type\":\"choropleth\",\"colorbar\":{\"outlinewidth\":0,\"ticks\":\"\"}}],\"histogram2d\":[{\"type\":\"histogram2d\",\"colorbar\":{\"outlinewidth\":0,\"ticks\":\"\"},\"colorscale\":[[0.0,\"#0d0887\"],[0.1111111111111111,\"#46039f\"],[0.2222222222222222,\"#7201a8\"],[0.3333333333333333,\"#9c179e\"],[0.4444444444444444,\"#bd3786\"],[0.5555555555555556,\"#d8576b\"],[0.6666666666666666,\"#ed7953\"],[0.7777777777777778,\"#fb9f3a\"],[0.8888888888888888,\"#fdca26\"],[1.0,\"#f0f921\"]]}],\"heatmap\":[{\"type\":\"heatmap\",\"colorbar\":{\"outlinewidth\":0,\"ticks\":\"\"},\"colorscale\":[[0.0,\"#0d0887\"],[0.1111111111111111,\"#46039f\"],[0.2222222222222222,\"#7201a8\"],[0.3333333333333333,\"#9c179e\"],[0.4444444444444444,\"#bd3786\"],[0.5555555555555556,\"#d8576b\"],[0.6666666666666666,\"#ed7953\"],[0.7777777777777778,\"#fb9f3a\"],[0.8888888888888888,\"#fdca26\"],[1.0,\"#f0f921\"]]}],\"heatmapgl\":[{\"type\":\"heatmapgl\",\"colorbar\":{\"outlinewidth\":0,\"ticks\":\"\"},\"colorscale\":[[0.0,\"#0d0887\"],[0.1111111111111111,\"#46039f\"],[0.2222222222222222,\"#7201a8\"],[0.3333333333333333,\"#9c179e\"],[0.4444444444444444,\"#bd3786\"],[0.5555555555555556,\"#d8576b\"],[0.6666666666666666,\"#ed7953\"],[0.7777777777777778,\"#fb9f3a\"],[0.8888888888888888,\"#fdca26\"],[1.0,\"#f0f921\"]]}],\"contourcarpet\":[{\"type\":\"contourcarpet\",\"colorbar\":{\"outlinewidth\":0,\"ticks\":\"\"}}],\"contour\":[{\"type\":\"contour\",\"colorbar\":{\"outlinewidth\":0,\"ticks\":\"\"},\"colorscale\":[[0.0,\"#0d0887\"],[0.1111111111111111,\"#46039f\"],[0.2222222222222222,\"#7201a8\"],[0.3333333333333333,\"#9c179e\"],[0.4444444444444444,\"#bd3786\"],[0.5555555555555556,\"#d8576b\"],[0.6666666666666666,\"#ed7953\"],[0.7777777777777778,\"#fb9f3a\"],[0.8888888888888888,\"#fdca26\"],[1.0,\"#f0f921\"]]}],\"surface\":[{\"type\":\"surface\",\"colorbar\":{\"outlinewidth\":0,\"ticks\":\"\"},\"colorscale\":[[0.0,\"#0d0887\"],[0.1111111111111111,\"#46039f\"],[0.2222222222222222,\"#7201a8\"],[0.3333333333333333,\"#9c179e\"],[0.4444444444444444,\"#bd3786\"],[0.5555555555555556,\"#d8576b\"],[0.6666666666666666,\"#ed7953\"],[0.7777777777777778,\"#fb9f3a\"],[0.8888888888888888,\"#fdca26\"],[1.0,\"#f0f921\"]]}],\"mesh3d\":[{\"type\":\"mesh3d\",\"colorbar\":{\"outlinewidth\":0,\"ticks\":\"\"}}],\"scatter\":[{\"fillpattern\":{\"fillmode\":\"overlay\",\"size\":10,\"solidity\":0.2},\"type\":\"scatter\"}],\"parcoords\":[{\"type\":\"parcoords\",\"line\":{\"colorbar\":{\"outlinewidth\":0,\"ticks\":\"\"}}}],\"scatterpolargl\":[{\"type\":\"scatterpolargl\",\"marker\":{\"colorbar\":{\"outlinewidth\":0,\"ticks\":\"\"}}}],\"bar\":[{\"error_x\":{\"color\":\"#2a3f5f\"},\"error_y\":{\"color\":\"#2a3f5f\"},\"marker\":{\"line\":{\"color\":\"#E5ECF6\",\"width\":0.5},\"pattern\":{\"fillmode\":\"overlay\",\"size\":10,\"solidity\":0.2}},\"type\":\"bar\"}],\"scattergeo\":[{\"type\":\"scattergeo\",\"marker\":{\"colorbar\":{\"outlinewidth\":0,\"ticks\":\"\"}}}],\"scatterpolar\":[{\"type\":\"scatterpolar\",\"marker\":{\"colorbar\":{\"outlinewidth\":0,\"ticks\":\"\"}}}],\"histogram\":[{\"marker\":{\"pattern\":{\"fillmode\":\"overlay\",\"size\":10,\"solidity\":0.2}},\"type\":\"histogram\"}],\"scattergl\":[{\"type\":\"scattergl\",\"marker\":{\"colorbar\":{\"outlinewidth\":0,\"ticks\":\"\"}}}],\"scatter3d\":[{\"type\":\"scatter3d\",\"line\":{\"colorbar\":{\"outlinewidth\":0,\"ticks\":\"\"}},\"marker\":{\"colorbar\":{\"outlinewidth\":0,\"ticks\":\"\"}}}],\"scattermapbox\":[{\"type\":\"scattermapbox\",\"marker\":{\"colorbar\":{\"outlinewidth\":0,\"ticks\":\"\"}}}],\"scatterternary\":[{\"type\":\"scatterternary\",\"marker\":{\"colorbar\":{\"outlinewidth\":0,\"ticks\":\"\"}}}],\"scattercarpet\":[{\"type\":\"scattercarpet\",\"marker\":{\"colorbar\":{\"outlinewidth\":0,\"ticks\":\"\"}}}],\"carpet\":[{\"aaxis\":{\"endlinecolor\":\"#2a3f5f\",\"gridcolor\":\"white\",\"linecolor\":\"white\",\"minorgridcolor\":\"white\",\"startlinecolor\":\"#2a3f5f\"},\"baxis\":{\"endlinecolor\":\"#2a3f5f\",\"gridcolor\":\"white\",\"linecolor\":\"white\",\"minorgridcolor\":\"white\",\"startlinecolor\":\"#2a3f5f\"},\"type\":\"carpet\"}],\"table\":[{\"cells\":{\"fill\":{\"color\":\"#EBF0F8\"},\"line\":{\"color\":\"white\"}},\"header\":{\"fill\":{\"color\":\"#C8D4E3\"},\"line\":{\"color\":\"white\"}},\"type\":\"table\"}],\"barpolar\":[{\"marker\":{\"line\":{\"color\":\"#E5ECF6\",\"width\":0.5},\"pattern\":{\"fillmode\":\"overlay\",\"size\":10,\"solidity\":0.2}},\"type\":\"barpolar\"}],\"pie\":[{\"automargin\":true,\"type\":\"pie\"}]},\"layout\":{\"autotypenumbers\":\"strict\",\"colorway\":[\"#636efa\",\"#EF553B\",\"#00cc96\",\"#ab63fa\",\"#FFA15A\",\"#19d3f3\",\"#FF6692\",\"#B6E880\",\"#FF97FF\",\"#FECB52\"],\"font\":{\"color\":\"#2a3f5f\"},\"hovermode\":\"closest\",\"hoverlabel\":{\"align\":\"left\"},\"paper_bgcolor\":\"white\",\"plot_bgcolor\":\"#E5ECF6\",\"polar\":{\"bgcolor\":\"#E5ECF6\",\"angularaxis\":{\"gridcolor\":\"white\",\"linecolor\":\"white\",\"ticks\":\"\"},\"radialaxis\":{\"gridcolor\":\"white\",\"linecolor\":\"white\",\"ticks\":\"\"}},\"ternary\":{\"bgcolor\":\"#E5ECF6\",\"aaxis\":{\"gridcolor\":\"white\",\"linecolor\":\"white\",\"ticks\":\"\"},\"baxis\":{\"gridcolor\":\"white\",\"linecolor\":\"white\",\"ticks\":\"\"},\"caxis\":{\"gridcolor\":\"white\",\"linecolor\":\"white\",\"ticks\":\"\"}},\"coloraxis\":{\"colorbar\":{\"outlinewidth\":0,\"ticks\":\"\"}},\"colorscale\":{\"sequential\":[[0.0,\"#0d0887\"],[0.1111111111111111,\"#46039f\"],[0.2222222222222222,\"#7201a8\"],[0.3333333333333333,\"#9c179e\"],[0.4444444444444444,\"#bd3786\"],[0.5555555555555556,\"#d8576b\"],[0.6666666666666666,\"#ed7953\"],[0.7777777777777778,\"#fb9f3a\"],[0.8888888888888888,\"#fdca26\"],[1.0,\"#f0f921\"]],\"sequentialminus\":[[0.0,\"#0d0887\"],[0.1111111111111111,\"#46039f\"],[0.2222222222222222,\"#7201a8\"],[0.3333333333333333,\"#9c179e\"],[0.4444444444444444,\"#bd3786\"],[0.5555555555555556,\"#d8576b\"],[0.6666666666666666,\"#ed7953\"],[0.7777777777777778,\"#fb9f3a\"],[0.8888888888888888,\"#fdca26\"],[1.0,\"#f0f921\"]],\"diverging\":[[0,\"#8e0152\"],[0.1,\"#c51b7d\"],[0.2,\"#de77ae\"],[0.3,\"#f1b6da\"],[0.4,\"#fde0ef\"],[0.5,\"#f7f7f7\"],[0.6,\"#e6f5d0\"],[0.7,\"#b8e186\"],[0.8,\"#7fbc41\"],[0.9,\"#4d9221\"],[1,\"#276419\"]]},\"xaxis\":{\"gridcolor\":\"white\",\"linecolor\":\"white\",\"ticks\":\"\",\"title\":{\"standoff\":15},\"zerolinecolor\":\"white\",\"automargin\":true,\"zerolinewidth\":2},\"yaxis\":{\"gridcolor\":\"white\",\"linecolor\":\"white\",\"ticks\":\"\",\"title\":{\"standoff\":15},\"zerolinecolor\":\"white\",\"automargin\":true,\"zerolinewidth\":2},\"scene\":{\"xaxis\":{\"backgroundcolor\":\"#E5ECF6\",\"gridcolor\":\"white\",\"linecolor\":\"white\",\"showbackground\":true,\"ticks\":\"\",\"zerolinecolor\":\"white\",\"gridwidth\":2},\"yaxis\":{\"backgroundcolor\":\"#E5ECF6\",\"gridcolor\":\"white\",\"linecolor\":\"white\",\"showbackground\":true,\"ticks\":\"\",\"zerolinecolor\":\"white\",\"gridwidth\":2},\"zaxis\":{\"backgroundcolor\":\"#E5ECF6\",\"gridcolor\":\"white\",\"linecolor\":\"white\",\"showbackground\":true,\"ticks\":\"\",\"zerolinecolor\":\"white\",\"gridwidth\":2}},\"shapedefaults\":{\"line\":{\"color\":\"#2a3f5f\"}},\"annotationdefaults\":{\"arrowcolor\":\"#2a3f5f\",\"arrowhead\":0,\"arrowwidth\":1},\"geo\":{\"bgcolor\":\"white\",\"landcolor\":\"#E5ECF6\",\"subunitcolor\":\"white\",\"showland\":true,\"showlakes\":true,\"lakecolor\":\"white\"},\"title\":{\"x\":0.05},\"mapbox\":{\"style\":\"light\"}}},\"xaxis\":{\"anchor\":\"y\",\"domain\":[0.0,1.0],\"title\":{\"text\":\"[Arg] \\u00b5M\"}},\"yaxis\":{\"anchor\":\"x\",\"domain\":[0.0,1.0],\"title\":{\"text\":\"OD600_mean (background removed)\"}},\"legend\":{\"title\":{\"text\":\"ADP1 strain\"},\"tracegroupgap\":0},\"margin\":{\"t\":60},\"barmode\":\"group\",\"showlegend\":true,\"height\":500},                        {\"responsive\": true}                    ).then(function(){\n",
       "                            \n",
       "var gd = document.getElementById('06a6d141-bc2e-4faa-854f-dd15f3f26341');\n",
       "var x = new MutationObserver(function (mutations, observer) {{\n",
       "        var display = window.getComputedStyle(gd).display;\n",
       "        if (!display || display === 'none') {{\n",
       "            console.log([gd, 'removed!']);\n",
       "            Plotly.purge(gd);\n",
       "            observer.disconnect();\n",
       "        }}\n",
       "}});\n",
       "\n",
       "// Listen for the removal of the full notebook cells\n",
       "var notebookContainer = gd.closest('#notebook-container');\n",
       "if (notebookContainer) {{\n",
       "    x.observe(notebookContainer, {childList: true});\n",
       "}}\n",
       "\n",
       "// Listen for the clearing of the current output cell\n",
       "var outputEl = gd.closest('.output');\n",
       "if (outputEl) {{\n",
       "    x.observe(outputEl, {childList: true});\n",
       "}}\n",
       "\n",
       "                        })                };                });            </script>        </div>"
      ]
     },
     "metadata": {},
     "output_type": "display_data"
    }
   ],
   "execution_count": 10
  },
  {
   "metadata": {
    "ExecuteTime": {
     "end_time": "2024-11-10T20:16:17.084017Z",
     "start_time": "2024-11-10T20:16:17.019771Z"
    }
   },
   "cell_type": "code",
   "source": [
    "fig_yield = px.scatter(\n",
    "    df_od_mean_max,\n",
    "    x='arg_conc_uM',\n",
    "    # y='od_sample_mean',\n",
    "    y='od_sample_mean_sans_bg',\n",
    "    color='strain_id',\n",
    "    labels={\n",
    "        'strain_id': 'ADP1 Strain',\n",
    "        'od_sample_x': 'OD',\n",
    "        'arg_conc_μM': '[Arg] (µM)'\n",
    "    },\n",
    "    trendline='rolling',\n",
    "    trendline_options=dict(function='median', window=1),\n",
    "    # trendline='ols',\n",
    "    # trendline='expanding',\n",
    "    # trendline_options=dict(function='max'),\n",
    ").update_layout(\n",
    "    # title='ADP1 {KSF230 ∆argB, KSF? ∆argB ∆argR} Biomass Yield Curves',\n",
    "    title_x=0.5,\n",
    ")\n",
    "fig_yield.add_traces([\n",
    "    # constraint\n",
    "    go.Scatter(\n",
    "        x=df_arg_cdw.arg_conc_μM, y=df_arg_cdw.od,\n",
    "        name='ODmax by 2.5% Arg',\n",
    "        mode='lines', line=dict(dash='dash'),\n",
    "        # fill='tonexty',\n",
    "    ),\n",
    "])\n",
    "# yield_fits = px.get_trendline_results(fig_yield).set_index('ADP1 Strain').px_fit_results\n",
    "\n",
    "fig_yield.update_layout(template='simple_white')\n",
    "\n",
    "# fig_yield.write_image('../../figures/pk_exp007_ArginineTitrationResponse.pdf')\n",
    "# fig_yield"
   ],
   "id": "afa0cb797b7c9a8",
   "outputs": [
    {
     "data": {
      "application/vnd.plotly.v1+json": {
       "data": [
        {
         "hovertemplate": "ADP1 Strain=KSF001 wt<br>arg_conc_uM=%{x}<br>od_sample_mean_sans_bg=%{y}<extra></extra>",
         "legendgroup": "KSF001 wt",
         "marker": {
          "color": "#636efa",
          "symbol": "circle"
         },
         "mode": "markers",
         "name": "KSF001 wt",
         "orientation": "v",
         "showlegend": true,
         "x": [
          0,
          300
         ],
         "xaxis": "x",
         "y": [
          1.048,
          1.48
         ],
         "yaxis": "y",
         "type": "scatter"
        },
        {
         "hovertemplate": "<b>Rolling median trendline</b><br><br>ADP1 Strain=KSF001 wt<br>arg_conc_uM=%{x}<br>od_sample_mean_sans_bg=%{y} <b>(trend)</b><extra></extra>",
         "legendgroup": "KSF001 wt",
         "marker": {
          "color": "#636efa",
          "symbol": "circle"
         },
         "mode": "lines",
         "name": "KSF001 wt",
         "showlegend": false,
         "x": [
          0,
          300
         ],
         "xaxis": "x",
         "y": [
          1.048,
          1.48
         ],
         "yaxis": "y",
         "type": "scatter"
        },
        {
         "hovertemplate": "ADP1 Strain=KSF111 + ∆argB<br>arg_conc_uM=%{x}<br>od_sample_mean_sans_bg=%{y}<extra></extra>",
         "legendgroup": "KSF111 + ∆argB",
         "marker": {
          "color": "#EF553B",
          "symbol": "circle"
         },
         "mode": "markers",
         "name": "KSF111 + ∆argB",
         "orientation": "v",
         "showlegend": true,
         "x": [
          0,
          50,
          100,
          150,
          200,
          300
         ],
         "xaxis": "x",
         "y": [
          0.0,
          0.44799999999999995,
          0.501,
          0.482,
          0.45599999999999996,
          0.45099999999999996
         ],
         "yaxis": "y",
         "type": "scatter"
        },
        {
         "hovertemplate": "<b>Rolling median trendline</b><br><br>ADP1 Strain=KSF111 + ∆argB<br>arg_conc_uM=%{x}<br>od_sample_mean_sans_bg=%{y} <b>(trend)</b><extra></extra>",
         "legendgroup": "KSF111 + ∆argB",
         "marker": {
          "color": "#EF553B",
          "symbol": "circle"
         },
         "mode": "lines",
         "name": "KSF111 + ∆argB",
         "showlegend": false,
         "x": [
          0,
          50,
          100,
          150,
          200,
          300
         ],
         "xaxis": "x",
         "y": [
          0.0,
          0.44799999999999995,
          0.501,
          0.482,
          0.45599999999999996,
          0.45099999999999996
         ],
         "yaxis": "y",
         "type": "scatter"
        },
        {
         "line": {
          "color": "darkgray",
          "dash": "dot"
         },
         "mode": "lines",
         "name": "[Arg] from BM w/CGP",
         "x": [
          0,
          300
         ],
         "y": [
          0.0,
          1.0557575757575757
         ],
         "type": "scatter"
        },
        {
         "line": {
          "dash": "dash"
         },
         "mode": "lines",
         "name": "ODmax by 2.5% Arg",
         "x": [
          0,
          100,
          300
         ],
         "y": [
          0.0,
          2.1115151515151513,
          6.334545454545454
         ],
         "type": "scatter"
        }
       ],
       "layout": {
        "template": {
         "data": {
          "barpolar": [
           {
            "marker": {
             "line": {
              "color": "white",
              "width": 0.5
             },
             "pattern": {
              "fillmode": "overlay",
              "size": 10,
              "solidity": 0.2
             }
            },
            "type": "barpolar"
           }
          ],
          "bar": [
           {
            "error_x": {
             "color": "rgb(36,36,36)"
            },
            "error_y": {
             "color": "rgb(36,36,36)"
            },
            "marker": {
             "line": {
              "color": "white",
              "width": 0.5
             },
             "pattern": {
              "fillmode": "overlay",
              "size": 10,
              "solidity": 0.2
             }
            },
            "type": "bar"
           }
          ],
          "carpet": [
           {
            "aaxis": {
             "endlinecolor": "rgb(36,36,36)",
             "gridcolor": "white",
             "linecolor": "white",
             "minorgridcolor": "white",
             "startlinecolor": "rgb(36,36,36)"
            },
            "baxis": {
             "endlinecolor": "rgb(36,36,36)",
             "gridcolor": "white",
             "linecolor": "white",
             "minorgridcolor": "white",
             "startlinecolor": "rgb(36,36,36)"
            },
            "type": "carpet"
           }
          ],
          "choropleth": [
           {
            "colorbar": {
             "outlinewidth": 1,
             "tickcolor": "rgb(36,36,36)",
             "ticks": "outside"
            },
            "type": "choropleth"
           }
          ],
          "contourcarpet": [
           {
            "colorbar": {
             "outlinewidth": 1,
             "tickcolor": "rgb(36,36,36)",
             "ticks": "outside"
            },
            "type": "contourcarpet"
           }
          ],
          "contour": [
           {
            "colorbar": {
             "outlinewidth": 1,
             "tickcolor": "rgb(36,36,36)",
             "ticks": "outside"
            },
            "colorscale": [
             [
              0.0,
              "#440154"
             ],
             [
              0.1111111111111111,
              "#482878"
             ],
             [
              0.2222222222222222,
              "#3e4989"
             ],
             [
              0.3333333333333333,
              "#31688e"
             ],
             [
              0.4444444444444444,
              "#26828e"
             ],
             [
              0.5555555555555556,
              "#1f9e89"
             ],
             [
              0.6666666666666666,
              "#35b779"
             ],
             [
              0.7777777777777778,
              "#6ece58"
             ],
             [
              0.8888888888888888,
              "#b5de2b"
             ],
             [
              1.0,
              "#fde725"
             ]
            ],
            "type": "contour"
           }
          ],
          "heatmapgl": [
           {
            "colorbar": {
             "outlinewidth": 1,
             "tickcolor": "rgb(36,36,36)",
             "ticks": "outside"
            },
            "colorscale": [
             [
              0.0,
              "#440154"
             ],
             [
              0.1111111111111111,
              "#482878"
             ],
             [
              0.2222222222222222,
              "#3e4989"
             ],
             [
              0.3333333333333333,
              "#31688e"
             ],
             [
              0.4444444444444444,
              "#26828e"
             ],
             [
              0.5555555555555556,
              "#1f9e89"
             ],
             [
              0.6666666666666666,
              "#35b779"
             ],
             [
              0.7777777777777778,
              "#6ece58"
             ],
             [
              0.8888888888888888,
              "#b5de2b"
             ],
             [
              1.0,
              "#fde725"
             ]
            ],
            "type": "heatmapgl"
           }
          ],
          "heatmap": [
           {
            "colorbar": {
             "outlinewidth": 1,
             "tickcolor": "rgb(36,36,36)",
             "ticks": "outside"
            },
            "colorscale": [
             [
              0.0,
              "#440154"
             ],
             [
              0.1111111111111111,
              "#482878"
             ],
             [
              0.2222222222222222,
              "#3e4989"
             ],
             [
              0.3333333333333333,
              "#31688e"
             ],
             [
              0.4444444444444444,
              "#26828e"
             ],
             [
              0.5555555555555556,
              "#1f9e89"
             ],
             [
              0.6666666666666666,
              "#35b779"
             ],
             [
              0.7777777777777778,
              "#6ece58"
             ],
             [
              0.8888888888888888,
              "#b5de2b"
             ],
             [
              1.0,
              "#fde725"
             ]
            ],
            "type": "heatmap"
           }
          ],
          "histogram2dcontour": [
           {
            "colorbar": {
             "outlinewidth": 1,
             "tickcolor": "rgb(36,36,36)",
             "ticks": "outside"
            },
            "colorscale": [
             [
              0.0,
              "#440154"
             ],
             [
              0.1111111111111111,
              "#482878"
             ],
             [
              0.2222222222222222,
              "#3e4989"
             ],
             [
              0.3333333333333333,
              "#31688e"
             ],
             [
              0.4444444444444444,
              "#26828e"
             ],
             [
              0.5555555555555556,
              "#1f9e89"
             ],
             [
              0.6666666666666666,
              "#35b779"
             ],
             [
              0.7777777777777778,
              "#6ece58"
             ],
             [
              0.8888888888888888,
              "#b5de2b"
             ],
             [
              1.0,
              "#fde725"
             ]
            ],
            "type": "histogram2dcontour"
           }
          ],
          "histogram2d": [
           {
            "colorbar": {
             "outlinewidth": 1,
             "tickcolor": "rgb(36,36,36)",
             "ticks": "outside"
            },
            "colorscale": [
             [
              0.0,
              "#440154"
             ],
             [
              0.1111111111111111,
              "#482878"
             ],
             [
              0.2222222222222222,
              "#3e4989"
             ],
             [
              0.3333333333333333,
              "#31688e"
             ],
             [
              0.4444444444444444,
              "#26828e"
             ],
             [
              0.5555555555555556,
              "#1f9e89"
             ],
             [
              0.6666666666666666,
              "#35b779"
             ],
             [
              0.7777777777777778,
              "#6ece58"
             ],
             [
              0.8888888888888888,
              "#b5de2b"
             ],
             [
              1.0,
              "#fde725"
             ]
            ],
            "type": "histogram2d"
           }
          ],
          "histogram": [
           {
            "marker": {
             "line": {
              "color": "white",
              "width": 0.6
             }
            },
            "type": "histogram"
           }
          ],
          "mesh3d": [
           {
            "colorbar": {
             "outlinewidth": 1,
             "tickcolor": "rgb(36,36,36)",
             "ticks": "outside"
            },
            "type": "mesh3d"
           }
          ],
          "parcoords": [
           {
            "line": {
             "colorbar": {
              "outlinewidth": 1,
              "tickcolor": "rgb(36,36,36)",
              "ticks": "outside"
             }
            },
            "type": "parcoords"
           }
          ],
          "pie": [
           {
            "automargin": true,
            "type": "pie"
           }
          ],
          "scatter3d": [
           {
            "line": {
             "colorbar": {
              "outlinewidth": 1,
              "tickcolor": "rgb(36,36,36)",
              "ticks": "outside"
             }
            },
            "marker": {
             "colorbar": {
              "outlinewidth": 1,
              "tickcolor": "rgb(36,36,36)",
              "ticks": "outside"
             }
            },
            "type": "scatter3d"
           }
          ],
          "scattercarpet": [
           {
            "marker": {
             "colorbar": {
              "outlinewidth": 1,
              "tickcolor": "rgb(36,36,36)",
              "ticks": "outside"
             }
            },
            "type": "scattercarpet"
           }
          ],
          "scattergeo": [
           {
            "marker": {
             "colorbar": {
              "outlinewidth": 1,
              "tickcolor": "rgb(36,36,36)",
              "ticks": "outside"
             }
            },
            "type": "scattergeo"
           }
          ],
          "scattergl": [
           {
            "marker": {
             "colorbar": {
              "outlinewidth": 1,
              "tickcolor": "rgb(36,36,36)",
              "ticks": "outside"
             }
            },
            "type": "scattergl"
           }
          ],
          "scattermapbox": [
           {
            "marker": {
             "colorbar": {
              "outlinewidth": 1,
              "tickcolor": "rgb(36,36,36)",
              "ticks": "outside"
             }
            },
            "type": "scattermapbox"
           }
          ],
          "scatterpolargl": [
           {
            "marker": {
             "colorbar": {
              "outlinewidth": 1,
              "tickcolor": "rgb(36,36,36)",
              "ticks": "outside"
             }
            },
            "type": "scatterpolargl"
           }
          ],
          "scatterpolar": [
           {
            "marker": {
             "colorbar": {
              "outlinewidth": 1,
              "tickcolor": "rgb(36,36,36)",
              "ticks": "outside"
             }
            },
            "type": "scatterpolar"
           }
          ],
          "scatter": [
           {
            "fillpattern": {
             "fillmode": "overlay",
             "size": 10,
             "solidity": 0.2
            },
            "type": "scatter"
           }
          ],
          "scatterternary": [
           {
            "marker": {
             "colorbar": {
              "outlinewidth": 1,
              "tickcolor": "rgb(36,36,36)",
              "ticks": "outside"
             }
            },
            "type": "scatterternary"
           }
          ],
          "surface": [
           {
            "colorbar": {
             "outlinewidth": 1,
             "tickcolor": "rgb(36,36,36)",
             "ticks": "outside"
            },
            "colorscale": [
             [
              0.0,
              "#440154"
             ],
             [
              0.1111111111111111,
              "#482878"
             ],
             [
              0.2222222222222222,
              "#3e4989"
             ],
             [
              0.3333333333333333,
              "#31688e"
             ],
             [
              0.4444444444444444,
              "#26828e"
             ],
             [
              0.5555555555555556,
              "#1f9e89"
             ],
             [
              0.6666666666666666,
              "#35b779"
             ],
             [
              0.7777777777777778,
              "#6ece58"
             ],
             [
              0.8888888888888888,
              "#b5de2b"
             ],
             [
              1.0,
              "#fde725"
             ]
            ],
            "type": "surface"
           }
          ],
          "table": [
           {
            "cells": {
             "fill": {
              "color": "rgb(237,237,237)"
             },
             "line": {
              "color": "white"
             }
            },
            "header": {
             "fill": {
              "color": "rgb(217,217,217)"
             },
             "line": {
              "color": "white"
             }
            },
            "type": "table"
           }
          ]
         },
         "layout": {
          "annotationdefaults": {
           "arrowhead": 0,
           "arrowwidth": 1
          },
          "autotypenumbers": "strict",
          "coloraxis": {
           "colorbar": {
            "outlinewidth": 1,
            "tickcolor": "rgb(36,36,36)",
            "ticks": "outside"
           }
          },
          "colorscale": {
           "diverging": [
            [
             0.0,
             "rgb(103,0,31)"
            ],
            [
             0.1,
             "rgb(178,24,43)"
            ],
            [
             0.2,
             "rgb(214,96,77)"
            ],
            [
             0.3,
             "rgb(244,165,130)"
            ],
            [
             0.4,
             "rgb(253,219,199)"
            ],
            [
             0.5,
             "rgb(247,247,247)"
            ],
            [
             0.6,
             "rgb(209,229,240)"
            ],
            [
             0.7,
             "rgb(146,197,222)"
            ],
            [
             0.8,
             "rgb(67,147,195)"
            ],
            [
             0.9,
             "rgb(33,102,172)"
            ],
            [
             1.0,
             "rgb(5,48,97)"
            ]
           ],
           "sequential": [
            [
             0.0,
             "#440154"
            ],
            [
             0.1111111111111111,
             "#482878"
            ],
            [
             0.2222222222222222,
             "#3e4989"
            ],
            [
             0.3333333333333333,
             "#31688e"
            ],
            [
             0.4444444444444444,
             "#26828e"
            ],
            [
             0.5555555555555556,
             "#1f9e89"
            ],
            [
             0.6666666666666666,
             "#35b779"
            ],
            [
             0.7777777777777778,
             "#6ece58"
            ],
            [
             0.8888888888888888,
             "#b5de2b"
            ],
            [
             1.0,
             "#fde725"
            ]
           ],
           "sequentialminus": [
            [
             0.0,
             "#440154"
            ],
            [
             0.1111111111111111,
             "#482878"
            ],
            [
             0.2222222222222222,
             "#3e4989"
            ],
            [
             0.3333333333333333,
             "#31688e"
            ],
            [
             0.4444444444444444,
             "#26828e"
            ],
            [
             0.5555555555555556,
             "#1f9e89"
            ],
            [
             0.6666666666666666,
             "#35b779"
            ],
            [
             0.7777777777777778,
             "#6ece58"
            ],
            [
             0.8888888888888888,
             "#b5de2b"
            ],
            [
             1.0,
             "#fde725"
            ]
           ]
          },
          "colorway": [
           "#1F77B4",
           "#FF7F0E",
           "#2CA02C",
           "#D62728",
           "#9467BD",
           "#8C564B",
           "#E377C2",
           "#7F7F7F",
           "#BCBD22",
           "#17BECF"
          ],
          "font": {
           "color": "rgb(36,36,36)"
          },
          "geo": {
           "bgcolor": "white",
           "lakecolor": "white",
           "landcolor": "white",
           "showlakes": true,
           "showland": true,
           "subunitcolor": "white"
          },
          "hoverlabel": {
           "align": "left"
          },
          "hovermode": "closest",
          "mapbox": {
           "style": "light"
          },
          "paper_bgcolor": "white",
          "plot_bgcolor": "white",
          "polar": {
           "angularaxis": {
            "gridcolor": "rgb(232,232,232)",
            "linecolor": "rgb(36,36,36)",
            "showgrid": false,
            "showline": true,
            "ticks": "outside"
           },
           "bgcolor": "white",
           "radialaxis": {
            "gridcolor": "rgb(232,232,232)",
            "linecolor": "rgb(36,36,36)",
            "showgrid": false,
            "showline": true,
            "ticks": "outside"
           }
          },
          "scene": {
           "xaxis": {
            "backgroundcolor": "white",
            "gridcolor": "rgb(232,232,232)",
            "gridwidth": 2,
            "linecolor": "rgb(36,36,36)",
            "showbackground": true,
            "showgrid": false,
            "showline": true,
            "ticks": "outside",
            "zeroline": false,
            "zerolinecolor": "rgb(36,36,36)"
           },
           "yaxis": {
            "backgroundcolor": "white",
            "gridcolor": "rgb(232,232,232)",
            "gridwidth": 2,
            "linecolor": "rgb(36,36,36)",
            "showbackground": true,
            "showgrid": false,
            "showline": true,
            "ticks": "outside",
            "zeroline": false,
            "zerolinecolor": "rgb(36,36,36)"
           },
           "zaxis": {
            "backgroundcolor": "white",
            "gridcolor": "rgb(232,232,232)",
            "gridwidth": 2,
            "linecolor": "rgb(36,36,36)",
            "showbackground": true,
            "showgrid": false,
            "showline": true,
            "ticks": "outside",
            "zeroline": false,
            "zerolinecolor": "rgb(36,36,36)"
           }
          },
          "shapedefaults": {
           "fillcolor": "black",
           "line": {
            "width": 0
           },
           "opacity": 0.3
          },
          "ternary": {
           "aaxis": {
            "gridcolor": "rgb(232,232,232)",
            "linecolor": "rgb(36,36,36)",
            "showgrid": false,
            "showline": true,
            "ticks": "outside"
           },
           "baxis": {
            "gridcolor": "rgb(232,232,232)",
            "linecolor": "rgb(36,36,36)",
            "showgrid": false,
            "showline": true,
            "ticks": "outside"
           },
           "bgcolor": "white",
           "caxis": {
            "gridcolor": "rgb(232,232,232)",
            "linecolor": "rgb(36,36,36)",
            "showgrid": false,
            "showline": true,
            "ticks": "outside"
           }
          },
          "title": {
           "x": 0.05
          },
          "xaxis": {
           "automargin": true,
           "gridcolor": "rgb(232,232,232)",
           "linecolor": "rgb(36,36,36)",
           "showgrid": false,
           "showline": true,
           "ticks": "outside",
           "title": {
            "standoff": 15
           },
           "zeroline": false,
           "zerolinecolor": "rgb(36,36,36)"
          },
          "yaxis": {
           "automargin": true,
           "gridcolor": "rgb(232,232,232)",
           "linecolor": "rgb(36,36,36)",
           "showgrid": false,
           "showline": true,
           "ticks": "outside",
           "title": {
            "standoff": 15
           },
           "zeroline": false,
           "zerolinecolor": "rgb(36,36,36)"
          }
         }
        },
        "xaxis": {
         "anchor": "y",
         "domain": [
          0.0,
          1.0
         ],
         "title": {
          "text": "arg_conc_uM"
         }
        },
        "yaxis": {
         "anchor": "x",
         "domain": [
          0.0,
          1.0
         ],
         "title": {
          "text": "od_sample_mean_sans_bg"
         }
        },
        "legend": {
         "title": {
          "text": "ADP1 Strain"
         },
         "tracegroupgap": 0
        },
        "margin": {
         "t": 60
        },
        "title": {
         "x": 0.5
        }
       },
       "config": {
        "plotlyServerURL": "https://plot.ly"
       }
      },
      "text/html": [
       "<div>                            <div id=\"c3886271-4c32-47d8-89a2-49a2bd538aba\" class=\"plotly-graph-div\" style=\"height:525px; width:100%;\"></div>            <script type=\"text/javascript\">                require([\"plotly\"], function(Plotly) {                    window.PLOTLYENV=window.PLOTLYENV || {};                                    if (document.getElementById(\"c3886271-4c32-47d8-89a2-49a2bd538aba\")) {                    Plotly.newPlot(                        \"c3886271-4c32-47d8-89a2-49a2bd538aba\",                        [{\"hovertemplate\":\"ADP1 Strain=KSF001 wt\\u003cbr\\u003earg_conc_uM=%{x}\\u003cbr\\u003eod_sample_mean_sans_bg=%{y}\\u003cextra\\u003e\\u003c\\u002fextra\\u003e\",\"legendgroup\":\"KSF001 wt\",\"marker\":{\"color\":\"#636efa\",\"symbol\":\"circle\"},\"mode\":\"markers\",\"name\":\"KSF001 wt\",\"orientation\":\"v\",\"showlegend\":true,\"x\":[0,300],\"xaxis\":\"x\",\"y\":[1.048,1.48],\"yaxis\":\"y\",\"type\":\"scatter\"},{\"hovertemplate\":\"\\u003cb\\u003eRolling median trendline\\u003c\\u002fb\\u003e\\u003cbr\\u003e\\u003cbr\\u003eADP1 Strain=KSF001 wt\\u003cbr\\u003earg_conc_uM=%{x}\\u003cbr\\u003eod_sample_mean_sans_bg=%{y} \\u003cb\\u003e(trend)\\u003c\\u002fb\\u003e\\u003cextra\\u003e\\u003c\\u002fextra\\u003e\",\"legendgroup\":\"KSF001 wt\",\"marker\":{\"color\":\"#636efa\",\"symbol\":\"circle\"},\"mode\":\"lines\",\"name\":\"KSF001 wt\",\"showlegend\":false,\"x\":[0,300],\"xaxis\":\"x\",\"y\":[1.048,1.48],\"yaxis\":\"y\",\"type\":\"scatter\"},{\"hovertemplate\":\"ADP1 Strain=KSF111 + \\u2206argB\\u003cbr\\u003earg_conc_uM=%{x}\\u003cbr\\u003eod_sample_mean_sans_bg=%{y}\\u003cextra\\u003e\\u003c\\u002fextra\\u003e\",\"legendgroup\":\"KSF111 + \\u2206argB\",\"marker\":{\"color\":\"#EF553B\",\"symbol\":\"circle\"},\"mode\":\"markers\",\"name\":\"KSF111 + \\u2206argB\",\"orientation\":\"v\",\"showlegend\":true,\"x\":[0,50,100,150,200,300],\"xaxis\":\"x\",\"y\":[0.0,0.44799999999999995,0.501,0.482,0.45599999999999996,0.45099999999999996],\"yaxis\":\"y\",\"type\":\"scatter\"},{\"hovertemplate\":\"\\u003cb\\u003eRolling median trendline\\u003c\\u002fb\\u003e\\u003cbr\\u003e\\u003cbr\\u003eADP1 Strain=KSF111 + \\u2206argB\\u003cbr\\u003earg_conc_uM=%{x}\\u003cbr\\u003eod_sample_mean_sans_bg=%{y} \\u003cb\\u003e(trend)\\u003c\\u002fb\\u003e\\u003cextra\\u003e\\u003c\\u002fextra\\u003e\",\"legendgroup\":\"KSF111 + \\u2206argB\",\"marker\":{\"color\":\"#EF553B\",\"symbol\":\"circle\"},\"mode\":\"lines\",\"name\":\"KSF111 + \\u2206argB\",\"showlegend\":false,\"x\":[0,50,100,150,200,300],\"xaxis\":\"x\",\"y\":[0.0,0.44799999999999995,0.501,0.482,0.45599999999999996,0.45099999999999996],\"yaxis\":\"y\",\"type\":\"scatter\"},{\"line\":{\"color\":\"darkgray\",\"dash\":\"dot\"},\"mode\":\"lines\",\"name\":\"[Arg] from BM w\\u002fCGP\",\"x\":[0,300],\"y\":[0.0,1.0557575757575757],\"type\":\"scatter\"},{\"line\":{\"dash\":\"dash\"},\"mode\":\"lines\",\"name\":\"ODmax by 2.5% Arg\",\"x\":[0,100,300],\"y\":[0.0,2.1115151515151513,6.334545454545454],\"type\":\"scatter\"}],                        {\"template\":{\"data\":{\"barpolar\":[{\"marker\":{\"line\":{\"color\":\"white\",\"width\":0.5},\"pattern\":{\"fillmode\":\"overlay\",\"size\":10,\"solidity\":0.2}},\"type\":\"barpolar\"}],\"bar\":[{\"error_x\":{\"color\":\"rgb(36,36,36)\"},\"error_y\":{\"color\":\"rgb(36,36,36)\"},\"marker\":{\"line\":{\"color\":\"white\",\"width\":0.5},\"pattern\":{\"fillmode\":\"overlay\",\"size\":10,\"solidity\":0.2}},\"type\":\"bar\"}],\"carpet\":[{\"aaxis\":{\"endlinecolor\":\"rgb(36,36,36)\",\"gridcolor\":\"white\",\"linecolor\":\"white\",\"minorgridcolor\":\"white\",\"startlinecolor\":\"rgb(36,36,36)\"},\"baxis\":{\"endlinecolor\":\"rgb(36,36,36)\",\"gridcolor\":\"white\",\"linecolor\":\"white\",\"minorgridcolor\":\"white\",\"startlinecolor\":\"rgb(36,36,36)\"},\"type\":\"carpet\"}],\"choropleth\":[{\"colorbar\":{\"outlinewidth\":1,\"tickcolor\":\"rgb(36,36,36)\",\"ticks\":\"outside\"},\"type\":\"choropleth\"}],\"contourcarpet\":[{\"colorbar\":{\"outlinewidth\":1,\"tickcolor\":\"rgb(36,36,36)\",\"ticks\":\"outside\"},\"type\":\"contourcarpet\"}],\"contour\":[{\"colorbar\":{\"outlinewidth\":1,\"tickcolor\":\"rgb(36,36,36)\",\"ticks\":\"outside\"},\"colorscale\":[[0.0,\"#440154\"],[0.1111111111111111,\"#482878\"],[0.2222222222222222,\"#3e4989\"],[0.3333333333333333,\"#31688e\"],[0.4444444444444444,\"#26828e\"],[0.5555555555555556,\"#1f9e89\"],[0.6666666666666666,\"#35b779\"],[0.7777777777777778,\"#6ece58\"],[0.8888888888888888,\"#b5de2b\"],[1.0,\"#fde725\"]],\"type\":\"contour\"}],\"heatmapgl\":[{\"colorbar\":{\"outlinewidth\":1,\"tickcolor\":\"rgb(36,36,36)\",\"ticks\":\"outside\"},\"colorscale\":[[0.0,\"#440154\"],[0.1111111111111111,\"#482878\"],[0.2222222222222222,\"#3e4989\"],[0.3333333333333333,\"#31688e\"],[0.4444444444444444,\"#26828e\"],[0.5555555555555556,\"#1f9e89\"],[0.6666666666666666,\"#35b779\"],[0.7777777777777778,\"#6ece58\"],[0.8888888888888888,\"#b5de2b\"],[1.0,\"#fde725\"]],\"type\":\"heatmapgl\"}],\"heatmap\":[{\"colorbar\":{\"outlinewidth\":1,\"tickcolor\":\"rgb(36,36,36)\",\"ticks\":\"outside\"},\"colorscale\":[[0.0,\"#440154\"],[0.1111111111111111,\"#482878\"],[0.2222222222222222,\"#3e4989\"],[0.3333333333333333,\"#31688e\"],[0.4444444444444444,\"#26828e\"],[0.5555555555555556,\"#1f9e89\"],[0.6666666666666666,\"#35b779\"],[0.7777777777777778,\"#6ece58\"],[0.8888888888888888,\"#b5de2b\"],[1.0,\"#fde725\"]],\"type\":\"heatmap\"}],\"histogram2dcontour\":[{\"colorbar\":{\"outlinewidth\":1,\"tickcolor\":\"rgb(36,36,36)\",\"ticks\":\"outside\"},\"colorscale\":[[0.0,\"#440154\"],[0.1111111111111111,\"#482878\"],[0.2222222222222222,\"#3e4989\"],[0.3333333333333333,\"#31688e\"],[0.4444444444444444,\"#26828e\"],[0.5555555555555556,\"#1f9e89\"],[0.6666666666666666,\"#35b779\"],[0.7777777777777778,\"#6ece58\"],[0.8888888888888888,\"#b5de2b\"],[1.0,\"#fde725\"]],\"type\":\"histogram2dcontour\"}],\"histogram2d\":[{\"colorbar\":{\"outlinewidth\":1,\"tickcolor\":\"rgb(36,36,36)\",\"ticks\":\"outside\"},\"colorscale\":[[0.0,\"#440154\"],[0.1111111111111111,\"#482878\"],[0.2222222222222222,\"#3e4989\"],[0.3333333333333333,\"#31688e\"],[0.4444444444444444,\"#26828e\"],[0.5555555555555556,\"#1f9e89\"],[0.6666666666666666,\"#35b779\"],[0.7777777777777778,\"#6ece58\"],[0.8888888888888888,\"#b5de2b\"],[1.0,\"#fde725\"]],\"type\":\"histogram2d\"}],\"histogram\":[{\"marker\":{\"line\":{\"color\":\"white\",\"width\":0.6}},\"type\":\"histogram\"}],\"mesh3d\":[{\"colorbar\":{\"outlinewidth\":1,\"tickcolor\":\"rgb(36,36,36)\",\"ticks\":\"outside\"},\"type\":\"mesh3d\"}],\"parcoords\":[{\"line\":{\"colorbar\":{\"outlinewidth\":1,\"tickcolor\":\"rgb(36,36,36)\",\"ticks\":\"outside\"}},\"type\":\"parcoords\"}],\"pie\":[{\"automargin\":true,\"type\":\"pie\"}],\"scatter3d\":[{\"line\":{\"colorbar\":{\"outlinewidth\":1,\"tickcolor\":\"rgb(36,36,36)\",\"ticks\":\"outside\"}},\"marker\":{\"colorbar\":{\"outlinewidth\":1,\"tickcolor\":\"rgb(36,36,36)\",\"ticks\":\"outside\"}},\"type\":\"scatter3d\"}],\"scattercarpet\":[{\"marker\":{\"colorbar\":{\"outlinewidth\":1,\"tickcolor\":\"rgb(36,36,36)\",\"ticks\":\"outside\"}},\"type\":\"scattercarpet\"}],\"scattergeo\":[{\"marker\":{\"colorbar\":{\"outlinewidth\":1,\"tickcolor\":\"rgb(36,36,36)\",\"ticks\":\"outside\"}},\"type\":\"scattergeo\"}],\"scattergl\":[{\"marker\":{\"colorbar\":{\"outlinewidth\":1,\"tickcolor\":\"rgb(36,36,36)\",\"ticks\":\"outside\"}},\"type\":\"scattergl\"}],\"scattermapbox\":[{\"marker\":{\"colorbar\":{\"outlinewidth\":1,\"tickcolor\":\"rgb(36,36,36)\",\"ticks\":\"outside\"}},\"type\":\"scattermapbox\"}],\"scatterpolargl\":[{\"marker\":{\"colorbar\":{\"outlinewidth\":1,\"tickcolor\":\"rgb(36,36,36)\",\"ticks\":\"outside\"}},\"type\":\"scatterpolargl\"}],\"scatterpolar\":[{\"marker\":{\"colorbar\":{\"outlinewidth\":1,\"tickcolor\":\"rgb(36,36,36)\",\"ticks\":\"outside\"}},\"type\":\"scatterpolar\"}],\"scatter\":[{\"fillpattern\":{\"fillmode\":\"overlay\",\"size\":10,\"solidity\":0.2},\"type\":\"scatter\"}],\"scatterternary\":[{\"marker\":{\"colorbar\":{\"outlinewidth\":1,\"tickcolor\":\"rgb(36,36,36)\",\"ticks\":\"outside\"}},\"type\":\"scatterternary\"}],\"surface\":[{\"colorbar\":{\"outlinewidth\":1,\"tickcolor\":\"rgb(36,36,36)\",\"ticks\":\"outside\"},\"colorscale\":[[0.0,\"#440154\"],[0.1111111111111111,\"#482878\"],[0.2222222222222222,\"#3e4989\"],[0.3333333333333333,\"#31688e\"],[0.4444444444444444,\"#26828e\"],[0.5555555555555556,\"#1f9e89\"],[0.6666666666666666,\"#35b779\"],[0.7777777777777778,\"#6ece58\"],[0.8888888888888888,\"#b5de2b\"],[1.0,\"#fde725\"]],\"type\":\"surface\"}],\"table\":[{\"cells\":{\"fill\":{\"color\":\"rgb(237,237,237)\"},\"line\":{\"color\":\"white\"}},\"header\":{\"fill\":{\"color\":\"rgb(217,217,217)\"},\"line\":{\"color\":\"white\"}},\"type\":\"table\"}]},\"layout\":{\"annotationdefaults\":{\"arrowhead\":0,\"arrowwidth\":1},\"autotypenumbers\":\"strict\",\"coloraxis\":{\"colorbar\":{\"outlinewidth\":1,\"tickcolor\":\"rgb(36,36,36)\",\"ticks\":\"outside\"}},\"colorscale\":{\"diverging\":[[0.0,\"rgb(103,0,31)\"],[0.1,\"rgb(178,24,43)\"],[0.2,\"rgb(214,96,77)\"],[0.3,\"rgb(244,165,130)\"],[0.4,\"rgb(253,219,199)\"],[0.5,\"rgb(247,247,247)\"],[0.6,\"rgb(209,229,240)\"],[0.7,\"rgb(146,197,222)\"],[0.8,\"rgb(67,147,195)\"],[0.9,\"rgb(33,102,172)\"],[1.0,\"rgb(5,48,97)\"]],\"sequential\":[[0.0,\"#440154\"],[0.1111111111111111,\"#482878\"],[0.2222222222222222,\"#3e4989\"],[0.3333333333333333,\"#31688e\"],[0.4444444444444444,\"#26828e\"],[0.5555555555555556,\"#1f9e89\"],[0.6666666666666666,\"#35b779\"],[0.7777777777777778,\"#6ece58\"],[0.8888888888888888,\"#b5de2b\"],[1.0,\"#fde725\"]],\"sequentialminus\":[[0.0,\"#440154\"],[0.1111111111111111,\"#482878\"],[0.2222222222222222,\"#3e4989\"],[0.3333333333333333,\"#31688e\"],[0.4444444444444444,\"#26828e\"],[0.5555555555555556,\"#1f9e89\"],[0.6666666666666666,\"#35b779\"],[0.7777777777777778,\"#6ece58\"],[0.8888888888888888,\"#b5de2b\"],[1.0,\"#fde725\"]]},\"colorway\":[\"#1F77B4\",\"#FF7F0E\",\"#2CA02C\",\"#D62728\",\"#9467BD\",\"#8C564B\",\"#E377C2\",\"#7F7F7F\",\"#BCBD22\",\"#17BECF\"],\"font\":{\"color\":\"rgb(36,36,36)\"},\"geo\":{\"bgcolor\":\"white\",\"lakecolor\":\"white\",\"landcolor\":\"white\",\"showlakes\":true,\"showland\":true,\"subunitcolor\":\"white\"},\"hoverlabel\":{\"align\":\"left\"},\"hovermode\":\"closest\",\"mapbox\":{\"style\":\"light\"},\"paper_bgcolor\":\"white\",\"plot_bgcolor\":\"white\",\"polar\":{\"angularaxis\":{\"gridcolor\":\"rgb(232,232,232)\",\"linecolor\":\"rgb(36,36,36)\",\"showgrid\":false,\"showline\":true,\"ticks\":\"outside\"},\"bgcolor\":\"white\",\"radialaxis\":{\"gridcolor\":\"rgb(232,232,232)\",\"linecolor\":\"rgb(36,36,36)\",\"showgrid\":false,\"showline\":true,\"ticks\":\"outside\"}},\"scene\":{\"xaxis\":{\"backgroundcolor\":\"white\",\"gridcolor\":\"rgb(232,232,232)\",\"gridwidth\":2,\"linecolor\":\"rgb(36,36,36)\",\"showbackground\":true,\"showgrid\":false,\"showline\":true,\"ticks\":\"outside\",\"zeroline\":false,\"zerolinecolor\":\"rgb(36,36,36)\"},\"yaxis\":{\"backgroundcolor\":\"white\",\"gridcolor\":\"rgb(232,232,232)\",\"gridwidth\":2,\"linecolor\":\"rgb(36,36,36)\",\"showbackground\":true,\"showgrid\":false,\"showline\":true,\"ticks\":\"outside\",\"zeroline\":false,\"zerolinecolor\":\"rgb(36,36,36)\"},\"zaxis\":{\"backgroundcolor\":\"white\",\"gridcolor\":\"rgb(232,232,232)\",\"gridwidth\":2,\"linecolor\":\"rgb(36,36,36)\",\"showbackground\":true,\"showgrid\":false,\"showline\":true,\"ticks\":\"outside\",\"zeroline\":false,\"zerolinecolor\":\"rgb(36,36,36)\"}},\"shapedefaults\":{\"fillcolor\":\"black\",\"line\":{\"width\":0},\"opacity\":0.3},\"ternary\":{\"aaxis\":{\"gridcolor\":\"rgb(232,232,232)\",\"linecolor\":\"rgb(36,36,36)\",\"showgrid\":false,\"showline\":true,\"ticks\":\"outside\"},\"baxis\":{\"gridcolor\":\"rgb(232,232,232)\",\"linecolor\":\"rgb(36,36,36)\",\"showgrid\":false,\"showline\":true,\"ticks\":\"outside\"},\"bgcolor\":\"white\",\"caxis\":{\"gridcolor\":\"rgb(232,232,232)\",\"linecolor\":\"rgb(36,36,36)\",\"showgrid\":false,\"showline\":true,\"ticks\":\"outside\"}},\"title\":{\"x\":0.05},\"xaxis\":{\"automargin\":true,\"gridcolor\":\"rgb(232,232,232)\",\"linecolor\":\"rgb(36,36,36)\",\"showgrid\":false,\"showline\":true,\"ticks\":\"outside\",\"title\":{\"standoff\":15},\"zeroline\":false,\"zerolinecolor\":\"rgb(36,36,36)\"},\"yaxis\":{\"automargin\":true,\"gridcolor\":\"rgb(232,232,232)\",\"linecolor\":\"rgb(36,36,36)\",\"showgrid\":false,\"showline\":true,\"ticks\":\"outside\",\"title\":{\"standoff\":15},\"zeroline\":false,\"zerolinecolor\":\"rgb(36,36,36)\"}}},\"xaxis\":{\"anchor\":\"y\",\"domain\":[0.0,1.0],\"title\":{\"text\":\"arg_conc_uM\"}},\"yaxis\":{\"anchor\":\"x\",\"domain\":[0.0,1.0],\"title\":{\"text\":\"od_sample_mean_sans_bg\"}},\"legend\":{\"title\":{\"text\":\"ADP1 Strain\"},\"tracegroupgap\":0},\"margin\":{\"t\":60},\"title\":{\"x\":0.5}},                        {\"responsive\": true}                    ).then(function(){\n",
       "                            \n",
       "var gd = document.getElementById('c3886271-4c32-47d8-89a2-49a2bd538aba');\n",
       "var x = new MutationObserver(function (mutations, observer) {{\n",
       "        var display = window.getComputedStyle(gd).display;\n",
       "        if (!display || display === 'none') {{\n",
       "            console.log([gd, 'removed!']);\n",
       "            Plotly.purge(gd);\n",
       "            observer.disconnect();\n",
       "        }}\n",
       "}});\n",
       "\n",
       "// Listen for the removal of the full notebook cells\n",
       "var notebookContainer = gd.closest('#notebook-container');\n",
       "if (notebookContainer) {{\n",
       "    x.observe(notebookContainer, {childList: true});\n",
       "}}\n",
       "\n",
       "// Listen for the clearing of the current output cell\n",
       "var outputEl = gd.closest('.output');\n",
       "if (outputEl) {{\n",
       "    x.observe(outputEl, {childList: true});\n",
       "}}\n",
       "\n",
       "                        })                };                });            </script>        </div>"
      ]
     },
     "metadata": {},
     "output_type": "display_data"
    }
   ],
   "execution_count": 11
  },
  {
   "metadata": {
    "ExecuteTime": {
     "end_time": "2024-11-05T02:06:29.828416Z",
     "start_time": "2024-11-05T02:06:29.826030Z"
    }
   },
   "cell_type": "code",
   "source": "pio.templates",
   "id": "6e9e644575922917",
   "outputs": [
    {
     "data": {
      "text/plain": [
       "Templates configuration\n",
       "-----------------------\n",
       "    Default template: 'plotly_dark'\n",
       "    Available templates:\n",
       "        ['ggplot2', 'seaborn', 'simple_white', 'plotly',\n",
       "         'plotly_white', 'plotly_dark', 'presentation', 'xgridoff',\n",
       "         'ygridoff', 'gridon', 'none']"
      ]
     },
     "execution_count": 10,
     "metadata": {},
     "output_type": "execute_result"
    }
   ],
   "execution_count": 10
  },
  {
   "metadata": {
    "ExecuteTime": {
     "end_time": "2024-11-05T02:06:30.039725Z",
     "start_time": "2024-11-05T02:06:29.849043Z"
    }
   },
   "cell_type": "code",
   "source": [
    "yield_fits['KSF230'].summary()\n",
    "yield_fits['∆argR'].summary()\n"
   ],
   "id": "ff6cbcb889e5bf5b",
   "outputs": [
    {
     "ename": "NameError",
     "evalue": "name 'yield_fits' is not defined",
     "output_type": "error",
     "traceback": [
      "\u001B[0;31m---------------------------------------------------------------------------\u001B[0m",
      "\u001B[0;31mNameError\u001B[0m                                 Traceback (most recent call last)",
      "Cell \u001B[0;32mIn[11], line 1\u001B[0m\n\u001B[0;32m----> 1\u001B[0m \u001B[43myield_fits\u001B[49m[\u001B[38;5;124m'\u001B[39m\u001B[38;5;124mKSF230\u001B[39m\u001B[38;5;124m'\u001B[39m]\u001B[38;5;241m.\u001B[39msummary()\n\u001B[1;32m      2\u001B[0m yield_fits[\u001B[38;5;124m'\u001B[39m\u001B[38;5;124m∆argR\u001B[39m\u001B[38;5;124m'\u001B[39m]\u001B[38;5;241m.\u001B[39msummary()\n",
      "\u001B[0;31mNameError\u001B[0m: name 'yield_fits' is not defined"
     ]
    }
   ],
   "execution_count": 11
  },
  {
   "metadata": {},
   "cell_type": "code",
   "source": [
    "def theor_arg_from_OD600_with_CGP(od600: float, frac_cgp_of_cdw: float = 0.25, frac_arg_of_cgp: float = .6,\n",
    "                                  mw_arg: float = 174.2) -> float:\n",
    "    return od600 * .33 * frac_cgp_of_cdw * frac_arg_of_cgp / mw_arg * 1E6\n",
    "\n",
    "\n",
    "def theor_OD600_with_CGP_for_x_arg(x_arg: float, frac_cgp_of_cdw: float = 0.25, frac_arg_of_cgp: float = .6,\n",
    "                                   mw_arg: float = 174.2) -> float:\n",
    "    return x_arg / (.33 * frac_cgp_of_cdw * frac_arg_of_cgp / mw_arg * 1E6)\n",
    "\n",
    "\n",
    "def yield_in_g_g(x):\n",
    "    return x * .33 / (1.742 * 10 ** -4)\n",
    "\n",
    "\n",
    "yield_in_g_g(0.0004)\n",
    "\n",
    "theor_arg_from_OD600_with_CGP(1)\n",
    "theor_OD600_with_CGP_for_x_arg(100)\n",
    "theor_OD600_with_CGP_for_x_arg(250)\n",
    "# t = yield_fits['KSF230'].summary().tables[1]\n",
    "# t[('x1')]"
   ],
   "id": "a651ab291f3e4531",
   "outputs": [],
   "execution_count": null
  },
  {
   "metadata": {},
   "cell_type": "code",
   "source": ".506 / theor_OD600_with_CGP_for_x_arg(100, frac_cgp_of_cdw=.5)",
   "id": "5ac82d06b57354ba",
   "outputs": [],
   "execution_count": null
  },
  {
   "metadata": {},
   "cell_type": "code",
   "source": [
    "import pandera as pa\n",
    "import pandera.typing as pat\n",
    "from analysis.schemas import SakaguchiODSchema\n",
    "\n",
    "\n",
    "@pa.check_types()\n",
    "def sakaguchi_analysis(df: pat.DataFrame[SakaguchiODSchema]):\n",
    "    return df"
   ],
   "id": "fa9e1408ff6fceb0",
   "outputs": [],
   "execution_count": null
  },
  {
   "metadata": {},
   "cell_type": "code",
   "source": [
    "# noinspection PyTypeChecker\n",
    "df_sakaguchi = pd.read_excel(\n",
    "    '~/tyo_lab_pk/04 Raw Data/EXP_0007_PK_20240909_ArgConcentrationResponse.xlsx',\n",
    "    sheet_name='Sakaguchi for residual arg',\n",
    "    usecols='B:E',\n",
    "    skiprows=45,\n",
    ")\n",
    "\n",
    "sakaguchi_analysis(df_sakaguchi)"
   ],
   "id": "b175819e32b78afa",
   "outputs": [],
   "execution_count": null
  },
  {
   "metadata": {},
   "cell_type": "code",
   "source": [
    "plotly_colors = {\n",
    "    \"SP_Brights_Green\": \"rgb(81, 255, 0)\",\n",
    "    \"SP_Brights_Light_Blue\": \"rgb(132, 255, 199)\",\n",
    "    \"SP_Brights_Blue\": \"rgb(81, 168, 255)\",\n",
    "    \"SP_Brights_Yellow\": \"rgb(229, 255, 28)\",\n",
    "    \"SP_Brights_Orange\": \"rgb(255, 196, 13)\",\n",
    "    \"SP_Brights_Orange_Red\": \"rgb(252, 45, 51)\",\n",
    "    \"SP_Dark_Green\": \"rgb(27, 168, 36)\",\n",
    "    \"SP_Dark_Light_Blue\": \"rgb(35, 150, 197)\",\n",
    "    \"SP_Dark_Blue\": \"rgb(58, 38, 147)\",\n",
    "    \"SP_Dark_Yellow\": \"rgb(209, 219, 0)\",\n",
    "    \"SP_Dark_Orange\": \"rgb(201, 126, 19)\",\n",
    "    \"SP_Dark_Orange_Red\": \"rgb(229, 57, 0)\"\n",
    "}"
   ],
   "id": "9b720dd9c9f4d425",
   "outputs": [],
   "execution_count": null
  },
  {
   "metadata": {},
   "cell_type": "code",
   "source": [
    "import plotly.graph_objects as go\n",
    "import numpy as np\n",
    "\n",
    "# Create figure\n",
    "fig = go.Figure()\n",
    "\n",
    "black = 'rgba(255,255,255,0)'\n",
    "\n",
    "# create linear space\n",
    "x_vals = np.linspace(0, 10, 100)\n",
    "\n",
    "# doubling references\n",
    "y_vals_1_1 = x_vals\n",
    "y_vals_1_2 = 2 * x_vals\n",
    "y_vals_1_4 = 4 * x_vals\n",
    "\n",
    "fig.add_trace(\n",
    "    go.Scatter(x=x_vals, y=y_vals_1_1, mode='lines', line=dict(dash='dash', color='black', width=1), name='1:1'))\n",
    "fig.add_trace(\n",
    "    go.Scatter(x=x_vals, y=y_vals_1_2, mode='lines', line=dict(dash='dash', color='black', width=1), name='1:2'))\n",
    "fig.add_trace(\n",
    "    go.Scatter(x=x_vals, y=y_vals_1_4, mode='lines', line=dict(dash='dash', color='black', width=1), name='1:4'))\n",
    "\n",
    "# x -> 1:1   real bad like\n",
    "fig.add_trace(go.Scatter(x=np.concatenate([x_vals, x_vals[::-1]]),\n",
    "                         y=np.concatenate([y_vals_1_1, np.zeros_like(x_vals)]),\n",
    "                         fill='toself',\n",
    "                         fillcolor=plotly_colors['SP_Brights_Orange_Red'],\n",
    "                         opacity=0.2,\n",
    "                         line=dict(color=black),\n",
    "                         showlegend=True))\n",
    "# 1:1 -> 1:2  meh\n",
    "fig.add_trace(go.Scatter(x=np.concatenate([x_vals, x_vals[::-1]]),\n",
    "                         y=np.concatenate([y_vals_1_1, y_vals_1_2[::-1]]),\n",
    "                         fill='toself',\n",
    "                         fillcolor=plotly_colors['SP_Dark_Orange_Red'],\n",
    "                         opacity=0.2,\n",
    "                         line=dict(color=black),\n",
    "                         showlegend=False))\n",
    "# 1:2 -> 1:4  ok\n",
    "fig.add_trace(go.Scatter(x=np.concatenate([x_vals, x_vals[::-1]]),\n",
    "                         y=np.concatenate([y_vals_1_2, y_vals_1_4[::-1]]),\n",
    "                         fill='toself',\n",
    "                         fillcolor=plotly_colors['SP_Dark_Green'],\n",
    "                         opacity=0.2,\n",
    "                         line=dict(color=black),\n",
    "                         showlegend=False))\n",
    "# y -> 1:4  cookin\n",
    "fig.add_trace(go.Scatter(x=np.concatenate([x_vals, np.zeros_like(x_vals)]),\n",
    "                         y=np.concatenate([y_vals_1_4, y_vals_1_4[::-1]]),\n",
    "                         fill='toself',\n",
    "                         fillcolor=plotly_colors['SP_Brights_Green'],\n",
    "                         line=dict(color=black),\n",
    "                         opacity=0.2,\n",
    "                         showlegend=False))\n",
    "\n",
    "fig.add_annotation(x=.9, y=.8, text=\"death\", showarrow=False, font=dict(size=20))\n",
    "fig.add_annotation(x=.8, y=.95, text=\"no doubling\", showarrow=False, font=dict(size=20))\n",
    "fig.add_annotation(x=.35, y=.95, text=\"1-2 doublings\", showarrow=False, font=dict(size=20))\n",
    "fig.add_annotation(x=.11, y=.95, text=\"≥2 doublings\", showarrow=False, font=dict(size=20))\n",
    "\n",
    "# theoretical and experimental curves\n",
    "\n",
    "fig.add_trace(go.Scatter(x=x_vals, y=1.43 * x_vals, mode='lines', line=dict(color='black'), name='∆argBR Best'))\n",
    "fig.add_trace(go.Scatter(x=x_vals, y=4.6 * x_vals, mode='lines', line=dict(color='purple'), name='theoretical'))\n",
    "\n",
    "fig.add_annotation(x=.2, y=.51, text=\"Y theoretical = 4.5\", showarrow=False, font=dict(size=16))\n",
    "fig.add_annotation(x=.42, y=.4, text=\"Y ∆argBR (best of) = 1.5\", showarrow=False, font=dict(size=16))\n",
    "\n",
    "# Update axes and layout for the plot\n",
    "fig.update_layout(\n",
    "    xaxis_title='ADP1 with CGP from Phase 1 (OD600)',\n",
    "    yaxis_title='ADP1 in Phase 2 (OD600)',\n",
    "    xaxis=dict(range=[0, 1]),\n",
    "    yaxis=dict(range=[0, 1]),\n",
    "    showlegend=False,\n",
    "    width=700,\n",
    "    height=700,\n",
    "    plot_bgcolor='rgba(0,0,0,0)'\n",
    ")\n",
    "\n",
    "fig"
   ],
   "id": "398ea1c37fd12419",
   "outputs": [],
   "execution_count": null
  },
  {
   "metadata": {},
   "cell_type": "code",
   "source": "fig.write_image('/Users/pasha/src/nu/posters/artifacts/yield_cgp_for_arg.pdf')\n",
   "id": "3da2f1e5dffc513a",
   "outputs": [],
   "execution_count": null
  },
  {
   "metadata": {},
   "cell_type": "markdown",
   "source": "### Sakaguchi on residual Arginine",
   "id": "2a405af4146c18aa"
  },
  {
   "metadata": {},
   "cell_type": "code",
   "source": [
    "df_od_saka = (\n",
    "    pd.read_excel(\n",
    "        '/Users/pasha/onedrive/nu/Katsev Pavel/04 Raw Data/EXP_0011_PK_20241029_ArgConcentrationResponse.xlsx',\n",
    "        sheet_name='Sakaguchi for residual arg',\n",
    "        usecols='B:D',\n",
    "        skiprows=61,\n",
    "    )\n",
    "    .assign(arg_conc=lambda df: df.condition.str.split('•').str.get(0).apply(units.parse_expression))\n",
    "    .assign(arg_conc_uM=lambda df: df.arg_conc.apply(lambda qty: int(qty.to('micromolar').magnitude)))\n",
    "    # .assign(lim=lambda df: np.abs((df.od_sample - df.od_sample.mean()) / df.od_sample.std(ddof=0)) < 3)\n",
    ")\n",
    "df_od_saka"
   ],
   "id": "56a55ed9274f3e3e",
   "outputs": [],
   "execution_count": null
  },
  {
   "metadata": {},
   "cell_type": "code",
   "source": "",
   "id": "3d9dea050cb0ef93",
   "outputs": [],
   "execution_count": null
  }
 ],
 "metadata": {
  "kernelspec": {
   "display_name": "Python 3",
   "language": "python",
   "name": "python3"
  },
  "language_info": {
   "codemirror_mode": {
    "name": "ipython",
    "version": 2
   },
   "file_extension": ".py",
   "mimetype": "text/x-python",
   "name": "python",
   "nbconvert_exporter": "python",
   "pygments_lexer": "ipython2",
   "version": "2.7.6"
  }
 },
 "nbformat": 4,
 "nbformat_minor": 5
}

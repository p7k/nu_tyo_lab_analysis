{
 "cells": [
  {
   "metadata": {
    "ExecuteTime": {
     "end_time": "2024-10-31T18:34:40.945916Z",
     "start_time": "2024-10-31T18:34:40.943684Z"
    }
   },
   "cell_type": "code",
   "source": [
    "import numpy as np\n",
    "import pandas as pd\n",
    "import plotly.express as px\n",
    "import plotly.graph_objects as go\n",
    "import plotly.io as pio\n",
    "from pint import UnitRegistry\n",
    "from scipy.stats.mstats import hmean\n",
    "\n",
    "from analysis.util import dedup_trace_legends"
   ],
   "id": "ae147dc6f28479ae",
   "outputs": [],
   "execution_count": 13
  },
  {
   "metadata": {
    "ExecuteTime": {
     "end_time": "2024-10-31T18:34:41.520548Z",
     "start_time": "2024-10-31T18:34:41.391983Z"
    }
   },
   "cell_type": "code",
   "source": [
    "units = UnitRegistry()\n",
    "\n",
    "# noinspection PyTypeChecker\n",
    "df_od = (\n",
    "    pd.read_excel(\n",
    "        '/Users/pasha/onedrive/nu/Katsev Pavel/04 Raw Data/EXP_0010_PK_20241018_NC_confirm_with_wash.xlsx',\n",
    "        sheet_name='Day 3 - 5 OD tracking',\n",
    "        usecols='A:J',\n",
    "        skiprows=3,\n",
    "    )\n",
    "    .assign(arg_conc=lambda df: df.condition.str.split('•').str.get(0).apply(units.parse_expression))\n",
    "    .assign(arg_conc_uM=lambda df: df.arg_conc.apply(lambda qty: int(qty.to('micromolar').magnitude)))\n",
    "    # .assign(lim=lambda df: np.abs((df.od_sample - df.od_sample.mean()) / df.od_sample.std(ddof=0)) < 3)\n",
    ")\n",
    "df_od"
   ],
   "id": "d9851c8e4d00f8a3",
   "outputs": [
    {
     "data": {
      "text/plain": [
       "             timestamp  elapsed_time_hr  sample_id       strain_id condition  \\\n",
       "0  2024-10-22 18:00:00              0.0        1.1       KSF001 wt   0µM•Arg   \n",
       "1  2024-10-22 18:00:00              0.0        2.1    KSF230 ∆argB   0µM•Arg   \n",
       "2  2024-10-22 18:00:00              0.0        3.1  KSF107 + ∆argB   0µM•Arg   \n",
       "3  2024-10-22 18:00:00              0.0        4.1  KSF111 + ∆argB   0µM•Arg   \n",
       "4  2024-10-22 18:00:00              0.0        1.2       KSF001 wt   0µM•Arg   \n",
       "5  2024-10-22 18:00:00              0.0        2.2    KSF230 ∆argB   0µM•Arg   \n",
       "6  2024-10-22 18:00:00              0.0        3.2  KSF107 + ∆argB   0µM•Arg   \n",
       "7  2024-10-22 18:00:00              0.0        4.2  KSF111 + ∆argB   0µM•Arg   \n",
       "8  2024-10-22 18:00:00              0.0        1.3       KSF001 wt   0µM•Arg   \n",
       "9  2024-10-22 18:00:00              0.0        2.3    KSF230 ∆argB   0µM•Arg   \n",
       "10 2024-10-22 18:00:00              0.0        3.3  KSF107 + ∆argB   0µM•Arg   \n",
       "11 2024-10-22 18:00:00              0.0        4.3  KSF111 + ∆argB   0µM•Arg   \n",
       "12 2024-10-23 11:00:00             17.0        1.1       KSF001 wt   0µM•Arg   \n",
       "13 2024-10-23 11:00:00             17.0        2.1    KSF230 ∆argB   0µM•Arg   \n",
       "14 2024-10-23 11:00:00             17.0        3.1  KSF107 + ∆argB   0µM•Arg   \n",
       "15 2024-10-23 11:00:00             17.0        4.1  KSF111 + ∆argB   0µM•Arg   \n",
       "16 2024-10-23 11:00:00             17.0        1.2       KSF001 wt   0µM•Arg   \n",
       "17 2024-10-23 11:00:00             17.0        2.2    KSF230 ∆argB   0µM•Arg   \n",
       "18 2024-10-23 11:00:00             17.0        3.2  KSF107 + ∆argB   0µM•Arg   \n",
       "19 2024-10-23 11:00:00             17.0        4.2  KSF111 + ∆argB   0µM•Arg   \n",
       "20 2024-10-23 11:00:00             17.0        1.3       KSF001 wt   0µM•Arg   \n",
       "21 2024-10-23 11:00:00             17.0        2.3    KSF230 ∆argB   0µM•Arg   \n",
       "22 2024-10-23 11:00:00             17.0        3.3  KSF107 + ∆argB   0µM•Arg   \n",
       "23 2024-10-23 11:00:00             17.0        4.3  KSF111 + ∆argB   0µM•Arg   \n",
       "24 2024-10-23 18:30:00             24.5        1.1       KSF001 wt   0µM•Arg   \n",
       "25 2024-10-23 18:30:00             24.5        2.1    KSF230 ∆argB   0µM•Arg   \n",
       "26 2024-10-23 18:30:00             24.5        3.1  KSF107 + ∆argB   0µM•Arg   \n",
       "27 2024-10-23 18:30:00             24.5        4.1  KSF111 + ∆argB   0µM•Arg   \n",
       "28 2024-10-23 18:30:00             24.5        1.2       KSF001 wt   0µM•Arg   \n",
       "29 2024-10-23 18:30:00             24.5        2.2    KSF230 ∆argB   0µM•Arg   \n",
       "30 2024-10-23 18:30:00             24.5        3.2  KSF107 + ∆argB   0µM•Arg   \n",
       "31 2024-10-23 18:30:00             24.5        4.2  KSF111 + ∆argB   0µM•Arg   \n",
       "32 2024-10-23 18:30:00             24.5        1.3       KSF001 wt   0µM•Arg   \n",
       "33 2024-10-23 18:30:00             24.5        2.3    KSF230 ∆argB   0µM•Arg   \n",
       "34 2024-10-23 18:30:00             24.5        3.3  KSF107 + ∆argB   0µM•Arg   \n",
       "35 2024-10-23 18:30:00             24.5        4.3  KSF111 + ∆argB   0µM•Arg   \n",
       "36 2024-10-24 10:00:00             40.0        1.1       KSF001 wt   0µM•Arg   \n",
       "37 2024-10-24 10:00:00             40.0        2.1    KSF230 ∆argB   0µM•Arg   \n",
       "38 2024-10-24 10:00:00             40.0        3.1  KSF107 + ∆argB   0µM•Arg   \n",
       "39 2024-10-24 10:00:00             40.0        4.1  KSF111 + ∆argB   0µM•Arg   \n",
       "40 2024-10-24 10:00:00             40.0        1.2       KSF001 wt   0µM•Arg   \n",
       "41 2024-10-24 10:00:00             40.0        2.2    KSF230 ∆argB   0µM•Arg   \n",
       "42 2024-10-24 10:00:00             40.0        3.2  KSF107 + ∆argB   0µM•Arg   \n",
       "43 2024-10-24 10:00:00             40.0        4.2  KSF111 + ∆argB   0µM•Arg   \n",
       "44 2024-10-24 10:00:00             40.0        1.3       KSF001 wt   0µM•Arg   \n",
       "45 2024-10-24 10:00:00             40.0        2.3    KSF230 ∆argB   0µM•Arg   \n",
       "46 2024-10-24 10:00:00             40.0        3.3  KSF107 + ∆argB   0µM•Arg   \n",
       "47 2024-10-24 10:00:00             40.0        4.3  KSF111 + ∆argB   0µM•Arg   \n",
       "\n",
       "         blank_src  conc_factor  od_blank_diluted  od_sample_diluted  \\\n",
       "0   0µM•Arg SubMix            4             0.039              0.114   \n",
       "1   0µM•Arg SubMix            4             0.039              0.117   \n",
       "2   0µM•Arg SubMix            4             0.039              0.110   \n",
       "3   0µM•Arg SubMix            4             0.039              0.108   \n",
       "4   0µM•Arg SubMix            4             0.039              0.112   \n",
       "5   0µM•Arg SubMix            4             0.039              0.114   \n",
       "6   0µM•Arg SubMix            4             0.039              0.107   \n",
       "7   0µM•Arg SubMix            4             0.039              0.107   \n",
       "8   0µM•Arg SubMix            4             0.039              0.113   \n",
       "9   0µM•Arg SubMix            4             0.039              0.114   \n",
       "10  0µM•Arg SubMix            4             0.039              0.109   \n",
       "11  0µM•Arg SubMix            4             0.039              0.106   \n",
       "12  0µM•Arg SubMix            4             0.039              0.320   \n",
       "13  0µM•Arg SubMix            4             0.039              0.105   \n",
       "14  0µM•Arg SubMix            4             0.039              0.131   \n",
       "15  0µM•Arg SubMix            4             0.039              0.143   \n",
       "16  0µM•Arg SubMix            4             0.039              0.305   \n",
       "17  0µM•Arg SubMix            4             0.039              0.103   \n",
       "18  0µM•Arg SubMix            4             0.039              0.127   \n",
       "19  0µM•Arg SubMix            4             0.039              0.141   \n",
       "20  0µM•Arg SubMix            4             0.039              0.304   \n",
       "21  0µM•Arg SubMix            4             0.039              0.104   \n",
       "22  0µM•Arg SubMix            4             0.039              0.128   \n",
       "23  0µM•Arg SubMix            4             0.039              0.138   \n",
       "24  0µM•Arg SubMix            4             0.044              0.304   \n",
       "25  0µM•Arg SubMix            4             0.044              0.108   \n",
       "26  0µM•Arg SubMix            4             0.044              0.128   \n",
       "27  0µM•Arg SubMix            4             0.044              0.160   \n",
       "28  0µM•Arg SubMix            4             0.039              0.307   \n",
       "29  0µM•Arg SubMix            4             0.039              0.106   \n",
       "30  0µM•Arg SubMix            4             0.039              0.129   \n",
       "31  0µM•Arg SubMix            4             0.039              0.153   \n",
       "32  0µM•Arg SubMix            4             0.040              0.318   \n",
       "33  0µM•Arg SubMix            4             0.040              0.104   \n",
       "34  0µM•Arg SubMix            4             0.040              0.131   \n",
       "35  0µM•Arg SubMix            4             0.040              0.150   \n",
       "36  0µM•Arg SubMix            4             0.039              0.326   \n",
       "37  0µM•Arg SubMix            4             0.039              0.114   \n",
       "38  0µM•Arg SubMix            4             0.039              0.138   \n",
       "39  0µM•Arg SubMix            4             0.039              0.155   \n",
       "40  0µM•Arg SubMix            4             0.039              0.331   \n",
       "41  0µM•Arg SubMix            4             0.039              0.113   \n",
       "42  0µM•Arg SubMix            4             0.039              0.138   \n",
       "43  0µM•Arg SubMix            4             0.039              0.155   \n",
       "44  0µM•Arg SubMix            4             0.040              0.326   \n",
       "45  0µM•Arg SubMix            4             0.040              0.116   \n",
       "46  0µM•Arg SubMix            4             0.040              0.139   \n",
       "47  0µM•Arg SubMix            4             0.040              0.153   \n",
       "\n",
       "    od_sample      arg_conc  arg_conc_uM  \n",
       "0       0.300  0 micromolar            0  \n",
       "1       0.312  0 micromolar            0  \n",
       "2       0.284  0 micromolar            0  \n",
       "3       0.276  0 micromolar            0  \n",
       "4       0.292  0 micromolar            0  \n",
       "5       0.300  0 micromolar            0  \n",
       "6       0.272  0 micromolar            0  \n",
       "7       0.272  0 micromolar            0  \n",
       "8       0.296  0 micromolar            0  \n",
       "9       0.300  0 micromolar            0  \n",
       "10      0.280  0 micromolar            0  \n",
       "11      0.268  0 micromolar            0  \n",
       "12      1.124  0 micromolar            0  \n",
       "13      0.264  0 micromolar            0  \n",
       "14      0.368  0 micromolar            0  \n",
       "15      0.416  0 micromolar            0  \n",
       "16      1.064  0 micromolar            0  \n",
       "17      0.256  0 micromolar            0  \n",
       "18      0.352  0 micromolar            0  \n",
       "19      0.408  0 micromolar            0  \n",
       "20      1.060  0 micromolar            0  \n",
       "21      0.260  0 micromolar            0  \n",
       "22      0.356  0 micromolar            0  \n",
       "23      0.396  0 micromolar            0  \n",
       "24      1.040  0 micromolar            0  \n",
       "25      0.256  0 micromolar            0  \n",
       "26      0.336  0 micromolar            0  \n",
       "27      0.464  0 micromolar            0  \n",
       "28      1.072  0 micromolar            0  \n",
       "29      0.268  0 micromolar            0  \n",
       "30      0.360  0 micromolar            0  \n",
       "31      0.456  0 micromolar            0  \n",
       "32      1.112  0 micromolar            0  \n",
       "33      0.256  0 micromolar            0  \n",
       "34      0.364  0 micromolar            0  \n",
       "35      0.440  0 micromolar            0  \n",
       "36      1.148  0 micromolar            0  \n",
       "37      0.300  0 micromolar            0  \n",
       "38      0.396  0 micromolar            0  \n",
       "39      0.464  0 micromolar            0  \n",
       "40      1.168  0 micromolar            0  \n",
       "41      0.296  0 micromolar            0  \n",
       "42      0.396  0 micromolar            0  \n",
       "43      0.464  0 micromolar            0  \n",
       "44      1.144  0 micromolar            0  \n",
       "45      0.304  0 micromolar            0  \n",
       "46      0.396  0 micromolar            0  \n",
       "47      0.452  0 micromolar            0  "
      ],
      "text/html": [
       "<div>\n",
       "<style scoped>\n",
       "    .dataframe tbody tr th:only-of-type {\n",
       "        vertical-align: middle;\n",
       "    }\n",
       "\n",
       "    .dataframe tbody tr th {\n",
       "        vertical-align: top;\n",
       "    }\n",
       "\n",
       "    .dataframe thead th {\n",
       "        text-align: right;\n",
       "    }\n",
       "</style>\n",
       "<table border=\"1\" class=\"dataframe\">\n",
       "  <thead>\n",
       "    <tr style=\"text-align: right;\">\n",
       "      <th></th>\n",
       "      <th>timestamp</th>\n",
       "      <th>elapsed_time_hr</th>\n",
       "      <th>sample_id</th>\n",
       "      <th>strain_id</th>\n",
       "      <th>condition</th>\n",
       "      <th>blank_src</th>\n",
       "      <th>conc_factor</th>\n",
       "      <th>od_blank_diluted</th>\n",
       "      <th>od_sample_diluted</th>\n",
       "      <th>od_sample</th>\n",
       "      <th>arg_conc</th>\n",
       "      <th>arg_conc_uM</th>\n",
       "    </tr>\n",
       "  </thead>\n",
       "  <tbody>\n",
       "    <tr>\n",
       "      <th>0</th>\n",
       "      <td>2024-10-22 18:00:00</td>\n",
       "      <td>0.0</td>\n",
       "      <td>1.1</td>\n",
       "      <td>KSF001 wt</td>\n",
       "      <td>0µM•Arg</td>\n",
       "      <td>0µM•Arg SubMix</td>\n",
       "      <td>4</td>\n",
       "      <td>0.039</td>\n",
       "      <td>0.114</td>\n",
       "      <td>0.300</td>\n",
       "      <td>0 micromolar</td>\n",
       "      <td>0</td>\n",
       "    </tr>\n",
       "    <tr>\n",
       "      <th>1</th>\n",
       "      <td>2024-10-22 18:00:00</td>\n",
       "      <td>0.0</td>\n",
       "      <td>2.1</td>\n",
       "      <td>KSF230 ∆argB</td>\n",
       "      <td>0µM•Arg</td>\n",
       "      <td>0µM•Arg SubMix</td>\n",
       "      <td>4</td>\n",
       "      <td>0.039</td>\n",
       "      <td>0.117</td>\n",
       "      <td>0.312</td>\n",
       "      <td>0 micromolar</td>\n",
       "      <td>0</td>\n",
       "    </tr>\n",
       "    <tr>\n",
       "      <th>2</th>\n",
       "      <td>2024-10-22 18:00:00</td>\n",
       "      <td>0.0</td>\n",
       "      <td>3.1</td>\n",
       "      <td>KSF107 + ∆argB</td>\n",
       "      <td>0µM•Arg</td>\n",
       "      <td>0µM•Arg SubMix</td>\n",
       "      <td>4</td>\n",
       "      <td>0.039</td>\n",
       "      <td>0.110</td>\n",
       "      <td>0.284</td>\n",
       "      <td>0 micromolar</td>\n",
       "      <td>0</td>\n",
       "    </tr>\n",
       "    <tr>\n",
       "      <th>3</th>\n",
       "      <td>2024-10-22 18:00:00</td>\n",
       "      <td>0.0</td>\n",
       "      <td>4.1</td>\n",
       "      <td>KSF111 + ∆argB</td>\n",
       "      <td>0µM•Arg</td>\n",
       "      <td>0µM•Arg SubMix</td>\n",
       "      <td>4</td>\n",
       "      <td>0.039</td>\n",
       "      <td>0.108</td>\n",
       "      <td>0.276</td>\n",
       "      <td>0 micromolar</td>\n",
       "      <td>0</td>\n",
       "    </tr>\n",
       "    <tr>\n",
       "      <th>4</th>\n",
       "      <td>2024-10-22 18:00:00</td>\n",
       "      <td>0.0</td>\n",
       "      <td>1.2</td>\n",
       "      <td>KSF001 wt</td>\n",
       "      <td>0µM•Arg</td>\n",
       "      <td>0µM•Arg SubMix</td>\n",
       "      <td>4</td>\n",
       "      <td>0.039</td>\n",
       "      <td>0.112</td>\n",
       "      <td>0.292</td>\n",
       "      <td>0 micromolar</td>\n",
       "      <td>0</td>\n",
       "    </tr>\n",
       "    <tr>\n",
       "      <th>5</th>\n",
       "      <td>2024-10-22 18:00:00</td>\n",
       "      <td>0.0</td>\n",
       "      <td>2.2</td>\n",
       "      <td>KSF230 ∆argB</td>\n",
       "      <td>0µM•Arg</td>\n",
       "      <td>0µM•Arg SubMix</td>\n",
       "      <td>4</td>\n",
       "      <td>0.039</td>\n",
       "      <td>0.114</td>\n",
       "      <td>0.300</td>\n",
       "      <td>0 micromolar</td>\n",
       "      <td>0</td>\n",
       "    </tr>\n",
       "    <tr>\n",
       "      <th>6</th>\n",
       "      <td>2024-10-22 18:00:00</td>\n",
       "      <td>0.0</td>\n",
       "      <td>3.2</td>\n",
       "      <td>KSF107 + ∆argB</td>\n",
       "      <td>0µM•Arg</td>\n",
       "      <td>0µM•Arg SubMix</td>\n",
       "      <td>4</td>\n",
       "      <td>0.039</td>\n",
       "      <td>0.107</td>\n",
       "      <td>0.272</td>\n",
       "      <td>0 micromolar</td>\n",
       "      <td>0</td>\n",
       "    </tr>\n",
       "    <tr>\n",
       "      <th>7</th>\n",
       "      <td>2024-10-22 18:00:00</td>\n",
       "      <td>0.0</td>\n",
       "      <td>4.2</td>\n",
       "      <td>KSF111 + ∆argB</td>\n",
       "      <td>0µM•Arg</td>\n",
       "      <td>0µM•Arg SubMix</td>\n",
       "      <td>4</td>\n",
       "      <td>0.039</td>\n",
       "      <td>0.107</td>\n",
       "      <td>0.272</td>\n",
       "      <td>0 micromolar</td>\n",
       "      <td>0</td>\n",
       "    </tr>\n",
       "    <tr>\n",
       "      <th>8</th>\n",
       "      <td>2024-10-22 18:00:00</td>\n",
       "      <td>0.0</td>\n",
       "      <td>1.3</td>\n",
       "      <td>KSF001 wt</td>\n",
       "      <td>0µM•Arg</td>\n",
       "      <td>0µM•Arg SubMix</td>\n",
       "      <td>4</td>\n",
       "      <td>0.039</td>\n",
       "      <td>0.113</td>\n",
       "      <td>0.296</td>\n",
       "      <td>0 micromolar</td>\n",
       "      <td>0</td>\n",
       "    </tr>\n",
       "    <tr>\n",
       "      <th>9</th>\n",
       "      <td>2024-10-22 18:00:00</td>\n",
       "      <td>0.0</td>\n",
       "      <td>2.3</td>\n",
       "      <td>KSF230 ∆argB</td>\n",
       "      <td>0µM•Arg</td>\n",
       "      <td>0µM•Arg SubMix</td>\n",
       "      <td>4</td>\n",
       "      <td>0.039</td>\n",
       "      <td>0.114</td>\n",
       "      <td>0.300</td>\n",
       "      <td>0 micromolar</td>\n",
       "      <td>0</td>\n",
       "    </tr>\n",
       "    <tr>\n",
       "      <th>10</th>\n",
       "      <td>2024-10-22 18:00:00</td>\n",
       "      <td>0.0</td>\n",
       "      <td>3.3</td>\n",
       "      <td>KSF107 + ∆argB</td>\n",
       "      <td>0µM•Arg</td>\n",
       "      <td>0µM•Arg SubMix</td>\n",
       "      <td>4</td>\n",
       "      <td>0.039</td>\n",
       "      <td>0.109</td>\n",
       "      <td>0.280</td>\n",
       "      <td>0 micromolar</td>\n",
       "      <td>0</td>\n",
       "    </tr>\n",
       "    <tr>\n",
       "      <th>11</th>\n",
       "      <td>2024-10-22 18:00:00</td>\n",
       "      <td>0.0</td>\n",
       "      <td>4.3</td>\n",
       "      <td>KSF111 + ∆argB</td>\n",
       "      <td>0µM•Arg</td>\n",
       "      <td>0µM•Arg SubMix</td>\n",
       "      <td>4</td>\n",
       "      <td>0.039</td>\n",
       "      <td>0.106</td>\n",
       "      <td>0.268</td>\n",
       "      <td>0 micromolar</td>\n",
       "      <td>0</td>\n",
       "    </tr>\n",
       "    <tr>\n",
       "      <th>12</th>\n",
       "      <td>2024-10-23 11:00:00</td>\n",
       "      <td>17.0</td>\n",
       "      <td>1.1</td>\n",
       "      <td>KSF001 wt</td>\n",
       "      <td>0µM•Arg</td>\n",
       "      <td>0µM•Arg SubMix</td>\n",
       "      <td>4</td>\n",
       "      <td>0.039</td>\n",
       "      <td>0.320</td>\n",
       "      <td>1.124</td>\n",
       "      <td>0 micromolar</td>\n",
       "      <td>0</td>\n",
       "    </tr>\n",
       "    <tr>\n",
       "      <th>13</th>\n",
       "      <td>2024-10-23 11:00:00</td>\n",
       "      <td>17.0</td>\n",
       "      <td>2.1</td>\n",
       "      <td>KSF230 ∆argB</td>\n",
       "      <td>0µM•Arg</td>\n",
       "      <td>0µM•Arg SubMix</td>\n",
       "      <td>4</td>\n",
       "      <td>0.039</td>\n",
       "      <td>0.105</td>\n",
       "      <td>0.264</td>\n",
       "      <td>0 micromolar</td>\n",
       "      <td>0</td>\n",
       "    </tr>\n",
       "    <tr>\n",
       "      <th>14</th>\n",
       "      <td>2024-10-23 11:00:00</td>\n",
       "      <td>17.0</td>\n",
       "      <td>3.1</td>\n",
       "      <td>KSF107 + ∆argB</td>\n",
       "      <td>0µM•Arg</td>\n",
       "      <td>0µM•Arg SubMix</td>\n",
       "      <td>4</td>\n",
       "      <td>0.039</td>\n",
       "      <td>0.131</td>\n",
       "      <td>0.368</td>\n",
       "      <td>0 micromolar</td>\n",
       "      <td>0</td>\n",
       "    </tr>\n",
       "    <tr>\n",
       "      <th>15</th>\n",
       "      <td>2024-10-23 11:00:00</td>\n",
       "      <td>17.0</td>\n",
       "      <td>4.1</td>\n",
       "      <td>KSF111 + ∆argB</td>\n",
       "      <td>0µM•Arg</td>\n",
       "      <td>0µM•Arg SubMix</td>\n",
       "      <td>4</td>\n",
       "      <td>0.039</td>\n",
       "      <td>0.143</td>\n",
       "      <td>0.416</td>\n",
       "      <td>0 micromolar</td>\n",
       "      <td>0</td>\n",
       "    </tr>\n",
       "    <tr>\n",
       "      <th>16</th>\n",
       "      <td>2024-10-23 11:00:00</td>\n",
       "      <td>17.0</td>\n",
       "      <td>1.2</td>\n",
       "      <td>KSF001 wt</td>\n",
       "      <td>0µM•Arg</td>\n",
       "      <td>0µM•Arg SubMix</td>\n",
       "      <td>4</td>\n",
       "      <td>0.039</td>\n",
       "      <td>0.305</td>\n",
       "      <td>1.064</td>\n",
       "      <td>0 micromolar</td>\n",
       "      <td>0</td>\n",
       "    </tr>\n",
       "    <tr>\n",
       "      <th>17</th>\n",
       "      <td>2024-10-23 11:00:00</td>\n",
       "      <td>17.0</td>\n",
       "      <td>2.2</td>\n",
       "      <td>KSF230 ∆argB</td>\n",
       "      <td>0µM•Arg</td>\n",
       "      <td>0µM•Arg SubMix</td>\n",
       "      <td>4</td>\n",
       "      <td>0.039</td>\n",
       "      <td>0.103</td>\n",
       "      <td>0.256</td>\n",
       "      <td>0 micromolar</td>\n",
       "      <td>0</td>\n",
       "    </tr>\n",
       "    <tr>\n",
       "      <th>18</th>\n",
       "      <td>2024-10-23 11:00:00</td>\n",
       "      <td>17.0</td>\n",
       "      <td>3.2</td>\n",
       "      <td>KSF107 + ∆argB</td>\n",
       "      <td>0µM•Arg</td>\n",
       "      <td>0µM•Arg SubMix</td>\n",
       "      <td>4</td>\n",
       "      <td>0.039</td>\n",
       "      <td>0.127</td>\n",
       "      <td>0.352</td>\n",
       "      <td>0 micromolar</td>\n",
       "      <td>0</td>\n",
       "    </tr>\n",
       "    <tr>\n",
       "      <th>19</th>\n",
       "      <td>2024-10-23 11:00:00</td>\n",
       "      <td>17.0</td>\n",
       "      <td>4.2</td>\n",
       "      <td>KSF111 + ∆argB</td>\n",
       "      <td>0µM•Arg</td>\n",
       "      <td>0µM•Arg SubMix</td>\n",
       "      <td>4</td>\n",
       "      <td>0.039</td>\n",
       "      <td>0.141</td>\n",
       "      <td>0.408</td>\n",
       "      <td>0 micromolar</td>\n",
       "      <td>0</td>\n",
       "    </tr>\n",
       "    <tr>\n",
       "      <th>20</th>\n",
       "      <td>2024-10-23 11:00:00</td>\n",
       "      <td>17.0</td>\n",
       "      <td>1.3</td>\n",
       "      <td>KSF001 wt</td>\n",
       "      <td>0µM•Arg</td>\n",
       "      <td>0µM•Arg SubMix</td>\n",
       "      <td>4</td>\n",
       "      <td>0.039</td>\n",
       "      <td>0.304</td>\n",
       "      <td>1.060</td>\n",
       "      <td>0 micromolar</td>\n",
       "      <td>0</td>\n",
       "    </tr>\n",
       "    <tr>\n",
       "      <th>21</th>\n",
       "      <td>2024-10-23 11:00:00</td>\n",
       "      <td>17.0</td>\n",
       "      <td>2.3</td>\n",
       "      <td>KSF230 ∆argB</td>\n",
       "      <td>0µM•Arg</td>\n",
       "      <td>0µM•Arg SubMix</td>\n",
       "      <td>4</td>\n",
       "      <td>0.039</td>\n",
       "      <td>0.104</td>\n",
       "      <td>0.260</td>\n",
       "      <td>0 micromolar</td>\n",
       "      <td>0</td>\n",
       "    </tr>\n",
       "    <tr>\n",
       "      <th>22</th>\n",
       "      <td>2024-10-23 11:00:00</td>\n",
       "      <td>17.0</td>\n",
       "      <td>3.3</td>\n",
       "      <td>KSF107 + ∆argB</td>\n",
       "      <td>0µM•Arg</td>\n",
       "      <td>0µM•Arg SubMix</td>\n",
       "      <td>4</td>\n",
       "      <td>0.039</td>\n",
       "      <td>0.128</td>\n",
       "      <td>0.356</td>\n",
       "      <td>0 micromolar</td>\n",
       "      <td>0</td>\n",
       "    </tr>\n",
       "    <tr>\n",
       "      <th>23</th>\n",
       "      <td>2024-10-23 11:00:00</td>\n",
       "      <td>17.0</td>\n",
       "      <td>4.3</td>\n",
       "      <td>KSF111 + ∆argB</td>\n",
       "      <td>0µM•Arg</td>\n",
       "      <td>0µM•Arg SubMix</td>\n",
       "      <td>4</td>\n",
       "      <td>0.039</td>\n",
       "      <td>0.138</td>\n",
       "      <td>0.396</td>\n",
       "      <td>0 micromolar</td>\n",
       "      <td>0</td>\n",
       "    </tr>\n",
       "    <tr>\n",
       "      <th>24</th>\n",
       "      <td>2024-10-23 18:30:00</td>\n",
       "      <td>24.5</td>\n",
       "      <td>1.1</td>\n",
       "      <td>KSF001 wt</td>\n",
       "      <td>0µM•Arg</td>\n",
       "      <td>0µM•Arg SubMix</td>\n",
       "      <td>4</td>\n",
       "      <td>0.044</td>\n",
       "      <td>0.304</td>\n",
       "      <td>1.040</td>\n",
       "      <td>0 micromolar</td>\n",
       "      <td>0</td>\n",
       "    </tr>\n",
       "    <tr>\n",
       "      <th>25</th>\n",
       "      <td>2024-10-23 18:30:00</td>\n",
       "      <td>24.5</td>\n",
       "      <td>2.1</td>\n",
       "      <td>KSF230 ∆argB</td>\n",
       "      <td>0µM•Arg</td>\n",
       "      <td>0µM•Arg SubMix</td>\n",
       "      <td>4</td>\n",
       "      <td>0.044</td>\n",
       "      <td>0.108</td>\n",
       "      <td>0.256</td>\n",
       "      <td>0 micromolar</td>\n",
       "      <td>0</td>\n",
       "    </tr>\n",
       "    <tr>\n",
       "      <th>26</th>\n",
       "      <td>2024-10-23 18:30:00</td>\n",
       "      <td>24.5</td>\n",
       "      <td>3.1</td>\n",
       "      <td>KSF107 + ∆argB</td>\n",
       "      <td>0µM•Arg</td>\n",
       "      <td>0µM•Arg SubMix</td>\n",
       "      <td>4</td>\n",
       "      <td>0.044</td>\n",
       "      <td>0.128</td>\n",
       "      <td>0.336</td>\n",
       "      <td>0 micromolar</td>\n",
       "      <td>0</td>\n",
       "    </tr>\n",
       "    <tr>\n",
       "      <th>27</th>\n",
       "      <td>2024-10-23 18:30:00</td>\n",
       "      <td>24.5</td>\n",
       "      <td>4.1</td>\n",
       "      <td>KSF111 + ∆argB</td>\n",
       "      <td>0µM•Arg</td>\n",
       "      <td>0µM•Arg SubMix</td>\n",
       "      <td>4</td>\n",
       "      <td>0.044</td>\n",
       "      <td>0.160</td>\n",
       "      <td>0.464</td>\n",
       "      <td>0 micromolar</td>\n",
       "      <td>0</td>\n",
       "    </tr>\n",
       "    <tr>\n",
       "      <th>28</th>\n",
       "      <td>2024-10-23 18:30:00</td>\n",
       "      <td>24.5</td>\n",
       "      <td>1.2</td>\n",
       "      <td>KSF001 wt</td>\n",
       "      <td>0µM•Arg</td>\n",
       "      <td>0µM•Arg SubMix</td>\n",
       "      <td>4</td>\n",
       "      <td>0.039</td>\n",
       "      <td>0.307</td>\n",
       "      <td>1.072</td>\n",
       "      <td>0 micromolar</td>\n",
       "      <td>0</td>\n",
       "    </tr>\n",
       "    <tr>\n",
       "      <th>29</th>\n",
       "      <td>2024-10-23 18:30:00</td>\n",
       "      <td>24.5</td>\n",
       "      <td>2.2</td>\n",
       "      <td>KSF230 ∆argB</td>\n",
       "      <td>0µM•Arg</td>\n",
       "      <td>0µM•Arg SubMix</td>\n",
       "      <td>4</td>\n",
       "      <td>0.039</td>\n",
       "      <td>0.106</td>\n",
       "      <td>0.268</td>\n",
       "      <td>0 micromolar</td>\n",
       "      <td>0</td>\n",
       "    </tr>\n",
       "    <tr>\n",
       "      <th>30</th>\n",
       "      <td>2024-10-23 18:30:00</td>\n",
       "      <td>24.5</td>\n",
       "      <td>3.2</td>\n",
       "      <td>KSF107 + ∆argB</td>\n",
       "      <td>0µM•Arg</td>\n",
       "      <td>0µM•Arg SubMix</td>\n",
       "      <td>4</td>\n",
       "      <td>0.039</td>\n",
       "      <td>0.129</td>\n",
       "      <td>0.360</td>\n",
       "      <td>0 micromolar</td>\n",
       "      <td>0</td>\n",
       "    </tr>\n",
       "    <tr>\n",
       "      <th>31</th>\n",
       "      <td>2024-10-23 18:30:00</td>\n",
       "      <td>24.5</td>\n",
       "      <td>4.2</td>\n",
       "      <td>KSF111 + ∆argB</td>\n",
       "      <td>0µM•Arg</td>\n",
       "      <td>0µM•Arg SubMix</td>\n",
       "      <td>4</td>\n",
       "      <td>0.039</td>\n",
       "      <td>0.153</td>\n",
       "      <td>0.456</td>\n",
       "      <td>0 micromolar</td>\n",
       "      <td>0</td>\n",
       "    </tr>\n",
       "    <tr>\n",
       "      <th>32</th>\n",
       "      <td>2024-10-23 18:30:00</td>\n",
       "      <td>24.5</td>\n",
       "      <td>1.3</td>\n",
       "      <td>KSF001 wt</td>\n",
       "      <td>0µM•Arg</td>\n",
       "      <td>0µM•Arg SubMix</td>\n",
       "      <td>4</td>\n",
       "      <td>0.040</td>\n",
       "      <td>0.318</td>\n",
       "      <td>1.112</td>\n",
       "      <td>0 micromolar</td>\n",
       "      <td>0</td>\n",
       "    </tr>\n",
       "    <tr>\n",
       "      <th>33</th>\n",
       "      <td>2024-10-23 18:30:00</td>\n",
       "      <td>24.5</td>\n",
       "      <td>2.3</td>\n",
       "      <td>KSF230 ∆argB</td>\n",
       "      <td>0µM•Arg</td>\n",
       "      <td>0µM•Arg SubMix</td>\n",
       "      <td>4</td>\n",
       "      <td>0.040</td>\n",
       "      <td>0.104</td>\n",
       "      <td>0.256</td>\n",
       "      <td>0 micromolar</td>\n",
       "      <td>0</td>\n",
       "    </tr>\n",
       "    <tr>\n",
       "      <th>34</th>\n",
       "      <td>2024-10-23 18:30:00</td>\n",
       "      <td>24.5</td>\n",
       "      <td>3.3</td>\n",
       "      <td>KSF107 + ∆argB</td>\n",
       "      <td>0µM•Arg</td>\n",
       "      <td>0µM•Arg SubMix</td>\n",
       "      <td>4</td>\n",
       "      <td>0.040</td>\n",
       "      <td>0.131</td>\n",
       "      <td>0.364</td>\n",
       "      <td>0 micromolar</td>\n",
       "      <td>0</td>\n",
       "    </tr>\n",
       "    <tr>\n",
       "      <th>35</th>\n",
       "      <td>2024-10-23 18:30:00</td>\n",
       "      <td>24.5</td>\n",
       "      <td>4.3</td>\n",
       "      <td>KSF111 + ∆argB</td>\n",
       "      <td>0µM•Arg</td>\n",
       "      <td>0µM•Arg SubMix</td>\n",
       "      <td>4</td>\n",
       "      <td>0.040</td>\n",
       "      <td>0.150</td>\n",
       "      <td>0.440</td>\n",
       "      <td>0 micromolar</td>\n",
       "      <td>0</td>\n",
       "    </tr>\n",
       "    <tr>\n",
       "      <th>36</th>\n",
       "      <td>2024-10-24 10:00:00</td>\n",
       "      <td>40.0</td>\n",
       "      <td>1.1</td>\n",
       "      <td>KSF001 wt</td>\n",
       "      <td>0µM•Arg</td>\n",
       "      <td>0µM•Arg SubMix</td>\n",
       "      <td>4</td>\n",
       "      <td>0.039</td>\n",
       "      <td>0.326</td>\n",
       "      <td>1.148</td>\n",
       "      <td>0 micromolar</td>\n",
       "      <td>0</td>\n",
       "    </tr>\n",
       "    <tr>\n",
       "      <th>37</th>\n",
       "      <td>2024-10-24 10:00:00</td>\n",
       "      <td>40.0</td>\n",
       "      <td>2.1</td>\n",
       "      <td>KSF230 ∆argB</td>\n",
       "      <td>0µM•Arg</td>\n",
       "      <td>0µM•Arg SubMix</td>\n",
       "      <td>4</td>\n",
       "      <td>0.039</td>\n",
       "      <td>0.114</td>\n",
       "      <td>0.300</td>\n",
       "      <td>0 micromolar</td>\n",
       "      <td>0</td>\n",
       "    </tr>\n",
       "    <tr>\n",
       "      <th>38</th>\n",
       "      <td>2024-10-24 10:00:00</td>\n",
       "      <td>40.0</td>\n",
       "      <td>3.1</td>\n",
       "      <td>KSF107 + ∆argB</td>\n",
       "      <td>0µM•Arg</td>\n",
       "      <td>0µM•Arg SubMix</td>\n",
       "      <td>4</td>\n",
       "      <td>0.039</td>\n",
       "      <td>0.138</td>\n",
       "      <td>0.396</td>\n",
       "      <td>0 micromolar</td>\n",
       "      <td>0</td>\n",
       "    </tr>\n",
       "    <tr>\n",
       "      <th>39</th>\n",
       "      <td>2024-10-24 10:00:00</td>\n",
       "      <td>40.0</td>\n",
       "      <td>4.1</td>\n",
       "      <td>KSF111 + ∆argB</td>\n",
       "      <td>0µM•Arg</td>\n",
       "      <td>0µM•Arg SubMix</td>\n",
       "      <td>4</td>\n",
       "      <td>0.039</td>\n",
       "      <td>0.155</td>\n",
       "      <td>0.464</td>\n",
       "      <td>0 micromolar</td>\n",
       "      <td>0</td>\n",
       "    </tr>\n",
       "    <tr>\n",
       "      <th>40</th>\n",
       "      <td>2024-10-24 10:00:00</td>\n",
       "      <td>40.0</td>\n",
       "      <td>1.2</td>\n",
       "      <td>KSF001 wt</td>\n",
       "      <td>0µM•Arg</td>\n",
       "      <td>0µM•Arg SubMix</td>\n",
       "      <td>4</td>\n",
       "      <td>0.039</td>\n",
       "      <td>0.331</td>\n",
       "      <td>1.168</td>\n",
       "      <td>0 micromolar</td>\n",
       "      <td>0</td>\n",
       "    </tr>\n",
       "    <tr>\n",
       "      <th>41</th>\n",
       "      <td>2024-10-24 10:00:00</td>\n",
       "      <td>40.0</td>\n",
       "      <td>2.2</td>\n",
       "      <td>KSF230 ∆argB</td>\n",
       "      <td>0µM•Arg</td>\n",
       "      <td>0µM•Arg SubMix</td>\n",
       "      <td>4</td>\n",
       "      <td>0.039</td>\n",
       "      <td>0.113</td>\n",
       "      <td>0.296</td>\n",
       "      <td>0 micromolar</td>\n",
       "      <td>0</td>\n",
       "    </tr>\n",
       "    <tr>\n",
       "      <th>42</th>\n",
       "      <td>2024-10-24 10:00:00</td>\n",
       "      <td>40.0</td>\n",
       "      <td>3.2</td>\n",
       "      <td>KSF107 + ∆argB</td>\n",
       "      <td>0µM•Arg</td>\n",
       "      <td>0µM•Arg SubMix</td>\n",
       "      <td>4</td>\n",
       "      <td>0.039</td>\n",
       "      <td>0.138</td>\n",
       "      <td>0.396</td>\n",
       "      <td>0 micromolar</td>\n",
       "      <td>0</td>\n",
       "    </tr>\n",
       "    <tr>\n",
       "      <th>43</th>\n",
       "      <td>2024-10-24 10:00:00</td>\n",
       "      <td>40.0</td>\n",
       "      <td>4.2</td>\n",
       "      <td>KSF111 + ∆argB</td>\n",
       "      <td>0µM•Arg</td>\n",
       "      <td>0µM•Arg SubMix</td>\n",
       "      <td>4</td>\n",
       "      <td>0.039</td>\n",
       "      <td>0.155</td>\n",
       "      <td>0.464</td>\n",
       "      <td>0 micromolar</td>\n",
       "      <td>0</td>\n",
       "    </tr>\n",
       "    <tr>\n",
       "      <th>44</th>\n",
       "      <td>2024-10-24 10:00:00</td>\n",
       "      <td>40.0</td>\n",
       "      <td>1.3</td>\n",
       "      <td>KSF001 wt</td>\n",
       "      <td>0µM•Arg</td>\n",
       "      <td>0µM•Arg SubMix</td>\n",
       "      <td>4</td>\n",
       "      <td>0.040</td>\n",
       "      <td>0.326</td>\n",
       "      <td>1.144</td>\n",
       "      <td>0 micromolar</td>\n",
       "      <td>0</td>\n",
       "    </tr>\n",
       "    <tr>\n",
       "      <th>45</th>\n",
       "      <td>2024-10-24 10:00:00</td>\n",
       "      <td>40.0</td>\n",
       "      <td>2.3</td>\n",
       "      <td>KSF230 ∆argB</td>\n",
       "      <td>0µM•Arg</td>\n",
       "      <td>0µM•Arg SubMix</td>\n",
       "      <td>4</td>\n",
       "      <td>0.040</td>\n",
       "      <td>0.116</td>\n",
       "      <td>0.304</td>\n",
       "      <td>0 micromolar</td>\n",
       "      <td>0</td>\n",
       "    </tr>\n",
       "    <tr>\n",
       "      <th>46</th>\n",
       "      <td>2024-10-24 10:00:00</td>\n",
       "      <td>40.0</td>\n",
       "      <td>3.3</td>\n",
       "      <td>KSF107 + ∆argB</td>\n",
       "      <td>0µM•Arg</td>\n",
       "      <td>0µM•Arg SubMix</td>\n",
       "      <td>4</td>\n",
       "      <td>0.040</td>\n",
       "      <td>0.139</td>\n",
       "      <td>0.396</td>\n",
       "      <td>0 micromolar</td>\n",
       "      <td>0</td>\n",
       "    </tr>\n",
       "    <tr>\n",
       "      <th>47</th>\n",
       "      <td>2024-10-24 10:00:00</td>\n",
       "      <td>40.0</td>\n",
       "      <td>4.3</td>\n",
       "      <td>KSF111 + ∆argB</td>\n",
       "      <td>0µM•Arg</td>\n",
       "      <td>0µM•Arg SubMix</td>\n",
       "      <td>4</td>\n",
       "      <td>0.040</td>\n",
       "      <td>0.153</td>\n",
       "      <td>0.452</td>\n",
       "      <td>0 micromolar</td>\n",
       "      <td>0</td>\n",
       "    </tr>\n",
       "  </tbody>\n",
       "</table>\n",
       "</div>"
      ]
     },
     "execution_count": 14,
     "metadata": {},
     "output_type": "execute_result"
    }
   ],
   "execution_count": 14
  },
  {
   "metadata": {
    "ExecuteTime": {
     "end_time": "2024-10-31T18:34:41.793063Z",
     "start_time": "2024-10-31T18:34:41.783002Z"
    }
   },
   "cell_type": "code",
   "source": [
    "df_od_mean_sem = df_od.groupby(['elapsed_time_hr', 'strain_id', 'arg_conc_uM'], sort=False).agg(\n",
    "    od_sample_mean=pd.NamedAgg('od_sample', 'mean'),\n",
    "    od_sample_sem=pd.NamedAgg('od_sample', 'sem'),\n",
    ").round(3).reset_index()\n",
    "df_od_mean_sem"
   ],
   "id": "e8a7a8c98971b82e",
   "outputs": [
    {
     "data": {
      "text/plain": [
       "    elapsed_time_hr       strain_id  arg_conc_uM  od_sample_mean  \\\n",
       "0               0.0       KSF001 wt            0           0.296   \n",
       "1               0.0    KSF230 ∆argB            0           0.304   \n",
       "2               0.0  KSF107 + ∆argB            0           0.279   \n",
       "3               0.0  KSF111 + ∆argB            0           0.272   \n",
       "4              17.0       KSF001 wt            0           1.083   \n",
       "5              17.0    KSF230 ∆argB            0           0.260   \n",
       "6              17.0  KSF107 + ∆argB            0           0.359   \n",
       "7              17.0  KSF111 + ∆argB            0           0.407   \n",
       "8              24.5       KSF001 wt            0           1.075   \n",
       "9              24.5    KSF230 ∆argB            0           0.260   \n",
       "10             24.5  KSF107 + ∆argB            0           0.353   \n",
       "11             24.5  KSF111 + ∆argB            0           0.453   \n",
       "12             40.0       KSF001 wt            0           1.153   \n",
       "13             40.0    KSF230 ∆argB            0           0.300   \n",
       "14             40.0  KSF107 + ∆argB            0           0.396   \n",
       "15             40.0  KSF111 + ∆argB            0           0.460   \n",
       "\n",
       "    od_sample_sem  \n",
       "0           0.002  \n",
       "1           0.004  \n",
       "2           0.004  \n",
       "3           0.002  \n",
       "4           0.021  \n",
       "5           0.002  \n",
       "6           0.005  \n",
       "7           0.006  \n",
       "8           0.021  \n",
       "9           0.004  \n",
       "10          0.009  \n",
       "11          0.007  \n",
       "12          0.007  \n",
       "13          0.002  \n",
       "14          0.000  \n",
       "15          0.004  "
      ],
      "text/html": [
       "<div>\n",
       "<style scoped>\n",
       "    .dataframe tbody tr th:only-of-type {\n",
       "        vertical-align: middle;\n",
       "    }\n",
       "\n",
       "    .dataframe tbody tr th {\n",
       "        vertical-align: top;\n",
       "    }\n",
       "\n",
       "    .dataframe thead th {\n",
       "        text-align: right;\n",
       "    }\n",
       "</style>\n",
       "<table border=\"1\" class=\"dataframe\">\n",
       "  <thead>\n",
       "    <tr style=\"text-align: right;\">\n",
       "      <th></th>\n",
       "      <th>elapsed_time_hr</th>\n",
       "      <th>strain_id</th>\n",
       "      <th>arg_conc_uM</th>\n",
       "      <th>od_sample_mean</th>\n",
       "      <th>od_sample_sem</th>\n",
       "    </tr>\n",
       "  </thead>\n",
       "  <tbody>\n",
       "    <tr>\n",
       "      <th>0</th>\n",
       "      <td>0.0</td>\n",
       "      <td>KSF001 wt</td>\n",
       "      <td>0</td>\n",
       "      <td>0.296</td>\n",
       "      <td>0.002</td>\n",
       "    </tr>\n",
       "    <tr>\n",
       "      <th>1</th>\n",
       "      <td>0.0</td>\n",
       "      <td>KSF230 ∆argB</td>\n",
       "      <td>0</td>\n",
       "      <td>0.304</td>\n",
       "      <td>0.004</td>\n",
       "    </tr>\n",
       "    <tr>\n",
       "      <th>2</th>\n",
       "      <td>0.0</td>\n",
       "      <td>KSF107 + ∆argB</td>\n",
       "      <td>0</td>\n",
       "      <td>0.279</td>\n",
       "      <td>0.004</td>\n",
       "    </tr>\n",
       "    <tr>\n",
       "      <th>3</th>\n",
       "      <td>0.0</td>\n",
       "      <td>KSF111 + ∆argB</td>\n",
       "      <td>0</td>\n",
       "      <td>0.272</td>\n",
       "      <td>0.002</td>\n",
       "    </tr>\n",
       "    <tr>\n",
       "      <th>4</th>\n",
       "      <td>17.0</td>\n",
       "      <td>KSF001 wt</td>\n",
       "      <td>0</td>\n",
       "      <td>1.083</td>\n",
       "      <td>0.021</td>\n",
       "    </tr>\n",
       "    <tr>\n",
       "      <th>5</th>\n",
       "      <td>17.0</td>\n",
       "      <td>KSF230 ∆argB</td>\n",
       "      <td>0</td>\n",
       "      <td>0.260</td>\n",
       "      <td>0.002</td>\n",
       "    </tr>\n",
       "    <tr>\n",
       "      <th>6</th>\n",
       "      <td>17.0</td>\n",
       "      <td>KSF107 + ∆argB</td>\n",
       "      <td>0</td>\n",
       "      <td>0.359</td>\n",
       "      <td>0.005</td>\n",
       "    </tr>\n",
       "    <tr>\n",
       "      <th>7</th>\n",
       "      <td>17.0</td>\n",
       "      <td>KSF111 + ∆argB</td>\n",
       "      <td>0</td>\n",
       "      <td>0.407</td>\n",
       "      <td>0.006</td>\n",
       "    </tr>\n",
       "    <tr>\n",
       "      <th>8</th>\n",
       "      <td>24.5</td>\n",
       "      <td>KSF001 wt</td>\n",
       "      <td>0</td>\n",
       "      <td>1.075</td>\n",
       "      <td>0.021</td>\n",
       "    </tr>\n",
       "    <tr>\n",
       "      <th>9</th>\n",
       "      <td>24.5</td>\n",
       "      <td>KSF230 ∆argB</td>\n",
       "      <td>0</td>\n",
       "      <td>0.260</td>\n",
       "      <td>0.004</td>\n",
       "    </tr>\n",
       "    <tr>\n",
       "      <th>10</th>\n",
       "      <td>24.5</td>\n",
       "      <td>KSF107 + ∆argB</td>\n",
       "      <td>0</td>\n",
       "      <td>0.353</td>\n",
       "      <td>0.009</td>\n",
       "    </tr>\n",
       "    <tr>\n",
       "      <th>11</th>\n",
       "      <td>24.5</td>\n",
       "      <td>KSF111 + ∆argB</td>\n",
       "      <td>0</td>\n",
       "      <td>0.453</td>\n",
       "      <td>0.007</td>\n",
       "    </tr>\n",
       "    <tr>\n",
       "      <th>12</th>\n",
       "      <td>40.0</td>\n",
       "      <td>KSF001 wt</td>\n",
       "      <td>0</td>\n",
       "      <td>1.153</td>\n",
       "      <td>0.007</td>\n",
       "    </tr>\n",
       "    <tr>\n",
       "      <th>13</th>\n",
       "      <td>40.0</td>\n",
       "      <td>KSF230 ∆argB</td>\n",
       "      <td>0</td>\n",
       "      <td>0.300</td>\n",
       "      <td>0.002</td>\n",
       "    </tr>\n",
       "    <tr>\n",
       "      <th>14</th>\n",
       "      <td>40.0</td>\n",
       "      <td>KSF107 + ∆argB</td>\n",
       "      <td>0</td>\n",
       "      <td>0.396</td>\n",
       "      <td>0.000</td>\n",
       "    </tr>\n",
       "    <tr>\n",
       "      <th>15</th>\n",
       "      <td>40.0</td>\n",
       "      <td>KSF111 + ∆argB</td>\n",
       "      <td>0</td>\n",
       "      <td>0.460</td>\n",
       "      <td>0.004</td>\n",
       "    </tr>\n",
       "  </tbody>\n",
       "</table>\n",
       "</div>"
      ]
     },
     "execution_count": 15,
     "metadata": {},
     "output_type": "execute_result"
    }
   ],
   "execution_count": 15
  },
  {
   "metadata": {
    "ExecuteTime": {
     "end_time": "2024-10-31T18:36:44.216973Z",
     "start_time": "2024-10-31T18:36:44.158582Z"
    }
   },
   "cell_type": "code",
   "source": [
    "fig_arg_response = (\n",
    "    px\n",
    "    .bar(\n",
    "        df_od_mean_sem,\n",
    "        x='elapsed_time_hr',\n",
    "        y='od_sample_mean',\n",
    "        error_y='od_sample_sem',\n",
    "        color='strain_id',\n",
    "        facet_col='arg_conc_uM',\n",
    "        barmode='group',\n",
    "        labels={\n",
    "            'arg_conc_uM': '[Arg] µM',\n",
    "            'od_sample_mean': 'OD600 (mean)',\n",
    "            'strain_id': 'ADP1 strain',\n",
    "            'elapsed_time_hr': '',\n",
    "        },\n",
    "    )\n",
    "    .add_traces(\n",
    "        px.line(\n",
    "            df_od_mean_sem,\n",
    "            x='elapsed_time_hr',\n",
    "            y='od_sample_mean',\n",
    "            color='strain_id',\n",
    "            facet_col='arg_conc_uM',\n",
    "            markers=False,\n",
    "        )['data']\n",
    "    )\n",
    "    .update_layout(\n",
    "        title='OD ADP1 [KSF001 (wt), KSF230(∆argB), KSF107 (∆cphaAI ∆astA ∆argB), KSF111 (∆cphAI ∆astA ∆argBR)] | growth in 0µm•Arg after LB preculture and 0µm•Arg wash',\n",
    "        title_x=0.5,\n",
    "        showlegend=True,\n",
    "        boxmode='group',\n",
    "        boxgap=.8,  # Gap between boxes in the same group (0.5 makes them narrower)\n",
    "        boxgroupgap=0,  # Gap between different groups of boxes,\n",
    "        # height=500,\n",
    "        # width=2000,\n",
    "        xaxis_title='Elapsed Time [hr]',\n",
    "        # xaxis_title_x=.5,\n",
    "    )\n",
    "    .for_each_trace(dedup_trace_legends())\n",
    ")\n",
    "\n",
    "# fig_arg_response.write_image('../../figures/pk_exp0010_arg_response_raw.pdf')\n",
    "fig_arg_response"
   ],
   "id": "2c4b88eea3f9cc94",
   "outputs": [
    {
     "data": {
      "application/vnd.plotly.v1+json": {
       "data": [
        {
         "alignmentgroup": "True",
         "error_y": {
          "array": [
           0.002,
           0.021,
           0.021,
           0.007
          ]
         },
         "hovertemplate": "ADP1 strain=KSF001 wt<br>[Arg] µM=0<br>=%{x}<br>OD600 (mean)=%{y}<extra></extra>",
         "legendgroup": "KSF001 wt",
         "marker": {
          "color": "#636efa",
          "pattern": {
           "shape": ""
          }
         },
         "name": "KSF001 wt",
         "offsetgroup": "KSF001 wt",
         "orientation": "v",
         "showlegend": true,
         "textposition": "auto",
         "x": [
          0.0,
          17.000000000058208,
          24.500000000058208,
          39.99999999994179
         ],
         "xaxis": "x",
         "y": [
          0.296,
          1.083,
          1.075,
          1.153
         ],
         "yaxis": "y",
         "type": "bar"
        },
        {
         "alignmentgroup": "True",
         "error_y": {
          "array": [
           0.004,
           0.002,
           0.004,
           0.002
          ]
         },
         "hovertemplate": "ADP1 strain=KSF230 ∆argB<br>[Arg] µM=0<br>=%{x}<br>OD600 (mean)=%{y}<extra></extra>",
         "legendgroup": "KSF230 ∆argB",
         "marker": {
          "color": "#EF553B",
          "pattern": {
           "shape": ""
          }
         },
         "name": "KSF230 ∆argB",
         "offsetgroup": "KSF230 ∆argB",
         "orientation": "v",
         "showlegend": true,
         "textposition": "auto",
         "x": [
          0.0,
          17.000000000058208,
          24.500000000058208,
          39.99999999994179
         ],
         "xaxis": "x",
         "y": [
          0.304,
          0.26,
          0.26,
          0.3
         ],
         "yaxis": "y",
         "type": "bar"
        },
        {
         "alignmentgroup": "True",
         "error_y": {
          "array": [
           0.004,
           0.005,
           0.009,
           0.0
          ]
         },
         "hovertemplate": "ADP1 strain=KSF107 + ∆argB<br>[Arg] µM=0<br>=%{x}<br>OD600 (mean)=%{y}<extra></extra>",
         "legendgroup": "KSF107 + ∆argB",
         "marker": {
          "color": "#00cc96",
          "pattern": {
           "shape": ""
          }
         },
         "name": "KSF107 + ∆argB",
         "offsetgroup": "KSF107 + ∆argB",
         "orientation": "v",
         "showlegend": true,
         "textposition": "auto",
         "x": [
          0.0,
          17.000000000058208,
          24.500000000058208,
          39.99999999994179
         ],
         "xaxis": "x",
         "y": [
          0.279,
          0.359,
          0.353,
          0.396
         ],
         "yaxis": "y",
         "type": "bar"
        },
        {
         "alignmentgroup": "True",
         "error_y": {
          "array": [
           0.002,
           0.006,
           0.007,
           0.004
          ]
         },
         "hovertemplate": "ADP1 strain=KSF111 + ∆argB<br>[Arg] µM=0<br>=%{x}<br>OD600 (mean)=%{y}<extra></extra>",
         "legendgroup": "KSF111 + ∆argB",
         "marker": {
          "color": "#ab63fa",
          "pattern": {
           "shape": ""
          }
         },
         "name": "KSF111 + ∆argB",
         "offsetgroup": "KSF111 + ∆argB",
         "orientation": "v",
         "showlegend": true,
         "textposition": "auto",
         "x": [
          0.0,
          17.000000000058208,
          24.500000000058208,
          39.99999999994179
         ],
         "xaxis": "x",
         "y": [
          0.272,
          0.407,
          0.453,
          0.46
         ],
         "yaxis": "y",
         "type": "bar"
        },
        {
         "hovertemplate": "strain_id=KSF001 wt<br>arg_conc_uM=0<br>elapsed_time_hr=%{x}<br>od_sample_mean=%{y}<extra></extra>",
         "legendgroup": "KSF001 wt",
         "line": {
          "color": "#636efa",
          "dash": "solid"
         },
         "marker": {
          "symbol": "circle"
         },
         "mode": "lines",
         "name": "KSF001 wt",
         "orientation": "v",
         "showlegend": false,
         "x": [
          0.0,
          17.000000000058208,
          24.500000000058208,
          39.99999999994179
         ],
         "xaxis": "x",
         "y": [
          0.296,
          1.083,
          1.075,
          1.153
         ],
         "yaxis": "y",
         "type": "scatter"
        },
        {
         "hovertemplate": "strain_id=KSF230 ∆argB<br>arg_conc_uM=0<br>elapsed_time_hr=%{x}<br>od_sample_mean=%{y}<extra></extra>",
         "legendgroup": "KSF230 ∆argB",
         "line": {
          "color": "#EF553B",
          "dash": "solid"
         },
         "marker": {
          "symbol": "circle"
         },
         "mode": "lines",
         "name": "KSF230 ∆argB",
         "orientation": "v",
         "showlegend": false,
         "x": [
          0.0,
          17.000000000058208,
          24.500000000058208,
          39.99999999994179
         ],
         "xaxis": "x",
         "y": [
          0.304,
          0.26,
          0.26,
          0.3
         ],
         "yaxis": "y",
         "type": "scatter"
        },
        {
         "hovertemplate": "strain_id=KSF107 + ∆argB<br>arg_conc_uM=0<br>elapsed_time_hr=%{x}<br>od_sample_mean=%{y}<extra></extra>",
         "legendgroup": "KSF107 + ∆argB",
         "line": {
          "color": "#00cc96",
          "dash": "solid"
         },
         "marker": {
          "symbol": "circle"
         },
         "mode": "lines",
         "name": "KSF107 + ∆argB",
         "orientation": "v",
         "showlegend": false,
         "x": [
          0.0,
          17.000000000058208,
          24.500000000058208,
          39.99999999994179
         ],
         "xaxis": "x",
         "y": [
          0.279,
          0.359,
          0.353,
          0.396
         ],
         "yaxis": "y",
         "type": "scatter"
        },
        {
         "hovertemplate": "strain_id=KSF111 + ∆argB<br>arg_conc_uM=0<br>elapsed_time_hr=%{x}<br>od_sample_mean=%{y}<extra></extra>",
         "legendgroup": "KSF111 + ∆argB",
         "line": {
          "color": "#ab63fa",
          "dash": "solid"
         },
         "marker": {
          "symbol": "circle"
         },
         "mode": "lines",
         "name": "KSF111 + ∆argB",
         "orientation": "v",
         "showlegend": false,
         "x": [
          0.0,
          17.000000000058208,
          24.500000000058208,
          39.99999999994179
         ],
         "xaxis": "x",
         "y": [
          0.272,
          0.407,
          0.453,
          0.46
         ],
         "yaxis": "y",
         "type": "scatter"
        }
       ],
       "layout": {
        "template": {
         "data": {
          "histogram2dcontour": [
           {
            "type": "histogram2dcontour",
            "colorbar": {
             "outlinewidth": 0,
             "ticks": ""
            },
            "colorscale": [
             [
              0.0,
              "#0d0887"
             ],
             [
              0.1111111111111111,
              "#46039f"
             ],
             [
              0.2222222222222222,
              "#7201a8"
             ],
             [
              0.3333333333333333,
              "#9c179e"
             ],
             [
              0.4444444444444444,
              "#bd3786"
             ],
             [
              0.5555555555555556,
              "#d8576b"
             ],
             [
              0.6666666666666666,
              "#ed7953"
             ],
             [
              0.7777777777777778,
              "#fb9f3a"
             ],
             [
              0.8888888888888888,
              "#fdca26"
             ],
             [
              1.0,
              "#f0f921"
             ]
            ]
           }
          ],
          "choropleth": [
           {
            "type": "choropleth",
            "colorbar": {
             "outlinewidth": 0,
             "ticks": ""
            }
           }
          ],
          "histogram2d": [
           {
            "type": "histogram2d",
            "colorbar": {
             "outlinewidth": 0,
             "ticks": ""
            },
            "colorscale": [
             [
              0.0,
              "#0d0887"
             ],
             [
              0.1111111111111111,
              "#46039f"
             ],
             [
              0.2222222222222222,
              "#7201a8"
             ],
             [
              0.3333333333333333,
              "#9c179e"
             ],
             [
              0.4444444444444444,
              "#bd3786"
             ],
             [
              0.5555555555555556,
              "#d8576b"
             ],
             [
              0.6666666666666666,
              "#ed7953"
             ],
             [
              0.7777777777777778,
              "#fb9f3a"
             ],
             [
              0.8888888888888888,
              "#fdca26"
             ],
             [
              1.0,
              "#f0f921"
             ]
            ]
           }
          ],
          "heatmap": [
           {
            "type": "heatmap",
            "colorbar": {
             "outlinewidth": 0,
             "ticks": ""
            },
            "colorscale": [
             [
              0.0,
              "#0d0887"
             ],
             [
              0.1111111111111111,
              "#46039f"
             ],
             [
              0.2222222222222222,
              "#7201a8"
             ],
             [
              0.3333333333333333,
              "#9c179e"
             ],
             [
              0.4444444444444444,
              "#bd3786"
             ],
             [
              0.5555555555555556,
              "#d8576b"
             ],
             [
              0.6666666666666666,
              "#ed7953"
             ],
             [
              0.7777777777777778,
              "#fb9f3a"
             ],
             [
              0.8888888888888888,
              "#fdca26"
             ],
             [
              1.0,
              "#f0f921"
             ]
            ]
           }
          ],
          "heatmapgl": [
           {
            "type": "heatmapgl",
            "colorbar": {
             "outlinewidth": 0,
             "ticks": ""
            },
            "colorscale": [
             [
              0.0,
              "#0d0887"
             ],
             [
              0.1111111111111111,
              "#46039f"
             ],
             [
              0.2222222222222222,
              "#7201a8"
             ],
             [
              0.3333333333333333,
              "#9c179e"
             ],
             [
              0.4444444444444444,
              "#bd3786"
             ],
             [
              0.5555555555555556,
              "#d8576b"
             ],
             [
              0.6666666666666666,
              "#ed7953"
             ],
             [
              0.7777777777777778,
              "#fb9f3a"
             ],
             [
              0.8888888888888888,
              "#fdca26"
             ],
             [
              1.0,
              "#f0f921"
             ]
            ]
           }
          ],
          "contourcarpet": [
           {
            "type": "contourcarpet",
            "colorbar": {
             "outlinewidth": 0,
             "ticks": ""
            }
           }
          ],
          "contour": [
           {
            "type": "contour",
            "colorbar": {
             "outlinewidth": 0,
             "ticks": ""
            },
            "colorscale": [
             [
              0.0,
              "#0d0887"
             ],
             [
              0.1111111111111111,
              "#46039f"
             ],
             [
              0.2222222222222222,
              "#7201a8"
             ],
             [
              0.3333333333333333,
              "#9c179e"
             ],
             [
              0.4444444444444444,
              "#bd3786"
             ],
             [
              0.5555555555555556,
              "#d8576b"
             ],
             [
              0.6666666666666666,
              "#ed7953"
             ],
             [
              0.7777777777777778,
              "#fb9f3a"
             ],
             [
              0.8888888888888888,
              "#fdca26"
             ],
             [
              1.0,
              "#f0f921"
             ]
            ]
           }
          ],
          "surface": [
           {
            "type": "surface",
            "colorbar": {
             "outlinewidth": 0,
             "ticks": ""
            },
            "colorscale": [
             [
              0.0,
              "#0d0887"
             ],
             [
              0.1111111111111111,
              "#46039f"
             ],
             [
              0.2222222222222222,
              "#7201a8"
             ],
             [
              0.3333333333333333,
              "#9c179e"
             ],
             [
              0.4444444444444444,
              "#bd3786"
             ],
             [
              0.5555555555555556,
              "#d8576b"
             ],
             [
              0.6666666666666666,
              "#ed7953"
             ],
             [
              0.7777777777777778,
              "#fb9f3a"
             ],
             [
              0.8888888888888888,
              "#fdca26"
             ],
             [
              1.0,
              "#f0f921"
             ]
            ]
           }
          ],
          "mesh3d": [
           {
            "type": "mesh3d",
            "colorbar": {
             "outlinewidth": 0,
             "ticks": ""
            }
           }
          ],
          "scatter": [
           {
            "fillpattern": {
             "fillmode": "overlay",
             "size": 10,
             "solidity": 0.2
            },
            "type": "scatter"
           }
          ],
          "parcoords": [
           {
            "type": "parcoords",
            "line": {
             "colorbar": {
              "outlinewidth": 0,
              "ticks": ""
             }
            }
           }
          ],
          "scatterpolargl": [
           {
            "type": "scatterpolargl",
            "marker": {
             "colorbar": {
              "outlinewidth": 0,
              "ticks": ""
             }
            }
           }
          ],
          "bar": [
           {
            "error_x": {
             "color": "#2a3f5f"
            },
            "error_y": {
             "color": "#2a3f5f"
            },
            "marker": {
             "line": {
              "color": "#E5ECF6",
              "width": 0.5
             },
             "pattern": {
              "fillmode": "overlay",
              "size": 10,
              "solidity": 0.2
             }
            },
            "type": "bar"
           }
          ],
          "scattergeo": [
           {
            "type": "scattergeo",
            "marker": {
             "colorbar": {
              "outlinewidth": 0,
              "ticks": ""
             }
            }
           }
          ],
          "scatterpolar": [
           {
            "type": "scatterpolar",
            "marker": {
             "colorbar": {
              "outlinewidth": 0,
              "ticks": ""
             }
            }
           }
          ],
          "histogram": [
           {
            "marker": {
             "pattern": {
              "fillmode": "overlay",
              "size": 10,
              "solidity": 0.2
             }
            },
            "type": "histogram"
           }
          ],
          "scattergl": [
           {
            "type": "scattergl",
            "marker": {
             "colorbar": {
              "outlinewidth": 0,
              "ticks": ""
             }
            }
           }
          ],
          "scatter3d": [
           {
            "type": "scatter3d",
            "line": {
             "colorbar": {
              "outlinewidth": 0,
              "ticks": ""
             }
            },
            "marker": {
             "colorbar": {
              "outlinewidth": 0,
              "ticks": ""
             }
            }
           }
          ],
          "scattermapbox": [
           {
            "type": "scattermapbox",
            "marker": {
             "colorbar": {
              "outlinewidth": 0,
              "ticks": ""
             }
            }
           }
          ],
          "scatterternary": [
           {
            "type": "scatterternary",
            "marker": {
             "colorbar": {
              "outlinewidth": 0,
              "ticks": ""
             }
            }
           }
          ],
          "scattercarpet": [
           {
            "type": "scattercarpet",
            "marker": {
             "colorbar": {
              "outlinewidth": 0,
              "ticks": ""
             }
            }
           }
          ],
          "carpet": [
           {
            "aaxis": {
             "endlinecolor": "#2a3f5f",
             "gridcolor": "white",
             "linecolor": "white",
             "minorgridcolor": "white",
             "startlinecolor": "#2a3f5f"
            },
            "baxis": {
             "endlinecolor": "#2a3f5f",
             "gridcolor": "white",
             "linecolor": "white",
             "minorgridcolor": "white",
             "startlinecolor": "#2a3f5f"
            },
            "type": "carpet"
           }
          ],
          "table": [
           {
            "cells": {
             "fill": {
              "color": "#EBF0F8"
             },
             "line": {
              "color": "white"
             }
            },
            "header": {
             "fill": {
              "color": "#C8D4E3"
             },
             "line": {
              "color": "white"
             }
            },
            "type": "table"
           }
          ],
          "barpolar": [
           {
            "marker": {
             "line": {
              "color": "#E5ECF6",
              "width": 0.5
             },
             "pattern": {
              "fillmode": "overlay",
              "size": 10,
              "solidity": 0.2
             }
            },
            "type": "barpolar"
           }
          ],
          "pie": [
           {
            "automargin": true,
            "type": "pie"
           }
          ]
         },
         "layout": {
          "autotypenumbers": "strict",
          "colorway": [
           "#636efa",
           "#EF553B",
           "#00cc96",
           "#ab63fa",
           "#FFA15A",
           "#19d3f3",
           "#FF6692",
           "#B6E880",
           "#FF97FF",
           "#FECB52"
          ],
          "font": {
           "color": "#2a3f5f"
          },
          "hovermode": "closest",
          "hoverlabel": {
           "align": "left"
          },
          "paper_bgcolor": "white",
          "plot_bgcolor": "#E5ECF6",
          "polar": {
           "bgcolor": "#E5ECF6",
           "angularaxis": {
            "gridcolor": "white",
            "linecolor": "white",
            "ticks": ""
           },
           "radialaxis": {
            "gridcolor": "white",
            "linecolor": "white",
            "ticks": ""
           }
          },
          "ternary": {
           "bgcolor": "#E5ECF6",
           "aaxis": {
            "gridcolor": "white",
            "linecolor": "white",
            "ticks": ""
           },
           "baxis": {
            "gridcolor": "white",
            "linecolor": "white",
            "ticks": ""
           },
           "caxis": {
            "gridcolor": "white",
            "linecolor": "white",
            "ticks": ""
           }
          },
          "coloraxis": {
           "colorbar": {
            "outlinewidth": 0,
            "ticks": ""
           }
          },
          "colorscale": {
           "sequential": [
            [
             0.0,
             "#0d0887"
            ],
            [
             0.1111111111111111,
             "#46039f"
            ],
            [
             0.2222222222222222,
             "#7201a8"
            ],
            [
             0.3333333333333333,
             "#9c179e"
            ],
            [
             0.4444444444444444,
             "#bd3786"
            ],
            [
             0.5555555555555556,
             "#d8576b"
            ],
            [
             0.6666666666666666,
             "#ed7953"
            ],
            [
             0.7777777777777778,
             "#fb9f3a"
            ],
            [
             0.8888888888888888,
             "#fdca26"
            ],
            [
             1.0,
             "#f0f921"
            ]
           ],
           "sequentialminus": [
            [
             0.0,
             "#0d0887"
            ],
            [
             0.1111111111111111,
             "#46039f"
            ],
            [
             0.2222222222222222,
             "#7201a8"
            ],
            [
             0.3333333333333333,
             "#9c179e"
            ],
            [
             0.4444444444444444,
             "#bd3786"
            ],
            [
             0.5555555555555556,
             "#d8576b"
            ],
            [
             0.6666666666666666,
             "#ed7953"
            ],
            [
             0.7777777777777778,
             "#fb9f3a"
            ],
            [
             0.8888888888888888,
             "#fdca26"
            ],
            [
             1.0,
             "#f0f921"
            ]
           ],
           "diverging": [
            [
             0,
             "#8e0152"
            ],
            [
             0.1,
             "#c51b7d"
            ],
            [
             0.2,
             "#de77ae"
            ],
            [
             0.3,
             "#f1b6da"
            ],
            [
             0.4,
             "#fde0ef"
            ],
            [
             0.5,
             "#f7f7f7"
            ],
            [
             0.6,
             "#e6f5d0"
            ],
            [
             0.7,
             "#b8e186"
            ],
            [
             0.8,
             "#7fbc41"
            ],
            [
             0.9,
             "#4d9221"
            ],
            [
             1,
             "#276419"
            ]
           ]
          },
          "xaxis": {
           "gridcolor": "white",
           "linecolor": "white",
           "ticks": "",
           "title": {
            "standoff": 15
           },
           "zerolinecolor": "white",
           "automargin": true,
           "zerolinewidth": 2
          },
          "yaxis": {
           "gridcolor": "white",
           "linecolor": "white",
           "ticks": "",
           "title": {
            "standoff": 15
           },
           "zerolinecolor": "white",
           "automargin": true,
           "zerolinewidth": 2
          },
          "scene": {
           "xaxis": {
            "backgroundcolor": "#E5ECF6",
            "gridcolor": "white",
            "linecolor": "white",
            "showbackground": true,
            "ticks": "",
            "zerolinecolor": "white",
            "gridwidth": 2
           },
           "yaxis": {
            "backgroundcolor": "#E5ECF6",
            "gridcolor": "white",
            "linecolor": "white",
            "showbackground": true,
            "ticks": "",
            "zerolinecolor": "white",
            "gridwidth": 2
           },
           "zaxis": {
            "backgroundcolor": "#E5ECF6",
            "gridcolor": "white",
            "linecolor": "white",
            "showbackground": true,
            "ticks": "",
            "zerolinecolor": "white",
            "gridwidth": 2
           }
          },
          "shapedefaults": {
           "line": {
            "color": "#2a3f5f"
           }
          },
          "annotationdefaults": {
           "arrowcolor": "#2a3f5f",
           "arrowhead": 0,
           "arrowwidth": 1
          },
          "geo": {
           "bgcolor": "white",
           "landcolor": "#E5ECF6",
           "subunitcolor": "white",
           "showland": true,
           "showlakes": true,
           "lakecolor": "white"
          },
          "title": {
           "x": 0.05
          },
          "mapbox": {
           "style": "light"
          }
         }
        },
        "xaxis": {
         "anchor": "y",
         "domain": [
          0.0,
          1.0
         ],
         "title": {
          "text": "Elapsed Time [hr]"
         }
        },
        "yaxis": {
         "anchor": "x",
         "domain": [
          0.0,
          1.0
         ],
         "title": {
          "text": "OD600 (mean)"
         }
        },
        "annotations": [
         {
          "font": {},
          "showarrow": false,
          "text": "[Arg] µM=0",
          "x": 0.5,
          "xanchor": "center",
          "xref": "paper",
          "y": 1.0,
          "yanchor": "bottom",
          "yref": "paper"
         }
        ],
        "legend": {
         "title": {
          "text": "ADP1 strain"
         },
         "tracegroupgap": 0
        },
        "margin": {
         "t": 60
        },
        "barmode": "group",
        "title": {
         "text": "OD ADP1 [KSF001 (wt), KSF230(∆argB), KSF107 (∆cphaAI ∆astA ∆argB), KSF111 (∆cphAI ∆astA ∆argBR)] | growth in 0µm•Arg after LB preculture and 0µm•Arg wash",
         "x": 0.5
        },
        "showlegend": true,
        "boxmode": "group",
        "boxgap": 0.8,
        "boxgroupgap": 0
       },
       "config": {
        "plotlyServerURL": "https://plot.ly"
       }
      },
      "text/html": [
       "<div>                            <div id=\"d7d9fb71-79b4-4ee7-b888-ce21884d61c9\" class=\"plotly-graph-div\" style=\"height:525px; width:100%;\"></div>            <script type=\"text/javascript\">                require([\"plotly\"], function(Plotly) {                    window.PLOTLYENV=window.PLOTLYENV || {};                                    if (document.getElementById(\"d7d9fb71-79b4-4ee7-b888-ce21884d61c9\")) {                    Plotly.newPlot(                        \"d7d9fb71-79b4-4ee7-b888-ce21884d61c9\",                        [{\"alignmentgroup\":\"True\",\"error_y\":{\"array\":[0.002,0.021,0.021,0.007]},\"hovertemplate\":\"ADP1 strain=KSF001 wt\\u003cbr\\u003e[Arg] \\u00b5M=0\\u003cbr\\u003e=%{x}\\u003cbr\\u003eOD600 (mean)=%{y}\\u003cextra\\u003e\\u003c\\u002fextra\\u003e\",\"legendgroup\":\"KSF001 wt\",\"marker\":{\"color\":\"#636efa\",\"pattern\":{\"shape\":\"\"}},\"name\":\"KSF001 wt\",\"offsetgroup\":\"KSF001 wt\",\"orientation\":\"v\",\"showlegend\":true,\"textposition\":\"auto\",\"x\":[0.0,17.000000000058208,24.500000000058208,39.99999999994179],\"xaxis\":\"x\",\"y\":[0.296,1.083,1.075,1.153],\"yaxis\":\"y\",\"type\":\"bar\"},{\"alignmentgroup\":\"True\",\"error_y\":{\"array\":[0.004,0.002,0.004,0.002]},\"hovertemplate\":\"ADP1 strain=KSF230 \\u2206argB\\u003cbr\\u003e[Arg] \\u00b5M=0\\u003cbr\\u003e=%{x}\\u003cbr\\u003eOD600 (mean)=%{y}\\u003cextra\\u003e\\u003c\\u002fextra\\u003e\",\"legendgroup\":\"KSF230 \\u2206argB\",\"marker\":{\"color\":\"#EF553B\",\"pattern\":{\"shape\":\"\"}},\"name\":\"KSF230 \\u2206argB\",\"offsetgroup\":\"KSF230 \\u2206argB\",\"orientation\":\"v\",\"showlegend\":true,\"textposition\":\"auto\",\"x\":[0.0,17.000000000058208,24.500000000058208,39.99999999994179],\"xaxis\":\"x\",\"y\":[0.304,0.26,0.26,0.3],\"yaxis\":\"y\",\"type\":\"bar\"},{\"alignmentgroup\":\"True\",\"error_y\":{\"array\":[0.004,0.005,0.009,0.0]},\"hovertemplate\":\"ADP1 strain=KSF107 + \\u2206argB\\u003cbr\\u003e[Arg] \\u00b5M=0\\u003cbr\\u003e=%{x}\\u003cbr\\u003eOD600 (mean)=%{y}\\u003cextra\\u003e\\u003c\\u002fextra\\u003e\",\"legendgroup\":\"KSF107 + \\u2206argB\",\"marker\":{\"color\":\"#00cc96\",\"pattern\":{\"shape\":\"\"}},\"name\":\"KSF107 + \\u2206argB\",\"offsetgroup\":\"KSF107 + \\u2206argB\",\"orientation\":\"v\",\"showlegend\":true,\"textposition\":\"auto\",\"x\":[0.0,17.000000000058208,24.500000000058208,39.99999999994179],\"xaxis\":\"x\",\"y\":[0.279,0.359,0.353,0.396],\"yaxis\":\"y\",\"type\":\"bar\"},{\"alignmentgroup\":\"True\",\"error_y\":{\"array\":[0.002,0.006,0.007,0.004]},\"hovertemplate\":\"ADP1 strain=KSF111 + \\u2206argB\\u003cbr\\u003e[Arg] \\u00b5M=0\\u003cbr\\u003e=%{x}\\u003cbr\\u003eOD600 (mean)=%{y}\\u003cextra\\u003e\\u003c\\u002fextra\\u003e\",\"legendgroup\":\"KSF111 + \\u2206argB\",\"marker\":{\"color\":\"#ab63fa\",\"pattern\":{\"shape\":\"\"}},\"name\":\"KSF111 + \\u2206argB\",\"offsetgroup\":\"KSF111 + \\u2206argB\",\"orientation\":\"v\",\"showlegend\":true,\"textposition\":\"auto\",\"x\":[0.0,17.000000000058208,24.500000000058208,39.99999999994179],\"xaxis\":\"x\",\"y\":[0.272,0.407,0.453,0.46],\"yaxis\":\"y\",\"type\":\"bar\"},{\"hovertemplate\":\"strain_id=KSF001 wt\\u003cbr\\u003earg_conc_uM=0\\u003cbr\\u003eelapsed_time_hr=%{x}\\u003cbr\\u003eod_sample_mean=%{y}\\u003cextra\\u003e\\u003c\\u002fextra\\u003e\",\"legendgroup\":\"KSF001 wt\",\"line\":{\"color\":\"#636efa\",\"dash\":\"solid\"},\"marker\":{\"symbol\":\"circle\"},\"mode\":\"lines\",\"name\":\"KSF001 wt\",\"orientation\":\"v\",\"showlegend\":false,\"x\":[0.0,17.000000000058208,24.500000000058208,39.99999999994179],\"xaxis\":\"x\",\"y\":[0.296,1.083,1.075,1.153],\"yaxis\":\"y\",\"type\":\"scatter\"},{\"hovertemplate\":\"strain_id=KSF230 \\u2206argB\\u003cbr\\u003earg_conc_uM=0\\u003cbr\\u003eelapsed_time_hr=%{x}\\u003cbr\\u003eod_sample_mean=%{y}\\u003cextra\\u003e\\u003c\\u002fextra\\u003e\",\"legendgroup\":\"KSF230 \\u2206argB\",\"line\":{\"color\":\"#EF553B\",\"dash\":\"solid\"},\"marker\":{\"symbol\":\"circle\"},\"mode\":\"lines\",\"name\":\"KSF230 \\u2206argB\",\"orientation\":\"v\",\"showlegend\":false,\"x\":[0.0,17.000000000058208,24.500000000058208,39.99999999994179],\"xaxis\":\"x\",\"y\":[0.304,0.26,0.26,0.3],\"yaxis\":\"y\",\"type\":\"scatter\"},{\"hovertemplate\":\"strain_id=KSF107 + \\u2206argB\\u003cbr\\u003earg_conc_uM=0\\u003cbr\\u003eelapsed_time_hr=%{x}\\u003cbr\\u003eod_sample_mean=%{y}\\u003cextra\\u003e\\u003c\\u002fextra\\u003e\",\"legendgroup\":\"KSF107 + \\u2206argB\",\"line\":{\"color\":\"#00cc96\",\"dash\":\"solid\"},\"marker\":{\"symbol\":\"circle\"},\"mode\":\"lines\",\"name\":\"KSF107 + \\u2206argB\",\"orientation\":\"v\",\"showlegend\":false,\"x\":[0.0,17.000000000058208,24.500000000058208,39.99999999994179],\"xaxis\":\"x\",\"y\":[0.279,0.359,0.353,0.396],\"yaxis\":\"y\",\"type\":\"scatter\"},{\"hovertemplate\":\"strain_id=KSF111 + \\u2206argB\\u003cbr\\u003earg_conc_uM=0\\u003cbr\\u003eelapsed_time_hr=%{x}\\u003cbr\\u003eod_sample_mean=%{y}\\u003cextra\\u003e\\u003c\\u002fextra\\u003e\",\"legendgroup\":\"KSF111 + \\u2206argB\",\"line\":{\"color\":\"#ab63fa\",\"dash\":\"solid\"},\"marker\":{\"symbol\":\"circle\"},\"mode\":\"lines\",\"name\":\"KSF111 + \\u2206argB\",\"orientation\":\"v\",\"showlegend\":false,\"x\":[0.0,17.000000000058208,24.500000000058208,39.99999999994179],\"xaxis\":\"x\",\"y\":[0.272,0.407,0.453,0.46],\"yaxis\":\"y\",\"type\":\"scatter\"}],                        {\"template\":{\"data\":{\"histogram2dcontour\":[{\"type\":\"histogram2dcontour\",\"colorbar\":{\"outlinewidth\":0,\"ticks\":\"\"},\"colorscale\":[[0.0,\"#0d0887\"],[0.1111111111111111,\"#46039f\"],[0.2222222222222222,\"#7201a8\"],[0.3333333333333333,\"#9c179e\"],[0.4444444444444444,\"#bd3786\"],[0.5555555555555556,\"#d8576b\"],[0.6666666666666666,\"#ed7953\"],[0.7777777777777778,\"#fb9f3a\"],[0.8888888888888888,\"#fdca26\"],[1.0,\"#f0f921\"]]}],\"choropleth\":[{\"type\":\"choropleth\",\"colorbar\":{\"outlinewidth\":0,\"ticks\":\"\"}}],\"histogram2d\":[{\"type\":\"histogram2d\",\"colorbar\":{\"outlinewidth\":0,\"ticks\":\"\"},\"colorscale\":[[0.0,\"#0d0887\"],[0.1111111111111111,\"#46039f\"],[0.2222222222222222,\"#7201a8\"],[0.3333333333333333,\"#9c179e\"],[0.4444444444444444,\"#bd3786\"],[0.5555555555555556,\"#d8576b\"],[0.6666666666666666,\"#ed7953\"],[0.7777777777777778,\"#fb9f3a\"],[0.8888888888888888,\"#fdca26\"],[1.0,\"#f0f921\"]]}],\"heatmap\":[{\"type\":\"heatmap\",\"colorbar\":{\"outlinewidth\":0,\"ticks\":\"\"},\"colorscale\":[[0.0,\"#0d0887\"],[0.1111111111111111,\"#46039f\"],[0.2222222222222222,\"#7201a8\"],[0.3333333333333333,\"#9c179e\"],[0.4444444444444444,\"#bd3786\"],[0.5555555555555556,\"#d8576b\"],[0.6666666666666666,\"#ed7953\"],[0.7777777777777778,\"#fb9f3a\"],[0.8888888888888888,\"#fdca26\"],[1.0,\"#f0f921\"]]}],\"heatmapgl\":[{\"type\":\"heatmapgl\",\"colorbar\":{\"outlinewidth\":0,\"ticks\":\"\"},\"colorscale\":[[0.0,\"#0d0887\"],[0.1111111111111111,\"#46039f\"],[0.2222222222222222,\"#7201a8\"],[0.3333333333333333,\"#9c179e\"],[0.4444444444444444,\"#bd3786\"],[0.5555555555555556,\"#d8576b\"],[0.6666666666666666,\"#ed7953\"],[0.7777777777777778,\"#fb9f3a\"],[0.8888888888888888,\"#fdca26\"],[1.0,\"#f0f921\"]]}],\"contourcarpet\":[{\"type\":\"contourcarpet\",\"colorbar\":{\"outlinewidth\":0,\"ticks\":\"\"}}],\"contour\":[{\"type\":\"contour\",\"colorbar\":{\"outlinewidth\":0,\"ticks\":\"\"},\"colorscale\":[[0.0,\"#0d0887\"],[0.1111111111111111,\"#46039f\"],[0.2222222222222222,\"#7201a8\"],[0.3333333333333333,\"#9c179e\"],[0.4444444444444444,\"#bd3786\"],[0.5555555555555556,\"#d8576b\"],[0.6666666666666666,\"#ed7953\"],[0.7777777777777778,\"#fb9f3a\"],[0.8888888888888888,\"#fdca26\"],[1.0,\"#f0f921\"]]}],\"surface\":[{\"type\":\"surface\",\"colorbar\":{\"outlinewidth\":0,\"ticks\":\"\"},\"colorscale\":[[0.0,\"#0d0887\"],[0.1111111111111111,\"#46039f\"],[0.2222222222222222,\"#7201a8\"],[0.3333333333333333,\"#9c179e\"],[0.4444444444444444,\"#bd3786\"],[0.5555555555555556,\"#d8576b\"],[0.6666666666666666,\"#ed7953\"],[0.7777777777777778,\"#fb9f3a\"],[0.8888888888888888,\"#fdca26\"],[1.0,\"#f0f921\"]]}],\"mesh3d\":[{\"type\":\"mesh3d\",\"colorbar\":{\"outlinewidth\":0,\"ticks\":\"\"}}],\"scatter\":[{\"fillpattern\":{\"fillmode\":\"overlay\",\"size\":10,\"solidity\":0.2},\"type\":\"scatter\"}],\"parcoords\":[{\"type\":\"parcoords\",\"line\":{\"colorbar\":{\"outlinewidth\":0,\"ticks\":\"\"}}}],\"scatterpolargl\":[{\"type\":\"scatterpolargl\",\"marker\":{\"colorbar\":{\"outlinewidth\":0,\"ticks\":\"\"}}}],\"bar\":[{\"error_x\":{\"color\":\"#2a3f5f\"},\"error_y\":{\"color\":\"#2a3f5f\"},\"marker\":{\"line\":{\"color\":\"#E5ECF6\",\"width\":0.5},\"pattern\":{\"fillmode\":\"overlay\",\"size\":10,\"solidity\":0.2}},\"type\":\"bar\"}],\"scattergeo\":[{\"type\":\"scattergeo\",\"marker\":{\"colorbar\":{\"outlinewidth\":0,\"ticks\":\"\"}}}],\"scatterpolar\":[{\"type\":\"scatterpolar\",\"marker\":{\"colorbar\":{\"outlinewidth\":0,\"ticks\":\"\"}}}],\"histogram\":[{\"marker\":{\"pattern\":{\"fillmode\":\"overlay\",\"size\":10,\"solidity\":0.2}},\"type\":\"histogram\"}],\"scattergl\":[{\"type\":\"scattergl\",\"marker\":{\"colorbar\":{\"outlinewidth\":0,\"ticks\":\"\"}}}],\"scatter3d\":[{\"type\":\"scatter3d\",\"line\":{\"colorbar\":{\"outlinewidth\":0,\"ticks\":\"\"}},\"marker\":{\"colorbar\":{\"outlinewidth\":0,\"ticks\":\"\"}}}],\"scattermapbox\":[{\"type\":\"scattermapbox\",\"marker\":{\"colorbar\":{\"outlinewidth\":0,\"ticks\":\"\"}}}],\"scatterternary\":[{\"type\":\"scatterternary\",\"marker\":{\"colorbar\":{\"outlinewidth\":0,\"ticks\":\"\"}}}],\"scattercarpet\":[{\"type\":\"scattercarpet\",\"marker\":{\"colorbar\":{\"outlinewidth\":0,\"ticks\":\"\"}}}],\"carpet\":[{\"aaxis\":{\"endlinecolor\":\"#2a3f5f\",\"gridcolor\":\"white\",\"linecolor\":\"white\",\"minorgridcolor\":\"white\",\"startlinecolor\":\"#2a3f5f\"},\"baxis\":{\"endlinecolor\":\"#2a3f5f\",\"gridcolor\":\"white\",\"linecolor\":\"white\",\"minorgridcolor\":\"white\",\"startlinecolor\":\"#2a3f5f\"},\"type\":\"carpet\"}],\"table\":[{\"cells\":{\"fill\":{\"color\":\"#EBF0F8\"},\"line\":{\"color\":\"white\"}},\"header\":{\"fill\":{\"color\":\"#C8D4E3\"},\"line\":{\"color\":\"white\"}},\"type\":\"table\"}],\"barpolar\":[{\"marker\":{\"line\":{\"color\":\"#E5ECF6\",\"width\":0.5},\"pattern\":{\"fillmode\":\"overlay\",\"size\":10,\"solidity\":0.2}},\"type\":\"barpolar\"}],\"pie\":[{\"automargin\":true,\"type\":\"pie\"}]},\"layout\":{\"autotypenumbers\":\"strict\",\"colorway\":[\"#636efa\",\"#EF553B\",\"#00cc96\",\"#ab63fa\",\"#FFA15A\",\"#19d3f3\",\"#FF6692\",\"#B6E880\",\"#FF97FF\",\"#FECB52\"],\"font\":{\"color\":\"#2a3f5f\"},\"hovermode\":\"closest\",\"hoverlabel\":{\"align\":\"left\"},\"paper_bgcolor\":\"white\",\"plot_bgcolor\":\"#E5ECF6\",\"polar\":{\"bgcolor\":\"#E5ECF6\",\"angularaxis\":{\"gridcolor\":\"white\",\"linecolor\":\"white\",\"ticks\":\"\"},\"radialaxis\":{\"gridcolor\":\"white\",\"linecolor\":\"white\",\"ticks\":\"\"}},\"ternary\":{\"bgcolor\":\"#E5ECF6\",\"aaxis\":{\"gridcolor\":\"white\",\"linecolor\":\"white\",\"ticks\":\"\"},\"baxis\":{\"gridcolor\":\"white\",\"linecolor\":\"white\",\"ticks\":\"\"},\"caxis\":{\"gridcolor\":\"white\",\"linecolor\":\"white\",\"ticks\":\"\"}},\"coloraxis\":{\"colorbar\":{\"outlinewidth\":0,\"ticks\":\"\"}},\"colorscale\":{\"sequential\":[[0.0,\"#0d0887\"],[0.1111111111111111,\"#46039f\"],[0.2222222222222222,\"#7201a8\"],[0.3333333333333333,\"#9c179e\"],[0.4444444444444444,\"#bd3786\"],[0.5555555555555556,\"#d8576b\"],[0.6666666666666666,\"#ed7953\"],[0.7777777777777778,\"#fb9f3a\"],[0.8888888888888888,\"#fdca26\"],[1.0,\"#f0f921\"]],\"sequentialminus\":[[0.0,\"#0d0887\"],[0.1111111111111111,\"#46039f\"],[0.2222222222222222,\"#7201a8\"],[0.3333333333333333,\"#9c179e\"],[0.4444444444444444,\"#bd3786\"],[0.5555555555555556,\"#d8576b\"],[0.6666666666666666,\"#ed7953\"],[0.7777777777777778,\"#fb9f3a\"],[0.8888888888888888,\"#fdca26\"],[1.0,\"#f0f921\"]],\"diverging\":[[0,\"#8e0152\"],[0.1,\"#c51b7d\"],[0.2,\"#de77ae\"],[0.3,\"#f1b6da\"],[0.4,\"#fde0ef\"],[0.5,\"#f7f7f7\"],[0.6,\"#e6f5d0\"],[0.7,\"#b8e186\"],[0.8,\"#7fbc41\"],[0.9,\"#4d9221\"],[1,\"#276419\"]]},\"xaxis\":{\"gridcolor\":\"white\",\"linecolor\":\"white\",\"ticks\":\"\",\"title\":{\"standoff\":15},\"zerolinecolor\":\"white\",\"automargin\":true,\"zerolinewidth\":2},\"yaxis\":{\"gridcolor\":\"white\",\"linecolor\":\"white\",\"ticks\":\"\",\"title\":{\"standoff\":15},\"zerolinecolor\":\"white\",\"automargin\":true,\"zerolinewidth\":2},\"scene\":{\"xaxis\":{\"backgroundcolor\":\"#E5ECF6\",\"gridcolor\":\"white\",\"linecolor\":\"white\",\"showbackground\":true,\"ticks\":\"\",\"zerolinecolor\":\"white\",\"gridwidth\":2},\"yaxis\":{\"backgroundcolor\":\"#E5ECF6\",\"gridcolor\":\"white\",\"linecolor\":\"white\",\"showbackground\":true,\"ticks\":\"\",\"zerolinecolor\":\"white\",\"gridwidth\":2},\"zaxis\":{\"backgroundcolor\":\"#E5ECF6\",\"gridcolor\":\"white\",\"linecolor\":\"white\",\"showbackground\":true,\"ticks\":\"\",\"zerolinecolor\":\"white\",\"gridwidth\":2}},\"shapedefaults\":{\"line\":{\"color\":\"#2a3f5f\"}},\"annotationdefaults\":{\"arrowcolor\":\"#2a3f5f\",\"arrowhead\":0,\"arrowwidth\":1},\"geo\":{\"bgcolor\":\"white\",\"landcolor\":\"#E5ECF6\",\"subunitcolor\":\"white\",\"showland\":true,\"showlakes\":true,\"lakecolor\":\"white\"},\"title\":{\"x\":0.05},\"mapbox\":{\"style\":\"light\"}}},\"xaxis\":{\"anchor\":\"y\",\"domain\":[0.0,1.0],\"title\":{\"text\":\"Elapsed Time [hr]\"}},\"yaxis\":{\"anchor\":\"x\",\"domain\":[0.0,1.0],\"title\":{\"text\":\"OD600 (mean)\"}},\"annotations\":[{\"font\":{},\"showarrow\":false,\"text\":\"[Arg] \\u00b5M=0\",\"x\":0.5,\"xanchor\":\"center\",\"xref\":\"paper\",\"y\":1.0,\"yanchor\":\"bottom\",\"yref\":\"paper\"}],\"legend\":{\"title\":{\"text\":\"ADP1 strain\"},\"tracegroupgap\":0},\"margin\":{\"t\":60},\"barmode\":\"group\",\"title\":{\"text\":\"OD ADP1 [KSF001 (wt), KSF230(\\u2206argB), KSF107 (\\u2206cphaAI \\u2206astA \\u2206argB), KSF111 (\\u2206cphAI \\u2206astA \\u2206argBR)] | growth in 0\\u00b5m\\u2022Arg after LB preculture and 0\\u00b5m\\u2022Arg wash\",\"x\":0.5},\"showlegend\":true,\"boxmode\":\"group\",\"boxgap\":0.8,\"boxgroupgap\":0},                        {\"responsive\": true}                    ).then(function(){\n",
       "                            \n",
       "var gd = document.getElementById('d7d9fb71-79b4-4ee7-b888-ce21884d61c9');\n",
       "var x = new MutationObserver(function (mutations, observer) {{\n",
       "        var display = window.getComputedStyle(gd).display;\n",
       "        if (!display || display === 'none') {{\n",
       "            console.log([gd, 'removed!']);\n",
       "            Plotly.purge(gd);\n",
       "            observer.disconnect();\n",
       "        }}\n",
       "}});\n",
       "\n",
       "// Listen for the removal of the full notebook cells\n",
       "var notebookContainer = gd.closest('#notebook-container');\n",
       "if (notebookContainer) {{\n",
       "    x.observe(notebookContainer, {childList: true});\n",
       "}}\n",
       "\n",
       "// Listen for the clearing of the current output cell\n",
       "var outputEl = gd.closest('.output');\n",
       "if (outputEl) {{\n",
       "    x.observe(outputEl, {childList: true});\n",
       "}}\n",
       "\n",
       "                        })                };                });            </script>        </div>"
      ]
     },
     "metadata": {},
     "output_type": "display_data"
    }
   ],
   "execution_count": 25
  },
  {
   "metadata": {
    "ExecuteTime": {
     "end_time": "2024-10-31T18:34:45.723849Z",
     "start_time": "2024-10-31T18:34:45.715807Z"
    }
   },
   "cell_type": "code",
   "source": [
    "df_od_mean_max = df_od_mean_sem.sort_values(\n",
    "    by=['arg_conc_uM', 'strain_id', 'od_sample_mean'],\n",
    ").drop_duplicates(\n",
    "    subset=['arg_conc_uM', 'strain_id'],\n",
    "    keep='last',\n",
    ")\n",
    "\n",
    "_bg_107, _bg_111 = df_od_mean_max.loc[lambda df: df.arg_conc_uM == 0].od_sample_mean.iloc[:2]\n",
    "df_od_mean_max = df_od_mean_max.assign(\n",
    "    od_sample_mean_sans_bg=lambda df: df.apply(\n",
    "        lambda r: r.od_sample_mean - (_bg_107 if '107' in r.strain_id else _bg_111),\n",
    "        axis='columns'\n",
    "    ),\n",
    ")\n",
    "\n",
    "df_od_mean_max"
   ],
   "id": "51a4daadb5765d02",
   "outputs": [
    {
     "data": {
      "text/plain": [
       "    elapsed_time_hr       strain_id  arg_conc_uM  od_sample_mean  \\\n",
       "12             40.0       KSF001 wt            0           1.153   \n",
       "14             40.0  KSF107 + ∆argB            0           0.396   \n",
       "15             40.0  KSF111 + ∆argB            0           0.460   \n",
       "1               0.0    KSF230 ∆argB            0           0.304   \n",
       "\n",
       "    od_sample_sem  od_sample_mean_sans_bg  \n",
       "12          0.007                   0.757  \n",
       "14          0.000                  -0.757  \n",
       "15          0.004                   0.064  \n",
       "1           0.004                  -0.092  "
      ],
      "text/html": [
       "<div>\n",
       "<style scoped>\n",
       "    .dataframe tbody tr th:only-of-type {\n",
       "        vertical-align: middle;\n",
       "    }\n",
       "\n",
       "    .dataframe tbody tr th {\n",
       "        vertical-align: top;\n",
       "    }\n",
       "\n",
       "    .dataframe thead th {\n",
       "        text-align: right;\n",
       "    }\n",
       "</style>\n",
       "<table border=\"1\" class=\"dataframe\">\n",
       "  <thead>\n",
       "    <tr style=\"text-align: right;\">\n",
       "      <th></th>\n",
       "      <th>elapsed_time_hr</th>\n",
       "      <th>strain_id</th>\n",
       "      <th>arg_conc_uM</th>\n",
       "      <th>od_sample_mean</th>\n",
       "      <th>od_sample_sem</th>\n",
       "      <th>od_sample_mean_sans_bg</th>\n",
       "    </tr>\n",
       "  </thead>\n",
       "  <tbody>\n",
       "    <tr>\n",
       "      <th>12</th>\n",
       "      <td>40.0</td>\n",
       "      <td>KSF001 wt</td>\n",
       "      <td>0</td>\n",
       "      <td>1.153</td>\n",
       "      <td>0.007</td>\n",
       "      <td>0.757</td>\n",
       "    </tr>\n",
       "    <tr>\n",
       "      <th>14</th>\n",
       "      <td>40.0</td>\n",
       "      <td>KSF107 + ∆argB</td>\n",
       "      <td>0</td>\n",
       "      <td>0.396</td>\n",
       "      <td>0.000</td>\n",
       "      <td>-0.757</td>\n",
       "    </tr>\n",
       "    <tr>\n",
       "      <th>15</th>\n",
       "      <td>40.0</td>\n",
       "      <td>KSF111 + ∆argB</td>\n",
       "      <td>0</td>\n",
       "      <td>0.460</td>\n",
       "      <td>0.004</td>\n",
       "      <td>0.064</td>\n",
       "    </tr>\n",
       "    <tr>\n",
       "      <th>1</th>\n",
       "      <td>0.0</td>\n",
       "      <td>KSF230 ∆argB</td>\n",
       "      <td>0</td>\n",
       "      <td>0.304</td>\n",
       "      <td>0.004</td>\n",
       "      <td>-0.092</td>\n",
       "    </tr>\n",
       "  </tbody>\n",
       "</table>\n",
       "</div>"
      ]
     },
     "execution_count": 17,
     "metadata": {},
     "output_type": "execute_result"
    }
   ],
   "execution_count": 17
  },
  {
   "metadata": {
    "ExecuteTime": {
     "end_time": "2024-10-31T18:34:47.857698Z",
     "start_time": "2024-10-31T18:34:47.852289Z"
    }
   },
   "cell_type": "code",
   "source": [
    "def od_by_arg_conc(\n",
    "        arg_conc,\n",
    "        od600_to_cdw=.33 * units.g / units.L,\n",
    "        perc_cgp_of_cdw=.44,\n",
    "        perc_arg_of_cgp=.3,\n",
    "        mw_arg=174.2 * units.g / units.mol\n",
    ") -> float:\n",
    "    od = arg_conc / (od600_to_cdw * perc_cgp_of_cdw * perc_arg_of_cgp / mw_arg)\n",
    "    return od.to_base_units()\n",
    "\n",
    "\n",
    "df_cgp_arg = pd.DataFrame(data=dict(arg_conc_µM=[0, 5000])).assign(\n",
    "    od=lambda df: df.arg_conc_µM.apply(lambda c: od_by_arg_conc(c * units.uM).magnitude)\n",
    ")\n",
    "# df_cgp_arg"
   ],
   "id": "3ae1773bd1b430c7",
   "outputs": [],
   "execution_count": 18
  },
  {
   "metadata": {
    "ExecuteTime": {
     "end_time": "2024-10-31T18:34:48.914298Z",
     "start_time": "2024-10-31T18:34:48.909872Z"
    }
   },
   "cell_type": "code",
   "source": [
    "def max_od_by_arg_conc(\n",
    "        arg_conc,\n",
    "        od600_to_cdw=.33 * units.g / units.L,\n",
    "        perc_arg_of_cdw=.025,  # (1prot/2cdw)(1arg/20prot) = 1/40\n",
    "        mw_arg=174.2 * units.g / units.mol\n",
    ") -> float:\n",
    "    od = arg_conc / (od600_to_cdw * perc_arg_of_cdw / mw_arg)\n",
    "    return od.to_base_units()\n",
    "\n",
    "\n",
    "df_arg_cdw = pd.DataFrame(data=dict(arg_conc_µM=[0, 250, 1000])).assign(\n",
    "    od=lambda df: df.arg_conc_µM.apply(lambda c: max_od_by_arg_conc(c * units.uM).magnitude)\n",
    ")\n",
    "# df_arg_cdw"
   ],
   "id": "d53f553e1bdba70b",
   "outputs": [],
   "execution_count": 19
  },
  {
   "metadata": {
    "ExecuteTime": {
     "end_time": "2024-10-31T18:34:49.942392Z",
     "start_time": "2024-10-31T18:34:49.937014Z"
    }
   },
   "cell_type": "code",
   "source": [
    "df_max_ods_sans_0uM = (\n",
    "    df_od_mean_max\n",
    "    # .replace({'arg_conc_uM'})\n",
    "    # .loc[lambda df: (0 < df.arg_conc_uM)]\n",
    "    # .loc[lambda df: (0 <= df.arg_conc_µM) & (df.arg_conc_µM < 500)]\n",
    "    # .loc[lambda df: (0 <= df.arg_conc_µM) & (df.arg_conc_µM < 4000)]\n",
    "    # .loc[lambda df: (0 <= df.arg_conc_µM) & (df.arg_conc_µM < 4000)]\n",
    ")\n",
    "df_max_ods_sans_0uM"
   ],
   "id": "81bde942a29a6a90",
   "outputs": [
    {
     "data": {
      "text/plain": [
       "    elapsed_time_hr       strain_id  arg_conc_uM  od_sample_mean  \\\n",
       "12             40.0       KSF001 wt            0           1.153   \n",
       "14             40.0  KSF107 + ∆argB            0           0.396   \n",
       "15             40.0  KSF111 + ∆argB            0           0.460   \n",
       "1               0.0    KSF230 ∆argB            0           0.304   \n",
       "\n",
       "    od_sample_sem  od_sample_mean_sans_bg  \n",
       "12          0.007                   0.757  \n",
       "14          0.000                  -0.757  \n",
       "15          0.004                   0.064  \n",
       "1           0.004                  -0.092  "
      ],
      "text/html": [
       "<div>\n",
       "<style scoped>\n",
       "    .dataframe tbody tr th:only-of-type {\n",
       "        vertical-align: middle;\n",
       "    }\n",
       "\n",
       "    .dataframe tbody tr th {\n",
       "        vertical-align: top;\n",
       "    }\n",
       "\n",
       "    .dataframe thead th {\n",
       "        text-align: right;\n",
       "    }\n",
       "</style>\n",
       "<table border=\"1\" class=\"dataframe\">\n",
       "  <thead>\n",
       "    <tr style=\"text-align: right;\">\n",
       "      <th></th>\n",
       "      <th>elapsed_time_hr</th>\n",
       "      <th>strain_id</th>\n",
       "      <th>arg_conc_uM</th>\n",
       "      <th>od_sample_mean</th>\n",
       "      <th>od_sample_sem</th>\n",
       "      <th>od_sample_mean_sans_bg</th>\n",
       "    </tr>\n",
       "  </thead>\n",
       "  <tbody>\n",
       "    <tr>\n",
       "      <th>12</th>\n",
       "      <td>40.0</td>\n",
       "      <td>KSF001 wt</td>\n",
       "      <td>0</td>\n",
       "      <td>1.153</td>\n",
       "      <td>0.007</td>\n",
       "      <td>0.757</td>\n",
       "    </tr>\n",
       "    <tr>\n",
       "      <th>14</th>\n",
       "      <td>40.0</td>\n",
       "      <td>KSF107 + ∆argB</td>\n",
       "      <td>0</td>\n",
       "      <td>0.396</td>\n",
       "      <td>0.000</td>\n",
       "      <td>-0.757</td>\n",
       "    </tr>\n",
       "    <tr>\n",
       "      <th>15</th>\n",
       "      <td>40.0</td>\n",
       "      <td>KSF111 + ∆argB</td>\n",
       "      <td>0</td>\n",
       "      <td>0.460</td>\n",
       "      <td>0.004</td>\n",
       "      <td>0.064</td>\n",
       "    </tr>\n",
       "    <tr>\n",
       "      <th>1</th>\n",
       "      <td>0.0</td>\n",
       "      <td>KSF230 ∆argB</td>\n",
       "      <td>0</td>\n",
       "      <td>0.304</td>\n",
       "      <td>0.004</td>\n",
       "      <td>-0.092</td>\n",
       "    </tr>\n",
       "  </tbody>\n",
       "</table>\n",
       "</div>"
      ]
     },
     "execution_count": 20,
     "metadata": {},
     "output_type": "execute_result"
    }
   ],
   "execution_count": 20
  },
  {
   "metadata": {
    "ExecuteTime": {
     "end_time": "2024-10-31T18:35:26.023961Z",
     "start_time": "2024-10-31T18:35:25.993166Z"
    }
   },
   "cell_type": "code",
   "source": [
    "px.bar(\n",
    "    df_max_ods_sans_0uM,\n",
    "    x='arg_conc_uM',\n",
    "    y='od_sample_mean',\n",
    "    # y='od_sample_mean_sans_bg',\n",
    "    error_y='od_sample_sem',\n",
    "    color='strain_id',\n",
    "    barmode='group',\n",
    "    labels={\n",
    "        'arg_conc_uM': '[Arg] µM',\n",
    "        'od_sample_mean': 'OD600_mean',\n",
    "        'od_sample_mean_sans_bg': 'OD600_mean (background removed)',\n",
    "        'strain_id': 'ADP1 strain',\n",
    "        'elapsed_time_hr': 'Elapsed Time (hr)',\n",
    "    },\n",
    ").update_layout(\n",
    "    # title='OD ADP1 [KSF107 (∆astA ∆argB), KSF111 (∆astA ∆argBR)] | growth in dosed Arg after preculture and wash',\n",
    "    # title_x=0.5,\n",
    "    showlegend=True,\n",
    "    height=500,\n",
    ")"
   ],
   "id": "b641b6a0656a50c1",
   "outputs": [
    {
     "data": {
      "application/vnd.plotly.v1+json": {
       "data": [
        {
         "alignmentgroup": "True",
         "error_y": {
          "array": [
           0.007
          ]
         },
         "hovertemplate": "ADP1 strain=KSF001 wt<br>[Arg] µM=%{x}<br>OD600_mean=%{y}<extra></extra>",
         "legendgroup": "KSF001 wt",
         "marker": {
          "color": "#636efa",
          "pattern": {
           "shape": ""
          }
         },
         "name": "KSF001 wt",
         "offsetgroup": "KSF001 wt",
         "orientation": "v",
         "showlegend": true,
         "textposition": "auto",
         "x": [
          0
         ],
         "xaxis": "x",
         "y": [
          1.153
         ],
         "yaxis": "y",
         "type": "bar"
        },
        {
         "alignmentgroup": "True",
         "error_y": {
          "array": [
           0.0
          ]
         },
         "hovertemplate": "ADP1 strain=KSF107 + ∆argB<br>[Arg] µM=%{x}<br>OD600_mean=%{y}<extra></extra>",
         "legendgroup": "KSF107 + ∆argB",
         "marker": {
          "color": "#EF553B",
          "pattern": {
           "shape": ""
          }
         },
         "name": "KSF107 + ∆argB",
         "offsetgroup": "KSF107 + ∆argB",
         "orientation": "v",
         "showlegend": true,
         "textposition": "auto",
         "x": [
          0
         ],
         "xaxis": "x",
         "y": [
          0.396
         ],
         "yaxis": "y",
         "type": "bar"
        },
        {
         "alignmentgroup": "True",
         "error_y": {
          "array": [
           0.004
          ]
         },
         "hovertemplate": "ADP1 strain=KSF111 + ∆argB<br>[Arg] µM=%{x}<br>OD600_mean=%{y}<extra></extra>",
         "legendgroup": "KSF111 + ∆argB",
         "marker": {
          "color": "#00cc96",
          "pattern": {
           "shape": ""
          }
         },
         "name": "KSF111 + ∆argB",
         "offsetgroup": "KSF111 + ∆argB",
         "orientation": "v",
         "showlegend": true,
         "textposition": "auto",
         "x": [
          0
         ],
         "xaxis": "x",
         "y": [
          0.46
         ],
         "yaxis": "y",
         "type": "bar"
        },
        {
         "alignmentgroup": "True",
         "error_y": {
          "array": [
           0.004
          ]
         },
         "hovertemplate": "ADP1 strain=KSF230 ∆argB<br>[Arg] µM=%{x}<br>OD600_mean=%{y}<extra></extra>",
         "legendgroup": "KSF230 ∆argB",
         "marker": {
          "color": "#ab63fa",
          "pattern": {
           "shape": ""
          }
         },
         "name": "KSF230 ∆argB",
         "offsetgroup": "KSF230 ∆argB",
         "orientation": "v",
         "showlegend": true,
         "textposition": "auto",
         "x": [
          0
         ],
         "xaxis": "x",
         "y": [
          0.304
         ],
         "yaxis": "y",
         "type": "bar"
        }
       ],
       "layout": {
        "template": {
         "data": {
          "histogram2dcontour": [
           {
            "type": "histogram2dcontour",
            "colorbar": {
             "outlinewidth": 0,
             "ticks": ""
            },
            "colorscale": [
             [
              0.0,
              "#0d0887"
             ],
             [
              0.1111111111111111,
              "#46039f"
             ],
             [
              0.2222222222222222,
              "#7201a8"
             ],
             [
              0.3333333333333333,
              "#9c179e"
             ],
             [
              0.4444444444444444,
              "#bd3786"
             ],
             [
              0.5555555555555556,
              "#d8576b"
             ],
             [
              0.6666666666666666,
              "#ed7953"
             ],
             [
              0.7777777777777778,
              "#fb9f3a"
             ],
             [
              0.8888888888888888,
              "#fdca26"
             ],
             [
              1.0,
              "#f0f921"
             ]
            ]
           }
          ],
          "choropleth": [
           {
            "type": "choropleth",
            "colorbar": {
             "outlinewidth": 0,
             "ticks": ""
            }
           }
          ],
          "histogram2d": [
           {
            "type": "histogram2d",
            "colorbar": {
             "outlinewidth": 0,
             "ticks": ""
            },
            "colorscale": [
             [
              0.0,
              "#0d0887"
             ],
             [
              0.1111111111111111,
              "#46039f"
             ],
             [
              0.2222222222222222,
              "#7201a8"
             ],
             [
              0.3333333333333333,
              "#9c179e"
             ],
             [
              0.4444444444444444,
              "#bd3786"
             ],
             [
              0.5555555555555556,
              "#d8576b"
             ],
             [
              0.6666666666666666,
              "#ed7953"
             ],
             [
              0.7777777777777778,
              "#fb9f3a"
             ],
             [
              0.8888888888888888,
              "#fdca26"
             ],
             [
              1.0,
              "#f0f921"
             ]
            ]
           }
          ],
          "heatmap": [
           {
            "type": "heatmap",
            "colorbar": {
             "outlinewidth": 0,
             "ticks": ""
            },
            "colorscale": [
             [
              0.0,
              "#0d0887"
             ],
             [
              0.1111111111111111,
              "#46039f"
             ],
             [
              0.2222222222222222,
              "#7201a8"
             ],
             [
              0.3333333333333333,
              "#9c179e"
             ],
             [
              0.4444444444444444,
              "#bd3786"
             ],
             [
              0.5555555555555556,
              "#d8576b"
             ],
             [
              0.6666666666666666,
              "#ed7953"
             ],
             [
              0.7777777777777778,
              "#fb9f3a"
             ],
             [
              0.8888888888888888,
              "#fdca26"
             ],
             [
              1.0,
              "#f0f921"
             ]
            ]
           }
          ],
          "heatmapgl": [
           {
            "type": "heatmapgl",
            "colorbar": {
             "outlinewidth": 0,
             "ticks": ""
            },
            "colorscale": [
             [
              0.0,
              "#0d0887"
             ],
             [
              0.1111111111111111,
              "#46039f"
             ],
             [
              0.2222222222222222,
              "#7201a8"
             ],
             [
              0.3333333333333333,
              "#9c179e"
             ],
             [
              0.4444444444444444,
              "#bd3786"
             ],
             [
              0.5555555555555556,
              "#d8576b"
             ],
             [
              0.6666666666666666,
              "#ed7953"
             ],
             [
              0.7777777777777778,
              "#fb9f3a"
             ],
             [
              0.8888888888888888,
              "#fdca26"
             ],
             [
              1.0,
              "#f0f921"
             ]
            ]
           }
          ],
          "contourcarpet": [
           {
            "type": "contourcarpet",
            "colorbar": {
             "outlinewidth": 0,
             "ticks": ""
            }
           }
          ],
          "contour": [
           {
            "type": "contour",
            "colorbar": {
             "outlinewidth": 0,
             "ticks": ""
            },
            "colorscale": [
             [
              0.0,
              "#0d0887"
             ],
             [
              0.1111111111111111,
              "#46039f"
             ],
             [
              0.2222222222222222,
              "#7201a8"
             ],
             [
              0.3333333333333333,
              "#9c179e"
             ],
             [
              0.4444444444444444,
              "#bd3786"
             ],
             [
              0.5555555555555556,
              "#d8576b"
             ],
             [
              0.6666666666666666,
              "#ed7953"
             ],
             [
              0.7777777777777778,
              "#fb9f3a"
             ],
             [
              0.8888888888888888,
              "#fdca26"
             ],
             [
              1.0,
              "#f0f921"
             ]
            ]
           }
          ],
          "surface": [
           {
            "type": "surface",
            "colorbar": {
             "outlinewidth": 0,
             "ticks": ""
            },
            "colorscale": [
             [
              0.0,
              "#0d0887"
             ],
             [
              0.1111111111111111,
              "#46039f"
             ],
             [
              0.2222222222222222,
              "#7201a8"
             ],
             [
              0.3333333333333333,
              "#9c179e"
             ],
             [
              0.4444444444444444,
              "#bd3786"
             ],
             [
              0.5555555555555556,
              "#d8576b"
             ],
             [
              0.6666666666666666,
              "#ed7953"
             ],
             [
              0.7777777777777778,
              "#fb9f3a"
             ],
             [
              0.8888888888888888,
              "#fdca26"
             ],
             [
              1.0,
              "#f0f921"
             ]
            ]
           }
          ],
          "mesh3d": [
           {
            "type": "mesh3d",
            "colorbar": {
             "outlinewidth": 0,
             "ticks": ""
            }
           }
          ],
          "scatter": [
           {
            "fillpattern": {
             "fillmode": "overlay",
             "size": 10,
             "solidity": 0.2
            },
            "type": "scatter"
           }
          ],
          "parcoords": [
           {
            "type": "parcoords",
            "line": {
             "colorbar": {
              "outlinewidth": 0,
              "ticks": ""
             }
            }
           }
          ],
          "scatterpolargl": [
           {
            "type": "scatterpolargl",
            "marker": {
             "colorbar": {
              "outlinewidth": 0,
              "ticks": ""
             }
            }
           }
          ],
          "bar": [
           {
            "error_x": {
             "color": "#2a3f5f"
            },
            "error_y": {
             "color": "#2a3f5f"
            },
            "marker": {
             "line": {
              "color": "#E5ECF6",
              "width": 0.5
             },
             "pattern": {
              "fillmode": "overlay",
              "size": 10,
              "solidity": 0.2
             }
            },
            "type": "bar"
           }
          ],
          "scattergeo": [
           {
            "type": "scattergeo",
            "marker": {
             "colorbar": {
              "outlinewidth": 0,
              "ticks": ""
             }
            }
           }
          ],
          "scatterpolar": [
           {
            "type": "scatterpolar",
            "marker": {
             "colorbar": {
              "outlinewidth": 0,
              "ticks": ""
             }
            }
           }
          ],
          "histogram": [
           {
            "marker": {
             "pattern": {
              "fillmode": "overlay",
              "size": 10,
              "solidity": 0.2
             }
            },
            "type": "histogram"
           }
          ],
          "scattergl": [
           {
            "type": "scattergl",
            "marker": {
             "colorbar": {
              "outlinewidth": 0,
              "ticks": ""
             }
            }
           }
          ],
          "scatter3d": [
           {
            "type": "scatter3d",
            "line": {
             "colorbar": {
              "outlinewidth": 0,
              "ticks": ""
             }
            },
            "marker": {
             "colorbar": {
              "outlinewidth": 0,
              "ticks": ""
             }
            }
           }
          ],
          "scattermapbox": [
           {
            "type": "scattermapbox",
            "marker": {
             "colorbar": {
              "outlinewidth": 0,
              "ticks": ""
             }
            }
           }
          ],
          "scatterternary": [
           {
            "type": "scatterternary",
            "marker": {
             "colorbar": {
              "outlinewidth": 0,
              "ticks": ""
             }
            }
           }
          ],
          "scattercarpet": [
           {
            "type": "scattercarpet",
            "marker": {
             "colorbar": {
              "outlinewidth": 0,
              "ticks": ""
             }
            }
           }
          ],
          "carpet": [
           {
            "aaxis": {
             "endlinecolor": "#2a3f5f",
             "gridcolor": "white",
             "linecolor": "white",
             "minorgridcolor": "white",
             "startlinecolor": "#2a3f5f"
            },
            "baxis": {
             "endlinecolor": "#2a3f5f",
             "gridcolor": "white",
             "linecolor": "white",
             "minorgridcolor": "white",
             "startlinecolor": "#2a3f5f"
            },
            "type": "carpet"
           }
          ],
          "table": [
           {
            "cells": {
             "fill": {
              "color": "#EBF0F8"
             },
             "line": {
              "color": "white"
             }
            },
            "header": {
             "fill": {
              "color": "#C8D4E3"
             },
             "line": {
              "color": "white"
             }
            },
            "type": "table"
           }
          ],
          "barpolar": [
           {
            "marker": {
             "line": {
              "color": "#E5ECF6",
              "width": 0.5
             },
             "pattern": {
              "fillmode": "overlay",
              "size": 10,
              "solidity": 0.2
             }
            },
            "type": "barpolar"
           }
          ],
          "pie": [
           {
            "automargin": true,
            "type": "pie"
           }
          ]
         },
         "layout": {
          "autotypenumbers": "strict",
          "colorway": [
           "#636efa",
           "#EF553B",
           "#00cc96",
           "#ab63fa",
           "#FFA15A",
           "#19d3f3",
           "#FF6692",
           "#B6E880",
           "#FF97FF",
           "#FECB52"
          ],
          "font": {
           "color": "#2a3f5f"
          },
          "hovermode": "closest",
          "hoverlabel": {
           "align": "left"
          },
          "paper_bgcolor": "white",
          "plot_bgcolor": "#E5ECF6",
          "polar": {
           "bgcolor": "#E5ECF6",
           "angularaxis": {
            "gridcolor": "white",
            "linecolor": "white",
            "ticks": ""
           },
           "radialaxis": {
            "gridcolor": "white",
            "linecolor": "white",
            "ticks": ""
           }
          },
          "ternary": {
           "bgcolor": "#E5ECF6",
           "aaxis": {
            "gridcolor": "white",
            "linecolor": "white",
            "ticks": ""
           },
           "baxis": {
            "gridcolor": "white",
            "linecolor": "white",
            "ticks": ""
           },
           "caxis": {
            "gridcolor": "white",
            "linecolor": "white",
            "ticks": ""
           }
          },
          "coloraxis": {
           "colorbar": {
            "outlinewidth": 0,
            "ticks": ""
           }
          },
          "colorscale": {
           "sequential": [
            [
             0.0,
             "#0d0887"
            ],
            [
             0.1111111111111111,
             "#46039f"
            ],
            [
             0.2222222222222222,
             "#7201a8"
            ],
            [
             0.3333333333333333,
             "#9c179e"
            ],
            [
             0.4444444444444444,
             "#bd3786"
            ],
            [
             0.5555555555555556,
             "#d8576b"
            ],
            [
             0.6666666666666666,
             "#ed7953"
            ],
            [
             0.7777777777777778,
             "#fb9f3a"
            ],
            [
             0.8888888888888888,
             "#fdca26"
            ],
            [
             1.0,
             "#f0f921"
            ]
           ],
           "sequentialminus": [
            [
             0.0,
             "#0d0887"
            ],
            [
             0.1111111111111111,
             "#46039f"
            ],
            [
             0.2222222222222222,
             "#7201a8"
            ],
            [
             0.3333333333333333,
             "#9c179e"
            ],
            [
             0.4444444444444444,
             "#bd3786"
            ],
            [
             0.5555555555555556,
             "#d8576b"
            ],
            [
             0.6666666666666666,
             "#ed7953"
            ],
            [
             0.7777777777777778,
             "#fb9f3a"
            ],
            [
             0.8888888888888888,
             "#fdca26"
            ],
            [
             1.0,
             "#f0f921"
            ]
           ],
           "diverging": [
            [
             0,
             "#8e0152"
            ],
            [
             0.1,
             "#c51b7d"
            ],
            [
             0.2,
             "#de77ae"
            ],
            [
             0.3,
             "#f1b6da"
            ],
            [
             0.4,
             "#fde0ef"
            ],
            [
             0.5,
             "#f7f7f7"
            ],
            [
             0.6,
             "#e6f5d0"
            ],
            [
             0.7,
             "#b8e186"
            ],
            [
             0.8,
             "#7fbc41"
            ],
            [
             0.9,
             "#4d9221"
            ],
            [
             1,
             "#276419"
            ]
           ]
          },
          "xaxis": {
           "gridcolor": "white",
           "linecolor": "white",
           "ticks": "",
           "title": {
            "standoff": 15
           },
           "zerolinecolor": "white",
           "automargin": true,
           "zerolinewidth": 2
          },
          "yaxis": {
           "gridcolor": "white",
           "linecolor": "white",
           "ticks": "",
           "title": {
            "standoff": 15
           },
           "zerolinecolor": "white",
           "automargin": true,
           "zerolinewidth": 2
          },
          "scene": {
           "xaxis": {
            "backgroundcolor": "#E5ECF6",
            "gridcolor": "white",
            "linecolor": "white",
            "showbackground": true,
            "ticks": "",
            "zerolinecolor": "white",
            "gridwidth": 2
           },
           "yaxis": {
            "backgroundcolor": "#E5ECF6",
            "gridcolor": "white",
            "linecolor": "white",
            "showbackground": true,
            "ticks": "",
            "zerolinecolor": "white",
            "gridwidth": 2
           },
           "zaxis": {
            "backgroundcolor": "#E5ECF6",
            "gridcolor": "white",
            "linecolor": "white",
            "showbackground": true,
            "ticks": "",
            "zerolinecolor": "white",
            "gridwidth": 2
           }
          },
          "shapedefaults": {
           "line": {
            "color": "#2a3f5f"
           }
          },
          "annotationdefaults": {
           "arrowcolor": "#2a3f5f",
           "arrowhead": 0,
           "arrowwidth": 1
          },
          "geo": {
           "bgcolor": "white",
           "landcolor": "#E5ECF6",
           "subunitcolor": "white",
           "showland": true,
           "showlakes": true,
           "lakecolor": "white"
          },
          "title": {
           "x": 0.05
          },
          "mapbox": {
           "style": "light"
          }
         }
        },
        "xaxis": {
         "anchor": "y",
         "domain": [
          0.0,
          1.0
         ],
         "title": {
          "text": "[Arg] µM"
         }
        },
        "yaxis": {
         "anchor": "x",
         "domain": [
          0.0,
          1.0
         ],
         "title": {
          "text": "OD600_mean"
         }
        },
        "legend": {
         "title": {
          "text": "ADP1 strain"
         },
         "tracegroupgap": 0
        },
        "margin": {
         "t": 60
        },
        "barmode": "group",
        "showlegend": true,
        "height": 500
       },
       "config": {
        "plotlyServerURL": "https://plot.ly"
       }
      },
      "text/html": [
       "<div>                            <div id=\"0a642745-0225-4ffd-9c28-87f31c798358\" class=\"plotly-graph-div\" style=\"height:500px; width:100%;\"></div>            <script type=\"text/javascript\">                require([\"plotly\"], function(Plotly) {                    window.PLOTLYENV=window.PLOTLYENV || {};                                    if (document.getElementById(\"0a642745-0225-4ffd-9c28-87f31c798358\")) {                    Plotly.newPlot(                        \"0a642745-0225-4ffd-9c28-87f31c798358\",                        [{\"alignmentgroup\":\"True\",\"error_y\":{\"array\":[0.007]},\"hovertemplate\":\"ADP1 strain=KSF001 wt\\u003cbr\\u003e[Arg] \\u00b5M=%{x}\\u003cbr\\u003eOD600_mean=%{y}\\u003cextra\\u003e\\u003c\\u002fextra\\u003e\",\"legendgroup\":\"KSF001 wt\",\"marker\":{\"color\":\"#636efa\",\"pattern\":{\"shape\":\"\"}},\"name\":\"KSF001 wt\",\"offsetgroup\":\"KSF001 wt\",\"orientation\":\"v\",\"showlegend\":true,\"textposition\":\"auto\",\"x\":[0],\"xaxis\":\"x\",\"y\":[1.153],\"yaxis\":\"y\",\"type\":\"bar\"},{\"alignmentgroup\":\"True\",\"error_y\":{\"array\":[0.0]},\"hovertemplate\":\"ADP1 strain=KSF107 + \\u2206argB\\u003cbr\\u003e[Arg] \\u00b5M=%{x}\\u003cbr\\u003eOD600_mean=%{y}\\u003cextra\\u003e\\u003c\\u002fextra\\u003e\",\"legendgroup\":\"KSF107 + \\u2206argB\",\"marker\":{\"color\":\"#EF553B\",\"pattern\":{\"shape\":\"\"}},\"name\":\"KSF107 + \\u2206argB\",\"offsetgroup\":\"KSF107 + \\u2206argB\",\"orientation\":\"v\",\"showlegend\":true,\"textposition\":\"auto\",\"x\":[0],\"xaxis\":\"x\",\"y\":[0.396],\"yaxis\":\"y\",\"type\":\"bar\"},{\"alignmentgroup\":\"True\",\"error_y\":{\"array\":[0.004]},\"hovertemplate\":\"ADP1 strain=KSF111 + \\u2206argB\\u003cbr\\u003e[Arg] \\u00b5M=%{x}\\u003cbr\\u003eOD600_mean=%{y}\\u003cextra\\u003e\\u003c\\u002fextra\\u003e\",\"legendgroup\":\"KSF111 + \\u2206argB\",\"marker\":{\"color\":\"#00cc96\",\"pattern\":{\"shape\":\"\"}},\"name\":\"KSF111 + \\u2206argB\",\"offsetgroup\":\"KSF111 + \\u2206argB\",\"orientation\":\"v\",\"showlegend\":true,\"textposition\":\"auto\",\"x\":[0],\"xaxis\":\"x\",\"y\":[0.46],\"yaxis\":\"y\",\"type\":\"bar\"},{\"alignmentgroup\":\"True\",\"error_y\":{\"array\":[0.004]},\"hovertemplate\":\"ADP1 strain=KSF230 \\u2206argB\\u003cbr\\u003e[Arg] \\u00b5M=%{x}\\u003cbr\\u003eOD600_mean=%{y}\\u003cextra\\u003e\\u003c\\u002fextra\\u003e\",\"legendgroup\":\"KSF230 \\u2206argB\",\"marker\":{\"color\":\"#ab63fa\",\"pattern\":{\"shape\":\"\"}},\"name\":\"KSF230 \\u2206argB\",\"offsetgroup\":\"KSF230 \\u2206argB\",\"orientation\":\"v\",\"showlegend\":true,\"textposition\":\"auto\",\"x\":[0],\"xaxis\":\"x\",\"y\":[0.304],\"yaxis\":\"y\",\"type\":\"bar\"}],                        {\"template\":{\"data\":{\"histogram2dcontour\":[{\"type\":\"histogram2dcontour\",\"colorbar\":{\"outlinewidth\":0,\"ticks\":\"\"},\"colorscale\":[[0.0,\"#0d0887\"],[0.1111111111111111,\"#46039f\"],[0.2222222222222222,\"#7201a8\"],[0.3333333333333333,\"#9c179e\"],[0.4444444444444444,\"#bd3786\"],[0.5555555555555556,\"#d8576b\"],[0.6666666666666666,\"#ed7953\"],[0.7777777777777778,\"#fb9f3a\"],[0.8888888888888888,\"#fdca26\"],[1.0,\"#f0f921\"]]}],\"choropleth\":[{\"type\":\"choropleth\",\"colorbar\":{\"outlinewidth\":0,\"ticks\":\"\"}}],\"histogram2d\":[{\"type\":\"histogram2d\",\"colorbar\":{\"outlinewidth\":0,\"ticks\":\"\"},\"colorscale\":[[0.0,\"#0d0887\"],[0.1111111111111111,\"#46039f\"],[0.2222222222222222,\"#7201a8\"],[0.3333333333333333,\"#9c179e\"],[0.4444444444444444,\"#bd3786\"],[0.5555555555555556,\"#d8576b\"],[0.6666666666666666,\"#ed7953\"],[0.7777777777777778,\"#fb9f3a\"],[0.8888888888888888,\"#fdca26\"],[1.0,\"#f0f921\"]]}],\"heatmap\":[{\"type\":\"heatmap\",\"colorbar\":{\"outlinewidth\":0,\"ticks\":\"\"},\"colorscale\":[[0.0,\"#0d0887\"],[0.1111111111111111,\"#46039f\"],[0.2222222222222222,\"#7201a8\"],[0.3333333333333333,\"#9c179e\"],[0.4444444444444444,\"#bd3786\"],[0.5555555555555556,\"#d8576b\"],[0.6666666666666666,\"#ed7953\"],[0.7777777777777778,\"#fb9f3a\"],[0.8888888888888888,\"#fdca26\"],[1.0,\"#f0f921\"]]}],\"heatmapgl\":[{\"type\":\"heatmapgl\",\"colorbar\":{\"outlinewidth\":0,\"ticks\":\"\"},\"colorscale\":[[0.0,\"#0d0887\"],[0.1111111111111111,\"#46039f\"],[0.2222222222222222,\"#7201a8\"],[0.3333333333333333,\"#9c179e\"],[0.4444444444444444,\"#bd3786\"],[0.5555555555555556,\"#d8576b\"],[0.6666666666666666,\"#ed7953\"],[0.7777777777777778,\"#fb9f3a\"],[0.8888888888888888,\"#fdca26\"],[1.0,\"#f0f921\"]]}],\"contourcarpet\":[{\"type\":\"contourcarpet\",\"colorbar\":{\"outlinewidth\":0,\"ticks\":\"\"}}],\"contour\":[{\"type\":\"contour\",\"colorbar\":{\"outlinewidth\":0,\"ticks\":\"\"},\"colorscale\":[[0.0,\"#0d0887\"],[0.1111111111111111,\"#46039f\"],[0.2222222222222222,\"#7201a8\"],[0.3333333333333333,\"#9c179e\"],[0.4444444444444444,\"#bd3786\"],[0.5555555555555556,\"#d8576b\"],[0.6666666666666666,\"#ed7953\"],[0.7777777777777778,\"#fb9f3a\"],[0.8888888888888888,\"#fdca26\"],[1.0,\"#f0f921\"]]}],\"surface\":[{\"type\":\"surface\",\"colorbar\":{\"outlinewidth\":0,\"ticks\":\"\"},\"colorscale\":[[0.0,\"#0d0887\"],[0.1111111111111111,\"#46039f\"],[0.2222222222222222,\"#7201a8\"],[0.3333333333333333,\"#9c179e\"],[0.4444444444444444,\"#bd3786\"],[0.5555555555555556,\"#d8576b\"],[0.6666666666666666,\"#ed7953\"],[0.7777777777777778,\"#fb9f3a\"],[0.8888888888888888,\"#fdca26\"],[1.0,\"#f0f921\"]]}],\"mesh3d\":[{\"type\":\"mesh3d\",\"colorbar\":{\"outlinewidth\":0,\"ticks\":\"\"}}],\"scatter\":[{\"fillpattern\":{\"fillmode\":\"overlay\",\"size\":10,\"solidity\":0.2},\"type\":\"scatter\"}],\"parcoords\":[{\"type\":\"parcoords\",\"line\":{\"colorbar\":{\"outlinewidth\":0,\"ticks\":\"\"}}}],\"scatterpolargl\":[{\"type\":\"scatterpolargl\",\"marker\":{\"colorbar\":{\"outlinewidth\":0,\"ticks\":\"\"}}}],\"bar\":[{\"error_x\":{\"color\":\"#2a3f5f\"},\"error_y\":{\"color\":\"#2a3f5f\"},\"marker\":{\"line\":{\"color\":\"#E5ECF6\",\"width\":0.5},\"pattern\":{\"fillmode\":\"overlay\",\"size\":10,\"solidity\":0.2}},\"type\":\"bar\"}],\"scattergeo\":[{\"type\":\"scattergeo\",\"marker\":{\"colorbar\":{\"outlinewidth\":0,\"ticks\":\"\"}}}],\"scatterpolar\":[{\"type\":\"scatterpolar\",\"marker\":{\"colorbar\":{\"outlinewidth\":0,\"ticks\":\"\"}}}],\"histogram\":[{\"marker\":{\"pattern\":{\"fillmode\":\"overlay\",\"size\":10,\"solidity\":0.2}},\"type\":\"histogram\"}],\"scattergl\":[{\"type\":\"scattergl\",\"marker\":{\"colorbar\":{\"outlinewidth\":0,\"ticks\":\"\"}}}],\"scatter3d\":[{\"type\":\"scatter3d\",\"line\":{\"colorbar\":{\"outlinewidth\":0,\"ticks\":\"\"}},\"marker\":{\"colorbar\":{\"outlinewidth\":0,\"ticks\":\"\"}}}],\"scattermapbox\":[{\"type\":\"scattermapbox\",\"marker\":{\"colorbar\":{\"outlinewidth\":0,\"ticks\":\"\"}}}],\"scatterternary\":[{\"type\":\"scatterternary\",\"marker\":{\"colorbar\":{\"outlinewidth\":0,\"ticks\":\"\"}}}],\"scattercarpet\":[{\"type\":\"scattercarpet\",\"marker\":{\"colorbar\":{\"outlinewidth\":0,\"ticks\":\"\"}}}],\"carpet\":[{\"aaxis\":{\"endlinecolor\":\"#2a3f5f\",\"gridcolor\":\"white\",\"linecolor\":\"white\",\"minorgridcolor\":\"white\",\"startlinecolor\":\"#2a3f5f\"},\"baxis\":{\"endlinecolor\":\"#2a3f5f\",\"gridcolor\":\"white\",\"linecolor\":\"white\",\"minorgridcolor\":\"white\",\"startlinecolor\":\"#2a3f5f\"},\"type\":\"carpet\"}],\"table\":[{\"cells\":{\"fill\":{\"color\":\"#EBF0F8\"},\"line\":{\"color\":\"white\"}},\"header\":{\"fill\":{\"color\":\"#C8D4E3\"},\"line\":{\"color\":\"white\"}},\"type\":\"table\"}],\"barpolar\":[{\"marker\":{\"line\":{\"color\":\"#E5ECF6\",\"width\":0.5},\"pattern\":{\"fillmode\":\"overlay\",\"size\":10,\"solidity\":0.2}},\"type\":\"barpolar\"}],\"pie\":[{\"automargin\":true,\"type\":\"pie\"}]},\"layout\":{\"autotypenumbers\":\"strict\",\"colorway\":[\"#636efa\",\"#EF553B\",\"#00cc96\",\"#ab63fa\",\"#FFA15A\",\"#19d3f3\",\"#FF6692\",\"#B6E880\",\"#FF97FF\",\"#FECB52\"],\"font\":{\"color\":\"#2a3f5f\"},\"hovermode\":\"closest\",\"hoverlabel\":{\"align\":\"left\"},\"paper_bgcolor\":\"white\",\"plot_bgcolor\":\"#E5ECF6\",\"polar\":{\"bgcolor\":\"#E5ECF6\",\"angularaxis\":{\"gridcolor\":\"white\",\"linecolor\":\"white\",\"ticks\":\"\"},\"radialaxis\":{\"gridcolor\":\"white\",\"linecolor\":\"white\",\"ticks\":\"\"}},\"ternary\":{\"bgcolor\":\"#E5ECF6\",\"aaxis\":{\"gridcolor\":\"white\",\"linecolor\":\"white\",\"ticks\":\"\"},\"baxis\":{\"gridcolor\":\"white\",\"linecolor\":\"white\",\"ticks\":\"\"},\"caxis\":{\"gridcolor\":\"white\",\"linecolor\":\"white\",\"ticks\":\"\"}},\"coloraxis\":{\"colorbar\":{\"outlinewidth\":0,\"ticks\":\"\"}},\"colorscale\":{\"sequential\":[[0.0,\"#0d0887\"],[0.1111111111111111,\"#46039f\"],[0.2222222222222222,\"#7201a8\"],[0.3333333333333333,\"#9c179e\"],[0.4444444444444444,\"#bd3786\"],[0.5555555555555556,\"#d8576b\"],[0.6666666666666666,\"#ed7953\"],[0.7777777777777778,\"#fb9f3a\"],[0.8888888888888888,\"#fdca26\"],[1.0,\"#f0f921\"]],\"sequentialminus\":[[0.0,\"#0d0887\"],[0.1111111111111111,\"#46039f\"],[0.2222222222222222,\"#7201a8\"],[0.3333333333333333,\"#9c179e\"],[0.4444444444444444,\"#bd3786\"],[0.5555555555555556,\"#d8576b\"],[0.6666666666666666,\"#ed7953\"],[0.7777777777777778,\"#fb9f3a\"],[0.8888888888888888,\"#fdca26\"],[1.0,\"#f0f921\"]],\"diverging\":[[0,\"#8e0152\"],[0.1,\"#c51b7d\"],[0.2,\"#de77ae\"],[0.3,\"#f1b6da\"],[0.4,\"#fde0ef\"],[0.5,\"#f7f7f7\"],[0.6,\"#e6f5d0\"],[0.7,\"#b8e186\"],[0.8,\"#7fbc41\"],[0.9,\"#4d9221\"],[1,\"#276419\"]]},\"xaxis\":{\"gridcolor\":\"white\",\"linecolor\":\"white\",\"ticks\":\"\",\"title\":{\"standoff\":15},\"zerolinecolor\":\"white\",\"automargin\":true,\"zerolinewidth\":2},\"yaxis\":{\"gridcolor\":\"white\",\"linecolor\":\"white\",\"ticks\":\"\",\"title\":{\"standoff\":15},\"zerolinecolor\":\"white\",\"automargin\":true,\"zerolinewidth\":2},\"scene\":{\"xaxis\":{\"backgroundcolor\":\"#E5ECF6\",\"gridcolor\":\"white\",\"linecolor\":\"white\",\"showbackground\":true,\"ticks\":\"\",\"zerolinecolor\":\"white\",\"gridwidth\":2},\"yaxis\":{\"backgroundcolor\":\"#E5ECF6\",\"gridcolor\":\"white\",\"linecolor\":\"white\",\"showbackground\":true,\"ticks\":\"\",\"zerolinecolor\":\"white\",\"gridwidth\":2},\"zaxis\":{\"backgroundcolor\":\"#E5ECF6\",\"gridcolor\":\"white\",\"linecolor\":\"white\",\"showbackground\":true,\"ticks\":\"\",\"zerolinecolor\":\"white\",\"gridwidth\":2}},\"shapedefaults\":{\"line\":{\"color\":\"#2a3f5f\"}},\"annotationdefaults\":{\"arrowcolor\":\"#2a3f5f\",\"arrowhead\":0,\"arrowwidth\":1},\"geo\":{\"bgcolor\":\"white\",\"landcolor\":\"#E5ECF6\",\"subunitcolor\":\"white\",\"showland\":true,\"showlakes\":true,\"lakecolor\":\"white\"},\"title\":{\"x\":0.05},\"mapbox\":{\"style\":\"light\"}}},\"xaxis\":{\"anchor\":\"y\",\"domain\":[0.0,1.0],\"title\":{\"text\":\"[Arg] \\u00b5M\"}},\"yaxis\":{\"anchor\":\"x\",\"domain\":[0.0,1.0],\"title\":{\"text\":\"OD600_mean\"}},\"legend\":{\"title\":{\"text\":\"ADP1 strain\"},\"tracegroupgap\":0},\"margin\":{\"t\":60},\"barmode\":\"group\",\"showlegend\":true,\"height\":500},                        {\"responsive\": true}                    ).then(function(){\n",
       "                            \n",
       "var gd = document.getElementById('0a642745-0225-4ffd-9c28-87f31c798358');\n",
       "var x = new MutationObserver(function (mutations, observer) {{\n",
       "        var display = window.getComputedStyle(gd).display;\n",
       "        if (!display || display === 'none') {{\n",
       "            console.log([gd, 'removed!']);\n",
       "            Plotly.purge(gd);\n",
       "            observer.disconnect();\n",
       "        }}\n",
       "}});\n",
       "\n",
       "// Listen for the removal of the full notebook cells\n",
       "var notebookContainer = gd.closest('#notebook-container');\n",
       "if (notebookContainer) {{\n",
       "    x.observe(notebookContainer, {childList: true});\n",
       "}}\n",
       "\n",
       "// Listen for the clearing of the current output cell\n",
       "var outputEl = gd.closest('.output');\n",
       "if (outputEl) {{\n",
       "    x.observe(outputEl, {childList: true});\n",
       "}}\n",
       "\n",
       "                        })                };                });            </script>        </div>"
      ]
     },
     "metadata": {},
     "output_type": "display_data"
    }
   ],
   "execution_count": 23
  },
  {
   "metadata": {
    "ExecuteTime": {
     "end_time": "2024-10-31T18:34:30.370328Z",
     "start_time": "2024-10-31T18:34:30.368005Z"
    }
   },
   "cell_type": "code",
   "source": [
    "# df_max_ods_sans_0uM_means.assign(\n",
    "#     arg_g=lambda df: df.index.get_level_values('arg_conc_μM') / 1E6 * 174.2,\n",
    "#     bm_g=lambda df: df.od_sample_mean * .33,\n",
    "# )"
   ],
   "id": "13ba0ad688673081",
   "outputs": [],
   "execution_count": 11
  },
  {
   "metadata": {
    "ExecuteTime": {
     "end_time": "2024-10-31T18:34:31.011681Z",
     "start_time": "2024-10-31T18:34:30.899228Z"
    }
   },
   "cell_type": "code",
   "source": [
    "fig_yield = px.scatter(\n",
    "    df_od_mean_max,\n",
    "    x='arg_conc_uM',\n",
    "    y='od_sample_mean_sans_bg',\n",
    "    color='strain_id',\n",
    "    labels={\n",
    "        'strain_id': 'ADP1 Strain',\n",
    "        'od_sample_x': 'OD',\n",
    "        'arg_conc_μM': '[Arg] (µM)'\n",
    "    },\n",
    "    trendline='ols',\n",
    ").update_layout(\n",
    "    # title='ADP1 {KSF230 ∆argB, KSF? ∆argB ∆argR} Biomass Yield Curves',\n",
    "    title_x=0.5,\n",
    ")\n",
    "fig_yield.add_traces([\n",
    "    # constraint: \n",
    "    go.Scatter(\n",
    "        x=df_cgp_arg.arg_conc_μM, y=df_cgp_arg.od,\n",
    "        name='[Arg] from BM w/CGP',\n",
    "        mode='lines', line=dict(dash='dot', color='darkgray'),\n",
    "        # fill='tonexty',\n",
    "    ),\n",
    "    # constraint: \n",
    "    go.Scatter(\n",
    "        x=df_arg_cdw.arg_conc_μM, y=df_arg_cdw.od,\n",
    "        name='ODmax by 2.5% Arg',\n",
    "        mode='lines', line=dict(dash='dash'),\n",
    "        # fill='tonexty',\n",
    "    ),\n",
    "])\n",
    "yield_fits = px.get_trendline_results(fig_yield).set_index('ADP1 Strain').px_fit_results\n",
    "\n",
    "fig_yield.update_layout(template='simple_white')\n",
    "\n",
    "fig_yield.write_image('../../figures/pk_exp007_AginineTitrationResponse.pdf')\n",
    "fig_yield"
   ],
   "id": "afa0cb797b7c9a8",
   "outputs": [
    {
     "ename": "KeyError",
     "evalue": "\"None of ['ADP1 Strain'] are in the columns\"",
     "output_type": "error",
     "traceback": [
      "\u001B[0;31m---------------------------------------------------------------------------\u001B[0m",
      "\u001B[0;31mKeyError\u001B[0m                                  Traceback (most recent call last)",
      "\u001B[0;32m/var/folders/x2/1xqgx52s3fs72fjg10s9_wy80000gn/T/ipykernel_35359/2464091595.py\u001B[0m in \u001B[0;36m?\u001B[0;34m()\u001B[0m\n\u001B[1;32m     28\u001B[0m         \u001B[0mmode\u001B[0m\u001B[0;34m=\u001B[0m\u001B[0;34m'lines'\u001B[0m\u001B[0;34m,\u001B[0m \u001B[0mline\u001B[0m\u001B[0;34m=\u001B[0m\u001B[0mdict\u001B[0m\u001B[0;34m(\u001B[0m\u001B[0mdash\u001B[0m\u001B[0;34m=\u001B[0m\u001B[0;34m'dash'\u001B[0m\u001B[0;34m)\u001B[0m\u001B[0;34m,\u001B[0m\u001B[0;34m\u001B[0m\u001B[0;34m\u001B[0m\u001B[0m\n\u001B[1;32m     29\u001B[0m         \u001B[0;31m# fill='tonexty',\u001B[0m\u001B[0;34m\u001B[0m\u001B[0;34m\u001B[0m\u001B[0m\n\u001B[1;32m     30\u001B[0m     \u001B[0;34m)\u001B[0m\u001B[0;34m,\u001B[0m\u001B[0;34m\u001B[0m\u001B[0;34m\u001B[0m\u001B[0m\n\u001B[1;32m     31\u001B[0m \u001B[0;34m]\u001B[0m\u001B[0;34m)\u001B[0m\u001B[0;34m\u001B[0m\u001B[0;34m\u001B[0m\u001B[0m\n\u001B[0;32m---> 32\u001B[0;31m \u001B[0myield_fits\u001B[0m \u001B[0;34m=\u001B[0m \u001B[0mpx\u001B[0m\u001B[0;34m.\u001B[0m\u001B[0mget_trendline_results\u001B[0m\u001B[0;34m(\u001B[0m\u001B[0mfig_yield\u001B[0m\u001B[0;34m)\u001B[0m\u001B[0;34m.\u001B[0m\u001B[0mset_index\u001B[0m\u001B[0;34m(\u001B[0m\u001B[0;34m'ADP1 Strain'\u001B[0m\u001B[0;34m)\u001B[0m\u001B[0;34m.\u001B[0m\u001B[0mpx_fit_results\u001B[0m\u001B[0;34m\u001B[0m\u001B[0;34m\u001B[0m\u001B[0m\n\u001B[0m\u001B[1;32m     33\u001B[0m \u001B[0;34m\u001B[0m\u001B[0m\n\u001B[1;32m     34\u001B[0m \u001B[0mfig_yield\u001B[0m\u001B[0;34m.\u001B[0m\u001B[0mupdate_layout\u001B[0m\u001B[0;34m(\u001B[0m\u001B[0mtemplate\u001B[0m\u001B[0;34m=\u001B[0m\u001B[0;34m'simple_white'\u001B[0m\u001B[0;34m)\u001B[0m\u001B[0;34m\u001B[0m\u001B[0;34m\u001B[0m\u001B[0m\n\u001B[1;32m     35\u001B[0m \u001B[0;34m\u001B[0m\u001B[0m\n",
      "\u001B[0;32m~/Library/Caches/pypoetry/virtualenvs/analysis-jO871hYA-py3.12/lib/python3.12/site-packages/pandas/core/frame.py\u001B[0m in \u001B[0;36m?\u001B[0;34m(self, keys, drop, append, inplace, verify_integrity)\u001B[0m\n\u001B[1;32m   6118\u001B[0m                     \u001B[0;32mif\u001B[0m \u001B[0;32mnot\u001B[0m \u001B[0mfound\u001B[0m\u001B[0;34m:\u001B[0m\u001B[0;34m\u001B[0m\u001B[0;34m\u001B[0m\u001B[0m\n\u001B[1;32m   6119\u001B[0m                         \u001B[0mmissing\u001B[0m\u001B[0;34m.\u001B[0m\u001B[0mappend\u001B[0m\u001B[0;34m(\u001B[0m\u001B[0mcol\u001B[0m\u001B[0;34m)\u001B[0m\u001B[0;34m\u001B[0m\u001B[0;34m\u001B[0m\u001B[0m\n\u001B[1;32m   6120\u001B[0m \u001B[0;34m\u001B[0m\u001B[0m\n\u001B[1;32m   6121\u001B[0m         \u001B[0;32mif\u001B[0m \u001B[0mmissing\u001B[0m\u001B[0;34m:\u001B[0m\u001B[0;34m\u001B[0m\u001B[0;34m\u001B[0m\u001B[0m\n\u001B[0;32m-> 6122\u001B[0;31m             \u001B[0;32mraise\u001B[0m \u001B[0mKeyError\u001B[0m\u001B[0;34m(\u001B[0m\u001B[0;34mf\"\u001B[0m\u001B[0;34mNone of \u001B[0m\u001B[0;34m{\u001B[0m\u001B[0mmissing\u001B[0m\u001B[0;34m}\u001B[0m\u001B[0;34m are in the columns\u001B[0m\u001B[0;34m\"\u001B[0m\u001B[0;34m)\u001B[0m\u001B[0;34m\u001B[0m\u001B[0;34m\u001B[0m\u001B[0m\n\u001B[0m\u001B[1;32m   6123\u001B[0m \u001B[0;34m\u001B[0m\u001B[0m\n\u001B[1;32m   6124\u001B[0m         \u001B[0;32mif\u001B[0m \u001B[0minplace\u001B[0m\u001B[0;34m:\u001B[0m\u001B[0;34m\u001B[0m\u001B[0;34m\u001B[0m\u001B[0m\n\u001B[1;32m   6125\u001B[0m             \u001B[0mframe\u001B[0m \u001B[0;34m=\u001B[0m \u001B[0mself\u001B[0m\u001B[0;34m\u001B[0m\u001B[0;34m\u001B[0m\u001B[0m\n",
      "\u001B[0;31mKeyError\u001B[0m: \"None of ['ADP1 Strain'] are in the columns\""
     ]
    }
   ],
   "execution_count": 12
  },
  {
   "metadata": {
    "ExecuteTime": {
     "end_time": "2024-10-13T14:45:42.814879Z",
     "start_time": "2024-10-13T14:45:42.812051Z"
    }
   },
   "cell_type": "code",
   "source": "pio.templates",
   "id": "6e9e644575922917",
   "outputs": [
    {
     "data": {
      "text/plain": [
       "Templates configuration\n",
       "-----------------------\n",
       "    Default template: 'plotly'\n",
       "    Available templates:\n",
       "        ['ggplot2', 'seaborn', 'simple_white', 'plotly',\n",
       "         'plotly_white', 'plotly_dark', 'presentation', 'xgridoff',\n",
       "         'ygridoff', 'gridon', 'none']"
      ]
     },
     "execution_count": 12,
     "metadata": {},
     "output_type": "execute_result"
    }
   ],
   "execution_count": 12
  },
  {
   "metadata": {
    "ExecuteTime": {
     "end_time": "2024-10-13T14:45:42.888610Z",
     "start_time": "2024-10-13T14:45:42.875914Z"
    }
   },
   "cell_type": "code",
   "source": [
    "yield_fits['KSF230'].summary()\n",
    "yield_fits['∆argR'].summary()\n"
   ],
   "id": "ff6cbcb889e5bf5b",
   "outputs": [
    {
     "name": "stderr",
     "output_type": "stream",
     "text": [
      "/Users/pasha/Library/Caches/pypoetry/virtualenvs/analysis-jO871hYA-py3.12/lib/python3.12/site-packages/scipy/stats/_axis_nan_policy.py:418: UserWarning:\n",
      "\n",
      "`kurtosistest` p-value may be inaccurate with fewer than 20 observations; only n=10 observations were given.\n",
      "\n",
      "/Users/pasha/Library/Caches/pypoetry/virtualenvs/analysis-jO871hYA-py3.12/lib/python3.12/site-packages/scipy/stats/_axis_nan_policy.py:418: UserWarning:\n",
      "\n",
      "`kurtosistest` p-value may be inaccurate with fewer than 20 observations; only n=10 observations were given.\n",
      "\n"
     ]
    },
    {
     "data": {
      "text/plain": [
       "<class 'statsmodels.iolib.summary.Summary'>\n",
       "\"\"\"\n",
       "                            OLS Regression Results                            \n",
       "==============================================================================\n",
       "Dep. Variable:                      y   R-squared:                       0.769\n",
       "Model:                            OLS   Adj. R-squared:                  0.740\n",
       "Method:                 Least Squares   F-statistic:                     26.57\n",
       "Date:                Sun, 13 Oct 2024   Prob (F-statistic):           0.000869\n",
       "Time:                        09:45:42   Log-Likelihood:               -0.94321\n",
       "No. Observations:                  10   AIC:                             5.886\n",
       "Df Residuals:                       8   BIC:                             6.492\n",
       "Df Model:                           1                                         \n",
       "Covariance Type:            nonrobust                                         \n",
       "==============================================================================\n",
       "                 coef    std err          t      P>|t|      [0.025      0.975]\n",
       "------------------------------------------------------------------------------\n",
       "const          0.8103      0.130      6.220      0.000       0.510       1.111\n",
       "x1             0.0001   2.56e-05      5.155      0.001     7.3e-05       0.000\n",
       "==============================================================================\n",
       "Omnibus:                        4.766   Durbin-Watson:                   0.642\n",
       "Prob(Omnibus):                  0.092   Jarque-Bera (JB):                1.194\n",
       "Skew:                           0.150   Prob(JB):                        0.550\n",
       "Kurtosis:                       1.334   Cond. No.                     7.05e+03\n",
       "==============================================================================\n",
       "\n",
       "Notes:\n",
       "[1] Standard Errors assume that the covariance matrix of the errors is correctly specified.\n",
       "[2] The condition number is large, 7.05e+03. This might indicate that there are\n",
       "strong multicollinearity or other numerical problems.\n",
       "\"\"\""
      ],
      "text/html": [
       "<table class=\"simpletable\">\n",
       "<caption>OLS Regression Results</caption>\n",
       "<tr>\n",
       "  <th>Dep. Variable:</th>            <td>y</td>        <th>  R-squared:         </th> <td>   0.769</td>\n",
       "</tr>\n",
       "<tr>\n",
       "  <th>Model:</th>                   <td>OLS</td>       <th>  Adj. R-squared:    </th> <td>   0.740</td>\n",
       "</tr>\n",
       "<tr>\n",
       "  <th>Method:</th>             <td>Least Squares</td>  <th>  F-statistic:       </th> <td>   26.57</td>\n",
       "</tr>\n",
       "<tr>\n",
       "  <th>Date:</th>             <td>Sun, 13 Oct 2024</td> <th>  Prob (F-statistic):</th> <td>0.000869</td>\n",
       "</tr>\n",
       "<tr>\n",
       "  <th>Time:</th>                 <td>09:45:42</td>     <th>  Log-Likelihood:    </th> <td>-0.94321</td>\n",
       "</tr>\n",
       "<tr>\n",
       "  <th>No. Observations:</th>      <td>    10</td>      <th>  AIC:               </th> <td>   5.886</td>\n",
       "</tr>\n",
       "<tr>\n",
       "  <th>Df Residuals:</th>          <td>     8</td>      <th>  BIC:               </th> <td>   6.492</td>\n",
       "</tr>\n",
       "<tr>\n",
       "  <th>Df Model:</th>              <td>     1</td>      <th>                     </th>     <td> </td>   \n",
       "</tr>\n",
       "<tr>\n",
       "  <th>Covariance Type:</th>      <td>nonrobust</td>    <th>                     </th>     <td> </td>   \n",
       "</tr>\n",
       "</table>\n",
       "<table class=\"simpletable\">\n",
       "<tr>\n",
       "    <td></td>       <th>coef</th>     <th>std err</th>      <th>t</th>      <th>P>|t|</th>  <th>[0.025</th>    <th>0.975]</th>  \n",
       "</tr>\n",
       "<tr>\n",
       "  <th>const</th> <td>    0.8103</td> <td>    0.130</td> <td>    6.220</td> <td> 0.000</td> <td>    0.510</td> <td>    1.111</td>\n",
       "</tr>\n",
       "<tr>\n",
       "  <th>x1</th>    <td>    0.0001</td> <td> 2.56e-05</td> <td>    5.155</td> <td> 0.001</td> <td>  7.3e-05</td> <td>    0.000</td>\n",
       "</tr>\n",
       "</table>\n",
       "<table class=\"simpletable\">\n",
       "<tr>\n",
       "  <th>Omnibus:</th>       <td> 4.766</td> <th>  Durbin-Watson:     </th> <td>   0.642</td>\n",
       "</tr>\n",
       "<tr>\n",
       "  <th>Prob(Omnibus):</th> <td> 0.092</td> <th>  Jarque-Bera (JB):  </th> <td>   1.194</td>\n",
       "</tr>\n",
       "<tr>\n",
       "  <th>Skew:</th>          <td> 0.150</td> <th>  Prob(JB):          </th> <td>   0.550</td>\n",
       "</tr>\n",
       "<tr>\n",
       "  <th>Kurtosis:</th>      <td> 1.334</td> <th>  Cond. No.          </th> <td>7.05e+03</td>\n",
       "</tr>\n",
       "</table><br/><br/>Notes:<br/>[1] Standard Errors assume that the covariance matrix of the errors is correctly specified.<br/>[2] The condition number is large, 7.05e+03. This might indicate that there are<br/>strong multicollinearity or other numerical problems."
      ],
      "text/latex": "\\begin{center}\n\\begin{tabular}{lclc}\n\\toprule\n\\textbf{Dep. Variable:}    &        y         & \\textbf{  R-squared:         } &     0.769   \\\\\n\\textbf{Model:}            &       OLS        & \\textbf{  Adj. R-squared:    } &     0.740   \\\\\n\\textbf{Method:}           &  Least Squares   & \\textbf{  F-statistic:       } &     26.57   \\\\\n\\textbf{Date:}             & Sun, 13 Oct 2024 & \\textbf{  Prob (F-statistic):} &  0.000869   \\\\\n\\textbf{Time:}             &     09:45:42     & \\textbf{  Log-Likelihood:    } &  -0.94321   \\\\\n\\textbf{No. Observations:} &          10      & \\textbf{  AIC:               } &     5.886   \\\\\n\\textbf{Df Residuals:}     &           8      & \\textbf{  BIC:               } &     6.492   \\\\\n\\textbf{Df Model:}         &           1      & \\textbf{                     } &             \\\\\n\\textbf{Covariance Type:}  &    nonrobust     & \\textbf{                     } &             \\\\\n\\bottomrule\n\\end{tabular}\n\\begin{tabular}{lcccccc}\n               & \\textbf{coef} & \\textbf{std err} & \\textbf{t} & \\textbf{P$> |$t$|$} & \\textbf{[0.025} & \\textbf{0.975]}  \\\\\n\\midrule\n\\textbf{const} &       0.8103  &        0.130     &     6.220  &         0.000        &        0.510    &        1.111     \\\\\n\\textbf{x1}    &       0.0001  &     2.56e-05     &     5.155  &         0.001        &      7.3e-05    &        0.000     \\\\\n\\bottomrule\n\\end{tabular}\n\\begin{tabular}{lclc}\n\\textbf{Omnibus:}       &  4.766 & \\textbf{  Durbin-Watson:     } &    0.642  \\\\\n\\textbf{Prob(Omnibus):} &  0.092 & \\textbf{  Jarque-Bera (JB):  } &    1.194  \\\\\n\\textbf{Skew:}          &  0.150 & \\textbf{  Prob(JB):          } &    0.550  \\\\\n\\textbf{Kurtosis:}      &  1.334 & \\textbf{  Cond. No.          } & 7.05e+03  \\\\\n\\bottomrule\n\\end{tabular}\n%\\caption{OLS Regression Results}\n\\end{center}\n\nNotes: \\newline\n [1] Standard Errors assume that the covariance matrix of the errors is correctly specified. \\newline\n [2] The condition number is large, 7.05e+03. This might indicate that there are \\newline\n strong multicollinearity or other numerical problems."
     },
     "execution_count": 13,
     "metadata": {},
     "output_type": "execute_result"
    }
   ],
   "execution_count": 13
  },
  {
   "metadata": {
    "ExecuteTime": {
     "end_time": "2024-10-13T14:45:42.906472Z",
     "start_time": "2024-10-13T14:45:42.903434Z"
    }
   },
   "cell_type": "code",
   "source": [
    "def theor_arg_from_OD600_with_CGP(od600: float, frac_cgp_of_cdw: float = 0.25, frac_arg_of_cgp: float = .6,\n",
    "                                  mw_arg: float = 174.2) -> float:\n",
    "    return od600 * .33 * frac_cgp_of_cdw * frac_arg_of_cgp / mw_arg * 1E6\n",
    "\n",
    "\n",
    "def theor_OD600_with_CGP_for_x_arg(x_arg: float, frac_cgp_of_cdw: float = 0.25, frac_arg_of_cgp: float = .6,\n",
    "                                   mw_arg: float = 174.2) -> float:\n",
    "    return x_arg / (.33 * frac_cgp_of_cdw * frac_arg_of_cgp / mw_arg * 1E6)\n",
    "\n",
    "\n",
    "def yield_in_g_g(x):\n",
    "    return x * .33 / (1.742 * 10 ** -4)\n",
    "\n",
    "\n",
    "yield_in_g_g(0.0004)\n",
    "\n",
    "theor_arg_from_OD600_with_CGP(1)\n",
    "theor_OD600_with_CGP_for_x_arg(100)\n",
    "theor_OD600_with_CGP_for_x_arg(250)\n",
    "# t = yield_fits['KSF230'].summary().tables[1]\n",
    "# t[('x1')]"
   ],
   "id": "a651ab291f3e4531",
   "outputs": [
    {
     "data": {
      "text/plain": [
       "0.8797979797979798"
      ]
     },
     "execution_count": 14,
     "metadata": {},
     "output_type": "execute_result"
    }
   ],
   "execution_count": 14
  },
  {
   "metadata": {
    "ExecuteTime": {
     "end_time": "2024-10-13T14:45:42.939402Z",
     "start_time": "2024-10-13T14:45:42.937100Z"
    }
   },
   "cell_type": "code",
   "source": ".506 / theor_OD600_with_CGP_for_x_arg(100, frac_cgp_of_cdw=.5)",
   "id": "5ac82d06b57354ba",
   "outputs": [
    {
     "data": {
      "text/plain": [
       "2.8756601607347876"
      ]
     },
     "execution_count": 15,
     "metadata": {},
     "output_type": "execute_result"
    }
   ],
   "execution_count": 15
  },
  {
   "metadata": {
    "ExecuteTime": {
     "end_time": "2024-10-13T14:45:43.285953Z",
     "start_time": "2024-10-13T14:45:42.970271Z"
    }
   },
   "cell_type": "code",
   "source": [
    "import pandera as pa\n",
    "import pandera.typing as pat\n",
    "from analysis.schemas import SakaguchiODSchema\n",
    "\n",
    "\n",
    "@pa.check_types()\n",
    "def sakaguchi_analysis(df: pat.DataFrame[SakaguchiODSchema]):\n",
    "    return df"
   ],
   "id": "fa9e1408ff6fceb0",
   "outputs": [],
   "execution_count": 16
  },
  {
   "metadata": {
    "ExecuteTime": {
     "end_time": "2024-10-13T14:45:43.618649Z",
     "start_time": "2024-10-13T14:45:43.316365Z"
    }
   },
   "cell_type": "code",
   "source": [
    "# noinspection PyTypeChecker\n",
    "df_sakaguchi = pd.read_excel(\n",
    "    '~/tyo_lab_pk/04 Raw Data/EXP_0007_PK_20240909_ArgConcentrationResponse.xlsx',\n",
    "    sheet_name='Sakaguchi for residual arg',\n",
    "    usecols='B:E',\n",
    "    skiprows=45,\n",
    ")\n",
    "\n",
    "sakaguchi_analysis(df_sakaguchi)"
   ],
   "id": "b175819e32b78afa",
   "outputs": [
    {
     "ename": "SchemaError",
     "evalue": "error in check_types decorator of function 'sakaguchi_analysis': column 'conc_factor' not in dataframe. Columns in dataframe: ['sample', 'vol_sample_ul', 'vol_reagentA_ul', 'vol_reagentB_ul']",
     "output_type": "error",
     "traceback": [
      "\u001B[0;31m---------------------------------------------------------------------------\u001B[0m",
      "\u001B[0;31mSchemaError\u001B[0m                               Traceback (most recent call last)",
      "Cell \u001B[0;32mIn[17], line 9\u001B[0m\n\u001B[1;32m      1\u001B[0m \u001B[38;5;66;03m# noinspection PyTypeChecker\u001B[39;00m\n\u001B[1;32m      2\u001B[0m df_sakaguchi \u001B[38;5;241m=\u001B[39m pd\u001B[38;5;241m.\u001B[39mread_excel(\n\u001B[1;32m      3\u001B[0m     \u001B[38;5;124m'\u001B[39m\u001B[38;5;124m~/tyo_lab_pk/04 Raw Data/EXP_0007_PK_20240909_ArgConcentrationResponse.xlsx\u001B[39m\u001B[38;5;124m'\u001B[39m,\n\u001B[1;32m      4\u001B[0m     sheet_name\u001B[38;5;241m=\u001B[39m\u001B[38;5;124m'\u001B[39m\u001B[38;5;124mSakaguchi for residual arg\u001B[39m\u001B[38;5;124m'\u001B[39m,\n\u001B[1;32m      5\u001B[0m     usecols\u001B[38;5;241m=\u001B[39m\u001B[38;5;124m'\u001B[39m\u001B[38;5;124mB:E\u001B[39m\u001B[38;5;124m'\u001B[39m,\n\u001B[1;32m      6\u001B[0m     skiprows\u001B[38;5;241m=\u001B[39m\u001B[38;5;241m45\u001B[39m,\n\u001B[1;32m      7\u001B[0m )\n\u001B[0;32m----> 9\u001B[0m \u001B[43msakaguchi_analysis\u001B[49m\u001B[43m(\u001B[49m\u001B[43mdf_sakaguchi\u001B[49m\u001B[43m)\u001B[49m\n",
      "File \u001B[0;32m~/Library/Caches/pypoetry/virtualenvs/analysis-jO871hYA-py3.12/lib/python3.12/site-packages/pandera/decorators.py:853\u001B[0m, in \u001B[0;36mcheck_types.<locals>._wrapper\u001B[0;34m(wrapped_, instance, args, kwargs)\u001B[0m\n\u001B[1;32m    851\u001B[0m     out \u001B[38;5;241m=\u001B[39m validate_arguments(wrapped_)(\u001B[38;5;241m*\u001B[39margs, \u001B[38;5;241m*\u001B[39m\u001B[38;5;241m*\u001B[39mkwargs)\n\u001B[1;32m    852\u001B[0m \u001B[38;5;28;01melse\u001B[39;00m:\n\u001B[0;32m--> 853\u001B[0m     validated_pos, validated_kwd \u001B[38;5;241m=\u001B[39m \u001B[43mvalidate_inputs\u001B[49m\u001B[43m(\u001B[49m\n\u001B[1;32m    854\u001B[0m \u001B[43m        \u001B[49m\u001B[43minstance\u001B[49m\u001B[43m,\u001B[49m\u001B[43m \u001B[49m\u001B[43margs\u001B[49m\u001B[43m,\u001B[49m\u001B[43m \u001B[49m\u001B[43mkwargs\u001B[49m\n\u001B[1;32m    855\u001B[0m \u001B[43m    \u001B[49m\u001B[43m)\u001B[49m\n\u001B[1;32m    856\u001B[0m     out \u001B[38;5;241m=\u001B[39m wrapped_(\u001B[38;5;241m*\u001B[39mvalidated_pos, \u001B[38;5;241m*\u001B[39m\u001B[38;5;241m*\u001B[39mvalidated_kwd)\n\u001B[1;32m    857\u001B[0m \u001B[38;5;28;01mreturn\u001B[39;00m _check_arg(\u001B[38;5;124m\"\u001B[39m\u001B[38;5;124mreturn\u001B[39m\u001B[38;5;124m\"\u001B[39m, out)\n",
      "File \u001B[0;32m~/Library/Caches/pypoetry/virtualenvs/analysis-jO871hYA-py3.12/lib/python3.12/site-packages/pandera/decorators.py:811\u001B[0m, in \u001B[0;36mcheck_types.<locals>.validate_inputs\u001B[0;34m(instance, args, kwargs)\u001B[0m\n\u001B[1;32m    807\u001B[0m \u001B[38;5;28;01mif\u001B[39;00m instance \u001B[38;5;129;01mis\u001B[39;00m \u001B[38;5;129;01mnot\u001B[39;00m \u001B[38;5;28;01mNone\u001B[39;00m:\n\u001B[1;32m    808\u001B[0m     \u001B[38;5;66;03m# If the wrapped function is a method -> add \"self\" as the first positional arg\u001B[39;00m\n\u001B[1;32m    809\u001B[0m     args \u001B[38;5;241m=\u001B[39m (instance, \u001B[38;5;241m*\u001B[39margs)\n\u001B[0;32m--> 811\u001B[0m validated_pos \u001B[38;5;241m=\u001B[39m \u001B[43mvalidate_args\u001B[49m\u001B[43m(\u001B[49m\u001B[43msig\u001B[49m\u001B[38;5;241;43m.\u001B[39;49m\u001B[43mbind_partial\u001B[49m\u001B[43m(\u001B[49m\u001B[38;5;241;43m*\u001B[39;49m\u001B[43margs\u001B[49m\u001B[43m)\u001B[49m\u001B[38;5;241;43m.\u001B[39;49m\u001B[43marguments\u001B[49m\u001B[43m,\u001B[49m\u001B[43m \u001B[49m\u001B[43margs\u001B[49m\u001B[43m)\u001B[49m\n\u001B[1;32m    812\u001B[0m validated_kwd \u001B[38;5;241m=\u001B[39m validate_kwargs(\n\u001B[1;32m    813\u001B[0m     sig\u001B[38;5;241m.\u001B[39mbind_partial(\u001B[38;5;241m*\u001B[39m\u001B[38;5;241m*\u001B[39mkwargs)\u001B[38;5;241m.\u001B[39marguments, kwargs\n\u001B[1;32m    814\u001B[0m )\n\u001B[1;32m    816\u001B[0m \u001B[38;5;28;01mif\u001B[39;00m instance \u001B[38;5;129;01mis\u001B[39;00m \u001B[38;5;129;01mnot\u001B[39;00m \u001B[38;5;28;01mNone\u001B[39;00m:\n\u001B[1;32m    817\u001B[0m     \u001B[38;5;66;03m# If the decorated func is a method, \"wrapped\" is a bound method\u001B[39;00m\n\u001B[1;32m    818\u001B[0m     \u001B[38;5;66;03m# -> remove \"self\" before passing positional args through\u001B[39;00m\n",
      "File \u001B[0;32m~/Library/Caches/pypoetry/virtualenvs/analysis-jO871hYA-py3.12/lib/python3.12/site-packages/pandera/decorators.py:757\u001B[0m, in \u001B[0;36mcheck_types.<locals>.validate_args\u001B[0;34m(named_arguments, arguments)\u001B[0m\n\u001B[1;32m    754\u001B[0m     \u001B[38;5;28;01mreturn\u001B[39;00m \u001B[38;5;28mlist\u001B[39m((\u001B[38;5;241m*\u001B[39mexplicit_args_tuple, \u001B[38;5;241m*\u001B[39mstar_args_tuple))\n\u001B[1;32m    756\u001B[0m \u001B[38;5;28;01melse\u001B[39;00m:\n\u001B[0;32m--> 757\u001B[0m     \u001B[38;5;28;01mreturn\u001B[39;00m \u001B[38;5;28;43mlist\u001B[39;49m\u001B[43m(\u001B[49m\n\u001B[1;32m    758\u001B[0m \u001B[43m        \u001B[49m\u001B[43m_check_arg\u001B[49m\u001B[43m(\u001B[49m\u001B[43marg_name\u001B[49m\u001B[43m,\u001B[49m\u001B[43m \u001B[49m\u001B[43marg_value\u001B[49m\u001B[43m)\u001B[49m\n\u001B[1;32m    759\u001B[0m \u001B[43m        \u001B[49m\u001B[38;5;28;43;01mfor\u001B[39;49;00m\u001B[43m \u001B[49m\u001B[43marg_name\u001B[49m\u001B[43m,\u001B[49m\u001B[43m \u001B[49m\u001B[43marg_value\u001B[49m\u001B[43m \u001B[49m\u001B[38;5;129;43;01min\u001B[39;49;00m\u001B[43m \u001B[49m\u001B[43mnamed_arguments\u001B[49m\u001B[38;5;241;43m.\u001B[39;49m\u001B[43mitems\u001B[49m\u001B[43m(\u001B[49m\u001B[43m)\u001B[49m\n\u001B[1;32m    760\u001B[0m \u001B[43m    \u001B[49m\u001B[43m)\u001B[49m\n",
      "File \u001B[0;32m~/Library/Caches/pypoetry/virtualenvs/analysis-jO871hYA-py3.12/lib/python3.12/site-packages/pandera/decorators.py:758\u001B[0m, in \u001B[0;36m<genexpr>\u001B[0;34m(.0)\u001B[0m\n\u001B[1;32m    754\u001B[0m     \u001B[38;5;28;01mreturn\u001B[39;00m \u001B[38;5;28mlist\u001B[39m((\u001B[38;5;241m*\u001B[39mexplicit_args_tuple, \u001B[38;5;241m*\u001B[39mstar_args_tuple))\n\u001B[1;32m    756\u001B[0m \u001B[38;5;28;01melse\u001B[39;00m:\n\u001B[1;32m    757\u001B[0m     \u001B[38;5;28;01mreturn\u001B[39;00m \u001B[38;5;28mlist\u001B[39m(\n\u001B[0;32m--> 758\u001B[0m         \u001B[43m_check_arg\u001B[49m\u001B[43m(\u001B[49m\u001B[43marg_name\u001B[49m\u001B[43m,\u001B[49m\u001B[43m \u001B[49m\u001B[43marg_value\u001B[49m\u001B[43m)\u001B[49m\n\u001B[1;32m    759\u001B[0m         \u001B[38;5;28;01mfor\u001B[39;00m arg_name, arg_value \u001B[38;5;129;01min\u001B[39;00m named_arguments\u001B[38;5;241m.\u001B[39mitems()\n\u001B[1;32m    760\u001B[0m     )\n",
      "File \u001B[0;32m~/Library/Caches/pypoetry/virtualenvs/analysis-jO871hYA-py3.12/lib/python3.12/site-packages/pandera/decorators.py:709\u001B[0m, in \u001B[0;36mcheck_types.<locals>._check_arg\u001B[0;34m(arg_name, arg_value)\u001B[0m\n\u001B[1;32m    707\u001B[0m \u001B[38;5;28;01mif\u001B[39;00m error_handler\u001B[38;5;241m.\u001B[39mschema_errors:\n\u001B[1;32m    708\u001B[0m     \u001B[38;5;28;01mif\u001B[39;00m \u001B[38;5;28mlen\u001B[39m(error_handler\u001B[38;5;241m.\u001B[39mschema_errors) \u001B[38;5;241m==\u001B[39m \u001B[38;5;241m1\u001B[39m:\n\u001B[0;32m--> 709\u001B[0m         \u001B[38;5;28;01mraise\u001B[39;00m error_handler\u001B[38;5;241m.\u001B[39mschema_errors[\u001B[38;5;241m0\u001B[39m]\n\u001B[1;32m    711\u001B[0m     \u001B[38;5;28;01mraise\u001B[39;00m errors\u001B[38;5;241m.\u001B[39mSchemaErrors(\n\u001B[1;32m    712\u001B[0m         schema\u001B[38;5;241m=\u001B[39mschema,\n\u001B[1;32m    713\u001B[0m         schema_errors\u001B[38;5;241m=\u001B[39m(\n\u001B[0;32m   (...)\u001B[0m\n\u001B[1;32m    718\u001B[0m         data\u001B[38;5;241m=\u001B[39marg_value,\n\u001B[1;32m    719\u001B[0m     )\n",
      "\u001B[0;31mSchemaError\u001B[0m: error in check_types decorator of function 'sakaguchi_analysis': column 'conc_factor' not in dataframe. Columns in dataframe: ['sample', 'vol_sample_ul', 'vol_reagentA_ul', 'vol_reagentB_ul']"
     ]
    }
   ],
   "execution_count": 17
  },
  {
   "metadata": {
    "ExecuteTime": {
     "end_time": "2024-10-13T14:45:43.691211Z",
     "start_time": "2024-10-01T04:24:21.778146Z"
    }
   },
   "cell_type": "code",
   "source": [
    "plotly_colors = {\n",
    "    \"SP_Brights_Green\": \"rgb(81, 255, 0)\",\n",
    "    \"SP_Brights_Light_Blue\": \"rgb(132, 255, 199)\",\n",
    "    \"SP_Brights_Blue\": \"rgb(81, 168, 255)\",\n",
    "    \"SP_Brights_Yellow\": \"rgb(229, 255, 28)\",\n",
    "    \"SP_Brights_Orange\": \"rgb(255, 196, 13)\",\n",
    "    \"SP_Brights_Orange_Red\": \"rgb(252, 45, 51)\",\n",
    "    \"SP_Dark_Green\": \"rgb(27, 168, 36)\",\n",
    "    \"SP_Dark_Light_Blue\": \"rgb(35, 150, 197)\",\n",
    "    \"SP_Dark_Blue\": \"rgb(58, 38, 147)\",\n",
    "    \"SP_Dark_Yellow\": \"rgb(209, 219, 0)\",\n",
    "    \"SP_Dark_Orange\": \"rgb(201, 126, 19)\",\n",
    "    \"SP_Dark_Orange_Red\": \"rgb(229, 57, 0)\"\n",
    "}"
   ],
   "id": "9b720dd9c9f4d425",
   "outputs": [],
   "execution_count": 13
  },
  {
   "metadata": {
    "ExecuteTime": {
     "end_time": "2024-10-13T14:45:43.691603Z",
     "start_time": "2024-10-04T20:50:11.649122Z"
    }
   },
   "cell_type": "code",
   "source": [
    "import plotly.graph_objects as go\n",
    "import numpy as np\n",
    "\n",
    "# Create figure\n",
    "fig = go.Figure()\n",
    "\n",
    "black = 'rgba(255,255,255,0)'\n",
    "\n",
    "# create linear space\n",
    "x_vals = np.linspace(0, 10, 100)\n",
    "\n",
    "# doubling references\n",
    "y_vals_1_1 = x_vals\n",
    "y_vals_1_2 = 2 * x_vals\n",
    "y_vals_1_4 = 4 * x_vals\n",
    "\n",
    "fig.add_trace(\n",
    "    go.Scatter(x=x_vals, y=y_vals_1_1, mode='lines', line=dict(dash='dash', color='black', width=1), name='1:1'))\n",
    "fig.add_trace(\n",
    "    go.Scatter(x=x_vals, y=y_vals_1_2, mode='lines', line=dict(dash='dash', color='black', width=1), name='1:2'))\n",
    "fig.add_trace(\n",
    "    go.Scatter(x=x_vals, y=y_vals_1_4, mode='lines', line=dict(dash='dash', color='black', width=1), name='1:4'))\n",
    "\n",
    "# x -> 1:1   real bad like\n",
    "fig.add_trace(go.Scatter(x=np.concatenate([x_vals, x_vals[::-1]]),\n",
    "                         y=np.concatenate([y_vals_1_1, np.zeros_like(x_vals)]),\n",
    "                         fill='toself',\n",
    "                         fillcolor=plotly_colors['SP_Brights_Orange_Red'],\n",
    "                         opacity=0.2,\n",
    "                         line=dict(color=black),\n",
    "                         showlegend=True))\n",
    "# 1:1 -> 1:2  meh\n",
    "fig.add_trace(go.Scatter(x=np.concatenate([x_vals, x_vals[::-1]]),\n",
    "                         y=np.concatenate([y_vals_1_1, y_vals_1_2[::-1]]),\n",
    "                         fill='toself',\n",
    "                         fillcolor=plotly_colors['SP_Dark_Orange_Red'],\n",
    "                         opacity=0.2,\n",
    "                         line=dict(color=black),\n",
    "                         showlegend=False))\n",
    "# 1:2 -> 1:4  ok\n",
    "fig.add_trace(go.Scatter(x=np.concatenate([x_vals, x_vals[::-1]]),\n",
    "                         y=np.concatenate([y_vals_1_2, y_vals_1_4[::-1]]),\n",
    "                         fill='toself',\n",
    "                         fillcolor=plotly_colors['SP_Dark_Green'],\n",
    "                         opacity=0.2,\n",
    "                         line=dict(color=black),\n",
    "                         showlegend=False))\n",
    "# y -> 1:4  cookin\n",
    "fig.add_trace(go.Scatter(x=np.concatenate([x_vals, np.zeros_like(x_vals)]),\n",
    "                         y=np.concatenate([y_vals_1_4, y_vals_1_4[::-1]]),\n",
    "                         fill='toself',\n",
    "                         fillcolor=plotly_colors['SP_Brights_Green'],\n",
    "                         line=dict(color=black),\n",
    "                         opacity=0.2,\n",
    "                         showlegend=False))\n",
    "\n",
    "fig.add_annotation(x=.9, y=.8, text=\"death\", showarrow=False, font=dict(size=20))\n",
    "fig.add_annotation(x=.8, y=.95, text=\"no doubling\", showarrow=False, font=dict(size=20))\n",
    "fig.add_annotation(x=.35, y=.95, text=\"1-2 doublings\", showarrow=False, font=dict(size=20))\n",
    "fig.add_annotation(x=.11, y=.95, text=\"≥2 doublings\", showarrow=False, font=dict(size=20))\n",
    "\n",
    "# theoretical and experimental curves\n",
    "\n",
    "fig.add_trace(go.Scatter(x=x_vals, y=1.43 * x_vals, mode='lines', line=dict(color='black'), name='∆argBR Best'))\n",
    "fig.add_trace(go.Scatter(x=x_vals, y=4.6 * x_vals, mode='lines', line=dict(color='purple'), name='theoretical'))\n",
    "\n",
    "fig.add_annotation(x=.2, y=.51, text=\"Y theoretical = 4.5\", showarrow=False, font=dict(size=16))\n",
    "fig.add_annotation(x=.42, y=.4, text=\"Y ∆argBR (best of) = 1.5\", showarrow=False, font=dict(size=16))\n",
    "\n",
    "# Update axes and layout for the plot\n",
    "fig.update_layout(\n",
    "    xaxis_title='ADP1 with CGP from Phase 1 (OD600)',\n",
    "    yaxis_title='ADP1 in Phase 2 (OD600)',\n",
    "    xaxis=dict(range=[0, 1]),\n",
    "    yaxis=dict(range=[0, 1]),\n",
    "    showlegend=False,\n",
    "    width=700,\n",
    "    height=700,\n",
    "    plot_bgcolor='rgba(0,0,0,0)'\n",
    ")\n",
    "\n",
    "fig"
   ],
   "id": "398ea1c37fd12419",
   "outputs": [
    {
     "ename": "NameError",
     "evalue": "name 'plotly_colors' is not defined",
     "output_type": "error",
     "traceback": [
      "\u001B[0;31m---------------------------------------------------------------------------\u001B[0m",
      "\u001B[0;31mNameError\u001B[0m                                 Traceback (most recent call last)",
      "Cell \u001B[0;32mIn[28], line 25\u001B[0m\n\u001B[1;32m     19\u001B[0m fig\u001B[38;5;241m.\u001B[39madd_trace(go\u001B[38;5;241m.\u001B[39mScatter(x\u001B[38;5;241m=\u001B[39mx_vals, y\u001B[38;5;241m=\u001B[39my_vals_1_4, mode\u001B[38;5;241m=\u001B[39m\u001B[38;5;124m'\u001B[39m\u001B[38;5;124mlines\u001B[39m\u001B[38;5;124m'\u001B[39m, line\u001B[38;5;241m=\u001B[39m\u001B[38;5;28mdict\u001B[39m(dash\u001B[38;5;241m=\u001B[39m\u001B[38;5;124m'\u001B[39m\u001B[38;5;124mdash\u001B[39m\u001B[38;5;124m'\u001B[39m, color\u001B[38;5;241m=\u001B[39m\u001B[38;5;124m'\u001B[39m\u001B[38;5;124mblack\u001B[39m\u001B[38;5;124m'\u001B[39m, width\u001B[38;5;241m=\u001B[39m\u001B[38;5;241m1\u001B[39m), name\u001B[38;5;241m=\u001B[39m\u001B[38;5;124m'\u001B[39m\u001B[38;5;124m1:4\u001B[39m\u001B[38;5;124m'\u001B[39m))\n\u001B[1;32m     21\u001B[0m \u001B[38;5;66;03m# x -> 1:1   real bad like\u001B[39;00m\n\u001B[1;32m     22\u001B[0m fig\u001B[38;5;241m.\u001B[39madd_trace(go\u001B[38;5;241m.\u001B[39mScatter(x\u001B[38;5;241m=\u001B[39mnp\u001B[38;5;241m.\u001B[39mconcatenate([x_vals, x_vals[::\u001B[38;5;241m-\u001B[39m\u001B[38;5;241m1\u001B[39m]]),\n\u001B[1;32m     23\u001B[0m                          y\u001B[38;5;241m=\u001B[39mnp\u001B[38;5;241m.\u001B[39mconcatenate([y_vals_1_1, np\u001B[38;5;241m.\u001B[39mzeros_like(x_vals)]),\n\u001B[1;32m     24\u001B[0m                          fill\u001B[38;5;241m=\u001B[39m\u001B[38;5;124m'\u001B[39m\u001B[38;5;124mtoself\u001B[39m\u001B[38;5;124m'\u001B[39m,\n\u001B[0;32m---> 25\u001B[0m                          fillcolor\u001B[38;5;241m=\u001B[39m\u001B[43mplotly_colors\u001B[49m[\u001B[38;5;124m'\u001B[39m\u001B[38;5;124mSP_Brights_Orange_Red\u001B[39m\u001B[38;5;124m'\u001B[39m],\n\u001B[1;32m     26\u001B[0m                          opacity\u001B[38;5;241m=\u001B[39m\u001B[38;5;241m0.2\u001B[39m,\n\u001B[1;32m     27\u001B[0m                          line\u001B[38;5;241m=\u001B[39m\u001B[38;5;28mdict\u001B[39m(color\u001B[38;5;241m=\u001B[39mblack),\n\u001B[1;32m     28\u001B[0m                          showlegend\u001B[38;5;241m=\u001B[39m\u001B[38;5;28;01mTrue\u001B[39;00m))\n\u001B[1;32m     29\u001B[0m \u001B[38;5;66;03m# 1:1 -> 1:2  meh\u001B[39;00m\n\u001B[1;32m     30\u001B[0m fig\u001B[38;5;241m.\u001B[39madd_trace(go\u001B[38;5;241m.\u001B[39mScatter(x\u001B[38;5;241m=\u001B[39mnp\u001B[38;5;241m.\u001B[39mconcatenate([x_vals, x_vals[::\u001B[38;5;241m-\u001B[39m\u001B[38;5;241m1\u001B[39m]]),\n\u001B[1;32m     31\u001B[0m                          y\u001B[38;5;241m=\u001B[39mnp\u001B[38;5;241m.\u001B[39mconcatenate([y_vals_1_1, y_vals_1_2[::\u001B[38;5;241m-\u001B[39m\u001B[38;5;241m1\u001B[39m]]),\n\u001B[1;32m     32\u001B[0m                          fill\u001B[38;5;241m=\u001B[39m\u001B[38;5;124m'\u001B[39m\u001B[38;5;124mtoself\u001B[39m\u001B[38;5;124m'\u001B[39m,\n\u001B[0;32m   (...)\u001B[0m\n\u001B[1;32m     35\u001B[0m                          line\u001B[38;5;241m=\u001B[39m\u001B[38;5;28mdict\u001B[39m(color\u001B[38;5;241m=\u001B[39mblack),\n\u001B[1;32m     36\u001B[0m                          showlegend\u001B[38;5;241m=\u001B[39m\u001B[38;5;28;01mFalse\u001B[39;00m))\n",
      "\u001B[0;31mNameError\u001B[0m: name 'plotly_colors' is not defined"
     ]
    }
   ],
   "execution_count": 28
  },
  {
   "metadata": {
    "ExecuteTime": {
     "end_time": "2024-10-13T14:45:43.691856Z",
     "start_time": "2024-10-04T20:50:14.947611Z"
    }
   },
   "cell_type": "code",
   "source": "fig.write_image('/Users/pasha/src/nu/posters/artifacts/yield_cgp_for_arg.pdf')\n",
   "id": "3da2f1e5dffc513a",
   "outputs": [],
   "execution_count": 29
  },
  {
   "metadata": {},
   "cell_type": "code",
   "outputs": [],
   "execution_count": null,
   "source": "",
   "id": "7668369d20deb9e"
  }
 ],
 "metadata": {
  "kernelspec": {
   "display_name": "Python 3",
   "language": "python",
   "name": "python3"
  },
  "language_info": {
   "codemirror_mode": {
    "name": "ipython",
    "version": 2
   },
   "file_extension": ".py",
   "mimetype": "text/x-python",
   "name": "python",
   "nbconvert_exporter": "python",
   "pygments_lexer": "ipython2",
   "version": "2.7.6"
  }
 },
 "nbformat": 4,
 "nbformat_minor": 5
}

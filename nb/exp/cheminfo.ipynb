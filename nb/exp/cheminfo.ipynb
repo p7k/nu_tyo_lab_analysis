{
 "cells": [
  {
   "cell_type": "code",
   "id": "initial_id",
   "metadata": {
    "collapsed": true,
    "ExecuteTime": {
     "end_time": "2024-09-22T04:57:53.300724Z",
     "start_time": "2024-09-22T04:57:36.630262Z"
    }
   },
   "source": [
    "from rdkit.Chem import PandasTools, MolFromSmiles\n",
    "\n",
    "import pandas as pd"
   ],
   "outputs": [],
   "execution_count": 1
  },
  {
   "metadata": {
    "ExecuteTime": {
     "end_time": "2024-09-22T06:39:13.405340Z",
     "start_time": "2024-09-22T06:39:13.400115Z"
    }
   },
   "cell_type": "code",
   "source": [
    "# https://pubchem.ncbi.nlm.nih.gov/compound/56928110\n",
    "cgp_chem_structure = 'C10H19N5O5'\n",
    "\n",
    "mw_C = 12.011\n",
    "mw_H = 1.008\n",
    "mw_O = 15.999\n",
    "mw_N = 14.007\n",
    "\n",
    "# molecular weight of CGP\n",
    "mw_cgp = sum([10 * mw_C, 19 * mw_H, 5 * mw_O, 5 * mw_N])\n",
    "mw_cgp"
   ],
   "id": "96ed46f3d9d719",
   "outputs": [
    {
     "data": {
      "text/plain": [
       "289.292"
      ]
     },
     "execution_count": 14,
     "metadata": {},
     "output_type": "execute_result"
    }
   ],
   "execution_count": 14
  },
  {
   "metadata": {
    "ExecuteTime": {
     "end_time": "2024-09-22T06:37:59.309512Z",
     "start_time": "2024-09-22T06:37:59.305732Z"
    }
   },
   "cell_type": "code",
   "source": [
    "# percent N in CGP\n",
    "5 * mw_N / mw_cgp * 100"
   ],
   "id": "a9a88216f3c01fd4",
   "outputs": [
    {
     "data": {
      "text/plain": [
       "24.209103604662417"
      ]
     },
     "execution_count": 12,
     "metadata": {},
     "output_type": "execute_result"
    }
   ],
   "execution_count": 12
  },
  {
   "metadata": {},
   "cell_type": "code",
   "outputs": [],
   "execution_count": null,
   "source": "",
   "id": "1536ad23fa428ac"
  },
  {
   "metadata": {
    "ExecuteTime": {
     "end_time": "2024-09-22T06:40:45.066421Z",
     "start_time": "2024-09-22T06:40:45.061536Z"
    }
   },
   "cell_type": "code",
   "source": "# df_main_reagents = pd.read_csv('data/cheminfo/main_reagents.csv')",
   "id": "f3ea2893ac0e65e8",
   "outputs": [],
   "execution_count": 15
  },
  {
   "metadata": {},
   "cell_type": "code",
   "outputs": [],
   "execution_count": null,
   "source": "",
   "id": "7640beac445947aa"
  }
 ],
 "metadata": {
  "kernelspec": {
   "display_name": "Python 3",
   "language": "python",
   "name": "python3"
  },
  "language_info": {
   "codemirror_mode": {
    "name": "ipython",
    "version": 2
   },
   "file_extension": ".py",
   "mimetype": "text/x-python",
   "name": "python",
   "nbconvert_exporter": "python",
   "pygments_lexer": "ipython2",
   "version": "2.7.6"
  }
 },
 "nbformat": 4,
 "nbformat_minor": 5
}
